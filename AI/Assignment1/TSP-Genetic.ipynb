{
 "cells": [
  {
   "cell_type": "code",
   "execution_count": 1,
   "metadata": {},
   "outputs": [],
   "source": [
    "import numpy as np\n",
    "import random as rd\n",
    "import time"
   ]
  },
  {
   "cell_type": "code",
   "execution_count": 2,
   "metadata": {},
   "outputs": [],
   "source": [
    "file = open('Sample Tours/reuc_100')\n",
    "cont = file.read().split('\\n')\n",
    "file.close()"
   ]
  },
  {
   "cell_type": "code",
   "execution_count": 3,
   "metadata": {},
   "outputs": [],
   "source": [
    "eu = (cont[0] == 'euclidean')\n",
    "n = int(cont[1])\n",
    "points = []\n",
    "for i in range(n):\n",
    "    points.append(list(map(float,cont[i+2].split())))\n",
    "dis = []\n",
    "for i in range(n,2*n):\n",
    "    dis.append(list(map(float,cont[i+2].split())))"
   ]
  },
  {
   "cell_type": "code",
   "execution_count": 41,
   "metadata": {},
   "outputs": [],
   "source": [
    "Q = 10000\n",
    "P = 1000\n",
    "K = 700\n",
    "mut = 0.2\n",
    "num_mut = 400"
   ]
  },
  {
   "cell_type": "code",
   "execution_count": 45,
   "metadata": {},
   "outputs": [],
   "source": [
    "travel_dic = {}\n",
    "def travel(path):\n",
    "    global travel_dic,n,dis\n",
    "    var = tuple(path)\n",
    "    if travel_dic.get(var,-1) != -1:\n",
    "        return travel_dic[var]\n",
    "    ans = 0\n",
    "    for j in range(n-1):\n",
    "        ans += dis[path[j]][path[j+1]]\n",
    "    ans += (dis[path[n-1]][path[0]])\n",
    "    travel_dic[var] = ans\n",
    "    return ans\n",
    "\n",
    "def get_ind(v,fit):\n",
    "    global P\n",
    "    l = 0\n",
    "    r = P\n",
    "    while (l < r):\n",
    "        m = (l+r)//2\n",
    "        if v > fit[m]:\n",
    "            l = m+1\n",
    "        else:\n",
    "            r = m\n",
    "    return l"
   ]
  },
  {
   "cell_type": "code",
   "execution_count": 46,
   "metadata": {},
   "outputs": [],
   "source": [
    "people = [[j for j in range(n)] for i in range(P)]\n",
    "for i in range(P):\n",
    "    rd.shuffle(people[i])"
   ]
  },
  {
   "cell_type": "code",
   "execution_count": 47,
   "metadata": {
    "scrolled": true
   },
   "outputs": [
    {
     "name": "stdout",
     "output_type": "stream",
     "text": [
      "5012.02990404063\n",
      "4787.48776415787\n",
      "4666.938523852519\n",
      "4575.87153228293\n",
      "4474.827622702851\n",
      "4400.787571096281\n",
      "4292.576486676911\n",
      "4257.392123469311\n",
      "4249.512731919111\n",
      "4249.512731919111\n",
      "4228.42394946171\n",
      "4167.636584407011\n",
      "4164.805467214611\n",
      "4162.823159813211\n",
      "4145.90596891971\n",
      "4066.22791553141\n",
      "4049.4134639033\n",
      "4038.49486802251\n"
     ]
    }
   ],
   "source": [
    "fit = [0]*P\n",
    "start = time.time()\n",
    "epoch = 0\n",
    "while time.time() < start + 295:\n",
    "    epoch+=1\n",
    "    tot = 0\n",
    "    for i in range(P):\n",
    "        fit[i] = Q/travel(people[i])\n",
    "        tot += fit[i]\n",
    "    fit[0] = fit[0]/tot\n",
    "    for i in range(1,P):\n",
    "        fit[i] = fit[i]/tot\n",
    "        fit[i] += (fit[i-1])\n",
    "    select = []\n",
    "    for i in range(P):\n",
    "        select.append(people[get_ind(rd.random(),fit)])\n",
    "    # donot sort select\n",
    "    offsprings = []\n",
    "    for i in range(0,P-1,2):\n",
    "        pos = {}\n",
    "        for j in range(n):\n",
    "            pos[select[i][j]] = j\n",
    "        bel = [-1]*n\n",
    "        cnt = 0\n",
    "        for j in range(n):\n",
    "            if bel[j] == -1:\n",
    "                cnt += 1\n",
    "                k = j\n",
    "                while bel[k] == -1:\n",
    "                    bel[k] = cnt\n",
    "                    k = pos[select[i+1][k]]\n",
    "        c1 = []\n",
    "        c2 = []\n",
    "        for j in range(n):\n",
    "            if bel[j]%2 == 1:\n",
    "                c1.append(select[i][j])\n",
    "                c2.append(select[i+1][j])\n",
    "            else:\n",
    "                c1.append(select[i+1][j])\n",
    "                c2.append(select[i][j])\n",
    "        offsprings.append(c1)\n",
    "        offsprings.append(c2)\n",
    "    people.sort(key = travel)\n",
    "    offsprings.sort(key = travel)\n",
    "    for i in range(K):\n",
    "        people[P-i-1] = offsprings[i]\n",
    "    if (epoch)%200 == 0:\n",
    "        print(travel(people[0]),flush=True)\n",
    "        # print(people[0],flush=True)\n",
    "    j = 0\n",
    "    for i in range(num_mut):\n",
    "        if rd.random() <= mut:\n",
    "            rd.shuffle(people[P-j-K])\n",
    "            j+=1"
   ]
  },
  {
   "cell_type": "code",
   "execution_count": null,
   "metadata": {},
   "outputs": [],
   "source": [
    "100 - 3546\n",
    "1000 - 3702\n",
    "-> on average 100 is getting more runs and slightly more accurate"
   ]
  },
  {
   "cell_type": "code",
   "execution_count": null,
   "metadata": {},
   "outputs": [],
   "source": [
    "100\n",
    "-> k = 90 is bad and oscillating\n",
    "-> k = 60, mut = 0.2,nmut = 30 is best as of now - 3709\n",
    "-> k = 70, mut = 0.2,nmut = 40 is best as of now - 3607\n",
    "1000\n",
    "-> k = 700, mut = 0.2,nmut = 400 is best as of now - 3583,4038"
   ]
  },
  {
   "cell_type": "code",
   "execution_count": null,
   "metadata": {},
   "outputs": [],
   "source": []
  },
  {
   "cell_type": "code",
   "execution_count": null,
   "metadata": {},
   "outputs": [],
   "source": []
  }
 ],
 "metadata": {
  "kernelspec": {
   "display_name": "Python 3",
   "language": "python",
   "name": "python3"
  },
  "language_info": {
   "codemirror_mode": {
    "name": "ipython",
    "version": 3
   },
   "file_extension": ".py",
   "mimetype": "text/x-python",
   "name": "python",
   "nbconvert_exporter": "python",
   "pygments_lexer": "ipython3",
   "version": "3.8.3"
  }
 },
 "nbformat": 4,
 "nbformat_minor": 4
}
