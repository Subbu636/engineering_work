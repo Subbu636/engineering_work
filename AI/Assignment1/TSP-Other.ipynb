{
 "cells": [
  {
   "cell_type": "code",
   "execution_count": 2,
   "metadata": {},
   "outputs": [],
   "source": [
    "import numpy as np\n",
    "import random as rd\n",
    "import time\n",
    "import heapq"
   ]
  },
  {
   "cell_type": "code",
   "execution_count": 3,
   "metadata": {},
   "outputs": [],
   "source": [
    "file1 = open('Sample Tours/reuc_100')\n",
    "file2 = open('Sample Tours/rnoneuc_100')\n",
    "file3 = open('Sample Tours/reuc_500')\n",
    "cont = file1.read().split('\\n')\n",
    "file1.close();file2.close();file3.close()"
   ]
  },
  {
   "cell_type": "code",
   "execution_count": 4,
   "metadata": {},
   "outputs": [],
   "source": [
    "eu = (cont[0] == 'euclidean')\n",
    "n = int(cont[1])\n",
    "points = []\n",
    "for i in range(n):\n",
    "    points.append(list(map(float,cont[i+2].split())))\n",
    "dis = []\n",
    "for i in range(n,2*n):\n",
    "    dis.append(list(map(float,cont[i+2].split())))"
   ]
  },
  {
   "cell_type": "code",
   "execution_count": 5,
   "metadata": {},
   "outputs": [],
   "source": [
    "def travel(goto):\n",
    "    global dis,n\n",
    "    ans = 0\n",
    "    for i in range(n):\n",
    "        ans += dis[i][goto[i]]\n",
    "    return ans\n",
    "def find(i,parent):\n",
    "    if i == parent[i]:\n",
    "        return i\n",
    "    return find(parent[i],parent)\n",
    "def union(i,j,parent,rank):\n",
    "    i = find(i,parent)\n",
    "    j = find(j,parent)\n",
    "    if i == j:\n",
    "        return False\n",
    "    if rank[i] > rank[j]:\n",
    "        parent[j] = i\n",
    "    elif rank[j] > rank[i]:\n",
    "        parent[i] = j\n",
    "    else:\n",
    "        rank[i]+=1\n",
    "        parent[j] = i\n",
    "    return True\n",
    "def check_goto(goto):\n",
    "    global n\n",
    "    visited = [0]*n\n",
    "    count = 0\n",
    "    x = goto[0]\n",
    "    visited[0] = 1\n",
    "    while visited[x] == 0:\n",
    "        visited[x] = 1\n",
    "        x = goto[x]\n",
    "        count+=1\n",
    "    return count == n-1"
   ]
  },
  {
   "cell_type": "code",
   "execution_count": 6,
   "metadata": {},
   "outputs": [
    {
     "name": "stdout",
     "output_type": "stream",
     "text": [
      "1631.0844438565707 True\n",
      "0.0059850215911865234\n",
      "1579.8267755077509 True\n",
      "0.06382894515991211\n",
      "(1579.8267755077509, [24, 28, 64, 51, 6, 27, 8, 80, 84, 47, 4, 20, 23, 78, 42, 72, 81, 62, 93, 22, 37, 0, 97, 98, 83, 48, 95, 50, 65, 85, 17, 54, 59, 13, 61, 53, 86, 32, 30, 52, 66, 75, 12, 82, 38, 88, 91, 11, 29, 25, 9, 2, 35, 68, 1, 14, 89, 63, 44, 49, 99, 79, 19, 31, 69, 43, 77, 41, 71, 15, 26, 36, 18, 60, 92, 90, 34, 55, 46, 10, 21, 96, 73, 94, 39, 74, 33, 3, 57, 7, 58, 67, 45, 70, 40, 56, 87, 5, 76, 16])\n"
     ]
    }
   ],
   "source": [
    "# edge exchange + savings\n",
    "start = time.time()\n",
    "ver = [i for i in range(n)]\n",
    "results = []\n",
    "for s in ver[:1]:\n",
    "    cost = []\n",
    "    for i in range(n):\n",
    "        for j in range(i+1,n):\n",
    "            if i != s and j != s:\n",
    "                cost.append((dis[i][s]+dis[j][s]-dis[i][j],i,j))\n",
    "    cost.sort(reverse=True)\n",
    "    chain = [[] for i in range(n)]\n",
    "    parent = [i for i in range(n)]\n",
    "    rank = [0]*n\n",
    "    e = 0;i = 0\n",
    "    while e < n-2:\n",
    "        if len(chain[cost[i][1]]) < 2 and len(chain[cost[i][2]]) < 2:\n",
    "            if union(cost[i][1],cost[i][2],parent,rank):\n",
    "                chain[cost[i][1]].append(cost[i][2])\n",
    "                chain[cost[i][2]].append(cost[i][1])\n",
    "                e+=1\n",
    "        i+=1\n",
    "    for i in range(n):\n",
    "        if i!=s and len(chain[i]) < 2:\n",
    "            chain[i].append(s)\n",
    "            chain[s].append(i)\n",
    "    goto = [-1]*n\n",
    "    goback = [-1]*n\n",
    "    par = s\n",
    "    ch = chain[s][0]\n",
    "    while ch != s:\n",
    "        goto[par] = ch\n",
    "        goback[ch] = par\n",
    "        x = chain[ch][0]\n",
    "        if x == par:\n",
    "            x = chain[ch][1]\n",
    "        par = ch\n",
    "        ch = x\n",
    "    goto[par] = ch\n",
    "    goback[ch] = par\n",
    "    print(travel(goto),check_goto(goto))\n",
    "    print(time.time()-start)\n",
    "    while True:\n",
    "        diff = 0;v1 = -1;v2 = -1\n",
    "        for i in range(n):\n",
    "            for j in range(i+1,n):\n",
    "                if goto[i] != j and goto[j] != i:\n",
    "                    d1 = dis[i][goto[i]]+dis[j][goto[j]]\n",
    "                    d2 = dis[i][j]+dis[goto[i]][goto[j]]\n",
    "                    if diff < d1-d2:\n",
    "                        v1 = i;v2 = j;diff = d1-d2\n",
    "        if diff == 0:\n",
    "            break\n",
    "        else:\n",
    "            gt1 = goto[v1];gt2 = goto[v2]\n",
    "            x = v1;y = v2\n",
    "            while x != gt1:\n",
    "                goto[x] = y;var = goback[y];goback[y] = x\n",
    "                x = y;y = var\n",
    "            goto[gt1] = gt2;goback[gt2] = gt1\n",
    "    results.append((travel(goto),goto))\n",
    "    print(results[-1][0],check_goto(goto))\n",
    "    print(time.time()-start)\n",
    "    start = time.time()\n",
    "print(min(results))"
   ]
  },
  {
   "cell_type": "code",
   "execution_count": null,
   "metadata": {},
   "outputs": [],
   "source": []
  },
  {
   "cell_type": "code",
   "execution_count": 9,
   "metadata": {
    "scrolled": true
   },
   "outputs": [
    {
     "name": "stdout",
     "output_type": "stream",
     "text": [
      "165.60947465896606\n",
      "9316.2573741958 True\n"
     ]
    }
   ],
   "source": [
    "# 2 vertice exchange Neighbour\n",
    "results = []\n",
    "for _ in range(1):\n",
    "    start = time.time()\n",
    "    rand_arr = [i for i in range(n)]\n",
    "    rd.shuffle(rand_arr)\n",
    "    goto = [-1]*n\n",
    "    goback = [-1]*n\n",
    "    for i in range(n-1):\n",
    "        goto[rand_arr[i]] = rand_arr[i+1]\n",
    "        goback[rand_arr[i+1]] = rand_arr[i]\n",
    "    goto[rand_arr[n-1]] = rand_arr[0]\n",
    "    goback[rand_arr[0]] = rand_arr[n-1]\n",
    "    while True:\n",
    "        diff = 0;v1 = -1;v2 = -1\n",
    "        for i in range(n):\n",
    "            for j in range(i+1,n):\n",
    "                if goto[i] != j and goto[j] != i:\n",
    "                    d1 = dis[i][goto[i]]+dis[goback[i]][i]+dis[j][goto[j]]+dis[goback[j]][j]\n",
    "                    d2 = dis[goback[i]][j]+dis[j][goto[i]]+dis[goback[j]][i]+dis[i][goto[j]]\n",
    "                    if diff < d1-d2:\n",
    "                        v1 = i;v2 = j;diff = d1-d2\n",
    "        if diff == 0:\n",
    "            break\n",
    "        else:\n",
    "            gt1,gb1,gt2,gb2 = goto[v1],goback[v1],goto[v2],goback[v2]\n",
    "            goto[gb1] = v2;goto[v2] = gt1;goto[gb2] = v1;goto[v1] = gt2\n",
    "            goback[v2] = gb1;goback[gt1] = v2;goback[v1] = gb2;goback[gt2] = v1\n",
    "    results.append((travel(goto),goto))\n",
    "    print(time.time()-start)\n",
    "    print(results[-1][0],check_goto(results[-1][1]))\n",
    "# print(min(results))"
   ]
  },
  {
   "cell_type": "code",
   "execution_count": null,
   "metadata": {},
   "outputs": [],
   "source": [
    "Normal\n",
    "164.71859455108643\n",
    "9100.718585892204 True\n",
    "Break\n",
    "165.60947465896606\n",
    "9316.2573741958 True"
   ]
  },
  {
   "cell_type": "code",
   "execution_count": 7,
   "metadata": {},
   "outputs": [
    {
     "name": "stdout",
     "output_type": "stream",
     "text": [
      "0.3919060230255127\n",
      "1655.2965371877406 True\n",
      "(1655.2965371877406, [24, 54, 64, 51, 6, 27, 8, 80, 84, 20, 4, 37, 23, 5, 42, 72, 99, 62, 93, 67, 11, 0, 19, 98, 83, 49, 95, 17, 12, 48, 38, 1, 85, 46, 61, 53, 86, 32, 44, 52, 66, 75, 73, 65, 58, 25, 78, 50, 92, 59, 9, 81, 35, 68, 57, 14, 89, 88, 90, 47, 96, 79, 97, 31, 69, 28, 77, 41, 71, 15, 87, 91, 18, 82, 29, 30, 34, 55, 13, 10, 21, 16, 43, 94, 39, 74, 33, 3, 45, 7, 63, 36, 2, 26, 40, 70, 56, 22, 76, 60])\n"
     ]
    }
   ],
   "source": [
    "# 2 edge exchange neighbour\n",
    "results = []\n",
    "for _ in range(1):\n",
    "    start = time.time()\n",
    "    rand_arr = [i for i in range(n)]\n",
    "    rd.shuffle(rand_arr)\n",
    "    goto = [-1]*n\n",
    "    goback = [-1]*n\n",
    "    for i in range(n-1):\n",
    "        goto[rand_arr[i]] = rand_arr[i+1]\n",
    "        goback[rand_arr[i+1]] = rand_arr[i]\n",
    "    goto[rand_arr[n-1]] = rand_arr[0]\n",
    "    goback[rand_arr[0]] = rand_arr[n-1]\n",
    "    while True:\n",
    "        diff = 0;v1 = -1;v2 = -1\n",
    "        for i in range(n):\n",
    "            for j in range(i+1,n):\n",
    "                if goto[i] != j and goto[j] != i:\n",
    "                    d1 = dis[i][goto[i]]+dis[j][goto[j]]\n",
    "                    d2 = dis[i][j]+dis[goto[i]][goto[j]]\n",
    "                    if diff < d1-d2:\n",
    "                        v1 = i;v2 = j;diff = d1-d2\n",
    "        if diff == 0:\n",
    "            break\n",
    "        else:\n",
    "            gt1 = goto[v1];gt2 = goto[v2]\n",
    "            x = v1;y = v2\n",
    "            while x != gt1:\n",
    "                goto[x] = y;var = goback[y];goback[y] = x\n",
    "                x = y;y = var\n",
    "            goto[gt1] = gt2;goback[gt2] = gt1\n",
    "    results.append((travel(goto),goto))\n",
    "    print(time.time()-start)\n",
    "    print(results[-1][0],check_goto(results[-1][1]))\n",
    "print(min(results))"
   ]
  },
  {
   "cell_type": "code",
   "execution_count": 17,
   "metadata": {
    "scrolled": true
   },
   "outputs": [
    {
     "name": "stdout",
     "output_type": "stream",
     "text": [
      "0.6215312480926514\n",
      "1655.2965371877406 True\n",
      "(1655.2965371877406, [24, 54, 64, 51, 6, 27, 8, 80, 84, 20, 4, 37, 23, 5, 42, 72, 99, 62, 93, 67, 11, 0, 19, 98, 83, 49, 95, 17, 12, 48, 38, 1, 85, 46, 61, 53, 86, 32, 44, 52, 66, 75, 73, 65, 58, 25, 78, 50, 92, 59, 9, 81, 35, 68, 57, 14, 89, 88, 90, 47, 96, 79, 97, 31, 69, 28, 77, 41, 71, 15, 87, 91, 18, 82, 29, 30, 34, 55, 13, 10, 21, 16, 43, 94, 39, 74, 33, 3, 45, 7, 63, 36, 2, 26, 40, 70, 56, 22, 76, 60])\n"
     ]
    }
   ],
   "source": [
    "# best first search\n"
   ]
  },
  {
   "cell_type": "code",
   "execution_count": null,
   "metadata": {},
   "outputs": [],
   "source": []
  },
  {
   "cell_type": "code",
   "execution_count": 17,
   "metadata": {},
   "outputs": [
    {
     "data": {
      "text/plain": [
       "True"
      ]
     },
     "execution_count": 17,
     "metadata": {},
     "output_type": "execute_result"
    }
   ],
   "source": [
    "# getteing a random goto array\n",
    "rand_arr = [i for i in range(n)]\n",
    "rd.shuffle(rand_arr)\n",
    "goto = [-1]*n\n",
    "goback = [-1]*n\n",
    "for i in range(n-1):\n",
    "    goto[rand_arr[i]] = rand_arr[i+1]\n",
    "    goback[rand_arr[i+1]] = rand_arr[i]\n",
    "goto[rand_arr[n-1]] = rand_arr[0]\n",
    "goback[rand_arr[0]] = rand_arr[n-1]\n",
    "check_goto(goto)"
   ]
  },
  {
   "cell_type": "code",
   "execution_count": null,
   "metadata": {},
   "outputs": [],
   "source": []
  },
  {
   "cell_type": "code",
   "execution_count": null,
   "metadata": {},
   "outputs": [],
   "source": [
    "# Savings algorithm\n",
    "ver = [i for i in range(n)]\n",
    "rd.shuffle(ver)\n",
    "s = ver[0]\n",
    "cost = []\n",
    "for i in range(n):\n",
    "    for j in range(i+1,n):\n",
    "        if i != s and j != s:\n",
    "            cost.append((dis[i][s]+dis[j][s]-dis[i][j],i,j))\n",
    "cost.sort(reverse=True)\n",
    "chain = [[] for i in range(n)]\n",
    "parent = [i for i in range(n)]\n",
    "rank = [0]*n\n",
    "e = 0;i = 0\n",
    "while e < n-2:\n",
    "    if len(chain[cost[i][1]]) < 2 and len(chain[cost[i][2]]) < 2:\n",
    "        if union(cost[i][1],cost[i][2],parent,rank):\n",
    "            chain[cost[i][1]].append(cost[i][2])\n",
    "            chain[cost[i][2]].append(cost[i][1])\n",
    "            e+=1\n",
    "    i+=1\n",
    "for i in range(n):\n",
    "    if i!=s and len(chain[i]) < 2:\n",
    "        chain[i].append(s)\n",
    "        chain[s].append(i)\n",
    "goto = [-1]*n\n",
    "goback = [-1]*n\n",
    "par = s\n",
    "ch = chain[s][0]\n",
    "while ch != s:\n",
    "    goto[par] = ch\n",
    "    goback[ch] = par\n",
    "    x = chain[ch][0]\n",
    "    if x == par:\n",
    "        x = chain[ch][1]\n",
    "    par = ch\n",
    "    ch = x\n",
    "goto[par] = ch\n",
    "goback[ch] = par"
   ]
  },
  {
   "cell_type": "code",
   "execution_count": null,
   "metadata": {},
   "outputs": [],
   "source": []
  },
  {
   "cell_type": "code",
   "execution_count": null,
   "metadata": {},
   "outputs": [],
   "source": []
  },
  {
   "cell_type": "code",
   "execution_count": null,
   "metadata": {},
   "outputs": [],
   "source": []
  }
 ],
 "metadata": {
  "kernelspec": {
   "display_name": "Python 3",
   "language": "python",
   "name": "python3"
  },
  "language_info": {
   "codemirror_mode": {
    "name": "ipython",
    "version": 3
   },
   "file_extension": ".py",
   "mimetype": "text/x-python",
   "name": "python",
   "nbconvert_exporter": "python",
   "pygments_lexer": "ipython3",
   "version": "3.8.3"
  }
 },
 "nbformat": 4,
 "nbformat_minor": 4
}
