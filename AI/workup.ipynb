{
 "cells": [
  {
   "cell_type": "code",
   "execution_count": 4,
   "metadata": {},
   "outputs": [],
   "source": [
    "from collections import deque\n",
    "que = deque()\n",
    "parent = {}\n",
    "que.append((7,0,0))\n",
    "parent[(7,0,0)] = (0,0,0)\n",
    "while que:\n",
    "    a,b,c = que.popleft()\n",
    "#     if a == 6 or b == 6 or c == 6:\n",
    "#         var = (a,b,c)\n",
    "#         break\n",
    "    if a > 0:\n",
    "        if b < 5 and parent.get((a-min(5-b,a),b+min(5-b,a),c),None) == None:\n",
    "            que.append((a-min(5-b,a),b+min(5-b,a),c))\n",
    "            parent[(a-min(5-b,a),b+min(5-b,a),c)] = (a,b,c)\n",
    "        if c < 2 and parent.get((a-min(2-c,a),b,c+min(2-c,a)),None) == None:\n",
    "            que.append((a-min(2-c,a),b,c+min(2-c,a)))\n",
    "            parent[(a-min(2-c,a),b,c+min(2-c,a))] = (a,b,c)\n",
    "    if b > 0:\n",
    "        if a < 7 and parent.get((a+min(7-a,b),b-min(7-a,b),c),None) == None:\n",
    "            que.append((a+min(7-a,b),b-min(7-a,b),c))\n",
    "            parent[(a+min(7-a,b),b-min(7-a,b),c)] = (a,b,c)\n",
    "        if c < 2 and parent.get((a,b-min(2-c,b),c+min(2-c,b)),None) == None:\n",
    "            que.append((a,b-min(2-c,b),c+min(2-c,b)))\n",
    "            parent[(a,b-min(2-c,b),c+min(2-c,b))] = (a,b,c)\n",
    "    if c > 0:\n",
    "        if b < 5 and parent.get((a,b+min(5-b,c),c-min(5-b,c)),None) == None:\n",
    "            que.append((a,b+min(5-b,c),c-min(5-b,c)))\n",
    "            parent[(a,b+min(5-b,c),c-min(5-b,c))] = (a,b,c)\n",
    "        if a < 7 and parent.get((a+min(7-a,c),b,c-min(7-a,c)),None) == None:\n",
    "            que.append((a+min(7-a,c),b,c-min(7-a,c)))\n",
    "            parent[(a+min(7-a,c),b,c-min(7-a,c))] = (a,b,c)"
   ]
  },
  {
   "cell_type": "code",
   "execution_count": 5,
   "metadata": {},
   "outputs": [
    {
     "name": "stdout",
     "output_type": "stream",
     "text": [
      "(1, 5, 1)\n",
      "(1, 4, 2)\n",
      "(3, 4, 0)\n",
      "(3, 2, 2)\n",
      "(5, 2, 0)\n",
      "(5, 0, 2)\n",
      "(7, 0, 0)\n",
      "6\n"
     ]
    }
   ],
   "source": [
    "x = (1,5,1)\n",
    "c = -1\n",
    "while x != (0,0,0):\n",
    "    print(x)\n",
    "    c+=1\n",
    "    x = parent[x]\n",
    "print(c)"
   ]
  },
  {
   "cell_type": "code",
   "execution_count": 6,
   "metadata": {},
   "outputs": [
    {
     "name": "stdout",
     "output_type": "stream",
     "text": [
      "(7, 0, 0)\n",
      "(2, 5, 0)\n",
      "(5, 0, 2)\n",
      "(0, 5, 2)\n",
      "(2, 3, 2)\n",
      "(5, 2, 0)\n",
      "(4, 3, 0)\n",
      "(3, 2, 2)\n",
      "(4, 1, 2)\n",
      "(3, 4, 0)\n",
      "(6, 1, 0)\n",
      "(1, 4, 2)\n",
      "(6, 0, 1)\n",
      "(1, 5, 1)\n",
      "14\n"
     ]
    }
   ],
   "source": [
    "j = 0\n",
    "for i in parent:\n",
    "    print(i)\n",
    "    j+=1\n",
    "print(j)"
   ]
  },
  {
   "cell_type": "code",
   "execution_count": null,
   "metadata": {},
   "outputs": [],
   "source": []
  }
 ],
 "metadata": {
  "kernelspec": {
   "display_name": "Python 3",
   "language": "python",
   "name": "python3"
  },
  "language_info": {
   "codemirror_mode": {
    "name": "ipython",
    "version": 3
   },
   "file_extension": ".py",
   "mimetype": "text/x-python",
   "name": "python",
   "nbconvert_exporter": "python",
   "pygments_lexer": "ipython3",
   "version": "3.8.3"
  }
 },
 "nbformat": 4,
 "nbformat_minor": 4
}
