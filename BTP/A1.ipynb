{
 "metadata": {
  "language_info": {
   "codemirror_mode": {
    "name": "ipython",
    "version": 3
   },
   "file_extension": ".py",
   "mimetype": "text/x-python",
   "name": "python",
   "nbconvert_exporter": "python",
   "pygments_lexer": "ipython3",
   "version": "3.8.3-final"
  },
  "orig_nbformat": 2,
  "kernelspec": {
   "name": "python3",
   "display_name": "Python 3",
   "language": "python"
  }
 },
 "nbformat": 4,
 "nbformat_minor": 2,
 "cells": [
  {
   "cell_type": "code",
   "execution_count": 1,
   "metadata": {},
   "outputs": [],
   "source": [
    "#imports\n",
    "import random as rd\n",
    "import numpy as np"
   ]
  },
  {
   "cell_type": "code",
   "execution_count": null,
   "metadata": {},
   "outputs": [],
   "source": [
    "# parameters rand\n",
    "en = 10\n",
    "ch = 10\n",
    "packets = 100\n",
    "P = []\n",
    "for i in range(ch):\n",
    "    var = [rd.random() for j in range(ch)]\n",
    "    s = sum(var)\n",
    "    for j in range(ch):\n",
    "        var[j] = var[j]/s\n",
    "    P.append(var)\n",
    "# P[i][j] prob that it goes to jth channel from ith channel\n",
    "error_matrix = [[rd.random() for j in range(ch)] for i in range(en)]\n",
    "# error_matrix[i][j] prob that ith encoder in jth channel is an error"
   ]
  },
  {
   "cell_type": "code",
   "execution_count": null,
   "metadata": {},
   "outputs": [],
   "source": [
    "# print(P)\n",
    "# print(error_matrix)"
   ]
  },
  {
   "cell_type": "code",
   "execution_count": 3,
   "metadata": {},
   "outputs": [],
   "source": [
    "# parameters custom\n",
    "en = 3\n",
    "ch = 3\n",
    "pckts = 100\n",
    "P = np.array([[.1, .2, .7],[.5, .3, .2],[.3, .3, .4]])\n",
    "error_matrix = np.array([[.5,.6,.4],[.2,.3,.1],[.4,.5,.3]])\n",
    "rate = np.array([10,4,8])"
   ]
  },
  {
   "cell_type": "code",
   "execution_count": null,
   "metadata": {},
   "outputs": [],
   "source": [
    "# functions\n",
    "def sample(prob): # BS can be done\n",
    "    r = rd.random();i = 0\n",
    "    while r > prob[i]:\n",
    "        r-=prob[i]\n",
    "        i+=1\n",
    "    return i\n",
    "\n",
    "def bernoulli(prob):\n",
    "    if rd.random() > prob:\n",
    "        return 1\n",
    "    return 0"
   ]
  },
  {
   "cell_type": "code",
   "execution_count": null,
   "metadata": {},
   "outputs": [],
   "source": [
    "# setup\n",
    "lamda = [];encoder = []\n",
    "channel = []; p = []; b = []\n",
    "t = 0\n",
    "v = []\n",
    "for i in range(ch):\n",
    "    var = [rd.random() for j in range(ch)]\n",
    "    s = sum(var)\n",
    "    for j in range(ch):\n",
    "        var[j] = var[j]/s\n",
    "    v.append(var)\n",
    "p.append(v) # estimate of P\n",
    "lamda.append([1/en]*en) # prob of selecting each encoder\n",
    "channel.append(rd.randint(0,ch-1))\n",
    "encoder.append(0)\n",
    "b.append(0)"
   ]
  },
  {
   "cell_type": "code",
   "execution_count": null,
   "metadata": {},
   "outputs": [],
   "source": []
  },
  {
   "cell_type": "code",
   "execution_count": null,
   "metadata": {},
   "outputs": [],
   "source": [
    "# type 2 Algorithm\n",
    "T = 1000\n",
    "while t < T:\n",
    "    encoder.append(sample(lamda[t]))\n",
    "    channel.append(sample(P[channel[t]]))\n",
    "    b.append(bernoulli(error_matrix[encoder[t+1]][channel[t+1]]))\n",
    "    print(encoder[t+1],channel[t+1],b[t+1])\n",
    "    # implement MLE and update\n",
    "    t+=1 "
   ]
  },
  {
   "cell_type": "code",
   "execution_count": null,
   "metadata": {},
   "outputs": [],
   "source": []
  },
  {
   "cell_type": "code",
   "execution_count": null,
   "metadata": {},
   "outputs": [],
   "source": []
  },
  {
   "cell_type": "code",
   "execution_count": null,
   "metadata": {},
   "outputs": [],
   "source": []
  },
  {
   "cell_type": "code",
   "execution_count": null,
   "metadata": {},
   "outputs": [],
   "source": []
  }
 ]
}