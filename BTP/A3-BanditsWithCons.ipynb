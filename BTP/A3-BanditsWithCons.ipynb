{
 "metadata": {
  "language_info": {
   "codemirror_mode": {
    "name": "ipython",
    "version": 3
   },
   "file_extension": ".py",
   "mimetype": "text/x-python",
   "name": "python",
   "nbconvert_exporter": "python",
   "pygments_lexer": "ipython3",
   "version": "3.8.3-final"
  },
  "orig_nbformat": 2,
  "kernelspec": {
   "name": "python3",
   "display_name": "Python 3",
   "language": "python"
  }
 },
 "nbformat": 4,
 "nbformat_minor": 2,
 "cells": [
  {
   "cell_type": "code",
   "execution_count": null,
   "metadata": {},
   "outputs": [],
   "source": [
    "#imports\n",
    "import numpy as np\n",
    "import numpy.random as rd\n",
    "import math\n",
    "from scipy.optimize import linprog\n",
    "import matplotlib.pyplot as plt\n",
    "from hmmlearn import hmm"
   ]
  },
  {
   "cell_type": "code",
   "execution_count": null,
   "metadata": {},
   "outputs": [],
   "source": [
    "def sample(prob): # BS can be done\n",
    "    r = rd.random();i = 0\n",
    "    while r > prob[i]:\n",
    "        r-=prob[i]\n",
    "        i+=1\n",
    "    return i\n",
    "\n",
    "def bernoulli(prob):\n",
    "    if rd.random() > prob:\n",
    "        return 1\n",
    "    return 0\n",
    "\n",
    "def row_normalize(arr):\n",
    "    arr = np.array(arr,float)\n",
    "    for i in range(np.shape(arr)[0]):\n",
    "        arr[i] = arr[i]/np.sum(arr[i])\n",
    "    return arr\n",
    "\n",
    "def steady_state_prob(matrix):\n",
    "    \"\"\"\n",
    "    This function calculates relative throughput from a probability matrix\n",
    "    :param matrix: the probability matrix\n",
    "    :return: A list of relative throughput values\n",
    "    \"\"\"\n",
    "    a_list = []\n",
    "    b_list = []\n",
    "    for v in matrix:\n",
    "        a_list.append(1)\n",
    "        b_list.append(0)\n",
    "    b_list.append(1)\n",
    "    A = np.append(np.transpose(matrix) - np.identity(len(matrix)), [a_list], axis=0)\n",
    "    b = np.transpose(np.array(b_list))\n",
    "    return np.linalg.solve(np.transpose(A).dot(A), np.transpose(A).dot(b))"
   ]
  },
  {
   "cell_type": "code",
   "execution_count": null,
   "metadata": {},
   "outputs": [],
   "source": [
    "en = 3\n",
    "ch = 3\n",
    "P = np.array([[.1, .2, .7],[.5, .3, .2],[.3, .3, .4]])\n",
    "E = np.array([[.5,.6,.4],[.2,.3,.1],[.4,.5,.3]])\n",
    "rate = np.array([8.,6.,4.])\n",
    "# E = np.array([[.6,.9,.3],[.3,.5,.1],[.4,.1,.05]])\n",
    "# P = row_normalize(np.random.rand(ch,ch)/2)\n",
    "# E = np.random.rand(en,ch)/2\n",
    "# rate = np.array([np.random.randint(1,10) for i in range(en)])\n",
    "lr = 0.01\n",
    "eps = .5\n",
    "eps_min = 0.01\n",
    "print(P)\n",
    "print(E)\n",
    "ub = np.sum(E*steady_state_prob(P),axis=1)\n",
    "print(min(ub))"
   ]
  },
  {
   "cell_type": "code",
   "execution_count": null,
   "metadata": {},
   "outputs": [],
   "source": [
    "tol = 0.25\n",
    "ltemp = linprog(c = -1*rate, A_ub = [ub], b_ub = [tol],A_eq = np.ones((1,en)),b_eq = [1.0],method='simplex')\n",
    "print(np.dot(ltemp.x,rate), np.sum(ltemp.x),ltemp.con, ltemp.success, np.dot(ltemp.x,ub))\n",
    "print(ltemp.x)"
   ]
  },
  {
   "cell_type": "code",
   "execution_count": null,
   "metadata": {},
   "outputs": [],
   "source": [
    "print(en,ch,tol,np.dot(ltemp.x,rate),min(ub))\n",
    "print(P)\n",
    "print(E)\n",
    "print(ltemp.x)"
   ]
  },
  {
   "cell_type": "code",
   "execution_count": null,
   "metadata": {},
   "outputs": [],
   "source": [
    "lamda = [np.ones(en)/en]\n",
    "chnl = []; b = [] ; enc = []\n",
    "emp_rate = [0]; emp_err = [0]\n",
    "chnl.append(rd.randint(0,ch-1))\n",
    "enc.append(rd.randint(0,en-1))\n",
    "b.append(0)\n",
    "t = 0; conf = 0.1; reg = 0.1\n",
    "alfa_r = 1; alfa_c = 1"
   ]
  },
  {
   "cell_type": "code",
   "execution_count": null,
   "metadata": {},
   "outputs": [],
   "source": [
    "np.identity(en) - np.linalg.norm(np.transpose([lamda[-1]])*lamda[-1])"
   ]
  },
  {
   "cell_type": "code",
   "execution_count": null,
   "metadata": {},
   "outputs": [],
   "source": [
    "\"\"\"\n",
    "x -> lamda\n",
    "r -> <lamda,rate> - scalar?\n",
    "c -> ?\n",
    "\"\"\"\n",
    "v = np.transpose([lamda[0]])*lamda[0]\n",
    "d = np.linalg.norm(v)\n",
    "Iv = np.identity(en) - v/(d*d)\n",
    "I = np.identity(en)\n",
    "cTo = [0]\n",
    "T = 1000\n",
    "while t < T:\n",
    "    cTo.append(c[t] - (np.dot(x[t],c[0])/np.linalg.norm(x[0]))*c[0])\n",
    "    sigT = reg*I\n",
    "    for i in range(t+1):\n",
    "        sigT += (x[i]*np.transpose(x[i]))\n",
    "    sigTo = reg*Iv\n",
    "    for i in range(t+1):\n",
    "        sigTo += (Iv*x[i]*np.transpose(Iv*x[i]))\n",
    "    tetaT = np.zeros(en)\n",
    "    for i in range(t+1):\n",
    "        tetaT += r[i]*x[i]\n",
    "    tetaT = np.linalg.inv(sigT)*tetaT\n",
    "    muTo = np.zeros((en,ch))\n",
    "    for i in range(t+1):\n",
    "        muTo += (cTo[i])*(Iv*x[i])\n",
    "    muTo = np.linalg.inv(sigTo)*muTo\n",
    "    t+=1"
   ]
  },
  {
   "cell_type": "code",
   "execution_count": null,
   "metadata": {},
   "outputs": [],
   "source": [
    "# print(p[0])\n",
    "print('estimated trans\\n',p[-1])\n",
    "print('real trans\\n',P)\n",
    "print('lamda\\n',lamda[-1])\n",
    "# print(sprob)\n",
    "# print(model.transmat_)"
   ]
  },
  {
   "cell_type": "code",
   "execution_count": null,
   "metadata": {},
   "outputs": [],
   "source": [
    "stat = 1\n",
    "error_plot = 1.0 - np.copy(b)\n",
    "for i in range(1,len(error_plot)):\n",
    "    error_plot[i] += (error_plot[i-1]*(i-1))\n",
    "    error_plot[i] =error_plot[i]/i\n",
    "plt.plot(error_plot[stat:])\n",
    "plt.title('empirical error:no. of 1s obtained over interval')\n",
    "plt.show()\n",
    "rate_plot = np.copy(emp_rate)\n",
    "for i in range(1,len(rate_plot)):\n",
    "    rate_plot[i] += (rate_plot[i-1]*(i-1))\n",
    "    rate_plot[i] =rate_plot[i]/i\n",
    "plt.plot(rate_plot[stat:])\n",
    "plt.title('average rate:sum[over time](R*lamda)/t')\n",
    "plt.show()"
   ]
  },
  {
   "cell_type": "code",
   "execution_count": null,
   "metadata": {},
   "outputs": [],
   "source": [
    "print(rate_plot[-1],error_plot[-1])"
   ]
  },
  {
   "cell_type": "code",
   "execution_count": null,
   "metadata": {},
   "outputs": [],
   "source": [
    "err = []; s = np.shape(P)[0]*np.shape(P)[1]\n",
    "for i in p:\n",
    "    err.append(np.sqrt(np.sum(np.square(P-i))/s)*100)\n",
    "print(err[-1])\n",
    "plt.plot(err)\n",
    "plt.title('estimation error on transition matrix')\n",
    "plt.show()"
   ]
  },
  {
   "cell_type": "code",
   "execution_count": null,
   "metadata": {},
   "outputs": [],
   "source": [
    "rate_plot = [0]\n",
    "for i in range(1,len(enc)):\n",
    "    rate_plot.append((rate_plot[i-1]*(i-1))+rate[enc[i]])\n",
    "    rate_plot[i] =rate_plot[i]/i\n",
    "print(rate_plot[-1])\n",
    "plt.plot(rate_plot[stat:])\n",
    "plt.title('rate based on selected channels at each time (ignoring errors)')\n",
    "plt.show()"
   ]
  },
  {
   "cell_type": "code",
   "execution_count": null,
   "metadata": {},
   "outputs": [],
   "source": [
    "err = []; s = np.shape(P)[0]*np.shape(P)[1]\n",
    "for i in p:\n",
    "    err.append(np.sqrt(np.sum(np.square(steady_state_prob(P)-steady_state_prob(i)))/3)*100)\n",
    "print(steady_state_prob(p[-1]))\n",
    "print(steady_state_prob(P))\n",
    "print(err[-1])\n",
    "plt.plot(err)\n",
    "plt.title('steady estimation error on transition matrix')\n",
    "plt.show() "
   ]
  },
  {
   "cell_type": "code",
   "execution_count": null,
   "metadata": {},
   "outputs": [],
   "source": []
  },
  {
   "cell_type": "code",
   "execution_count": null,
   "metadata": {},
   "outputs": [],
   "source": []
  },
  {
   "cell_type": "code",
   "execution_count": null,
   "metadata": {},
   "outputs": [],
   "source": [
    "T = 10000\n",
    "chnl = [0];enc = [1];b = [0]\n",
    "t = 0\n",
    "while t < T:\n",
    "    enc.append(1)\n",
    "    chnl.append(sample(P[chnl[-1]]))\n",
    "    b.append(bernoulli(E[enc[-1]][chnl[-1]]))\n",
    "    t+=1"
   ]
  },
  {
   "cell_type": "code",
   "execution_count": null,
   "metadata": {},
   "outputs": [],
   "source": [
    "# reference\n",
    "model = hmm.MultinomialHMM(n_components=3, algorithm='viterbi', params='t', init_params='t',n_iter=100, tol=1.0e-2)\n",
    "model.emissionprob_ = [[E[1][0],1.0-E[1][0]],[E[1][1],1.0-E[1][1]],[E[1][2],1.0-E[1][2]]]\n",
    "model.startprob_ = np.ones(ch)/ch\n",
    "model.fit([b])\n",
    "# print(model.emissionprob_,model.startprob_)\n",
    "print(model.transmat_,P)\n",
    "s = np.shape(P)[0]*np.shape(P)[1]\n",
    "print('Error',np.sqrt(np.sum(np.square(P-model.transmat_))/s)*100)"
   ]
  },
  {
   "cell_type": "code",
   "execution_count": null,
   "metadata": {},
   "outputs": [],
   "source": []
  },
  {
   "cell_type": "code",
   "execution_count": null,
   "metadata": {},
   "outputs": [],
   "source": []
  }
 ]
}