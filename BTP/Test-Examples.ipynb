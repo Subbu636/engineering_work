{
 "metadata": {
  "language_info": {
   "codemirror_mode": {
    "name": "ipython",
    "version": 3
   },
   "file_extension": ".py",
   "mimetype": "text/x-python",
   "name": "python",
   "nbconvert_exporter": "python",
   "pygments_lexer": "ipython3",
   "version": "3.8.5-final"
  },
  "orig_nbformat": 2,
  "kernelspec": {
   "name": "python385jvsc74a57bd0c3a226ca10694e86a86e7e398d2f42f6782d87b0843a5284797c32d3bb7a03b2",
   "display_name": "Python 3.8.5 64-bit (conda)"
  }
 },
 "nbformat": 4,
 "nbformat_minor": 2,
 "cells": [
  {
   "cell_type": "code",
   "execution_count": 2,
   "metadata": {},
   "outputs": [],
   "source": [
    "import numpy as np\n",
    "import numpy.random as rd\n",
    "import numpy.linalg as linalg\n",
    "import math\n",
    "from scipy.optimize import linprog\n",
    "import matplotlib.pyplot as plt\n",
    "from hmmlearn import hmm"
   ]
  },
  {
   "cell_type": "code",
   "execution_count": 3,
   "metadata": {},
   "outputs": [],
   "source": [
    "def sample(prob): # BS can be done\n",
    "    r = rd.random();i = 0\n",
    "    while r > prob[i]:\n",
    "        r-=prob[i]\n",
    "        i+=1\n",
    "    return i\n",
    "\n",
    "def bernoulli(prob):\n",
    "    if rd.random() > prob:\n",
    "        return 1.0\n",
    "    return 0.0\n",
    "\n",
    "def row_normalize(arr):\n",
    "    arr = np.array(arr,float)\n",
    "    for i in range(np.shape(arr)[0]):\n",
    "        arr[i] = arr[i]/np.sum(arr[i])\n",
    "    return arr\n",
    "\n",
    "def dot(x,y):\n",
    "    return np.sum(np.multiply(x,y))\n",
    "\n",
    "def steady_state_prob(matrix):\n",
    "    \"\"\"\n",
    "    This function calculates relative throughput from a probability matrix\n",
    "    :param matrix: the probability matrix\n",
    "    :return: A list of relative throughput values\n",
    "    \"\"\"\n",
    "    a_list = []\n",
    "    b_list = []\n",
    "    for v in matrix:\n",
    "        a_list.append(1)\n",
    "        b_list.append(0)\n",
    "    b_list.append(1)\n",
    "    A = np.append(np.transpose(matrix) - np.identity(len(matrix)), [a_list], axis=0)\n",
    "    b = np.transpose(np.array(b_list))\n",
    "    return np.linalg.solve(np.transpose(A).dot(A), np.transpose(A).dot(b))"
   ]
  },
  {
   "cell_type": "code",
   "execution_count": 4,
   "metadata": {},
   "outputs": [
    {
     "output_type": "stream",
     "name": "stdout",
     "text": [
      "[0.2 0.4 0.4]\n[[0.5 0.6 0.4]\n [0.2 0.3 0.1]\n [0.4 0.5 0.3]]\n[8. 6. 4.]\n"
     ]
    }
   ],
   "source": [
    "# example 1\n",
    "en = 3\n",
    "ch = 3\n",
    "P = np.array([.2,.4,.4])\n",
    "# P = np.array([[.1, .2, .7],[.5, .3, .2],[.3, .3, .4]])\n",
    "E = np.array([[.5,.6,.4],[.2,.3,.1],[.4,.5,.3]])\n",
    "R = np.array([8.,6.,4.])\n",
    "tol = .3\n",
    "print(P)\n",
    "print(E)\n",
    "print(R)"
   ]
  },
  {
   "cell_type": "code",
   "execution_count": 6,
   "metadata": {},
   "outputs": [
    {
     "output_type": "stream",
     "name": "stdout",
     "text": [
      "0.2\n6.666666666666666 1.0 [0.] True 0.3\n[0.33333333 0.66666667 0.        ]\n[0. 1. 0.] 0.1933444204244802\n"
     ]
    }
   ],
   "source": [
    "ub = np.sum(E*P,axis=1)\n",
    "ltemp = linprog(c = -1*R, A_ub = [ub], b_ub = [tol],A_eq = np.ones((1,en)),b_eq = [1.0],method='simplex')\n",
    "print(min(ub))\n",
    "print(dot(ltemp.x,R), np.sum(ltemp.x),ltemp.con, ltemp.success, dot(ltemp.x,ub))\n",
    "org_x = ltemp.x\n",
    "print(ltemp.x)\n",
    "# finding safe x0\n",
    "ub = E.transpose();tol_arr = [tol]*ch\n",
    "ltemp = linprog(c=np.zeros(en),A_ub = ub,b_ub=tol_arr,A_eq = np.ones((1,en)),b_eq = [1.0],method='revised simplex',options={'tol': 1.0e-3})\n",
    "x0 = np.transpose(row_normalize([ltemp.x+(0.0)])) # noise to safe to avoid singular matrices, 1.0e-2 is working\n",
    "norm_x0 = linalg.norm(x0)\n",
    "e0 = x0/norm_x0 # safe vector\n",
    "e0_trans = e0.transpose()\n",
    "en0 = sample(x0.transpose()[0])\n",
    "b0 = bernoulli(E[en0][sample(P)])\n",
    "yt = (E[en0]*(1-b0))+((1-E[en0])*b0)\n",
    "yt = row_normalize([np.exp(yt)]).transpose()\n",
    "c0 = dot(x0,np.matmul(E,yt)) # safe cost\n",
    "print(x0.flatten(),c0)"
   ]
  },
  {
   "cell_type": "code",
   "execution_count": 4,
   "metadata": {},
   "outputs": [
    {
     "output_type": "stream",
     "name": "stdout",
     "text": [
      "[0.3 0.1 0.2 0.4]\n[[0.4  0.6  0.4  0.3 ]\n [0.3  0.4  0.4  0.3 ]\n [0.3  0.2  0.1  0.4 ]\n [0.1  0.35 0.3  0.4 ]\n [0.2  0.4  0.1  0.3 ]]\n[7.  5.5 4.  6.  5. ]\n0.35\n"
     ]
    }
   ],
   "source": [
    "# example 2\n",
    "en = 5\n",
    "ch = 4\n",
    "P = np.array([.3,.1,.2,.4])\n",
    "# P = np.array([[.35,.15,.05,.45],[.3,.3,.2,.2],[.3,.4,.1,.2],[.2,.15,.25,.4]])\n",
    "# P = steady_state_prob(P)\n",
    "E = np.array([[.4,.6,.4,.3],[.3,.4,.4,.3],[.3,.2,.1,.4],[.1,.35,.3,.4],[.2,.4,.1,.3]])\n",
    "R = np.array([7.,5.5,4.,6.,5.])\n",
    "tol = .35\n",
    "print(P)\n",
    "print(E)\n",
    "print(R)\n",
    "print(tol)"
   ]
  },
  {
   "cell_type": "code",
   "execution_count": 185,
   "metadata": {},
   "outputs": [
    {
     "output_type": "stream",
     "name": "stdout",
     "text": [
      "0.262507237984945\n6.50100842330051 1.0 [0.] True 0.35\n[0.50100842 0.         0.         0.49899158 0.        ]\n[0.25 0.25 0.5  0.   0.  ] 0.31968671953046024\n"
     ]
    }
   ],
   "source": [
    "ub = np.sum(E*P,axis=1)\n",
    "ltemp = linprog(c = -1*R, A_ub = [ub], b_ub = [tol],A_eq = np.ones((1,en)),b_eq = [1.0],method='simplex')\n",
    "print(min(ub))\n",
    "print(dot(ltemp.x,R), np.sum(ltemp.x),ltemp.con, ltemp.success, dot(ltemp.x,ub))\n",
    "org_x = ltemp.x\n",
    "print(ltemp.x)\n",
    "# finding safe x0\n",
    "ub = E.transpose();tol_arr = [tol]*ch\n",
    "ltemp = linprog(c=np.zeros(en),A_ub = ub,b_ub=tol_arr,A_eq = np.ones((1,en)),b_eq = [1.0],method='revised simplex',options={'tol': 1.0e-3})\n",
    "x0 = np.transpose(row_normalize([ltemp.x+(0.0)])) # noise to safe to avoid singular matrices, 1.0e-2 is working\n",
    "norm_x0 = linalg.norm(x0)\n",
    "e0 = x0/norm_x0 # safe vector\n",
    "e0_trans = e0.transpose()\n",
    "en0 = sample(x0.transpose()[0])\n",
    "b0 = bernoulli(E[en0][sample(P)])\n",
    "yt = (E[en0]*(1-b0))+((1-E[en0])*b0)\n",
    "yt = row_normalize([np.exp(yt)]).transpose()\n",
    "c0 = dot(x0,np.matmul(E,yt)) # safe cost\n",
    "print(x0.flatten(),c0)"
   ]
  },
  {
   "cell_type": "code",
   "execution_count": 192,
   "metadata": {},
   "outputs": [
    {
     "output_type": "stream",
     "name": "stdout",
     "text": [
      "[0.13804835 0.11053872 0.09222048 0.16094479 0.14741879 0.10270172\n 0.07314543 0.17498172]\n[[0.2   0.3   0.2   0.15  0.05  0.175 0.15  0.2  ]\n [0.15  0.2   0.2   0.15  0.15  0.175 0.125 0.2  ]\n [0.15  0.1   0.05  0.2   0.15  0.2   0.2   0.15 ]\n [0.2   0.15  0.15  0.25  0.3   0.2   0.275 0.175]\n [0.1   0.2   0.05  0.15  0.2   0.2   0.15  0.05 ]\n [0.2   0.3   0.2   0.15  0.3   0.2   0.15  0.05 ]]\n[4.  3.5 4.  8.  2.  3. ]\n"
     ]
    }
   ],
   "source": [
    "# example 2\n",
    "en = 6\n",
    "ch = 8\n",
    "# P = np.array([.3,.1,.2,.4,.3,.1,.3,.3])/2\n",
    "P = np.array([[.35,.2,.05,.45,.2,.15,.2,.4],[.3,.3,.2,.2,.35,.15,.05,.45],[.3,.15,.2,.25,.35,.45,.1,.2],[.35,.35,.2,.2,.2,.1,.2,.4],[.2,.15,.25,.4,.35,.15,.05,.45],[.2,.3,.2,.2,.2,.15,.3,.45],[.35,.15,.05,.45,.3,.4,.1,.2],[.2,.15,.25,.4,.4,.25,.15,.2]])/2\n",
    "P = steady_state_prob(P)\n",
    "E = np.array([[.4,.6,.4,.3,.1,.35,.3,.4],[.3,.4,.4,.3,.3,.35,.25,.4],[.3,.2,.1,.4,.3,.4,.4,.3],[.4,.3,.3,.5,.6,.4,.55,.35],[.2,.4,.1,.3,.4,.4,.3,.1],[.4,.6,.4,.3,.6,.4,.3,.1]])/2\n",
    "R = np.array([4.,3.5,4.,8.,2.,3.])\n",
    "tol = .2\n",
    "print(P)\n",
    "print(E)\n",
    "print(R)"
   ]
  },
  {
   "cell_type": "code",
   "execution_count": 193,
   "metadata": {},
   "outputs": [
    {
     "output_type": "stream",
     "name": "stdout",
     "text": [
      "0.1344103242242232\n7.107371690867861 1.0 [0.] True 0.2\n[0.         0.         0.22315708 0.77684292 0.         0.        ]\n[0.5 0.  0.5 0.  0.  0. ] 0.16547223247885934\n"
     ]
    }
   ],
   "source": [
    "ub = np.sum(E*P,axis=1)\n",
    "ltemp = linprog(c = -1*R, A_ub = [ub], b_ub = [tol],A_eq = np.ones((1,en)),b_eq = [1.0],method='simplex')\n",
    "print(min(ub))\n",
    "print(dot(ltemp.x,R), np.sum(ltemp.x),ltemp.con, ltemp.success, dot(ltemp.x,ub))\n",
    "org_x = ltemp.x\n",
    "print(ltemp.x)\n",
    "# finding safe x0\n",
    "ub = E.transpose();tol_arr = [tol]*ch\n",
    "ltemp = linprog(c=np.zeros(en),A_ub = ub,b_ub=tol_arr,A_eq = np.ones((1,en)),b_eq = [1.0],method='revised simplex',options={'tol': 1.0e-3})\n",
    "x0 = np.transpose(row_normalize([ltemp.x+(0.0)])) # noise to safe to avoid singular matrices, 1.0e-2 is working\n",
    "norm_x0 = linalg.norm(x0)\n",
    "e0 = x0/norm_x0 # safe vector\n",
    "e0_trans = e0.transpose()\n",
    "en0 = sample(x0.transpose()[0])\n",
    "b0 = bernoulli(E[en0][sample(P)])\n",
    "yt = (E[en0]*(1-b0))+((1-E[en0])*b0)\n",
    "yt = row_normalize([np.exp(yt)]).transpose()\n",
    "c0 = dot(x0,np.matmul(E,yt)) # safe cost\n",
    "print(x0.flatten(),c0)"
   ]
  },
  {
   "cell_type": "code",
   "execution_count": 180,
   "metadata": {},
   "outputs": [
    {
     "output_type": "stream",
     "name": "stdout",
     "text": [
      "[0.15  0.05  0.075 0.175 0.1   0.05  0.125 0.1   0.05  0.125]\n[[0.2   0.3   0.2   0.15  0.05  0.175 0.15  0.2   0.2   0.15 ]\n [0.15  0.2   0.2   0.15  0.15  0.175 0.125 0.2   0.2   0.125]\n [0.15  0.1   0.05  0.2   0.15  0.2   0.2   0.15  0.175 0.275]\n [0.225 0.25  0.2   0.275 0.35  0.225 0.275 0.175 0.175 0.275]\n [0.1   0.2   0.05  0.15  0.2   0.2   0.15  0.05  0.05  0.15 ]\n [0.2   0.3   0.2   0.15  0.3   0.2   0.15  0.05  0.125 0.2  ]\n [0.2   0.3   0.2   0.15  0.05  0.175 0.15  0.2   0.05  0.15 ]\n [0.275 0.225 0.225 0.15  0.15  0.175 0.125 0.2   0.2   0.05 ]\n [0.15  0.1   0.05  0.2   0.15  0.2   0.2   0.15  0.1   0.2  ]\n [0.2   0.15  0.15  0.25  0.3   0.2   0.2   0.175 0.2   0.3  ]\n [0.1   0.2   0.05  0.15  0.2   0.2   0.15  0.05  0.2   0.125]\n [0.2   0.3   0.2   0.15  0.3   0.2   0.15  0.05  0.15  0.2  ]]\n[4.  3.5 4.  8.  2.  3.  4.  3.5 4.  6.  2.  3. ]\n"
     ]
    }
   ],
   "source": [
    "en = 12\n",
    "ch = 10\n",
    "P = np.array([.3,.1,.15,.35,.2,.1,.25,.2,.1,.25])/2\n",
    "E = np.array([[.4,.6,.4,.3,.1,.35,.3,.4,.4,.3],[.3,.4,.4,.3,.3,.35,.25,.4,.4,.25],[.3,.2,.1,.4,.3,.4,.4,.3,.35,.55],[.45,.5,.4,.55,.7,.45,.55,.35,.35,.55],[.2,.4,.1,.3,.4,.4,.3,.1,.1,.3],[.4,.6,.4,.3,.6,.4,.3,.1,.25,.4],[.4,.6,.4,.3,.1,.35,.3,.4,.1,.3],[.55,.45,.45,.3,.3,.35,.25,.4,.4,.1],[.3,.2,.1,.4,.3,.4,.4,.3,.2,.4],[.4,.3,.3,.5,.6,.4,.4,.35,.4,.6],[.2,.4,.1,.3,.4,.4,.3,.1,.4,.25],[.4,.6,.4,.3,.6,.4,.3,.1,.3,.4]])/2\n",
    "R = np.array([4.,3.5,4.,8,2.,3.,4.,3.5,4.,6.,2.,3.])\n",
    "tol = .2\n",
    "print(P)\n",
    "print(E)\n",
    "print(R)"
   ]
  },
  {
   "cell_type": "code",
   "execution_count": 181,
   "metadata": {},
   "outputs": [
    {
     "output_type": "stream",
     "name": "stdout",
     "text": [
      "0.13\n5.765517241379311 1.0 [0.] True 0.2\n[0.         0.         0.         0.44137931 0.         0.\n 0.55862069 0.         0.         0.         0.         0.        ]\n[0.44680851 0.         0.46808511 0.         0.         0.\n 0.         0.08510638 0.         0.         0.         0.        ] 0.17271062450220415\n"
     ]
    }
   ],
   "source": [
    "ub = np.sum(E*P,axis=1)\n",
    "ltemp = linprog(c = -1*R, A_ub = [ub], b_ub = [tol],A_eq = np.ones((1,en)),b_eq = [1.0],method='simplex')\n",
    "print(min(ub))\n",
    "print(dot(ltemp.x,R), np.sum(ltemp.x),ltemp.con, ltemp.success, dot(ltemp.x,ub))\n",
    "org_x = ltemp.x\n",
    "print(ltemp.x)\n",
    "# finding safe x0\n",
    "ub = E.transpose();tol_arr = [tol]*ch\n",
    "ltemp = linprog(c=np.zeros(en),A_ub = ub,b_ub=tol_arr,A_eq = np.ones((1,en)),b_eq = [1.0],method='revised simplex',options={'tol': 1.0e-3})\n",
    "x0 = np.transpose(row_normalize([ltemp.x+(0.0)])) # noise to safe to avoid singular matrices, 1.0e-2 is working\n",
    "norm_x0 = linalg.norm(x0)\n",
    "e0 = x0/norm_x0 # safe vector\n",
    "e0_trans = e0.transpose()\n",
    "en0 = sample(x0.transpose()[0])\n",
    "b0 = bernoulli(E[en0][sample(P)])\n",
    "yt = (E[en0]*(1-b0))+((1-E[en0])*b0)\n",
    "yt = row_normalize([np.exp(yt)]).transpose()\n",
    "c0 = dot(x0,np.matmul(E,yt)) # safe cost\n",
    "print(x0.flatten(),c0)"
   ]
  },
  {
   "cell_type": "code",
   "execution_count": null,
   "metadata": {},
   "outputs": [],
   "source": []
  }
 ]
}