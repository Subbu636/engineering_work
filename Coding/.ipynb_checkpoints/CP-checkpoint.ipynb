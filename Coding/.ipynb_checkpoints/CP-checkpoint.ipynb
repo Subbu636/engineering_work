{
 "cells": [
  {
   "cell_type": "code",
   "execution_count": null,
   "metadata": {},
   "outputs": [],
   "source": [
    "import math\n",
    "# sorted([1,4,5,1,4,2],key=fun,reverse=True)\n",
    "# argsort\n",
    "    # append index and val to 2d array\n",
    "    # and sort it, extract indices\n",
    "# ascii type ig\n",
    "ord('a')\n",
    "\n",
    "# all O(1) operations\n",
    "# never use list for stack\n",
    "from collections import deque \n",
    "stack = deque()\n",
    "stack.append(2)\n",
    "stack.append(3)\n",
    "stack.append(4)\n",
    "stack.append(5)\n",
    "stack.appendleft(1)\n",
    "print(stack)\n",
    "print(stack.pop())\n",
    "print(stack.popleft())\n",
    "print(stack)\n",
    "# all O(1) operations"
   ]
  },
  {
   "cell_type": "code",
   "execution_count": null,
   "metadata": {},
   "outputs": [],
   "source": [
    "t = int(input())\n",
    "for i in range(t):\n",
    "    n,k = map(int,input().split())\n",
    "    if n%2 == 0:\n",
    "        print(n + 2*k)\n",
    "    else:\n",
    "        j = 2\n",
    "        while j*j <= n:\n",
    "            if n%j == 0:\n",
    "                break\n",
    "            j += 1\n",
    "        else:\n",
    "            print(2*n + 2*(k-1))\n",
    "            continue\n",
    "        print(n+j+2*(k-1))"
   ]
  },
  {
   "cell_type": "code",
   "execution_count": null,
   "metadata": {},
   "outputs": [],
   "source": [
    "def div(n):\n",
    "    i = 2\n",
    "    li = [1]\n",
    "    while(i*i <= n):\n",
    "        if n%i == 0:\n",
    "            li.append(i)\n",
    "            li.append(n//i)\n",
    "        i += 1\n",
    "    return li\n",
    "\n",
    "t = int(input())\n",
    "for i in range(t):\n",
    "    n = int(input())\n",
    "    arr = list(map(int,input().split()))\n",
    "    fli = [1 for i in range(n+1)]\n",
    "    for j in range(2,n+1):\n",
    "        var = []\n",
    "        for k in div(j):\n",
    "            if arr[k-1] < arr[j-1]:\n",
    "                var.append(fli[k]+1)\n",
    "        if len(var) > 0:\n",
    "            fli[j] = max(var)\n",
    "        else:\n",
    "            fli[j] = 1\n",
    "    print(max(fli))"
   ]
  },
  {
   "cell_type": "code",
   "execution_count": null,
   "metadata": {},
   "outputs": [],
   "source": [
    "t = int(input())\n",
    "for i in range(t):\n",
    "    n = int(input())\n",
    "    print(pow(2,(n//2)+1)-2)"
   ]
  },
  {
   "cell_type": "code",
   "execution_count": null,
   "metadata": {},
   "outputs": [],
   "source": [
    "t = int(input())\n",
    "for i in range(t):\n",
    "    n, k = map(int,input().split())\n",
    "    arr = list(map(int,input().split()))\n",
    "    li = [False for j in range(100)]\n",
    "    ans = []\n",
    "    count = 0\n",
    "    for j in arr:\n",
    "        if not li[j-1]:\n",
    "            li[j-1] = True\n",
    "            ans.append(j)\n",
    "            count += 1\n",
    "    if count > k:\n",
    "        print(-1)\n",
    "    else:\n",
    "        print(n*k)\n",
    "        for j in range(n):\n",
    "            for l in ans:\n",
    "                print(l,end=\" \")\n",
    "            for l in range(k-count):\n",
    "                print(ans[-1],end=\" \")\n",
    "        print()"
   ]
  },
  {
   "cell_type": "code",
   "execution_count": null,
   "metadata": {},
   "outputs": [],
   "source": [
    "def print_list(li):\n",
    "    for i in li:\n",
    "        print(i,end=\" \")\n",
    "    print()\n",
    "\n",
    "\n",
    "t = int(input())\n",
    "for i in range(t):\n",
    "    n,m = map(int,input().split())\n",
    "    li1 = list(map(int,input().split()))\n",
    "    li2 = list(map(int,input().split()))\n",
    "    ans = []\n",
    "    x = 0\n",
    "    y = 0\n",
    "    while (x < n or y < m):\n",
    "        if x >= n:\n",
    "            ans.append(li2[y])\n",
    "            y += 1\n",
    "        elif y >= m:\n",
    "            ans.append(li1[x])\n",
    "            x += 1\n",
    "        elif li1[x] <= li2[y]:\n",
    "            ans.append(li1[x])\n",
    "            x += 1\n",
    "        else:\n",
    "            ans.append(li2[y])\n",
    "            y += 1\n",
    "    print_list(ans)"
   ]
  },
  {
   "cell_type": "code",
   "execution_count": null,
   "metadata": {},
   "outputs": [],
   "source": [
    "t = int(input())\n",
    "for i in range(t):\n",
    "    n = int(input())\n",
    "    new_li = list(map(int,input().split()))\n",
    "    count = 0\n",
    "    for j in range(1,n):\n",
    "        new_li[j] = new_li[j] + new_li[j-1]\n",
    "    maxi = (n*max(new_li) + 1)\n",
    "    ps = [False]*maxi\n",
    "    j = 0\n",
    "    while (j*j < maxi):\n",
    "        ps[j*j] = True\n",
    "        j += 1\n",
    "    for j in range(n):\n",
    "        var = new_li[j]\n",
    "        if ps[var]:\n",
    "            count += 1\n",
    "            # print(0,j)\n",
    "        for k in range(j+1,n):\n",
    "            var2 = new_li[k]-var\n",
    "            if ps[var2]:\n",
    "                # print(j+1,k)\n",
    "                count += 1\n",
    "    print('Case #'+str(i+1),end=\": \")\n",
    "    print(count)"
   ]
  },
  {
   "cell_type": "code",
   "execution_count": null,
   "metadata": {},
   "outputs": [],
   "source": [
    "t = int(input())\n",
    "for i in range(t):\n",
    "    n = int(input())\n",
    "    new_li = list(map(int,input().split()))\n",
    "    count = 0\n",
    "    maxi = (n*max(new_li) + 1)\n",
    "    ps = [False]*maxi\n",
    "    j = 0\n",
    "    while (j*j < maxi):\n",
    "        ps[j*j] = True\n",
    "        j += 1\n",
    "    for j in range(1,n):\n",
    "        new_li[j] = new_li[j] + new_li[j-1]\n",
    "    for j in range(n):\n",
    "        var = new_li[j]\n",
    "        if var >= 0 and ps[var]:\n",
    "            count += 1\n",
    "        for k in range(j+1,n):\n",
    "            var2 = new_li[k]-var\n",
    "            if var2 >= 0 and ps[var2]:\n",
    "                count += 1\n",
    "    print('Case #'+str(i+1),end=\": \")\n",
    "    print(count)"
   ]
  },
  {
   "cell_type": "code",
   "execution_count": 11,
   "metadata": {},
   "outputs": [],
   "source": [
    "from collections import deque \n",
    "\n",
    "def is_cyclic(g,n):\n",
    "    visited = [False]*n\n",
    "    parent = [-1]*n\n",
    "    stack = deque()\n",
    "    for j in range(n):\n",
    "        if not visited[j]:\n",
    "            stack.append(j)\n",
    "            visited[j] = True\n",
    "            while stack:\n",
    "                x = stack.pop()\n",
    "                for k in g[x]:\n",
    "                    if visited[k] and (k != parent[x]):\n",
    "                        return True\n",
    "                    if not visited[k]:\n",
    "                        parent[k] = x\n",
    "                        stack.append(k)\n",
    "                        visited[k] = True\n",
    "    return False"
   ]
  },
  {
   "cell_type": "code",
   "execution_count": 12,
   "metadata": {},
   "outputs": [
    {
     "data": {
      "text/plain": [
       "True"
      ]
     },
     "execution_count": 12,
     "metadata": {},
     "output_type": "execute_result"
    }
   ],
   "source": [
    "is_cyclic([[1,2],[0,3],[0,3],[1,2]],4)"
   ]
  },
  {
   "cell_type": "code",
   "execution_count": 13,
   "metadata": {},
   "outputs": [
    {
     "data": {
      "text/plain": [
       "True"
      ]
     },
     "execution_count": 13,
     "metadata": {},
     "output_type": "execute_result"
    }
   ],
   "source": [
    "is_cyclic([[1,2],[0,2],[0,1]],3)"
   ]
  },
  {
   "cell_type": "code",
   "execution_count": 14,
   "metadata": {},
   "outputs": [
    {
     "data": {
      "text/plain": [
       "False"
      ]
     },
     "execution_count": 14,
     "metadata": {},
     "output_type": "execute_result"
    }
   ],
   "source": [
    "is_cyclic([[1],[0,2,3],[1],[1]],4)"
   ]
  },
  {
   "cell_type": "code",
   "execution_count": 15,
   "metadata": {},
   "outputs": [
    {
     "data": {
      "text/plain": [
       "False"
      ]
     },
     "execution_count": 15,
     "metadata": {},
     "output_type": "execute_result"
    }
   ],
   "source": [
    "is_cyclic([[2],[2],[0,1]],3)"
   ]
  },
  {
   "cell_type": "code",
   "execution_count": 19,
   "metadata": {},
   "outputs": [],
   "source": [
    "from collections import deque\n",
    "\n",
    "def is_cyclic_dir(graph,n):\n",
    "    visted = [False]*n\n",
    "    rec_stack = [False]*n\n",
    "    \n",
    "    def rec_cyclic_dir(i):\n",
    "        visted[i] = True\n",
    "        rec_stack[i] = True\n",
    "        for j in graph[i]:\n",
    "            if rec_stack[j]:\n",
    "                return True\n",
    "            elif not visted[j]:\n",
    "                if rec_cyclic_dir(j):\n",
    "                    return True\n",
    "        rec_stack[i] = False\n",
    "        return False\n",
    "    \n",
    "    for i in range(n):\n",
    "        if not visted[i]:\n",
    "            if rec_cyclic_dir(i):\n",
    "                return True\n",
    "    else:\n",
    "        return False"
   ]
  },
  {
   "cell_type": "code",
   "execution_count": 1,
   "metadata": {},
   "outputs": [
    {
     "name": "stdout",
     "output_type": "stream",
     "text": [
      "29 4\n",
      "6 21 17 12 2 11 9 11\n"
     ]
    }
   ],
   "source": [
    "v, e = map(int,input().split())\n",
    "edj = list(map(int,input().split()))\n",
    "j = 0\n",
    "graph = [[] for j in range(v)]\n",
    "while(j < 2*e):\n",
    "    graph[edj[j]].append(edj[j+1])\n",
    "    j += 2"
   ]
  },
  {
   "cell_type": "code",
   "execution_count": 22,
   "metadata": {},
   "outputs": [
    {
     "data": {
      "text/plain": [
       "False"
      ]
     },
     "execution_count": 22,
     "metadata": {},
     "output_type": "execute_result"
    }
   ],
   "source": [
    "is_cyclic_dir([[1],[2],[]],3)"
   ]
  },
  {
   "cell_type": "code",
   "execution_count": null,
   "metadata": {},
   "outputs": [],
   "source": [
    "# topological sort\n",
    "\n",
    "def topo_sort(graph, n):\n",
    "    from collections import deque\n",
    "    in_edges = [0]*n\n",
    "    for i in range(n):\n",
    "        for j in graph[i]:\n",
    "            in_edges[j] += 1\n",
    "    print(in_edges)\n",
    "    ans = [] \n",
    "    qu = deque()\n",
    "    for i in range(n):\n",
    "        if in_edges[i] == 0:\n",
    "            qu.append(i)\n",
    "    while qu:\n",
    "        x = qu.popleft()\n",
    "        ans.append(x)\n",
    "        for i in graph[x]:\n",
    "            in_edges[i] -= 1\n",
    "            if in_edges[i] == 0:\n",
    "                qu.append(i)\n",
    "    return ans"
   ]
  },
  {
   "cell_type": "code",
   "execution_count": 24,
   "metadata": {},
   "outputs": [],
   "source": [
    "\n",
    "def find_islands(a,n,m):\n",
    "    from collections import deque\n",
    "    visited = [[True for i in range(m+2)] for j in range(n+2)]\n",
    "    for i in range(n):\n",
    "        for j in range(m):\n",
    "            if a[i][j] == 1:\n",
    "                visited[i+1][j+1] = False\n",
    "    count = 0\n",
    "    for i in range(1,n+1):\n",
    "        for j in range(1,m+1):\n",
    "            if not visited[i][j]:\n",
    "                count += 1\n",
    "                stack = deque()\n",
    "                stack.append((i,j))\n",
    "                visited[i][j] = True\n",
    "                while stack:\n",
    "                    x = stack.popleft()\n",
    "                    if not visited[x[0]+1][x[1]+1]:\n",
    "                        stack.append((x[0]+1,x[1]+1))\n",
    "                        visited[x[0]+1][x[1]+1] = True\n",
    "                    if not visited[x[0]][x[1]+1]:\n",
    "                        stack.append((x[0],x[1]+1))\n",
    "                        visited[x[0]][x[1]+1] = True\n",
    "                    if not visited[x[0]+1][x[1]]:\n",
    "                        stack.append((x[0]+1,x[1]))\n",
    "                        visited[x[0]+1][x[1]] = True\n",
    "                    if not visited[x[0]-1][x[1]+1]:\n",
    "                        stack.append((x[0]-1,x[1]+1))\n",
    "                        visited[x[0]-1][x[1]+1] = True\n",
    "                    if not visited[x[0]+1][x[1]-1]:\n",
    "                        stack.append((x[0]+1,x[1]-1))\n",
    "                        visited[x[0]+1][x[1]-1] = True\n",
    "                    if not visited[x[0]-1][x[1]-1]:\n",
    "                        stack.append((x[0]-1,x[1]-1))\n",
    "                        visited[x[0]-1][x[1]-1] = True\n",
    "                    if not visited[x[0]-1][x[1]]:\n",
    "                        stack.append((x[0]-1,x[1]))\n",
    "                        visited[x[0]-1][x[1]] = True\n",
    "                    if not visited[x[0]][x[1]-1]:\n",
    "                        stack.append((x[0],x[1]-1))\n",
    "                        visited[x[0]][x[1]-1] = True\n",
    "    return count"
   ]
  },
  {
   "cell_type": "code",
   "execution_count": 26,
   "metadata": {},
   "outputs": [
    {
     "data": {
      "text/plain": [
       "3"
      ]
     },
     "execution_count": 26,
     "metadata": {},
     "output_type": "execute_result"
    }
   ],
   "source": [
    "find_islands([[1,0,1],[1,0,0],[1,0,1]],3,3)"
   ]
  },
  {
   "cell_type": "code",
   "execution_count": null,
   "metadata": {},
   "outputs": [],
   "source": []
  },
  {
   "cell_type": "code",
   "execution_count": null,
   "metadata": {},
   "outputs": [],
   "source": [
    "def print_list(li):\n",
    "    for i in li:\n",
    "        print(i,end=\" \")\n",
    "    print()\n",
    "\n",
    "def belman_ford(src, V, graph):\n",
    "    dis = [float('inf') for i in range(V)]\n",
    "    dis[src] = 0\n",
    "    for i in range(V):\n",
    "        for j in range(V):\n",
    "            if graph[i][j] == 0:\n",
    "                graph[i][j] = float('inf')\n",
    "    for k in range(V-1):\n",
    "        for i in range(V):\n",
    "            for j in range(V):\n",
    "                if dis[j] > dis[i] + graph[i][j]:\n",
    "                    dis[j] = dis[i] + graph[i][j]\n",
    "    print_list(dis)\n",
    "    "
   ]
  },
  {
   "cell_type": "code",
   "execution_count": null,
   "metadata": {},
   "outputs": [],
   "source": [
    "from heapq import heapify, heappush, heappop\n",
    "def dijkshtra(src, V, graph):\n",
    "    dis = [float('inf') for i in range(V)]\n",
    "    dis[src] = 0\n",
    "    ans = [-1]*V\n",
    "    fin = [False]*V\n",
    "    for j in range(V):\n",
    "        ind = 0\n",
    "        val = dis[0]\n",
    "        for i in range(1,V):\n",
    "            if val > dis[i] and not fin[i]:\n",
    "                val = dis[i]\n",
    "                ind = i\n",
    "        ans[ind] = val\n",
    "        fin[ind] = True\n",
    "        for i in range(V):\n",
    "            if graph[ind][i] > 0:\n",
    "                if dis[i] > val + graph[ind][i]:\n",
    "                    dis[i] = val + graph[ind][i]\n",
    "    print_list(dis)   "
   ]
  },
  {
   "cell_type": "code",
   "execution_count": 30,
   "metadata": {},
   "outputs": [],
   "source": [
    "def countSCCs(adj, V):\n",
    "    from collections import deque\n",
    "    visited = [False]*V\n",
    "    stack = deque()\n",
    "    def rec_dfs(i):\n",
    "        visited[i] = True\n",
    "        for j in adj[i]:\n",
    "            if not visited[j]:\n",
    "                rec_dfs(j)\n",
    "        stack.append(i)\n",
    "    for i in range(V):\n",
    "        if not visited[i]:\n",
    "            rec_dfs(i)\n",
    "    rev_adj = [[] for i in range(V)]\n",
    "    for i in range(V):\n",
    "        for j in adj[i]:\n",
    "            rev_adj[j].append(i)\n",
    "    cnt = 0\n",
    "    visited = [False]*V\n",
    "    while(stack):\n",
    "        i = stack.pop()\n",
    "        if not visited[i]:\n",
    "            cnt += 1\n",
    "            st = deque()\n",
    "            st.append(i)\n",
    "            visited[i] = True\n",
    "            while st:\n",
    "                x = st.pop()\n",
    "                for j in rev_adj[x]:\n",
    "                    if not visited[j]:\n",
    "                        st.append(j)\n",
    "                        visited[j] = True\n",
    "    return cnt"
   ]
  },
  {
   "cell_type": "code",
   "execution_count": 31,
   "metadata": {},
   "outputs": [
    {
     "data": {
      "text/plain": [
       "3"
      ]
     },
     "execution_count": 31,
     "metadata": {},
     "output_type": "execute_result"
    }
   ],
   "source": [
    "adj = [[3,2],[0],[1],[4],[]]\n",
    "countSCCs(adj, 5)"
   ]
  },
  {
   "cell_type": "code",
   "execution_count": 32,
   "metadata": {},
   "outputs": [
    {
     "data": {
      "text/plain": [
       "4"
      ]
     },
     "execution_count": 32,
     "metadata": {},
     "output_type": "execute_result"
    }
   ],
   "source": [
    "adj = [[1,2],[2],[],[]]\n",
    "countSCCs(adj, 4)"
   ]
  },
  {
   "cell_type": "code",
   "execution_count": 49,
   "metadata": {},
   "outputs": [
    {
     "name": "stdout",
     "output_type": "stream",
     "text": [
      "1\n",
      "20 13\n",
      "0 1 1 1 1 0 0 0 1 1 1 1 0 0 0 0 0 1 1 1 0 1 0 1 1 0 0 1 0 1 0 1 0 1 0 1 1 0 0 0 1 1 0 1 1 0 1 1 1 0 1 1 0 1 0 1 1 0 0 1 1 0 0 0 0 0 1 1 1 1 0 0 1 0 0 0 0 1 0 1 0 1 0 0 0 0 1 1 0 1 0 1 0 1 1 0 1 1 1 0 0 1 1 1 1 1 0 1 0 0 0 0 1 0 0 1 0 1 0 0 1 0 0 1 1 1 1 1 0 0 1 1 0 0 0 1 1 0 1 0 0 1 0 1 0 1 0 0 0 0 1 1 1 1 0 0 0 1 1 1 0 1 0 0 1 0 1 1 1 0 1 1 0 1 1 0 0 1 0 1 0 1 0 1 0 1 1 1 0 1 0 0 0 0 0 1 0 0 0 1 0 1 1 0 1 0 0 1 1 1 0 1 0 1 0 1 0 0 0 0 1 0 1 1 0 1 0 0 1 1 0 0 0 1 0 1 1 1 1 0 0 1 0 0 0 0 1 0 0 1 1 1 1 0 0 1 1 1 0 1\n",
      "6 3\n",
      "-1\n"
     ]
    }
   ],
   "source": [
    "from collections import deque\n",
    "t = int(input())\n",
    "for i in range(t):\n",
    "    n, m = map(int,input().split())\n",
    "    v = n*m\n",
    "    plot = list(map(int,input().split()))\n",
    "    a,b = map(int,input().split())\n",
    "    dis = [-1 for j in range(v)]\n",
    "    dis[0] = 0\n",
    "    visited = [False]*(v)\n",
    "    for j in range(v):\n",
    "        if plot[j] == 0:\n",
    "            visited[j] = True\n",
    "    que = deque()\n",
    "    que.append(0)\n",
    "    if not visited[0]:\n",
    "        visited[0] = True\n",
    "    else:\n",
    "        print(-1)\n",
    "        continue\n",
    "    while que:\n",
    "        x = que.popleft()\n",
    "        if x + m < v and not visited[x+m]:\n",
    "            que.append(x+m)\n",
    "            visited[x+m] = True\n",
    "            dis[x+m] = dis[x]+1\n",
    "        if x - m >= 0 and not visited[x-m]:\n",
    "            que.append(x-m)\n",
    "            visited[x-m] = True\n",
    "            dis[x-m] = dis[x]+1\n",
    "        if x%m != m-1 and not visited[x+1]:\n",
    "            que.append(x+1)\n",
    "            visited[x+1] = True\n",
    "            dis[x+1] = dis[x]+1\n",
    "        if x%m != 0 and not visited[x-1]:\n",
    "            que.append(x-1)\n",
    "            visited[x-1] = True\n",
    "            dis[x-1] = dis[x]+1\n",
    "    print(dis[a*m + b])"
   ]
  },
  {
   "cell_type": "code",
   "execution_count": null,
   "metadata": {},
   "outputs": [],
   "source": [
    "t = int(input())\n",
    "for i in range(t):\n",
    "    n = int(input())\n",
    "    li = input().split()\n",
    "    var = [[] for j in range(26)]\n",
    "    for j in range(n):\n",
    "        var[ord(li[j][0])-97].append(j)\n",
    "    graph = [[] for j in range(n)]\n",
    "    for j in range(n):\n",
    "        graph[j] = var[ord(li[j][-1])-97]\n",
    "    print(graph)\n",
    "    visited = [False]*n\n",
    "    cnt = 0\n",
    "    def rec_dfs(i):\n",
    "        visited[i] = True\n",
    "        cnt += 1\n",
    "        for j in graph[i]:\n",
    "            if not visited[j]:\n",
    "                x = rec_dfs(j)\n",
    "                if x:\n",
    "                    return True\n",
    "            elif j == 0 and cnt == n:\n",
    "                return True\n",
    "        return False\n",
    "    if rec_dfs(0):\n",
    "        print(1)\n",
    "    else:\n",
    "        print(0)"
   ]
  },
  {
   "cell_type": "code",
   "execution_count": null,
   "metadata": {},
   "outputs": [],
   "source": [
    "t = int(input())\n",
    "for i in range(t):\n",
    "    n = int(input())\n",
    "    graph = []\n",
    "    for j in range(n):\n",
    "        var = list(map(int,input().split()))\n",
    "        graph.append(var)\n",
    "    for j in range(n):\n",
    "        for k in range(n):\n",
    "            for l in range(n):\n",
    "                graph[k][l] = min(graph[k][j]+graph[j][l],graph[k][l])\n",
    "    for j in range(n):\n",
    "        for k in range(n):\n",
    "            if graph[j][k] == 10000000:\n",
    "                print('INF',end=\" \")\n",
    "            else:\n",
    "                print(graph[j][k],end=\" \")\n",
    "        print()"
   ]
  },
  {
   "cell_type": "raw",
   "metadata": {},
   "source": [
    "#include <bits/stdc++.h>\n",
    "using namespace std;\n",
    "\n",
    "int main() {\n",
    "\t//code\n",
    "\tint t;\n",
    "\tcin>>t;\n",
    "\tfor(int i = 0;i < t;i++){\n",
    "\t    int n;\n",
    "\t    cin>>n;\n",
    "\t    int **graph = (int**)malloc(n*sizeof(int*));\n",
    "\t    for (int j = 0;j < n;j++){\n",
    "\t        graph[j] = (int*)malloc(n*sizeof(int));\n",
    "\t        for(int k =0;k < n;k++){\n",
    "\t            cin>>graph[j][k];\n",
    "\t        }\n",
    "\t    }\n",
    "\t    for(int j = 0;j < n;j++){\n",
    "\t    for (int k = 0;k < n;k++){\n",
    "\t        for(int l = 0; l < n;l++){\n",
    "\t            graph[k][l] = min(graph[k][l],graph[k][j]+graph[j][l]);\n",
    "\t        }\n",
    "\t    }\n",
    "\t}\n",
    "\tfor (int j=0;j < n;j++){\n",
    "\t    for (int k=0;k<n;k++){\n",
    "\t        if (graph[j][k] == 10000000){\n",
    "\t            cout<<\"INF \";\n",
    "\t        }\n",
    "\t        else{\n",
    "\t            cout<<graph[j][k];\n",
    "\t            cout<<\" \";\n",
    "\t        }\n",
    "\t    }\n",
    "\t    cout<<endl;\n",
    "\t}\n",
    "\t}\n",
    "\t\n",
    "\treturn 0;\n",
    "}"
   ]
  },
  {
   "cell_type": "code",
   "execution_count": null,
   "metadata": {},
   "outputs": [],
   "source": [
    "# Kruskals algo with union find for detecting cycles \n",
    "# minimum spanning tree\n",
    "def find_parent(parent, x):\n",
    "    if parent[x] == x:\n",
    "        return x\n",
    "    else:\n",
    "        return find_parent(parent, parent[x])\n",
    "        \n",
    "def union(rank, parent, x, y):\n",
    "    x = find_parent(parent, x)\n",
    "    y = find_parent(parent, y)\n",
    "    if rank[x] > rank[y]:\n",
    "        parent[y] = x\n",
    "    elif rank[y] > rank[x]:\n",
    "        parent[x] = y\n",
    "    else:\n",
    "        rank[x] += 1\n",
    "        parent[y] = x\n",
    "\n",
    "# Function to construct and return cost of MST for a graph\n",
    "# represented using adjacency matrix representation\n",
    "'''\n",
    "V: nodes in graph\n",
    "E: number of edges in graph\n",
    "graph: adjacency matrix, graph[i][j]=weight, if edge exits , else float(\"inf\").\n",
    "'''\n",
    "def spanningTree(V, E, graph):\n",
    "    #code here\n",
    "    ver = 0\n",
    "    edg = []\n",
    "    for i in range(V):\n",
    "        for j in range(i+1,V):\n",
    "            if graph[i][j] != float('inf'):\n",
    "                edg.append((graph[i][j],i,j))\n",
    "    edg.sort()\n",
    "    parent = [i for i in range(V)]\n",
    "    rank = [1 for i in range(V)]\n",
    "    tot = 0\n",
    "    for i in range(E):\n",
    "        u,v = edg[i][1], edg[i][2]\n",
    "        if find_parent(parent,u) != find_parent(parent,v):\n",
    "            tot += edg[i][0]\n",
    "            union(rank, parent, u, v)\n",
    "            \n",
    "    return tot\n"
   ]
  },
  {
   "cell_type": "code",
   "execution_count": null,
   "metadata": {},
   "outputs": [],
   "source": [
    "#code\n",
    "t = int(input())\n",
    "for i in range(t):\n",
    "    n,m,k = map(int,input().split())\n",
    "    arr1 = [int(j) for j in input().split()]\n",
    "    arr2 = [int(j) for j in input().split()]\n",
    "    s1 = 0\n",
    "    s2 = 0\n",
    "    e1 = n\n",
    "    e2 = m\n",
    "    k -= 1\n",
    "    while True:\n",
    "        # print(s1,e1,s2,e2)\n",
    "        if s1 == e1:\n",
    "            # print(arr2)\n",
    "            print(arr2[s2+k])\n",
    "            break\n",
    "        if s2 == e2:\n",
    "            # print(arr1)\n",
    "            print(arr1[s1+k])\n",
    "            break\n",
    "        m1 = (e1-s1)//2\n",
    "        m2 = (e2-s2)//2\n",
    "        if m1 + m2 < k:\n",
    "            if arr1[s1+m1] > arr2[s2+m2]:\n",
    "                s2+=(m2+1)\n",
    "                k-=(m2+1)\n",
    "            else:\n",
    "                s1+=(m1+1)\n",
    "                k-=(m1+1)\n",
    "        else:\n",
    "            if arr1[s1+m1] > arr2[s2+m2]:\n",
    "                e1 = s1+m1\n",
    "            else:\n",
    "                e2 = s2+m2\n",
    "                \n",
    "                "
   ]
  },
  {
   "cell_type": "code",
   "execution_count": 1,
   "metadata": {},
   "outputs": [],
   "source": [
    "def fib(n):\n",
    "    arr = [0,1]\n",
    "    for i in range(2,n+1):\n",
    "        arr.append(arr[-1]+arr[-2])\n",
    "    return arr[n]"
   ]
  },
  {
   "cell_type": "code",
   "execution_count": null,
   "metadata": {},
   "outputs": [],
   "source": []
  },
  {
   "cell_type": "code",
   "execution_count": null,
   "metadata": {},
   "outputs": [],
   "source": []
  },
  {
   "cell_type": "code",
   "execution_count": 16,
   "metadata": {},
   "outputs": [],
   "source": [
    "def mat_mul(arr):\n",
    "    n = len(arr)-1\n",
    "    dp = [[0 for i in range(n)] for j in range(n)]\n",
    "    for i in range(n):\n",
    "        for j in range(i+1,n):\n",
    "            dp[i][j] = min([(dp[i][k] + dp[k+1][j] + arr[i]*arr[k+1]*arr[j+1]) for k in range(i,j)])\n",
    "    return dp[0][n-1]"
   ]
  },
  {
   "cell_type": "code",
   "execution_count": 17,
   "metadata": {},
   "outputs": [
    {
     "data": {
      "text/plain": [
       "7500"
      ]
     },
     "execution_count": 17,
     "metadata": {},
     "output_type": "execute_result"
    }
   ],
   "source": [
    "mat_mul([10, 100, 5, 50])"
   ]
  },
  {
   "cell_type": "code",
   "execution_count": 18,
   "metadata": {},
   "outputs": [],
   "source": [
    "def mon_inc(arr):\n",
    "    n = len(arr)\n",
    "    ans = [0]*n\n",
    "    for i in range(n):\n",
    "        ans[i] = 1\n",
    "        for j in range(i):\n",
    "            if arr[j] <= arr[i]:\n",
    "                ans[i] = max(ans[i],1+ans[j])\n",
    "    return max(ans)"
   ]
  },
  {
   "cell_type": "code",
   "execution_count": 11,
   "metadata": {},
   "outputs": [],
   "source": [
    "def LCS(arr1, arr2):\n",
    "    n = len(arr1)\n",
    "    m = len(arr2)\n",
    "    ans = [[0]*(m+1) for i in range(n+1)]\n",
    "    for i in range(n+1):\n",
    "        ans[i][0] = 0\n",
    "    for  i in range(m+1):\n",
    "        ans[0][i] = 0\n",
    "    for i in range(1,n+1):\n",
    "        for j in range(1,m+1):\n",
    "            if arr1[i-1] == arr2[j-1]:\n",
    "                ans[i][j] = 1+ans[i-1][j-1]\n",
    "            else:\n",
    "                ans[i][j] = max(ans[i-1][j],ans[i][j-1])\n",
    "    return ans[-1][-1]"
   ]
  },
  {
   "cell_type": "code",
   "execution_count": 12,
   "metadata": {},
   "outputs": [
    {
     "data": {
      "text/plain": [
       "4"
      ]
     },
     "execution_count": 12,
     "metadata": {},
     "output_type": "execute_result"
    }
   ],
   "source": [
    "LCS([1,5,2,6,3,4],[6,1,2,3,4,5])"
   ]
  },
  {
   "cell_type": "code",
   "execution_count": null,
   "metadata": {},
   "outputs": [],
   "source": [
    "t = int(input())\n",
    "for i in range(t):\n",
    "    n, k = map(int,input().split())\n",
    "    dp = [[0 for l in range(k)] for j in range(n+1)]\n",
    "    for j in range(n+1):\n",
    "        dp[j][0] = 1\n",
    "    for j in range(k):\n",
    "        dp[1][j] = j+1\n",
    "    for j in range(2,n+1):\n",
    "        for l in range(1,k):\n",
    "            dp[j][l] = 1+min([(max(dp[j-1][x-1],dp[j][l-x])) for x in range(1,l+1)])\n",
    "        dp[j][l] = \n",
    "    print(dp)"
   ]
  },
  {
   "cell_type": "code",
   "execution_count": 6,
   "metadata": {},
   "outputs": [
    {
     "data": {
      "text/plain": [
       "65"
      ]
     },
     "execution_count": 6,
     "metadata": {},
     "output_type": "execute_result"
    }
   ],
   "source": [
    "hxmngqmf gnapcnty"
   ]
  },
  {
   "cell_type": "code",
   "execution_count": 7,
   "metadata": {},
   "outputs": [
    {
     "name": "stdout",
     "output_type": "stream",
     "text": [
      "hxmngqmf gnapcnty\n",
      "[0, 0, 0, 0, 0, 0, 0, 0, 0, 0, 0, 0, 0, 0, 0, 0, 0, 0, 0, 0, 0, 0, 0, 0, 0, 0, 0, 0, 0, 0, 0, 0, 0, 0, 0, 0, 0, 1, 1, 1, 0, 0, 0, 0, 2, 1, 0, 0, 1, 0, 0, 0, 0, 0, 0, 1, 0, 0]\n",
      "[0, 0, 0, 0, 0, 0, 0, 0, 0, 0, 0, 0, 0, 0, 0, 0, 0, 0, 0, 0, 0, 0, 0, 0, 0, 0, 0, 0, 0, 0, 0, 0, 1, 0, 1, 0, 0, 0, 1, 0, 0, 0, 0, 0, 0, 2, 0, 1, 0, 0, 0, 1, 0, 0, 0, 0, 1, 0]\n",
      "14\n"
     ]
    }
   ],
   "source": [
    "st1,st2 = input().split()\n",
    "val1 = [0]*58\n",
    "val2 = [0]*58\n",
    "for j in st1:\n",
    "    val1[ord(j)-65] += 1\n",
    "for j in st2:\n",
    "    val2[ord(j)-65] += 1\n",
    "print(val1)\n",
    "print(val2)\n",
    "cnt = 0\n",
    "st = ''\n",
    "for j in range(58):\n",
    "    cnt += max(val1[j],val2[j])\n",
    "print(cnt)\n",
    "        "
   ]
  },
  {
   "cell_type": "code",
   "execution_count": 8,
   "metadata": {},
   "outputs": [
    {
     "data": {
      "text/plain": [
       "False"
      ]
     },
     "execution_count": 8,
     "metadata": {},
     "output_type": "execute_result"
    }
   ],
   "source": [
    "'a' == 'A'"
   ]
  },
  {
   "cell_type": "code",
   "execution_count": 6,
   "metadata": {},
   "outputs": [],
   "source": [
    "def find_subsets_having_given_sum(input_list, target_sum):\n",
    "    \"\"\"\n",
    "\tArabhi Subhash\n",
    "    Args:\n",
    "        input_list (list): given list of numbers\n",
    "        target_sum (int): given target sum\n",
    "\n",
    "    Returns:\n",
    "        int: number of subsets that add up to the target sum\n",
    "\n",
    "    e.g. \n",
    "    input list - [5, 3, 8, 12, 4, 9]     target sum = 21\n",
    "    subarrays that add up to 21 - [12, 9], [8, 4, 9], [5, 3, 4, 9], [3, 4, 5, 9], [5, 4, 12], [12, 4, 5] \n",
    "    Hence the output is 6\n",
    "    \"\"\"\n",
    "    number_subsets = 0\n",
    "    #your code goes here\n",
    "    input_list.sort()\n",
    "    i = 0;j = 1;n = len(input_list)\n",
    "    tot = input_list[0]\n",
    "    while j <= n:\n",
    "        print(i,j,tot)\n",
    "    \tif tot == target_sum:\n",
    "    \t\tnumber_subsets+=1\n",
    "    \t\ttot-=input_list[i]\n",
    "    \t\ti+=1\n",
    "    \telif tot < target_sum:\n",
    "    \t\ttot+=input_list[j-1]\n",
    "    \t\tj+=1\n",
    "    \telse:\n",
    "    \t\ti+=1\n",
    "    \t\tif i == j:\n",
    "    \t\t\tbreak\n",
    "    return number_subsets"
   ]
  },
  {
   "cell_type": "code",
   "execution_count": 7,
   "metadata": {},
   "outputs": [
    {
     "data": {
      "text/plain": [
       "0"
      ]
     },
     "execution_count": 7,
     "metadata": {},
     "output_type": "execute_result"
    }
   ],
   "source": [
    "find_subsets_having_given_sum([5, 3, 8, 12, 4, 9],21)"
   ]
  },
  {
   "cell_type": "code",
   "execution_count": null,
   "metadata": {},
   "outputs": [],
   "source": []
  },
  {
   "cell_type": "code",
   "execution_count": null,
   "metadata": {},
   "outputs": [],
   "source": []
  },
  {
   "cell_type": "code",
   "execution_count": null,
   "metadata": {},
   "outputs": [],
   "source": []
  }
 ],
 "metadata": {
  "kernelspec": {
   "display_name": "Python 3",
   "language": "python",
   "name": "python3"
  },
  "language_info": {
   "codemirror_mode": {
    "name": "ipython",
    "version": 3
   },
   "file_extension": ".py",
   "mimetype": "text/x-python",
   "name": "python",
   "nbconvert_exporter": "python",
   "pygments_lexer": "ipython3",
   "version": "3.8.3"
  }
 },
 "nbformat": 4,
 "nbformat_minor": 4
}
