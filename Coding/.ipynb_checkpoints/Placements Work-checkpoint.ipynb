{
 "cells": [
  {
   "cell_type": "code",
   "execution_count": 2,
   "metadata": {},
   "outputs": [],
   "source": [
    "import numpy as np\n",
    "import pandas as pd\n",
    "from sklearn.model_selection import train_test_split"
   ]
  },
  {
   "cell_type": "code",
   "execution_count": 2,
   "metadata": {},
   "outputs": [],
   "source": [
    "# simple regression"
   ]
  },
  {
   "cell_type": "code",
   "execution_count": 3,
   "metadata": {},
   "outputs": [],
   "source": [
    "tr_data = pd.read_csv('dataset/train.csv')\n",
    "ts_data = pd.read_csv('dataset/test.csv')\n",
    "tr_data['ans_len'] = tr_data['answer'].apply(lambda x: len(x.split()))\n",
    "tr_data['question_category'] = tr_data['question_category'].apply(lambda x: ord(x)-ord('A')+1)"
   ]
  },
  {
   "cell_type": "code",
   "execution_count": 4,
   "metadata": {},
   "outputs": [
    {
     "data": {
      "text/html": [
       "<div>\n",
       "<style scoped>\n",
       "    .dataframe tbody tr th:only-of-type {\n",
       "        vertical-align: middle;\n",
       "    }\n",
       "\n",
       "    .dataframe tbody tr th {\n",
       "        vertical-align: top;\n",
       "    }\n",
       "\n",
       "    .dataframe thead th {\n",
       "        text-align: right;\n",
       "    }\n",
       "</style>\n",
       "<table border=\"1\" class=\"dataframe\">\n",
       "  <thead>\n",
       "    <tr style=\"text-align: right;\">\n",
       "      <th></th>\n",
       "      <th>Q_ID</th>\n",
       "      <th>session_date</th>\n",
       "      <th>answer</th>\n",
       "      <th>question_category</th>\n",
       "      <th>acceptance_ratio</th>\n",
       "      <th>relevance_score</th>\n",
       "      <th>ans_len</th>\n",
       "    </tr>\n",
       "  </thead>\n",
       "  <tbody>\n",
       "    <tr>\n",
       "      <th>0</th>\n",
       "      <td>7876619</td>\n",
       "      <td>2011-10-24 13:48:05.557000+00:00</td>\n",
       "      <td>If you are free / willing to change your defin...</td>\n",
       "      <td>1</td>\n",
       "      <td>7</td>\n",
       "      <td>-0.04147</td>\n",
       "      <td>97</td>\n",
       "    </tr>\n",
       "    <tr>\n",
       "      <th>1</th>\n",
       "      <td>48928011</td>\n",
       "      <td>2018-02-22 12:56:17.567000+00:00</td>\n",
       "      <td>As 'x' and 'y' are row/column indices, the opt...</td>\n",
       "      <td>2</td>\n",
       "      <td>2</td>\n",
       "      <td>0.38050</td>\n",
       "      <td>99</td>\n",
       "    </tr>\n",
       "    <tr>\n",
       "      <th>2</th>\n",
       "      <td>51033020</td>\n",
       "      <td>2018-06-25 23:30:53.640000+00:00</td>\n",
       "      <td>The issue is in the use of == to a grepl as gr...</td>\n",
       "      <td>2</td>\n",
       "      <td>0</td>\n",
       "      <td>0.07955</td>\n",
       "      <td>52</td>\n",
       "    </tr>\n",
       "    <tr>\n",
       "      <th>3</th>\n",
       "      <td>19783507</td>\n",
       "      <td>2013-11-05 07:05:53.640000+00:00</td>\n",
       "      <td>Are you just looking for unlist, perhaps?\\r\\r\\...</td>\n",
       "      <td>2</td>\n",
       "      <td>2</td>\n",
       "      <td>0.00000</td>\n",
       "      <td>41</td>\n",
       "    </tr>\n",
       "    <tr>\n",
       "      <th>4</th>\n",
       "      <td>23840502</td>\n",
       "      <td>2014-05-24 01:42:44.510000+00:00</td>\n",
       "      <td>Here's a function that will at least tell you ...</td>\n",
       "      <td>2</td>\n",
       "      <td>4</td>\n",
       "      <td>-0.03000</td>\n",
       "      <td>88</td>\n",
       "    </tr>\n",
       "  </tbody>\n",
       "</table>\n",
       "</div>"
      ],
      "text/plain": [
       "       Q_ID                      session_date  \\\n",
       "0   7876619  2011-10-24 13:48:05.557000+00:00   \n",
       "1  48928011  2018-02-22 12:56:17.567000+00:00   \n",
       "2  51033020  2018-06-25 23:30:53.640000+00:00   \n",
       "3  19783507  2013-11-05 07:05:53.640000+00:00   \n",
       "4  23840502  2014-05-24 01:42:44.510000+00:00   \n",
       "\n",
       "                                              answer  question_category  \\\n",
       "0  If you are free / willing to change your defin...                  1   \n",
       "1  As 'x' and 'y' are row/column indices, the opt...                  2   \n",
       "2  The issue is in the use of == to a grepl as gr...                  2   \n",
       "3  Are you just looking for unlist, perhaps?\\r\\r\\...                  2   \n",
       "4  Here's a function that will at least tell you ...                  2   \n",
       "\n",
       "   acceptance_ratio  relevance_score  ans_len  \n",
       "0                 7         -0.04147       97  \n",
       "1                 2          0.38050       99  \n",
       "2                 0          0.07955       52  \n",
       "3                 2          0.00000       41  \n",
       "4                 4         -0.03000       88  "
      ]
     },
     "execution_count": 4,
     "metadata": {},
     "output_type": "execute_result"
    }
   ],
   "source": [
    "val_data = tr_data[int(len(tr_data)*0.7):]\n",
    "tr_data = tr_data[:int(len(tr_data)*0.7)]\n",
    "val_data.reset_index(inplace=True)\n",
    "tr_data.head()"
   ]
  },
  {
   "cell_type": "code",
   "execution_count": 25,
   "metadata": {},
   "outputs": [],
   "source": [
    "X = np.ones((len(tr_data),4));y = np.empty(len(tr_data))\n",
    "for j in range(len(tr_data)):\n",
    "    X[j][0] = len(tr_data['answer'][j])\n",
    "    X[j][1] = tr_data['question_category'][j]\n",
    "    X[j][2] = tr_data['acceptance_ratio'][j]\n",
    "    y[j] = tr_data['relevance_score'][j]"
   ]
  },
  {
   "cell_type": "code",
   "execution_count": 26,
   "metadata": {},
   "outputs": [],
   "source": [
    "pro = np.matmul(X.T,X)\n",
    "W = np.matmul(np.matmul(np.linalg.inv(np.add(pro,0.5*np.identity(4))),X.T),y)"
   ]
  },
  {
   "cell_type": "code",
   "execution_count": 27,
   "metadata": {},
   "outputs": [],
   "source": [
    "X_val = np.ones((len(val_data),4));y_val = np.empty(len(val_data))\n",
    "for j in range(len(val_data)):\n",
    "    X_val[j][0] = len(val_data['answer'][j])\n",
    "    X_val[j][1] = val_data['question_category'][j]\n",
    "    X_val[j][2] = val_data['acceptance_ratio'][j]\n",
    "    y_val[j] = val_data['relevance_score'][j]"
   ]
  },
  {
   "cell_type": "code",
   "execution_count": 28,
   "metadata": {},
   "outputs": [],
   "source": [
    "tr_pred = np.matmul(X,W)\n",
    "val_pred = np.matmul(X_val,W)"
   ]
  },
  {
   "cell_type": "code",
   "execution_count": 29,
   "metadata": {},
   "outputs": [
    {
     "name": "stdout",
     "output_type": "stream",
     "text": [
      "train 17.655043527670397\n",
      "validation 16.905634027586082\n"
     ]
    }
   ],
   "source": [
    "err = 0\n",
    "for i in range(y.shape[0]):\n",
    "    err += abs(tr_pred[i]-y[i])\n",
    "print('train',(err/y.shape[0])*100)\n",
    "err = 0\n",
    "for i in range(y_val.shape[0]):\n",
    "    err += abs(val_pred[i]-y_val[i])\n",
    "print('validation',(err/y_val.shape[0])*100)"
   ]
  },
  {
   "cell_type": "code",
   "execution_count": null,
   "metadata": {},
   "outputs": [],
   "source": [
    "test = np.ones((len(ts_data),4))\n",
    "for j in range(len(ts_data)):\n",
    "    test[j][0] = len(ts_data['answer'][j])\n",
    "    test[j][1] = ord(ts_data['question_category'][j])-ord('A')+1\n",
    "    test[j][2] = ts_data['acceptance_ratio'][j]"
   ]
  },
  {
   "cell_type": "code",
   "execution_count": null,
   "metadata": {},
   "outputs": [],
   "source": [
    "pr = np.matmul(test,W)"
   ]
  },
  {
   "cell_type": "code",
   "execution_count": null,
   "metadata": {},
   "outputs": [],
   "source": [
    "submission = pd.DataFrame(columns=['Q_ID','relevance_score'])\n",
    "submission['Q_ID'] = ts_data['Q_ID']\n",
    "submission['relevance_score'] = pr"
   ]
  },
  {
   "cell_type": "code",
   "execution_count": null,
   "metadata": {},
   "outputs": [],
   "source": [
    "submission.to_csv('submission.csv',index=False)"
   ]
  },
  {
   "cell_type": "markdown",
   "metadata": {},
   "source": [
    "    Regression Without DeepNetworks\n",
    "    -> Linear Regression\n",
    "    Classification Without DeepNetworks\n",
    "    -> SVM, k-NN "
   ]
  },
  {
   "cell_type": "code",
   "execution_count": null,
   "metadata": {},
   "outputs": [],
   "source": [
    "# Exploring sklearn classifers"
   ]
  },
  {
   "cell_type": "code",
   "execution_count": 2,
   "metadata": {},
   "outputs": [
    {
     "data": {
      "text/plain": [
       "'\\ncm = confusion_matrix(ytest, y_pred) \\n'"
      ]
     },
     "execution_count": 2,
     "metadata": {},
     "output_type": "execute_result"
    }
   ],
   "source": [
    "# useful functions\n",
    "from sklearn.metrics import accuracy_score, log_loss, confusion_matrix\n",
    "\"\"\"\n",
    "accuracy_score(ytest, y_pred)\n",
    "log_loss(y_test, y_pred)\n",
    "cm = confusion_matrix(ytest, y_pred)\n",
    "\"\"\"\n",
    "\n",
    "from sklearn.model_selection import train_test_split\n",
    "\"\"\"\n",
    "xtrain, xtest, ytrain, ytest = train_test_split(x, y, test_size = 0.25, random_state = 0)\n",
    "\"\"\"\n",
    "from sklearn.preprocessing import StandardScaler # normalisation of data\n",
    "\"\"\"\n",
    "sc_x = StandardScaler() \n",
    "xtrain = sc_x.fit_transform(xtrain)  \n",
    "xtest = sc_x.transform(xtest)\n",
    "\"\"\""
   ]
  },
  {
   "cell_type": "code",
   "execution_count": 3,
   "metadata": {},
   "outputs": [],
   "source": [
    "# useful classifiers\n",
    "from sklearn.neighbors import KNeighborsClassifier\n",
    "c = KNeighborsClassifier(3)\n",
    "from sklearn.svm import NuSVC\n",
    "c = NuSVC(probability=True)\n",
    "from sklearn.ensemble import RandomForestClassifier\n",
    "c = RandomForestClassifier() \n",
    "from sklearn.naive_bayes import GaussianNB\n",
    "c = GaussianNB()\n",
    "from sklearn.discriminant_analysis import LinearDiscriminantAnalysis\n",
    "c = LinearDiscriminantAnalysis()\n",
    "\"\"\"\n",
    "c.fit(X_train, y_train)\n",
    "pred = c.predict(X_test)\n",
    "\"\"\""
   ]
  },
  {
   "cell_type": "code",
   "execution_count": null,
   "metadata": {},
   "outputs": [],
   "source": [
    "# useful regressors\n",
    "from sklearn.linear_model import LinearRegression, Lasso, Ridge\n",
    "r = LinearRegression()\n",
    "r = Lasso(alpha = 0.5)\n",
    "r = Ridge(slpha = 0.5)\n",
    "from sklearn.ensemble import GradientBoostingRegressor\n",
    "r = GradientBoostingRegressor(random_state=21, n_estimators=400)"
   ]
  },
  {
   "cell_type": "code",
   "execution_count": null,
   "metadata": {},
   "outputs": [],
   "source": []
  },
  {
   "cell_type": "code",
   "execution_count": null,
   "metadata": {},
   "outputs": [],
   "source": []
  },
  {
   "cell_type": "code",
   "execution_count": null,
   "metadata": {},
   "outputs": [],
   "source": [
    "# Simple Nural Net"
   ]
  },
  {
   "cell_type": "code",
   "execution_count": 9,
   "metadata": {},
   "outputs": [],
   "source": [
    "from torch.utils.data import TensorDataset,DataLoader\n",
    "import torch\n",
    "import torch.nn as nn\n",
    "import torch.nn.functional as F"
   ]
  },
  {
   "cell_type": "code",
   "execution_count": 20,
   "metadata": {},
   "outputs": [],
   "source": [
    "class DNN(nn.Module):\n",
    "    def __init__(self):\n",
    "        super(DNN, self).__init__()\n",
    "        self.fc1 = nn.Linear(3,16)\n",
    "        self.bn1 = nn.BatchNorm1d(16)\n",
    "        self.fc2 = nn.Linear(16,8)\n",
    "        self.bn2 = nn.BatchNorm1d(8)\n",
    "        self.fc3 = nn.Linear(8,1)\n",
    "        \n",
    "    def forward(self,x):\n",
    "        x = self.fc1(x) # nn.Tanh(), nn.Sigmoid()\n",
    "        x = self.bn1(x)\n",
    "        x = self.fc2(x)\n",
    "        x = self.bn2(x)\n",
    "        x = self.fc3(x)\n",
    "        return x"
   ]
  },
  {
   "cell_type": "code",
   "execution_count": 21,
   "metadata": {},
   "outputs": [],
   "source": [
    "X = tr_data[['ans_len','question_category','acceptance_ratio']].to_numpy()\n",
    "y = tr_data['relevance_score'].to_numpy()\n",
    "X = torch.FloatTensor(X)\n",
    "y = torch.FloatTensor(y)\n",
    "dataset = TensorDataset(X,y)\n",
    "loader = DataLoader(dataset, batch_size=8,shuffle=False,num_workers=2)\n",
    "criterion = nn.MSELoss() # nn.CrossEntropyLoss()"
   ]
  },
  {
   "cell_type": "code",
   "execution_count": 22,
   "metadata": {
    "scrolled": true
   },
   "outputs": [
    {
     "name": "stdout",
     "output_type": "stream",
     "text": [
      "1 735.322\n",
      "2 705.137\n",
      "3 690.775\n",
      "4 680.800\n",
      "5 669.051\n",
      "6 656.372\n",
      "7 644.593\n",
      "8 631.887\n",
      "9 622.333\n",
      "10 613.200\n",
      "11 604.328\n",
      "12 595.687\n",
      "13 587.298\n",
      "14 579.043\n",
      "15 570.900\n",
      "16 562.813\n",
      "17 554.746\n",
      "18 546.726\n",
      "19 537.996\n",
      "20 576.155\n",
      "21 526.114\n",
      "22 516.118\n",
      "23 507.938\n",
      "24 498.182\n",
      "25 536.012\n",
      "26 527.951\n",
      "27 517.429\n",
      "28 490.335\n",
      "29 485.828\n",
      "30 464.549\n",
      "31 459.978\n",
      "32 449.209\n",
      "33 468.479\n",
      "34 456.513\n",
      "35 435.883\n",
      "36 422.766\n",
      "37 420.101\n",
      "38 408.662\n",
      "39 425.516\n",
      "40 407.016\n",
      "41 407.503\n",
      "42 422.828\n",
      "43 418.889\n",
      "44 388.092\n",
      "45 384.083\n",
      "46 380.321\n",
      "47 377.919\n",
      "48 418.426\n",
      "49 398.627\n",
      "50 364.308\n",
      "51 359.258\n",
      "52 409.528\n",
      "53 391.731\n",
      "54 360.940\n",
      "55 354.831\n",
      "56 364.750\n",
      "57 365.403\n",
      "58 364.070\n",
      "59 354.857\n",
      "60 346.058\n",
      "61 364.527\n",
      "62 347.113\n",
      "63 347.845\n",
      "64 384.334\n",
      "65 391.053\n",
      "66 328.566\n",
      "67 324.920\n",
      "68 325.024\n",
      "69 399.491\n",
      "70 386.037\n",
      "71 326.403\n",
      "72 323.144\n",
      "73 319.814\n",
      "74 322.476\n",
      "75 526.574\n",
      "76 347.993\n",
      "77 327.830\n",
      "78 325.463\n",
      "79 328.012\n",
      "80 353.161\n",
      "81 363.823\n",
      "82 351.848\n",
      "83 322.714\n",
      "84 323.318\n",
      "85 341.041\n",
      "86 367.516\n",
      "87 323.325\n",
      "88 325.775\n",
      "89 346.166\n",
      "90 357.520\n",
      "91 320.972\n",
      "92 322.346\n",
      "93 338.374\n",
      "94 357.772\n",
      "95 322.216\n",
      "96 324.470\n",
      "97 339.321\n",
      "98 349.547\n",
      "99 321.339\n",
      "100 323.443\n"
     ]
    }
   ],
   "source": [
    "net = DNN()\n",
    "optim = torch.optim.Adam(net.parameters(),lr=0.001) # optim.SGD(net.parameters(), lr=0.01, momentum=0.9)\n",
    "for e in range(1,101):\n",
    "    run_loss = 0\n",
    "    for load in loader:\n",
    "        ip, op = load\n",
    "        optim.zero_grad()\n",
    "        pr = net(ip)\n",
    "        loss = criterion(pr.view(-1),op)\n",
    "        run_loss += loss.item()\n",
    "        loss.backward()\n",
    "        optim.step()\n",
    "    print(e,'{:.3f}'.format(run_loss))"
   ]
  },
  {
   "cell_type": "code",
   "execution_count": 24,
   "metadata": {},
   "outputs": [
    {
     "name": "stdout",
     "output_type": "stream",
     "text": [
      "Val Loss:16.571\n"
     ]
    }
   ],
   "source": [
    "Xv = val_data[['ans_len','question_category','acceptance_ratio']].to_numpy()\n",
    "yv = val_data['relevance_score'].to_numpy()\n",
    "Xv = torch.FloatTensor(Xv)\n",
    "yv = torch.FloatTensor(yv)\n",
    "datasetv = TensorDataset(Xv,yv)\n",
    "loaderv = DataLoader(datasetv, batch_size=8,shuffle=False,num_workers=2)\n",
    "loss = 0\n",
    "with torch.no_grad():\n",
    "    for data in loaderv:\n",
    "        ip, op = data\n",
    "        pr = net(ip).view(-1)\n",
    "        for i in range(len(op)):\n",
    "            loss += (abs(pr[i]-op[i]))\n",
    "print('Val Loss:{:.3f}'.format(loss*100/len(yv)))"
   ]
  },
  {
   "attachments": {
    "image.png": {
     "image/png": "[encoded data removed]"
    }
   },
   "cell_type": "markdown",
   "metadata": {},
   "source": [
    "![image.png](attachment:image.png)"
   ]
  },
  {
   "cell_type": "code",
   "execution_count": null,
   "metadata": {},
   "outputs": [],
   "source": []
  },
  {
   "cell_type": "code",
   "execution_count": null,
   "metadata": {},
   "outputs": [],
   "source": []
  },
  {
   "cell_type": "code",
   "execution_count": null,
   "metadata": {},
   "outputs": [],
   "source": []
  }
 ],
 "metadata": {
  "kernelspec": {
   "display_name": "Python 3",
   "language": "python",
   "name": "python3"
  },
  "language_info": {
   "codemirror_mode": {
    "name": "ipython",
    "version": 3
   },
   "file_extension": ".py",
   "mimetype": "text/x-python",
   "name": "python",
   "nbconvert_exporter": "python",
   "pygments_lexer": "ipython3",
   "version": "3.8.3"
  }
 },
 "nbformat": 4,
 "nbformat_minor": 4
}
