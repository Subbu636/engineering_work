{
 "cells": [
  {
   "cell_type": "code",
   "execution_count": null,
   "metadata": {},
   "outputs": [],
   "source": []
  },
  {
   "cell_type": "code",
   "execution_count": 9,
   "metadata": {},
   "outputs": [],
   "source": [
    "def heapify(arr, n, i):\n",
    "    l = 2*i + 1\n",
    "    r = 2*i + 2\n",
    "    maxi = i\n",
    "    if l < n and arr[maxi] > arr[l]:\n",
    "        maxi = l\n",
    "    if r < n and arr[maxi] > arr[r]:\n",
    "        maxi = r\n",
    "    if maxi != i:\n",
    "        arr[maxi],arr[i] = arr[i],arr[maxi]\n",
    "        heapify(arr, n, maxi)\n",
    "        \n",
    "def build_heap(arr, n):\n",
    "    val = n//2 - 1\n",
    "    for i in range(val,-1,-1):\n",
    "        heapify(arr, n, i)\n",
    "        \n",
    "def extract_min(arr, n):\n",
    "    val = arr[0]\n",
    "    arr[0] = arr[n-1]\n",
    "    del arr[n-1] # arr[n-1] = -1\n",
    "    heapify(arr, n-1, 0)\n",
    "    return val"
   ]
  },
  {
   "cell_type": "code",
   "execution_count": 12,
   "metadata": {},
   "outputs": [
    {
     "name": "stdout",
     "output_type": "stream",
     "text": [
      "[0, 2, 4, 5, 3, 9, 7, 6]\n"
     ]
    }
   ],
   "source": [
    "arr = [2,6,7,5,3,9,4,0]\n",
    "n = len(arr)\n",
    "build_heap(arr, n)\n",
    "print(arr)"
   ]
  },
  {
   "cell_type": "code",
   "execution_count": null,
   "metadata": {},
   "outputs": [],
   "source": []
  },
  {
   "cell_type": "code",
   "execution_count": null,
   "metadata": {},
   "outputs": [],
   "source": []
  },
  {
   "cell_type": "code",
   "execution_count": null,
   "metadata": {},
   "outputs": [],
   "source": []
  },
  {
   "cell_type": "code",
   "execution_count": null,
   "metadata": {},
   "outputs": [],
   "source": []
  }
 ],
 "metadata": {
  "kernelspec": {
   "display_name": "Python 3",
   "language": "python",
   "name": "python3"
  },
  "language_info": {
   "codemirror_mode": {
    "name": "ipython",
    "version": 3
   },
   "file_extension": ".py",
   "mimetype": "text/x-python",
   "name": "python",
   "nbconvert_exporter": "python",
   "pygments_lexer": "ipython3",
   "version": "3.8.2"
  }
 },
 "nbformat": 4,
 "nbformat_minor": 4
}
