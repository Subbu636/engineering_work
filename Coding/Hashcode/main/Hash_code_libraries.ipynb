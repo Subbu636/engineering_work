{
 "cells": [
  {
   "cell_type": "code",
   "execution_count": 1,
   "metadata": {},
   "outputs": [],
   "source": [
    "import numpy as np"
   ]
  },
  {
   "cell_type": "code",
   "execution_count": 2,
   "metadata": {},
   "outputs": [],
   "source": [
    "f = open(\"e_so_many_books.txt\",\"r\")"
   ]
  },
  {
   "cell_type": "code",
   "execution_count": 3,
   "metadata": {},
   "outputs": [],
   "source": [
    "s1 = f.readline()\n",
    "a1 = s1.split()\n",
    "num_books = int(a1[0])\n",
    "num_libs = int(a1[1])\n",
    "days = int(a1[2])\n",
    "s1_1 = f.readline()\n",
    "a1_1 = s1_1.split()\n",
    "scores = []\n",
    "for x in a1_1:\n",
    "    scores.append(x)"
   ]
  },
  {
   "cell_type": "code",
   "execution_count": 4,
   "metadata": {},
   "outputs": [],
   "source": [
    "sinup = []\n",
    "lib_books = []\n",
    "nbd = []\n",
    "books = []\n",
    "for i in range(num_libs):\n",
    "    s2 = f.readline()\n",
    "    a2 = s2.split()\n",
    "    sinup.append(int(a2[1]))\n",
    "    lib_books.append(int(a2[0]))\n",
    "    nbd.append(int(a2[2]))\n",
    "    s3 = f.readline()\n",
    "    a3 = s3.split()\n",
    "    var = set()\n",
    "    for x in a3:\n",
    "        var.add(int(x))\n",
    "    books.append(var)"
   ]
  },
  {
   "cell_type": "code",
   "execution_count": 5,
   "metadata": {},
   "outputs": [],
   "source": [
    "#num_libs,books"
   ]
  },
  {
   "cell_type": "code",
   "execution_count": 6,
   "metadata": {},
   "outputs": [],
   "source": [
    "final = \"\\n\"\n",
    "def baddy (x):\n",
    "    global scores\n",
    "    return scores[x]"
   ]
  },
  {
   "cell_type": "code",
   "execution_count": 7,
   "metadata": {},
   "outputs": [],
   "source": [
    "look = 0\n",
    "gig = [i for i in range(num_libs)]\n",
    "for k in range(num_libs):\n",
    "    val = [-1 for i in range(num_libs)]\n",
    "    for i in gig:\n",
    "        val[i] = (nbd[i]*len(books[i])/sinup[i])\n",
    "    it = np.argmax(val)\n",
    "    look += 1\n",
    "    if(val[it] == 0):\n",
    "        break\n",
    "    final = final + str(it) + \" \" + str(len(books[it])) + \"\\n\"\n",
    "    for i in sorted(books[it],key = baddy,reverse = True):\n",
    "        final = final + str(i) + \" \"\n",
    "    gig.remove(it)\n",
    "    don = books[it]\n",
    "    for i in range(len(books)):\n",
    "        books[i] = books[i] - don"
   ]
  },
  {
   "cell_type": "code",
   "execution_count": 8,
   "metadata": {},
   "outputs": [],
   "source": [
    "#final"
   ]
  },
  {
   "cell_type": "code",
   "execution_count": 9,
   "metadata": {},
   "outputs": [
    {
     "data": {
      "text/plain": [
       "592220"
      ]
     },
     "execution_count": 9,
     "metadata": {},
     "output_type": "execute_result"
    }
   ],
   "source": [
    "f2 = open(\"submission5.txt\",\"w+\")\n",
    "f2.write(final)"
   ]
  },
  {
   "cell_type": "code",
   "execution_count": 10,
   "metadata": {},
   "outputs": [
    {
     "data": {
      "text/plain": [
       "592220"
      ]
     },
     "execution_count": 10,
     "metadata": {},
     "output_type": "execute_result"
    }
   ],
   "source": [
    "f2 = open(\"submission5.txt\",\"w+\")\n",
    "f2.write(final)"
   ]
  },
  {
   "cell_type": "code",
   "execution_count": null,
   "metadata": {},
   "outputs": [],
   "source": []
  }
 ],
 "metadata": {
  "kernelspec": {
   "display_name": "Python 3",
   "language": "python",
   "name": "python3"
  },
  "language_info": {
   "codemirror_mode": {
    "name": "ipython",
    "version": 3
   },
   "file_extension": ".py",
   "mimetype": "text/x-python",
   "name": "python",
   "nbconvert_exporter": "python",
   "pygments_lexer": "ipython3",
   "version": "3.7.4"
  }
 },
 "nbformat": 4,
 "nbformat_minor": 2
}
