{
 "cells": [
  {
   "cell_type": "code",
   "execution_count": null,
   "metadata": {},
   "outputs": [],
   "source": [
    "t = int(input())\n",
    "for i in range(t):\n",
    "    n, ex = map(int,input().split())\n",
    "    li = list(map(int,input().split()))\n",
    "    look = True\n",
    "    tot = li[0]\n",
    "    s = 0\n",
    "    e = 0\n",
    "    while tot != ex:\n",
    "        if tot < ex:\n",
    "            if e == n-1:\n",
    "                print(-1)\n",
    "                break\n",
    "            e += 1\n",
    "            tot += li[e]\n",
    "        elif tot > ex:\n",
    "            if s == e:\n",
    "                if e == n-1:\n",
    "                    print(-1)\n",
    "                    break\n",
    "                s += 1\n",
    "                e += 1\n",
    "                \n",
    "                tot = li[s]\n",
    "            else:\n",
    "                tot -= li[s]\n",
    "                s += 1\n",
    "    else:\n",
    "        print(str(s+1)+\" \"+str(e+1))"
   ]
  },
  {
   "cell_type": "code",
   "execution_count": 30,
   "metadata": {},
   "outputs": [
    {
     "name": "stdout",
     "output_type": "stream",
     "text": [
      "1\n",
      "4 2\n",
      "1 2 2 1\n",
      "Case #1: 1\n"
     ]
    }
   ],
   "source": [
    "t = int(input())\n",
    "for i in range(t):\n",
    "    n, k = map(int,input().split())\n",
    "    li = list(map(int,input().split()))\n",
    "    var = k\n",
    "    count = 0\n",
    "    for j in range(n):\n",
    "        if li[j] == var:\n",
    "            var -= 1\n",
    "        elif li[j] == k:\n",
    "            var = k-1\n",
    "        else:\n",
    "            var = k\n",
    "        if var == 0:\n",
    "            count += 1\n",
    "            var = k\n",
    "    print('Case #'+str(i+1),end=\": \")\n",
    "    print(count)"
   ]
  },
  {
   "cell_type": "code",
   "execution_count": 6,
   "metadata": {},
   "outputs": [
    {
     "name": "stdout",
     "output_type": "stream",
     "text": [
      "1\n",
      "4 6\n",
      "ZOAAMM\n",
      "ZOAOMM\n",
      "ZOOOOM\n",
      "ZZZZOM\n"
     ]
    },
    {
     "ename": "RecursionError",
     "evalue": "maximum recursion depth exceeded",
     "output_type": "error",
     "traceback": [
      "\u001b[1;31m---------------------------------------------------------------------------\u001b[0m",
      "\u001b[1;31mRecursionError\u001b[0m                            Traceback (most recent call last)",
      "\u001b[1;32m<ipython-input-6-3a22c6610b6a>\u001b[0m in \u001b[0;36m<module>\u001b[1;34m\u001b[0m\n\u001b[0;32m     33\u001b[0m     \u001b[1;32mfor\u001b[0m \u001b[0mn\u001b[0m \u001b[1;32min\u001b[0m \u001b[0mrange\u001b[0m\u001b[1;33m(\u001b[0m\u001b[1;36m26\u001b[0m\u001b[1;33m)\u001b[0m\u001b[1;33m:\u001b[0m\u001b[1;33m\u001b[0m\u001b[1;33m\u001b[0m\u001b[0m\n\u001b[0;32m     34\u001b[0m         \u001b[1;32mif\u001b[0m \u001b[1;33m(\u001b[0m\u001b[1;32mnot\u001b[0m \u001b[0mvisted\u001b[0m\u001b[1;33m[\u001b[0m\u001b[0mn\u001b[0m\u001b[1;33m]\u001b[0m\u001b[1;33m)\u001b[0m \u001b[1;32mand\u001b[0m \u001b[0mcount\u001b[0m\u001b[1;33m[\u001b[0m\u001b[0mn\u001b[0m\u001b[1;33m]\u001b[0m \u001b[1;33m!=\u001b[0m \u001b[1;33m-\u001b[0m\u001b[1;36m1\u001b[0m\u001b[1;33m:\u001b[0m\u001b[1;33m\u001b[0m\u001b[1;33m\u001b[0m\u001b[0m\n\u001b[1;32m---> 35\u001b[1;33m             \u001b[0mval\u001b[0m\u001b[1;33m,\u001b[0m \u001b[0mctnr\u001b[0m \u001b[1;33m=\u001b[0m \u001b[0mis_cycle\u001b[0m\u001b[1;33m(\u001b[0m\u001b[0mn\u001b[0m\u001b[1;33m,\u001b[0m\u001b[0mvisted\u001b[0m\u001b[1;33m,\u001b[0m\u001b[0mstack\u001b[0m\u001b[1;33m,\u001b[0m\u001b[0mgraph\u001b[0m\u001b[1;33m,\u001b[0m\u001b[0mctnr\u001b[0m\u001b[1;33m)\u001b[0m\u001b[1;33m\u001b[0m\u001b[1;33m\u001b[0m\u001b[0m\n\u001b[0m\u001b[0;32m     36\u001b[0m             \u001b[1;32mif\u001b[0m \u001b[0mval\u001b[0m\u001b[1;33m:\u001b[0m\u001b[1;33m\u001b[0m\u001b[1;33m\u001b[0m\u001b[0m\n\u001b[0;32m     37\u001b[0m                 \u001b[0mprint\u001b[0m\u001b[1;33m(\u001b[0m\u001b[1;33m-\u001b[0m\u001b[1;36m1\u001b[0m\u001b[1;33m)\u001b[0m\u001b[1;33m\u001b[0m\u001b[1;33m\u001b[0m\u001b[0m\n",
      "\u001b[1;32m<ipython-input-6-3a22c6610b6a>\u001b[0m in \u001b[0;36mis_cycle\u001b[1;34m(n, visted, stack, graph, ctnr)\u001b[0m\n\u001b[0;32m      4\u001b[0m     \u001b[1;32mfor\u001b[0m \u001b[0madj\u001b[0m \u001b[1;32min\u001b[0m \u001b[0mgraph\u001b[0m\u001b[1;33m[\u001b[0m\u001b[0mn\u001b[0m\u001b[1;33m]\u001b[0m\u001b[1;33m:\u001b[0m\u001b[1;33m\u001b[0m\u001b[1;33m\u001b[0m\u001b[0m\n\u001b[0;32m      5\u001b[0m         \u001b[1;32mif\u001b[0m \u001b[1;32mnot\u001b[0m \u001b[0mvisted\u001b[0m\u001b[1;33m[\u001b[0m\u001b[0madj\u001b[0m\u001b[1;33m]\u001b[0m\u001b[1;33m:\u001b[0m\u001b[1;33m\u001b[0m\u001b[1;33m\u001b[0m\u001b[0m\n\u001b[1;32m----> 6\u001b[1;33m             \u001b[0mval\u001b[0m\u001b[1;33m,\u001b[0m \u001b[0mctnr\u001b[0m \u001b[1;33m=\u001b[0m \u001b[0mis_cycle\u001b[0m\u001b[1;33m(\u001b[0m\u001b[0mn\u001b[0m\u001b[1;33m,\u001b[0m\u001b[0mvisted\u001b[0m\u001b[1;33m,\u001b[0m\u001b[0mstack\u001b[0m\u001b[1;33m,\u001b[0m\u001b[0mgraph\u001b[0m\u001b[1;33m,\u001b[0m\u001b[0mctnr\u001b[0m\u001b[1;33m)\u001b[0m\u001b[1;33m\u001b[0m\u001b[1;33m\u001b[0m\u001b[0m\n\u001b[0m\u001b[0;32m      7\u001b[0m             \u001b[1;32mif\u001b[0m \u001b[0mval\u001b[0m\u001b[1;33m:\u001b[0m\u001b[1;33m\u001b[0m\u001b[1;33m\u001b[0m\u001b[0m\n\u001b[0;32m      8\u001b[0m                 \u001b[1;32mreturn\u001b[0m \u001b[1;32mTrue\u001b[0m\u001b[1;33m,\u001b[0m\u001b[0mctnr\u001b[0m\u001b[1;33m\u001b[0m\u001b[1;33m\u001b[0m\u001b[0m\n",
      "... last 1 frames repeated, from the frame below ...\n",
      "\u001b[1;32m<ipython-input-6-3a22c6610b6a>\u001b[0m in \u001b[0;36mis_cycle\u001b[1;34m(n, visted, stack, graph, ctnr)\u001b[0m\n\u001b[0;32m      4\u001b[0m     \u001b[1;32mfor\u001b[0m \u001b[0madj\u001b[0m \u001b[1;32min\u001b[0m \u001b[0mgraph\u001b[0m\u001b[1;33m[\u001b[0m\u001b[0mn\u001b[0m\u001b[1;33m]\u001b[0m\u001b[1;33m:\u001b[0m\u001b[1;33m\u001b[0m\u001b[1;33m\u001b[0m\u001b[0m\n\u001b[0;32m      5\u001b[0m         \u001b[1;32mif\u001b[0m \u001b[1;32mnot\u001b[0m \u001b[0mvisted\u001b[0m\u001b[1;33m[\u001b[0m\u001b[0madj\u001b[0m\u001b[1;33m]\u001b[0m\u001b[1;33m:\u001b[0m\u001b[1;33m\u001b[0m\u001b[1;33m\u001b[0m\u001b[0m\n\u001b[1;32m----> 6\u001b[1;33m             \u001b[0mval\u001b[0m\u001b[1;33m,\u001b[0m \u001b[0mctnr\u001b[0m \u001b[1;33m=\u001b[0m \u001b[0mis_cycle\u001b[0m\u001b[1;33m(\u001b[0m\u001b[0mn\u001b[0m\u001b[1;33m,\u001b[0m\u001b[0mvisted\u001b[0m\u001b[1;33m,\u001b[0m\u001b[0mstack\u001b[0m\u001b[1;33m,\u001b[0m\u001b[0mgraph\u001b[0m\u001b[1;33m,\u001b[0m\u001b[0mctnr\u001b[0m\u001b[1;33m)\u001b[0m\u001b[1;33m\u001b[0m\u001b[1;33m\u001b[0m\u001b[0m\n\u001b[0m\u001b[0;32m      7\u001b[0m             \u001b[1;32mif\u001b[0m \u001b[0mval\u001b[0m\u001b[1;33m:\u001b[0m\u001b[1;33m\u001b[0m\u001b[1;33m\u001b[0m\u001b[0m\n\u001b[0;32m      8\u001b[0m                 \u001b[1;32mreturn\u001b[0m \u001b[1;32mTrue\u001b[0m\u001b[1;33m,\u001b[0m\u001b[0mctnr\u001b[0m\u001b[1;33m\u001b[0m\u001b[1;33m\u001b[0m\u001b[0m\n",
      "\u001b[1;31mRecursionError\u001b[0m: maximum recursion depth exceeded"
     ]
    }
   ],
   "source": [
    "def is_cycle(n,visted,stack,graph,ctnr):\n",
    "    visted[n] = True\n",
    "    stack[n] = True\n",
    "    for adj in graph[n]:\n",
    "        if not visted[adj]:\n",
    "            val, ctnr,visted,stack = is_cycle(n,visted,stack,graph,ctnr)\n",
    "            if val:\n",
    "                return True,ctnr,visted,stack\n",
    "        elif stack[adj]:\n",
    "            return True,ctnr,visted,stack\n",
    "    stack[n] = False\n",
    "    ctnr.append(n)\n",
    "    return False,ctnr,visted,stack\n",
    "\n",
    "\n",
    "t = int(input())\n",
    "for i in range(t):\n",
    "    r, c = map(int,input().split())\n",
    "    li = []\n",
    "    for j in range(r):\n",
    "        li.append(input())\n",
    "    graph = [set() for j in range(26)]\n",
    "    count = [-1]*26\n",
    "    for j in range(r-1):\n",
    "        for k in range(c):\n",
    "            count[ord(li[j][k])-65] = 0\n",
    "            if li[j+1][k] != li[j][k]:\n",
    "                count[ord(li[j][k])-65] = 1\n",
    "                graph[ord(li[j][k])-65].add(ord(li[j+1][k])-65)\n",
    "    visted = [False]*26\n",
    "    stack = [False]*26\n",
    "    ctnr = []\n",
    "    for n in range(26):\n",
    "        if (not visted[n]) and count[n] != -1:\n",
    "            val, ctnr,visted,stack = is_cycle(n,visted,stack,graph,ctnr)\n",
    "            if val:\n",
    "                print(-1)\n",
    "                break\n",
    "    else:\n",
    "        for j in ctnr:\n",
    "            print(chr(j+65),end=\" \")\n",
    "        print()"
   ]
  },
  {
   "cell_type": "code",
   "execution_count": null,
   "metadata": {},
   "outputs": [],
   "source": []
  },
  {
   "cell_type": "code",
   "execution_count": 27,
   "metadata": {},
   "outputs": [
    {
     "name": "stdout",
     "output_type": "stream",
     "text": [
      "1\n",
      "5\n",
      "30 30 9 1 30\n",
      "2 2\n",
      "3 3\n",
      "0 4\n",
      "3\n"
     ]
    }
   ],
   "source": [
    "t = int(input())\n",
    "for i in range(t):\n",
    "    n = int(input())\n",
    "    new_li = list(map(float,input().split()))\n",
    "    count = 0\n",
    "    for j in range(1,n):\n",
    "        new_li[j] = new_li[j] + new_li[j-1]\n",
    "    for j in range(n):\n",
    "        var = new_li[j]\n",
    "        if var >= 0 and var == pow(int(var**(1/2)),2):\n",
    "            count += 1\n",
    "        for k in range(j+1,n):\n",
    "            var2 = new_li[k]-var\n",
    "            if var2 >= 0 and var2 == pow(int(var2**(1/2)),2):\n",
    "                count += 1\n",
    "    print('Case #'+str(i+1),end=\": \")\n",
    "    print(count)"
   ]
  },
  {
   "cell_type": "code",
   "execution_count": 10,
   "metadata": {},
   "outputs": [
    {
     "name": "stdout",
     "output_type": "stream",
     "text": [
      "1\n",
      "3 1\n",
      "2 4 6\n",
      "Yes\n"
     ]
    }
   ],
   "source": [
    "t = int(input())\n",
    "for i in range(t):\n",
    "    n,x = map(int,input().split())\n",
    "    arr = [int(j) for j in input().split()]\n",
    "    o = 0\n",
    "    e = 0\n",
    "    for j in arr:\n",
    "        if j%2 == 0:\n",
    "            e += 1\n",
    "        else:\n",
    "            o += 1\n",
    "    if o == 0:\n",
    "        print('No')\n",
    "        continue\n",
    "    x -= min((x - (x+1)%2),(o - ((o+1)%2)))\n",
    "    if x <= e:\n",
    "        print('Yes')\n",
    "    else:\n",
    "        print('No')"
   ]
  },
  {
   "cell_type": "code",
   "execution_count": 12,
   "metadata": {},
   "outputs": [
    {
     "name": "stdout",
     "output_type": "stream",
     "text": [
      "2\n",
      "10101010000011\n",
      "4\n",
      "101010111000001010101\n",
      "7\n"
     ]
    }
   ],
   "source": [
    "t  =int(input())\n",
    "for i in range(t):\n",
    "    st = input()\n",
    "    z = 0\n",
    "    for j in st:\n",
    "        if j == '0':\n",
    "            z += 1\n",
    "    arr1 = [z]\n",
    "    for j in st:\n",
    "        if j == '0':\n",
    "            arr1.append(arr1[-1] - 1)\n",
    "        else:\n",
    "            arr1.append(arr1[-1] + 1)\n",
    "    arr2 = [(len(st)-z)]\n",
    "    for j in st:\n",
    "        if j == '1':\n",
    "            arr2.append(arr2[-1] - 1)\n",
    "        else:\n",
    "            arr2.append(arr2[-1] + 1)\n",
    "    print(min(arr1+arr2))"
   ]
  },
  {
   "cell_type": "code",
   "execution_count": 13,
   "metadata": {},
   "outputs": [
    {
     "name": "stdout",
     "output_type": "stream",
     "text": [
      "1\n",
      "3 1\n",
      "1 2\n",
      "3 1\n",
      "Aayush\n"
     ]
    }
   ],
   "source": [
    "t = int(input())\n",
    "for i in range(t):\n",
    "    n, x = map(int,input().split())\n",
    "    cnt = 0\n",
    "    for j in range(n-1):\n",
    "        a,b = map(int,input().split())\n",
    "        if a == x:\n",
    "            cnt += 1\n",
    "        if b == x:\n",
    "            cnt += 1\n",
    "    if cnt <= 1 or n%2 == 0:\n",
    "        print('Ayush')\n",
    "    else:\n",
    "        print('Ashish')"
   ]
  },
  {
   "cell_type": "code",
   "execution_count": null,
   "metadata": {},
   "outputs": [],
   "source": []
  },
  {
   "cell_type": "code",
   "execution_count": null,
   "metadata": {},
   "outputs": [],
   "source": []
  }
 ],
 "metadata": {
  "kernelspec": {
   "display_name": "Python 3",
   "language": "python",
   "name": "python3"
  },
  "language_info": {
   "codemirror_mode": {
    "name": "ipython",
    "version": 3
   },
   "file_extension": ".py",
   "mimetype": "text/x-python",
   "name": "python",
   "nbconvert_exporter": "python",
   "pygments_lexer": "ipython3",
   "version": "3.8.2"
  }
 },
 "nbformat": 4,
 "nbformat_minor": 4
}
