{
 "cells": [
  {
   "cell_type": "code",
   "execution_count": 2,
   "metadata": {},
   "outputs": [],
   "source": [
    "import pandas as pd"
   ]
  },
  {
   "cell_type": "code",
   "execution_count": 4,
   "metadata": {},
   "outputs": [],
   "source": [
    "df = pd.DataFrame(columns=['num'])"
   ]
  },
  {
   "cell_type": "code",
   "execution_count": 6,
   "metadata": {},
   "outputs": [
    {
     "data": {
      "text/plain": [
       "0     1\n",
       "1     4\n",
       "2     9\n",
       "3    16\n",
       "Name: num, dtype: int64"
      ]
     },
     "execution_count": 6,
     "metadata": {},
     "output_type": "execute_result"
    }
   ],
   "source": [
    "df['num']  = [1,2,3,4]\n",
    "df['num'].apply(lambda x: x*x)"
   ]
  },
  {
   "cell_type": "code",
   "execution_count": 6,
   "metadata": {},
   "outputs": [],
   "source": [
    "def get_mers(s,k):\n",
    "    arr = []\n",
    "    for i in range(len(s)-k+1):\n",
    "        arr.append(s[i:i+k])\n",
    "    print(len(s),len(arr))\n",
    "    return arr"
   ]
  },
  {
   "cell_type": "code",
   "execution_count": 11,
   "metadata": {},
   "outputs": [
    {
     "name": "stdout",
     "output_type": "stream",
     "text": [
      "33 29\n",
      "['GATGC', 'ATGCC', 'TGCCC', 'GCCCT', 'CCCTT', 'CCTTA', 'CTTAT', 'TTATC', 'TATCC', 'ATCCC', 'TCCCA', 'CCCAT', 'CCATC', 'CATCC', 'ATCCT', 'TCCTA', 'CCTAC', 'CTACC', 'TACCC', 'ACCCA', 'CCCAC', 'CCACT', 'CACTG', 'ACTGT', 'CTGTA', 'TGTAT', 'GTATA', 'TATAT', 'ATATA']\n"
     ]
    }
   ],
   "source": [
    "print(get_mers('GATGCCCTTATCCCATCCTACCCACTGTATATA',5))"
   ]
  },
  {
   "cell_type": "code",
   "execution_count": 41,
   "metadata": {},
   "outputs": [
    {
     "name": "stdout",
     "output_type": "stream",
     "text": [
      "33 31\n",
      "['AAG', 'ACT', 'AGG', 'AGG', 'CGT', 'CGT', 'CGT', 'CTC', 'CTG', 'GAA', 'GAG', 'GAT', 'GCG', 'GCT', 'GGA', 'GGC', 'GGG', 'GGT', 'GTA', 'GTG', 'GTG', 'GTG', 'GTT', 'TAC', 'TCG', 'TGA', 'TGA', 'TGC', 'TGG', 'TGT', 'TTG']\n"
     ]
    }
   ],
   "source": [
    "print(sorted(get_mers('CGTACTCGTGAAGGAGGCGTGCTGGGTGTTGAT',3)))"
   ]
  },
  {
   "cell_type": "code",
   "execution_count": 32,
   "metadata": {},
   "outputs": [],
   "source": []
  },
  {
   "cell_type": "code",
   "execution_count": 33,
   "metadata": {},
   "outputs": [],
   "source": [
    "arr = ['AAG','ACT','AGG','AGG','CGT','CGT','CGT','CTC','CTG','GAA','GAG','GAT','GCG','GCT','GGA','GGC','GGG','GGT','GTA','GTG','GTG','GTG','GTT','TAC','TCG','TGA','TGA','TGC','TGG','TGT','TTG']\n",
    "graph = [[] for i in range(len(arr))]\n",
    "for i in range(len(arr)):\n",
    "    for j in range(len(arr)):\n",
    "        if arr[i][1:] == arr[j][:-1]:\n",
    "            graph[i].append(j)\n",
    "def get_ham(t,graph,visited,c,n):\n",
    "    if c == n:\n",
    "        return 1\n",
    "    for i in graph[t]:\n",
    "        if visited[i] == -1:\n",
    "            visited[i] = c\n",
    "            if get_ham(i,graph,visited,c+1,n) == 1:\n",
    "                return 1\n",
    "            visited[i] = -1\n",
    "    return -1"
   ]
  },
  {
   "cell_type": "code",
   "execution_count": 38,
   "metadata": {},
   "outputs": [
    {
     "name": "stdout",
     "output_type": "stream",
     "text": [
      "[10, 3, 11, 14, 0, 6, 17, 4, 21, 9, 13, 30, 16, 20, 12, 15, 23, 24, 1, 7, 18, 25, 27, 2, 5, 8, 29, 19, 22, 26, 28]\n",
      "['CGT', 'GTA', 'TAC', 'ACT', 'CTC', 'TCG', 'CGT', 'GTG', 'TGA', 'GAA', 'AAG', 'AGG', 'GGA', 'GAG', 'AGG', 'GGC', 'GCG', 'CGT', 'GTG', 'TGC', 'GCT', 'CTG', 'TGG', 'GGG', 'GGT', 'GTG', 'TGT', 'GTT', 'TTG', 'TGA', 'GAT']\n"
     ]
    }
   ],
   "source": [
    "visited = [-1]*len(arr)\n",
    "visited[4] = 0\n",
    "get_ham(4,graph,visited,1,len(arr))\n",
    "print(visited)\n",
    "fin = []\n",
    "for i in range(len(arr)):\n",
    "    for j in range(len(visited)):\n",
    "        if visited[j] == i:\n",
    "            fin.append(arr[j])\n",
    "print(fin)"
   ]
  },
  {
   "cell_type": "code",
   "execution_count": 40,
   "metadata": {},
   "outputs": [
    {
     "name": "stdout",
     "output_type": "stream",
     "text": [
      "CGTACTCGTGAAGGAGGCGTGCTGGGTGTTGAT"
     ]
    }
   ],
   "source": [
    "print('CG',end='')\n",
    "for i in fin:\n",
    "    print(i[-1],end='')"
   ]
  },
  {
   "cell_type": "code",
   "execution_count": 150,
   "metadata": {},
   "outputs": [],
   "source": [
    "m=10;s=-7;d=-3\n",
    "a = 'GGAGAAAAAACCACTGG';b = 'CATGAAACACCACTGG'\n",
    "dp = [[[0,'',''] for j in range(len(b)+1)] for i in range(len(a)+1)]\n",
    "for i in range(1,len(b)+1):\n",
    "    dp[0][i] = [d*i,'-'*i,b[:i]]\n",
    "for i in range(1,len(a)+1):\n",
    "    dp[i][0] = [d*i,a[:i],'-'*i]\n",
    "for i in range(1,len(a)+1):\n",
    "    for j in range(1,len(b)+1):\n",
    "        if a[i-1] == b[j-1]:\n",
    "            dp[i][j][0] = dp[i-1][j-1][0]+m\n",
    "            dp[i][j][1] = dp[i-1][j-1][1]+a[i-1]\n",
    "            dp[i][j][2] = dp[i-1][j-1][2]+b[j-1]\n",
    "        else:\n",
    "            if dp[i-1][j-1][0]+s >= dp[i-1][j][0]+d:\n",
    "                if dp[i-1][j-1][0]+s >= dp[i][j-1][0]+d:\n",
    "                    dp[i][j][0] = dp[i-1][j-1][0]+s\n",
    "                    dp[i][j][1] = dp[i-1][j-1][1]+a[i-1]\n",
    "                    dp[i][j][2] = dp[i-1][j-1][2]+b[j-1]\n",
    "                else:\n",
    "                    dp[i][j][0] = dp[i][j-1][0]+d\n",
    "                    dp[i][j][1] = dp[i][j-1][1]+'-'\n",
    "                    dp[i][j][2] = dp[i][j-1][2]+b[j-1]\n",
    "            else:\n",
    "                if dp[i-1][j][0]+d >= dp[i][j-1][0]+d:\n",
    "                    dp[i][j][0] = dp[i-1][j][0]+d\n",
    "                    dp[i][j][1] = dp[i-1][j][1]+a[i-1]\n",
    "                    dp[i][j][2] = dp[i-1][j][2]+'-'\n",
    "                else:\n",
    "                    dp[i][j][0] = dp[i][j-1][0]+d\n",
    "                    dp[i][j][1] = dp[i][j-1][1]+'-'\n",
    "                    dp[i][j][2] = dp[i][j-1][2]+b[j-1]"
   ]
  },
  {
   "cell_type": "code",
   "execution_count": 151,
   "metadata": {},
   "outputs": [
    {
     "data": {
      "text/plain": [
       "[109, '-GGA-GAAA-AAACCACTGG', 'C--ATGAAAC--ACCACTGG']"
      ]
     },
     "execution_count": 151,
     "metadata": {},
     "output_type": "execute_result"
    }
   ],
   "source": [
    "dp[-1][-1]"
   ]
  },
  {
   "cell_type": "code",
   "execution_count": 152,
   "metadata": {},
   "outputs": [
    {
     "name": "stdout",
     "output_type": "stream",
     "text": [
      "        C   A   T   G   A   A   A   C   A   C   C   A   C   T   G   G \n",
      "   _________________________________________________________________\n",
      " |  0  -3  -6  -9 -12 -15 -18 -21 -24 -27 -30 -33 -36 -39 -42 -45 -48 \n",
      "G| -3  -6  -9 -12   1  -2  -5  -8 -11 -14 -17 -20 -23 -26 -29 -32 -35 \n",
      "G| -6  -9 -12 -15  -2  -5  -8 -11 -14 -17 -20 -23 -26 -29 -32 -19 -22 \n",
      "A| -9 -12   1  -2  -5   8   5   2  -1  -4  -7 -10 -13 -16 -19 -22 -25 \n",
      "G|-12 -15  -2  -5   8   5   2  -1  -4  -7 -10 -13 -16 -19 -22  -9 -12 \n",
      "A|-15 -18  -5  -8   5  18  15  12   9   6   3   0  -3  -6  -9 -12 -15 \n",
      "A|-18 -21  -8 -11   2  15  28  25  22  19  16  13  10   7   4   1  -2 \n",
      "A|-21 -24 -11 -14  -1  12  25  38  35  32  29  26  23  20  17  14  11 \n",
      "A|-24 -27 -14 -17  -4   9  22  35  32  45  42  39  36  33  30  27  24 \n",
      "A|-27 -30 -17 -20  -7   6  19  32  29  42  39  36  49  46  43  40  37 \n",
      "A|-30 -33 -20 -23 -10   3  16  29  26  39  36  33  46  43  40  37  34 \n",
      "C|-33 -20 -23 -26 -13   0  13  26  39  36  49  46  43  56  53  50  47 \n",
      "C|-36 -23 -26 -29 -16  -3  10  23  36  33  46  59  56  53  50  47  44 \n",
      "A|-39 -26 -13 -16 -19  -6   7  20  33  46  43  56  69  66  63  60  57 \n",
      "C|-42 -29 -16 -19 -22  -9   4  17  30  43  56  53  66  79  76  73  70 \n",
      "T|-45 -32 -19  -6  -9 -12   1  14  27  40  53  50  63  76  89  86  83 \n",
      "G|-48 -35 -22  -9   4   1  -2  11  24  37  50  47  60  73  86  99  96 \n",
      "G|-51 -38 -25 -12   1  -2  -5   8  21  34  47  44  57  70  83  96 109 \n"
     ]
    }
   ],
   "source": [
    "print('  ',end='    ')\n",
    "for i in b:\n",
    "    print('  '+i,end=' ')\n",
    "print('\\n   _________________________________________________________________')\n",
    "for i in range(len(dp)):\n",
    "    if i > 0:\n",
    "        print(a[i-1],end='|')\n",
    "    else:\n",
    "        print(' |',end='')\n",
    "    for j in range(len(dp[i])):\n",
    "        if len(str(dp[i][j][0])) == 1:\n",
    "            print('',end='  ')\n",
    "        elif len(str(dp[i][j][0])) == 2:\n",
    "            print('',end=' ')\n",
    "        print(dp[i][j][0],end=' ')\n",
    "    print()"
   ]
  },
  {
   "cell_type": "code",
   "execution_count": 153,
   "metadata": {},
   "outputs": [
    {
     "name": "stdout",
     "output_type": "stream",
     "text": [
      "| -|C --|CA ---|CAT ----|CATG -----|CATGA ------|CATGAA -------|CATGAAA --------|CATGAAAC ---------|CATGAAACA ----------|CATGAAACAC -----------|CATGAAACACC ------------|CATGAAACACCA -------------|CATGAAACACCAC --------------|CATGAAACACCACT ---------------|CATGAAACACCACTG ----------------|CATGAAACACCACTGG \n",
      "G|- -G|C- --G|CA- ---G|CAT- ---G|CATG ---G-|CATGA ---G--|CATGAA ---G---|CATGAAA ---G----|CATGAAAC ---G-----|CATGAAACA ---G------|CATGAAACAC ---G-------|CATGAAACACC ---G--------|CATGAAACACCA ---G---------|CATGAAACACCAC ---G----------|CATGAAACACCACT --------------G|CATGAAACACCACTG ---------------G|CATGAAACACCACTGG \n",
      "GG|-- -GG|C-- --GG|CA-- ---GG|CAT-- ---GG|CAT-G ---G-G|CATGA- ---G--G|CATGAA- ---G---G|CATGAAA- ---G----G|CATGAAAC- ---G-----G|CATGAAACA- ---G------G|CATGAAACAC- ---G-------G|CATGAAACACC- ---G--------G|CATGAAACACCA- ---G---------G|CATGAAACACCAC- ---G----------G|CATGAAACACCACT- ---G----------G|CATGAAACACCACTG --------------GG|CATGAAACACCACTGG \n",
      "GGA|--- -GGA|C--- -GGA|C--A -GGA-|C--AT ---GGA|CAT-G- ---GGA|CAT-GA ---G-GA|CATGA-A ---G--GA|CATGAA-A ---G--GA-|CATGAA-AC ---G----GA|CATGAAAC-A ---G----GA-|CATGAAAC-AC ---G----GA--|CATGAAAC-ACC ---G-------GA|CATGAAACACC-A ---G-------GA-|CATGAAACACC-AC ---G-------GA--|CATGAAACACC-ACT ---G----------GA|CATGAAACACCACTG- --------------GGA|CATGAAACACCACTGG- \n",
      "GGAG|---- -GGAG|C---- -GGAG|C--A- -GGA-G|C--AT- -GGA-G|C--ATG ---GGAG|CAT-GA- ---G-GAG|CATGA-A- ---G--GAG|CATGAA-A- ---G--GA-G|CATGAA-AC- ---G----GAG|CATGAAAC-A- ---G----GA-G|CATGAAAC-AC- ---G----GA--G|CATGAAAC-ACC- ---G-------GAG|CATGAAACACC-A- ---G-------GA-G|CATGAAACACC-AC- ---G-------GA--G|CATGAAACACC-ACT- ---G-------GA--G|CATGAAACACC-ACTG ---G----------GAG|CATGAAACACCACTG-G \n",
      "GGAGA|----- -GGAGA|C----- -GGAGA|C----A -GGA-GA|C--AT-- -GGA-GA|C--ATG- -GGA-GA|C--ATGA ---GGAGA|CAT-GA-A ---G-GAGA|CATGA-A-A ---G-GAGA-|CATGA-A-AC ---G--GA-GA|CATGAA-AC-A ---G--GA-GA-|CATGAA-AC-AC ---G--GA-GA--|CATGAA-AC-ACC ---G----GA--GA|CATGAAAC-ACC-A ---G----GA--GA-|CATGAAAC-ACC-AC ---G----GA--GA--|CATGAAAC-ACC-ACT ---G-------GA--GA|CATGAAACACC-ACTG- ---G----------GAGA|CATGAAACACCACTG-G- \n",
      "GGAGAA|------ -GGAGAA|C------ -GGAGAA|C-----A -GGA-GAA|C--AT--- -GGA-GAA|C--ATG-- -GGA-GAA|C--ATG-A -GGA-GAA|C--ATGAA ---GGAGAA|CAT-GA-AA ---GGAGAA-|CAT-GA-AAC ---G-GAGA-A|CATGA-A-ACA ---G-GAGA-A-|CATGA-A-ACAC ---G-GAGA-A--|CATGA-A-ACACC ---G--GA-GA--A|CATGAA-AC-ACCA ---G--GA-GA--A-|CATGAA-AC-ACCAC ---G--GA-GA--A--|CATGAA-AC-ACCACT ---G--GA-GA--A---|CATGAA-AC-ACCACTG ---G--GA-GA--A----|CATGAA-AC-ACCACTGG \n",
      "GGAGAAA|------- -GGAGAAA|C------- -GGAGAAA|C------A -GGA-GAAA|C--AT---- -GGA-GAAA|C--ATG--- -GGA-GAAA|C--ATG--A -GGA-GAAA|C--ATG-AA -GGA-GAAA|C--ATGAAA -GGA-GAAA-|C--ATGAAAC ---GGAGAA-A|CAT-GA-AACA ---GGAGAA-A-|CAT-GA-AACAC ---GGAGAA-A--|CAT-GA-AACACC ---G-GAGA-A--A|CATGA-A-ACACCA ---G-GAGA-A--A-|CATGA-A-ACACCAC ---G-GAGA-A--A--|CATGA-A-ACACCACT ---G-GAGA-A--A---|CATGA-A-ACACCACTG ---G-GAGA-A--A----|CATGA-A-ACACCACTGG \n",
      "GGAGAAAA|-------- -GGAGAAAA|C-------- -GGAGAAAA|C-------A -GGA-GAAAA|C--AT----- -GGA-GAAAA|C--ATG---- -GGA-GAAAA|C--ATG---A -GGA-GAAAA|C--ATG--AA -GGA-GAAAA|C--ATG-AAA -GGA-GAAA-A|C--ATGAAAC- -GGA-GAAA-A|C--ATGAAACA -GGA-GAAA-A-|C--ATGAAACAC -GGA-GAAA-A--|C--ATGAAACACC ---GGAGAA-A--A|CAT-GA-AACACCA ---GGAGAA-A--A-|CAT-GA-AACACCAC ---GGAGAA-A--A--|CAT-GA-AACACCACT ---GGAGAA-A--A---|CAT-GA-AACACCACTG ---GGAGAA-A--A----|CAT-GA-AACACCACTGG \n",
      "GGAGAAAAA|--------- -GGAGAAAAA|C--------- -GGAGAAAAA|C--------A -GGA-GAAAAA|C--AT------ -GGA-GAAAAA|C--ATG----- -GGA-GAAAAA|C--ATG----A -GGA-GAAAAA|C--ATG---AA -GGA-GAAAAA|C--ATG--AAA -GGA-GAAA-AA|C--ATGAAAC-- -GGA-GAAA-AA|C--ATGAAAC-A -GGA-GAAA-A-A|C--ATGAAACAC- -GGA-GAAA-A--A|C--ATGAAACACC- -GGA-GAAA-A--A|C--ATGAAACACCA -GGA-GAAA-A--A-|C--ATGAAACACCAC -GGA-GAAA-A--A--|C--ATGAAACACCACT -GGA-GAAA-A--A---|C--ATGAAACACCACTG -GGA-GAAA-A--A----|C--ATGAAACACCACTGG \n",
      "GGAGAAAAAA|---------- -GGAGAAAAAA|C---------- -GGAGAAAAAA|C---------A -GGA-GAAAAAA|C--AT------- -GGA-GAAAAAA|C--ATG------ -GGA-GAAAAAA|C--ATG-----A -GGA-GAAAAAA|C--ATG----AA -GGA-GAAAAAA|C--ATG---AAA -GGA-GAAA-AAA|C--ATGAAAC--- -GGA-GAAA-AAA|C--ATGAAAC--A -GGA-GAAA-A-AA|C--ATGAAACAC-- -GGA-GAAA-A--AA|C--ATGAAACACC-- -GGA-GAAA-A--AA|C--ATGAAACACC-A -GGA-GAAA-A--A-A|C--ATGAAACACCAC- -GGA-GAAA-A--A--A|C--ATGAAACACCACT- -GGA-GAAA-A--A---A|C--ATGAAACACCACTG- -GGA-GAAA-A--A----A|C--ATGAAACACCACTGG- \n",
      "GGAGAAAAAAC|----------- GGAGAAAAAAC|----------C -GGAGAAAAAAC|C---------A- -GGA-GAAAAAAC|C--AT-------- -GGA-GAAAAAAC|C--ATG------- -GGA-GAAAAAAC|C--ATG-----A- -GGA-GAAAAAAC|C--ATG----AA- -GGA-GAAAAAAC|C--ATG---AAA- -GGA-GAAAAAAC|C--ATG---AAAC -GGA-GAAA-AAAC|C--ATGAAAC--A- -GGA-GAAA-AAAC|C--ATGAAAC--AC -GGA-GAAA-A-AAC|C--ATGAAACAC--C -GGA-GAAA-A--AAC|C--ATGAAACACC-A- -GGA-GAAA-A--AAC|C--ATGAAACACC-AC -GGA-GAAA-A--AAC-|C--ATGAAACACC-ACT -GGA-GAAA-A--AAC--|C--ATGAAACACC-ACTG -GGA-GAAA-A--AAC---|C--ATGAAACACC-ACTGG \n",
      "GGAGAAAAAACC|------------ GGAGAAAAAACC|-----------C -GGAGAAAAAACC|C---------A-- -GGA-GAAAAAACC|C--AT--------- -GGA-GAAAAAACC|C--ATG-------- -GGA-GAAAAAACC|C--ATG-----A-- -GGA-GAAAAAACC|C--ATG----AA-- -GGA-GAAAAAACC|C--ATG---AAA-- -GGA-GAAAAAACC|C--ATG---AAA-C -GGA-GAAA-AAACC|C--ATGAAAC--A-- -GGA-GAAA-AAACC|C--ATGAAAC--A-C -GGA-GAAA-AAACC|C--ATGAAAC--ACC -GGA-GAAA-AAACC-|C--ATGAAAC--ACCA -GGA-GAAA-A--AACC|C--ATGAAACACC-A-C -GGA-GAAA-A--AAC-C|C--ATGAAACACC-ACT- -GGA-GAAA-A--AAC--C|C--ATGAAACACC-ACTG- -GGA-GAAA-A--AAC---C|C--ATGAAACACC-ACTGG- \n",
      "GGAGAAAAAACCA|------------- GGAGAAAAAACCA|-----------C- GGAGAAAAAACCA|-----------CA GGAGAAAAAACCA-|-----------CAT -GGA-GAAAAAACCA|C--ATG--------- -GGA-GAAAAAACCA|C--ATG--------A -GGA-GAAAAAACCA|C--ATG-----A--A -GGA-GAAAAAACCA|C--ATG----AA--A -GGA-GAAAAAACCA|C--ATG---AAA-C- -GGA-GAAAAAACCA|C--ATG---AAA-CA -GGA-GAAA-AAACCA|C--ATGAAAC--A-C- -GGA-GAAA-AAACCA|C--ATGAAAC--ACC- -GGA-GAAA-AAACCA|C--ATGAAAC--ACCA -GGA-GAAA-AAACCA-|C--ATGAAAC--ACCAC -GGA-GAAA-AAACCA--|C--ATGAAAC--ACCACT -GGA-GAAA-AAACCA---|C--ATGAAAC--ACCACTG -GGA-GAAA-AAACCA----|C--ATGAAAC--ACCACTGG \n",
      "GGAGAAAAAACCAC|-------------- GGAGAAAAAACCAC|-------------C GGAGAAAAAACCAC|-----------CA- GGAGAAAAAACCA-C|-----------CAT- -GGA-GAAAAAACCAC|C--ATG---------- -GGA-GAAAAAACCAC|C--ATG--------A- -GGA-GAAAAAACCAC|C--ATG-----A--A- -GGA-GAAAAAACCAC|C--ATG----AA--A- -GGA-GAAAAAACCAC|C--ATG----AA--AC -GGA-GAAAAAACCAC|C--ATG---AAA-CA- -GGA-GAAAAAACCAC|C--ATG---AAA-CAC -GGA-GAAA-AAACCAC|C--ATGAAAC--A-C-C -GGA-GAAA-AAACCAC|C--ATGAAAC--ACCA- -GGA-GAAA-AAACCAC|C--ATGAAAC--ACCAC -GGA-GAAA-AAACCAC-|C--ATGAAAC--ACCACT -GGA-GAAA-AAACCAC--|C--ATGAAAC--ACCACTG -GGA-GAAA-AAACCAC---|C--ATGAAAC--ACCACTGG \n",
      "GGAGAAAAAACCACT|--------------- GGAGAAAAAACCACT|-------------C- GGAGAAAAAACCACT|-----------CA-- GGAGAAAAAACCACT|-----------CA-T GGAGAAAAAACCACT-|-----------CA-TG -GGA-GAAAAAACCACT|C--ATG--------A-- -GGA-GAAAAAACCACT|C--ATG-----A--A-- -GGA-GAAAAAACCACT|C--ATG----AA--A-- -GGA-GAAAAAACCACT|C--ATG----AA--AC- -GGA-GAAAAAACCACT|C--ATG---AAA-CA-- -GGA-GAAAAAACCACT|C--ATG---AAA-CAC- -GGA-GAAA-AAACCACT|C--ATGAAAC--A-C-C- -GGA-GAAA-AAACCACT|C--ATGAAAC--ACCA-- -GGA-GAAA-AAACCACT|C--ATGAAAC--ACCAC- -GGA-GAAA-AAACCACT|C--ATGAAAC--ACCACT -GGA-GAAA-AAACCACT-|C--ATGAAAC--ACCACTG -GGA-GAAA-AAACCACT--|C--ATGAAAC--ACCACTGG \n",
      "GGAGAAAAAACCACTG|---------------- GGAGAAAAAACCACTG|-------------C-- GGAGAAAAAACCACTG|-----------CA--- GGAGAAAAAACCACTG|-----------CA-T- GGAGAAAAAACCACTG|-----------CA-TG GGAGAAAAAACCACTG-|-----------CA-TGA -GGA-GAAAAAACCACTG|C--ATG-----A--A--- -GGA-GAAAAAACCACTG|C--ATG----AA--A--- -GGA-GAAAAAACCACTG|C--ATG----AA--AC-- -GGA-GAAAAAACCACTG|C--ATG---AAA-CA--- -GGA-GAAAAAACCACTG|C--ATG---AAA-CAC-- -GGA-GAAA-AAACCACTG|C--ATGAAAC--A-C-C-- -GGA-GAAA-AAACCACTG|C--ATGAAAC--ACCA--- -GGA-GAAA-AAACCACTG|C--ATGAAAC--ACCAC-- -GGA-GAAA-AAACCACTG|C--ATGAAAC--ACCACT- -GGA-GAAA-AAACCACTG|C--ATGAAAC--ACCACTG -GGA-GAAA-AAACCACT-G|C--ATGAAAC--ACCACTGG \n",
      "GGAGAAAAAACCACTGG|----------------- GGAGAAAAAACCACTGG|-------------C--- GGAGAAAAAACCACTGG|-----------CA---- GGAGAAAAAACCACTGG|-----------CA-T-- GGAGAAAAAACCACTGG|-----------CA-T-G GGAGAAAAAACCACTG-G|-----------CA-TGA- -GGA-GAAAAAACCACTGG|C--ATG-----A--A---- -GGA-GAAAAAACCACTGG|C--ATG----AA--A---- -GGA-GAAAAAACCACTGG|C--ATG----AA--AC--- -GGA-GAAAAAACCACTGG|C--ATG---AAA-CA---- -GGA-GAAAAAACCACTGG|C--ATG---AAA-CAC--- -GGA-GAAA-AAACCACTGG|C--ATGAAAC--A-C-C--- -GGA-GAAA-AAACCACTGG|C--ATGAAAC--ACCA---- -GGA-GAAA-AAACCACTGG|C--ATGAAAC--ACCAC--- -GGA-GAAA-AAACCACTGG|C--ATGAAAC--ACCACT-- -GGA-GAAA-AAACCACTGG|C--ATGAAAC--ACCACT-G -GGA-GAAA-AAACCACTGG|C--ATGAAAC--ACCACTGG \n"
     ]
    }
   ],
   "source": [
    "# for i in range(len(dp)):\n",
    "#     print(dp[i][0])\n",
    "for i in dp:\n",
    "    for j in i:\n",
    "        print(j[1]+'|'+j[2],end=' ')\n",
    "    print()"
   ]
  },
  {
   "cell_type": "code",
   "execution_count": 99,
   "metadata": {},
   "outputs": [
    {
     "data": {
      "text/plain": [
       "([1, 'CGGA-GAAAAAACCACT', '---ATG-----A--A--'],\n",
       " [1, 'GGAGAAAAAACCACTG-', '-----------CA-TGA'])"
      ]
     },
     "execution_count": 99,
     "metadata": {},
     "output_type": "execute_result"
    }
   ],
   "source": [
    "dp[-3][6],dp[-2][5]"
   ]
  },
  {
   "cell_type": "code",
   "execution_count": 129,
   "metadata": {},
   "outputs": [
    {
     "data": {
      "text/plain": [
       "(9, 9)"
      ]
     },
     "execution_count": 129,
     "metadata": {},
     "output_type": "execute_result"
    }
   ],
   "source": [
    "len(dp[-1][-1][1]),len(dp[-1][-1][2])"
   ]
  },
  {
   "cell_type": "code",
   "execution_count": null,
   "metadata": {},
   "outputs": [],
   "source": []
  }
 ],
 "metadata": {
  "kernelspec": {
   "display_name": "Python 3",
   "language": "python",
   "name": "python3"
  },
  "language_info": {
   "codemirror_mode": {
    "name": "ipython",
    "version": 3
   },
   "file_extension": ".py",
   "mimetype": "text/x-python",
   "name": "python",
   "nbconvert_exporter": "python",
   "pygments_lexer": "ipython3",
   "version": "3.8.3"
  }
 },
 "nbformat": 4,
 "nbformat_minor": 4
}
