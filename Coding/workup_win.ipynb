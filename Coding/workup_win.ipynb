{
 "cells": [
  {
   "cell_type": "code",
   "execution_count": 37,
   "metadata": {},
   "outputs": [
    {
     "name": "stdout",
     "output_type": "stream",
     "text": [
      "1\n",
      "2(3(NW)2(W2(EE)W))\n",
      "Case #1: 3 999999995\n"
     ]
    }
   ],
   "source": [
    "t = int(input())\n",
    "for i in range(t):\n",
    "    st = input()\n",
    "    stack = []\n",
    "    wstack = []\n",
    "    hstack = []\n",
    "    wvar = 0\n",
    "    hvar = 0\n",
    "    for j in st:\n",
    "        if j == '(':\n",
    "            wstack.append(wvar)\n",
    "            hstack.append(hvar)\n",
    "            wvar = 0\n",
    "            hvar = 0\n",
    "        elif j == ')':\n",
    "            x = stack.pop()\n",
    "            hh = hstack.pop()\n",
    "            ww = wstack.pop()\n",
    "            hvar = (hh+x*hvar)\n",
    "            wvar = (ww+x*wvar)\n",
    "        elif j == 'N':\n",
    "            hvar -= 1\n",
    "        elif j == 'S':\n",
    "            hvar += 1\n",
    "        elif j == 'W':\n",
    "            wvar -= 1\n",
    "        elif j == 'E':\n",
    "            wvar += 1\n",
    "        else:\n",
    "            vl = int(j)\n",
    "            stack.append(vl)\n",
    "        #print(hvar,hstack)\n",
    "    print('Case #'+str(i+1)+': ',end='')\n",
    "    mod = 1000000000\n",
    "    print(str(1+((wvar)%mod)),end=' ')\n",
    "    print(str(1+((hvar)%mod)))"
   ]
  },
  {
   "cell_type": "code",
   "execution_count": 47,
   "metadata": {},
   "outputs": [
    {
     "name": "stdout",
     "output_type": "stream",
     "text": [
      "1\n",
      "6 4 1 3 3 4\n",
      "0.3125\n"
     ]
    }
   ],
   "source": [
    "t = int(input())\n",
    "for i in range(t):\n",
    "    w,h,l,u,r,d = map(int,input().split())\n",
    "    grid = [[0 for j in range(w)] for k in range(h)]\n",
    "    grid[0][0] = 1\n",
    "    for k in range(h):\n",
    "        for j in range(w):\n",
    "            if j < w-1 and k < h - 1:\n",
    "                grid[k][j+1] += (grid[k][j]/2)\n",
    "                grid[k+1][j] += (grid[k][j]/2)\n",
    "            elif j < w-1:\n",
    "                grid[k][j+1] += (grid[k][j])\n",
    "            elif k < h - 1:\n",
    "                grid[k+1][j] += (grid[k][j])\n",
    "    count = 0\n",
    "    if u-2 >= 0:\n",
    "        k = u-2\n",
    "        for j in range(l-1,r):\n",
    "            if j < w-1:\n",
    "                count += (grid[k][j]/2)\n",
    "            else:\n",
    "                count += grid[k][j]\n",
    "    if l-2 >= 0:\n",
    "        j = l-2\n",
    "        for k in range(u-1,d):\n",
    "            if j < w-1 and k < h - 1:\n",
    "                count += (grid[k][j]/2)\n",
    "            else:\n",
    "                count += grid[k][j]\n",
    "    print('Case #'+str(i+1)+': ',end='')\n",
    "    if count == 0:\n",
    "        print(0)\n",
    "    else:\n",
    "        print(1-count)"
   ]
  },
  {
   "cell_type": "code",
   "execution_count": null,
   "metadata": {},
   "outputs": [],
   "source": []
  },
  {
   "cell_type": "code",
   "execution_count": null,
   "metadata": {},
   "outputs": [],
   "source": []
  },
  {
   "cell_type": "code",
   "execution_count": null,
   "metadata": {},
   "outputs": [],
   "source": []
  },
  {
   "cell_type": "code",
   "execution_count": null,
   "metadata": {},
   "outputs": [],
   "source": []
  },
  {
   "cell_type": "code",
   "execution_count": null,
   "metadata": {},
   "outputs": [],
   "source": [
    "t = input()\n",
    "for i in range(int(t)):\n",
    "    x = input()\n",
    "    print(str(int(x)-1)+\" 1\")"
   ]
  },
  {
   "cell_type": "code",
   "execution_count": null,
   "metadata": {},
   "outputs": [],
   "source": [
    "t = int(input())\n",
    "for i in range(t):\n",
    "    n = int(input())\n",
    "    arr = list(map(int,input().split()))\n",
    "    arr.sort()\n",
    "    count = 0\n",
    "    for j in range(n-1):\n",
    "        if arr[j] == arr[j+1] :\n",
    "            count += 1\n",
    "    print(n-count)"
   ]
  },
  {
   "cell_type": "code",
   "execution_count": null,
   "metadata": {},
   "outputs": [],
   "source": [
    "n = int(input())\n",
    "occ = [0 for i in range(n)]\n",
    "graph = [[0,0] for i in range(n-1)]\n",
    "for i in range(n-1):\n",
    "    x, y = map(int,input().split())\n",
    "    occ[x-1]+=1\n",
    "    occ[y-1]+=1\n",
    "    graph[i][0] = x-1\n",
    "    graph[i][1] = y-1\n",
    "    \n",
    "fin = [-1 for i in range(n-1)]\n",
    "for i in range(n):\n",
    "    if occ[i] >= 3 :\n",
    "        var = 0\n",
    "        for j in range(n-1):\n",
    "            if graph[j][0] == i or graph[j][1] == i:\n",
    "                fin[j] = var\n",
    "                var += 1\n",
    "        break\n",
    "else:\n",
    "    var = 0\n",
    "    for i in range(n):\n",
    "        if var > 1:\n",
    "            break\n",
    "        if occ[i] == 1:\n",
    "            for j in range(n-1):\n",
    "                if graph[j][0] == i or graph[j][1] == i:\n",
    "                    fin[j] = var\n",
    "                    var += 1\n",
    "                    break\n",
    "for i in fin:\n",
    "    if n == 2:\n",
    "        print(0)\n",
    "        break\n",
    "    if i == -1:\n",
    "        print(var)\n",
    "        var += 1\n",
    "    else:\n",
    "        print(i)"
   ]
  },
  {
   "cell_type": "code",
   "execution_count": null,
   "metadata": {},
   "outputs": [],
   "source": [
    "t = int(input())\n",
    "for i in range(t):\n",
    "    val = 0\n",
    "    n = int(input())\n",
    "    prn = [0 for k in range(n)]\n",
    "    for j in range(n):\n",
    "        arr = list(map(int,input().split()))\n",
    "        del arr[0]\n",
    "        for k in arr:\n",
    "            if prn[k-1] == 0:\n",
    "                prn[k-1] = -1\n",
    "                break\n",
    "        else :\n",
    "            if val == 0:\n",
    "                val = j+1\n",
    "    if val == 0:\n",
    "        print('OPTIMAL')\n",
    "    else:\n",
    "        print('IMPROVE')\n",
    "        for j,k in enumerate(prn):\n",
    "            if k == 0:\n",
    "                print(str(val)+\" \"+str(j+1))\n",
    "                break"
   ]
  },
  {
   "cell_type": "code",
   "execution_count": null,
   "metadata": {},
   "outputs": [],
   "source": [
    "n,m,k = map(int,input().split())\n",
    "pos = []\n",
    "for i in range(k):\n",
    "    x,y = map(int,input().split())\n",
    "    pos.append([x,y])\n",
    "fin = []\n",
    "for i in range(k):\n",
    "    x,y = map(int,input().split())\n",
    "    fin.append([x,y])\n",
    "ans = \"\"\n",
    "for i in range(2*n*m):\n",
    "    j = 0\n",
    "    while j < len(pos):\n",
    "        if pos[j] == fin[j]:\n",
    "            del pos[j]\n",
    "            del fin[j]\n",
    "        else:\n",
    "            j += 1\n",
    "    if(len(pos) == 0):\n",
    "        print(len(ans))\n",
    "        print(ans)\n",
    "        break\n",
    "    k = len(pos)\n",
    "    tot=[]\n",
    "    for i in range(k):\n",
    "        tot.append(fin[i]+pos[i])\n",
    "    def func(ele):\n",
    "        return (ele[0]-ele[2]) + (ele[1]-ele[3])\n",
    "    tot.sort(key=func)\n",
    "    for i in range(k):\n",
    "        fin[i] = [tot[i][0],tot[i][1]]\n",
    "        pos[i] = [tot[i][2],tot[i][3]]\n",
    "    var = 0\n",
    "    if pos[var][0] > fin[var][0]:\n",
    "        ans += 'U'\n",
    "        for j in range(k):\n",
    "            pos[j][0] -= 1\n",
    "            if pos[j][0] == 0:\n",
    "                pos[j][0] = 1\n",
    "    elif pos[var][0] < fin[var][0]:\n",
    "        ans += 'D'\n",
    "        for j in range(k):\n",
    "            pos[j][0] += 1\n",
    "            if pos[j][0] == n+1:\n",
    "                pos[j][0] = n\n",
    "    elif pos[var][1] > fin[var][1]:\n",
    "        ans += 'L'\n",
    "        for j in range(k):\n",
    "            pos[j][1] -= 1\n",
    "            if pos[j][1] == 0:\n",
    "                pos[j][1] = 1\n",
    "    elif pos[var][1] < fin[var][1]:\n",
    "        ans += 'R'\n",
    "        for j in range(k):\n",
    "            pos[j][1] += 1\n",
    "            if pos[j][1] == m+1:\n",
    "                pos[j][1] = m\n",
    "else:\n",
    "    print('-1')"
   ]
  },
  {
   "cell_type": "code",
   "execution_count": null,
   "metadata": {},
   "outputs": [],
   "source": [
    "n = int(input())\n",
    "st = input()\n",
    "val = []\n",
    "for i in st:\n",
    "    if i == '(':\n",
    "        val.append(1)\n",
    "    else:\n",
    "        val.append(-1)\n",
    "for i in range(n-1):\n",
    "    val[i+1] += val[i]\n",
    "look = False\n",
    "ans = 0\n",
    "count = 0\n",
    "for i in range(n):\n",
    "    if val[i] == 0:\n",
    "        count += 1\n",
    "        if look :\n",
    "            ans += count\n",
    "            look = False\n",
    "            count = 0\n",
    "        else :\n",
    "            count = 0\n",
    "    if val[i] < 0:\n",
    "        look = True\n",
    "        count += 1\n",
    "    if val[i] > 0:\n",
    "        count += 1\n",
    "if val[-1] == 0:\n",
    "    print(ans)\n",
    "else:\n",
    "    print(-1)"
   ]
  },
  {
   "cell_type": "markdown",
   "metadata": {},
   "source": [
    "#### pairwise XOR\n",
    "(a1+a2)⊕(a1+a3)⊕…⊕(a1+an)⊕(a2+a3)⊕…⊕(a2+an)…⊕(an−1+an) <br>\n",
    "### Input\n",
    "The first line contains a single integer n (2≤n≤400000) — the number of integers in the array.<br>\n",
    "\n",
    "The second line contains integers a1,a2,…,an (1≤ai≤107).<br>\n",
    "\n",
    "### Output\n",
    "Print a single integer — xor of all pairwise sums of integers in the given array."
   ]
  },
  {
   "cell_type": "code",
   "execution_count": null,
   "metadata": {},
   "outputs": [],
   "source": [
    "n = int(input())\n",
    "lis = list(map(int,input().split()))\n",
    "lis.sort()\n",
    "i = 1\n",
    "K = 0\n",
    "while i < lis[-2]+lis[-1]:\n",
    "    i *= 2\n",
    "    K += 1\n",
    "fin = []\n",
    "for i in range(K):\n",
    "    var = 2**(i+1)\n",
    "    new_lis = []\n",
    "    for j in lis:\n",
    "        new_lis.append(j%var)\n",
    "    b1 = var\n",
    "    b2 = var + var/2\n",
    "    new_lis.sort()\n",
    "    t1 = 0\n",
    "    t2 = n-1\n",
    "    var = []\n",
    "    print(new_lis)\n",
    "    while(t1<t2):\n",
    "        if (new_lis[t1]+new_lis[t2]) >= b1 :\n",
    "            t2 -= 1\n",
    "        else :\n",
    "            var.append(t2-t1)\n",
    "            t1 += 1\n",
    "    ones = sum(var)\n",
    "    print(ones)\n",
    "    t1 = 0\n",
    "    t2 = n-1\n",
    "    var = []\n",
    "    while(t1<t2):\n",
    "        if (new_lis[t1]+new_lis[t2]) >= b2 :\n",
    "            t2 -= 1\n",
    "        else :\n",
    "            var.append(t2-t1)\n",
    "            t1 += 1\n",
    "    ones += ((n*(n-1)/2) - (sum(var)))\n",
    "    print(ones)\n",
    "    if ones%2 == 0:\n",
    "        fin.append(0)\n",
    "    else:\n",
    "        fin.append(1)\n",
    "ans = 0\n",
    "fin.reverse()\n",
    "for i in fin:\n",
    "    ans = 2*ans + i\n",
    "print(ans)"
   ]
  },
  {
   "cell_type": "code",
   "execution_count": null,
   "metadata": {},
   "outputs": [],
   "source": [
    "t = int(input())\n",
    "for i in range(t):\n",
    "    a,b,c,d = map(int,input().split())\n",
    "    x,y,x1,y1,x2,y2 = map(int,input().split())\n",
    "    look = False\n",
    "    if(x+b-a<=x2 and x+b-a>=x1 and y+d-c<=y2 and y+d-c>=y1):\n",
    "        look = True\n",
    "        if(x1 == x2 and (a != 0 or b != 0)):\n",
    "            look = False\n",
    "        if(y1 == y2 and (c != 0 or d != 0)):\n",
    "            look = False\n",
    "    if look :\n",
    "        print('Yes')\n",
    "    else:\n",
    "        print('No')"
   ]
  },
  {
   "cell_type": "code",
   "execution_count": null,
   "metadata": {},
   "outputs": [],
   "source": [
    "t = int(input())\n",
    "for i in range(t):\n",
    "    n = int(input())\n",
    "    lis = list(map(int,input().split()))\n",
    "    clr_map = [0 for i in range(n)]\n",
    "    maxi = max(lis)\n",
    "    j = 2\n",
    "    clr = 1\n",
    "    while j*j <= maxi :\n",
    "        look = False\n",
    "        for k in range(n):\n",
    "            if lis[k]%j == 0 :\n",
    "                if clr_map[k] == 0:\n",
    "                    clr_map[k] = clr\n",
    "                    look = True\n",
    "        j += 1\n",
    "        if look :\n",
    "            clr += 1\n",
    "    \n",
    "    if clr > 12 :\n",
    "        print('-1')\n",
    "    else:\n",
    "        print(clr-1)\n",
    "        for j in clr_map:\n",
    "            print(j,end=\" \")\n",
    "        print()"
   ]
  },
  {
   "cell_type": "code",
   "execution_count": null,
   "metadata": {},
   "outputs": [],
   "source": [
    "seen = [False for j in range(n)]\n",
    "clr_map = [0 for j in range(n)]\n",
    "clr = 0\n",
    "for j in range(n):\n",
    "    if not seen[j]:\n",
    "        clr += 1\n",
    "        dfs = [j]\n",
    "        while len(dfs) != 0:\n",
    "            x = dfs[0]\n",
    "            del dfs[0]\n",
    "            clr_map[x] = clr\n",
    "            seen[x] = True\n",
    "            for k in graph[x]:\n",
    "                if not seen[k]:\n",
    "                    dfs.append(k)"
   ]
  },
  {
   "cell_type": "code",
   "execution_count": null,
   "metadata": {},
   "outputs": [],
   "source": [
    "t = int(input())\n",
    "for i in range(t):\n",
    "    n,x = map(int,input().split())\n",
    "    arr = list(map(int,input().split()))\n",
    "    arr.sort()\n",
    "    j = 0\n",
    "    prv = 0\n",
    "    while(j < len(arr)):\n",
    "        if arr[j] == prv:\n",
    "            del arr[j-1]\n",
    "        else:\n",
    "            prv = arr[j]\n",
    "            j += 1\n",
    "    for j in range(len(arr)):\n",
    "        if(arr[j] - j - 1) > x:\n",
    "            print(x+j)\n",
    "            break\n",
    "    else:\n",
    "        print(x+len(arr))"
   ]
  },
  {
   "cell_type": "code",
   "execution_count": 2,
   "metadata": {},
   "outputs": [
    {
     "name": "stdout",
     "output_type": "stream",
     "text": [
      "1\n",
      "7\n",
      "4 3 2 1 2 1 3\n",
      "1\n",
      "4 3\n"
     ]
    }
   ],
   "source": [
    "t = int(input())\n",
    "for i in range(t):\n",
    "    n = int(input())\n",
    "    arr = list(map(int,input().split()))\n",
    "    ans = []\n",
    "    fin = [0 for j in range(n)]\n",
    "    ind = -1\n",
    "    for j in range(n):\n",
    "        if fin[arr[j]-1] == 0:\n",
    "            fin[arr[j]-1] = 1\n",
    "        else:\n",
    "            if sum(fin[0:j]) == j:\n",
    "                ind = j\n",
    "            break\n",
    "    fin2 = [0 for j in range(n)]\n",
    "    if ind != -1:\n",
    "        for j in range(ind,n):\n",
    "            if fin2[arr[j]-1] == 0:\n",
    "                fin2[arr[j]-1] = 1\n",
    "            else:\n",
    "                break\n",
    "        else:\n",
    "            if sum(fin2[0:(n-ind)]) == n - ind:\n",
    "                ans.append(ind)\n",
    "    arr.reverse()\n",
    "    fin = [0 for j in range(n)]\n",
    "    ind = -1\n",
    "    for j in range(n):\n",
    "        if fin[arr[j]-1] == 0:\n",
    "            fin[arr[j]-1] = 1\n",
    "        else:\n",
    "            if sum(fin[0:j]) == j:\n",
    "                ind = j\n",
    "            break\n",
    "    fin2 = [0 for j in range(n)]\n",
    "    if ind != -1:\n",
    "        for j in range(ind,n):\n",
    "            if fin2[arr[j]-1] == 0:\n",
    "                fin2[arr[j]-1] = 1\n",
    "            else:\n",
    "                break\n",
    "        else:\n",
    "            if sum(fin2[0:(n-ind)]) == n - ind:\n",
    "                if len(ans) > 0:\n",
    "                    if ans[0] != n - ind:\n",
    "                        ans.append(n-ind)\n",
    "                else:\n",
    "                    ans.append(n-ind)\n",
    "                    \n",
    "    print(len(ans))\n",
    "    for x in ans:\n",
    "        print(str(x) + \" \" + str(n-x))"
   ]
  },
  {
   "cell_type": "code",
   "execution_count": 39,
   "metadata": {},
   "outputs": [
    {
     "name": "stdout",
     "output_type": "stream",
     "text": [
      "200 50\n",
      "49 35 42 47 134 118 14 148 58 159 33 33 8 123 99 126 75 94 1 141 61 79 122 31 48 7 66 97 141 43 25 141 7 56 120 55 49 37 154 56 13 59 153 133 18 1 141 24 151 125\n",
      "1 2 3 4 5 6 7 8 9 10 11 12 13 14 15 16 17 18 19 20 21 22 23 24 25 26 27 28 29 30 31 32 33 34 35 36 37 38 39 40 41 42 43 44 45 46 47 48 49 76 \n"
     ]
    }
   ],
   "source": [
    "n,m = map(int,input().split())\n",
    "lis = list(map(int,input().split()))\n",
    "p = []\n",
    "for i in range(m):\n",
    "    if(lis[i] + i <= n):\n",
    "        p.append(i+1)\n",
    "    else :\n",
    "        print('-1')\n",
    "        break\n",
    "else:\n",
    "    var = 0\n",
    "    if p[-1] + lis[-1] < n+1 :\n",
    "        var = n+1 - p[-1] - lis[-1]\n",
    "        las = n\n",
    "        for j in range(1,m):\n",
    "            p[-j] = las - lis[-j] + 1\n",
    "            las = p[-j] - 1\n",
    "            var -= (lis[-j-1] -1)\n",
    "            if var <= 0:\n",
    "                break\n",
    "    if sum(lis) < n:\n",
    "        print(-1)\n",
    "    elif var > 0:\n",
    "        print(-1)\n",
    "    else:\n",
    "        for j in p:\n",
    "            print(j,end=\" \")\n",
    "        print()"
   ]
  },
  {
   "cell_type": "code",
   "execution_count": 26,
   "metadata": {},
   "outputs": [
    {
     "name": "stdout",
     "output_type": "stream",
     "text": [
      "3\n",
      "4 -4 4\n",
      "4\n"
     ]
    }
   ],
   "source": [
    "n = int(input())\n",
    "alis = list(map(int,input().split()))\n",
    "count = n*(n+1)/2\n",
    "for i in range(1,n):\n",
    "    alis[i] += alis[i-1]\n",
    "alis.sort()\n",
    "alis = [0] + alis\n",
    "prev = 0\n",
    "val = 1\n",
    "for i in range(1,n+1):\n",
    "    if alis[i] == prev:\n",
    "        val += 1\n",
    "    else:\n",
    "        prev = alis[i]\n",
    "        count -= (val*(val-1)/2)\n",
    "        val = 1\n",
    "count -= (val*(val-1)/2)\n",
    "print(int(count))   "
   ]
  },
  {
   "cell_type": "code",
   "execution_count": 6,
   "metadata": {},
   "outputs": [
    {
     "name": "stdout",
     "output_type": "stream",
     "text": [
      "1\n",
      "42 0 7\n",
      "0\n"
     ]
    }
   ],
   "source": [
    "t = int(input())\n",
    "for i in range(t):\n",
    "    n,m,k = map(int,input().split())\n",
    "    x = n//k\n",
    "    if m <= x:\n",
    "        print(m)\n",
    "    elif (m-x)%(k-1) == 0:\n",
    "        print(x - (m-x)//(k-1))\n",
    "    else:\n",
    "        print(x - (m-x)//(k-1) - 1)"
   ]
  },
  {
   "cell_type": "code",
   "execution_count": 2,
   "metadata": {},
   "outputs": [
    {
     "name": "stdout",
     "output_type": "stream",
     "text": [
      "1\n",
      "3 3 4 7\n",
      "..*\n",
      "*..\n",
      ".*.\n",
      "22\n"
     ]
    }
   ],
   "source": [
    "t = int(input())\n",
    "for i in range(t):\n",
    "    n,m,x,y = map(int,input().split())\n",
    "    count = 0\n",
    "    if 2*x <= y:\n",
    "        for j in range(n):\n",
    "            st = input()\n",
    "            for k in st:\n",
    "                if k == '.':\n",
    "                    count += x\n",
    "    else:\n",
    "        for j in range(n):\n",
    "            st = input()\n",
    "            s = len(st)\n",
    "            k = 0\n",
    "            while k < s:\n",
    "                if st[k] == '.':\n",
    "                    if k < s-1 and st[k+1] == '.':\n",
    "                        count += y\n",
    "                        k += 2\n",
    "                    else:\n",
    "                        count += x\n",
    "                        k += 1\n",
    "                else:\n",
    "                    k += 1\n",
    "    print(count)"
   ]
  },
  {
   "cell_type": "code",
   "execution_count": 2,
   "metadata": {},
   "outputs": [
    {
     "name": "stdout",
     "output_type": "stream",
     "text": [
      "1\n",
      "97 51 86\n",
      "3\n"
     ]
    }
   ],
   "source": [
    "t = int(input())\n",
    "for i in range(t):\n",
    "    h,c,t = map(int,input().split())\n",
    "    x = t - (h+c)/2\n",
    "    if x <= 0:\n",
    "        print(2)\n",
    "    else:\n",
    "        n = (h-c)//(2*t - h - c)\n",
    "        if n%2 == 0:\n",
    "            if abs(x - (h-c)/(2*(n+1))) > abs(x - (h-c)/(2*(n+3))):\n",
    "                print(n+3)\n",
    "            else:\n",
    "                print(n+1)\n",
    "        else:\n",
    "            if abs(x - (h-c)/(2*(n))) > abs(x - (h-c)/(2*(n+2))):\n",
    "                print(n+2)\n",
    "            else:\n",
    "                print(n)"
   ]
  },
  {
   "cell_type": "code",
   "execution_count": 3,
   "metadata": {},
   "outputs": [],
   "source": [
    "def findLongestConseqSubseq(arr, n):\n",
    "    arr.sort()\n",
    "    var = arr[0]+1\n",
    "    cnt = 1\n",
    "    ans = 0\n",
    "    for i in arr[1:]:\n",
    "        if var == i:\n",
    "            var += 1\n",
    "            cnt += 1\n",
    "        else:\n",
    "            var = i + 1\n",
    "            if ans < cnt:\n",
    "                ans = cnt\n",
    "            cnt = 1\n",
    "    if ans < cnt:\n",
    "        ans = cnt\n",
    "    var = arr[0]-1\n",
    "    cnt = 1\n",
    "    for i in arr[1:]:\n",
    "        if var == i:\n",
    "            var -= 1\n",
    "            cnt += 1\n",
    "        else:\n",
    "            var = i + 1\n",
    "            if ans < cnt:\n",
    "                ans = cnt\n",
    "            cnt = 1\n",
    "    if ans < cnt:\n",
    "        ans = cnt\n",
    "    return ans"
   ]
  },
  {
   "cell_type": "code",
   "execution_count": 4,
   "metadata": {},
   "outputs": [
    {
     "data": {
      "text/plain": [
       "13"
      ]
     },
     "execution_count": 4,
     "metadata": {},
     "output_type": "execute_result"
    }
   ],
   "source": [
    "j = 0\n",
    "while 5>>j > 0:\n",
    "    j+=1\n",
    "5+(1<<j)"
   ]
  },
  {
   "cell_type": "code",
   "execution_count": 9,
   "metadata": {},
   "outputs": [
    {
     "name": "stdout",
     "output_type": "stream",
     "text": [
      "12.0\n"
     ]
    }
   ],
   "source": [
    "try:\n",
    "    x = float('012')\n",
    "    print(x)\n",
    "except:\n",
    "    print(-1)"
   ]
  },
  {
   "cell_type": "code",
   "execution_count": 10,
   "metadata": {},
   "outputs": [
    {
     "data": {
      "text/plain": [
       "-32"
      ]
     },
     "execution_count": 10,
     "metadata": {},
     "output_type": "execute_result"
    }
   ],
   "source": [
    "ord('A')-ord('a')"
   ]
  },
  {
   "cell_type": "code",
   "execution_count": 7,
   "metadata": {},
   "outputs": [],
   "source": [
    "all_perm = []\n",
    "def perm(arr,l,r):\n",
    "    if l == r:\n",
    "        all_perm.append(arr.copy())\n",
    "    else:\n",
    "        for i in range(l,r+1):\n",
    "            arr[i],arr[l] = arr[l],arr[i]\n",
    "            perm(arr,l+1,r)\n",
    "            arr[l],arr[i] = arr[i],arr[l]"
   ]
  },
  {
   "cell_type": "code",
   "execution_count": 8,
   "metadata": {},
   "outputs": [
    {
     "data": {
      "text/plain": [
       "[[1, 2, 3, 4],\n",
       " [1, 2, 4, 3],\n",
       " [1, 3, 2, 4],\n",
       " [1, 3, 4, 2],\n",
       " [1, 4, 3, 2],\n",
       " [1, 4, 2, 3],\n",
       " [2, 1, 3, 4],\n",
       " [2, 1, 4, 3],\n",
       " [2, 3, 1, 4],\n",
       " [2, 3, 4, 1],\n",
       " [2, 4, 3, 1],\n",
       " [2, 4, 1, 3],\n",
       " [3, 2, 1, 4],\n",
       " [3, 2, 4, 1],\n",
       " [3, 1, 2, 4],\n",
       " [3, 1, 4, 2],\n",
       " [3, 4, 1, 2],\n",
       " [3, 4, 2, 1],\n",
       " [4, 2, 3, 1],\n",
       " [4, 2, 1, 3],\n",
       " [4, 3, 2, 1],\n",
       " [4, 3, 1, 2],\n",
       " [4, 1, 3, 2],\n",
       " [4, 1, 2, 3]]"
      ]
     },
     "execution_count": 8,
     "metadata": {},
     "output_type": "execute_result"
    }
   ],
   "source": [
    "perm([1,2,3,4],0,3)\n",
    "all_perm"
   ]
  },
  {
   "cell_type": "code",
   "execution_count": null,
   "metadata": {},
   "outputs": [],
   "source": []
  },
  {
   "cell_type": "code",
   "execution_count": null,
   "metadata": {},
   "outputs": [],
   "source": []
  },
  {
   "cell_type": "code",
   "execution_count": null,
   "metadata": {},
   "outputs": [],
   "source": []
  },
  {
   "cell_type": "code",
   "execution_count": null,
   "metadata": {},
   "outputs": [],
   "source": []
  }
 ],
 "metadata": {
  "kernelspec": {
   "display_name": "Python 3",
   "language": "python",
   "name": "python3"
  },
  "language_info": {
   "codemirror_mode": {
    "name": "ipython",
    "version": 3
   },
   "file_extension": ".py",
   "mimetype": "text/x-python",
   "name": "python",
   "nbconvert_exporter": "python",
   "pygments_lexer": "ipython3",
   "version": "3.8.3"
  }
 },
 "nbformat": 4,
 "nbformat_minor": 4
}
