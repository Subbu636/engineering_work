{
 "cells": [
  {
   "cell_type": "code",
   "execution_count": null,
   "metadata": {},
   "outputs": [],
   "source": [
    "#sudoku\n",
    "\n",
    "def just_play(i,ets, sud):\n",
    "    if i == len(ets):\n",
    "        return sud\n",
    "    j,k = ets[i]\n",
    "    r,c = 3*(j//3),3*(k//3)\n",
    "    dic = {}\n",
    "    for l in range(9):\n",
    "        dic[sud[l][k]] = 1\n",
    "        dic[sud[j][l]] = 1\n",
    "    for l in range(3):\n",
    "        for m in range(3):\n",
    "            dic[sud[r+l][c+m]] = 1\n",
    "    for l in range(1,10):\n",
    "        if dic.get(l,-1) == -1:\n",
    "            nsud = []\n",
    "            for m in range(9):\n",
    "                nsud.append(sud[m].copy())\n",
    "            nsud[j][k] = l\n",
    "            var = just_play(i+1,ets,nsud)\n",
    "            if var != None:\n",
    "                return var\n",
    "    return None\n",
    "    \n",
    "\n",
    "\n",
    "t = int(input())\n",
    "for i in range(t):\n",
    "    raw = [int(k) for k in input().split()]\n",
    "    sud = []\n",
    "    ets = []\n",
    "    for j in range(9):\n",
    "        sud.append(raw[j*9:(j+1)*9])\n",
    "        for k in range(9):\n",
    "            if sud[j][k] == 0:\n",
    "                ets.append((j,k))\n",
    "    var = just_play(0,ets,sud)\n",
    "    if var != None:\n",
    "        for j in var:\n",
    "            for k in j:\n",
    "                print(k,end=' ')\n",
    "    print()"
   ]
  }
 ],
 "metadata": {
  "kernelspec": {
   "display_name": "Python 3",
   "language": "python",
   "name": "python3"
  },
  "language_info": {
   "codemirror_mode": {
    "name": "ipython",
    "version": 3
   },
   "file_extension": ".py",
   "mimetype": "text/x-python",
   "name": "python",
   "nbconvert_exporter": "python",
   "pygments_lexer": "ipython3",
   "version": "3.8.2"
  }
 },
 "nbformat": 4,
 "nbformat_minor": 4
}
