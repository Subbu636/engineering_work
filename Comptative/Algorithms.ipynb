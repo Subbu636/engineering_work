{
 "cells": [
  {
   "cell_type": "markdown",
   "metadata": {},
   "source": [
    "## Notes\n",
    "1. Square root function is not o(1) - x**(1/2) or pow \n",
    "2. for stack or queue dont use list - from collections import deque <br>\n",
    "fun - append, appendleft, pop, popleft - all are o(1) \n",
    "3. ord('a') gives some rep like ascii \n",
    "4.    "
   ]
  },
  {
   "cell_type": "markdown",
   "metadata": {},
   "source": [
    "## Useful Algos"
   ]
  },
  {
   "cell_type": "markdown",
   "metadata": {},
   "source": [
    "### Max palindromic Substring\n",
    "#### 1 DP\n",
    "Maintain a table nxn t[i][j] = True if from i to j is a palindrome\n",
    "o(n2), s(n2)\n",
    "#### 2 Fix centre and traverse on both sides\n",
    "Remember that centre can be an element or a place between elements\n",
    "#### 3 Manchers Algo - Complex"
   ]
  },
  {
   "cell_type": "markdown",
   "metadata": {},
   "source": [
    "### Max palindromic Subsequence\n",
    "#### DP\n",
    "Refer GFG\n"
   ]
  },
  {
   "cell_type": "markdown",
   "metadata": {},
   "source": [
    "### Is graph cyclic\n",
    "#### undirected\n",
    "Depth or Breadth first traversal with parent "
   ]
  },
  {
   "cell_type": "code",
   "execution_count": null,
   "metadata": {},
   "outputs": [],
   "source": [
    "from collections import deque \n",
    "\n",
    "def is_cyclic(g,n):\n",
    "    visited = [False]*n\n",
    "    parent = [-1]*n\n",
    "    stack = deque()\n",
    "    for j in range(n):\n",
    "        if not visited[j]:\n",
    "            stack.append(j)\n",
    "            visited[j] = True\n",
    "            while stack:\n",
    "                x = stack.pop()\n",
    "                for k in g[x]:\n",
    "                    if visited[k] and (k != parent[x]):\n",
    "                        return True\n",
    "                    if not visited[k]:\n",
    "                        parent[k] = x\n",
    "                        stack.append(k)\n",
    "                        visited[k] = True\n",
    "    return False"
   ]
  },
  {
   "cell_type": "markdown",
   "metadata": {},
   "source": [
    "#### directed\n",
    "1 DFT with reccuring stack <br>\n",
    "2 Cycles are not visited in topological sort - So counting if visited = Total "
   ]
  },
  {
   "cell_type": "code",
   "execution_count": null,
   "metadata": {},
   "outputs": [],
   "source": [
    "from collections import deque\n",
    "\n",
    "def is_cyclic_dir(graph,n):\n",
    "    visted = [False]*n\n",
    "    rec_stack = [False]*n\n",
    "    \n",
    "    def rec_cyclic_dir(i):\n",
    "        visted[i] = True\n",
    "        rec_stack[i] = True\n",
    "        for j in graph[i]:\n",
    "            if rec_stack[j]:\n",
    "                return True\n",
    "            elif not visted[j]:\n",
    "                if rec_cyclic_dir(j):\n",
    "                    return True\n",
    "        rec_stack[i] = False\n",
    "        return False\n",
    "    \n",
    "    for i in range(n):\n",
    "        if not visted[i]:\n",
    "            if rec_cyclic_dir(i):\n",
    "                return True\n",
    "    else:\n",
    "        return False"
   ]
  },
  {
   "cell_type": "markdown",
   "metadata": {},
   "source": [
    "### Topological Sort\n",
    "Removing each vertex with 0 in edges"
   ]
  },
  {
   "cell_type": "code",
   "execution_count": null,
   "metadata": {},
   "outputs": [],
   "source": [
    "def topo_sort(graph, n):\n",
    "    from collections import deque\n",
    "    in_edges = [0]*n\n",
    "    for i in range(n):\n",
    "        for j in graph[i]:\n",
    "            in_edges[j] += 1\n",
    "    print(in_edges)\n",
    "    ans = [] \n",
    "    qu = deque()\n",
    "    for i in range(n):\n",
    "        if in_edges[i] == 0:\n",
    "            qu.append(i)\n",
    "    while qu:\n",
    "        x = qu.popleft()\n",
    "        ans.append(x)\n",
    "        for i in graph[x]:\n",
    "            in_edges[i] -= 1\n",
    "            if in_edges[i] == 0:\n",
    "                qu.append(i)\n",
    "    return ans"
   ]
  },
  {
   "cell_type": "markdown",
   "metadata": {},
   "source": [
    "### Shortest Path\n",
    "Directed or undirected if weights are present\n",
    "1. Belman Ford O(V*E)\n",
    "For v-1 times go to all edges and relax it\n",
    "2. Dijkishtras \n",
    "Initialise with 0 - source and all inf <br>\n",
    "go to min everytime and relax all its ajecent nodes <br>\n",
    "In general O(V*V + E)<br>\n",
    "Using Heap O(log(V)(V + E))<br>\n",
    "Using Fibanoci Heap O(Vlog(V)+E)<br>"
   ]
  },
  {
   "cell_type": "code",
   "execution_count": null,
   "metadata": {},
   "outputs": [],
   "source": [
    "def print_list(li):\n",
    "    for i in li:\n",
    "        print(i,end=\" \")\n",
    "    print()\n",
    "\n",
    "def belman_ford(src, V, graph):\n",
    "    dis = [float('inf') for i in range(V)]\n",
    "    dis[src] = 0\n",
    "    for i in range(V):\n",
    "        for j in range(V):\n",
    "            if graph[i][j] == 0:\n",
    "                graph[i][j] = float('inf')\n",
    "    for k in range(V-1):\n",
    "        for i in range(V):\n",
    "            for j in range(V):\n",
    "                if dis[j] > dis[i] + graph[i][j]:\n",
    "                    dis[j] = dis[i] + graph[i][j]\n",
    "    print_list(dis)\n",
    "    "
   ]
  },
  {
   "cell_type": "code",
   "execution_count": null,
   "metadata": {},
   "outputs": [],
   "source": [
    "def dijkshtra(src, V, graph):\n",
    "    dis = [float('inf') for i in range(V)]\n",
    "    dis[src] = 0\n",
    "    ans = [-1]*V\n",
    "    fin = [False]*V\n",
    "    for j in range(V):\n",
    "        ind = 0\n",
    "        val = dis[0]\n",
    "        for i in range(1,V):\n",
    "            if val > dis[i] and not fin[i]:\n",
    "                val = dis[i]\n",
    "                ind = i\n",
    "        ans[ind] = val\n",
    "        fin[ind] = True\n",
    "        for i in range(V):\n",
    "            if graph[ind][i] > 0:\n",
    "                if dis[i] > val + graph[ind][i]:\n",
    "                    dis[i] = val + graph[ind][i]\n",
    "    print_list(dis)   "
   ]
  },
  {
   "cell_type": "markdown",
   "metadata": {},
   "source": [
    "### Strongly connected Cycles - Kosaraju Algorithm\n",
    "2 DFS required\n",
    "1. Preform DFS reccursively and add vertices to stack\n",
    "2. Now reverse all the edges and perform another DFS in the\n",
    "stack order and count"
   ]
  },
  {
   "cell_type": "code",
   "execution_count": null,
   "metadata": {},
   "outputs": [],
   "source": [
    "def countSCCs(adj, V):\n",
    "    from collections import deque\n",
    "    visited = [False]*V\n",
    "    stack = deque()\n",
    "    def rec_dfs(i):\n",
    "        visited[i] = True\n",
    "        for j in adj[i]:\n",
    "            if not visited[j]:\n",
    "                rec_dfs(j)\n",
    "        stack.append(i)\n",
    "    for i in range(V):\n",
    "        if not visited[i]:\n",
    "            rec_dfs(i)\n",
    "    rev_adj = [[] for i in range(V)]\n",
    "    for i in range(V):\n",
    "        for j in adj[i]:\n",
    "            rev_adj[j].append(i)\n",
    "    cnt = 0\n",
    "    visited = [False]*V\n",
    "    while(stack):\n",
    "        i = stack.pop()\n",
    "        if not visited[i]:\n",
    "            cnt += 1\n",
    "            st = deque()\n",
    "            st.append(i)\n",
    "            visited[i] = True\n",
    "            while st:\n",
    "                x = st.pop()\n",
    "                for j in rev_adj[x]:\n",
    "                    if not visited[j]:\n",
    "                        st.append(j)\n",
    "                        visited[j] = True\n",
    "    return cnt"
   ]
  },
  {
   "cell_type": "markdown",
   "metadata": {},
   "source": [
    "### All Pair Shortest Path\n",
    "Floyd Warshall Algo<br>\n",
    "O(V\\*V\\*V)<br>\n",
    "Python code gives TLE but C++ gets accepted <br>\n",
    "<br>"
   ]
  },
  {
   "cell_type": "markdown",
   "metadata": {},
   "source": [
    "#include <bits/stdc++.h>\n",
    "using namespace std;\n",
    "\n",
    "int main() {\n",
    "\t//code\n",
    "\tint t;\n",
    "\tcin>>t;\n",
    "\tfor(int i = 0;i < t;i++){\n",
    "\t    int n;\n",
    "\t    cin>>n;\n",
    "\t    int **graph = (int**)malloc(n*sizeof(int*));\n",
    "\t    for (int j = 0;j < n;j++){\n",
    "\t        graph[j] = (int*)malloc(n*sizeof(int));\n",
    "\t        for(int k =0;k < n;k++){\n",
    "\t            cin>>graph[j][k];\n",
    "\t        }\n",
    "\t    }\n",
    "\t    for(int j = 0;j < n;j++){\n",
    "\t    for (int k = 0;k < n;k++){\n",
    "\t        for(int l = 0; l < n;l++){\n",
    "\t            graph[k][l] = min(graph[k][l],graph[k][j]+graph[j][l]);\n",
    "\t        }\n",
    "\t    }\n",
    "\t}\n",
    "\tfor (int j=0;j < n;j++){\n",
    "\t    for (int k=0;k<n;k++){\n",
    "\t        if (graph[j][k] == 10000000){\n",
    "\t            cout<<\"INF \";\n",
    "\t        }\n",
    "\t        else{\n",
    "\t            cout<<graph[j][k];\n",
    "\t            cout<<\" \";\n",
    "\t        }\n",
    "\t    }\n",
    "\t    cout<<endl;\n",
    "\t}\n",
    "\t}\n",
    "\t\n",
    "\treturn 0;\n",
    "}"
   ]
  },
  {
   "cell_type": "code",
   "execution_count": null,
   "metadata": {},
   "outputs": [],
   "source": [
    "# Kruskals algo with union find for detecting cycles \n",
    "# minimum spanning tree\n",
    "\n",
    "def find_parent(parent, x):\n",
    "    if parent[x] == x:\n",
    "        return x\n",
    "    else:\n",
    "        return find_parent(parent, parent[x])\n",
    "        \n",
    "def union(rank, parent, x, y):\n",
    "    x = find_parent(parent, x)\n",
    "    y = find_parent(parent, y)\n",
    "    if rank[x] > rank[y]:\n",
    "        parent[y] = x\n",
    "    elif rank[y] > rank[x]:\n",
    "        parent[x] = y\n",
    "    else:\n",
    "        rank[x] += 1\n",
    "        parent[y] = x\n",
    "\n",
    "# Function to construct and return cost of MST for a graph\n",
    "# represented using adjacency matrix representation\n",
    "'''\n",
    "V: nodes in graph\n",
    "E: number of edges in graph\n",
    "graph: adjacency matrix, graph[i][j]=weight, if edge exits , else float(\"inf\").\n",
    "'''\n",
    "def spanningTree(V, E, graph):\n",
    "    #code here\n",
    "    ver = 0\n",
    "    edg = []\n",
    "    # print(graph)\n",
    "    for i in range(V):\n",
    "        for j in range(i+1,V):\n",
    "            if graph[i][j] != float('inf'):\n",
    "                edg.append((graph[i][j],i,j))\n",
    "    edg.sort()\n",
    "    parent = [i for i in range(V)]\n",
    "    rank = [1 for i in range(V)]\n",
    "    tot = 0\n",
    "    cnt = 0\n",
    "    for i in range(E):\n",
    "        u,v = edg[i][1], edg[i][2]\n",
    "        if find_parent(parent,u) != find_parent(parent,v):\n",
    "            tot += edg[i][0]\n",
    "            cnt += 1\n",
    "            union(rank, parent, u, v)\n",
    "        if cnt >= V-1:\n",
    "            break\n",
    "    return tot\n",
    "\n",
    "# O(E*log(V)) or O(E*log(E)) sorting"
   ]
  },
  {
   "cell_type": "markdown",
   "metadata": {},
   "source": [
    "### Huffman encoding and decoding\n",
    "Given set of variables with frequency we can optmize the space they occupy in binary representation <br>\n",
    "Take 2 least frequent vars make a node connecting these two <br>\n",
    "Now remove the 2 from list and add new node with frequency as sum of both vars <br>\n",
    "Repeat it and Make a tree !"
   ]
  },
  {
   "cell_type": "markdown",
   "metadata": {},
   "source": [
    "### DP\n",
    "0. Top-down and bottom-up \n",
    "1. Subproblem graph - in the order of reverse topological sort for bottom-up\n",
    "2. Any problem with polynomial sub-problem and poly number of sub-problems can be solved in polynomial time"
   ]
  },
  {
   "cell_type": "markdown",
   "metadata": {},
   "source": [
    "#### LCS O(m*n)"
   ]
  },
  {
   "cell_type": "code",
   "execution_count": null,
   "metadata": {},
   "outputs": [],
   "source": [
    "def LCS(arr1, arr2):\n",
    "    n = len(arr1)\n",
    "    m = len(arr2)\n",
    "    ans = [[0]*m for i in range(n)]\n",
    "    for i in range(n):\n",
    "        for j in range(m):\n",
    "            if arr1[i] == arr2[j]:\n",
    "                if i == 0 or j == 0:\n",
    "                    ans[i][j] = 1\n",
    "                else:\n",
    "                    ans[i][j] = 1+ans[i-1][j-1]\n",
    "            elif i != 0 and j != 0:\n",
    "                ans[i][j] = max(ans[i-1][j],ans[i][j-1])\n",
    "    return ans[n-1][m-1]"
   ]
  },
  {
   "cell_type": "markdown",
   "metadata": {},
   "source": [
    "#include <bits/stdc++.h>\n",
    "using namespace std;\n",
    "\n",
    "int main() {\n",
    "\t//code\n",
    "\tint t;\n",
    "\tcin>>t;\n",
    "\tfor(int i = 0;i < t;++i){\n",
    "\t    int n,tot;\n",
    "\t    cin>>n;\n",
    "\t    int arr[n];\n",
    "\t    for(int j = 0;j < n;++j){\n",
    "\t        cin>>arr[j];\n",
    "\t    }\n",
    "\t    cin>>tot;\n",
    "\t    int ans[tot+1] = {0};\n",
    "\t    ans[0] = 1;\n",
    "\t    for(int k = 0;k < n;++k){\n",
    "\t        for(int j = 1;j <= tot;++j){\n",
    "\t            if(arr[k] <= j){\n",
    "\t                ans[j] += ans[j-arr[k]];\n",
    "\t            }\n",
    "\t        }\n",
    "\t    }\n",
    "\t    cout<<ans[tot]<<endl;\n",
    "\t}\n",
    "\treturn 0;\n",
    "}"
   ]
  },
  {
   "cell_type": "code",
   "execution_count": null,
   "metadata": {},
   "outputs": [],
   "source": [
    "BOXES PROBLEM"
   ]
  },
  {
   "cell_type": "code",
   "execution_count": null,
   "metadata": {},
   "outputs": [],
   "source": [
    "def maxHeight(height, width, length, n):\n",
    "    #Code here\n",
    "    li = []\n",
    "    for i in range(n):\n",
    "        li.append((length[i]*width[i],max(length[i],width[i]),min(length[i],width[i]),height[i]))\n",
    "        li.append((height[i]*width[i],max(height[i],width[i]),min(height[i],width[i]),length[i]))\n",
    "        li.append((height[i]*length[i],max(height[i],length[i]),min(height[i],length[i]),width[i]))\n",
    "    li.sort(reverse=True)\n",
    "    max_h = [0]*len(li)\n",
    "    for i in range(len(li)):\n",
    "        max_h[i] = li[i][3]\n",
    "        for j in range(i):\n",
    "            if li[i][1] < li[j][1] and li[i][2] < li[j][2] and max_h[i] < li[i][3] + max_h[j]:\n",
    "                max_h[i] = li[i][3] + max_h[j]\n",
    "    return (max(max_h))\n",
    "    \n",
    "t =int( input())\n",
    "for i in range(t):\n",
    "    n = int(input())\n",
    "    arr = [int(j) for j in input().split()]\n",
    "    height = []\n",
    "    length = []\n",
    "    width = []\n",
    "    for j in range(n):\n",
    "        height.append(arr[3*j+0])\n",
    "        length.append(arr[3*j+1])\n",
    "        width.append(arr[3*j+2])\n",
    "    print(maxHeight(height,length,width,n))\n",
    "        \n",
    "          "
   ]
  },
  {
   "cell_type": "markdown",
   "metadata": {},
   "source": [
    "[least difference of subsets](https://www.geeksforgeeks.org/partition-a-set-into-two-subsets-such-that-the-difference-of-subset-sums-is-minimum/)"
   ]
  },
  {
   "cell_type": "code",
   "execution_count": null,
   "metadata": {},
   "outputs": [],
   "source": [
    "# longest palindromic subsequence\n",
    "def longest_pd_subsequence(st,n):\n",
    "    dp = [[1]*n for i in range(n)]\n",
    "    for i in range(n-1):\n",
    "        if st[i] == st[i+1]:\n",
    "            dp[i][i+1] = 2\n",
    "    for i in range(n-1,-1,-1):\n",
    "        for j in range(i+2,n):\n",
    "            if st[i] == st[j]:\n",
    "                dp[i][j] = dp[i+1][j-1] + 2\n",
    "            else:\n",
    "                dp[i][j] = max(dp[i+1][j],dp[i][j-1])\n",
    "    # print(dp)\n",
    "    return dp[0][n-1]"
   ]
  },
  {
   "cell_type": "code",
   "execution_count": null,
   "metadata": {},
   "outputs": [],
   "source": []
  },
  {
   "cell_type": "code",
   "execution_count": null,
   "metadata": {},
   "outputs": [],
   "source": []
  }
 ],
 "metadata": {
  "kernelspec": {
   "display_name": "Python 3",
   "language": "python",
   "name": "python3"
  },
  "language_info": {
   "codemirror_mode": {
    "name": "ipython",
    "version": 3
   },
   "file_extension": ".py",
   "mimetype": "text/x-python",
   "name": "python",
   "nbconvert_exporter": "python",
   "pygments_lexer": "ipython3",
   "version": "3.8.2"
  }
 },
 "nbformat": 4,
 "nbformat_minor": 4
}
