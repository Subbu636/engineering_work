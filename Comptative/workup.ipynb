{
 "cells": [
  {
   "cell_type": "code",
   "execution_count": null,
   "metadata": {},
   "outputs": [],
   "source": [
    "import math\n",
    "\n",
    "# set fixed point\n",
    "\n",
    "x = 3.2356744\n",
    "y = \"{:.2f}\".format(333.354712)\n",
    "print(y,x)"
   ]
  },
  {
   "cell_type": "code",
   "execution_count": null,
   "metadata": {},
   "outputs": [],
   "source": []
  },
  {
   "cell_type": "code",
   "execution_count": 10,
   "metadata": {},
   "outputs": [
    {
     "name": "stdout",
     "output_type": "stream",
     "text": [
      "1\n",
      "5\n",
      "-239 -2 -100 -3 -11\n",
      "YES\n"
     ]
    }
   ],
   "source": [
    "t = int(input())\n",
    "for i in range(t):\n",
    "    n = int(input())\n",
    "    arr = list(map(int, input().split()))\n",
    "    arr1 = [0 for j in range(n)]\n",
    "    for j in range(len(arr)):\n",
    "        var = (arr[j]%n) + j\n",
    "        if var >= n:\n",
    "            var = var - n\n",
    "        arr1[var] += 1\n",
    "    for j in arr1:\n",
    "        if j != 1:\n",
    "            print('NO')\n",
    "            break\n",
    "    else:\n",
    "        print('YES')"
   ]
  },
  {
   "cell_type": "code",
   "execution_count": 16,
   "metadata": {},
   "outputs": [
    {
     "name": "stdout",
     "output_type": "stream",
     "text": [
      "3 3\n",
      ".#.\n",
      "###\n",
      "##.\n",
      "['.#.', '###', '##.']\n",
      "6\n"
     ]
    }
   ],
   "source": [
    "n,m = map(int,input().split())\n",
    "grid = []\n",
    "for i in range(n):\n",
    "    grid.append(input())\n",
    "print(grid)\n",
    "poss = True\n",
    "for i in range(n):\n",
    "    look = False\n",
    "    for j in range(m-1):\n",
    "        if look:\n",
    "            if grid[i][j] == '.' and grid[i][j+1] == '#':\n",
    "                poss = False\n",
    "        if grid[i][j] == '#' and grid[i][j+1] == '.':\n",
    "            look = True\n",
    "            \n",
    "for i in range(m):\n",
    "    look = False\n",
    "    for j in range(n-1):\n",
    "        if look:\n",
    "            if grid[j][i] == '.' and grid[j+1][i] == '#':\n",
    "                poss = False\n",
    "        if grid[j][i] == '#' and grid[j+1][i] == '.':\n",
    "            look = True\n",
    "            \n",
    "# graph\n",
    "\n"
   ]
  },
  {
   "cell_type": "code",
   "execution_count": null,
   "metadata": {},
   "outputs": [],
   "source": [
    "# both of below problems have same complexity but only second one is accepted!\n",
    "# but second one is elegant"
   ]
  },
  {
   "cell_type": "code",
   "execution_count": 1,
   "metadata": {},
   "outputs": [
    {
     "name": "stdout",
     "output_type": "stream",
     "text": [
      "2\n",
      "4\n",
      "1 5 3 2\n",
      "2\n",
      "3\n",
      "3 2 7\n",
      "0\n"
     ]
    }
   ],
   "source": [
    "t = int(input())\n",
    "for i in range(t):\n",
    "    lim = 1000001\n",
    "    li = [0 for j in range(lim)]\n",
    "    n = int(input())\n",
    "    inp = list(map(int, input().split()))\n",
    "    for j in inp:\n",
    "        li[j] += 1\n",
    "    count = 0\n",
    "    for j in range(n):\n",
    "        for k in range(j+1,n):\n",
    "            if li[inp[j]+inp[k]] != 0:\n",
    "                count += 1\n",
    "    if count == 0:\n",
    "        print(-1)\n",
    "    else:\n",
    "        print(count)"
   ]
  },
  {
   "cell_type": "code",
   "execution_count": null,
   "metadata": {},
   "outputs": [],
   "source": [
    "t = int(input())\n",
    "for i in range(t):\n",
    "    n = int(input())\n",
    "    inp = list(map(int, input().split()))\n",
    "    inp.sort()\n",
    "    count = 0\n",
    "    for j in range(2,n):\n",
    "        val = inp[j]\n",
    "        a = 0\n",
    "        b = j-1\n",
    "        while a < b:\n",
    "            if inp[a]+inp[b] == val:\n",
    "                a += 1\n",
    "                b -= 1\n",
    "                count += 1\n",
    "            elif inp[a]+inp[b] < val:\n",
    "                a += 1\n",
    "            else:\n",
    "                b -= 1\n",
    "    if count == 0:\n",
    "        print(-1)\n",
    "    else:\n",
    "        print(count)"
   ]
  },
  {
   "cell_type": "code",
   "execution_count": null,
   "metadata": {},
   "outputs": [],
   "source": [
    "t = int(input())\n",
    "for i in range(t):\n",
    "    n = int(input())\n",
    "    inp = list(map(int, input().split()))\n",
    "    for j in range(1,n):\n",
    "        if inp[j-1] > 0:\n",
    "            inp[j] += inp[j-1]\n",
    "    print(max(inp))"
   ]
  },
  {
   "cell_type": "code",
   "execution_count": 7,
   "metadata": {},
   "outputs": [],
   "source": [
    "def decrease_key(arr, i, t):\n",
    "    p = ((i+1)//2) - 1\n",
    "    if p >= 0:\n",
    "        if (t and arr[p] > arr[i]) or ((not t) and arr[p] < arr[i]):\n",
    "            arr[p], arr[i] = arr[i], arr[p]\n",
    "            decrease_key(arr, p, t)\n",
    "\n",
    "def heapify(arr, n, i, t):\n",
    "    k = i\n",
    "    l = 2*i + 1\n",
    "    r = 2*i + 2\n",
    "    if t:\n",
    "        if l < n and arr[l] < arr[k]:\n",
    "            k = l\n",
    "        if r < n and arr[r] < arr[k]:\n",
    "            k = r\n",
    "    else:\n",
    "        if l < n and arr[l] > arr[k]:\n",
    "            k = l\n",
    "        if r < n and arr[r] > arr[k]:\n",
    "            k = r\n",
    "    if k != i:\n",
    "        arr[i], arr[k] = arr[k], arr[i]\n",
    "        heapify(arr, n, k, t)\n",
    "\n",
    "def extract_main(arr, n, t):\n",
    "    x = arr[0]\n",
    "    arr[0] = arr[n-1]\n",
    "    del arr[n-1]\n",
    "    heapify(arr, n-1, 0, t)\n",
    "    return x\n",
    "    \n",
    "def build_heap(arr, n, t):\n",
    "    k = n//2 - 1\n",
    "    for i in range(k,-1,-1):\n",
    "        heapify(arr, n, i, t)"
   ]
  },
  {
   "cell_type": "code",
   "execution_count": 8,
   "metadata": {},
   "outputs": [
    {
     "name": "stdout",
     "output_type": "stream",
     "text": [
      "[0, 2, 1, 3, 6, 7, 4, 9]\n",
      "0 [1, 2, 4, 3, 6, 7, 9]\n",
      "[1, 2, 4, 3, 6, 7, 9, -1]\n",
      "[-1, 1, 4, 2, 6, 7, 9, 3]\n"
     ]
    }
   ],
   "source": [
    "arr = [1,9,7,2,6,0,4,3]\n",
    "n = len(arr)\n",
    "build_heap(arr, n, True)\n",
    "print(arr)\n",
    "print(extract_main(arr, n, True), arr)\n",
    "arr.append(-1)\n",
    "print(arr)\n",
    "decrease_key(arr, n-1, True)\n",
    "print(arr)"
   ]
  },
  {
   "cell_type": "code",
   "execution_count": 10,
   "metadata": {},
   "outputs": [
    {
     "name": "stdout",
     "output_type": "stream",
     "text": [
      "4\n",
      "5\n",
      "5\n",
      "15\n",
      "10\n",
      "1\n",
      "5\n",
      "3\n",
      "4\n"
     ]
    }
   ],
   "source": [
    "n = int(input())\n",
    "maxi = []\n",
    "mini = []\n",
    "for i in range(n):\n",
    "    x = int(input())\n",
    "    if i == 0:\n",
    "        maxi.append(x)\n",
    "        print(x)\n",
    "    elif i == 1:\n",
    "        if maxi[0] > x:\n",
    "            mini.append(maxi[0])\n",
    "            maxi[0] = x\n",
    "        else:\n",
    "            mini.append(x)\n",
    "        print((maxi[0]+mini[0])//2)\n",
    "    else:\n",
    "        if x > mini[0]:\n",
    "            mini.append(x)\n",
    "            decrease_key(mini, len(mini)-1, True)\n",
    "        else:\n",
    "            maxi.append(x)\n",
    "            decrease_key(maxi, len(maxi)-1, False)\n",
    "        if len(maxi) - len(mini) > 1:\n",
    "            y = extract_main(maxi, len(maxi), False)\n",
    "            mini.append(y)\n",
    "            decrease_key(mini, len(mini)-1, True)\n",
    "        elif len(mini) - len(maxi) > 1:\n",
    "            y = extract_main(mini, len(mini), True)\n",
    "            maxi.append(y)\n",
    "            decrease_key(maxi, len(maxi)-1, False)\n",
    "        if len(maxi) > len(mini):\n",
    "            print(maxi[0])\n",
    "        elif len(mini) > len(maxi):\n",
    "            print(mini[0])\n",
    "        else:\n",
    "            print((maxi[0]+mini[0])//2)\n",
    "            "
   ]
  },
  {
   "cell_type": "code",
   "execution_count": null,
   "metadata": {},
   "outputs": [],
   "source": [
    "\n",
    "def decrease_key(arr, i, t):\n",
    "    p = ((i+1)//2) - 1\n",
    "    if p >= 0:\n",
    "        if (t and arr[p].head.data > arr[i].head.data) or ((not t) and arr[p].head.data < arr[i].head.data):\n",
    "            arr[p], arr[i] = arr[i], arr[p]\n",
    "            decrease_key(arr, p, t)\n",
    "\n",
    "def heapify(arr, n, i, t):\n",
    "    k = i\n",
    "    l = 2*i + 1\n",
    "    r = 2*i + 2\n",
    "    if t:\n",
    "        if l < n and arr[l].head.data < arr[k].head.data:\n",
    "            k = l\n",
    "        if r < n and arr[r].head.data < arr[k].head.data:\n",
    "            k = r\n",
    "    else:\n",
    "        if l < n and arr[l].head.data > arr[k].head.data:\n",
    "            k = l\n",
    "        if r < n and arr[r].head.data > arr[k].head.data:\n",
    "            k = r\n",
    "    if k != i:\n",
    "        arr[i], arr[k] = arr[k], arr[i]\n",
    "        heapify(arr, n, k, t)\n",
    "\n",
    "def extract_main(arr, n, t):\n",
    "    x = arr[0]\n",
    "    arr[0] = arr[n-1]\n",
    "    arr[n-1] = None\n",
    "    heapify(arr, n-1, 0, t)\n",
    "    return x\n",
    "    \n",
    "def build_heap(arr, n, t):\n",
    "    k = n//2 - 1\n",
    "    for i in range(k,-1,-1):\n",
    "        heapify(arr, n, i, t)\n",
    "\n",
    "def merge(heads,n):\n",
    "    #code here\n",
    "    ans = LinkedList()\n",
    "    build_heap(heads, n, True)\n",
    "    while n > 0:\n",
    "        v = extract_main(heads, n, True)\n",
    "        ans.add(v.data)\n",
    "        v.head = v.head.nxt\n",
    "        if v.head == None:\n",
    "            n -= 1\n",
    "        else:\n",
    "            heads[n-1] = v\n",
    "            decrease_key(heads, n-1, True)\n",
    "    return ans"
   ]
  },
  {
   "cell_type": "code",
   "execution_count": 2,
   "metadata": {},
   "outputs": [
    {
     "data": {
      "text/plain": [
       "1984082"
      ]
     },
     "execution_count": 2,
     "metadata": {},
     "output_type": "execute_result"
    }
   ],
   "source": [
    "file = open(\"sort.in\",\"r\")\n",
    "n = int(file.readline())\n",
    "arr = [int(i) for i in file.read().split()]\n",
    "arr.sort()\n",
    "st = ''\n",
    "for i in arr:\n",
    "    st += (str(i)+' ')\n",
    "file2 = open(\"sort.out\", \"w\")\n",
    "file2.write(st)"
   ]
  },
  {
   "cell_type": "code",
   "execution_count": null,
   "metadata": {},
   "outputs": [],
   "source": [
    "t = int(input())\n",
    "for i in range(t):\n",
    "    n = int(input())\n",
    "    arr = [int(j) for j in input().split()]\n",
    "    ans = 0\n",
    "    if n > 1:\n",
    "        if arr[1] < arr[0]:\n",
    "            ans += 1\n",
    "    else:\n",
    "        ans = 1\n",
    "        continue\n",
    "    maxi = arr[0]\n",
    "    for j in range(1,n-1):\n",
    "        if arr[j] > arr[j+1] and arr[j] > maxi:\n",
    "            ans += 1\n",
    "        maxi = max(maxi,arr[j])\n",
    "    if arr[-1] > maxi:\n",
    "        ans += 1\n",
    "    print('Case #'+str(i+1)+': '+str(ans))"
   ]
  },
  {
   "cell_type": "code",
   "execution_count": 4,
   "metadata": {},
   "outputs": [
    {
     "name": "stdout",
     "output_type": "stream",
     "text": [
      "1\n",
      "6\n",
      "5 3 4 7 8 7\n",
      "Case #1: 0\n"
     ]
    }
   ],
   "source": [
    "t = int(input())\n",
    "for i in range(t):\n",
    "    k = int(input())\n",
    "    arr = [int(j) for j in input().split()]\n",
    "    dp = [[0]*4 for j in range(k)]\n",
    "    for j in range(1,k):\n",
    "        if arr[j] > arr[j-1]:\n",
    "            dp[j][1] = min(dp[j-1][0],dp[j-1][3] + 1)\n",
    "            dp[j][2] = min(dp[j-1][1],dp[j-1][3] + 1)\n",
    "            dp[j][3] = min(dp[j-1][2],dp[j-1][3] + 1)\n",
    "            dp[j][0] = dp[j-1][3] + 1\n",
    "        elif arr[j] < arr[j-1]:\n",
    "            dp[j][1] = min(dp[j-1][2],dp[j-1][0] + 1)\n",
    "            dp[j][2] = min(dp[j-1][3],dp[j-1][0] + 1)\n",
    "            dp[j][0] = min(dp[j-1][1],dp[j-1][0] + 1)\n",
    "            dp[j][3] = dp[j-1][0] + 1\n",
    "        else:\n",
    "            dp[j][1] = dp[j-1][1]\n",
    "            dp[j][2] = dp[j-1][2]\n",
    "            dp[j][0] = dp[j-1][0]\n",
    "            dp[j][3] = dp[j-1][3]\n",
    "    print('Case #'+str(i+1)+': '+str(min(dp[k-1])))"
   ]
  },
  {
   "cell_type": "code",
   "execution_count": 1,
   "metadata": {},
   "outputs": [
    {
     "data": {
      "text/plain": [
       "'1234'"
      ]
     },
     "execution_count": 1,
     "metadata": {},
     "output_type": "execute_result"
    }
   ],
   "source": [
    "ab = '12345678'\n",
    "ab[:4]"
   ]
  },
  {
   "cell_type": "code",
   "execution_count": 3,
   "metadata": {},
   "outputs": [
    {
     "data": {
      "text/plain": [
       "'5678'"
      ]
     },
     "execution_count": 3,
     "metadata": {},
     "output_type": "execute_result"
    }
   ],
   "source": [
    "ab[4:]"
   ]
  },
  {
   "cell_type": "code",
   "execution_count": 8,
   "metadata": {},
   "outputs": [
    {
     "name": "stdout",
     "output_type": "stream",
     "text": [
      "2\n",
      "28.644800 22.572645\n",
      "77.216721 88.363892\n",
      "5 7\n",
      "48.864716 2.349014\n",
      "0\n"
     ]
    }
   ],
   "source": [
    "import math\n",
    "R = 6371\n",
    "n = int(input())\n",
    "tow_lat = [float(i) for i in input().split()]\n",
    "tow_lon = [float(i) for i in input().split()]\n",
    "ht = [float(i) for i in input().split()]\n",
    "lat, lon = map(float,input().split())\n",
    "count = 0\n",
    "for i in range(n):\n",
    "    alfa = math.acos(R/(R+ht[i]))*180/math.pi\n",
    "    if tow_lon[i] + alfa >= lon and tow_lon[i] - alfa <= lon:\n",
    "        if tow_lat[i] + alfa >= lat and tow_lat[i] - alfa <= lat:\n",
    "            count += 1\n",
    "print(count)"
   ]
  },
  {
   "cell_type": "code",
   "execution_count": null,
   "metadata": {},
   "outputs": [],
   "source": [
    "2\n",
    "19.076090 17.387140\n",
    "72.877426 78.856255\n",
    "2 1\n",
    "18.516726 73.856255"
   ]
  },
  {
   "cell_type": "code",
   "execution_count": 6,
   "metadata": {},
   "outputs": [
    {
     "data": {
      "text/plain": [
       "60.00000000000001"
      ]
     },
     "execution_count": 6,
     "metadata": {},
     "output_type": "execute_result"
    }
   ],
   "source": [
    "math.acos(0.5)*180/math.pi"
   ]
  },
  {
   "cell_type": "code",
   "execution_count": null,
   "metadata": {},
   "outputs": [],
   "source": []
  },
  {
   "cell_type": "code",
   "execution_count": null,
   "metadata": {},
   "outputs": [],
   "source": []
  }
 ],
 "metadata": {
  "kernelspec": {
   "display_name": "Python 3",
   "language": "python",
   "name": "python3"
  },
  "language_info": {
   "codemirror_mode": {
    "name": "ipython",
    "version": 3
   },
   "file_extension": ".py",
   "mimetype": "text/x-python",
   "name": "python",
   "nbconvert_exporter": "python",
   "pygments_lexer": "ipython3",
   "version": "3.8.2"
  }
 },
 "nbformat": 4,
 "nbformat_minor": 2
}
