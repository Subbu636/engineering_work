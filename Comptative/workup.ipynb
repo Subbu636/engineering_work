{
 "cells": [
  {
   "cell_type": "code",
   "execution_count": null,
   "metadata": {},
   "outputs": [],
   "source": [
    "import math\n",
    "\n",
    "# set fixed point\n",
    "\n",
    "x = 3.2356744\n",
    "y = \"{:.2f}\".format(333.354712)\n",
    "print(y,x)"
   ]
  },
  {
   "cell_type": "code",
   "execution_count": null,
   "metadata": {},
   "outputs": [],
   "source": []
  },
  {
   "cell_type": "code",
   "execution_count": 10,
   "metadata": {},
   "outputs": [
    {
     "name": "stdout",
     "output_type": "stream",
     "text": [
      "1\n",
      "5\n",
      "-239 -2 -100 -3 -11\n",
      "YES\n"
     ]
    }
   ],
   "source": [
    "t = int(input())\n",
    "for i in range(t):\n",
    "    n = int(input())\n",
    "    arr = list(map(int, input().split()))\n",
    "    arr1 = [0 for j in range(n)]\n",
    "    for j in range(len(arr)):\n",
    "        var = (arr[j]%n) + j\n",
    "        if var >= n:\n",
    "            var = var - n\n",
    "        arr1[var] += 1\n",
    "    for j in arr1:\n",
    "        if j != 1:\n",
    "            print('NO')\n",
    "            break\n",
    "    else:\n",
    "        print('YES')"
   ]
  },
  {
   "cell_type": "code",
   "execution_count": 16,
   "metadata": {},
   "outputs": [
    {
     "name": "stdout",
     "output_type": "stream",
     "text": [
      "3 3\n",
      ".#.\n",
      "###\n",
      "##.\n",
      "['.#.', '###', '##.']\n",
      "6\n"
     ]
    }
   ],
   "source": [
    "n,m = map(int,input().split())\n",
    "grid = []\n",
    "for i in range(n):\n",
    "    grid.append(input())\n",
    "print(grid)\n",
    "poss = True\n",
    "for i in range(n):\n",
    "    look = False\n",
    "    for j in range(m-1):\n",
    "        if look:\n",
    "            if grid[i][j] == '.' and grid[i][j+1] == '#':\n",
    "                poss = False\n",
    "        if grid[i][j] == '#' and grid[i][j+1] == '.':\n",
    "            look = True\n",
    "            \n",
    "for i in range(m):\n",
    "    look = False\n",
    "    for j in range(n-1):\n",
    "        if look:\n",
    "            if grid[j][i] == '.' and grid[j+1][i] == '#':\n",
    "                poss = False\n",
    "        if grid[j][i] == '#' and grid[j+1][i] == '.':\n",
    "            look = True\n",
    "            \n",
    "# graph\n",
    "\n"
   ]
  },
  {
   "cell_type": "code",
   "execution_count": null,
   "metadata": {},
   "outputs": [],
   "source": [
    "# both of below problems have same complexity but only second one is accepted!\n",
    "# but second one is elegant"
   ]
  },
  {
   "cell_type": "code",
   "execution_count": 1,
   "metadata": {},
   "outputs": [
    {
     "name": "stdout",
     "output_type": "stream",
     "text": [
      "2\n",
      "4\n",
      "1 5 3 2\n",
      "2\n",
      "3\n",
      "3 2 7\n",
      "0\n"
     ]
    }
   ],
   "source": [
    "t = int(input())\n",
    "for i in range(t):\n",
    "    lim = 1000001\n",
    "    li = [0 for j in range(lim)]\n",
    "    n = int(input())\n",
    "    inp = list(map(int, input().split()))\n",
    "    for j in inp:\n",
    "        li[j] += 1\n",
    "    count = 0\n",
    "    for j in range(n):\n",
    "        for k in range(j+1,n):\n",
    "            if li[inp[j]+inp[k]] != 0:\n",
    "                count += 1\n",
    "    if count == 0:\n",
    "        print(-1)\n",
    "    else:\n",
    "        print(count)"
   ]
  },
  {
   "cell_type": "code",
   "execution_count": null,
   "metadata": {},
   "outputs": [],
   "source": [
    "t = int(input())\n",
    "for i in range(t):\n",
    "    n = int(input())\n",
    "    inp = list(map(int, input().split()))\n",
    "    inp.sort()\n",
    "    count = 0\n",
    "    for j in range(2,n):\n",
    "        val = inp[j]\n",
    "        a = 0\n",
    "        b = j-1\n",
    "        while a < b:\n",
    "            if inp[a]+inp[b] == val:\n",
    "                a += 1\n",
    "                b -= 1\n",
    "                count += 1\n",
    "            elif inp[a]+inp[b] < val:\n",
    "                a += 1\n",
    "            else:\n",
    "                b -= 1\n",
    "    if count == 0:\n",
    "        print(-1)\n",
    "    else:\n",
    "        print(count)"
   ]
  },
  {
   "cell_type": "code",
   "execution_count": null,
   "metadata": {},
   "outputs": [],
   "source": [
    "t = int(input())\n",
    "for i in range(t):\n",
    "    n = int(input())\n",
    "    inp = list(map(int, input().split()))\n",
    "    for j in range(1,n):\n",
    "        if inp[j-1] > 0:\n",
    "            inp[j] += inp[j-1]\n",
    "    print(max(inp))"
   ]
  },
  {
   "cell_type": "code",
   "execution_count": null,
   "metadata": {},
   "outputs": [],
   "source": []
  }
 ],
 "metadata": {
  "kernelspec": {
   "display_name": "Python 3",
   "language": "python",
   "name": "python3"
  },
  "language_info": {
   "codemirror_mode": {
    "name": "ipython",
    "version": 3
   },
   "file_extension": ".py",
   "mimetype": "text/x-python",
   "name": "python",
   "nbconvert_exporter": "python",
   "pygments_lexer": "ipython3",
   "version": "3.8.2"
  }
 },
 "nbformat": 4,
 "nbformat_minor": 2
}
