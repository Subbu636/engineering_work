{
 "cells": [
  {
   "cell_type": "code",
   "execution_count": null,
   "metadata": {},
   "outputs": [],
   "source": [
    "import numpy as np\n",
    "import matplotlib.pyplot as plt\n",
    "import pandas as pd"
   ]
  },
  {
   "cell_type": "code",
   "execution_count": null,
   "metadata": {},
   "outputs": [],
   "source": [
    "data=pd.read_csv('traingroup11.csv')\n",
    "\n",
    "data=pd.DataFrame(data).to_numpy()\n",
    "\n",
    "data1=data[301:,:]\n",
    "data=data[0:300,:]\n",
    "X_train = data[:, :2]\n",
    "Y_train = data[:, 2]\n",
    "plt.scatter(X_train[:,0],X_train[:,1], c=Y_train, s=30, cmap=plt.cm.Spectral);\n",
    "expected_out=Y_train"
   ]
  },
  {
   "cell_type": "code",
   "execution_count": null,
   "metadata": {},
   "outputs": [],
   "source": [
    "X_val = data1[:, :2]\n",
    "Y_val = data1[:, 2]\n",
    "expected_out1=Y_val"
   ]
  },
  {
   "cell_type": "code",
   "execution_count": null,
   "metadata": {},
   "outputs": [],
   "source": [
    "X_train=X_train.T\n",
    "Y_train=Y_train.T\n",
    "Y_train.shape\n",
    "a=Y_train\n",
    "def one_hot(Y,C):\n",
    "    Y=np.eye(C)[Y.reshape(-1)].T\n",
    "    return Y\n",
    "\n",
    "Y_train=Y_train.astype(int)\n"
   ]
  },
  {
   "cell_type": "code",
   "execution_count": null,
   "metadata": {},
   "outputs": [],
   "source": [
    "b = np.zeros((Y_train.size, Y_train.max()+1))\n",
    "b[np.arange(Y_train.size),Y_train] = 1\n",
    "Y_train=b\n"
   ]
  },
  {
   "cell_type": "code",
   "execution_count": null,
   "metadata": {},
   "outputs": [],
   "source": [
    "def relu(X):\n",
    "   return np.maximum(0,X)\n",
    "import math\n",
    "\n",
    "def sigmoid(x):\n",
    "  return 1/(1+np.exp(-x))"
   ]
  },
  {
   "cell_type": "code",
   "execution_count": 36,
   "metadata": {},
   "outputs": [],
   "source": [
    "# GRADED FUNCTION: compute_cost\n",
    "\n",
    "def compute_cost(A3, Y, parameters):\n",
    "    \n",
    "    \n",
    "    m=451\n",
    "    \n",
    "    logprobs = np.multiply(np.log(A3), Y) + np.multiply((1 - Y), np.log(1e-8+1-A3))\n",
    "#     print(A3)\n",
    "    cost = - np.sum(logprobs) / m\n",
    "    cost = float(np.squeeze(cost))\n",
    "    \n",
    "    return cost"
   ]
  },
  {
   "cell_type": "code",
   "execution_count": 37,
   "metadata": {},
   "outputs": [],
   "source": [
    "def initparameters():\n",
    "  \n",
    "    l1=7\n",
    "    l2=5\n",
    "    \n",
    "    W1 = np.random.randn(l1,2) *0.01\n",
    "    b1 = np.zeros(shape=(l1, 1))\n",
    "    W2 = np.random.randn(l2,l1) *0.01\n",
    "    b2 = np.zeros(shape=(l2, 1))\n",
    "    W3 = np.random.randn(3, l2) *0.01\n",
    "    b3 = np.zeros(shape=(3, 1))\n",
    "    \n",
    "    parameters = {\"W1\": W1,\n",
    "                  \"b1\": b1,\n",
    "                  \"W2\": W2,\n",
    "                  \"b2\": b2,\n",
    "                  \"W3\": W3,\n",
    "                  \"b3\": b3}\n",
    "    \n",
    "    return parameters"
   ]
  },
  {
   "cell_type": "code",
   "execution_count": 38,
   "metadata": {},
   "outputs": [],
   "source": [
    "def forward_propagation(X, parameters):\n",
    "    \n",
    "    W1 = parameters['W1']\n",
    "    b1 = parameters['b1']\n",
    "    W2 = parameters['W2']\n",
    "    b2 = parameters['b2']\n",
    "    W3 = parameters['W3']\n",
    "    b3 = parameters['b3']\n",
    "   \n",
    "    \n",
    "    \n",
    "    Z1 = np.dot(W1, X) + b1\n",
    "    A1 = relu(Z1)\n",
    "    \n",
    "    Z2 = np.dot(W2, A1) + b2\n",
    "    A2 = relu(Z2)\n",
    "    \n",
    "    Z3 = np.dot(W3, A2) + b3\n",
    "    A3 = sigmoid(Z3)\n",
    "    \n",
    "   \n",
    "    \n",
    "    cache = {\"Z1\": Z1,\n",
    "             \"A1\": A1,\n",
    "             \"Z2\": Z2,\n",
    "             \"A2\": A2,\n",
    "             \"A3\": A3,\n",
    "             \"Z3 \":Z3}\n",
    "    \n",
    "    return A3, cache"
   ]
  },
  {
   "cell_type": "code",
   "execution_count": 39,
   "metadata": {},
   "outputs": [],
   "source": [
    "def backward_propagation(parameters, cache, X, Y):\n",
    "   \n",
    "    m=451 \n",
    "   \n",
    "    W1 = parameters['W1']\n",
    "    W2 = parameters['W2']\n",
    "    W3 = parameters['W3']\n",
    "        \n",
    "    \n",
    "    A1 = cache['A1']\n",
    "    A2 = cache['A2']\n",
    "    A3 = cache['A3']\n",
    "    \n",
    "    \n",
    "    dZ3 = A3 - Y\n",
    "    dW3 = (1 / m) * np.dot(dZ3, A2.T)\n",
    "    db3 = (1 / m) * np.sum(dZ3, axis=1, keepdims=True)\n",
    "    dZ2 = np.multiply(np.dot(W3.T, dZ3), 1 - np.power(A2, 2))\n",
    "    dW2 = (1 / m) * np.dot(dZ2, A1.T)\n",
    "    db2 = (1 / m) * np.sum(dZ2, axis=1, keepdims=True)\n",
    "    dZ1 = np.multiply(np.dot(W2.T, dZ2), 1 - np.power(A1, 2))\n",
    "    dW1 = (1 / m) * np.dot(dZ1, X.T)\n",
    "    db1 = (1 / m) * np.sum(dZ1, axis=1, keepdims=True)\n",
    "    ### END CODE HERE ###\n",
    "    \n",
    "    grads = {\"dW1\": dW1,\n",
    "             \"db1\": db1,\n",
    "             \"dW2\": dW2,\n",
    "             \"db2\": db2,\n",
    "             \"dW3\": dW3,\n",
    "             \"db3\": db3\n",
    "            }\n",
    "    \n",
    "    return grads"
   ]
  },
  {
   "cell_type": "code",
   "execution_count": 40,
   "metadata": {},
   "outputs": [],
   "source": [
    "\n",
    "def update_parameters(parameters, grads, learning_rate = 0.01):\n",
    "    \n",
    "    \n",
    "    W1 = parameters['W1']\n",
    "    b1 = parameters['b1']\n",
    "    W2 = parameters['W2']\n",
    "    b2 = parameters['b2']\n",
    "    W3 = parameters['W3']\n",
    "    b3 = parameters['b3']\n",
    "    ### END CODE HERE ###\n",
    "    \n",
    "    # Retrieve each gradient from the dictionary \"grads\"\n",
    "    ### START CODE HERE ### (≈ 4 lines of code)\n",
    "    dW1 = grads['dW1']\n",
    "    db1 = grads['db1']\n",
    "    dW2 = grads['dW2']\n",
    "    db2 = grads['db2']\n",
    "    dW3 = grads['dW3']\n",
    "    db3 = grads['db3']\n",
    "    ## END CODE HERE ###\n",
    "    \n",
    "    # Update rule for each parameter\n",
    "    ### START CODE HERE ### (≈ 4 lines of code)\n",
    "    W1 = W1 - learning_rate * dW1\n",
    "    b1 = b1 - learning_rate * db1\n",
    "    W2 = W2 - learning_rate * dW2\n",
    "    b2 = b2 - learning_rate * db2\n",
    "    W3 = W3 - learning_rate * dW3\n",
    "    b3 = b3 - learning_rate * db3\n",
    "    ### END CODE HERE ###\n",
    "    \n",
    "    parameters = {\"W1\": W1,\n",
    "                  \"b1\": b1,\n",
    "                  \"W2\": W2,\n",
    "                  \"b2\": b2,\n",
    "                  \"W3\": W3,\n",
    "                  \"b3\": b3\n",
    "                 }\n",
    "    \n",
    "    return parameters"
   ]
  },
  {
   "cell_type": "code",
   "execution_count": 41,
   "metadata": {},
   "outputs": [],
   "source": [
    "\n",
    "\n",
    "# GRADED FUNCTION: nn_model\n",
    "\n",
    "def nn_model(X, Y,  num_iterations = 10000, print_cost=False):\n",
    "   \n",
    "    \n",
    "   \n",
    "    parameters =initparameters()\n",
    "    ### END CODE HERE ###\n",
    "    \n",
    "    # Loop (gradient descent)\n",
    "    costs=[]\n",
    "    for i in range(1, num_iterations+1):\n",
    "         \n",
    "        \n",
    "        # Forward propagation. Inputs: \"X, parameters\". Outputs: \"A2, cache\".\n",
    "        A3,cache = forward_propagation(X, parameters)\n",
    "        \n",
    "        # Cost function. Inputs: \"A2, Y, parameters\". Outputs: \"cost\".\n",
    "        cost = compute_cost(A3,Y,parameters)\n",
    "        if i % 100 == 0:\n",
    "            costs.append(cost)\n",
    "\n",
    "        # Backpropagation. Inputs: \"parameters, cache, X, Y\". Outputs: \"grads\".\n",
    "        grads = backward_propagation(parameters, cache, X, Y)\n",
    " \n",
    "        # Gradient descent parameter update. Inputs: \"parameters, grads\". Outputs: \"parameters\".\n",
    "        parameters = update_parameters(parameters, grads)\n",
    "        if(i%1000==0):\n",
    "            print(\"cost \",cost)\n",
    "        ### END CODE HERE ###\n",
    "        \n",
    "        # Print the cost every 1000 iterations\n",
    "        \n",
    "            \n",
    "    return parameters,costs\n",
    "\n"
   ]
  },
  {
   "cell_type": "code",
   "execution_count": 42,
   "metadata": {},
   "outputs": [
    {
     "data": {
      "text/plain": [
       "(2, 300)"
      ]
     },
     "execution_count": 42,
     "metadata": {},
     "output_type": "execute_result"
    }
   ],
   "source": [
    "Y_train=Y_train.T\n",
    "Y_train.shape\n",
    "X_train.shape"
   ]
  },
  {
   "cell_type": "code",
   "execution_count": 43,
   "metadata": {},
   "outputs": [
    {
     "name": "stdout",
     "output_type": "stream",
     "text": [
      "cost  1.2746349600294005\n",
      "cost  1.269481798533683\n",
      "cost  1.2619839942181488\n",
      "cost  1.234220562138861\n",
      "cost  1.1473339701563767\n",
      "cost  1.2660551714649402\n"
     ]
    },
    {
     "name": "stderr",
     "output_type": "stream",
     "text": [
      "/Users/ravi/anaconda3/lib/python3.7/site-packages/ipykernel_launcher.py:6: RuntimeWarning: overflow encountered in exp\n",
      "  \n",
      "/Users/ravi/anaconda3/lib/python3.7/site-packages/ipykernel_launcher.py:8: RuntimeWarning: divide by zero encountered in log\n",
      "  \n",
      "/Users/ravi/anaconda3/lib/python3.7/site-packages/ipykernel_launcher.py:8: RuntimeWarning: invalid value encountered in multiply\n",
      "  \n",
      "/Users/ravi/anaconda3/lib/python3.7/site-packages/ipykernel_launcher.py:21: RuntimeWarning: overflow encountered in multiply\n"
     ]
    },
    {
     "name": "stdout",
     "output_type": "stream",
     "text": [
      "cost  nan\n",
      "cost  nan\n",
      "cost  nan\n",
      "cost  nan\n"
     ]
    }
   ],
   "source": [
    "parameters,costs = nn_model(X_train, Y_train,  num_iterations = 10000, print_cost=True)"
   ]
  },
  {
   "cell_type": "code",
   "execution_count": 44,
   "metadata": {},
   "outputs": [
    {
     "data": {
      "image/png": "[encoded data removed]",
      "text/plain": [
       "<Figure size 432x288 with 1 Axes>"
      ]
     },
     "metadata": {
      "needs_background": "light"
     },
     "output_type": "display_data"
    }
   ],
   "source": [
    "\n",
    "plt.plot(costs)\n",
    "plt.ylabel('cost')\n",
    "plt.xlabel('iterations (per hundreds)')\n",
    "\n",
    "plt.show()\n"
   ]
  },
  {
   "cell_type": "code",
   "execution_count": 45,
   "metadata": {},
   "outputs": [],
   "source": [
    "def predict(parameters, X):\n",
    "    \"\"\"\n",
    "    Using the learned parameters, predicts a class for each example in X\n",
    "    \n",
    "    Arguments:\n",
    "    parameters -- python dictionary containing your parameters \n",
    "    X -- input data of size (n_x, m)\n",
    "    \n",
    "    Returns\n",
    "    predictions -- vector of predictions of our model (red: 0 / blue: 1)\n",
    "    \"\"\"\n",
    "    \n",
    "    # Computes probabilities using forward propagation, and classifies to 0/1 using 0.5 as the threshold.\n",
    "    ### START CODE HERE ### (≈ 2 lines of code)\n",
    "    \n",
    "    A2, cache = forward_propagation(X, parameters)\n",
    "    predictions = np.argmax(A2,axis=0)\n",
    "    ### END CODE HERE ###\n",
    "    \n",
    "    return predictions\n"
   ]
  },
  {
   "cell_type": "code",
   "execution_count": 46,
   "metadata": {},
   "outputs": [
    {
     "data": {
      "text/plain": [
       "{'W1': array([[nan, nan],\n",
       "        [nan, nan],\n",
       "        [nan, nan],\n",
       "        [nan, nan],\n",
       "        [nan, nan],\n",
       "        [nan, nan],\n",
       "        [nan, nan],\n",
       "        [nan, nan],\n",
       "        [nan, nan]]), 'b1': array([[nan],\n",
       "        [nan],\n",
       "        [nan],\n",
       "        [nan],\n",
       "        [nan],\n",
       "        [nan],\n",
       "        [nan],\n",
       "        [nan],\n",
       "        [nan]]), 'W2': array([[nan, nan, nan, nan, nan, nan, nan, nan, nan],\n",
       "        [nan, nan, nan, nan, nan, nan, nan, nan, nan],\n",
       "        [nan, nan, nan, nan, nan, nan, nan, nan, nan],\n",
       "        [nan, nan, nan, nan, nan, nan, nan, nan, nan]]), 'b2': array([[nan],\n",
       "        [nan],\n",
       "        [nan],\n",
       "        [nan]]), 'W3': array([[nan, nan, nan, nan],\n",
       "        [nan, nan, nan, nan],\n",
       "        [nan, nan, nan, nan]]), 'b3': array([[nan],\n",
       "        [nan],\n",
       "        [nan]])}"
      ]
     },
     "execution_count": 46,
     "metadata": {},
     "output_type": "execute_result"
    }
   ],
   "source": [
    "parameters\n"
   ]
  },
  {
   "cell_type": "code",
   "execution_count": 47,
   "metadata": {},
   "outputs": [
    {
     "name": "stdout",
     "output_type": "stream",
     "text": [
      "train accuracy = 0.34551495016611294\n",
      "test accuracy = 0.31333333333333335\n"
     ]
    }
   ],
   "source": [
    "pred=predict(parameters, X_train)\n",
    "count=0\n",
    "count1=0\n",
    "pred1=predict(parameters,X_val.T)\n",
    "i=0\n",
    "j=0\n",
    "while i<300:\n",
    "    if(pred[i]==expected_out[i]):\n",
    "        count=count+1\n",
    "    i=i+1\n",
    "while j<150:\n",
    "    if(pred1[j]==expected_out1[j]):\n",
    "        count1=count1+1\n",
    "    j=j+1\n",
    "print(\"train accuracy =\",count/301)\n",
    "print(\"test accuracy =\",count1/150)"
   ]
  },
  {
   "cell_type": "code",
   "execution_count": null,
   "metadata": {},
   "outputs": [],
   "source": [
    "def plot_decision_boundary(model, X, y):\n",
    "    # Set min and max values and give it some padding\n",
    "    x_min, x_max = X[0, :].min() - 1, X[0, :].max() + 1\n",
    "    y_min, y_max = X[1, :].min() - 1, X[1, :].max() + 1\n",
    "    h = 0.01\n",
    "    # Generate a grid of points with distance h between them\n",
    "    xx, yy = np.meshgrid(np.arange(x_min, x_max, h), np.arange(y_min, y_max, h))\n",
    "    # Predict the function value for the whole grid\n",
    "    Z = model(np.c_[xx.ravel(), yy.ravel()])\n",
    "    Z = Z.reshape(xx.shape)\n",
    "    # Plot the contour and training examples\n",
    "    plt.contourf(xx, yy, Z, cmap=plt.cm.Spectral)\n",
    "    plt.ylabel('x2')\n",
    "    plt.xlabel('x1')\n",
    "    plt.scatter(X[0, :], X[1, :], c=y, cmap=plt.cm.Spectral)\n",
    "plot_decision_boundary(lambda x: predict(parameters, x.T), X_train, Y_train)   "
   ]
  },
  {
   "cell_type": "code",
   "execution_count": null,
   "metadata": {},
   "outputs": [],
   "source": [
    "X_train=X_train.T"
   ]
  },
  {
   "cell_type": "code",
   "execution_count": null,
   "metadata": {},
   "outputs": [],
   "source": [
    "W1 = parameters['W1']\n",
    "b1 = parameters['b1']\n",
    "W2 = parameters['W2']\n",
    "b2 = parameters['b2']\n",
    "W3 = parameters['W3']\n",
    "b3 = parameters['b3']"
   ]
  },
  {
   "cell_type": "code",
   "execution_count": null,
   "metadata": {},
   "outputs": [],
   "source": [
    "def last_layer(j):\n",
    "    import matplotlib.pyplot as plt\n",
    "    from mpl_toolkits.mplot3d import Axes3D\n",
    "    import numpy as np\n",
    "    x_min, x_max = X_train[0, :].min() - 1, X_train[0, :].max() + 1\n",
    "    y_min, y_max = X_train[1, :].min() - 1, X_train[1, :].max() + 1\n",
    "    b = np.arange(x_min,x_max, 0.2)\n",
    "    d = np.arange(y_min, y_max, 0.2)\n",
    "\n",
    "    B, D = np.meshgrid(b, d)\n",
    "    X =np.c_[B.ravel(), D.ravel()]\n",
    "    x1=np.tanh(np.dot(W1, X.T) + b1)\n",
    "    x2=np.tanh(np.dot(W2, x1) + b2)\n",
    "    x3=np.tanh(np.dot(W3, x2) + b3)\n",
    "    nu=x3[j]\n",
    "    nu=nu.reshape(B.shape[0],B.shape[1])\n",
    "    fig = plt.figure()\n",
    "    ax = Axes3D(fig)\n",
    "    ax.plot_surface(B, D, nu)\n",
    "    plt.xlabel('X1')\n",
    "    plt.ylabel('X2')\n",
    "    \n",
    "    plt.show()\n",
    "def first_layer(j):\n",
    "    import matplotlib.pyplot as plt\n",
    "    from mpl_toolkits.mplot3d import Axes3D\n",
    "    import numpy as np\n",
    "    x_min, x_max = X_train[0, :].min() - 1, X_train[0, :].max() + 1\n",
    "    y_min, y_max = X_train[1, :].min() - 1, X_train[1, :].max() + 1\n",
    "    b = np.arange(x_min,x_max, 0.2)\n",
    "    d = np.arange(y_min, y_max, 0.2)\n",
    "\n",
    "    B, D = np.meshgrid(b, d)\n",
    "    X =np.c_[B.ravel(), D.ravel()]\n",
    "    x1=np.tanh(np.dot(W1, X.T) + b1)\n",
    "    x2=np.tanh(np.dot(W2, x1) + b2)\n",
    "    x3=np.tanh(np.dot(W3, x2) + b3)\n",
    "    nu=x1[j]\n",
    "    nu=nu.reshape(B.shape[0],B.shape[1])\n",
    "    fig = plt.figure()\n",
    "    ax = Axes3D(fig)\n",
    "    ax.plot_surface(B, D, nu)\n",
    "    plt.xlabel('X1')\n",
    "    plt.ylabel('X2')\n",
    "    \n",
    "    plt.show()\n",
    "def second_layer(j):\n",
    "    import matplotlib.pyplot as plt\n",
    "    from mpl_toolkits.mplot3d import Axes3D\n",
    "    import numpy as np\n",
    "    x_min, x_max = X_train[0, :].min() - 1, X_train[0, :].max() + 1\n",
    "    y_min, y_max = X_train[1, :].min() - 1, X_train[1, :].max() + 1\n",
    "    b = np.arange(x_min,x_max, 0.2)\n",
    "    d = np.arange(y_min, y_max, 0.2)\n",
    "\n",
    "    B, D = np.meshgrid(b, d)\n",
    "    X =np.c_[B.ravel(), D.ravel()]\n",
    "    x1=np.tanh(np.dot(W1, X.T) + b1)\n",
    "    x2=np.tanh(np.dot(W2, x1) + b2)\n",
    "    x3=np.tanh(np.dot(W3, x2) + b3)\n",
    "    nu=x2[j]\n",
    "    nu=nu.reshape(B.shape[0],B.shape[1])\n",
    "    fig = plt.figure()\n",
    "    ax = Axes3D(fig)\n",
    "    ax.plot_surface(B, D, nu)\n",
    "    plt.xlabel('X1')\n",
    "    plt.ylabel('X2')\n",
    "    \n",
    "    plt.show()\n",
    "          "
   ]
  },
  {
   "cell_type": "code",
   "execution_count": null,
   "metadata": {},
   "outputs": [],
   "source": [
    "last_layer(0)\n",
    "last_layer(1)\n",
    "last_layer(2)"
   ]
  },
  {
   "cell_type": "code",
   "execution_count": null,
   "metadata": {},
   "outputs": [],
   "source": [
    "plt.show()"
   ]
  },
  {
   "cell_type": "code",
   "execution_count": null,
   "metadata": {},
   "outputs": [],
   "source": [
    "first_layer(0)\n",
    "first_layer(1)\n",
    "first_layer(2)\n",
    "first_layer(4)\n",
    "first_layer(5)\n"
   ]
  },
  {
   "cell_type": "code",
   "execution_count": null,
   "metadata": {},
   "outputs": [],
   "source": [
    "second_layer(0)\n",
    "second_layer(1)\n",
    "second_layer(2)\n",
    "second_layer(4)\n",
    "\n"
   ]
  },
  {
   "cell_type": "code",
   "execution_count": null,
   "metadata": {},
   "outputs": [],
   "source": [
    "#10000 iterations\n",
    "first_layer(0)\n",
    "first_layer(1)\n",
    "first_layer(2)\n",
    "first_layer(4)\n",
    "first_layer(5)\n",
    "second_layer(0)\n",
    "second_layer(1)\n",
    "second_layer(2)\n",
    "second_layer(4)\n",
    "last_layer(0)\n",
    "last_layer(1)\n",
    "last_layer(2)"
   ]
  },
  {
   "cell_type": "code",
   "execution_count": null,
   "metadata": {},
   "outputs": [],
   "source": [
    "# 1 iteration\n",
    "first_layer(0)\n",
    "first_layer(1)\n",
    "first_layer(2)\n",
    "first_layer(4)\n",
    "first_layer(5)\n",
    "second_layer(0)\n",
    "second_layer(1)\n",
    "second_layer(2)\n",
    "second_layer(4)\n",
    "last_layer(0)\n",
    "last_layer(1)\n",
    "last_layer(2)"
   ]
  },
  {
   "cell_type": "code",
   "execution_count": null,
   "metadata": {},
   "outputs": [],
   "source": []
  },
  {
   "cell_type": "code",
   "execution_count": null,
   "metadata": {},
   "outputs": [],
   "source": []
  },
  {
   "cell_type": "code",
   "execution_count": null,
   "metadata": {},
   "outputs": [],
   "source": []
  },
  {
   "cell_type": "code",
   "execution_count": null,
   "metadata": {},
   "outputs": [],
   "source": []
  },
  {
   "cell_type": "code",
   "execution_count": null,
   "metadata": {},
   "outputs": [],
   "source": []
  },
  {
   "cell_type": "code",
   "execution_count": null,
   "metadata": {},
   "outputs": [],
   "source": []
  },
  {
   "cell_type": "code",
   "execution_count": null,
   "metadata": {},
   "outputs": [],
   "source": []
  },
  {
   "cell_type": "code",
   "execution_count": null,
   "metadata": {},
   "outputs": [],
   "source": []
  },
  {
   "cell_type": "code",
   "execution_count": null,
   "metadata": {},
   "outputs": [],
   "source": []
  },
  {
   "cell_type": "code",
   "execution_count": null,
   "metadata": {},
   "outputs": [],
   "source": []
  },
  {
   "cell_type": "code",
   "execution_count": null,
   "metadata": {},
   "outputs": [],
   "source": []
  },
  {
   "cell_type": "code",
   "execution_count": null,
   "metadata": {},
   "outputs": [],
   "source": []
  },
  {
   "cell_type": "code",
   "execution_count": null,
   "metadata": {},
   "outputs": [],
   "source": []
  },
  {
   "cell_type": "code",
   "execution_count": null,
   "metadata": {},
   "outputs": [],
   "source": []
  },
  {
   "cell_type": "code",
   "execution_count": null,
   "metadata": {},
   "outputs": [],
   "source": []
  }
 ],
 "metadata": {
  "kernelspec": {
   "display_name": "Python 3",
   "language": "python",
   "name": "python3"
  },
  "language_info": {
   "codemirror_mode": {
    "name": "ipython",
    "version": 3
   },
   "file_extension": ".py",
   "mimetype": "text/x-python",
   "name": "python",
   "nbconvert_exporter": "python",
   "pygments_lexer": "ipython3",
   "version": "3.7.4"
  }
 },
 "nbformat": 4,
 "nbformat_minor": 4
}
