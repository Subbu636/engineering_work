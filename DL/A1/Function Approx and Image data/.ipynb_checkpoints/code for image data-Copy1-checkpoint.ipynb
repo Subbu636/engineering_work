{
 "cells": [
  {
   "cell_type": "code",
   "execution_count": 8,
   "metadata": {},
   "outputs": [],
   "source": [
    "import os\n",
    "import numpy as np\n",
    "import torch\n",
    "import torch.nn as nn\n",
    "import torch.nn.functional as F\n",
    "import torchvision \n",
    "import torchvision.transforms as transforms\n",
    "import torchvision.models as models\n",
    "\n",
    "\n"
   ]
  },
  {
   "cell_type": "code",
   "execution_count": null,
   "metadata": {},
   "outputs": [],
   "source": []
  },
  {
   "cell_type": "code",
   "execution_count": 9,
   "metadata": {},
   "outputs": [
    {
     "data": {
      "text/plain": [
       "['plane.npy', 'ship.npy', 'truck.npy', 'bird.npy', 'horse.npy']"
      ]
     },
     "execution_count": 9,
     "metadata": {},
     "output_type": "execute_result"
    }
   ],
   "source": [
    "# loading the pretrained model of Vgg_16 which uses batch_normalization\n",
    "net = models.vgg16_bn(pretrained=True)\n",
    "\n",
    "# set the load_path for all image file\n",
    "load_path = './images/'\n",
    "\n",
    "# set the save_path for the extracted features file for all the classes\n",
    "save_path = './Feature_extraction_2D/'\n",
    "#os.mkdir(save_path)\n",
    "os.makedirs(save_path, exist_ok=True)\n",
    "\n",
    "# will get the names of the files present in the load path\n",
    "# The training data\n",
    "get_class_names = os.listdir(load_path)\n",
    "\n",
    "# for each class file\n",
    "get_class_names"
   ]
  },
  {
   "cell_type": "code",
   "execution_count": 10,
   "metadata": {},
   "outputs": [
    {
     "name": "stdout",
     "output_type": "stream",
     "text": [
      "(300, 512)\n"
     ]
    }
   ],
   "source": [
    "for i in get_class_names:\n",
    "    # To save the file with the same name for the extracted features\n",
    "    new_save_path = save_path + i\n",
    "    \n",
    "    # To load the class file\n",
    "    class_path = load_path + i\n",
    "\n",
    "    # to load the numpy file\n",
    "    img = np.load(class_path)\n",
    "\n",
    "    # To append the extracted features\n",
    "    arr = []\n",
    "\n",
    "    # for each image in the class file\n",
    "    for j in img:   \n",
    "\n",
    "        # converting the numpy array to tensor\n",
    "        j = torch.tensor(j)\n",
    "        \n",
    "        # reshaping the image to [batch_size,number_of_channel,height,width]\n",
    "        j = j.view([-1,3,32,32])\n",
    "        \n",
    "        # rescaling the image to [1,3,224,224]\n",
    "        # vgg_net the required input is of size 224*224 and single image so batch size 1 \n",
    "        j = F.interpolate(j,(224,224))\n",
    "        \n",
    "        # Extracting the features from the middle layer of the network\n",
    "        z = net.features(j)\n",
    "        \n",
    "        # Features extracted are of size [1,512,7,7]\n",
    "        # Taking the average pooling for each channel\n",
    "        m = F.avg_pool2d(z,(7,7),1,0)\n",
    "        \n",
    "        # Now the features are of size [1,512,1,1]\n",
    "        #reshaping the features to [512] \n",
    "        m = m.view([-1]).detach()\n",
    "        \n",
    "        # converting it back to numpy array\n",
    "        m = np.asarray(m)\n",
    "\n",
    "        # appending to the arr\n",
    "        arr.append(m)\n",
    "\n",
    "    arr = np.asarray(arr)\n",
    "    print(arr.shape)\n",
    "\n",
    "    # To save the numpy array  \n",
    "    np.save(new_save_path,arr)"
   ]
  },
  {
   "cell_type": "code",
   "execution_count": 4,
   "metadata": {},
   "outputs": [
    {
     "name": "stdout",
     "output_type": "stream",
     "text": [
      "['plane.npy', 'ship.npy', 'truck.npy', 'bird.npy', 'horse.npy']\n",
      "0 plane.npy\n",
      "1 ship.npy\n",
      "2 truck.npy\n",
      "3 bird.npy\n",
      "4 horse.npy\n",
      "(1500, 32, 32, 3)\n"
     ]
    }
   ],
   "source": [
    "import os\n",
    "import numpy as np\n",
    "import matplotlib.pyplot as plt\n",
    "from random import shuffle\n",
    "\n",
    "\n",
    "# To set the load path for the extracted 2d features\n",
    "# Change it to your team number\n",
    "path = './images/'\n",
    "class_names = os.listdir(path)\n",
    "\n",
    "print(class_names)\n",
    "\n",
    "# val is to assign different labels to each class\n",
    "val = 0\n",
    "# To store all the data_points\n",
    "data_points = []\n",
    "# To store all the corresponding class values\n",
    "data_points_class = []\n",
    "\n",
    "# for each class\n",
    "for i in class_names:\n",
    "    \n",
    "    # Load the corresponding class_file\n",
    "    load_name = os.path.join(path,i)\n",
    "    extracted_features = np.load(load_name)\n",
    "    \n",
    "    # for each data_point in the class\n",
    "    for j in extracted_features:\n",
    "        \n",
    "        # store it in the array\n",
    "        data_points.append(j)\n",
    "        # store the corresponding the class value\n",
    "        data_points_class.append(val)\n",
    "    \n",
    "    # The print is to show the corresponding class names and labels assigned to the class labels      \n",
    "    # Note the corresponding labels and class assigned \n",
    "    print(val,i)\n",
    "    val += 1\n",
    "\n",
    "\n",
    "# the stored data points are in a sequence which can affect the model performance\n",
    "# To randomlly shuffle the examples as to maintain the corresponding class label\n",
    "\n",
    "temp = list(zip(data_points,data_points_class))\n",
    "shuffle(temp)\n",
    "\n",
    "\n",
    "data_points,data_points_class = zip(*temp)\n",
    "data_points = np.asanyarray(data_points)\n",
    "data_points_class = np.asanyarray(data_points_class)\n",
    "# The final data_points in one array\n",
    "print(data_points.shape)"
   ]
  },
  {
   "cell_type": "code",
   "execution_count": 5,
   "metadata": {},
   "outputs": [],
   "source": [
    "dim_hidden_1 = 40\n",
    "dim_hidden_2 = 30\n",
    "pca_components = 10\n",
    "C = 0.01"
   ]
  },
  {
   "cell_type": "code",
   "execution_count": 6,
   "metadata": {},
   "outputs": [],
   "source": [
    "from sklearn.model_selection import train_test_split\n",
    "X_train, X_test, Y_train, Y_test = train_test_split(data_points, data_points_class,test_size = 0.2)"
   ]
  },
  {
   "cell_type": "code",
   "execution_count": 7,
   "metadata": {},
   "outputs": [
    {
     "ename": "ValueError",
     "evalue": "Found array with dim 4. Estimator expected <= 2.",
     "output_type": "error",
     "traceback": [
      "\u001b[0;31m---------------------------------------------------------------------------\u001b[0m",
      "\u001b[0;31mValueError\u001b[0m                                Traceback (most recent call last)",
      "\u001b[0;32m<ipython-input-7-099a44768def>\u001b[0m in \u001b[0;36m<module>\u001b[0;34m\u001b[0m\n\u001b[1;32m      2\u001b[0m \u001b[0;34m\u001b[0m\u001b[0m\n\u001b[1;32m      3\u001b[0m \u001b[0mpca1\u001b[0m \u001b[0;34m=\u001b[0m \u001b[0mdecomposition\u001b[0m\u001b[0;34m.\u001b[0m\u001b[0mPCA\u001b[0m\u001b[0;34m(\u001b[0m\u001b[0mn_components\u001b[0m \u001b[0;34m=\u001b[0m \u001b[0mpca_components\u001b[0m\u001b[0;34m)\u001b[0m\u001b[0;34m\u001b[0m\u001b[0;34m\u001b[0m\u001b[0m\n\u001b[0;32m----> 4\u001b[0;31m \u001b[0mpca1\u001b[0m\u001b[0;34m.\u001b[0m\u001b[0mfit\u001b[0m\u001b[0;34m(\u001b[0m\u001b[0mX_train\u001b[0m\u001b[0;34m)\u001b[0m\u001b[0;34m\u001b[0m\u001b[0;34m\u001b[0m\u001b[0m\n\u001b[0m\u001b[1;32m      5\u001b[0m \u001b[0mX_train\u001b[0m \u001b[0;34m=\u001b[0m \u001b[0mpca1\u001b[0m\u001b[0;34m.\u001b[0m\u001b[0mtransform\u001b[0m\u001b[0;34m(\u001b[0m\u001b[0mX_train\u001b[0m\u001b[0;34m)\u001b[0m\u001b[0;34m\u001b[0m\u001b[0;34m\u001b[0m\u001b[0m\n\u001b[1;32m      6\u001b[0m \u001b[0mprint\u001b[0m\u001b[0;34m(\u001b[0m\u001b[0mX_train\u001b[0m\u001b[0;34m.\u001b[0m\u001b[0mshape\u001b[0m\u001b[0;34m)\u001b[0m\u001b[0;34m\u001b[0m\u001b[0;34m\u001b[0m\u001b[0m\n",
      "\u001b[0;32m~/anaconda3/lib/python3.7/site-packages/sklearn/decomposition/pca.py\u001b[0m in \u001b[0;36mfit\u001b[0;34m(self, X, y)\u001b[0m\n\u001b[1;32m    339\u001b[0m             \u001b[0mReturns\u001b[0m \u001b[0mthe\u001b[0m \u001b[0minstance\u001b[0m \u001b[0mitself\u001b[0m\u001b[0;34m.\u001b[0m\u001b[0;34m\u001b[0m\u001b[0;34m\u001b[0m\u001b[0m\n\u001b[1;32m    340\u001b[0m         \"\"\"\n\u001b[0;32m--> 341\u001b[0;31m         \u001b[0mself\u001b[0m\u001b[0;34m.\u001b[0m\u001b[0m_fit\u001b[0m\u001b[0;34m(\u001b[0m\u001b[0mX\u001b[0m\u001b[0;34m)\u001b[0m\u001b[0;34m\u001b[0m\u001b[0;34m\u001b[0m\u001b[0m\n\u001b[0m\u001b[1;32m    342\u001b[0m         \u001b[0;32mreturn\u001b[0m \u001b[0mself\u001b[0m\u001b[0;34m\u001b[0m\u001b[0;34m\u001b[0m\u001b[0m\n\u001b[1;32m    343\u001b[0m \u001b[0;34m\u001b[0m\u001b[0m\n",
      "\u001b[0;32m~/anaconda3/lib/python3.7/site-packages/sklearn/decomposition/pca.py\u001b[0m in \u001b[0;36m_fit\u001b[0;34m(self, X)\u001b[0m\n\u001b[1;32m    380\u001b[0m \u001b[0;34m\u001b[0m\u001b[0m\n\u001b[1;32m    381\u001b[0m         X = check_array(X, dtype=[np.float64, np.float32], ensure_2d=True,\n\u001b[0;32m--> 382\u001b[0;31m                         copy=self.copy)\n\u001b[0m\u001b[1;32m    383\u001b[0m \u001b[0;34m\u001b[0m\u001b[0m\n\u001b[1;32m    384\u001b[0m         \u001b[0;31m# Handle n_components==None\u001b[0m\u001b[0;34m\u001b[0m\u001b[0;34m\u001b[0m\u001b[0;34m\u001b[0m\u001b[0m\n",
      "\u001b[0;32m~/anaconda3/lib/python3.7/site-packages/sklearn/utils/validation.py\u001b[0m in \u001b[0;36mcheck_array\u001b[0;34m(array, accept_sparse, accept_large_sparse, dtype, order, copy, force_all_finite, ensure_2d, allow_nd, ensure_min_samples, ensure_min_features, warn_on_dtype, estimator)\u001b[0m\n\u001b[1;32m    537\u001b[0m         \u001b[0;32mif\u001b[0m \u001b[0;32mnot\u001b[0m \u001b[0mallow_nd\u001b[0m \u001b[0;32mand\u001b[0m \u001b[0marray\u001b[0m\u001b[0;34m.\u001b[0m\u001b[0mndim\u001b[0m \u001b[0;34m>=\u001b[0m \u001b[0;36m3\u001b[0m\u001b[0;34m:\u001b[0m\u001b[0;34m\u001b[0m\u001b[0;34m\u001b[0m\u001b[0m\n\u001b[1;32m    538\u001b[0m             raise ValueError(\"Found array with dim %d. %s expected <= 2.\"\n\u001b[0;32m--> 539\u001b[0;31m                              % (array.ndim, estimator_name))\n\u001b[0m\u001b[1;32m    540\u001b[0m         \u001b[0;32mif\u001b[0m \u001b[0mforce_all_finite\u001b[0m\u001b[0;34m:\u001b[0m\u001b[0;34m\u001b[0m\u001b[0;34m\u001b[0m\u001b[0m\n\u001b[1;32m    541\u001b[0m             _assert_all_finite(array,\n",
      "\u001b[0;31mValueError\u001b[0m: Found array with dim 4. Estimator expected <= 2."
     ]
    }
   ],
   "source": [
    "from sklearn import decomposition\n",
    "\n",
    "pca1 = decomposition.PCA(n_components = pca_components)\n",
    "pca1.fit(X_train)\n",
    "X_train = pca1.transform(X_train)\n",
    "print(X_train.shape)\n",
    "\n",
    "pca2 = decomposition.PCA(n_components = pca_components)\n",
    "pca2.fit(X_test)\n",
    "X_test = pca2.transform(X_test)\n",
    "print(X_test.shape)"
   ]
  },
  {
   "cell_type": "code",
   "execution_count": 39,
   "metadata": {},
   "outputs": [
    {
     "name": "stdout",
     "output_type": "stream",
     "text": [
      "[[0. 1. 0. 0. 0.]\n",
      " [0. 0. 0. 1. 0.]\n",
      " [0. 0. 0. 0. 1.]\n",
      " ...\n",
      " [0. 0. 1. 0. 0.]\n",
      " [0. 0. 1. 0. 0.]\n",
      " [0. 0. 0. 0. 1.]]\n"
     ]
    }
   ],
   "source": [
    "ytrain = Y_train\n",
    "b = np.zeros((Y_train.size, Y_train.max()+1))\n",
    "b[np.arange(Y_train.size),Y_train] = 1\n",
    "Y_train=b\n",
    "print(Y_train)"
   ]
  },
  {
   "cell_type": "code",
   "execution_count": 40,
   "metadata": {},
   "outputs": [],
   "source": [
    "def relu(X):\n",
    "   return np.maximum(0,X)\n",
    "import math\n",
    "\n",
    "def sigmoid(x):\n",
    "  return 1/(1+np.exp(-x))"
   ]
  },
  {
   "cell_type": "code",
   "execution_count": 41,
   "metadata": {},
   "outputs": [],
   "source": [
    "def initparameters():\n",
    "  \n",
    " \n",
    "  \n",
    "    W1 = np.random.randn(dim_hidden_1,pca_components) * np.sqrt(2/pca_components)\n",
    "    b1 = np.zeros(shape=(dim_hidden_1, 1))\n",
    "    W2 = np.random.randn(dim_hidden_2, dim_hidden_1) * np.sqrt(2/dim_hidden_1)\n",
    "    b2 = np.zeros(shape=(dim_hidden_2, 1))\n",
    "    W3 = np.random.randn(5, dim_hidden_2) * np.sqrt(2/dim_hidden_2)\n",
    "    b3 = np.zeros(shape=(5, 1))\n",
    "    \n",
    "    parameters = {\"W1\": W1,\n",
    "                  \"b1\": b1,\n",
    "                  \"W2\": W2,\n",
    "                  \"b2\": b2,\n",
    "                  \"W3\": W3,\n",
    "                  \"b3\": b3}\n",
    "    \n",
    "    return parameters"
   ]
  },
  {
   "cell_type": "code",
   "execution_count": 42,
   "metadata": {},
   "outputs": [],
   "source": [
    "# GRADED FUNCTION: compute_cost\n",
    "\n",
    "def compute_cost(A3, Y, parameters):\n",
    "    \n",
    "    \n",
    "    m=1500\n",
    "    \n",
    "    logprobs = np.multiply(np.log(A3), Y) + np.multiply((1 - Y), np.log(1 - A3))\n",
    "    cost = - np.sum(logprobs) / m\n",
    "    cost = float(np.squeeze(cost))\n",
    "    \n",
    "    return cost"
   ]
  },
  {
   "cell_type": "code",
   "execution_count": 43,
   "metadata": {},
   "outputs": [],
   "source": [
    "def backward_propagation(parameters, cache, X, Y):\n",
    "   \n",
    "    m=1500\n",
    "   \n",
    "    W1 = parameters['W1']\n",
    "    W2 = parameters['W2']\n",
    "    W3 = parameters['W3']\n",
    "        \n",
    "    \n",
    "    A1 = cache['A1']\n",
    "    A2 = cache['A2']\n",
    "    A3 = cache['A3']\n",
    "    \n",
    "    \n",
    "    dZ3 = A3 - Y\n",
    "    dW3 = (1 / m) * np.dot(dZ3, A2.T)\n",
    "    db3 = (1 / m) * np.sum(dZ3, axis=1, keepdims=True)\n",
    "    dZ2 = np.multiply(np.dot(W3.T, dZ3), 1 - np.power(A2, 2))\n",
    "    dW2 = (1 / m) * np.dot(dZ2, A1.T)\n",
    "    db2 = (1 / m) * np.sum(dZ2, axis=1, keepdims=True)\n",
    "    dZ1 = np.multiply(np.dot(W2.T, dZ2), 1 - np.power(A1, 2))\n",
    "    dW1 = (1 / m) * np.dot(dZ1, X.T)\n",
    "    db1 = (1 / m) * np.sum(dZ1, axis=1, keepdims=True)\n",
    "    ### END CODE HERE ###\n",
    "    \n",
    "    grads = {\"dW1\": dW1,\n",
    "             \"db1\": db1,\n",
    "             \"dW2\": dW2,\n",
    "             \"db2\": db2,\n",
    "             \"dW3\": dW3,\n",
    "             \"db3\": db3\n",
    "            }\n",
    "    \n",
    "    return grads"
   ]
  },
  {
   "cell_type": "code",
   "execution_count": 44,
   "metadata": {},
   "outputs": [],
   "source": [
    "\n",
    "def update_parameters(parameters, grads, learning_rate = 0.8):\n",
    "    \n",
    "    \n",
    "    W1 = parameters['W1']\n",
    "    b1 = parameters['b1']\n",
    "    W2 = parameters['W2']\n",
    "    b2 = parameters['b2']\n",
    "    W3 = parameters['W3']\n",
    "    b3 = parameters['b3']\n",
    "    ### END CODE HERE ###\n",
    "    \n",
    "    # Retrieve each gradient from the dictionary \"grads\"\n",
    "    ### START CODE HERE ### (≈ 4 lines of code)\n",
    "    dW1 = grads['dW1']\n",
    "    db1 = grads['db1']\n",
    "    dW2 = grads['dW2']\n",
    "    db2 = grads['db2']\n",
    "    dW3 = grads['dW3']\n",
    "    db3 = grads['db3']\n",
    "    ## END CODE HERE ###\n",
    "    \n",
    "    # Update rule for each parameter\n",
    "    ### START CODE HERE ### (≈ 4 lines of code)\n",
    "    W1 = W1 - learning_rate * dW1\n",
    "    b1 = b1 - learning_rate * db1\n",
    "    W2 = W2 - learning_rate * dW2\n",
    "    b2 = b2 - learning_rate * db2\n",
    "    W3 = W3 - learning_rate * dW3\n",
    "    b3 = b3 - learning_rate * db3\n",
    "    ### END CODE HERE ###\n",
    "    \n",
    "    parameters = {\"W1\": W1,\n",
    "                  \"b1\": b1,\n",
    "                  \"W2\": W2,\n",
    "                  \"b2\": b2,\n",
    "                  \"W3\": W3,\n",
    "                  \"b3\": b3\n",
    "                 }\n",
    "    \n",
    "    return parameters"
   ]
  },
  {
   "cell_type": "code",
   "execution_count": 45,
   "metadata": {},
   "outputs": [],
   "source": [
    "\n",
    "def update_parameters_momentum(parameters, velocity, learning_rate = 0.8):\n",
    "    \n",
    "    \n",
    "    W1 = parameters['W1']\n",
    "    b1 = parameters['b1']\n",
    "    W2 = parameters['W2']\n",
    "    b2 = parameters['b2']\n",
    "    W3 = parameters['W3']\n",
    "    b3 = parameters['b3']\n",
    "    ### END CODE HERE ###\n",
    "    \n",
    "    # Retrieve each gradient from the dictionary \"grads\"\n",
    "    ### START CODE HERE ### (≈ 4 lines of code)\n",
    "    dW1 = velocity['vW1']\n",
    "    db1 = velocity['vb1']\n",
    "    dW2 = velocity['vW2']\n",
    "    db2 = velocity['vb2']\n",
    "    dW3 = velocity['vW3']\n",
    "    db3 = velocity['vb3']\n",
    "    ## END CODE HERE ###\n",
    "    \n",
    "    # Update rule for each parameter\n",
    "    ### START CODE HERE ### (≈ 4 lines of code)\n",
    "    W1 = W1 - learning_rate * dW1\n",
    "    b1 = b1 - learning_rate * db1\n",
    "    W2 = W2 - learning_rate * dW2\n",
    "    b2 = b2 - learning_rate * db2\n",
    "    W3 = W3 - learning_rate * dW3\n",
    "    b3 = b3 - learning_rate * db3\n",
    "    ### END CODE HERE ###\n",
    "    \n",
    "    parameters = {\"W1\": W1,\n",
    "                  \"b1\": b1,\n",
    "                  \"W2\": W2,\n",
    "                  \"b2\": b2,\n",
    "                  \"W3\": W3,\n",
    "                  \"b3\": b3\n",
    "                 }\n",
    "    \n",
    "    return parameters"
   ]
  },
  {
   "cell_type": "code",
   "execution_count": 46,
   "metadata": {},
   "outputs": [],
   "source": [
    "\n",
    "def update_parameters_adam(parameters, v_corrected, s_corrected,E = 1e-8, learning_rate = 0.8):\n",
    "    \n",
    "    \n",
    "    W1 = parameters['W1']\n",
    "    b1 = parameters['b1']\n",
    "    W2 = parameters['W2']\n",
    "    b2 = parameters['b2']\n",
    "    W3 = parameters['W3']\n",
    "    b3 = parameters['b3']\n",
    "    ### END CODE HERE ###\n",
    "    \n",
    "    # Retrieve each gradient from the dictionary \"grads\"\n",
    "    ### START CODE HERE ### (≈ 4 lines of code)\n",
    "    dW1 = v_corrected['vW1'] / np.sqrt(s_corrected['vW1'] + E)\n",
    "    db1 = v_corrected['vb1'] / np.sqrt(s_corrected['vb1'] + E)\n",
    "    dW2 = v_corrected['vW2'] / np.sqrt(s_corrected['vW2'] + E)\n",
    "    db2 = v_corrected['vb2'] / np.sqrt(s_corrected['vb2'] + E)\n",
    "    dW3 = v_corrected['vW3'] / np.sqrt(s_corrected['vW3'] + E)\n",
    "    db3 = v_corrected['vb3'] / np.sqrt(s_corrected['vb3'] + E)\n",
    "    ## END CODE HERE ###\n",
    "    \n",
    "    \n",
    "    # Update rule for each parameter\n",
    "    ### START CODE HERE ### (≈ 4 lines of code)\n",
    "    W1 = W1 - learning_rate * dW1\n",
    "    b1 = b1 - learning_rate * db1\n",
    "    W2 = W2 - learning_rate * dW2\n",
    "    b2 = b2 - learning_rate * db2\n",
    "    W3 = W3 - learning_rate * dW3\n",
    "    b3 = b3 - learning_rate * db3\n",
    "    ### END CODE HERE ###\n",
    "    \n",
    "    parameters = {\"W1\": W1,\n",
    "                  \"b1\": b1,\n",
    "                  \"W2\": W2,\n",
    "                  \"b2\": b2,\n",
    "                  \"W3\": W3,\n",
    "                  \"b3\": b3\n",
    "                 }\n",
    "    \n",
    "    return parameters"
   ]
  },
  {
   "cell_type": "code",
   "execution_count": 47,
   "metadata": {},
   "outputs": [],
   "source": [
    "def forward_propagation(X, parameters):\n",
    "    \n",
    "    W1 = parameters['W1']\n",
    "    b1 = parameters['b1']\n",
    "    W2 = parameters['W2']\n",
    "    b2 = parameters['b2']\n",
    "    W3 = parameters['W3']\n",
    "    b3 = parameters['b3']\n",
    "   \n",
    "    \n",
    "    \n",
    "    Z1 = np.dot(W1, X) + b1\n",
    "    A1 = np.tanh(Z1)\n",
    "    \n",
    "    Z2 = np.dot(W2, A1) + b2\n",
    "    A2 = np.tanh(Z2)\n",
    "    \n",
    "    Z3 = np.dot(W3, A2) + b3\n",
    "    A3 = sigmoid(Z3)\n",
    "    \n",
    "   \n",
    "    \n",
    "    cache = {\"Z1\": Z1,\n",
    "             \"A1\": A1,\n",
    "             \"Z2\": Z2,\n",
    "             \"A2\": A2,\n",
    "             \"A3\": A3,\n",
    "             \"Z3 \":Z3}\n",
    "    \n",
    "    return A3, cache\n"
   ]
  },
  {
   "cell_type": "code",
   "execution_count": 48,
   "metadata": {},
   "outputs": [],
   "source": [
    "\n",
    "\n",
    "# GRADED FUNCTION: nn_model\n",
    "\n",
    "def nn_model(X, Y, parameters, learning_rate, num_iterations = 30000, print_cost=False,optmethod = 0,beta = 0.9, gamma = 0.99):\n",
    "    \n",
    "    # Loop (gradient descent)\n",
    "    costs=[]\n",
    "    velocity = {\"vW1\": np.zeros_like(parameters['W1']),\n",
    "             \"vb1\": np.zeros_like(parameters['b1']),\n",
    "             \"vW2\": np.zeros_like(parameters['W2']),\n",
    "             \"vb2\": np.zeros_like(parameters['b2']),\n",
    "             \"vW3\": np.zeros_like(parameters['W3']),\n",
    "             \"vb3\": np.zeros_like(parameters['b3'])\n",
    "            }\n",
    "    \n",
    "    rms_prop = {\"vW1\": np.zeros_like(parameters['W1']),\n",
    "             \"vb1\": np.zeros_like(parameters['b1']),\n",
    "             \"vW2\": np.zeros_like(parameters['W2']),\n",
    "             \"vb2\": np.zeros_like(parameters['b2']),\n",
    "             \"vW3\": np.zeros_like(parameters['W3']),\n",
    "             \"vb3\": np.zeros_like(parameters['b3'])\n",
    "            }\n",
    "    \n",
    "    t = 0\n",
    "    \n",
    "    for i in range(0, num_iterations):\n",
    "         \n",
    "        \n",
    "        # Forward propagation. Inputs: \"X, parameters\". Outputs: \"A2, cache\".\n",
    "        A3,cache = forward_propagation(X, parameters)\n",
    "        \n",
    "        # Cost function. Inputs: \"A2, Y, parameters\". Outputs: \"cost\".\n",
    "        cost = compute_cost(A3,Y,parameters)\n",
    "        if i % 100 == 0:\n",
    "            costs.append(cost)\n",
    "\n",
    "        # Backpropagation. Inputs: \"parameters, cache, X, Y\". Outputs: \"grads\".\n",
    "        grads = backward_propagation(parameters, cache, X, Y)\n",
    " \n",
    "        #print(\"GRADS : \",grads)\n",
    "        \n",
    "        # Gradient descent parameter update. Inputs: \"parameters, grads\". Outputs: \"parameters\".\n",
    "        if(optmethod == 0):\n",
    "            parameters = update_parameters(parameters, grads,learning_rate)\n",
    "       \n",
    "        else:\n",
    "            velocity['vW1'] = beta * velocity['vW1'] + (1 - beta) * grads['dW1']\n",
    "            velocity['vb1'] = beta * velocity['vb1'] + (1 - beta) * grads['db1']\n",
    "            velocity['vW2'] = beta * velocity['vW2'] + (1 - beta) * grads['dW2']\n",
    "            velocity['vb2'] = beta * velocity['vb2'] + (1 - beta) * grads['db2']\n",
    "            velocity['vW3'] = beta * velocity['vW3'] + (1 - beta) * grads['dW3']\n",
    "            velocity['vb3'] = beta * velocity['vb3'] + (1 - beta) * grads['db3']\n",
    "            \n",
    "            if(optmethod == 1):\n",
    "                parameters = update_parameters_momentum(parameters, velocity , learning_rate)\n",
    "            else:\n",
    "                rms_prop['vW1'] = gamma * rms_prop['vW1'] + (1 - gamma) * np.power(grads['dW1'],2)\n",
    "                rms_prop['vb1'] = gamma * rms_prop['vb1'] + (1 - gamma) * np.power(grads['db1'],2)\n",
    "                rms_prop['vW2'] = gamma * rms_prop['vW2'] + (1 - gamma) * np.power(grads['dW2'],2)\n",
    "                rms_prop['vb2'] = gamma * rms_prop['vb2'] + (1 - gamma) * np.power(grads['db2'],2)\n",
    "                rms_prop['vW3'] = gamma * rms_prop['vW3'] + (1 - gamma) * np.power(grads['dW3'],2)\n",
    "                rms_prop['vb3'] = gamma * rms_prop['vb3'] + (1 - gamma) * np.power(grads['db3'],2)\n",
    "                \n",
    "                E = 1e-08\n",
    "                \n",
    "                v_correct = {\"vW1\": np.zeros_like(parameters['W1']),\n",
    "                \"vb1\": np.zeros_like(parameters['b1']),\n",
    "                \"vW2\": np.zeros_like(parameters['W2']),\n",
    "                \"vb2\": np.zeros_like(parameters['b2']),\n",
    "                \"vW3\": np.zeros_like(parameters['W3']),\n",
    "                \"vb3\": np.zeros_like(parameters['b3'])\n",
    "                }\n",
    "                \n",
    "                s_correct = {\"vW1\": np.zeros_like(parameters['W1']),\n",
    "                \"vb1\": np.zeros_like(parameters['b1']),\n",
    "                \"vW2\": np.zeros_like(parameters['W2']),\n",
    "                \"vb2\": np.zeros_like(parameters['b2']),\n",
    "                \"vW3\": np.zeros_like(parameters['W3']),\n",
    "                \"vb3\": np.zeros_like(parameters['b3'])\n",
    "                }\n",
    "                \n",
    "                t = t + 1\n",
    "                \n",
    "                v_correct['vW1'] = velocity['vW1']/(1 - np.power(beta,t))\n",
    "                v_correct['vb1'] = velocity['vb1']/(1 - np.power(beta,t))\n",
    "                v_correct['vW2'] = velocity['vW2']/(1 - np.power(beta,t))\n",
    "                v_correct['vb2'] = velocity['vb2']/(1 - np.power(beta,t))\n",
    "                v_correct['vW3'] = velocity['vW3']/(1 - np.power(beta,t))\n",
    "                v_correct['vb3'] = velocity['vb3']/(1 - np.power(beta,t))\n",
    "            \n",
    "                s_correct['vW1'] = rms_prop['vW1']/(1 - np.power(gamma,t))\n",
    "                s_correct['vb1'] = rms_prop['vb1']/(1 - np.power(gamma,t))\n",
    "                s_correct['vW2'] = rms_prop['vW2']/(1 - np.power(gamma,t))\n",
    "                s_correct['vb2'] = rms_prop['vb2']/(1 - np.power(gamma,t))\n",
    "                s_correct['vW3'] = rms_prop['vW3']/(1 - np.power(gamma,t))\n",
    "                s_correct['vb3'] = rms_prop['vb3']/(1 - np.power(gamma,t))\n",
    "                \n",
    "                parameters = update_parameters_adam(parameters, v_correct, s_correct,E = 1e-8, learning_rate = learning_rate)\n",
    "            \n",
    "                \n",
    "        if(i%1000==0):\n",
    "            print(\"cost \",cost)\n",
    "        ### END CODE HERE ###\n",
    "        \n",
    "        if(cost < 0.3):\n",
    "            break\n",
    "        \n",
    "        # Print the cost every 1000 iterations\n",
    "        \n",
    "            \n",
    "    return parameters,costs"
   ]
  },
  {
   "cell_type": "code",
   "execution_count": 49,
   "metadata": {},
   "outputs": [],
   "source": [
    "def predict(parameters, X):\n",
    "    \"\"\"\n",
    "    Using the learned parameters, predicts a class for each example in X\n",
    "    \n",
    "    Arguments:\n",
    "    parameters -- python dictionary containing your parameters \n",
    "    X -- input data of size (n_x, m)\n",
    "    \n",
    "    Returns\n",
    "    predictions -- vector of predictions of our model (red: 0 / blue: 1)\n",
    "    \"\"\"\n",
    "    \n",
    "    # Computes probabilities using forward propagation, and classifies to 0/1 using 0.5 as the threshold.\n",
    "    ### START CODE HERE ### (≈ 2 lines of code)\n",
    "    \n",
    "    A2, cache = forward_propagation(X, parameters)\n",
    "    predictions = np.argmax(A2,axis=0)\n",
    "    ### END CODE HERE ###\n",
    "    \n",
    "    return predictions\n"
   ]
  },
  {
   "cell_type": "code",
   "execution_count": 50,
   "metadata": {},
   "outputs": [],
   "source": [
    "params = initparameters()"
   ]
  },
  {
   "cell_type": "code",
   "execution_count": 51,
   "metadata": {},
   "outputs": [
    {
     "name": "stdout",
     "output_type": "stream",
     "text": [
      "cost  2.7863550926175553\n",
      "cost  0.4419913909965612\n"
     ]
    }
   ],
   "source": [
    "lr = 0.01\n",
    "parameters,costs = nn_model(X_train.T, Y_train.T, params, lr,  num_iterations = 30000, print_cost=True,optmethod = 2)"
   ]
  },
  {
   "cell_type": "code",
   "execution_count": 52,
   "metadata": {},
   "outputs": [
    {
     "data": {
      "image/png": "[encoded data removed]",
      "text/plain": [
       "<Figure size 432x288 with 1 Axes>"
      ]
     },
     "metadata": {
      "needs_background": "light"
     },
     "output_type": "display_data"
    }
   ],
   "source": [
    "plt.plot(costs)\n",
    "plt.ylabel('cost')\n",
    "plt.xlabel('iterations (per hundreds)')\n",
    "\n",
    "plt.show()\n"
   ]
  },
  {
   "cell_type": "code",
   "execution_count": 53,
   "metadata": {},
   "outputs": [],
   "source": [
    "pred=predict(parameters, X_train.T)\n",
    "pred2=predict(parameters, X_test.T)"
   ]
  },
  {
   "cell_type": "code",
   "execution_count": 54,
   "metadata": {},
   "outputs": [
    {
     "name": "stdout",
     "output_type": "stream",
     "text": [
      "train accuracy = 0.9708333333333333\n",
      "test accuracy = 0.23\n"
     ]
    }
   ],
   "source": [
    "count=0\n",
    "i=0\n",
    "while i<1200:\n",
    "    if(pred[i]==ytrain[i]):\n",
    "        count=count+1\n",
    "    i=i+1\n",
    "print(\"train accuracy =\",count/1200)\n",
    "\n",
    "count=0\n",
    "i=0\n",
    "while i<300:\n",
    "    if(pred2[i]==Y_test[i]):\n",
    "        count=count+1\n",
    "    i=i+1\n",
    "print(\"test accuracy =\",count/300)"
   ]
  },
  {
   "cell_type": "code",
   "execution_count": 55,
   "metadata": {},
   "outputs": [
    {
     "name": "stdout",
     "output_type": "stream",
     "text": [
      "cost  2.7863550926175553\n",
      "cost  1.990823338914957\n",
      "cost  1.9838288939214364\n",
      "cost  1.9784904238717924\n",
      "cost  1.9740885988876058\n",
      "cost  1.970493832796621\n",
      "cost  1.967630309776208\n",
      "cost  1.9653899610919832\n",
      "cost  1.9636448670122582\n"
     ]
    },
    {
     "ename": "KeyboardInterrupt",
     "evalue": "",
     "output_type": "error",
     "traceback": [
      "\u001b[0;31m---------------------------------------------------------------------------\u001b[0m",
      "\u001b[0;31mKeyboardInterrupt\u001b[0m                         Traceback (most recent call last)",
      "\u001b[0;32m<ipython-input-55-f3db4d4561fc>\u001b[0m in \u001b[0;36m<module>\u001b[0;34m\u001b[0m\n\u001b[1;32m      1\u001b[0m \u001b[0mlr\u001b[0m \u001b[0;34m=\u001b[0m \u001b[0;36m0.01\u001b[0m\u001b[0;34m\u001b[0m\u001b[0;34m\u001b[0m\u001b[0m\n\u001b[0;32m----> 2\u001b[0;31m \u001b[0mparameters\u001b[0m\u001b[0;34m,\u001b[0m\u001b[0mcosts\u001b[0m \u001b[0;34m=\u001b[0m \u001b[0mnn_model\u001b[0m\u001b[0;34m(\u001b[0m\u001b[0mX_train\u001b[0m\u001b[0;34m.\u001b[0m\u001b[0mT\u001b[0m\u001b[0;34m,\u001b[0m \u001b[0mY_train\u001b[0m\u001b[0;34m.\u001b[0m\u001b[0mT\u001b[0m\u001b[0;34m,\u001b[0m \u001b[0mparams\u001b[0m\u001b[0;34m,\u001b[0m \u001b[0mlr\u001b[0m\u001b[0;34m,\u001b[0m  \u001b[0mnum_iterations\u001b[0m \u001b[0;34m=\u001b[0m \u001b[0;36m30000\u001b[0m\u001b[0;34m,\u001b[0m \u001b[0mprint_cost\u001b[0m\u001b[0;34m=\u001b[0m\u001b[0;32mTrue\u001b[0m\u001b[0;34m,\u001b[0m \u001b[0moptmethod\u001b[0m \u001b[0;34m=\u001b[0m \u001b[0;36m1\u001b[0m\u001b[0;34m,\u001b[0m \u001b[0mbeta\u001b[0m \u001b[0;34m=\u001b[0m \u001b[0;36m0.9\u001b[0m\u001b[0;34m)\u001b[0m\u001b[0;34m\u001b[0m\u001b[0;34m\u001b[0m\u001b[0m\n\u001b[0m",
      "\u001b[0;32m<ipython-input-48-88b24eeb7dba>\u001b[0m in \u001b[0;36mnn_model\u001b[0;34m(X, Y, parameters, learning_rate, num_iterations, print_cost, optmethod, beta, gamma)\u001b[0m\n\u001b[1;32m     35\u001b[0m \u001b[0;34m\u001b[0m\u001b[0m\n\u001b[1;32m     36\u001b[0m         \u001b[0;31m# Backpropagation. Inputs: \"parameters, cache, X, Y\". Outputs: \"grads\".\u001b[0m\u001b[0;34m\u001b[0m\u001b[0;34m\u001b[0m\u001b[0;34m\u001b[0m\u001b[0m\n\u001b[0;32m---> 37\u001b[0;31m         \u001b[0mgrads\u001b[0m \u001b[0;34m=\u001b[0m \u001b[0mbackward_propagation\u001b[0m\u001b[0;34m(\u001b[0m\u001b[0mparameters\u001b[0m\u001b[0;34m,\u001b[0m \u001b[0mcache\u001b[0m\u001b[0;34m,\u001b[0m \u001b[0mX\u001b[0m\u001b[0;34m,\u001b[0m \u001b[0mY\u001b[0m\u001b[0;34m)\u001b[0m\u001b[0;34m\u001b[0m\u001b[0;34m\u001b[0m\u001b[0m\n\u001b[0m\u001b[1;32m     38\u001b[0m \u001b[0;34m\u001b[0m\u001b[0m\n\u001b[1;32m     39\u001b[0m         \u001b[0;31m#print(\"GRADS : \",grads)\u001b[0m\u001b[0;34m\u001b[0m\u001b[0;34m\u001b[0m\u001b[0;34m\u001b[0m\u001b[0m\n",
      "\u001b[0;32m<ipython-input-43-fe8f5de84ce7>\u001b[0m in \u001b[0;36mbackward_propagation\u001b[0;34m(parameters, cache, X, Y)\u001b[0m\n\u001b[1;32m     16\u001b[0m     \u001b[0mdW3\u001b[0m \u001b[0;34m=\u001b[0m \u001b[0;34m(\u001b[0m\u001b[0;36m1\u001b[0m \u001b[0;34m/\u001b[0m \u001b[0mm\u001b[0m\u001b[0;34m)\u001b[0m \u001b[0;34m*\u001b[0m \u001b[0mnp\u001b[0m\u001b[0;34m.\u001b[0m\u001b[0mdot\u001b[0m\u001b[0;34m(\u001b[0m\u001b[0mdZ3\u001b[0m\u001b[0;34m,\u001b[0m \u001b[0mA2\u001b[0m\u001b[0;34m.\u001b[0m\u001b[0mT\u001b[0m\u001b[0;34m)\u001b[0m\u001b[0;34m\u001b[0m\u001b[0;34m\u001b[0m\u001b[0m\n\u001b[1;32m     17\u001b[0m     \u001b[0mdb3\u001b[0m \u001b[0;34m=\u001b[0m \u001b[0;34m(\u001b[0m\u001b[0;36m1\u001b[0m \u001b[0;34m/\u001b[0m \u001b[0mm\u001b[0m\u001b[0;34m)\u001b[0m \u001b[0;34m*\u001b[0m \u001b[0mnp\u001b[0m\u001b[0;34m.\u001b[0m\u001b[0msum\u001b[0m\u001b[0;34m(\u001b[0m\u001b[0mdZ3\u001b[0m\u001b[0;34m,\u001b[0m \u001b[0maxis\u001b[0m\u001b[0;34m=\u001b[0m\u001b[0;36m1\u001b[0m\u001b[0;34m,\u001b[0m \u001b[0mkeepdims\u001b[0m\u001b[0;34m=\u001b[0m\u001b[0;32mTrue\u001b[0m\u001b[0;34m)\u001b[0m\u001b[0;34m\u001b[0m\u001b[0;34m\u001b[0m\u001b[0m\n\u001b[0;32m---> 18\u001b[0;31m     \u001b[0mdZ2\u001b[0m \u001b[0;34m=\u001b[0m \u001b[0mnp\u001b[0m\u001b[0;34m.\u001b[0m\u001b[0mmultiply\u001b[0m\u001b[0;34m(\u001b[0m\u001b[0mnp\u001b[0m\u001b[0;34m.\u001b[0m\u001b[0mdot\u001b[0m\u001b[0;34m(\u001b[0m\u001b[0mW3\u001b[0m\u001b[0;34m.\u001b[0m\u001b[0mT\u001b[0m\u001b[0;34m,\u001b[0m \u001b[0mdZ3\u001b[0m\u001b[0;34m)\u001b[0m\u001b[0;34m,\u001b[0m \u001b[0;36m1\u001b[0m \u001b[0;34m-\u001b[0m \u001b[0mnp\u001b[0m\u001b[0;34m.\u001b[0m\u001b[0mpower\u001b[0m\u001b[0;34m(\u001b[0m\u001b[0mA2\u001b[0m\u001b[0;34m,\u001b[0m \u001b[0;36m2\u001b[0m\u001b[0;34m)\u001b[0m\u001b[0;34m)\u001b[0m\u001b[0;34m\u001b[0m\u001b[0;34m\u001b[0m\u001b[0m\n\u001b[0m\u001b[1;32m     19\u001b[0m     \u001b[0mdW2\u001b[0m \u001b[0;34m=\u001b[0m \u001b[0;34m(\u001b[0m\u001b[0;36m1\u001b[0m \u001b[0;34m/\u001b[0m \u001b[0mm\u001b[0m\u001b[0;34m)\u001b[0m \u001b[0;34m*\u001b[0m \u001b[0mnp\u001b[0m\u001b[0;34m.\u001b[0m\u001b[0mdot\u001b[0m\u001b[0;34m(\u001b[0m\u001b[0mdZ2\u001b[0m\u001b[0;34m,\u001b[0m \u001b[0mA1\u001b[0m\u001b[0;34m.\u001b[0m\u001b[0mT\u001b[0m\u001b[0;34m)\u001b[0m\u001b[0;34m\u001b[0m\u001b[0;34m\u001b[0m\u001b[0m\n\u001b[1;32m     20\u001b[0m     \u001b[0mdb2\u001b[0m \u001b[0;34m=\u001b[0m \u001b[0;34m(\u001b[0m\u001b[0;36m1\u001b[0m \u001b[0;34m/\u001b[0m \u001b[0mm\u001b[0m\u001b[0;34m)\u001b[0m \u001b[0;34m*\u001b[0m \u001b[0mnp\u001b[0m\u001b[0;34m.\u001b[0m\u001b[0msum\u001b[0m\u001b[0;34m(\u001b[0m\u001b[0mdZ2\u001b[0m\u001b[0;34m,\u001b[0m \u001b[0maxis\u001b[0m\u001b[0;34m=\u001b[0m\u001b[0;36m1\u001b[0m\u001b[0;34m,\u001b[0m \u001b[0mkeepdims\u001b[0m\u001b[0;34m=\u001b[0m\u001b[0;32mTrue\u001b[0m\u001b[0;34m)\u001b[0m\u001b[0;34m\u001b[0m\u001b[0;34m\u001b[0m\u001b[0m\n",
      "\u001b[0;31mKeyboardInterrupt\u001b[0m: "
     ]
    }
   ],
   "source": [
    "lr = 0.01\n",
    "parameters,costs = nn_model(X_train.T, Y_train.T, params, lr,  num_iterations = 30000, print_cost=True, optmethod = 1, beta = 0.9)"
   ]
  },
  {
   "cell_type": "code",
   "execution_count": null,
   "metadata": {},
   "outputs": [],
   "source": [
    "plt.plot(costs)\n",
    "plt.ylabel('cost')\n",
    "plt.xlabel('iterations (per hundreds)')\n",
    "\n",
    "plt.show()\n"
   ]
  },
  {
   "cell_type": "code",
   "execution_count": null,
   "metadata": {},
   "outputs": [],
   "source": [
    "pred=predict(parameters, X_train.T)\n",
    "pred2=predict(parameters, X_test.T)"
   ]
  },
  {
   "cell_type": "code",
   "execution_count": null,
   "metadata": {},
   "outputs": [],
   "source": [
    "count=0\n",
    "i=0\n",
    "while i<1200:\n",
    "    if(pred[i]==ytrain[i]):\n",
    "        count=count+1\n",
    "    i=i+1\n",
    "print(\"train accuracy =\",count/1200)\n",
    "\n",
    "count=0\n",
    "i=0\n",
    "while i<300:\n",
    "    if(pred2[i]==Y_test[i]):\n",
    "        count=count+1\n",
    "    i=i+1\n",
    "print(\"test accuracy =\",count/300)"
   ]
  },
  {
   "cell_type": "code",
   "execution_count": null,
   "metadata": {},
   "outputs": [],
   "source": [
    "lr = 0.01\n",
    "parameters,costs = nn_model(X_train.T, Y_train.T, params, lr,  num_iterations = 30000, print_cost=True)"
   ]
  },
  {
   "cell_type": "code",
   "execution_count": null,
   "metadata": {},
   "outputs": [],
   "source": [
    "plt.plot(costs)\n",
    "plt.ylabel('cost')\n",
    "plt.xlabel('iterations (per hundreds)')\n",
    "\n",
    "plt.show()\n"
   ]
  },
  {
   "cell_type": "code",
   "execution_count": null,
   "metadata": {},
   "outputs": [],
   "source": [
    "pred=predict(parameters, X_train.T)\n",
    "pred2=predict(parameters, X_test.T)"
   ]
  },
  {
   "cell_type": "code",
   "execution_count": null,
   "metadata": {},
   "outputs": [],
   "source": [
    "count=0\n",
    "i=0\n",
    "while i<1200:\n",
    "    if(pred[i]==ytrain[i]):\n",
    "        count=count+1\n",
    "    i=i+1\n",
    "print(\"train accuracy =\",count/1200)\n",
    "\n",
    "count=0\n",
    "i=0\n",
    "while i<300:\n",
    "    if(pred2[i]==Y_test[i]):\n",
    "        count=count+1\n",
    "    i=i+1\n",
    "print(\"test accuracy =\",count/300)"
   ]
  }
 ],
 "metadata": {
  "kernelspec": {
   "display_name": "Python 3",
   "language": "python",
   "name": "python3"
  },
  "language_info": {
   "codemirror_mode": {
    "name": "ipython",
    "version": 3
   },
   "file_extension": ".py",
   "mimetype": "text/x-python",
   "name": "python",
   "nbconvert_exporter": "python",
   "pygments_lexer": "ipython3",
   "version": "3.7.4"
  }
 },
 "nbformat": 4,
 "nbformat_minor": 4
}
