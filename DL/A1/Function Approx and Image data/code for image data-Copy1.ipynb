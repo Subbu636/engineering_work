{
 "cells": [
  {
   "cell_type": "code",
   "execution_count": 8,
   "metadata": {},
   "outputs": [],
   "source": [
    "import os\n",
    "import numpy as np\n",
    "import torch\n",
    "import torch.nn as nn\n",
    "import torch.nn.functional as F\n",
    "import torchvision \n",
    "import torchvision.transforms as transforms\n",
    "import torchvision.models as models\n",
    "\n",
    "\n"
   ]
  },
  {
   "cell_type": "code",
   "execution_count": null,
   "metadata": {},
   "outputs": [],
   "source": []
  },
  {
   "cell_type": "code",
   "execution_count": 9,
   "metadata": {},
   "outputs": [
    {
     "data": {
      "text/plain": [
       "['plane.npy', 'ship.npy', 'truck.npy', 'bird.npy', 'horse.npy']"
      ]
     },
     "execution_count": 9,
     "metadata": {},
     "output_type": "execute_result"
    }
   ],
   "source": [
    "# loading the pretrained model of Vgg_16 which uses batch_normalization\n",
    "net = models.vgg16_bn(pretrained=True)\n",
    "\n",
    "# set the load_path for all image file\n",
    "load_path = './images/'\n",
    "\n",
    "# set the save_path for the extracted features file for all the classes\n",
    "save_path = './Feature_extraction_2D/'\n",
    "#os.mkdir(save_path)\n",
    "os.makedirs(save_path, exist_ok=True)\n",
    "\n",
    "# will get the names of the files present in the load path\n",
    "# The training data\n",
    "get_class_names = os.listdir(load_path)\n",
    "\n",
    "# for each class file\n",
    "get_class_names"
   ]
  },
  {
   "cell_type": "code",
   "execution_count": 11,
   "metadata": {},
   "outputs": [
    {
     "name": "stdout",
     "output_type": "stream",
     "text": [
      "(300, 512)\n",
      "(300, 512)\n",
      "(300, 512)\n",
      "(300, 512)\n",
      "(300, 512)\n"
     ]
    }
   ],
   "source": [
    "for i in get_class_names:\n",
    "    # To save the file with the same name for the extracted features\n",
    "    new_save_path = save_path + i\n",
    "    \n",
    "    # To load the class file\n",
    "    class_path = load_path + i\n",
    "\n",
    "    # to load the numpy file\n",
    "    img = np.load(class_path)\n",
    "\n",
    "    # To append the extracted features\n",
    "    arr = []\n",
    "\n",
    "    # for each image in the class file\n",
    "    for j in img:   \n",
    "\n",
    "        # converting the numpy array to tensor\n",
    "        j = torch.tensor(j)\n",
    "        \n",
    "        # reshaping the image to [batch_size,number_of_channel,height,width]\n",
    "        j = j.view([-1,3,32,32])\n",
    "        \n",
    "        # rescaling the image to [1,3,224,224]\n",
    "        # vgg_net the required input is of size 224*224 and single image so batch size 1 \n",
    "        j = F.interpolate(j,(224,224))\n",
    "        \n",
    "        # Extracting the features from the middle layer of the network\n",
    "        z = net.features(j)\n",
    "        \n",
    "        # Features extracted are of size [1,512,7,7]\n",
    "        # Taking the average pooling for each channel\n",
    "        m = F.avg_pool2d(z,(7,7),1,0)\n",
    "        \n",
    "        # Now the features are of size [1,512,1,1]\n",
    "        #reshaping the features to [512] \n",
    "        m = m.view([-1]).detach()\n",
    "        \n",
    "        # converting it back to numpy array\n",
    "        m = np.asarray(m)\n",
    "\n",
    "        # appending to the arr\n",
    "        arr.append(m)\n",
    "\n",
    "    arr = np.asarray(arr)\n",
    "    print(arr.shape)\n",
    "\n",
    "    # To save the numpy array  \n",
    "    np.save(new_save_path,arr)"
   ]
  },
  {
   "cell_type": "code",
   "execution_count": 12,
   "metadata": {},
   "outputs": [
    {
     "name": "stdout",
     "output_type": "stream",
     "text": [
      "['plane.npy', 'ship.npy', 'truck.npy', 'bird.npy', 'horse.npy']\n",
      "0 plane.npy\n",
      "1 ship.npy\n",
      "2 truck.npy\n",
      "3 bird.npy\n",
      "4 horse.npy\n",
      "(1500, 512)\n"
     ]
    }
   ],
   "source": [
    "import os\n",
    "import numpy as np\n",
    "import matplotlib.pyplot as plt\n",
    "from random import shuffle\n",
    "\n",
    "\n",
    "# To set the load path for the extracted 2d features\n",
    "# Change it to your team number\n",
    "path = './Feature_extraction_2D/'\n",
    "class_names = os.listdir(path)\n",
    "\n",
    "print(class_names)\n",
    "\n",
    "# val is to assign different labels to each class\n",
    "val = 0\n",
    "# To store all the data_points\n",
    "data_points = []\n",
    "# To store all the corresponding class values\n",
    "data_points_class = []\n",
    "\n",
    "# for each class\n",
    "for i in class_names:\n",
    "    \n",
    "    # Load the corresponding class_file\n",
    "    load_name = os.path.join(path,i)\n",
    "    extracted_features = np.load(load_name)\n",
    "    \n",
    "    # for each data_point in the class\n",
    "    for j in extracted_features:\n",
    "        \n",
    "        # store it in the array\n",
    "        data_points.append(j)\n",
    "        # store the corresponding the class value\n",
    "        data_points_class.append(val)\n",
    "    \n",
    "    # The print is to show the corresponding class names and labels assigned to the class labels      \n",
    "    # Note the corresponding labels and class assigned \n",
    "    print(val,i)\n",
    "    val += 1\n",
    "\n",
    "\n",
    "# the stored data points are in a sequence which can affect the model performance\n",
    "# To randomlly shuffle the examples as to maintain the corresponding class label\n",
    "\n",
    "temp = list(zip(data_points,data_points_class))\n",
    "shuffle(temp)\n",
    "\n",
    "\n",
    "data_points,data_points_class = zip(*temp)\n",
    "data_points = np.asanyarray(data_points)\n",
    "data_points_class = np.asanyarray(data_points_class)\n",
    "# The final data_points in one array\n",
    "print(data_points.shape)"
   ]
  },
  {
   "cell_type": "code",
   "execution_count": 431,
   "metadata": {},
   "outputs": [],
   "source": [
    "dim_hidden_1 = 40\n",
    "dim_hidden_2 = 28\n",
    "pca_components = 10\n",
    "C = 0.01"
   ]
  },
  {
   "cell_type": "code",
   "execution_count": 432,
   "metadata": {},
   "outputs": [],
   "source": [
    "from sklearn.model_selection import train_test_split\n",
    "X_train, X_test, Y_train, Y_test = train_test_split(data_points, data_points_class,test_size = 0.2)"
   ]
  },
  {
   "cell_type": "code",
   "execution_count": 433,
   "metadata": {},
   "outputs": [
    {
     "name": "stdout",
     "output_type": "stream",
     "text": [
      "(1200, 10)\n",
      "(300, 10)\n"
     ]
    }
   ],
   "source": [
    "from sklearn import decomposition\n",
    "\n",
    "pca1 = decomposition.PCA(n_components = pca_components)\n",
    "pca1.fit(X_train)\n",
    "X_train = pca1.transform(X_train)\n",
    "print(X_train.shape)\n",
    "\n",
    "pca2 = decomposition.PCA(n_components = pca_components)\n",
    "pca2.fit(X_test)\n",
    "X_test = pca2.transform(X_test)\n",
    "print(X_test.shape)"
   ]
  },
  {
   "cell_type": "code",
   "execution_count": 434,
   "metadata": {},
   "outputs": [
    {
     "name": "stdout",
     "output_type": "stream",
     "text": [
      "[[1. 0. 0. 0. 0.]\n",
      " [0. 0. 1. 0. 0.]\n",
      " [0. 0. 1. 0. 0.]\n",
      " ...\n",
      " [0. 1. 0. 0. 0.]\n",
      " [0. 1. 0. 0. 0.]\n",
      " [0. 0. 0. 1. 0.]]\n"
     ]
    }
   ],
   "source": [
    "ytrain = Y_train\n",
    "b = np.zeros((Y_train.size, Y_train.max()+1))\n",
    "b[np.arange(Y_train.size),Y_train] = 1\n",
    "Y_train=b\n",
    "print(Y_train)"
   ]
  },
  {
   "cell_type": "code",
   "execution_count": 435,
   "metadata": {},
   "outputs": [],
   "source": [
    "def relu(X):\n",
    "   return np.maximum(0,X)\n",
    "import math\n",
    "\n",
    "def sigmoid(x):\n",
    "  return 1/(1+np.exp(-x))"
   ]
  },
  {
   "cell_type": "code",
   "execution_count": 436,
   "metadata": {},
   "outputs": [],
   "source": [
    "def initparameters():\n",
    "  \n",
    " \n",
    "  \n",
    "    W1 = np.random.randn(dim_hidden_1,pca_components) * np.sqrt(2/pca_components)\n",
    "    b1 = np.zeros(shape=(dim_hidden_1, 1))\n",
    "    W2 = np.random.randn(dim_hidden_2, dim_hidden_1) * np.sqrt(2/dim_hidden_1)\n",
    "    b2 = np.zeros(shape=(dim_hidden_2, 1))\n",
    "    W3 = np.random.randn(5, dim_hidden_2) * np.sqrt(2/dim_hidden_2)\n",
    "    b3 = np.zeros(shape=(5, 1))\n",
    "    \n",
    "    parameters = {\"W1\": W1,\n",
    "                  \"b1\": b1,\n",
    "                  \"W2\": W2,\n",
    "                  \"b2\": b2,\n",
    "                  \"W3\": W3,\n",
    "                  \"b3\": b3}\n",
    "    \n",
    "    return parameters"
   ]
  },
  {
   "cell_type": "code",
   "execution_count": 437,
   "metadata": {},
   "outputs": [],
   "source": [
    "# GRADED FUNCTION: compute_cost\n",
    "\n",
    "def compute_cost(A3, Y, parameters):\n",
    "    \n",
    "    W1 = parameters['W1']\n",
    "    W2 = parameters['W2']\n",
    "    W3 = parameters['W3']\n",
    "    m=1200\n",
    "    lam=0.4\n",
    "    logprobs = np.multiply(np.log(A3), Y) + np.multiply((1 - Y), np.log(1 - A3))\n",
    "    cost =( - np.sum(logprobs) / m)+(lam * (np.sum(np.square(W1)) + np.sum(np.square(W2)) + np.sum(np.square(W3))) / (2 * m))\n",
    "    cost = float(np.squeeze(cost))\n",
    "    \n",
    "    return cost"
   ]
  },
  {
   "cell_type": "code",
   "execution_count": 438,
   "metadata": {},
   "outputs": [],
   "source": [
    "def backward_propagation(parameters, cache, X, Y):\n",
    "   \n",
    "    m=1200\n",
    "   \n",
    "    W1 = parameters['W1']\n",
    "    W2 = parameters['W2']\n",
    "    W3 = parameters['W3']\n",
    "        \n",
    "    \n",
    "    A1 = cache['A1']\n",
    "    A2 = cache['A2']\n",
    "    A3 = cache['A3']\n",
    "    \n",
    "    lam=0.4\n",
    "    dZ3 = A3 - Y\n",
    "    dW3 = (1 / m) * np.dot(dZ3, A2.T)+((lam* W3) / m)\n",
    "    db3 = (1 / m) * np.sum(dZ3, axis=1, keepdims=True)\n",
    "    dZ2 = np.multiply(np.dot(W3.T, dZ3), 1 - np.power(A2, 2))\n",
    "    dW2 = (1 / m) * np.dot(dZ2, A1.T)+((lam * W2) / m)\n",
    "    db2 = (1 / m) * np.sum(dZ2, axis=1, keepdims=True)\n",
    "    dZ1 = np.multiply(np.dot(W2.T, dZ2), 1 - np.power(A1, 2))\n",
    "    dW1 = (1 / m) * np.dot(dZ1, X.T)+(lam * W1) / m\n",
    "    db1 = (1 / m) * np.sum(dZ1, axis=1, keepdims=True)\n",
    "    ### END CODE HERE ###\n",
    "    \n",
    "    grads = {\"dW1\": dW1,\n",
    "             \"db1\": db1,\n",
    "             \"dW2\": dW2,\n",
    "             \"db2\": db2,\n",
    "             \"dW3\": dW3,\n",
    "             \"db3\": db3\n",
    "            }\n",
    "    \n",
    "    return grads"
   ]
  },
  {
   "cell_type": "code",
   "execution_count": 439,
   "metadata": {},
   "outputs": [],
   "source": [
    "\n",
    "def update_parameters(parameters, grads, learning_rate = 0.8):\n",
    "    \n",
    "    \n",
    "    W1 = parameters['W1']\n",
    "    b1 = parameters['b1']\n",
    "    W2 = parameters['W2']\n",
    "    b2 = parameters['b2']\n",
    "    W3 = parameters['W3']\n",
    "    b3 = parameters['b3']\n",
    "    ### END CODE HERE ###\n",
    "    \n",
    "    # Retrieve each gradient from the dictionary \"grads\"\n",
    "    ### START CODE HERE ### (≈ 4 lines of code)\n",
    "    dW1 = grads['dW1']\n",
    "    db1 = grads['db1']\n",
    "    dW2 = grads['dW2']\n",
    "    db2 = grads['db2']\n",
    "    dW3 = grads['dW3']\n",
    "    db3 = grads['db3']\n",
    "    ## END CODE HERE ###\n",
    "    \n",
    "    # Update rule for each parameter\n",
    "    ### START CODE HERE ### (≈ 4 lines of code)\n",
    "    W1 = W1 - learning_rate * dW1\n",
    "    b1 = b1 - learning_rate * db1\n",
    "    W2 = W2 - learning_rate * dW2\n",
    "    b2 = b2 - learning_rate * db2\n",
    "    W3 = W3 - learning_rate * dW3\n",
    "    b3 = b3 - learning_rate * db3\n",
    "    ### END CODE HERE ###\n",
    "    \n",
    "    parameters = {\"W1\": W1,\n",
    "                  \"b1\": b1,\n",
    "                  \"W2\": W2,\n",
    "                  \"b2\": b2,\n",
    "                  \"W3\": W3,\n",
    "                  \"b3\": b3\n",
    "                 }\n",
    "    \n",
    "    return parameters"
   ]
  },
  {
   "cell_type": "code",
   "execution_count": 440,
   "metadata": {},
   "outputs": [],
   "source": [
    "\n",
    "def update_parameters_momentum(parameters, velocity, learning_rate = 0.8):\n",
    "    \n",
    "    \n",
    "    W1 = parameters['W1']\n",
    "    b1 = parameters['b1']\n",
    "    W2 = parameters['W2']\n",
    "    b2 = parameters['b2']\n",
    "    W3 = parameters['W3']\n",
    "    b3 = parameters['b3']\n",
    "    ### END CODE HERE ###\n",
    "    \n",
    "    # Retrieve each gradient from the dictionary \"grads\"\n",
    "    ### START CODE HERE ### (≈ 4 lines of code)\n",
    "    dW1 = velocity['vW1']\n",
    "    db1 = velocity['vb1']\n",
    "    dW2 = velocity['vW2']\n",
    "    db2 = velocity['vb2']\n",
    "    dW3 = velocity['vW3']\n",
    "    db3 = velocity['vb3']\n",
    "    ## END CODE HERE ###\n",
    "    \n",
    "    # Update rule for each parameter\n",
    "    ### START CODE HERE ### (≈ 4 lines of code)\n",
    "    W1 = W1 - learning_rate * dW1\n",
    "    b1 = b1 - learning_rate * db1\n",
    "    W2 = W2 - learning_rate * dW2\n",
    "    b2 = b2 - learning_rate * db2\n",
    "    W3 = W3 - learning_rate * dW3\n",
    "    b3 = b3 - learning_rate * db3\n",
    "    ### END CODE HERE ###\n",
    "    \n",
    "    parameters = {\"W1\": W1,\n",
    "                  \"b1\": b1,\n",
    "                  \"W2\": W2,\n",
    "                  \"b2\": b2,\n",
    "                  \"W3\": W3,\n",
    "                  \"b3\": b3\n",
    "                 }\n",
    "    \n",
    "    return parameters"
   ]
  },
  {
   "cell_type": "code",
   "execution_count": 441,
   "metadata": {},
   "outputs": [],
   "source": [
    "\n",
    "def update_parameters_adam(parameters, v_corrected, s_corrected,E = 1e-8, learning_rate = 0.8):\n",
    "    \n",
    "    \n",
    "    W1 = parameters['W1']\n",
    "    b1 = parameters['b1']\n",
    "    W2 = parameters['W2']\n",
    "    b2 = parameters['b2']\n",
    "    W3 = parameters['W3']\n",
    "    b3 = parameters['b3']\n",
    "    ### END CODE HERE ###\n",
    "    \n",
    "    # Retrieve each gradient from the dictionary \"grads\"\n",
    "    ### START CODE HERE ### (≈ 4 lines of code)\n",
    "    dW1 = v_corrected['vW1'] / np.sqrt(s_corrected['vW1'] + E)\n",
    "    db1 = v_corrected['vb1'] / np.sqrt(s_corrected['vb1'] + E)\n",
    "    dW2 = v_corrected['vW2'] / np.sqrt(s_corrected['vW2'] + E)\n",
    "    db2 = v_corrected['vb2'] / np.sqrt(s_corrected['vb2'] + E)\n",
    "    dW3 = v_corrected['vW3'] / np.sqrt(s_corrected['vW3'] + E)\n",
    "    db3 = v_corrected['vb3'] / np.sqrt(s_corrected['vb3'] + E)\n",
    "    ## END CODE HERE ###\n",
    "    \n",
    "    \n",
    "    # Update rule for each parameter\n",
    "    ### START CODE HERE ### (≈ 4 lines of code)\n",
    "    W1 = W1 - learning_rate * dW1\n",
    "    b1 = b1 - learning_rate * db1\n",
    "    W2 = W2 - learning_rate * dW2\n",
    "    b2 = b2 - learning_rate * db2\n",
    "    W3 = W3 - learning_rate * dW3\n",
    "    b3 = b3 - learning_rate * db3\n",
    "    ### END CODE HERE ###\n",
    "    \n",
    "    parameters = {\"W1\": W1,\n",
    "                  \"b1\": b1,\n",
    "                  \"W2\": W2,\n",
    "                  \"b2\": b2,\n",
    "                  \"W3\": W3,\n",
    "                  \"b3\": b3\n",
    "                 }\n",
    "    \n",
    "    return parameters"
   ]
  },
  {
   "cell_type": "code",
   "execution_count": 442,
   "metadata": {},
   "outputs": [],
   "source": [
    "def forward_propagation(X, parameters):\n",
    "    \n",
    "    W1 = parameters['W1']\n",
    "    b1 = parameters['b1']\n",
    "    W2 = parameters['W2']\n",
    "    b2 = parameters['b2']\n",
    "    W3 = parameters['W3']\n",
    "    b3 = parameters['b3']\n",
    "   \n",
    "    \n",
    "    \n",
    "    Z1 = np.dot(W1, X) + b1\n",
    "    A1 = np.tanh(Z1)\n",
    "    \n",
    "    Z2 = np.dot(W2, A1) + b2\n",
    "    A2 = np.tanh(Z2)\n",
    "    \n",
    "    Z3 = np.dot(W3, A2) + b3\n",
    "    A3 = sigmoid(Z3)\n",
    "    \n",
    "   \n",
    "    \n",
    "    cache = {\"Z1\": Z1,\n",
    "             \"A1\": A1,\n",
    "             \"Z2\": Z2,\n",
    "             \"A2\": A2,\n",
    "             \"A3\": A3,\n",
    "             \"Z3 \":Z3}\n",
    "    \n",
    "    return A3, cache\n"
   ]
  },
  {
   "cell_type": "code",
   "execution_count": 443,
   "metadata": {},
   "outputs": [],
   "source": [
    "\n",
    "\n",
    "# GRADED FUNCTION: nn_model\n",
    "\n",
    "def nn_model(X, Y, parameters, learning_rate, num_iterations = 30000, print_cost=False,optmethod = 0,beta = 0.9, gamma = 0.99):\n",
    "    \n",
    "    # Loop (gradient descent)\n",
    "    costs=[]\n",
    "    velocity = {\"vW1\": np.zeros_like(parameters['W1']),\n",
    "             \"vb1\": np.zeros_like(parameters['b1']),\n",
    "             \"vW2\": np.zeros_like(parameters['W2']),\n",
    "             \"vb2\": np.zeros_like(parameters['b2']),\n",
    "             \"vW3\": np.zeros_like(parameters['W3']),\n",
    "             \"vb3\": np.zeros_like(parameters['b3'])\n",
    "            }\n",
    "    \n",
    "    rms_prop = {\"vW1\": np.zeros_like(parameters['W1']),\n",
    "             \"vb1\": np.zeros_like(parameters['b1']),\n",
    "             \"vW2\": np.zeros_like(parameters['W2']),\n",
    "             \"vb2\": np.zeros_like(parameters['b2']),\n",
    "             \"vW3\": np.zeros_like(parameters['W3']),\n",
    "             \"vb3\": np.zeros_like(parameters['b3'])\n",
    "            }\n",
    "    \n",
    "    t = 0\n",
    "    \n",
    "    for i in range(0, num_iterations):\n",
    "         \n",
    "        \n",
    "        # Forward propagation. Inputs: \"X, parameters\". Outputs: \"A2, cache\".\n",
    "        A3,cache = forward_propagation(X, parameters)\n",
    "        \n",
    "        # Cost function. Inputs: \"A2, Y, parameters\". Outputs: \"cost\".\n",
    "        cost = compute_cost(A3,Y,parameters)\n",
    "        if i % 100 == 0:\n",
    "            costs.append(cost)\n",
    "\n",
    "        # Backpropagation. Inputs: \"parameters, cache, X, Y\". Outputs: \"grads\".\n",
    "        grads = backward_propagation(parameters, cache, X, Y)\n",
    " \n",
    "        #print(\"GRADS : \",grads)\n",
    "        \n",
    "        # Gradient descent parameter update. Inputs: \"parameters, grads\". Outputs: \"parameters\".\n",
    "        if(optmethod == 0):\n",
    "            parameters = update_parameters(parameters, grads,learning_rate)\n",
    "       \n",
    "        else:\n",
    "            velocity['vW1'] = beta * velocity['vW1'] + (1 - beta) * grads['dW1']\n",
    "            velocity['vb1'] = beta * velocity['vb1'] + (1 - beta) * grads['db1']\n",
    "            velocity['vW2'] = beta * velocity['vW2'] + (1 - beta) * grads['dW2']\n",
    "            velocity['vb2'] = beta * velocity['vb2'] + (1 - beta) * grads['db2']\n",
    "            velocity['vW3'] = beta * velocity['vW3'] + (1 - beta) * grads['dW3']\n",
    "            velocity['vb3'] = beta * velocity['vb3'] + (1 - beta) * grads['db3']\n",
    "            \n",
    "            if(optmethod == 1):\n",
    "                parameters = update_parameters_momentum(parameters, velocity , learning_rate)\n",
    "            else:\n",
    "                rms_prop['vW1'] = gamma * rms_prop['vW1'] + (1 - gamma) * np.power(grads['dW1'],2)\n",
    "                rms_prop['vb1'] = gamma * rms_prop['vb1'] + (1 - gamma) * np.power(grads['db1'],2)\n",
    "                rms_prop['vW2'] = gamma * rms_prop['vW2'] + (1 - gamma) * np.power(grads['dW2'],2)\n",
    "                rms_prop['vb2'] = gamma * rms_prop['vb2'] + (1 - gamma) * np.power(grads['db2'],2)\n",
    "                rms_prop['vW3'] = gamma * rms_prop['vW3'] + (1 - gamma) * np.power(grads['dW3'],2)\n",
    "                rms_prop['vb3'] = gamma * rms_prop['vb3'] + (1 - gamma) * np.power(grads['db3'],2)\n",
    "                \n",
    "                E = 1e-08\n",
    "                \n",
    "                v_correct = {\"vW1\": np.zeros_like(parameters['W1']),\n",
    "                \"vb1\": np.zeros_like(parameters['b1']),\n",
    "                \"vW2\": np.zeros_like(parameters['W2']),\n",
    "                \"vb2\": np.zeros_like(parameters['b2']),\n",
    "                \"vW3\": np.zeros_like(parameters['W3']),\n",
    "                \"vb3\": np.zeros_like(parameters['b3'])\n",
    "                }\n",
    "                \n",
    "                s_correct = {\"vW1\": np.zeros_like(parameters['W1']),\n",
    "                \"vb1\": np.zeros_like(parameters['b1']),\n",
    "                \"vW2\": np.zeros_like(parameters['W2']),\n",
    "                \"vb2\": np.zeros_like(parameters['b2']),\n",
    "                \"vW3\": np.zeros_like(parameters['W3']),\n",
    "                \"vb3\": np.zeros_like(parameters['b3'])\n",
    "                }\n",
    "                \n",
    "                t = t + 1\n",
    "                \n",
    "                v_correct['vW1'] = velocity['vW1']/(1 - np.power(beta,t))\n",
    "                v_correct['vb1'] = velocity['vb1']/(1 - np.power(beta,t))\n",
    "                v_correct['vW2'] = velocity['vW2']/(1 - np.power(beta,t))\n",
    "                v_correct['vb2'] = velocity['vb2']/(1 - np.power(beta,t))\n",
    "                v_correct['vW3'] = velocity['vW3']/(1 - np.power(beta,t))\n",
    "                v_correct['vb3'] = velocity['vb3']/(1 - np.power(beta,t))\n",
    "            \n",
    "                s_correct['vW1'] = rms_prop['vW1']/(1 - np.power(gamma,t))\n",
    "                s_correct['vb1'] = rms_prop['vb1']/(1 - np.power(gamma,t))\n",
    "                s_correct['vW2'] = rms_prop['vW2']/(1 - np.power(gamma,t))\n",
    "                s_correct['vb2'] = rms_prop['vb2']/(1 - np.power(gamma,t))\n",
    "                s_correct['vW3'] = rms_prop['vW3']/(1 - np.power(gamma,t))\n",
    "                s_correct['vb3'] = rms_prop['vb3']/(1 - np.power(gamma,t))\n",
    "                \n",
    "                parameters = update_parameters_adam(parameters, v_correct, s_correct,E = 1e-8, learning_rate = learning_rate)\n",
    "            \n",
    "                \n",
    "        if(i%1000==0):\n",
    "            print(\"cost \",cost)\n",
    "        ### END CODE HERE ###\n",
    "        \n",
    "        if(cost < 0.3):\n",
    "            break\n",
    "        \n",
    "        # Print the cost every 1000 iterations\n",
    "        \n",
    "            \n",
    "    return parameters,costs"
   ]
  },
  {
   "cell_type": "code",
   "execution_count": 444,
   "metadata": {},
   "outputs": [],
   "source": [
    "def predict(parameters, X):\n",
    "    \"\"\"\n",
    "    Using the learned parameters, predicts a class for each example in X\n",
    "    \n",
    "    Arguments:\n",
    "    parameters -- python dictionary containing your parameters \n",
    "    X -- input data of size (n_x, m)\n",
    "    \n",
    "    Returns\n",
    "    predictions -- vector of predictions of our model (red: 0 / blue: 1)\n",
    "    \"\"\"\n",
    "    \n",
    "    # Computes probabilities using forward propagation, and classifies to 0/1 using 0.5 as the threshold.\n",
    "    ### START CODE HERE ### (≈ 2 lines of code)\n",
    "    \n",
    "    A3, cache = forward_propagation(X, parameters)\n",
    "    \n",
    "    predictions = np.argmax(A3,axis=0)\n",
    "    ### END CODE HERE ###\n",
    "    \n",
    "    return predictions\n"
   ]
  },
  {
   "cell_type": "code",
   "execution_count": 445,
   "metadata": {},
   "outputs": [],
   "source": [
    "params = initparameters()"
   ]
  },
  {
   "cell_type": "code",
   "execution_count": 446,
   "metadata": {},
   "outputs": [
    {
     "name": "stdout",
     "output_type": "stream",
     "text": [
      "cost  3.521494851423584\n",
      "cost  2.0204657952271656\n",
      "cost  1.8101945173974792\n",
      "cost  1.7460079947314902\n",
      "cost  1.6849435998561142\n",
      "cost  1.65396995935198\n",
      "cost  1.6246867118582566\n",
      "cost  1.6087537570998418\n",
      "cost  1.594307006986399\n",
      "cost  1.5847161507270529\n"
     ]
    }
   ],
   "source": [
    "lr = 0.01\n",
    "parameters,costs = nn_model(X_train.T, Y_train.T, params, lr,  num_iterations = 10000, print_cost=True,optmethod = 2)"
   ]
  },
  {
   "cell_type": "code",
   "execution_count": 447,
   "metadata": {},
   "outputs": [
    {
     "data": {
      "image/png": "[encoded data removed]",
      "text/plain": [
       "<Figure size 432x288 with 1 Axes>"
      ]
     },
     "metadata": {
      "needs_background": "light"
     },
     "output_type": "display_data"
    }
   ],
   "source": [
    "plt.plot(costs)\n",
    "plt.ylabel('cost')\n",
    "plt.xlabel('iterations (per hundreds)')\n",
    "\n",
    "plt.show()\n"
   ]
  },
  {
   "cell_type": "code",
   "execution_count": 448,
   "metadata": {},
   "outputs": [],
   "source": [
    "pred=predict(parameters, X_train.T)\n",
    "pred2=predict(parameters, X_test.T)"
   ]
  },
  {
   "cell_type": "code",
   "execution_count": 449,
   "metadata": {},
   "outputs": [
    {
     "name": "stdout",
     "output_type": "stream",
     "text": [
      "train accuracy = 0.9141666666666667\n",
      "test accuracy = 0.21333333333333335\n"
     ]
    }
   ],
   "source": [
    "count=0\n",
    "i=0\n",
    "while i<1200:\n",
    "    if(pred[i]==ytrain[i]):\n",
    "        count=count+1\n",
    "    i=i+1\n",
    "print(\"train accuracy =\",count/1200)\n",
    "\n",
    "count=0\n",
    "i=0\n",
    "while i<300:\n",
    "    if(pred2[i]==Y_test[i]):\n",
    "        count=count+1\n",
    "    i=i+1\n",
    "print(\"test accuracy =\",count/300)"
   ]
  },
  {
   "cell_type": "code",
   "execution_count": 451,
   "metadata": {},
   "outputs": [
    {
     "name": "stdout",
     "output_type": "stream",
     "text": [
      "cost  3.521494851423584\n",
      "cost  2.513178807401612\n",
      "cost  2.4991405953767822\n",
      "cost  2.48938673104759\n",
      "cost  2.4820701882099225\n",
      "cost  2.4765760243280055\n",
      "cost  2.472504648471662\n",
      "cost  2.4695082346793753\n",
      "cost  2.467288033086858\n",
      "cost  2.465609439436616\n"
     ]
    }
   ],
   "source": [
    "lr = 0.01\n",
    "parameters,costs = nn_model(X_train.T, Y_train.T, params, lr,  num_iterations = 10000, print_cost=True, optmethod = 1, beta = 0.9)"
   ]
  },
  {
   "cell_type": "code",
   "execution_count": 452,
   "metadata": {},
   "outputs": [
    {
     "data": {
      "image/png": "[encoded data removed]",
      "text/plain": [
       "<Figure size 432x288 with 1 Axes>"
      ]
     },
     "metadata": {
      "needs_background": "light"
     },
     "output_type": "display_data"
    }
   ],
   "source": [
    "plt.plot(costs)\n",
    "plt.ylabel('cost')\n",
    "plt.xlabel('iterations (per hundreds)')\n",
    "\n",
    "plt.show()\n"
   ]
  },
  {
   "cell_type": "code",
   "execution_count": 453,
   "metadata": {},
   "outputs": [],
   "source": [
    "pred=predict(parameters, X_train.T)\n",
    "pred2=predict(parameters, X_test.T)"
   ]
  },
  {
   "cell_type": "code",
   "execution_count": 454,
   "metadata": {},
   "outputs": [
    {
     "name": "stdout",
     "output_type": "stream",
     "text": [
      "train accuracy = 0.28833333333333333\n",
      "test accuracy = 0.17666666666666667\n"
     ]
    }
   ],
   "source": [
    "count=0\n",
    "i=0\n",
    "while i<1200:\n",
    "    if(pred[i]==ytrain[i]):\n",
    "        count=count+1\n",
    "    i=i+1\n",
    "print(\"train accuracy =\",count/1200)\n",
    "\n",
    "count=0\n",
    "i=0\n",
    "while i<300:\n",
    "    if(pred2[i]==Y_test[i]):\n",
    "        count=count+1\n",
    "    i=i+1\n",
    "print(\"test accuracy =\",count/300)"
   ]
  },
  {
   "cell_type": "code",
   "execution_count": 456,
   "metadata": {},
   "outputs": [
    {
     "name": "stdout",
     "output_type": "stream",
     "text": [
      "cost  3.521494851423584\n",
      "cost  2.5131662643883605\n",
      "cost  2.4991076748052885\n",
      "cost  2.4893507606248164\n",
      "cost  2.4820434112454826\n",
      "cost  2.4765625679840433\n",
      "cost  2.472503666623642\n",
      "cost  2.4695170023784554\n",
      "cost  2.4673037763282606\n",
      "cost  2.4656300065313377\n"
     ]
    }
   ],
   "source": [
    "lr = 0.01\n",
    "parameters,costs = nn_model(X_train.T, Y_train.T, params, lr,  num_iterations = 10000, print_cost=True)"
   ]
  },
  {
   "cell_type": "code",
   "execution_count": 457,
   "metadata": {},
   "outputs": [
    {
     "data": {
      "image/png": "[encoded data removed]",
      "text/plain": [
       "<Figure size 432x288 with 1 Axes>"
      ]
     },
     "metadata": {
      "needs_background": "light"
     },
     "output_type": "display_data"
    }
   ],
   "source": [
    "plt.plot(costs)\n",
    "plt.ylabel('cost')\n",
    "plt.xlabel('iterations (per hundreds)')\n",
    "\n",
    "plt.show()\n"
   ]
  },
  {
   "cell_type": "code",
   "execution_count": 458,
   "metadata": {},
   "outputs": [],
   "source": [
    "pred=predict(parameters, X_train.T)\n",
    "pred2=predict(parameters, X_test.T)"
   ]
  },
  {
   "cell_type": "code",
   "execution_count": 459,
   "metadata": {},
   "outputs": [
    {
     "name": "stdout",
     "output_type": "stream",
     "text": [
      "train accuracy = 0.2875\n",
      "test accuracy = 0.17666666666666667\n"
     ]
    }
   ],
   "source": [
    "count=0\n",
    "i=0\n",
    "while i<1200:\n",
    "    if(pred[i]==ytrain[i]):\n",
    "        count=count+1\n",
    "    i=i+1\n",
    "print(\"train accuracy =\",count/1200)\n",
    "\n",
    "count=0\n",
    "i=0\n",
    "while i<300:\n",
    "    if(pred2[i]==Y_test[i]):\n",
    "        count=count+1\n",
    "    i=i+1\n",
    "print(\"test accuracy =\",count/300)"
   ]
  },
  {
   "cell_type": "code",
   "execution_count": null,
   "metadata": {},
   "outputs": [],
   "source": []
  }
 ],
 "metadata": {
  "kernelspec": {
   "display_name": "Python 3",
   "language": "python",
   "name": "python3"
  },
  "language_info": {
   "codemirror_mode": {
    "name": "ipython",
    "version": 3
   },
   "file_extension": ".py",
   "mimetype": "text/x-python",
   "name": "python",
   "nbconvert_exporter": "python",
   "pygments_lexer": "ipython3",
   "version": "3.7.4"
  }
 },
 "nbformat": 4,
 "nbformat_minor": 4
}
