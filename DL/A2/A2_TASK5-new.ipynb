{
 "cells": [
  {
   "cell_type": "code",
   "execution_count": 1,
   "metadata": {},
   "outputs": [],
   "source": [
    "# imports\n",
    "\n",
    "import numpy as np\n",
    "import torch\n",
    "import os\n",
    "import torch.nn as nn\n",
    "import torch.nn.functional as F\n",
    "import torch.optim as optim\n",
    "import matplotlib.pyplot as plt\n",
    "from confusion_matrix import ConfusionPlots\n",
    "from torchvision import datasets, transforms"
   ]
  },
  {
   "cell_type": "code",
   "execution_count": 2,
   "metadata": {},
   "outputs": [],
   "source": [
    "class BB_RBM(nn.Module):\n",
    "\n",
    "    def __init__(self, n_vis, n_hid, k):\n",
    "        super(BB_RBM, self).__init__()\n",
    "        self.v_bias = nn.Parameter(torch.zeros(1, n_vis))\n",
    "        self.h_bias = nn.Parameter(torch.zeros(1, n_hid))\n",
    "        self.weights = nn.Parameter(torch.randn(n_hid, n_vis))\n",
    "        self.k = k\n",
    "\n",
    "    def sample_hidden(self, v_prob):\n",
    "        h_sig = torch.sigmoid(F.linear(v_prob, self.weights, self.h_bias)) # xA.T + b -> linear func\n",
    "        return h_sig.bernoulli()\n",
    "\n",
    "    def sample_visible(self, h_prob):\n",
    "        v_sig = torch.sigmoid(F.linear(h_prob, self.weights.t(), self.v_bias))\n",
    "        return v_sig.bernoulli()\n",
    "\n",
    "    def free_energy(self, v_vals):\n",
    "        v_term = torch.matmul(v_vals, self.v_bias.t())\n",
    "        w_v_h = F.linear(v_vals, self.weights, self.h_bias)\n",
    "        h_term = torch.sum(F.softplus(w_v_h), dim=1)\n",
    "        return torch.mean(-h_term - v_term)\n",
    "    \n",
    "    def free_energy_gap(self, v_vals, v_gibbs):\n",
    "        return self.free_energy(v_vals) - self.free_energy(v_gibbs)\n",
    "    \n",
    "    def k_step_contrasive_divergence(self, h_vals):\n",
    "        for _ in range(self.k):\n",
    "            v_gibbs = self.sample_visible(h_vals)\n",
    "            h_vals = self.sample_hidden(v_gibbs)\n",
    "        return v_gibbs, h_vals\n",
    "\n",
    "    def forward(self, v_vals):\n",
    "        h_vals = self.sample_hidden(v_vals)\n",
    "        return v_vals, self.k_step_contrasive_divergence(h_vals)\n",
    "        \n",
    "    \n",
    "class GB_RBM(BB_RBM):\n",
    "    # Only changes are with sampling visable and free energy\n",
    "    def sample_visible(self, h_prob):\n",
    "        h_lin = F.linear(h_prob, self.weights.t(), self.v_bias)\n",
    "        return h_lin\n",
    "        \n",
    "    def free_energy(self, v_vals):\n",
    "        w_v_b = F.linear(v_vals, self.weights, self.h_bias)\n",
    "        v_term = 0.5*torch.sum(torch.square(torch.sub(v_vals,self.v_bias)),dim=1)\n",
    "        h_term = torch.sum(F.softplus(w_v_b), dim=1)\n",
    "        return torch.mean(-h_term + v_term)"
   ]
  },
  {
   "cell_type": "code",
   "execution_count": 5,
   "metadata": {},
   "outputs": [
    {
     "data": {
      "text/plain": [
       "tensor([[ 0.9752, -1.2080, -2.1304, -1.0263],\n",
       "        [ 0.4002,  0.5215,  0.1252, -0.4176],\n",
       "        [-0.9959,  1.5666, -0.4372, -1.1540],\n",
       "        [ 0.4772, -1.6647, -1.6117, -0.5663]])"
      ]
     },
     "execution_count": 5,
     "metadata": {},
     "output_type": "execute_result"
    }
   ],
   "source": [
    "a = torch.randn(4, 4)\n",
    "a"
   ]
  },
  {
   "cell_type": "code",
   "execution_count": 18,
   "metadata": {},
   "outputs": [
    {
     "data": {
      "text/plain": [
       "tensor([[-0.8474],\n",
       "        [ 0.1573],\n",
       "        [-0.2552],\n",
       "        [-0.8413]])"
      ]
     },
     "execution_count": 18,
     "metadata": {},
     "output_type": "execute_result"
    }
   ],
   "source": [
    "torch.mean(a, 1,True)"
   ]
  },
  {
   "cell_type": "code",
   "execution_count": 17,
   "metadata": {},
   "outputs": [
    {
     "data": {
      "text/plain": [
       "tensor(-0.4466)"
      ]
     },
     "execution_count": 17,
     "metadata": {},
     "output_type": "execute_result"
    }
   ],
   "source": [
    "torch.mean(a)"
   ]
  },
  {
   "cell_type": "code",
   "execution_count": null,
   "metadata": {},
   "outputs": [],
   "source": []
  }
 ],
 "metadata": {
  "kernelspec": {
   "display_name": "Python 3",
   "language": "python",
   "name": "python3"
  },
  "language_info": {
   "codemirror_mode": {
    "name": "ipython",
    "version": 3
   },
   "file_extension": ".py",
   "mimetype": "text/x-python",
   "name": "python",
   "nbconvert_exporter": "python",
   "pygments_lexer": "ipython3",
   "version": "3.8.2"
  }
 },
 "nbformat": 4,
 "nbformat_minor": 4
}
