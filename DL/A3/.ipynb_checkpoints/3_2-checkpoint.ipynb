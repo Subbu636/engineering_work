{
 "cells": [
  {
   "cell_type": "code",
   "execution_count": 2,
   "metadata": {
    "colab": {},
    "colab_type": "code",
    "id": "wuz-FgIluHuX"
   },
   "outputs": [
    {
     "ename": "ModuleNotFoundError",
     "evalue": "No module named 'confusion_matrix'",
     "output_type": "error",
     "traceback": [
      "\u001b[0;31m---------------------------------------------------------------------------\u001b[0m",
      "\u001b[0;31mModuleNotFoundError\u001b[0m                       Traceback (most recent call last)",
      "\u001b[0;32m<ipython-input-2-ee220df0e7d7>\u001b[0m in \u001b[0;36m<module>\u001b[0;34m\u001b[0m\n\u001b[1;32m      7\u001b[0m \u001b[0;32mfrom\u001b[0m \u001b[0msklearn\u001b[0m \u001b[0;32mimport\u001b[0m \u001b[0mdecomposition\u001b[0m\u001b[0;34m\u001b[0m\u001b[0;34m\u001b[0m\u001b[0m\n\u001b[1;32m      8\u001b[0m \u001b[0;32mimport\u001b[0m \u001b[0mtorch\u001b[0m\u001b[0;34m.\u001b[0m\u001b[0moptim\u001b[0m \u001b[0;32mas\u001b[0m \u001b[0moptim\u001b[0m\u001b[0;34m\u001b[0m\u001b[0;34m\u001b[0m\u001b[0m\n\u001b[0;32m----> 9\u001b[0;31m \u001b[0;32mfrom\u001b[0m \u001b[0mconfusion_matrix\u001b[0m \u001b[0;32mimport\u001b[0m \u001b[0mConfusionPlots\u001b[0m\u001b[0;34m\u001b[0m\u001b[0;34m\u001b[0m\u001b[0m\n\u001b[0m\u001b[1;32m     10\u001b[0m \u001b[0;32mimport\u001b[0m \u001b[0mmatplotlib\u001b[0m\u001b[0;34m.\u001b[0m\u001b[0mpyplot\u001b[0m \u001b[0;32mas\u001b[0m \u001b[0mplt\u001b[0m\u001b[0;34m\u001b[0m\u001b[0;34m\u001b[0m\u001b[0m\n",
      "\u001b[0;31mModuleNotFoundError\u001b[0m: No module named 'confusion_matrix'"
     ]
    }
   ],
   "source": [
    "import numpy as np\n",
    "import torch\n",
    "import os\n",
    "import torch.nn as nn\n",
    "import torch.nn.functional as F\n",
    "from sklearn.model_selection import train_test_split\n",
    "from sklearn import decomposition\n",
    "import torch.optim as optim\n",
    "from confusion_matrix import ConfusionPlots\n",
    "import matplotlib.pyplot as plt"
   ]
  },
  {
   "cell_type": "code",
   "execution_count": 2,
   "metadata": {
    "colab": {},
    "colab_type": "code",
    "id": "j57iTTgx0oqM"
   },
   "outputs": [],
   "source": [
    "path = 'images/'\n",
    "birds=['120.Fox_Sparrow','080.Green_Kingfisher','187.American_Three_toed_Woodpecker',\n",
    "       '127.Savannah_Sparrow','043.Yellow_bellied_Flycatcher','041.Scissor_tailed_Flycatcher','114.Black_throated_Sparrow']"
   ]
  },
  {
   "cell_type": "code",
   "execution_count": null,
   "metadata": {
    "colab": {},
    "colab_type": "code",
    "id": "3pakFuSe1OWt"
   },
   "outputs": [],
   "source": [
    "X=[]\n",
    "Y=[]\n",
    "for (bird,i) in  zip(birds,np.arange(7)):\n",
    "    for file in os.listdir(path+bird):\n",
    "        #print(file)\n",
    "        data=Image.open(path + bird + '/' + file, 'r')\n",
    "        width, height = data.size  \n",
    "        left = width/10\n",
    "        top = height / 10\n",
    "        right = 9*width/10\n",
    "        bottom = 9* height / 10\n",
    "        data = data.crop((left, top, right, bottom))\n",
    "        data=data.resize((50,50))\n",
    "        data=np.array(data).astype('float32')\n",
    "        data=data/255.0\n",
    "        data = [torch.tensor(data[:,:,0]),torch.tensor(data[:,:,1]),torch.tensor(data[:,:,2])]\n",
    "        data = torch.stack(data,0)\n",
    "        X.append(data)\n",
    "        Y.append(torch.tensor(i))"
   ]
  },
  {
   "cell_type": "code",
   "execution_count": null,
   "metadata": {
    "colab": {},
    "colab_type": "code",
    "id": "hhHsmQ5m2Xzp"
   },
   "outputs": [],
   "source": [
    "torch.save(torch.stack(X),'X50.pt')\n",
    "torch.save(torch.stack(Y),'Y50.pt')\n",
    "torch.save(torch.randperm(len(Y)),'P.pt')"
   ]
  },
  {
   "cell_type": "code",
   "execution_count": 3,
   "metadata": {
    "colab": {},
    "colab_type": "code",
    "id": "Ql7vUOsX91w3"
   },
   "outputs": [],
   "source": [
    "X = torch.load('X50.pt')\n",
    "Y = torch.load('Y50.pt')\n",
    "p = torch.load('P.pt')"
   ]
  },
  {
   "cell_type": "code",
   "execution_count": 4,
   "metadata": {
    "colab": {},
    "colab_type": "code",
    "id": "iSpUNqTr_Nxc"
   },
   "outputs": [],
   "source": [
    "X_tr=X[p[:287]]\n",
    "Y_tr=Y[p[:287]]\n",
    "\n",
    "X_v=X[p[287:328]]\n",
    "Y_v=Y[p[287:328]]\n",
    "\n",
    "X_te=X[p[328:]]\n",
    "Y_te=Y[p[328:]]"
   ]
  },
  {
   "cell_type": "code",
   "execution_count": 5,
   "metadata": {
    "colab": {},
    "colab_type": "code",
    "id": "QEpQsAJ50TF_"
   },
   "outputs": [],
   "source": [
    "train_dataset = torch.utils.data.TensorDataset(X_tr,Y_tr)\n",
    "validation_dataset = torch.utils.data.TensorDataset(X_v,Y_v)\n",
    "test_dataset = torch.utils.data.TensorDataset(X_te,Y_te)"
   ]
  },
  {
   "cell_type": "code",
   "execution_count": 6,
   "metadata": {
    "colab": {},
    "colab_type": "code",
    "id": "pMLL0XNbDZNQ"
   },
   "outputs": [],
   "source": [
    "batch_size = 16\n",
    "tr= torch.utils.data.DataLoader(train_dataset, batch_size=batch_size,shuffle=True,num_workers=8)\n",
    "v= torch.utils.data.DataLoader(validation_dataset, batch_size=batch_size,shuffle=True,num_workers=8)\n",
    "te= torch.utils.data.DataLoader(test_dataset, batch_size=batch_size,shuffle=True,num_workers=8)"
   ]
  },
  {
   "cell_type": "code",
   "execution_count": null,
   "metadata": {
    "colab": {},
    "colab_type": "code",
    "id": "aVj6l7wdD2U6"
   },
   "outputs": [],
   "source": [
    "class Net(torch.nn.Module):\n",
    "    def __init__(self):\n",
    "        super().__init__()\n",
    "        self.cl1 = torch.nn.Conv2d(3,4,3,stride=1,padding=1)\n",
    "        self.mp1 = torch.nn.AvgPool2d(2,ceil_mode=True)\n",
    "        self.cl2 = torch.nn.Conv2d(4,16,3,stride=1,padding=1)\n",
    "        self.mp2 = torch.nn.AvgPool2d(2,ceil_mode=True)\n",
    "        self.drop=torch.nn.Dropout(0.25)\n",
    "        self.fc1 = torch.nn.Linear(13*13*16,21) # 25*25*16 for 100, 13*13*16 for 50\n",
    "        self.fc2 = torch.nn.Linear(21,7)\n",
    "\n",
    "    def forward(self,inp):\n",
    "        inp = self.cl1(inp)\n",
    "        inp = self.mp1(inp)\n",
    "        inp = self.cl2(inp)\n",
    "        inp = self.mp2(inp)\n",
    "        print(inp.shape)\n",
    "        inp = torch.flatten(inp, 1)\n",
    "        inp = self.drop(inp)\n",
    "        inp = torch.nn.functional.relu(self.fc1(inp),inplace=True)\n",
    "        inp = self.fc2(inp)\n",
    "        return inp"
   ]
  },
  {
   "cell_type": "code",
   "execution_count": null,
   "metadata": {
    "colab": {},
    "colab_type": "code",
    "id": "3zOFWqrQEk24"
   },
   "outputs": [],
   "source": [
    "net = Net()\n",
    "c_fn = torch.nn.CrossEntropyLoss()\n",
    "optimizer = torch.optim.Adam(net.parameters(), lr = 0.0001)\n",
    "# optimizer = torch.optim.SGD(net.parameters(), lr=0.005, momentum=0.0,nesterov=False)\n",
    "tr_loss=[]\n",
    "tr_corrects=[]\n",
    "v_loss=[]\n",
    "v_corrects=[]"
   ]
  },
  {
   "cell_type": "code",
   "execution_count": null,
   "metadata": {
    "colab": {
     "base_uri": "https://localhost:8080/",
     "height": 411
    },
    "colab_type": "code",
    "id": "QkgzNoW_Fx-F",
    "outputId": "2e0efeb0-f370-4e70-e238-23809c2d17e8"
   },
   "outputs": [],
   "source": [
    "for count in range(1):\n",
    "    l=0;c=0;l1=0;c1=0\n",
    "    for inp,out in tr:\n",
    "        results = net(inp)\n",
    "        out=out.type(torch.LongTensor)\n",
    "        loss=c_fn(results,out)\n",
    "        optimizer.zero_grad()\n",
    "        loss.backward()\n",
    "        optimizer.step()\n",
    "        temp,predictions=torch.max(results, 1)\n",
    "        l+=loss.item()\n",
    "        c+=torch.sum(predictions==out.data)\n",
    "\n",
    "\n",
    "    for inp, out in v:\n",
    "        results = net(inp)\n",
    "        out=out.type(torch.LongTensor)\n",
    "        loss=c_fn(results,out)\n",
    "        temp,predictions=torch.max(results, 1)\n",
    "        l1+=loss.item()\n",
    "        c1+=torch.sum(predictions==out.data)\n",
    "\n",
    "    if ((count+1)%20==0):\n",
    "        tot_loss = l/len(tr.dataset)\n",
    "        tot_acc = c.float()/len(tr.dataset)\n",
    "        v_tot_loss = l1/len(v.dataset)\n",
    "        v_tot_acc = c1.float()/len(v.dataset)\n",
    "        tr_loss.append(tot_loss)\n",
    "        tr_corrects.append(tot_acc)\n",
    "        v_loss.append(v_tot_loss)\n",
    "        v_corrects.append(v_tot_acc)\n",
    "        print(\"after \",(count+1),\"iterations :training loss is \",tot_loss,\" and validation loss is \",v_tot_loss,\",training accuracy is \"\n",
    "              ,int(tot_acc.item()*100),\",validation accuracy is \",int(v_tot_acc.item()*100))\n",
    "    "
   ]
  },
  {
   "cell_type": "code",
   "execution_count": null,
   "metadata": {
    "colab": {
     "base_uri": "https://localhost:8080/",
     "height": 34
    },
    "colab_type": "code",
    "id": "6vPRCvwxDdUh",
    "outputId": "3cf8f510-6a17-45ba-cd17-e5cb62f93863"
   },
   "outputs": [],
   "source": [
    "c=0;\n",
    "for inp,out in te:\n",
    "    results = net(inp)\n",
    "    out=out.type(torch.LongTensor)\n",
    "    loss=c_fn(results,out)\n",
    "    optimizer.zero_grad()\n",
    "    loss.backward()\n",
    "    optimizer.step()\n",
    "    temp,predictions=torch.max(results, 1)\n",
    "    c+=torch.sum(predictions==out.data)\n",
    "\n",
    "test_acc =c.float()/len(te.dataset)\n",
    "print(test_acc)"
   ]
  },
  {
   "cell_type": "code",
   "execution_count": null,
   "metadata": {
    "colab": {
     "base_uri": "https://localhost:8080/",
     "height": 282
    },
    "colab_type": "code",
    "id": "_9ya0PGH3CG8",
    "outputId": "11077288-8982-48e1-f055-47bb023909bf"
   },
   "outputs": [],
   "source": [
    "plt.plot(tr_loss, label='training loss')\n",
    "plt.plot(v_loss, label='validation loss')\n",
    "plt.legend()\n",
    "plt.show()\n",
    "plt.plot(tr_corrects, label='training accuracy')\n",
    "plt.plot(v_corrects, label='validation accuracy')\n",
    "plt.legend()\n",
    "plt.show()"
   ]
  },
  {
   "cell_type": "code",
   "execution_count": 8,
   "metadata": {
    "colab": {},
    "colab_type": "code",
    "id": "ZRfqWei_3DZy"
   },
   "outputs": [],
   "source": [
    "class Net1(torch.nn.Module):\n",
    "    def __init__(self,alpha,k):\n",
    "        super().__init__()\n",
    "        self.cl1 = torch.nn.Conv2d(3,4,3,stride=1,padding=1)\n",
    "        self.mp1 = torch.nn.AvgPool2d(2,ceil_mode=True)\n",
    "        self.cl2 = torch.nn.Conv2d(4,16,3,stride=1,padding=1)\n",
    "        self.mp2 = torch.nn.AvgPool2d(2,ceil_mode=True)\n",
    "        self.alpha = alpha\n",
    "        self.k = k\n",
    "        self.NETVLAD_Conv = torch.nn.Conv2d(16, self.k, kernel_size=(1, 1), bias=True)\n",
    "        self.centroids = torch.nn.Parameter(torch.rand(self.k, 16))\n",
    "        self.NETVLAD_Conv.weight = torch.nn.Parameter((2.0 * self.alpha * self.centroids).unsqueeze(-1).unsqueeze(-1))\n",
    "        self.NETVLAD_Conv.bias = torch.nn.Parameter(- self.alpha * self.centroids.norm(dim=1))\n",
    "        self.drop=torch.nn.Dropout(0.25)\n",
    "        self.fc1 = torch.nn.Linear(16*self.k,21)\n",
    "        self.fc2 = torch.nn.Linear(21,7)\n",
    "\n",
    "    def forward(self,inp):\n",
    "        inp = self.cl1(inp)\n",
    "        inp = self.mp1(inp)\n",
    "        inp = self.cl2(inp)\n",
    "        inp = self.mp2(inp)\n",
    "\n",
    "        N, C = inp.shape[:2]\n",
    "        inp = torch.nn.functional.normalize(inp, p=2, dim=1)\n",
    "        soft = self.NETVLAD_Conv(inp).view(N, self.k, -1)\n",
    "        soft = torch.nn.functional.softmax(soft, dim=1)\n",
    "        inpflat = inp.view(N, C, -1)\n",
    "        res = inpflat.expand(self.k, -1, -1, -1).permute(1, 0, 2, 3) - self.centroids.expand(inpflat.size(-1), -1, -1).permute(1, 2, 0).unsqueeze(0)\n",
    "        res *= soft.unsqueeze(2)\n",
    "        netvlad = res.sum(dim=-1)\n",
    "        netvlad = torch.nn.functional.normalize(netvlad, p=2, dim=2)\n",
    "        netvlad = netvlad.view(inp.size(0), -1)\n",
    "        inp = torch.nn.functional.normalize(netvlad, p=2, dim=1)\n",
    "\n",
    "        inp = self.drop(inp)\n",
    "        inp = torch.nn.functional.relu(self.fc1(inp),inplace=True)\n",
    "        inp = self.fc2(inp)\n",
    "        return inp"
   ]
  },
  {
   "cell_type": "code",
   "execution_count": 15,
   "metadata": {
    "colab": {},
    "colab_type": "code",
    "id": "-WTHwuA68GCE"
   },
   "outputs": [],
   "source": [
    "net = Net1(0.5,4)\n",
    "c_fn = torch.nn.CrossEntropyLoss()\n",
    "optimizer = torch.optim.Adam(net.parameters(), lr = 0.0005)\n",
    "tr_loss=[]\n",
    "tr_corrects=[]\n",
    "v_loss=[]\n",
    "v_corrects=[]"
   ]
  },
  {
   "cell_type": "code",
   "execution_count": 20,
   "metadata": {
    "colab": {
     "base_uri": "https://localhost:8080/",
     "height": 306
    },
    "colab_type": "code",
    "id": "VIlSPdVi8Fu8",
    "outputId": "38be9b7f-979c-40f0-f124-49b3fc227e3a"
   },
   "outputs": [
    {
     "name": "stdout",
     "output_type": "stream",
     "text": [
      "after  20 iterations :training loss is  0.0264962123973029  and validation loss is  0.19204176926031347 ,training accuracy is  84 ,validation accuracy is  34\n",
      "after  40 iterations :training loss is  0.023060740857589537  and validation loss is  0.20619591271005025 ,training accuracy is  86 ,validation accuracy is  46\n",
      "after  60 iterations :training loss is  0.025322349385102035  and validation loss is  0.19414145190541338 ,training accuracy is  85 ,validation accuracy is  41\n",
      "after  80 iterations :training loss is  0.022355618532941733  and validation loss is  0.18199762483922446 ,training accuracy is  88 ,validation accuracy is  34\n",
      "after  100 iterations :training loss is  0.023521594521476  and validation loss is  0.18219856808825238 ,training accuracy is  86 ,validation accuracy is  46\n",
      "after  120 iterations :training loss is  0.024042665179598206  and validation loss is  0.1884265323964561 ,training accuracy is  85 ,validation accuracy is  36\n",
      "after  140 iterations :training loss is  0.02152954581930247  and validation loss is  0.18273682129092333 ,training accuracy is  88 ,validation accuracy is  53\n",
      "after  160 iterations :training loss is  0.02296124616774117  and validation loss is  0.1990184609482928 ,training accuracy is  86 ,validation accuracy is  36\n",
      "after  180 iterations :training loss is  0.02491202124942886  and validation loss is  0.18121321608380572 ,training accuracy is  87 ,validation accuracy is  46\n",
      "after  200 iterations :training loss is  0.02277684458352963  and validation loss is  0.19848322868347168 ,training accuracy is  86 ,validation accuracy is  46\n"
     ]
    }
   ],
   "source": [
    "for count in range(200):\n",
    "    l=0;c=0;l1=0;c1=0\n",
    "    for inp,out in tr:\n",
    "        results = net(inp)\n",
    "        out=out.type(torch.LongTensor)\n",
    "        loss=c_fn(results,out)\n",
    "        optimizer.zero_grad()\n",
    "        loss.backward()\n",
    "        optimizer.step()\n",
    "        temp,predictions=torch.max(results, 1)\n",
    "        l+=loss.item()\n",
    "        c+=torch.sum(predictions==out.data)\n",
    "\n",
    "\n",
    "    for inp, out in v:\n",
    "        results = net(inp)\n",
    "        out=out.type(torch.LongTensor)\n",
    "        loss=c_fn(results,out)\n",
    "        temp,predictions=torch.max(results, 1)\n",
    "        l1+=loss.item()\n",
    "        c1+=torch.sum(predictions==out.data)\n",
    "\n",
    "    if ((count+1)%20==0):\n",
    "        tot_loss = l/len(tr.dataset)\n",
    "        tot_acc = c.float()/len(tr.dataset)\n",
    "        v_tot_loss = l1/len(v.dataset)\n",
    "        v_tot_acc = c1.float()/len(v.dataset)\n",
    "        tr_loss.append(tot_loss)\n",
    "        tr_corrects.append(tot_acc)\n",
    "        v_loss.append(v_tot_loss)\n",
    "        v_corrects.append(v_tot_acc)\n",
    "        print(\"after \",(count+1),\"iterations :training loss is \",tot_loss,\" and validation loss is \",v_tot_loss,\",training accuracy is \"\n",
    "              ,int(tot_acc.item()*100),\",validation accuracy is \",int(v_tot_acc.item()*100))\n",
    "    "
   ]
  },
  {
   "cell_type": "code",
   "execution_count": 22,
   "metadata": {
    "colab": {
     "base_uri": "https://localhost:8080/"
    },
    "colab_type": "code",
    "id": "lXCypxsP8LY9",
    "outputId": "0672aee0-a55b-4810-b5de-2798ebb2a145"
   },
   "outputs": [
    {
     "name": "stdout",
     "output_type": "stream",
     "text": [
      "tensor(0.4074)\n"
     ]
    }
   ],
   "source": [
    "c=0\n",
    "for inp,out in te:\n",
    "    results = net(inp)\n",
    "    out=out.type(torch.LongTensor)\n",
    "    loss=c_fn(results,out)\n",
    "    optimizer.zero_grad()\n",
    "    loss.backward()\n",
    "    optimizer.step()\n",
    "    temp,predictions=torch.max(results, 1)\n",
    "    c+=torch.sum(predictions==out.data)\n",
    "\n",
    "test_acc =c.float()/len(te.dataset)\n",
    "print(test_acc)"
   ]
  },
  {
   "cell_type": "code",
   "execution_count": 23,
   "metadata": {
    "colab": {
     "base_uri": "https://localhost:8080/"
    },
    "colab_type": "code",
    "id": "CU-cN-6Q8Kmc",
    "outputId": "07a209fc-3b5c-4357-9cbb-7a29ac81851e"
   },
   "outputs": [
    {
     "data": {
      "image/png": "[encoded data removed]",
      "text/plain": [
       "<Figure size 432x288 with 1 Axes>"
      ]
     },
     "metadata": {
      "needs_background": "light"
     },
     "output_type": "display_data"
    },
    {
     "data": {
      "image/png": "[encoded data removed]",
      "text/plain": [
       "<Figure size 432x288 with 1 Axes>"
      ]
     },
     "metadata": {
      "needs_background": "light"
     },
     "output_type": "display_data"
    }
   ],
   "source": [
    "plt.plot(tr_loss, label='training loss')\n",
    "plt.plot(v_loss, label='validation loss')\n",
    "plt.legend()\n",
    "plt.show()\n",
    "plt.plot(tr_corrects, label='training accuracy')\n",
    "plt.plot(v_corrects, label='validation accuracy')\n",
    "plt.legend()\n",
    "plt.show()"
   ]
  },
  {
   "cell_type": "code",
   "execution_count": null,
   "metadata": {
    "colab": {
     "base_uri": "https://localhost:8080/"
    },
    "colab_type": "code",
    "id": "Z7GV8X_R8Mb_",
    "outputId": "3e98497f-74dd-4e61-b31f-2958ec5aeedb"
   },
   "outputs": [],
   "source": []
  },
  {
   "cell_type": "code",
   "execution_count": null,
   "metadata": {
    "colab": {},
    "colab_type": "code",
    "id": "kyGvd_AdE5-G"
   },
   "outputs": [],
   "source": [
    " "
   ]
  },
  {
   "cell_type": "code",
   "execution_count": null,
   "metadata": {
    "colab": {},
    "colab_type": "code",
    "id": "RsyG2mZyHp2I"
   },
   "outputs": [],
   "source": []
  }
 ],
 "metadata": {
  "colab": {
   "collapsed_sections": [],
   "name": "3_2.ipynb",
   "provenance": []
  },
  "kernelspec": {
   "display_name": "Python 3",
   "language": "python",
   "name": "python3"
  },
  "language_info": {
   "codemirror_mode": {
    "name": "ipython",
    "version": 3
   },
   "file_extension": ".py",
   "mimetype": "text/x-python",
   "name": "python",
   "nbconvert_exporter": "python",
   "pygments_lexer": "ipython3",
   "version": "3.8.2"
  }
 },
 "nbformat": 4,
 "nbformat_minor": 1
}
