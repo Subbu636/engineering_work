{
 "cells": [
  {
   "cell_type": "code",
   "execution_count": 1,
   "metadata": {},
   "outputs": [],
   "source": [
    "import numpy as np"
   ]
  },
  {
   "cell_type": "code",
   "execution_count": 10,
   "metadata": {},
   "outputs": [],
   "source": [
    "f1 = open(\"a_example.in\",\"r\")\n",
    "s1 = f1.readline()\n",
    "s2 = f1.readline()\n",
    "l1 = s1.split()\n",
    "l2 = s2.split()\n",
    "f1.close()"
   ]
  },
  {
   "cell_type": "code",
   "execution_count": 11,
   "metadata": {},
   "outputs": [],
   "source": [
    "val = [int(i) for i in l2]\n",
    "W = int(l1[0])\n",
    "n = int(l1[1])"
   ]
  },
  {
   "cell_type": "code",
   "execution_count": 4,
   "metadata": {},
   "outputs": [],
   "source": [
    "ans = [[0 for i in range(W+1)] for j in range(n+1)]\n",
    "path = [[0 for i in range(W+1)] for j in range(n+1)]"
   ]
  },
  {
   "cell_type": "code",
   "execution_count": 5,
   "metadata": {},
   "outputs": [],
   "source": [
    "for a in range(n+1):\n",
    "    for m in range(W+1):\n",
    "        if a == 0 or m == 0 :\n",
    "            ans[a][m] = 0\n",
    "        elif val[a-1] <= m :\n",
    "            ans[a][m] = max(ans[a-1][m],ans[a-1][m - val[a-1]] + val[a-1])\n",
    "            if(ans[a-1][m] <= ans[a-1][m - val[a-1]] + val[a-1]):\n",
    "                path[a][m] = 1\n",
    "        else :\n",
    "            ans[a][m] = ans[a-1][m]"
   ]
  },
  {
   "cell_type": "code",
   "execution_count": 6,
   "metadata": {},
   "outputs": [
    {
     "data": {
      "text/plain": [
       "[[0, 0, 0, 0, 0, 0, 0, 0, 0, 0, 0, 0, 0, 0, 0, 0, 0, 0],\n",
       " [0, 0, 2, 2, 2, 2, 2, 2, 2, 2, 2, 2, 2, 2, 2, 2, 2, 2],\n",
       " [0, 0, 2, 2, 2, 5, 5, 7, 7, 7, 7, 7, 7, 7, 7, 7, 7, 7],\n",
       " [0, 0, 2, 2, 2, 5, 6, 7, 8, 8, 8, 11, 11, 13, 13, 13, 13, 13],\n",
       " [0, 0, 2, 2, 2, 5, 6, 7, 8, 8, 10, 11, 11, 13, 14, 15, 16, 16]]"
      ]
     },
     "execution_count": 6,
     "metadata": {},
     "output_type": "execute_result"
    }
   ],
   "source": [
    "ans"
   ]
  },
  {
   "cell_type": "code",
   "execution_count": null,
   "metadata": {},
   "outputs": [],
   "source": [
    "ans[n][W]"
   ]
  },
  {
   "cell_type": "code",
   "execution_count": null,
   "metadata": {},
   "outputs": [],
   "source": [
    "x = W\n",
    "y = n\n",
    "way = []\n",
    "while True :\n",
    "    if x <= 0 or y <= 0 :\n",
    "        break\n",
    "    if path[y][x] == 1 :\n",
    "        way.append(y-1)\n",
    "        x = x - val[y-1]\n",
    "        y = y - 1\n",
    "    else :\n",
    "        y = y - 1"
   ]
  },
  {
   "cell_type": "code",
   "execution_count": null,
   "metadata": {},
   "outputs": [],
   "source": [
    "way"
   ]
  },
  {
   "cell_type": "code",
   "execution_count": null,
   "metadata": {},
   "outputs": [],
   "source": [
    "f2 = open(\"sub4.txt\",\"w+\")\n",
    "s = len(way)\n",
    "out1 = str(s) + \"\\n\"\n",
    "out2 = \"\"\n",
    "for i in way :\n",
    "    out2 = str(i) + \" \" + out2\n",
    "f2.write(out1 + out2)"
   ]
  },
  {
   "cell_type": "code",
   "execution_count": 18,
   "metadata": {},
   "outputs": [],
   "source": [
    "a = [2,2,4,4]"
   ]
  },
  {
   "cell_type": "code",
   "execution_count": 20,
   "metadata": {},
   "outputs": [
    {
     "data": {
      "text/plain": [
       "2"
      ]
     },
     "execution_count": 20,
     "metadata": {},
     "output_type": "execute_result"
    }
   ],
   "source": [
    "len(set(a))"
   ]
  },
  {
   "cell_type": "code",
   "execution_count": 17,
   "metadata": {},
   "outputs": [
    {
     "data": {
      "text/plain": [
       "{2, 3}"
      ]
     },
     "execution_count": 17,
     "metadata": {},
     "output_type": "execute_result"
    }
   ],
   "source": []
  },
  {
   "cell_type": "code",
   "execution_count": null,
   "metadata": {},
   "outputs": [],
   "source": []
  }
 ],
 "metadata": {
  "kernelspec": {
   "display_name": "Python 3",
   "language": "python",
   "name": "python3"
  },
  "language_info": {
   "codemirror_mode": {
    "name": "ipython",
    "version": 3
   },
   "file_extension": ".py",
   "mimetype": "text/x-python",
   "name": "python",
   "nbconvert_exporter": "python",
   "pygments_lexer": "ipython3",
   "version": "3.7.4"
  }
 },
 "nbformat": 4,
 "nbformat_minor": 2
}
