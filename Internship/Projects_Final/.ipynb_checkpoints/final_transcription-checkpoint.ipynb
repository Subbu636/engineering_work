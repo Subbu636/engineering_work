{
 "cells": [
  {
   "cell_type": "code",
   "execution_count": 1,
   "metadata": {},
   "outputs": [],
   "source": [
    "# constant parameters (one time setup)\n",
    "\n",
    "path_to_directory = \"/home/subbu/PRML/Internship/p1/\"\n",
    "path_to_bucket = \"gs://gigx-files\"\n",
    "path_to_json = \"/home/subbu/PRML/Internship/p1/gigx-intern-cd3dfc7a1eca.json\"\n",
    "bucket_name = \"gigx-files\"\n",
    "\n",
    "# imports\n",
    "\n",
    "import io\n",
    "import os\n",
    "from google.cloud import speech_v1p1beta1\n",
    "from google.cloud import speech_v1\n",
    "from google.cloud import speech\n",
    "from google.cloud.speech import enums\n",
    "from google.cloud.speech import types\n",
    "from gcloud import storage\n",
    "from oauth2client.service_account import ServiceAccountCredentials\n",
    "import audioread\n",
    "import glob\n",
    "import time"
   ]
  },
  {
   "cell_type": "code",
   "execution_count": 2,
   "metadata": {},
   "outputs": [],
   "source": [
    "# Main Function\n",
    "\n",
    "def process_audio(audio,config,client,lengthy):\n",
    "    if(lengthy):\n",
    "        operation = client.long_running_recognize(config, audio)\n",
    "        response = operation.result()\n",
    "    else:\n",
    "        response = client.recognize(config, audio)\n",
    "    return response\n",
    "\n",
    "def extract_output(response,separation):\n",
    "    tot = 0\n",
    "    cnt = 0\n",
    "    output = \"\"\n",
    "    for result in response.results:\n",
    "        tot = tot + result.alternatives[0].confidence\n",
    "        cnt = cnt + 1\n",
    "        alternative = result.alternatives[0]\n",
    "        if(separation):\n",
    "            output = output + (str(result.channel_tag)+\" : \"+alternative.transcript+\"\\n\")\n",
    "        else:\n",
    "            output = output + (alternative.transcript+\"\\n\")\n",
    "    conf = int((tot/cnt)*100)\n",
    "    return output,conf\n",
    "\n",
    "def main_transcription_process(file_name_param,primary_language_code_param,separation_param):\n",
    "    \n",
    "    client = speech_v1.SpeechClient()\n",
    "    \n",
    "    audio = {\"uri\": path_to_bucket+file_name_param}\n",
    "    \n",
    "    with audioread.audio_open(file_name_param) as ft:\n",
    "        print(\"audio info : \",end=\"\")\n",
    "        print(ft.channels, ft.samplerate, ft.duration)\n",
    "        num_channels = ft.channels\n",
    "        sample_bit_rate = ft.samplerate\n",
    "        duration = ft.duration\n",
    "        ft.close()\n",
    "    \n",
    "    if(duration > 58):\n",
    "        lengthy = True\n",
    "    else:\n",
    "        lengthy = False\n",
    "    \n",
    "    configuration = {\n",
    "        \"sample_rate_hertz\": sample_bit_rate,\n",
    "        \"audio_channel_count\": num_channels,\n",
    "        \"enable_separate_recognition_per_channel\": separation_param,\n",
    "        \"language_code\": primary_language_code_param,\n",
    "        \"enable_automatic_punctuation\": True,\n",
    "        \"use_enhanced\": True,\n",
    "    }\n",
    "    \n",
    "    response = process_audio(audio,configuration,client,lengthy)\n",
    "    \n",
    "    output,confidence = extract_output(response,separation_param)\n",
    "        \n",
    "    if(confidence < 70):\n",
    "        output = \"Bad audio data, cannot be transcripted\"\n",
    "    \n",
    "    return output, confidence\n",
    "\n",
    "def data_transcriptor(file_name_param,primary_language_code_param,separation_param):\n",
    "    \n",
    "    try:\n",
    "        out_info = main_transcription_process(file_name_param,primary_language_code_param,separation_param)\n",
    "    except:\n",
    "        out_info = \"Bad input, refer document for specifications\", 0\n",
    "    print(out_info)\n",
    "    identity = file_name_param[:file_name_param.index('.')]\n",
    "    file = open(identity+'_transcript.txt',\"w+\") \n",
    "    file.write(out_info[0]+\"\\nConfidence: \"+str(out_info[1]))\n",
    "    file.close()\n",
    "    \n",
    "    storage_client = storage.Client.from_service_account_json(path_to_json)\n",
    "    bucket = storage_client.get_bucket(bucket_name )\n",
    "    blob = bucket.blob(identity+'_transcript.txt')\n",
    "    blob.upload_from_filename(identity+'_transcript.txt')\n",
    "    \n",
    "    os.remove(identity+'_transcript.txt')"
   ]
  },
  {
   "cell_type": "code",
   "execution_count": 3,
   "metadata": {},
   "outputs": [
    {
     "name": "stdout",
     "output_type": "stream",
     "text": [
      "('Bad input, refer document for specifications', 0)\n"
     ]
    },
    {
     "ename": "Forbidden",
     "evalue": "403 gigx-transcripts@gigx-intern.iam.gserviceaccount.com does not have storage.buckets.get access to gigx-files. (GET https://www.googleapis.com/storage/v1/b/gigx-files?projection=noAcl)",
     "output_type": "error",
     "traceback": [
      "\u001b[0;31m---------------------------------------------------------------------------\u001b[0m",
      "\u001b[0;31mForbidden\u001b[0m                                 Traceback (most recent call last)",
      "\u001b[0;32m<ipython-input-3-3c32d78fc0bf>\u001b[0m in \u001b[0;36m<module>\u001b[0;34m\u001b[0m\n\u001b[1;32m      7\u001b[0m \u001b[0mprimary_language_code_param\u001b[0m \u001b[0;34m=\u001b[0m \u001b[0;34m\"en\"\u001b[0m\u001b[0;34m\u001b[0m\u001b[0;34m\u001b[0m\u001b[0m\n\u001b[1;32m      8\u001b[0m \u001b[0;34m\u001b[0m\u001b[0m\n\u001b[0;32m----> 9\u001b[0;31m \u001b[0mdata_transcriptor\u001b[0m\u001b[0;34m(\u001b[0m\u001b[0mfile_name_param\u001b[0m\u001b[0;34m,\u001b[0m\u001b[0mprimary_language_code_param\u001b[0m\u001b[0;34m,\u001b[0m\u001b[0mseparation_param\u001b[0m\u001b[0;34m)\u001b[0m\u001b[0;34m\u001b[0m\u001b[0;34m\u001b[0m\u001b[0m\n\u001b[0m",
      "\u001b[0;32m<ipython-input-2-c543555a8370>\u001b[0m in \u001b[0;36mdata_transcriptor\u001b[0;34m(file_name_param, primary_language_code_param, separation_param)\u001b[0m\n\u001b[1;32m     74\u001b[0m \u001b[0;34m\u001b[0m\u001b[0m\n\u001b[1;32m     75\u001b[0m     \u001b[0mstorage_client\u001b[0m \u001b[0;34m=\u001b[0m \u001b[0mstorage\u001b[0m\u001b[0;34m.\u001b[0m\u001b[0mClient\u001b[0m\u001b[0;34m.\u001b[0m\u001b[0mfrom_service_account_json\u001b[0m\u001b[0;34m(\u001b[0m\u001b[0mpath_to_json\u001b[0m\u001b[0;34m)\u001b[0m\u001b[0;34m\u001b[0m\u001b[0;34m\u001b[0m\u001b[0m\n\u001b[0;32m---> 76\u001b[0;31m     \u001b[0mbucket\u001b[0m \u001b[0;34m=\u001b[0m \u001b[0mstorage_client\u001b[0m\u001b[0;34m.\u001b[0m\u001b[0mget_bucket\u001b[0m\u001b[0;34m(\u001b[0m\u001b[0mbucket_name\u001b[0m \u001b[0;34m)\u001b[0m\u001b[0;34m\u001b[0m\u001b[0;34m\u001b[0m\u001b[0m\n\u001b[0m\u001b[1;32m     77\u001b[0m     \u001b[0mblob\u001b[0m \u001b[0;34m=\u001b[0m \u001b[0mbucket\u001b[0m\u001b[0;34m.\u001b[0m\u001b[0mblob\u001b[0m\u001b[0;34m(\u001b[0m\u001b[0midentity\u001b[0m\u001b[0;34m+\u001b[0m\u001b[0;34m'_transcript.txt'\u001b[0m\u001b[0;34m)\u001b[0m\u001b[0;34m\u001b[0m\u001b[0;34m\u001b[0m\u001b[0m\n\u001b[1;32m     78\u001b[0m     \u001b[0mblob\u001b[0m\u001b[0;34m.\u001b[0m\u001b[0mupload_from_filename\u001b[0m\u001b[0;34m(\u001b[0m\u001b[0midentity\u001b[0m\u001b[0;34m+\u001b[0m\u001b[0;34m'_transcript.txt'\u001b[0m\u001b[0;34m)\u001b[0m\u001b[0;34m\u001b[0m\u001b[0;34m\u001b[0m\u001b[0m\n",
      "\u001b[0;32m~/anaconda3/lib/python3.7/site-packages/gcloud/storage/client.py\u001b[0m in \u001b[0;36mget_bucket\u001b[0;34m(self, bucket_name)\u001b[0m\n\u001b[1;32m    165\u001b[0m         \"\"\"\n\u001b[1;32m    166\u001b[0m         \u001b[0mbucket\u001b[0m \u001b[0;34m=\u001b[0m \u001b[0mBucket\u001b[0m\u001b[0;34m(\u001b[0m\u001b[0mself\u001b[0m\u001b[0;34m,\u001b[0m \u001b[0mname\u001b[0m\u001b[0;34m=\u001b[0m\u001b[0mbucket_name\u001b[0m\u001b[0;34m)\u001b[0m\u001b[0;34m\u001b[0m\u001b[0;34m\u001b[0m\u001b[0m\n\u001b[0;32m--> 167\u001b[0;31m         \u001b[0mbucket\u001b[0m\u001b[0;34m.\u001b[0m\u001b[0mreload\u001b[0m\u001b[0;34m(\u001b[0m\u001b[0mclient\u001b[0m\u001b[0;34m=\u001b[0m\u001b[0mself\u001b[0m\u001b[0;34m)\u001b[0m\u001b[0;34m\u001b[0m\u001b[0;34m\u001b[0m\u001b[0m\n\u001b[0m\u001b[1;32m    168\u001b[0m         \u001b[0;32mreturn\u001b[0m \u001b[0mbucket\u001b[0m\u001b[0;34m\u001b[0m\u001b[0;34m\u001b[0m\u001b[0m\n\u001b[1;32m    169\u001b[0m \u001b[0;34m\u001b[0m\u001b[0m\n",
      "\u001b[0;32m~/anaconda3/lib/python3.7/site-packages/gcloud/storage/_helpers.py\u001b[0m in \u001b[0;36mreload\u001b[0;34m(self, client)\u001b[0m\n\u001b[1;32m     75\u001b[0m         api_response = client.connection.api_request(\n\u001b[1;32m     76\u001b[0m             \u001b[0mmethod\u001b[0m\u001b[0;34m=\u001b[0m\u001b[0;34m'GET'\u001b[0m\u001b[0;34m,\u001b[0m \u001b[0mpath\u001b[0m\u001b[0;34m=\u001b[0m\u001b[0mself\u001b[0m\u001b[0;34m.\u001b[0m\u001b[0mpath\u001b[0m\u001b[0;34m,\u001b[0m \u001b[0mquery_params\u001b[0m\u001b[0;34m=\u001b[0m\u001b[0mquery_params\u001b[0m\u001b[0;34m,\u001b[0m\u001b[0;34m\u001b[0m\u001b[0;34m\u001b[0m\u001b[0m\n\u001b[0;32m---> 77\u001b[0;31m             _target_object=self)\n\u001b[0m\u001b[1;32m     78\u001b[0m         \u001b[0mself\u001b[0m\u001b[0;34m.\u001b[0m\u001b[0m_set_properties\u001b[0m\u001b[0;34m(\u001b[0m\u001b[0mapi_response\u001b[0m\u001b[0;34m)\u001b[0m\u001b[0;34m\u001b[0m\u001b[0;34m\u001b[0m\u001b[0m\n\u001b[1;32m     79\u001b[0m \u001b[0;34m\u001b[0m\u001b[0m\n",
      "\u001b[0;32m~/anaconda3/lib/python3.7/site-packages/gcloud/connection.py\u001b[0m in \u001b[0;36mapi_request\u001b[0;34m(self, method, path, query_params, data, content_type, api_base_url, api_version, expect_json, _target_object)\u001b[0m\n\u001b[1;32m    345\u001b[0m         \u001b[0;32mif\u001b[0m \u001b[0;32mnot\u001b[0m \u001b[0;36m200\u001b[0m \u001b[0;34m<=\u001b[0m \u001b[0mresponse\u001b[0m\u001b[0;34m.\u001b[0m\u001b[0mstatus\u001b[0m \u001b[0;34m<\u001b[0m \u001b[0;36m300\u001b[0m\u001b[0;34m:\u001b[0m\u001b[0;34m\u001b[0m\u001b[0;34m\u001b[0m\u001b[0m\n\u001b[1;32m    346\u001b[0m             raise make_exception(response, content,\n\u001b[0;32m--> 347\u001b[0;31m                                  error_info=method + ' ' + url)\n\u001b[0m\u001b[1;32m    348\u001b[0m \u001b[0;34m\u001b[0m\u001b[0m\n\u001b[1;32m    349\u001b[0m         \u001b[0mstring_or_bytes\u001b[0m \u001b[0;34m=\u001b[0m \u001b[0;34m(\u001b[0m\u001b[0msix\u001b[0m\u001b[0;34m.\u001b[0m\u001b[0mbinary_type\u001b[0m\u001b[0;34m,\u001b[0m \u001b[0msix\u001b[0m\u001b[0;34m.\u001b[0m\u001b[0mtext_type\u001b[0m\u001b[0;34m)\u001b[0m\u001b[0;34m\u001b[0m\u001b[0;34m\u001b[0m\u001b[0m\n",
      "\u001b[0;31mForbidden\u001b[0m: 403 gigx-transcripts@gigx-intern.iam.gserviceaccount.com does not have storage.buckets.get access to gigx-files. (GET https://www.googleapis.com/storage/v1/b/gigx-files?projection=noAcl)"
     ]
    }
   ],
   "source": [
    "# trail run\n",
    "\n",
    "file_name_param = \"test.wav\"\n",
    "\n",
    "separation_param = False\n",
    "\n",
    "primary_language_code_param = \"en\"\n",
    "\n",
    "data_transcriptor(file_name_param,primary_language_code_param,separation_param)"
   ]
  },
  {
   "cell_type": "code",
   "execution_count": null,
   "metadata": {},
   "outputs": [],
   "source": []
  }
 ],
 "metadata": {
  "kernelspec": {
   "display_name": "Python 3",
   "language": "python",
   "name": "python3"
  },
  "language_info": {
   "codemirror_mode": {
    "name": "ipython",
    "version": 3
   },
   "file_extension": ".py",
   "mimetype": "text/x-python",
   "name": "python",
   "nbconvert_exporter": "python",
   "pygments_lexer": "ipython3",
   "version": "3.7.4"
  }
 },
 "nbformat": 4,
 "nbformat_minor": 2
}
