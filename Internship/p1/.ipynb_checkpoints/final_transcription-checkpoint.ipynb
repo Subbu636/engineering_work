{
 "cells": [
  {
   "cell_type": "code",
   "execution_count": 13,
   "metadata": {},
   "outputs": [],
   "source": [
    "# constant parameters (one time setup)\n",
    "\n",
    "path_to_directory = \"/home/subbu/PRML/Internship/p1/\"\n",
    "path_to_bucket = \"gs://gigx-transcripts/\"\n",
    "path_to_json = \"/home/subbu/PRML/Internship/p1/gigx-transcripts-0ecdc4339e45.json\"\n",
    "bucket_name = \"gigx-transcripts\"\n",
    "\n",
    "# imports\n",
    "\n",
    "import io\n",
    "import os\n",
    "from google.cloud import speech_v1p1beta1\n",
    "from google.cloud import speech_v1\n",
    "from google.cloud import speech\n",
    "from google.cloud.speech import enums\n",
    "from google.cloud.speech import types\n",
    "from gcloud import storage\n",
    "from oauth2client.service_account import ServiceAccountCredentials\n",
    "import audioread\n",
    "import glob\n",
    "import time"
   ]
  },
  {
   "cell_type": "code",
   "execution_count": null,
   "metadata": {},
   "outputs": [],
   "source": []
  },
  {
   "cell_type": "code",
   "execution_count": 14,
   "metadata": {},
   "outputs": [],
   "source": [
    "# Main Function\n",
    "\n",
    "def process_audio(audio,config,client,lengthy):\n",
    "    if(lengthy):\n",
    "        operation = client.long_running_recognize(config, audio)\n",
    "        response = operation.result()\n",
    "    else:\n",
    "        response = client.recognize(config, audio)\n",
    "    return response\n",
    "\n",
    "def extract_output(response,separation):\n",
    "    tot = 0\n",
    "    cnt = 0\n",
    "    output = \"\"\n",
    "    for result in response.results:\n",
    "        tot = tot + result.alternatives[0].confidence\n",
    "        cnt = cnt + 1\n",
    "        alternative = result.alternatives[0]\n",
    "        if(separation):\n",
    "            output = output + (str(result.channel_tag)+\" : \"+alternative.transcript+\"\\n\")\n",
    "        else:\n",
    "            output = output + (alternative.transcript+\"\\n\")\n",
    "    conf = int((tot/cnt)*100)\n",
    "    return output,conf\n",
    "\n",
    "def main_transcription_process(file_name_param,primary_language_code_param,separation_param):\n",
    "    \n",
    "    client = speech_v1.SpeechClient()\n",
    "    \n",
    "    audio = {\"uri\": path_to_bucket+file_name_param}\n",
    "    \n",
    "    with audioread.audio_open(file_name_param) as ft:\n",
    "        print(\"audio info : \",end=\"\")\n",
    "        print(ft.channels, ft.samplerate, ft.duration)\n",
    "        num_channels = ft.channels\n",
    "        sample_bit_rate = ft.samplerate\n",
    "        duration = ft.duration\n",
    "        ft.close()\n",
    "    \n",
    "    if(duration > 58):\n",
    "        lengthy = True\n",
    "    else:\n",
    "        lengthy = False\n",
    "    \n",
    "    configuration = {\n",
    "        \"sample_rate_hertz\": sample_bit_rate,\n",
    "        \"audio_channel_count\": num_channels,\n",
    "        \"enable_separate_recognition_per_channel\": separation_param,\n",
    "        \"language_code\": primary_language_code_param,\n",
    "        \"enable_automatic_punctuation\": True,\n",
    "        \"use_enhanced\": True,\n",
    "    }\n",
    "    \n",
    "    response = process_audio(audio,configuration,client,lengthy)\n",
    "    \n",
    "    output,confidence = extract_output(response,separation_param)\n",
    "        \n",
    "    if(confidence < 70):\n",
    "        output = \"Bad audio data, cannot be transcripted\"\n",
    "    \n",
    "    return output, confidence\n",
    "\n",
    "def data_transcriptor(file_name_param,primary_language_code_param,separation_param):\n",
    "    \n",
    "    try:\n",
    "        out_info = main_transcription_process(file_name_param,primary_language_code_param,separation_param)\n",
    "    except:\n",
    "        out_info = \"Bad input, refer document for specifications\", 0\n",
    "    print(out_info)\n",
    "    identity = file_name_param[:file_name_param.index('.')]\n",
    "    file = open(identity+'_transcript.txt',\"w+\") \n",
    "    file.write(out_info[0]+\"\\nConfidence: \"+str(out_info[1]))\n",
    "    file.close()\n",
    "    \n",
    "    storage_client = storage.Client.from_service_account_json(path_to_json)\n",
    "    bucket = storage_client.get_bucket(bucket_name )\n",
    "    blob = bucket.blob(identity+'_transcript.txt')\n",
    "    blob.upload_from_filename(identity+'_transcript.txt')\n",
    "    \n",
    "    os.remove(identity+'_transcript.txt')"
   ]
  },
  {
   "cell_type": "code",
   "execution_count": 15,
   "metadata": {},
   "outputs": [
    {
     "name": "stdout",
     "output_type": "stream",
     "text": [
      "('Bad input, refer document for specifications', 0)\n"
     ]
    },
    {
     "ename": "OSError",
     "evalue": "Project was not passed and could not be determined from the environment.",
     "output_type": "error",
     "traceback": [
      "\u001b[0;31m---------------------------------------------------------------------------\u001b[0m",
      "\u001b[0;31mOSError\u001b[0m                                   Traceback (most recent call last)",
      "\u001b[0;32m<ipython-input-15-3c32d78fc0bf>\u001b[0m in \u001b[0;36m<module>\u001b[0;34m\u001b[0m\n\u001b[1;32m      7\u001b[0m \u001b[0mprimary_language_code_param\u001b[0m \u001b[0;34m=\u001b[0m \u001b[0;34m\"en\"\u001b[0m\u001b[0;34m\u001b[0m\u001b[0;34m\u001b[0m\u001b[0m\n\u001b[1;32m      8\u001b[0m \u001b[0;34m\u001b[0m\u001b[0m\n\u001b[0;32m----> 9\u001b[0;31m \u001b[0mdata_transcriptor\u001b[0m\u001b[0;34m(\u001b[0m\u001b[0mfile_name_param\u001b[0m\u001b[0;34m,\u001b[0m\u001b[0mprimary_language_code_param\u001b[0m\u001b[0;34m,\u001b[0m\u001b[0mseparation_param\u001b[0m\u001b[0;34m)\u001b[0m\u001b[0;34m\u001b[0m\u001b[0;34m\u001b[0m\u001b[0m\n\u001b[0m",
      "\u001b[0;32m<ipython-input-14-c543555a8370>\u001b[0m in \u001b[0;36mdata_transcriptor\u001b[0;34m(file_name_param, primary_language_code_param, separation_param)\u001b[0m\n\u001b[1;32m     73\u001b[0m     \u001b[0mfile\u001b[0m\u001b[0;34m.\u001b[0m\u001b[0mclose\u001b[0m\u001b[0;34m(\u001b[0m\u001b[0;34m)\u001b[0m\u001b[0;34m\u001b[0m\u001b[0;34m\u001b[0m\u001b[0m\n\u001b[1;32m     74\u001b[0m \u001b[0;34m\u001b[0m\u001b[0m\n\u001b[0;32m---> 75\u001b[0;31m     \u001b[0mstorage_client\u001b[0m \u001b[0;34m=\u001b[0m \u001b[0mstorage\u001b[0m\u001b[0;34m.\u001b[0m\u001b[0mClient\u001b[0m\u001b[0;34m.\u001b[0m\u001b[0mfrom_service_account_json\u001b[0m\u001b[0;34m(\u001b[0m\u001b[0mpath_to_json\u001b[0m\u001b[0;34m)\u001b[0m\u001b[0;34m\u001b[0m\u001b[0;34m\u001b[0m\u001b[0m\n\u001b[0m\u001b[1;32m     76\u001b[0m     \u001b[0mbucket\u001b[0m \u001b[0;34m=\u001b[0m \u001b[0mstorage_client\u001b[0m\u001b[0;34m.\u001b[0m\u001b[0mget_bucket\u001b[0m\u001b[0;34m(\u001b[0m\u001b[0mbucket_name\u001b[0m \u001b[0;34m)\u001b[0m\u001b[0;34m\u001b[0m\u001b[0;34m\u001b[0m\u001b[0m\n\u001b[1;32m     77\u001b[0m     \u001b[0mblob\u001b[0m \u001b[0;34m=\u001b[0m \u001b[0mbucket\u001b[0m\u001b[0;34m.\u001b[0m\u001b[0mblob\u001b[0m\u001b[0;34m(\u001b[0m\u001b[0midentity\u001b[0m\u001b[0;34m+\u001b[0m\u001b[0;34m'_transcript.txt'\u001b[0m\u001b[0;34m)\u001b[0m\u001b[0;34m\u001b[0m\u001b[0;34m\u001b[0m\u001b[0m\n",
      "\u001b[0;32m~/anaconda3/lib/python3.7/site-packages/gcloud/client.py\u001b[0m in \u001b[0;36mfrom_service_account_json\u001b[0;34m(cls, json_credentials_path, *args, **kwargs)\u001b[0m\n\u001b[1;32m     59\u001b[0m             json_credentials_path)\n\u001b[1;32m     60\u001b[0m         \u001b[0mkwargs\u001b[0m\u001b[0;34m[\u001b[0m\u001b[0;34m'credentials'\u001b[0m\u001b[0;34m]\u001b[0m \u001b[0;34m=\u001b[0m \u001b[0mcredentials\u001b[0m\u001b[0;34m\u001b[0m\u001b[0;34m\u001b[0m\u001b[0m\n\u001b[0;32m---> 61\u001b[0;31m         \u001b[0;32mreturn\u001b[0m \u001b[0mcls\u001b[0m\u001b[0;34m(\u001b[0m\u001b[0;34m*\u001b[0m\u001b[0margs\u001b[0m\u001b[0;34m,\u001b[0m \u001b[0;34m**\u001b[0m\u001b[0mkwargs\u001b[0m\u001b[0;34m)\u001b[0m\u001b[0;34m\u001b[0m\u001b[0;34m\u001b[0m\u001b[0m\n\u001b[0m\u001b[1;32m     62\u001b[0m \u001b[0;34m\u001b[0m\u001b[0m\n\u001b[1;32m     63\u001b[0m     \u001b[0;34m@\u001b[0m\u001b[0mclassmethod\u001b[0m\u001b[0;34m\u001b[0m\u001b[0;34m\u001b[0m\u001b[0m\n",
      "\u001b[0;32m~/anaconda3/lib/python3.7/site-packages/gcloud/storage/client.py\u001b[0m in \u001b[0;36m__init__\u001b[0;34m(self, project, credentials, http)\u001b[0m\n\u001b[1;32m     51\u001b[0m         \u001b[0mself\u001b[0m\u001b[0;34m.\u001b[0m\u001b[0m_connection\u001b[0m \u001b[0;34m=\u001b[0m \u001b[0;32mNone\u001b[0m\u001b[0;34m\u001b[0m\u001b[0;34m\u001b[0m\u001b[0m\n\u001b[1;32m     52\u001b[0m         super(Client, self).__init__(project=project, credentials=credentials,\n\u001b[0;32m---> 53\u001b[0;31m                                      http=http)\n\u001b[0m\u001b[1;32m     54\u001b[0m         \u001b[0mself\u001b[0m\u001b[0;34m.\u001b[0m\u001b[0m_batch_stack\u001b[0m \u001b[0;34m=\u001b[0m \u001b[0m_LocalStack\u001b[0m\u001b[0;34m(\u001b[0m\u001b[0;34m)\u001b[0m\u001b[0;34m\u001b[0m\u001b[0;34m\u001b[0m\u001b[0m\n\u001b[1;32m     55\u001b[0m \u001b[0;34m\u001b[0m\u001b[0m\n",
      "\u001b[0;32m~/anaconda3/lib/python3.7/site-packages/gcloud/client.py\u001b[0m in \u001b[0;36m__init__\u001b[0;34m(self, project, credentials, http)\u001b[0m\n\u001b[1;32m    183\u001b[0m \u001b[0;34m\u001b[0m\u001b[0m\n\u001b[1;32m    184\u001b[0m     \u001b[0;32mdef\u001b[0m \u001b[0m__init__\u001b[0m\u001b[0;34m(\u001b[0m\u001b[0mself\u001b[0m\u001b[0;34m,\u001b[0m \u001b[0mproject\u001b[0m\u001b[0;34m=\u001b[0m\u001b[0;32mNone\u001b[0m\u001b[0;34m,\u001b[0m \u001b[0mcredentials\u001b[0m\u001b[0;34m=\u001b[0m\u001b[0;32mNone\u001b[0m\u001b[0;34m,\u001b[0m \u001b[0mhttp\u001b[0m\u001b[0;34m=\u001b[0m\u001b[0;32mNone\u001b[0m\u001b[0;34m)\u001b[0m\u001b[0;34m:\u001b[0m\u001b[0;34m\u001b[0m\u001b[0;34m\u001b[0m\u001b[0m\n\u001b[0;32m--> 185\u001b[0;31m         \u001b[0m_ClientProjectMixin\u001b[0m\u001b[0;34m.\u001b[0m\u001b[0m__init__\u001b[0m\u001b[0;34m(\u001b[0m\u001b[0mself\u001b[0m\u001b[0;34m,\u001b[0m \u001b[0mproject\u001b[0m\u001b[0;34m=\u001b[0m\u001b[0mproject\u001b[0m\u001b[0;34m)\u001b[0m\u001b[0;34m\u001b[0m\u001b[0;34m\u001b[0m\u001b[0m\n\u001b[0m\u001b[1;32m    186\u001b[0m         \u001b[0mClient\u001b[0m\u001b[0;34m.\u001b[0m\u001b[0m__init__\u001b[0m\u001b[0;34m(\u001b[0m\u001b[0mself\u001b[0m\u001b[0;34m,\u001b[0m \u001b[0mcredentials\u001b[0m\u001b[0;34m=\u001b[0m\u001b[0mcredentials\u001b[0m\u001b[0;34m,\u001b[0m \u001b[0mhttp\u001b[0m\u001b[0;34m=\u001b[0m\u001b[0mhttp\u001b[0m\u001b[0;34m)\u001b[0m\u001b[0;34m\u001b[0m\u001b[0;34m\u001b[0m\u001b[0m\n",
      "\u001b[0;32m~/anaconda3/lib/python3.7/site-packages/gcloud/client.py\u001b[0m in \u001b[0;36m__init__\u001b[0;34m(self, project)\u001b[0m\n\u001b[1;32m    141\u001b[0m         \u001b[0mproject\u001b[0m \u001b[0;34m=\u001b[0m \u001b[0mself\u001b[0m\u001b[0;34m.\u001b[0m\u001b[0m_determine_default\u001b[0m\u001b[0;34m(\u001b[0m\u001b[0mproject\u001b[0m\u001b[0;34m)\u001b[0m\u001b[0;34m\u001b[0m\u001b[0;34m\u001b[0m\u001b[0m\n\u001b[1;32m    142\u001b[0m         \u001b[0;32mif\u001b[0m \u001b[0mproject\u001b[0m \u001b[0;32mis\u001b[0m \u001b[0;32mNone\u001b[0m\u001b[0;34m:\u001b[0m\u001b[0;34m\u001b[0m\u001b[0;34m\u001b[0m\u001b[0m\n\u001b[0;32m--> 143\u001b[0;31m             raise EnvironmentError('Project was not passed and could not be '\n\u001b[0m\u001b[1;32m    144\u001b[0m                                    'determined from the environment.')\n\u001b[1;32m    145\u001b[0m         \u001b[0;32mif\u001b[0m \u001b[0misinstance\u001b[0m\u001b[0;34m(\u001b[0m\u001b[0mproject\u001b[0m\u001b[0;34m,\u001b[0m \u001b[0msix\u001b[0m\u001b[0;34m.\u001b[0m\u001b[0mbinary_type\u001b[0m\u001b[0;34m)\u001b[0m\u001b[0;34m:\u001b[0m\u001b[0;34m\u001b[0m\u001b[0;34m\u001b[0m\u001b[0m\n",
      "\u001b[0;31mOSError\u001b[0m: Project was not passed and could not be determined from the environment."
     ]
    }
   ],
   "source": [
    "# trail run\n",
    "\n",
    "file_name_param = \"test.wav\"\n",
    "\n",
    "separation_param = False\n",
    "\n",
    "primary_language_code_param = \"en\"\n",
    "\n",
    "data_transcriptor(file_name_param,primary_language_code_param,separation_param)"
   ]
  },
  {
   "cell_type": "code",
   "execution_count": null,
   "metadata": {},
   "outputs": [],
   "source": []
  }
 ],
 "metadata": {
  "kernelspec": {
   "display_name": "Python 3",
   "language": "python",
   "name": "python3"
  },
  "language_info": {
   "codemirror_mode": {
    "name": "ipython",
    "version": 3
   },
   "file_extension": ".py",
   "mimetype": "text/x-python",
   "name": "python",
   "nbconvert_exporter": "python",
   "pygments_lexer": "ipython3",
   "version": "3.7.4"
  }
 },
 "nbformat": 4,
 "nbformat_minor": 2
}
