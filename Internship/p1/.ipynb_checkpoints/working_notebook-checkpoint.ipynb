{
 "cells": [
  {
   "cell_type": "markdown",
   "metadata": {},
   "source": [
    "# Using open source google speech to text"
   ]
  },
  {
   "cell_type": "code",
   "execution_count": 37,
   "metadata": {},
   "outputs": [
    {
     "data": {
      "text/plain": [
       "'3.8.1'"
      ]
     },
     "execution_count": 37,
     "metadata": {},
     "output_type": "execute_result"
    }
   ],
   "source": [
    "import speech_recognition as sr\n",
    "\n",
    "sr.__version__"
   ]
  },
  {
   "cell_type": "code",
   "execution_count": 38,
   "metadata": {},
   "outputs": [],
   "source": [
    "rec = sr.Recognizer()"
   ]
  },
  {
   "cell_type": "code",
   "execution_count": 43,
   "metadata": {},
   "outputs": [
    {
     "data": {
      "text/plain": [
       "speech_recognition.AudioData"
      ]
     },
     "execution_count": 43,
     "metadata": {},
     "output_type": "execute_result"
    }
   ],
   "source": [
    "aud_data = sr.AudioFile('cv2.flac')\n",
    "with aud_data as source:\n",
    "    # reduction of bg noise, 0.2 makes sure that first word isnt cutout\n",
    "    rec.adjust_for_ambient_noise(source,duration = 0.2)\n",
    "    audio = rec.record(source)\n",
    "type(audio)"
   ]
  },
  {
   "cell_type": "code",
   "execution_count": 44,
   "metadata": {},
   "outputs": [
    {
     "name": "stdout",
     "output_type": "stream",
     "text": [
      "Text output: \n",
      "hi my name is Abhijit Kulkarni postgraduate International Hospitality Management from Auckland University of Technology New Zealand in this industry is my passion for food and beverage department education is supported by experience 6566 of industrial training in five star properties like Taj residency and sons and both in India currently I am working with Rendezvous hospitality group New Zealand 5th may 2009 and focused and dedicated towards any job given to me also a very fast learner personal speaking I like to work under pressure because I think it is false confidence with me for example the club Lounge I am handling at the moment is very busy for both morning breakfast as well as evening drink but I'm unable to handle this very effectively I tell that is Because lot of us have given positive feedback about my service to the management also whenever a restaurant get busy mysterious tense me to give them a heart I take this as a reward my student maximum experience and knowledge within fnb department which will take me to the responsible position within the same department and I am sure that my experience and knowledge is God help me that as far as job is concerned I don't have measure weaknesses but knowledge is unlimited Ammo to keep on learning new things and practices within the hospitality industry and flexible about salary and salad of second to experience and knowledge and as a hospitality graduate I am interested in this job and I thank you very much for giving my video resume I would like to tell you that I have references which letters my professionalism and thank you very much\n"
     ]
    }
   ],
   "source": [
    "try:\n",
    "    print('Text output: \\n'+rec.recognize_google(audio))\n",
    "except:\n",
    "    print('Audio file cannot be transcripted')\n",
    "# this nural net has a confidence of around 70%"
   ]
  },
  {
   "cell_type": "markdown",
   "metadata": {},
   "source": []
  },
  {
   "cell_type": "markdown",
   "metadata": {},
   "source": [
    "# Using cloud speech api"
   ]
  },
  {
   "cell_type": "code",
   "execution_count": 1,
   "metadata": {},
   "outputs": [],
   "source": [
    "# Imports the Google Cloud client library\n",
    "\n",
    "import io\n",
    "import os\n",
    "from google.cloud import speech_v1p1beta1\n",
    "from google.cloud import speech_v1\n",
    "from google.cloud import speech\n",
    "from google.cloud.speech import enums\n",
    "from google.cloud.speech import types\n",
    "from gcloud import storage\n",
    "from oauth2client.service_account import ServiceAccountCredentials\n",
    "import audioread"
   ]
  },
  {
   "cell_type": "code",
   "execution_count": 57,
   "metadata": {},
   "outputs": [],
   "source": [
    "# configuration setup\n",
    "\n",
    "\"\"\"\n",
    "input formats are FLAC(lossless) or wav only\n",
    "preferred bitrate > 16000\n",
    "for multiple speakers each person's voice should be in different channels\n",
    "for single speaker mono audio channel is preferred (not a compulsion)\n",
    "\"\"\"\n",
    "\n",
    "separation = False\n",
    "\n",
    "primary_language_code = \"en\" # english (giving en-US,en-IN,en-UK increases accuracy)\n",
    "\n",
    "\n",
    "\n",
    "path_to_directory = \"/home/subbu/PRML/Internship/p1/\"\n",
    "path_to_bucket = \"gs://rankingtranscript1/\"\n",
    "file_name = \"cv2.flac\" \n"
   ]
  },
  {
   "cell_type": "code",
   "execution_count": 58,
   "metadata": {},
   "outputs": [
    {
     "name": "stdout",
     "output_type": "stream",
     "text": [
      "2 44100 101.0\n",
      "starting upload\n",
      "uploaded\n"
     ]
    }
   ],
   "source": [
    "# feeding in the configurations\n",
    "\n",
    "client = speech_v1.SpeechClient() # use speech_v1p1beta1.SpeechClient() to detect more languages automatically\n",
    "\n",
    "\n",
    "with audioread.audio_open(path_to_directory+file_name) as ft:\n",
    "    # detecting audio format for better accuracy\n",
    "    print(ft.channels, ft.samplerate, ft.duration)\n",
    "    num_channels = ft.channels\n",
    "    sample_bit_rate = ft.samplerate\n",
    "    duration = ft.duration\n",
    "    ft.close()\n",
    "\n",
    "if(duration > 58):\n",
    "    lengthy = True\n",
    "else:\n",
    "    lengthy = False\n",
    "    \n",
    "    \n",
    "\n",
    "if(lengthy):\n",
    "    # uploading file into bucket(associated with service account) with same file name\n",
    "    print('starting upload')\n",
    "    storage_client = storage.Client.from_service_account_json(\n",
    "        '/home/subbu/PRML/Internship/p1/rankingtranscript-96316cee08ba.json')\n",
    "    bucket = storage_client.get_bucket('rankingtranscript1')\n",
    "    blob = bucket.blob(file_name)\n",
    "    blob.upload_from_filename(path_to_directory+file_name)\n",
    "    look = True\n",
    "    print('uploaded')\n",
    "    # using api on uploaded file\n",
    "    storage_uri = path_to_bucket+file_name\n",
    "    audio = {\"uri\": storage_uri}\n",
    "else:\n",
    "    # short files dont require cloud storage\n",
    "    file_path = path_to_directory+file_name\n",
    "    with io.open(file_path, \"rb\") as f:\n",
    "        content = f.read()\n",
    "        f.close()\n",
    "    audio = {\"content\": content}\n",
    "    \n",
    "\n",
    "config = {\n",
    "        \"sample_rate_hertz\": sample_bit_rate,\n",
    "        \"audio_channel_count\": num_channels,\n",
    "        \"enable_separate_recognition_per_channel\": separation,\n",
    "        \"language_code\": primary_language_code,\n",
    "        \"enable_automatic_punctuation\": True,\n",
    "        \"use_enhanced\": True,\n",
    "    }"
   ]
  },
  {
   "cell_type": "code",
   "execution_count": 59,
   "metadata": {},
   "outputs": [],
   "source": [
    "# processing (takes time)\n",
    "\n",
    "if(lengthy):\n",
    "    operation = client.long_running_recognize(config, audio)\n",
    "    response = operation.result()\n",
    "else:\n",
    "    response = client.recognize(config, audio)"
   ]
  },
  {
   "cell_type": "code",
   "execution_count": 60,
   "metadata": {
    "scrolled": true
   },
   "outputs": [
    {
     "name": "stdout",
     "output_type": "stream",
     "text": [
      "My name is Abhishek Kulkarni postgraduate International Hospitality Management from Auckland University of Technology New Zealand industry is my passion for food and education is supported by my experience in statistics of industrial training in 5 star properties like Taj residency and son and front both in India currently working with from the letter group New Zealand 2009 and focused and dedicated towards any job given to me also a very fast learner speaking. I like to work under pressure because I think it is false confidence with me. I am handling at the moment is very busy for both morning breakfast as well as evening drink, but I'm unable to handle this very effectively. I cancel this because lot of us have given positive feedback also whenever Bar and Restaurant get busy mysterious tense me to give the my heart. I take this as a reward student maximum experience and knowledge with fnb department.\n",
      "Take me to the responsible position within the same department and I am sure that my experience and knowledge is going to help with that are sparrows jobs consultant. I don't have but knowledge is unlimited Ammo to keep on learning new things and practices with hospitality industry and flexible about salary and servant of Tekken 2 Xperia hospitality graduate. I am interested in this job and I thank you very much for giving my video resume to tell you that I have references.\n",
      "confidence = 90\n"
     ]
    }
   ],
   "source": [
    "# printing output\n",
    "\n",
    "tot = 0\n",
    "cnt = 0\n",
    "for result in response.results:\n",
    "    tot = tot + result.alternatives[0].confidence\n",
    "    cnt = cnt + 1\n",
    "    alternative = result.alternatives[0]\n",
    "    if(separation):\n",
    "        print(str(result.channel_tag)+\" : \"+alternative.transcript)\n",
    "    else:\n",
    "        print(alternative.transcript)\n",
    "    \n",
    "print(\"confidence = \"+str(int((tot/cnt)*100)))"
   ]
  },
  {
   "cell_type": "code",
   "execution_count": 61,
   "metadata": {},
   "outputs": [
    {
     "name": "stdout",
     "output_type": "stream",
     "text": [
      "file deleted\n"
     ]
    }
   ],
   "source": [
    "# Deleting uploaded file\n",
    "\"\"\"\n",
    "The blob pipe will be deleted with in short time\n",
    "of its creation. so delete it as soon as response is\n",
    "obtained\n",
    "\"\"\"\n",
    "\n",
    "if(look):\n",
    "    blob.delete() # you can run this only once (it deletes the uploaded file)\n",
    "    print('file deleted')\n",
    "    look = False"
   ]
  },
  {
   "cell_type": "markdown",
   "metadata": {},
   "source": [
    "### Addons"
   ]
  },
  {
   "cell_type": "code",
   "execution_count": null,
   "metadata": {},
   "outputs": [],
   "source": [
    "# code to add speaker diarization instead of channels\n",
    "\"\"\"\n",
    "speaker diarization is in beta stage so we dont use this for our project presently\n",
    "the audio file input should be mono audio channel\n",
    "\"\"\"\n",
    "\n",
    "# add this to feeding cell\n",
    "client = speech_v1p1beta1.SpeechClient() # beta version\n",
    "\n",
    "separation = True\n",
    "num_speakers = 2 # 3 at max\n",
    "\n",
    "config = {\n",
    "        \"sample_rate_hertz\": sample_bit_rate,\n",
    "        \"audio_channel_count\": num_channels,\n",
    "        \"enable_speaker_diarization\": separation,\n",
    "        \"diarization_speaker_count\": num_speakers,\n",
    "        \"language_code\": primary_language_code,\n",
    "    }\n",
    "\n",
    "# add this to printing cell\n",
    "if(separation):\n",
    "    # tags are assigned to each word so look for change of tag\n",
    "    first = True\n",
    "    tag = \"\"\n",
    "    print()\n",
    "    for word in alternative.words:\n",
    "        if(first):\n",
    "            tag = word.speaker_tag\n",
    "            first = False\n",
    "            print(str(tag)+\" :\",end = \" \")\n",
    "            print(word.word,end=\" \")\n",
    "        else:\n",
    "            if(tag == word.speaker_tag):\n",
    "                print(word.word,end=\" \")\n",
    "            else:\n",
    "                print()\n",
    "                print(str(tag)+\" :\",end = \" \")\n",
    "                print(word.word,end=\" \")\n",
    "                tag = word.speaker_tag"
   ]
  },
  {
   "cell_type": "code",
   "execution_count": null,
   "metadata": {},
   "outputs": [],
   "source": [
    "# code to add auto language detection\n",
    "\"\"\"\n",
    "This feature also in beta stage hence we are not using presently\n",
    "\"\"\"\n",
    "\n",
    "# add this to feeding cell\n",
    "client = speech_v1p1beta1.SpeechClient() # beta version\n",
    "\n",
    "alternative_language_codes = [\n",
    "    \"es\", # spanish\n",
    "    \"fr\", # french\n",
    "    \"hi\", # hindi\n",
    "] # we can add upto 3 languages to detect automatically\n",
    "\n",
    "config = {\n",
    "        \"sample_rate_hertz\": sample_bit_rate,\n",
    "        \"audio_channel_count\": num_channels,\n",
    "        \"enable_separate_recognition_per_channel\": separation,\n",
    "        \"language_code\": primary_language_code,\n",
    "        \"enable_automatic_punctuation\": True,\n",
    "        \"use_enhanced\": True,\n",
    "        \"alternative_language_codes\": alternative_language_codes,\n",
    "    }\n",
    "\n",
    "# add to printing cell to know the language\n",
    "print(result.language_code)"
   ]
  },
  {
   "cell_type": "code",
   "execution_count": null,
   "metadata": {},
   "outputs": [],
   "source": []
  }
 ],
 "metadata": {
  "kernelspec": {
   "display_name": "Python 3",
   "language": "python",
   "name": "python3"
  },
  "language_info": {
   "codemirror_mode": {
    "name": "ipython",
    "version": 3
   },
   "file_extension": ".py",
   "mimetype": "text/x-python",
   "name": "python",
   "nbconvert_exporter": "python",
   "pygments_lexer": "ipython3",
   "version": "3.7.4"
  }
 },
 "nbformat": 4,
 "nbformat_minor": 2
}
