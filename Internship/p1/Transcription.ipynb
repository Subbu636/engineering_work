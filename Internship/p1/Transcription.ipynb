{
 "cells": [
  {
   "cell_type": "markdown",
   "metadata": {},
   "source": [
    "### Improvments\n",
    "As said in the document this modified file doesnt take locals it takes the files directly <br>\n",
    "from bucket and upload it file_name+_transcript.txt to the bucket itself"
   ]
  },
  {
   "cell_type": "code",
   "execution_count": 1,
   "metadata": {},
   "outputs": [],
   "source": [
    "# imports\n",
    "\n",
    "import io\n",
    "import os\n",
    "from google.cloud import speech_v1p1beta1\n",
    "from google.cloud import speech_v1\n",
    "from google.cloud import speech\n",
    "from google.cloud.speech import enums\n",
    "from google.cloud.speech import types\n",
    "from gcloud import storage\n",
    "from oauth2client.service_account import ServiceAccountCredentials\n",
    "import audioread\n",
    "import glob\n",
    "import time"
   ]
  },
  {
   "cell_type": "code",
   "execution_count": 2,
   "metadata": {},
   "outputs": [],
   "source": [
    "# constant parameters\n",
    "\n",
    "path_to_directory = \"/home/subbu/PRML/Internship/p1/\"\n",
    "path_to_bucket = \"gs://rankingtranscript1/\"\n",
    "path_to_json = \"/home/subbu/PRML/Internship/p1/rankingtranscript-96316cee08ba.json\"\n",
    "bucket_name = \"rankingtranscript1\""
   ]
  },
  {
   "cell_type": "code",
   "execution_count": 3,
   "metadata": {},
   "outputs": [],
   "source": [
    "# input parameters\n",
    "\n",
    "file_name_param = \"test.wav\"\n",
    "\n",
    "separation_param = False\n",
    "\n",
    "primary_language_code_param = \"en\""
   ]
  },
  {
   "cell_type": "code",
   "execution_count": 4,
   "metadata": {},
   "outputs": [],
   "source": [
    "# Functions specific to each task for modularity\n",
    "\n",
    "def upload_to_bucket(file_name):\n",
    "    print('starting upload')\n",
    "    storage_client = storage.Client.from_service_account_json(\n",
    "        '/home/subbu/PRML/Internship/p1/rankingtranscript-96316cee08ba.json')\n",
    "    bucket = storage_client.get_bucket('rankingtranscript1')\n",
    "    blob = bucket.blob(file_name)\n",
    "    blob.upload_from_filename(path_to_directory+file_name)\n",
    "    print('uploaded')\n",
    "    return blob\n",
    "\n",
    "def pull_from_directory(file_name):\n",
    "    with io.open(path_to_directory+file_name, \"rb\") as f:\n",
    "        content = f.read()\n",
    "        f.close()\n",
    "    audio = {\"content\": content}\n",
    "    return audio\n",
    "\n",
    "def process_audio(audio,config,client,lengthy):\n",
    "    if(lengthy):\n",
    "        operation = client.long_running_recognize(config, audio)\n",
    "        response = operation.result()\n",
    "    else:\n",
    "        response = client.recognize(config, audio)\n",
    "    return response\n",
    "\n",
    "def extract_output(response,separation):\n",
    "    tot = 0\n",
    "    cnt = 0\n",
    "    output = \"\"\n",
    "    for result in response.results:\n",
    "        tot = tot + result.alternatives[0].confidence\n",
    "        cnt = cnt + 1\n",
    "        alternative = result.alternatives[0]\n",
    "        if(separation):\n",
    "            output = output + (str(result.channel_tag)+\" : \"+alternative.transcript+\"\\n\")\n",
    "        else:\n",
    "            output = output + (alternative.transcript+\"\\n\")\n",
    "    conf = int((tot/cnt)*100)\n",
    "    return output,conf\n",
    "\n",
    "def remove_cloud_data(blob,lengthy):\n",
    "    if(lengthy):\n",
    "        try:\n",
    "            blob.delete()\n",
    "            print(\"file removed successfully\")\n",
    "        except:\n",
    "            print(\"cannot be deleted, try clearing bucket manually\")\n",
    "    return None\n",
    "    \n"
   ]
  },
  {
   "cell_type": "code",
   "execution_count": 7,
   "metadata": {},
   "outputs": [],
   "source": [
    "# Main Function\n",
    "\n",
    "def main_transcription_process(file_name_param,primary_language_code_param,separation_param):\n",
    "    \n",
    "    client = speech_v1.SpeechClient()\n",
    "    \n",
    "    audio = {\"uri\": path_to_bucket+file_name_param}\n",
    "#     storage_client = storage.Client.from_service_account_json(path_to_json)\n",
    "#     bucket = storage_client.get_bucket(bucket_name)\n",
    "#     blob = bucket.get_blob(file_name_param)\n",
    "#     blob.download_to_filename(file_name_param)\n",
    "\n",
    "#     video = VideoFileClip(file_name_param)\n",
    "#     audio = video.audio\n",
    "#     identity = file_name_param[:file_name_param.index('.')]\n",
    "#     audio.write_audiofile(identity+'.wav')\n",
    "    \n",
    "    with audioread.audio_open(file_name_param) as ft:\n",
    "        print(\"audio info : \",end=\"\")\n",
    "        print(ft.channels, ft.samplerate, ft.duration)\n",
    "        num_channels = ft.channels\n",
    "        sample_bit_rate = ft.samplerate\n",
    "        duration = ft.duration\n",
    "        ft.close()\n",
    "    \n",
    "    if(duration > 58):\n",
    "        lengthy = True\n",
    "    else:\n",
    "        lengthy = False\n",
    "    \n",
    "    configuration = {\n",
    "        \"sample_rate_hertz\": sample_bit_rate,\n",
    "        \"audio_channel_count\": num_channels,\n",
    "        \"enable_separate_recognition_per_channel\": separation_param,\n",
    "        \"language_code\": primary_language_code_param,\n",
    "        \"enable_automatic_punctuation\": True,\n",
    "        \"use_enhanced\": True,\n",
    "    }\n",
    "    \n",
    "    response = process_audio(audio,configuration,client,lengthy)\n",
    "    \n",
    "    output,confidence = extract_output(response,separation_param)\n",
    "        \n",
    "    if(confidence < 70):\n",
    "        output = \"Bad audio data, cannot be transcripted\"\n",
    "    \n",
    "    return output, confidence\n",
    "\n",
    "def data_transcriptor(file_name_param,primary_language_code_param,separation_param):\n",
    "    try:\n",
    "        out_info = main_transcription_process(file_name_param,primary_language_code_param,separation_param)\n",
    "    except:\n",
    "        out_info = \"Bad input, refer document for specifications\", 0\n",
    "    print(out_info)\n",
    "    identity = file_name_param[:file_name_param.index('.')]\n",
    "    file = open(identity+'_transcript.txt',\"w+\") \n",
    "    file.write(out_info[0]+\"\\nConfidence: \"+str(out_info[1]))\n",
    "    file.close()\n",
    "    \n",
    "    storage_client = storage.Client.from_service_account_json(path_to_json)\n",
    "    bucket = storage_client.get_bucket(bucket_name )\n",
    "    blob = bucket.blob(identity+'_transcript.txt')\n",
    "    blob.upload_from_filename(identity+'_transcript.txt')\n",
    "    \n",
    "    os.remove(identity+'_transcript.txt')"
   ]
  },
  {
   "cell_type": "code",
   "execution_count": 8,
   "metadata": {},
   "outputs": [
    {
     "name": "stdout",
     "output_type": "stream",
     "text": [
      "audio info : 1 22050 89.62902494331065\n",
      "(\"In this global economy your phone need someone who understand how things work in different regions in the world.\\n You need someone who understands your phone's call business values and to communicate them to different regions which has diverse business practices languages and culture norms.\\n You also need someone who knows how to communicate. Your phone's intentions to the most effective media.\\n My name is Regina and I'm that person.\\n I'm just done my master's degree in corporate Communications with all the School of Business or which university my previous work experience has makes me unique. I've worked on three continents and I've had five years. I'm work experience in the areas of international marketing public relations advertising even to management and social media management.\\n The industries which I've worked in include telecommunications education art design and fashion.\\n And I also speak 5 languages.\\n You can find out more about me and my work on my website. Www. S a j i t a. Com.\\n\", 91)\n"
     ]
    }
   ],
   "source": [
    "# trail run\n",
    "\n",
    "data_transcriptor(file_name_param,primary_language_code_param,separation_param)"
   ]
  },
  {
   "cell_type": "code",
   "execution_count": null,
   "metadata": {},
   "outputs": [],
   "source": []
  },
  {
   "cell_type": "code",
   "execution_count": null,
   "metadata": {},
   "outputs": [],
   "source": []
  },
  {
   "cell_type": "code",
   "execution_count": 10,
   "metadata": {},
   "outputs": [],
   "source": [
    "# convert video file to audio"
   ]
  },
  {
   "cell_type": "code",
   "execution_count": 3,
   "metadata": {},
   "outputs": [],
   "source": [
    "import sys\n",
    "from moviepy.editor import *"
   ]
  },
  {
   "cell_type": "code",
   "execution_count": 4,
   "metadata": {},
   "outputs": [],
   "source": [
    "video = VideoFileClip('vid_res.mp4')    video = VideoFileClip(file_name_param)\n",
    "#     audio = video.audio\n",
    "#     identity = file_name_param[:file_name_param.index('.')]\n",
    "#     audio.write_audiofile(identity+'.wav')"
   ]
  },
  {
   "cell_type": "code",
   "execution_count": 5,
   "metadata": {},
   "outputs": [],
   "source": [
    "audio = video.audio"
   ]
  },
  {
   "cell_type": "code",
   "execution_count": 6,
   "metadata": {},
   "outputs": [
    {
     "name": "stderr",
     "output_type": "stream",
     "text": [
      "chunk:  14%|█▍        | 272/1977 [00:00<00:00, 2714.87it/s, now=None]"
     ]
    },
    {
     "name": "stdout",
     "output_type": "stream",
     "text": [
      "MoviePy - Writing audio in vid_res.wav\n"
     ]
    },
    {
     "name": "stderr",
     "output_type": "stream",
     "text": [
      "                                                                      "
     ]
    },
    {
     "name": "stdout",
     "output_type": "stream",
     "text": [
      "MoviePy - Done.\n"
     ]
    },
    {
     "name": "stderr",
     "output_type": "stream",
     "text": [
      "\r"
     ]
    }
   ],
   "source": [
    "audio.write_audiofile('vid_res.wav')"
   ]
  },
  {
   "cell_type": "code",
   "execution_count": 9,
   "metadata": {},
   "outputs": [
    {
     "name": "stdout",
     "output_type": "stream",
     "text": [
      "audio info : 2 44100 89.63\n"
     ]
    }
   ],
   "source": [
    "with audioread.audio_open('vid_res.wav') as ft:\n",
    "    print(\"audio info : \",end=\"\")\n",
    "    print(ft.channels, ft.samplerate, ft.duration)"
   ]
  },
  {
   "cell_type": "code",
   "execution_count": null,
   "metadata": {},
   "outputs": [],
   "source": []
  }
 ],
 "metadata": {
  "kernelspec": {
   "display_name": "Python 3",
   "language": "python",
   "name": "python3"
  },
  "language_info": {
   "codemirror_mode": {
    "name": "ipython",
    "version": 3
   },
   "file_extension": ".py",
   "mimetype": "text/x-python",
   "name": "python",
   "nbconvert_exporter": "python",
   "pygments_lexer": "ipython3",
   "version": "3.7.4"
  }
 },
 "nbformat": 4,
 "nbformat_minor": 2
}
