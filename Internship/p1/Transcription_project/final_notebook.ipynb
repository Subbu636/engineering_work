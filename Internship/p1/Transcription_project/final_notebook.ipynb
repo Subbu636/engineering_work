{
 "cells": [
  {
   "cell_type": "code",
   "execution_count": 1,
   "metadata": {},
   "outputs": [],
   "source": [
    "# imports\n",
    "\n",
    "import io\n",
    "import os\n",
    "from google.cloud import speech_v1p1beta1\n",
    "from google.cloud import speech_v1\n",
    "from google.cloud import speech\n",
    "from google.cloud.speech import enums\n",
    "from google.cloud.speech import types\n",
    "from gcloud import storage\n",
    "from oauth2client.service_account import ServiceAccountCredentials\n",
    "import audioread"
   ]
  },
  {
   "cell_type": "code",
   "execution_count": 2,
   "metadata": {},
   "outputs": [],
   "source": [
    "# constant parameters\n",
    "\n",
    "path_to_directory = \"/home/subbu/PRML/Internship/p1/\"\n",
    "path_to_bucket = \"gs://rankingtranscript1/\"\n",
    "path_to_json = \"/home/subbu/PRML/Internship/p1/rankingtranscript-96316cee08ba.json\"\n",
    "bucket_name = \"rankingtranscript1\""
   ]
  },
  {
   "cell_type": "code",
   "execution_count": 14,
   "metadata": {},
   "outputs": [],
   "source": [
    "# input parameters\n",
    "\n",
    "file_name_param = \"test.wav\"\n",
    "\n",
    "separation_param = False\n",
    "\n",
    "primary_language_code_param = \"en\""
   ]
  },
  {
   "cell_type": "code",
   "execution_count": 11,
   "metadata": {},
   "outputs": [],
   "source": [
    "# Functions specific to each task for modularity\n",
    "\n",
    "def upload_to_bucket(file_name):\n",
    "    print('starting upload')\n",
    "    storage_client = storage.Client.from_service_account_json(\n",
    "        '/home/subbu/PRML/Internship/p1/rankingtranscript-96316cee08ba.json')\n",
    "    bucket = storage_client.get_bucket('rankingtranscript1')\n",
    "    blob = bucket.blob(file_name)\n",
    "    blob.upload_from_filename(path_to_directory+file_name)\n",
    "    print('uploaded')\n",
    "    return blob\n",
    "\n",
    "def pull_from_directory(file_name):\n",
    "    with io.open(path_to_directory+file_name, \"rb\") as f:\n",
    "        content = f.read()\n",
    "        f.close()\n",
    "    audio = {\"content\": content}\n",
    "    return audio\n",
    "\n",
    "def process_audio(audio,config,client,lengthy):\n",
    "    if(lengthy):\n",
    "        operation = client.long_running_recognize(config, audio)\n",
    "        response = operation.result()\n",
    "    else:\n",
    "        response = client.recognize(config, audio)\n",
    "    return response\n",
    "\n",
    "def extract_output(response,separation):\n",
    "    tot = 0\n",
    "    cnt = 0\n",
    "    output = \"\"\n",
    "    for result in response.results:\n",
    "        tot = tot + result.alternatives[0].confidence\n",
    "        cnt = cnt + 1\n",
    "        alternative = result.alternatives[0]\n",
    "        if(separation):\n",
    "            output = output + (str(result.channel_tag)+\" : \"+alternative.transcript+\"\\n\")\n",
    "        else:\n",
    "            output = output + (alternative.transcript+\"\\n\")\n",
    "    conf = int((tot/cnt)*100)\n",
    "    return output,conf\n",
    "\n",
    "def remove_cloud_data(blob,lengthy):\n",
    "    if(lengthy):\n",
    "        try:\n",
    "            blob.delete()\n",
    "            print(\"file removed successfully\")\n",
    "        except:\n",
    "            print(\"cannot be deleted, try clearing bucket manually\")\n",
    "    return None\n",
    "    \n"
   ]
  },
  {
   "cell_type": "code",
   "execution_count": 12,
   "metadata": {},
   "outputs": [],
   "source": [
    "# Main Function\n",
    "\n",
    "def main_transcription_process(file_name_param,primary_language_code_param,separation_param):\n",
    "    \n",
    "    client = speech_v1.SpeechClient()\n",
    "    \n",
    "    with audioread.audio_open(path_to_directory+file_name_param) as ft:\n",
    "        print(\"audio info : \",end=\"\")\n",
    "        print(ft.channels, ft.samplerate, ft.duration)\n",
    "        num_channels = ft.channels\n",
    "        sample_bit_rate = ft.samplerate\n",
    "        duration = ft.duration\n",
    "        ft.close()\n",
    "    \n",
    "    if(duration > 58):\n",
    "        lengthy = True\n",
    "    else:\n",
    "        lengthy = False\n",
    "        \n",
    "    if(lengthy):\n",
    "        blob = upload_to_bucket(file_name_param)\n",
    "        storage_uri = path_to_bucket+file_name_param\n",
    "        audio = {\"uri\": storage_uri}\n",
    "    else:\n",
    "        audio = pull_from_directory(file_name_param)\n",
    "    \n",
    "    configuration = {\n",
    "        \"sample_rate_hertz\": sample_bit_rate,\n",
    "        \"audio_channel_count\": num_channels,\n",
    "        \"enable_separate_recognition_per_channel\": separation_param,\n",
    "        \"language_code\": primary_language_code_param,\n",
    "        \"enable_automatic_punctuation\": True,\n",
    "        \"use_enhanced\": True,\n",
    "    }\n",
    "    \n",
    "    response = process_audio(audio,configuration,client,lengthy)\n",
    "    \n",
    "    output,confidence = extract_output(response,separation_param)\n",
    "    \n",
    "    remove_cloud_data(blob,lengthy)\n",
    "        \n",
    "    if(confidence < 70):\n",
    "        output = \"Bad audio data, cannot be transcripted\"\n",
    "    \n",
    "    return output, confidence\n",
    "\n",
    "def data_transcriptor(file_name_param,primary_language_code_param,separation_param):\n",
    "    try:\n",
    "        return main_transcription_process(file_name_param,primary_language_code_param,separation_param)\n",
    "    except:\n",
    "        return \"Bad input, refer document for specifications\", 0\n",
    "    "
   ]
  },
  {
   "cell_type": "code",
   "execution_count": 13,
   "metadata": {},
   "outputs": [
    {
     "name": "stdout",
     "output_type": "stream",
     "text": [
      "audio info : 1 22050 89.62902494331065\n",
      "starting upload\n",
      "uploaded\n",
      "file removed successfully\n",
      "(\"In this global economy your phone need someone who understand how things work in different regions in the world.\\n You need someone who understands your phone's call business values and to communicate them to different regions which has diverse business practices languages and culture norms.\\n You also need someone who knows how to communicate your friend's intentions to the most effective media.\\n My name is Regina and I'm that person.\\n I'm just done my master's degree in corporate Communications with all the School of Business or which university my previous work experience has makes me unique. I've worked on three continents and I've had five years. I'm work experience in the areas of international marketing public relations advertising even to management and social media management.\\n The industries which I've worked in include telecommunications education art design and fashion.\\n And I also speak 5 languages.\\n You can find out more about me and my work on my website. Www. S a j i t a. Com.\\n\", 91)\n"
     ]
    }
   ],
   "source": [
    "# trail run\n",
    "\n",
    "print(data_transcriptor(file_name_param,primary_language_code_param,separation_param)[0])"
   ]
  },
  {
   "cell_type": "code",
   "execution_count": null,
   "metadata": {},
   "outputs": [],
   "source": []
  }
 ],
 "metadata": {
  "kernelspec": {
   "display_name": "Python 3",
   "language": "python",
   "name": "python3"
  },
  "language_info": {
   "codemirror_mode": {
    "name": "ipython",
    "version": 3
   },
   "file_extension": ".py",
   "mimetype": "text/x-python",
   "name": "python",
   "nbconvert_exporter": "python",
   "pygments_lexer": "ipython3",
   "version": "3.7.4"
  }
 },
 "nbformat": 4,
 "nbformat_minor": 2
}
