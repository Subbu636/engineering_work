{
 "cells": [
  {
   "cell_type": "markdown",
   "metadata": {},
   "source": [
    "## Report / Code\n",
    "#### API and Libraries used\n",
    "1 google.cloud.dlp <br>\n",
    "2 pdf2image <br>\n",
    "3 gcloud storage <br>\n",
    "4 fpdf <br>\n",
    "5 PIL <br>\n",
    "(Copyrights have to verified before deploying) <br>\n",
    "#### Input and setup\n",
    "The contents of 2nd cell are to be setup at start. <br>\n",
    "\"fileName\" is the parameter given during each call. <br>\n",
    "It uses 2 local directories for temprory storage and these are emptied after each run <br>\n",
    "Code flow is given by comments putup in the code <br>\n",
    "#### Output\n",
    "Output will be uploaded to same bucket with name modf_+fileName"
   ]
  },
  {
   "cell_type": "code",
   "execution_count": 5,
   "metadata": {},
   "outputs": [],
   "source": [
    "# imports\n",
    "\n",
    "import google.cloud.dlp\n",
    "import sys\n",
    "import os\n",
    "from gcloud import storage\n",
    "from fpdf import FPDF\n",
    "from PIL import Image\n",
    "from pdf2image import convert_from_path\n",
    "import glob"
   ]
  },
  {
   "cell_type": "code",
   "execution_count": 6,
   "metadata": {},
   "outputs": [],
   "source": [
    "# constant parameters\n",
    "\n",
    "projectName = 'rankingtranscript'\n",
    "jsonPath = '/home/subbu/PRML/Internship/p1/rankingtranscript-96316cee08ba.json'\n",
    "bucketName = 'rankingtranscript1'\n",
    "inDir = 'in/'\n",
    "outDir = 'out/'"
   ]
  },
  {
   "cell_type": "code",
   "execution_count": 9,
   "metadata": {},
   "outputs": [],
   "source": [
    "   \n",
    "def pdf_redactor(fileName): # only pdf files\n",
    "\n",
    "    # downloadfile from cloud\n",
    "    storage_client = storage.Client.from_service_account_json(jsonPath)\n",
    "    bucket = storage_client.get_bucket(bucketName)\n",
    "    blob = bucket.get_blob(fileName)\n",
    "    blob.download_to_filename(inDir+fileName)\n",
    "\n",
    "    # image conversion\n",
    "    pages = convert_from_path(inDir+fileName, dpi=400)\n",
    "    pg_count = 0\n",
    "    for page in pages:\n",
    "        page.save(inDir+'imj'+str(pg_count)+'.jpg', 'JPEG')\n",
    "        pg_count += 1\n",
    "\n",
    "    # setup\n",
    "    dlp = google.cloud.dlp_v2.DlpServiceClient()\n",
    "\n",
    "    parent = dlp.project_path(projectName)\n",
    "\n",
    "    custom_regexes = [\"[0-9]{10}\" # 10 digit number\n",
    "\n",
    "                     ] # add regular expressions here\n",
    "\n",
    "    regexes = [\n",
    "            {\n",
    "                \"info_type\": {\"name\": \"myRegex{}\".format(i)},\n",
    "                \"regex\": {\"pattern\": custom_regex},\n",
    "            }\n",
    "            for i, custom_regex in enumerate(custom_regexes)\n",
    "        ]\n",
    "    custom_info_types = regexes\n",
    "\n",
    "    info_types = [{\"name\": \"EMAIL_ADDRESS\"}] # email\n",
    "\n",
    "    inspect_config = {\n",
    "            \"info_types\": info_types,\n",
    "            \"custom_info_types\": custom_info_types,\n",
    "        }\n",
    "\n",
    "    image_redaction_configs = []\n",
    "\n",
    "    for info_type in info_types:\n",
    "        image_redaction_configs.append({\"info_type\": info_type})\n",
    "    image_redaction_configs.append({\"info_type\": {\"name\":\"myRegex0\"}}) # add corresponding terms\n",
    "\n",
    "\n",
    "    # processing and output\n",
    "    for j in range(pg_count):\n",
    "        with open(inDir+'imj'+str(j)+'.jpg', mode=\"rb\") as f:\n",
    "            byte_item = {\"type\": 1, \"data\": f.read()}\n",
    "\n",
    "        response = dlp.redact_image(\n",
    "            parent,\n",
    "            inspect_config=inspect_config,\n",
    "            image_redaction_configs=image_redaction_configs,\n",
    "            byte_item=byte_item,\n",
    "        )\n",
    "        with open(outDir+'imj_modf'+str(j)+'.jpg', mode=\"wb\") as f:\n",
    "            f.write(response.redacted_image)\n",
    "\n",
    "    #converting back to pdf and upload to bucket\n",
    "    cover = Image.open(outDir+'imj_modf'+str(0)+'.jpg')\n",
    "    width, height = cover.size\n",
    "    pdf = FPDF(unit = \"pt\", format = [width, height])\n",
    "\n",
    "    for image in [outDir+'imj_modf'+str(j)+'.jpg' for j in range(pg_count)]:\n",
    "        pdf.add_page()\n",
    "        pdf.image(image,0,0)\n",
    "    pdf.output(outDir+'modf_'+fileName, \"F\")\n",
    "\n",
    "    blob2 = bucket.blob('modf_'+fileName)\n",
    "    blob2.upload_from_filename(outDir+'modf_'+fileName)\n",
    "\n",
    "    #delete files in local directories\n",
    "    files1 = glob.glob(inDir+'*')\n",
    "    for f in files1:\n",
    "        os.remove(f)\n",
    "    files2 = glob.glob(outDir+'*')\n",
    "    for f in files2:\n",
    "        os.remove(f)\n"
   ]
  },
  {
   "cell_type": "code",
   "execution_count": 10,
   "metadata": {},
   "outputs": [],
   "source": [
    "file_name = 'Resume3.pdf'\n",
    "\n",
    "pdf_redactor(file_name)"
   ]
  },
  {
   "cell_type": "code",
   "execution_count": null,
   "metadata": {},
   "outputs": [],
   "source": [
    "\n"
   ]
  },
  {
   "cell_type": "code",
   "execution_count": null,
   "metadata": {},
   "outputs": [],
   "source": []
  },
  {
   "cell_type": "code",
   "execution_count": null,
   "metadata": {},
   "outputs": [],
   "source": []
  }
 ],
 "metadata": {
  "kernelspec": {
   "display_name": "Python 3",
   "language": "python",
   "name": "python3"
  },
  "language_info": {
   "codemirror_mode": {
    "name": "ipython",
    "version": 3
   },
   "file_extension": ".py",
   "mimetype": "text/x-python",
   "name": "python",
   "nbconvert_exporter": "python",
   "pygments_lexer": "ipython3",
   "version": "3.7.4"
  }
 },
 "nbformat": 4,
 "nbformat_minor": 2
}
