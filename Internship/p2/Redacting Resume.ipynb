{
 "cells": [
  {
   "cell_type": "code",
   "execution_count": null,
   "metadata": {},
   "outputs": [],
   "source": [
    "# Resume Redacting"
   ]
  },
  {
   "cell_type": "code",
   "execution_count": null,
   "metadata": {},
   "outputs": [],
   "source": [
    "import pdfrw\n",
    "import PyPDF2 \n",
    "from pdfrw import PdfReader, PdfWriter"
   ]
  },
  {
   "cell_type": "code",
   "execution_count": null,
   "metadata": {},
   "outputs": [],
   "source": [
    "path = '/home/subbu/PRML/Internship/p2/out/'\n",
    "file = 'out.pdf'"
   ]
  },
  {
   "cell_type": "code",
   "execution_count": null,
   "metadata": {},
   "outputs": [],
   "source": [
    "pdf = PdfReader(path+file)"
   ]
  },
  {
   "cell_type": "code",
   "execution_count": null,
   "metadata": {},
   "outputs": [],
   "source": [
    "#print(len(pdf.pages))\n",
    "pdf.pages[0]"
   ]
  },
  {
   "cell_type": "code",
   "execution_count": null,
   "metadata": {
    "scrolled": false
   },
   "outputs": [],
   "source": [
    "pdfFileObj = open(path+file, 'rb')"
   ]
  },
  {
   "cell_type": "code",
   "execution_count": null,
   "metadata": {},
   "outputs": [],
   "source": [
    "pdfReader = PyPDF2.PdfFileReader(pdfFileObj)"
   ]
  },
  {
   "cell_type": "code",
   "execution_count": null,
   "metadata": {},
   "outputs": [],
   "source": [
    "print(pdfReader.getPage(0).extractText())"
   ]
  },
  {
   "cell_type": "code",
   "execution_count": null,
   "metadata": {},
   "outputs": [],
   "source": []
  },
  {
   "cell_type": "code",
   "execution_count": null,
   "metadata": {},
   "outputs": [],
   "source": [
    "# converting pdf into jpeg"
   ]
  },
  {
   "cell_type": "code",
   "execution_count": 10,
   "metadata": {},
   "outputs": [],
   "source": [
    "from pdf2image import convert_from_path"
   ]
  },
  {
   "cell_type": "code",
   "execution_count": 22,
   "metadata": {},
   "outputs": [],
   "source": [
    "pages = convert_from_path('in/Resume3.pdf', dpi=800)\n",
    "i = 0\n",
    "for page in pages:\n",
    "    page.save('out/imj'+str(i)+'.jpg', 'JPEG')\n",
    "    i += 1"
   ]
  },
  {
   "cell_type": "code",
   "execution_count": 58,
   "metadata": {},
   "outputs": [],
   "source": [
    "# using google api"
   ]
  },
  {
   "cell_type": "code",
   "execution_count": 75,
   "metadata": {},
   "outputs": [],
   "source": [
    "import google.cloud.dlp\n",
    "import mimetypes\n",
    "import sys\n",
    "import os\n",
    "import subprocess\n",
    "from gcloud import storage\n",
    "from fpdf import FPDF\n",
    "from PIL import Image"
   ]
  },
  {
   "cell_type": "code",
   "execution_count": 68,
   "metadata": {},
   "outputs": [],
   "source": [
    "filename = 'out/imj0.jpg'\n",
    "mime_type=None\n",
    "project = 'rankingtranscript'\n",
    "output_filename = 'out/imj-modf.png'\n",
    "doc = '/home/subbu/PRML/Internship/p2/in/Resume4.docx'"
   ]
  },
  {
   "cell_type": "code",
   "execution_count": 50,
   "metadata": {},
   "outputs": [
    {
     "data": {
      "text/plain": [
       "0"
      ]
     },
     "execution_count": 50,
     "metadata": {},
     "output_type": "execute_result"
    }
   ],
   "source": [
    "os.system(\"libreoffice --headless -convert-to pdf --outdir /home/subbu/PRML/Internship/p2/in/ \"+doc)"
   ]
  },
  {
   "cell_type": "code",
   "execution_count": 53,
   "metadata": {},
   "outputs": [],
   "source": [
    "# following 3 cells are download from cloud\n",
    "\n",
    "storage_client = storage.Client.from_service_account_json(\n",
    "        '/home/subbu/PRML/Internship/p1/rankingtranscript-96316cee08ba.json')\n",
    "bucket = storage_client.get_bucket('rankingtranscript1')"
   ]
  },
  {
   "cell_type": "code",
   "execution_count": 54,
   "metadata": {},
   "outputs": [],
   "source": [
    "blob = bucket.get_blob('Resume3.pdf')"
   ]
  },
  {
   "cell_type": "code",
   "execution_count": 55,
   "metadata": {},
   "outputs": [],
   "source": [
    "blob.download_to_filename('in/ResumeD.pdf')"
   ]
  },
  {
   "cell_type": "code",
   "execution_count": 37,
   "metadata": {},
   "outputs": [],
   "source": [
    "\n",
    "\n",
    "\n",
    "dlp = google.cloud.dlp_v2.DlpServiceClient()\n",
    "\n",
    "if mime_type is None:\n",
    "    mime_guess = mimetypes.MimeTypes().guess_type(filename)\n",
    "    mime_type = mime_guess[0] or \"application/octet-stream\"\n",
    "\n",
    "supported_content_types = {\n",
    "    None: 0,\n",
    "    \"image/jpeg\": 1,\n",
    "    \"image/bmp\": 2,\n",
    "    \"image/png\": 3,\n",
    "    \"image/svg\": 4,\n",
    "    \"text/plain\": 5,\n",
    "}\n",
    "content_type_index = supported_content_types.get(mime_type, 0)\n",
    "\n",
    "\n",
    "with open(filename, mode=\"rb\") as f:\n",
    "    byte_item = {\"type\": content_type_index, \"data\": f.read()}\n",
    "\n",
    "custom_regexes = [\"[0-9]{10}\" # 10 digit number\n",
    "                 \n",
    "                 ] # add regular expressions here\n",
    "\n",
    "regexes = [\n",
    "        {\n",
    "            \"info_type\": {\"name\": \"CUSTOM_REGEX_{}\".format(i)},\n",
    "            \"regex\": {\"pattern\": custom_regex},\n",
    "        }\n",
    "        for i, custom_regex in enumerate(custom_regexes)\n",
    "    ]\n",
    "custom_info_types = regexes\n",
    "\n",
    "info_types = [{\"name\": \"EMAIL_ADDRESS\"}]\n",
    "\n",
    "inspect_config = {\n",
    "        \"info_types\": info_types,\n",
    "        \"custom_info_types\": custom_info_types,\n",
    "    }\n",
    "\n",
    "image_redaction_configs = []\n",
    "\n",
    "for info_type in info_types:\n",
    "    image_redaction_configs.append({\"info_type\": info_type})\n",
    "image_redaction_configs.append({\"info_type\": {\"name\":\"CUSTOM_REGEX_0\"}})\n",
    "\n",
    "\n",
    "parent = dlp.project_path(project)\n"
   ]
  },
  {
   "cell_type": "code",
   "execution_count": 24,
   "metadata": {},
   "outputs": [],
   "source": [
    "# calling google api\n",
    "\n",
    "response = dlp.redact_image(\n",
    "    parent,\n",
    "    inspect_config=inspect_config,\n",
    "    image_redaction_configs=image_redaction_configs,\n",
    "    byte_item=byte_item,\n",
    ")"
   ]
  },
  {
   "cell_type": "code",
   "execution_count": 69,
   "metadata": {},
   "outputs": [],
   "source": [
    "# getting jpg\n",
    "\n",
    "with open(output_filename, mode=\"wb\") as f:\n",
    "    f.write(response.redacted_image)"
   ]
  },
  {
   "cell_type": "code",
   "execution_count": 77,
   "metadata": {},
   "outputs": [
    {
     "data": {
      "text/plain": [
       "''"
      ]
     },
     "execution_count": 77,
     "metadata": {},
     "output_type": "execute_result"
    }
   ],
   "source": [
    "# conversion to pdf\n",
    "\n",
    "cover = Image.open(\"out/imj-modf\" + \".jpg\")\n",
    "width, height = cover.size\n",
    "\n",
    "pdf = FPDF(unit = \"pt\", format = [width, height])\n",
    "\n",
    "for image in ['out/imj-modf.jpg']:\n",
    "    pdf.add_page()\n",
    "    pdf.image(image,0,0)\n",
    "pdf.output(\"out/Resume.pdf\", \"F\")"
   ]
  },
  {
   "cell_type": "code",
   "execution_count": null,
   "metadata": {},
   "outputs": [],
   "source": [
    "# upload to cloud\n",
    "blob2 = bucket.blob(file_name)\n",
    "blob.upload_from_filename('out/')"
   ]
  },
  {
   "cell_type": "code",
   "execution_count": 17,
   "metadata": {},
   "outputs": [
    {
     "name": "stdout",
     "output_type": "stream",
     "text": [
      "Quote: \n",
      "Info type: EMAIL_ADDRESS\n",
      "Likelihood: 4\n",
      "Quote: \n",
      "Info type: CUSTOM_REGEX_0\n",
      "Likelihood: 5\n",
      "Quote: \n",
      "Info type: CUSTOM_REGEX_0\n",
      "Likelihood: 5\n"
     ]
    }
   ],
   "source": [
    "# data of what all are present\n",
    "\n",
    "with open(filename, mode=\"rb\") as f:\n",
    "        item = {\"byte_item\": {\"type\": content_type_index, \"data\": f.read()}}\n",
    "        \n",
    "response = dlp.inspect_content(\n",
    "    parent,\n",
    "    inspect_config=inspect_config,\n",
    "    item=item,\n",
    ")\n",
    "\n",
    "\n",
    "if response.result.findings:\n",
    "    for finding in response.result.findings:\n",
    "        try:\n",
    "            print(\"Quote: {}\".format(finding.quote))\n",
    "        except AttributeError:\n",
    "            pass\n",
    "        print(\"Info type: {}\".format(finding.info_type.name))\n",
    "        print(\"Likelihood: {}\".format(finding.likelihood))\n",
    "else:\n",
    "    print(\"No findings.\")"
   ]
  },
  {
   "cell_type": "code",
   "execution_count": 78,
   "metadata": {},
   "outputs": [
    {
     "data": {
      "text/plain": [
       "1"
      ]
     },
     "execution_count": 78,
     "metadata": {},
     "output_type": "execute_result"
    }
   ],
   "source": [
    "content_type_index"
   ]
  },
  {
   "cell_type": "code",
   "execution_count": null,
   "metadata": {},
   "outputs": [],
   "source": []
  }
 ],
 "metadata": {
  "kernelspec": {
   "display_name": "Python 3",
   "language": "python",
   "name": "python3"
  },
  "language_info": {
   "codemirror_mode": {
    "name": "ipython",
    "version": 3
   },
   "file_extension": ".py",
   "mimetype": "text/x-python",
   "name": "python",
   "nbconvert_exporter": "python",
   "pygments_lexer": "ipython3",
   "version": "3.7.4"
  }
 },
 "nbformat": 4,
 "nbformat_minor": 2
}
