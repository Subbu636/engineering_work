{
 "cells": [
  {
   "cell_type": "code",
   "execution_count": 2,
   "metadata": {},
   "outputs": [
    {
     "data": {
      "text/plain": [
       "'\\nVoice recognition unlike face cant be uniquely identified\\none can only match it to more likely one among the training data set (classification problem)\\nto do the above we can use gmm :\\nhttps://github.com/Atul-Anand-Jha/Speaker-Identification-Python\\nor ANN :\\nhttps://medium.com/analytics-vidhya/building-a-speaker-identification-system-from-scratch-with-deep-learning-f4c4aa558a56\\n'"
      ]
     },
     "execution_count": 2,
     "metadata": {},
     "output_type": "execute_result"
    }
   ],
   "source": [
    "\"\"\"\n",
    "Voice recognition unlike face cant be uniquely identified\n",
    "one can only match it to more likely one among the training data set (classification problem)\n",
    "to do the above we can use gmm :\n",
    "https://github.com/Atul-Anand-Jha/Speaker-Identification-Python\n",
    "or ANN :\n",
    "https://medium.com/analytics-vidhya/building-a-speaker-identification-system-from-scratch-with-deep-learning-f4c4aa558a56\n",
    "\"\"\""
   ]
  },
  {
   "cell_type": "code",
   "execution_count": 3,
   "metadata": {},
   "outputs": [
    {
     "data": {
      "text/plain": [
       "'\\nyet to figure out how google voice unlock used to \\nwork in old versions of google assistant\\nit takes 3 audio files of \"ok google\" and identifies \\nspeaker\\nnow its removed\\n'"
      ]
     },
     "execution_count": 3,
     "metadata": {},
     "output_type": "execute_result"
    }
   ],
   "source": [
    "\"\"\"\n",
    "yet to figure out how google voice unlock used to \n",
    "work in old versions of google assistant\n",
    "it takes 3 audio files of \"ok google\" and identifies \n",
    "speaker\n",
    "now its removed\n",
    "\"\"\""
   ]
  },
  {
   "cell_type": "code",
   "execution_count": null,
   "metadata": {},
   "outputs": [],
   "source": []
  },
  {
   "cell_type": "code",
   "execution_count": 4,
   "metadata": {},
   "outputs": [],
   "source": [
    "# classifying audio with preprocessing and gmm"
   ]
  },
  {
   "cell_type": "code",
   "execution_count": 5,
   "metadata": {},
   "outputs": [],
   "source": [
    "import io\n",
    "import numpy as np\n",
    "from sklearn import preprocessing\n",
    "import python_speech_features as mfcc\n",
    "import audioread\n",
    "from scipy.io.wavfile import read\n",
    "from sklearn.mixture import GaussianMixture as GMM # some texts use GMM\n",
    "from sklearn import preprocessing # break the blackbox here\n",
    "import glob"
   ]
  },
  {
   "cell_type": "code",
   "execution_count": 6,
   "metadata": {},
   "outputs": [
    {
     "name": "stdout",
     "output_type": "stream",
     "text": [
      "2 44100 2.932199546485261\n"
     ]
    }
   ],
   "source": [
    "# the below io-read reads it as any normal file\n",
    "with io.open('SampleData/Aditya_16.wav', \"rb\") as f:\n",
    "    audiox = f.read()\n",
    "    f.close()\n",
    "\n",
    "    \n",
    "# audioread does a similar thing\n",
    "with audioread.audio_open('SampleData/Aditya_16.wav') as ft:\n",
    "    print(ft.channels, ft.samplerate, ft.duration)\n",
    "    num_channels = ft.channels\n",
    "    sample_bit_rate = ft.samplerate\n",
    "    duration = ft.duration\n",
    "    #for buf in ft:\n",
    "        #print(buf) # this buf is audio data\n",
    "    ft.close()"
   ]
  },
  {
   "cell_type": "code",
   "execution_count": 7,
   "metadata": {},
   "outputs": [
    {
     "data": {
      "text/plain": [
       "bytes"
      ]
     },
     "execution_count": 7,
     "metadata": {},
     "output_type": "execute_result"
    }
   ],
   "source": [
    "type(audiox)"
   ]
  },
  {
   "cell_type": "code",
   "execution_count": 28,
   "metadata": {},
   "outputs": [],
   "source": [
    "# this \"read\" reads and convert it to numpy array of integers\n",
    "sr,audio = read('SampleData/Karan_17.wav')\n",
    "sr1,audio1 = read('SampleData/Karan_17.wav')"
   ]
  },
  {
   "cell_type": "code",
   "execution_count": 29,
   "metadata": {},
   "outputs": [
    {
     "name": "stdout",
     "output_type": "stream",
     "text": [
      "[[-2 -2]\n",
      " [-4 -5]\n",
      " [-1  1]\n",
      " ...\n",
      " [ 1  0]\n",
      " [ 0  0]\n",
      " [ 0  0]]\n",
      "<class 'numpy.ndarray'>\n"
     ]
    }
   ],
   "source": [
    "print(audio)\n",
    "print(type(audio))"
   ]
  },
  {
   "cell_type": "code",
   "execution_count": 30,
   "metadata": {},
   "outputs": [],
   "source": [
    "feature = mfcc.mfcc(audio,sr, 0.025, 0.01,20,nfft = 1200, appendEnergy = True)\n",
    "feature = preprocessing.scale(feature)\n",
    "feature1 = mfcc.mfcc(audio1,sr1, 0.025, 0.01,20,nfft = 1200, appendEnergy = True)\n",
    "feature1 = preprocessing.scale(feature1)"
   ]
  },
  {
   "cell_type": "code",
   "execution_count": 31,
   "metadata": {},
   "outputs": [
    {
     "name": "stdout",
     "output_type": "stream",
     "text": [
      "[-2.14292347 -2.3613434  -0.23176332  1.83219559 -1.62511539  0.38325419\n",
      " -0.69320786  0.67675977 -1.65002805  0.31105839 -0.1576563   0.76605005\n",
      " -0.05388812  0.89535547 -0.06565917  1.02141933 -0.2909395   1.15284387\n",
      " -0.74469076  0.27122263]\n"
     ]
    }
   ],
   "source": [
    "print(feature[0])"
   ]
  },
  {
   "cell_type": "code",
   "execution_count": 32,
   "metadata": {},
   "outputs": [
    {
     "data": {
      "text/plain": [
       "GaussianMixture(covariance_type='diag', init_params='kmeans', max_iter=200,\n",
       "                means_init=None, n_components=16, n_init=3,\n",
       "                precisions_init=None, random_state=None, reg_covar=1e-06,\n",
       "                tol=0.001, verbose=0, verbose_interval=10, warm_start=False,\n",
       "                weights_init=None)"
      ]
     },
     "execution_count": 32,
     "metadata": {},
     "output_type": "execute_result"
    }
   ],
   "source": [
    "gmm = GMM(n_components = 16, max_iter = 200, covariance_type='diag',n_init = 3)\n",
    "gmm.fit(feature)"
   ]
  },
  {
   "cell_type": "code",
   "execution_count": 33,
   "metadata": {},
   "outputs": [
    {
     "name": "stdout",
     "output_type": "stream",
     "text": [
      "-16.781815515805455\n"
     ]
    }
   ],
   "source": [
    "# this score is used to predict\n",
    "audio_score = gmm.score(feature1)\n",
    "print(audio_score)"
   ]
  },
  {
   "cell_type": "code",
   "execution_count": null,
   "metadata": {},
   "outputs": [],
   "source": []
  },
  {
   "cell_type": "code",
   "execution_count": 34,
   "metadata": {},
   "outputs": [
    {
     "name": "stdout",
     "output_type": "stream",
     "text": [
      "SampleData/Asthadi_17.wav\n",
      "SampleData/Aditya_16.wav\n",
      "SampleData/Karan_17.wav\n",
      "SampleData/Atul_20.wav\n"
     ]
    }
   ],
   "source": [
    "name = ''\n",
    "score = -100000\n",
    "wav_files = glob.glob('SampleData/*')\n",
    "for one in wav_files:\n",
    "    print(one)\n",
    "    srx,audiox = read(one)\n",
    "    featurex = mfcc.mfcc(audiox,srx, 0.025, 0.01,20,nfft = 1200, appendEnergy = True)\n",
    "    featurex = preprocessing.scale(featurex)\n",
    "    scorex = gmm.score(featurex)\n",
    "    if(score < scorex):\n",
    "        score = scorex\n",
    "        name = one\n",
    "name = identity = name[name.index('/')+1:name.index('.')]"
   ]
  },
  {
   "cell_type": "code",
   "execution_count": 35,
   "metadata": {},
   "outputs": [
    {
     "name": "stdout",
     "output_type": "stream",
     "text": [
      "Karan_17\n"
     ]
    }
   ],
   "source": [
    "print(name)"
   ]
  },
  {
   "cell_type": "code",
   "execution_count": null,
   "metadata": {},
   "outputs": [],
   "source": []
  }
 ],
 "metadata": {
  "kernelspec": {
   "display_name": "Python 3",
   "language": "python",
   "name": "python3"
  },
  "language_info": {
   "codemirror_mode": {
    "name": "ipython",
    "version": 3
   },
   "file_extension": ".py",
   "mimetype": "text/x-python",
   "name": "python",
   "nbconvert_exporter": "python",
   "pygments_lexer": "ipython3",
   "version": "3.7.4"
  }
 },
 "nbformat": 4,
 "nbformat_minor": 2
}
