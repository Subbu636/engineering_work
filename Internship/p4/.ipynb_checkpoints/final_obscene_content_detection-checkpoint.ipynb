{
 "cells": [
  {
   "cell_type": "code",
   "execution_count": 15,
   "metadata": {},
   "outputs": [],
   "source": [
    "# imports\n",
    "\n",
    "from google.cloud import vision\n",
    "from google.cloud import videointelligence\n",
    "from google.cloud.videointelligence import enums\n",
    "from gcloud import storage\n",
    "import os"
   ]
  },
  {
   "cell_type": "code",
   "execution_count": 16,
   "metadata": {},
   "outputs": [],
   "source": [
    "# constant parameters\n",
    "\n",
    "path_to_bucket = \"gs://rankingtranscript1/\"\n",
    "path_to_json = \"/home/subbu/PRML/Internship/p1/rankingtranscript-96316cee08ba.json\"\n",
    "bucket_name = \"rankingtranscript1\"\n"
   ]
  },
  {
   "cell_type": "code",
   "execution_count": 27,
   "metadata": {},
   "outputs": [],
   "source": [
    "def photo_content_analysis(file_name):\n",
    "    \n",
    "    client = vision.ImageAnnotatorClient()\n",
    "\n",
    "    image = vision.types.Image()\n",
    "    image.source.image_uri = path_to_bucket + file_name\n",
    "    \n",
    "    response = client.safe_search_detection(image=image)\n",
    "    safe = response.safe_search_annotation\n",
    "    \n",
    "    likelihood_name = ('UNKNOWN', 'VERY_UNLIKELY', 'UNLIKELY', 'POSSIBLE',\n",
    "                   'LIKELY', 'VERY_LIKELY')\n",
    "    identity = file_name[:file_name.index('.')]\n",
    "    \n",
    "    print('adult: {}'.format(likelihood_name[safe.adult]))\n",
    "    print('medical: {}'.format(likelihood_name[safe.medical]))\n",
    "    print('spoofed: {}'.format(likelihood_name[safe.spoof]))\n",
    "    print('violence: {}'.format(likelihood_name[safe.violence]))\n",
    "    print('racy: {}'.format(likelihood_name[safe.racy]))\n",
    "    \n",
    "    file = open(identity+'_content_analysis.txt',\"w+\")\n",
    "    \n",
    "    file.write('Content Analysis :\\n')\n",
    "    file.write('adult: {}'.format(likelihood_name[safe.adult])+'\\n')\n",
    "    file.write('medical: {}'.format(likelihood_name[safe.medical])+'\\n')\n",
    "    file.write('spoofed: {}'.format(likelihood_name[safe.spoof]))\n",
    "    file.write('violence: {}'.format(likelihood_name[safe.violence])+'\\n')\n",
    "    file.write('racy: {}'.format(likelihood_name[safe.racy])+'\\n')\n",
    "    \n",
    "    \n",
    "    file.close()\n",
    "    \n",
    "    storage_client = storage.Client.from_service_account_json(path_to_json)\n",
    "    bucket = storage_client.get_bucket(bucket_name )\n",
    "    blob = bucket.blob(identity+'_content_analysis.txt')\n",
    "    blob.upload_from_filename(identity+'_content_analysis.txt')\n",
    "    \n",
    "    os.remove(identity+'_content_analysis.txt')\n",
    "    \n",
    "    "
   ]
  },
  {
   "cell_type": "code",
   "execution_count": 31,
   "metadata": {},
   "outputs": [],
   "source": [
    "def video_content_analysis(file_name):\n",
    "    video_client = videointelligence.VideoIntelligenceServiceClient()\n",
    "    features = [videointelligence.enums.Feature.EXPLICIT_CONTENT_DETECTION]\n",
    "\n",
    "    operation = video_client.annotate_video(path_to_bucket+file_name, features=features)\n",
    "    print('\\nProcessing video for explicit content annotations:')\n",
    "\n",
    "    result = operation.result(timeout=90)\n",
    "    print('\\nFinished processing.')\n",
    "    \n",
    "    identity = file_name[:file_name.index('.')]\n",
    "    file = open(identity+'_content_analysis.txt',\"w+\")\n",
    "    \n",
    "    for frame in result.annotation_results[0].explicit_annotation.frames:\n",
    "        likelihood = enums.Likelihood(frame.pornography_likelihood)\n",
    "        frame_time = frame.time_offset.seconds + frame.time_offset.nanos / 1e9\n",
    "        print('Time: {}s'.format(frame_time))\n",
    "        print('\\tpornography: {}'.format(likelihood.name))\n",
    "        file.write('Time: {}s'.format(frame_time)+'\\n')\n",
    "        file.write('\\tpornography: {}'.format(likelihood.name) + '\\n')\n",
    "        \n",
    "    file.close()\n",
    "    \n",
    "    storage_client = storage.Client.from_service_account_json(path_to_json)\n",
    "    bucket = storage_client.get_bucket(bucket_name )\n",
    "    blob = bucket.blob(identity+'_content_analysis.txt')\n",
    "    blob.upload_from_filename(identity+'_content_analysis.txt')\n",
    "    \n",
    "    os.remove(identity+'_content_analysis.txt')"
   ]
  },
  {
   "cell_type": "code",
   "execution_count": 32,
   "metadata": {},
   "outputs": [
    {
     "name": "stdout",
     "output_type": "stream",
     "text": [
      "\n",
      "Processing video for explicit content annotations:\n",
      "\n",
      "Finished processing.\n",
      "Time: 0.478446s\n",
      "\tpornography: VERY_UNLIKELY\n",
      "Time: 1.54584s\n",
      "\tpornography: VERY_UNLIKELY\n",
      "Time: 2.61619s\n",
      "\tpornography: VERY_UNLIKELY\n",
      "Time: 3.548405s\n",
      "\tpornography: VERY_UNLIKELY\n",
      "Time: 4.4253730000000004s\n",
      "\tpornography: VERY_UNLIKELY\n",
      "Time: 5.573783s\n",
      "\tpornography: VERY_UNLIKELY\n",
      "Time: 6.75588s\n",
      "\tpornography: VERY_UNLIKELY\n",
      "Time: 7.768641s\n",
      "\tpornography: VERY_UNLIKELY\n",
      "Time: 8.761456s\n",
      "\tpornography: VERY_UNLIKELY\n",
      "Time: 9.751584s\n",
      "\tpornography: VERY_UNLIKELY\n",
      "Time: 10.666539s\n",
      "\tpornography: VERY_UNLIKELY\n",
      "Time: 11.64078s\n",
      "\tpornography: VERY_UNLIKELY\n"
     ]
    }
   ],
   "source": [
    "# trail runs\n",
    "\n",
    "video_content_analysis('my_video.webm')"
   ]
  },
  {
   "cell_type": "code",
   "execution_count": 28,
   "metadata": {},
   "outputs": [
    {
     "name": "stdout",
     "output_type": "stream",
     "text": [
      "adult: VERY_LIKELY\n",
      "medical: VERY_UNLIKELY\n",
      "spoofed: VERY_UNLIKELY\n",
      "violence: VERY_UNLIKELY\n",
      "racy: VERY_LIKELY\n"
     ]
    }
   ],
   "source": [
    "# trail runs\n",
    "\n",
    "photo_content_analysis('obscene3.jpg')"
   ]
  }
 ],
 "metadata": {
  "kernelspec": {
   "display_name": "Python 3",
   "language": "python",
   "name": "python3"
  },
  "language_info": {
   "codemirror_mode": {
    "name": "ipython",
    "version": 3
   },
   "file_extension": ".py",
   "mimetype": "text/x-python",
   "name": "python",
   "nbconvert_exporter": "python",
   "pygments_lexer": "ipython3",
   "version": "3.7.4"
  }
 },
 "nbformat": 4,
 "nbformat_minor": 2
}
