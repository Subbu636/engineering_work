{
 "cells": [
  {
   "cell_type": "markdown",
   "metadata": {},
   "source": [
    "### Obscene content detection\n",
    "##### Used APIs\n",
    "1 google.cloud / vision\n",
    "2 google.cloud / videointelligence\n",
    "##### input\n",
    "An image file or video file\n",
    "##### output\n",
    "Item rated interms of 6 catogiries: <br>\n",
    "'UNKNOWN'<br> 'VERY_UNLIKELY' <br> 'UNLIKELY' <br> 'POSSIBLE'<br>\n",
    "'LIKELY' <br> 'VERY_LIKELY'<br>\n",
    "\n",
    "\n",
    "#### Api is directly used so no scope of coding"
   ]
  },
  {
   "cell_type": "code",
   "execution_count": 1,
   "metadata": {},
   "outputs": [],
   "source": [
    "# using cloud vision to ..."
   ]
  },
  {
   "cell_type": "code",
   "execution_count": 2,
   "metadata": {},
   "outputs": [],
   "source": [
    "from google.cloud import vision"
   ]
  },
  {
   "cell_type": "code",
   "execution_count": 3,
   "metadata": {},
   "outputs": [],
   "source": [
    "client = vision.ImageAnnotatorClient()\n",
    "\n",
    "# image = vision.types.Image()\n",
    "# image.source.image_uri = uri\n",
    "\n",
    "with open(\"obscene/obscene3.jpg\", 'rb') as image_file:\n",
    "    content = image_file.read()\n",
    "\n",
    "image = vision.types.Image(content=content)"
   ]
  },
  {
   "cell_type": "code",
   "execution_count": 4,
   "metadata": {},
   "outputs": [
    {
     "name": "stdout",
     "output_type": "stream",
     "text": [
      "Safe search:\n",
      "adult: VERY_LIKELY\n",
      "medical: VERY_UNLIKELY\n",
      "spoofed: VERY_UNLIKELY\n",
      "violence: VERY_UNLIKELY\n",
      "racy: VERY_LIKELY\n"
     ]
    }
   ],
   "source": [
    "response = client.safe_search_detection(image=image)\n",
    "safe = response.safe_search_annotation\n",
    "\n",
    "# Names of likelihood from google.cloud.vision.enums\n",
    "likelihood_name = ('UNKNOWN', 'VERY_UNLIKELY', 'UNLIKELY', 'POSSIBLE',\n",
    "                   'LIKELY', 'VERY_LIKELY')\n",
    "print('Safe search:')\n",
    "\n",
    "print('adult: {}'.format(likelihood_name[safe.adult]))\n",
    "print('medical: {}'.format(likelihood_name[safe.medical]))\n",
    "print('spoofed: {}'.format(likelihood_name[safe.spoof]))\n",
    "print('violence: {}'.format(likelihood_name[safe.violence]))\n",
    "print('racy: {}'.format(likelihood_name[safe.racy]))"
   ]
  },
  {
   "cell_type": "code",
   "execution_count": 5,
   "metadata": {},
   "outputs": [
    {
     "data": {
      "text/plain": [
       "'\\ntwo ways to go on with obscene video detection\\n1. extract frames every 50th or 100th and use cloud vision api\\n2. use google video intelligence api\\n'"
      ]
     },
     "execution_count": 5,
     "metadata": {},
     "output_type": "execute_result"
    }
   ],
   "source": [
    "\"\"\"\n",
    "two ways to go on with obscene video detection\n",
    "1. extract frames every 50th or 100th and use cloud vision api\n",
    "2. use google video intelligence api\n",
    "\"\"\""
   ]
  },
  {
   "cell_type": "code",
   "execution_count": 6,
   "metadata": {},
   "outputs": [],
   "source": [
    "# using google video api"
   ]
  },
  {
   "cell_type": "code",
   "execution_count": 5,
   "metadata": {},
   "outputs": [],
   "source": [
    "from google.cloud import videointelligence\n",
    "from google.cloud.videointelligence import enums"
   ]
  },
  {
   "cell_type": "code",
   "execution_count": 6,
   "metadata": {},
   "outputs": [],
   "source": [
    "path = '/home/subbu/PRML/Internship/p4/'\n",
    "file = 'gs://rankingtranscript1/my_video.webm'"
   ]
  },
  {
   "cell_type": "code",
   "execution_count": 7,
   "metadata": {},
   "outputs": [
    {
     "name": "stdout",
     "output_type": "stream",
     "text": [
      "\n",
      "Processing video for explicit content annotations:\n",
      "\n",
      "Finished processing.\n"
     ]
    }
   ],
   "source": [
    "\"\"\" Detects explicit content from the GCS path to a video. \"\"\"\n",
    "video_client = videointelligence.VideoIntelligenceServiceClient()\n",
    "features = [videointelligence.enums.Feature.EXPLICIT_CONTENT_DETECTION]\n",
    "\n",
    "operation = video_client.annotate_video(file, features=features)\n",
    "print('\\nProcessing video for explicit content annotations:')\n",
    "\n",
    "result = operation.result(timeout=90)\n",
    "print('\\nFinished processing.')"
   ]
  },
  {
   "cell_type": "code",
   "execution_count": 8,
   "metadata": {},
   "outputs": [
    {
     "name": "stdout",
     "output_type": "stream",
     "text": [
      "Time: 0.478446s\n",
      "\tpornography: VERY_UNLIKELY\n",
      "Time: 1.54584s\n",
      "\tpornography: VERY_UNLIKELY\n",
      "Time: 2.61619s\n",
      "\tpornography: VERY_UNLIKELY\n",
      "Time: 3.548405s\n",
      "\tpornography: VERY_UNLIKELY\n",
      "Time: 4.4253730000000004s\n",
      "\tpornography: VERY_UNLIKELY\n",
      "Time: 5.573783s\n",
      "\tpornography: VERY_UNLIKELY\n",
      "Time: 6.75588s\n",
      "\tpornography: VERY_UNLIKELY\n",
      "Time: 7.768641s\n",
      "\tpornography: VERY_UNLIKELY\n",
      "Time: 8.761456s\n",
      "\tpornography: VERY_UNLIKELY\n",
      "Time: 9.751584s\n",
      "\tpornography: VERY_UNLIKELY\n",
      "Time: 10.666539s\n",
      "\tpornography: VERY_UNLIKELY\n",
      "Time: 11.64078s\n",
      "\tpornography: VERY_UNLIKELY\n"
     ]
    }
   ],
   "source": [
    "# first result is retrieved because a single video was processed\n",
    "for frame in result.annotation_results[0].explicit_annotation.frames:\n",
    "    likelihood = enums.Likelihood(frame.pornography_likelihood)\n",
    "    frame_time = frame.time_offset.seconds + frame.time_offset.nanos / 1e9\n",
    "    print('Time: {}s'.format(frame_time))\n",
    "    print('\\tpornography: {}'.format(likelihood.name))"
   ]
  },
  {
   "cell_type": "code",
   "execution_count": null,
   "metadata": {},
   "outputs": [],
   "source": []
  },
  {
   "cell_type": "code",
   "execution_count": null,
   "metadata": {},
   "outputs": [],
   "source": []
  },
  {
   "cell_type": "code",
   "execution_count": null,
   "metadata": {},
   "outputs": [],
   "source": []
  },
  {
   "cell_type": "code",
   "execution_count": null,
   "metadata": {},
   "outputs": [],
   "source": []
  }
 ],
 "metadata": {
  "kernelspec": {
   "display_name": "Python 3",
   "language": "python",
   "name": "python3"
  },
  "language_info": {
   "codemirror_mode": {
    "name": "ipython",
    "version": 3
   },
   "file_extension": ".py",
   "mimetype": "text/x-python",
   "name": "python",
   "nbconvert_exporter": "python",
   "pygments_lexer": "ipython3",
   "version": "3.7.4"
  }
 },
 "nbformat": 4,
 "nbformat_minor": 2
}
