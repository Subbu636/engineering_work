{
 "cells": [
  {
   "cell_type": "markdown",
   "metadata": {},
   "source": [
    "    Notes:\n",
    "    1. Active Network Interface = wlo1\n",
    "    2. pckt = sniff(iface=\"wlo1\",filter=\"tcp and port 80\",count=5)\n",
    "    3. wrpcap(\"testing.pcap\",pckt)\n",
    "    4. p = rdpcap(\"testing.pcap\")\n",
    "    5. arping(\"179.165.29.*\")\n",
    "    6. traceroute([\"google.com\"],maxttl=20)\n",
    "    7. sr(IP(dst=\"google.com\")/TCP(dport=[80])) -> can be send, sr to just send, recieve only one respectively.\n",
    "    8. sendp(Ether(src=\"aa:bb:cc:dd:ee:ff\")/IP(dst=\"google.com\",src=\"192\")/TCP(dport=[80]))"
   ]
  },
  {
   "cell_type": "code",
   "execution_count": null,
   "metadata": {},
   "outputs": [],
   "source": []
  },
  {
   "cell_type": "code",
   "execution_count": null,
   "metadata": {},
   "outputs": [],
   "source": []
  }
 ],
 "metadata": {
  "kernelspec": {
   "display_name": "Python 3",
   "language": "python",
   "name": "python3"
  },
  "language_info": {
   "codemirror_mode": {
    "name": "ipython",
    "version": 3
   },
   "file_extension": ".py",
   "mimetype": "text/x-python",
   "name": "python",
   "nbconvert_exporter": "python",
   "pygments_lexer": "ipython3",
   "version": "3.8.2"
  }
 },
 "nbformat": 4,
 "nbformat_minor": 4
}
