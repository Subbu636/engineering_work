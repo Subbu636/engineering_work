{
 "cells": [
  {
   "cell_type": "markdown",
   "metadata": {},
   "source": [
    "Before you turn this problem in, make sure everything runs as expected. First, **restart the kernel** (in the menubar, select Kernel$\\rightarrow$Restart) and then **run all cells** (in the menubar, select Cell$\\rightarrow$Run All).\n",
    "\n",
    "Make sure you fill in any place that says `YOUR CODE HERE` or \"YOUR ANSWER HERE\", as well as your name below:"
   ]
  },
  {
   "cell_type": "code",
   "execution_count": null,
   "metadata": {},
   "outputs": [],
   "source": [
    "NAME = \"\"\n",
    "ROLLNO = \"\""
   ]
  },
  {
   "cell_type": "markdown",
   "metadata": {},
   "source": [
    "## Important notes about grading:\n",
    "\n",
    "1. **Compiler errors:** All code you submit must compile. Programs that do not compile will probably receive an automatic zero. If you are having trouble getting your assignment to compile, please visit consulting hours. If you run out of time, it is better to comment out the parts that do not compile, than hand in a more complete file that does not compile.\n",
    "2. **Late assignments:** Please carefully review the course website's policy on late assignments, as all assignments handed in after the deadline will be considered late. Verify on moodle that you have submitted the correct version, before the deadline. Submitting the incorrect version before the deadline and realizing that you have done so after the deadline will be counted as a late submission."
   ]
  },
  {
   "cell_type": "markdown",
   "metadata": {
    "deletable": false,
    "editable": false,
    "nbgrader": {
     "checksum": "4e16ea9e26dd0149587e1542d99c13c1",
     "grade": false,
     "grade_id": "cell-41ce3e7523a44045",
     "locked": true,
     "schema_version": 1,
     "solution": false
    }
   },
   "source": [
    "## Problem 1\n",
    "\n",
    "Write a function \n",
    "\n",
    "```ocaml\n",
    "cond_dup : 'a list -> ('a -> bool) -> 'a\n",
    "```\n",
    "\n",
    "list that takes in a list and preciate and duplicates all elements which satisfy the condition expressed in the predicate. For example, `cond_dup [3;4;5] (fun x -> x mod 2 = 1) = [3;3;4;5;5]`."
   ]
  },
  {
   "cell_type": "code",
   "execution_count": null,
   "metadata": {
    "deletable": false,
    "nbgrader": {
     "checksum": "0e0ac58785d27f54c34ab4bde6d83047",
     "grade": false,
     "grade_id": "cell-7950f1ea0a84b889",
     "locked": false,
     "schema_version": 1,
     "solution": true
    }
   },
   "outputs": [],
   "source": [
    "let rec cond_dup l f =\n",
    "  (* YOUR CODE HERE *)\n",
    "   raise (Failure \"Not implemented\")"
   ]
  },
  {
   "cell_type": "code",
   "execution_count": null,
   "metadata": {
    "deletable": false,
    "editable": false,
    "nbgrader": {
     "checksum": "485b70fd287a9b28d78bba7c906df585",
     "grade": true,
     "grade_id": "cell-1d772b02ff64382c",
     "locked": true,
     "points": 10,
     "schema_version": 1,
     "solution": false
    }
   },
   "outputs": [],
   "source": [
    "assert (cond_dup [3;4;5] (fun x -> x mod 2 = 1) = [3;3;4;5;5])"
   ]
  },
  {
   "cell_type": "markdown",
   "metadata": {
    "deletable": false,
    "editable": false,
    "nbgrader": {
     "checksum": "3162fde0efe8a74cd964df1fb783efc8",
     "grade": false,
     "grade_id": "cell-67553e1ff5c90180",
     "locked": true,
     "schema_version": 1,
     "solution": false
    }
   },
   "source": [
    "## Problem 2\n",
    "\n",
    "Write a function \n",
    "\n",
    "```ocaml\n",
    "n_times : ('a -> 'a) * int * 'a -> 'a\n",
    "```\n",
    "\n",
    "such that `n_times (f,n,v)` applies `f` to `v` `n` times. For example, `n_times((fun x-> x+1), 50, 0) = 50`. If `n<=0` return `v`.\n"
   ]
  },
  {
   "cell_type": "code",
   "execution_count": null,
   "metadata": {
    "deletable": false,
    "nbgrader": {
     "checksum": "70bff1c78be75c722d932507f9254a90",
     "grade": false,
     "grade_id": "cell-c28f98bd63f56ba1",
     "locked": false,
     "schema_version": 1,
     "solution": true
    }
   },
   "outputs": [],
   "source": [
    "let rec n_times (f, n, v) =\n",
    "  (* YOUR CODE HERE *)\n",
    "   raise (Failure \"Not implemented\")"
   ]
  },
  {
   "cell_type": "code",
   "execution_count": null,
   "metadata": {
    "deletable": false,
    "editable": false,
    "nbgrader": {
     "checksum": "cda4bfd9b3779cd93629d65fad6a0178",
     "grade": true,
     "grade_id": "cell-98364653c4b77b2d",
     "locked": true,
     "points": 10,
     "schema_version": 1,
     "solution": false
    }
   },
   "outputs": [],
   "source": [
    "assert (n_times((fun x-> x+1), 50, 0) = 50)"
   ]
  },
  {
   "cell_type": "markdown",
   "metadata": {},
   "source": [
    "## Problem 3\n",
    "\n",
    "Write a function \n",
    "\n",
    "```ocaml\n",
    "range : int -> int -> int list \n",
    "```\n",
    "\n",
    "such that `range num1 num2` returns an ordered list of all integers from `num1` to `num2` inclusive. For example, `range 2 5 = [2;3;4;5]`. Raise the exception `IncorrectRange` if `num2 < num1`."
   ]
  },
  {
   "cell_type": "code",
   "execution_count": null,
   "metadata": {
    "deletable": false,
    "nbgrader": {
     "checksum": "01383825db162d3dfdaba29ab82c0273",
     "grade": false,
     "grade_id": "cell-1fd147f7eb3b139d",
     "locked": false,
     "schema_version": 1,
     "solution": true
    }
   },
   "outputs": [],
   "source": [
    "exception IncorrectRange\n",
    "\n",
    "let rec range num1 num2 =\n",
    "  (* YOUR CODE HERE *)\n",
    "   raise (Failure \"Not implemented\")"
   ]
  },
  {
   "cell_type": "code",
   "execution_count": null,
   "metadata": {
    "deletable": false,
    "editable": false,
    "nbgrader": {
     "checksum": "e41c32b68cc7c8f942d569625d8b1844",
     "grade": true,
     "grade_id": "cell-bba984120a807d42",
     "locked": true,
     "points": 10,
     "schema_version": 1,
     "solution": false
    }
   },
   "outputs": [],
   "source": [
    "assert (range 2 5 = [2;3;4;5])"
   ]
  },
  {
   "cell_type": "markdown",
   "metadata": {
    "deletable": false,
    "editable": false,
    "nbgrader": {
     "checksum": "f40688738b7b4af9f498b6b2a3b40e4f",
     "grade": false,
     "grade_id": "cell-02994ffdb9f579cf",
     "locked": true,
     "schema_version": 1,
     "solution": false
    }
   },
   "source": [
    "## Problem 4\n",
    "\n",
    "Write a function \n",
    "\n",
    "```ocaml\n",
    "zipwith : ('a -> 'b -> 'c) -> 'a list -> 'b list -> 'c list\n",
    "```\n",
    "\n",
    "such that `zipwith f l1 l2` generates a list whose `ith` element is obtained by applying `f` to the `ith` element of `l1` and the `ith` element of `l2` . If the lists have different lengths, the extra elements in the longer list should be ignored. For example, `zipwith (+) [1;2;3] [4;5] = [5;7]`."
   ]
  },
  {
   "cell_type": "code",
   "execution_count": null,
   "metadata": {
    "deletable": false,
    "nbgrader": {
     "checksum": "aea511e21220d113aebd62e8ff047792",
     "grade": false,
     "grade_id": "cell-932054b41dace011",
     "locked": false,
     "schema_version": 1,
     "solution": true
    }
   },
   "outputs": [],
   "source": [
    "let rec zipwith f l1 l2 =\n",
    "  (* YOUR CODE HERE *)\n",
    "   raise (Failure \"Not implemented\")"
   ]
  },
  {
   "cell_type": "code",
   "execution_count": null,
   "metadata": {
    "deletable": false,
    "editable": false,
    "nbgrader": {
     "checksum": "7114c1e84ecb81102c6951d0a57b44b1",
     "grade": true,
     "grade_id": "cell-55aefe5fa4f927d0",
     "locked": true,
     "points": 10,
     "schema_version": 1,
     "solution": false
    }
   },
   "outputs": [],
   "source": [
    "assert (zipwith (+) [1;2;3] [4;5] = [5;7]) "
   ]
  },
  {
   "cell_type": "markdown",
   "metadata": {
    "deletable": false,
    "editable": false,
    "nbgrader": {
     "checksum": "e86f25cd60d8c6c6466403f7a4a075f9",
     "grade": false,
     "grade_id": "cell-6d364d82aa5deaae",
     "locked": true,
     "schema_version": 1,
     "solution": false
    }
   },
   "source": [
    "## Problem 5\n",
    "\n",
    "Write a function \n",
    "\n",
    "```ocaml\n",
    "buckets : ('a -> 'a -> bool) -> 'a list -> 'a list list \n",
    "```\n",
    "\n",
    "that partitions a list into equivalence classes. That is, buckets equiv lst should return a list of lists where each sublist in the result contains equivalent elements, where two elements are considered equivalent if equiv returns true. For example:\n",
    "\n",
    "\n",
    "```ocaml\n",
    "buckets (=) [1;2;3;4] = [[1];[2];[3];[4]]\n",
    "buckets (=) [1;2;3;4;2;3;4;3;4] = [[1];[2;2];[3;3;3];[4;4;4]]\n",
    "buckets (fun x y -> (=) (x mod 3) (y mod 3)) [1;2;3;4;5;6] = [[1;4];[2;5];[3;6]]\n",
    "```\n",
    "\n",
    "The order of the buckets must reflect the order in which the elements appear in the original list. For example, the output of `buckets (=) [1;2;3;4]` should be `[[1];[2];[3];[4]]` and not `[[2];[1];[3];[4]]` or any other permutation.\n",
    "\n",
    "The order of the elements in each bucket must reflect the order in which the elements appear in the original list. For example, the output of `buckets (fun x y -> (=) (x mod 3) (y mod 3)) [1;2;3;4;5;6]` should be `[[1;4];[2;5];[3;6]]` and not `[[4;1];[5;2];[3;6]]` or any other permutations.\n",
    "\n",
    "Assume that the comparison function `('a -> 'a -> bool)` is commutative, associative and idempotent.\n",
    "\n",
    "Just use lists. Do not use sets or hash tables.\n",
    "\n",
    "List append function `@` may come in handy. `[1;2;3] @ [4;5;6] = [1;2;3;4;5;6]`."
   ]
  },
  {
   "cell_type": "code",
   "execution_count": null,
   "metadata": {
    "deletable": false,
    "nbgrader": {
     "checksum": "314741af7dba161a4e2d493afc42f7a2",
     "grade": false,
     "grade_id": "cell-f4d88f256cc9db8b",
     "locked": false,
     "schema_version": 1,
     "solution": true
    }
   },
   "outputs": [],
   "source": [
    "let buckets p l =\n",
    "  (* YOUR CODE HERE *)\n",
    "   raise (Failure \"Not implemented\")"
   ]
  },
  {
   "cell_type": "code",
   "execution_count": null,
   "metadata": {
    "deletable": false,
    "editable": false,
    "nbgrader": {
     "checksum": "c4daaa268d6e4ed11e40096126561121",
     "grade": true,
     "grade_id": "cell-fdbd3b5564e151cb",
     "locked": true,
     "points": 20,
     "schema_version": 1,
     "solution": false
    }
   },
   "outputs": [],
   "source": [
    "assert (buckets (=) [1;2;3;4] = [[1];[2];[3];[4]]);\n",
    "assert (buckets (=) [1;2;3;4;2;3;4;3;4] = [[1];[2;2];[3;3;3];[4;4;4]]);\n",
    "assert (buckets (fun x y -> (=) (x mod 3) (y mod 3)) [1;2;3;4;5;6] = [[1;4];[2;5];[3;6]])"
   ]
  },
  {
   "cell_type": "markdown",
   "metadata": {
    "deletable": false,
    "editable": false,
    "nbgrader": {
     "checksum": "6574b5ef5c82bc0380a3879fb887393f",
     "grade": false,
     "grade_id": "cell-a1b5f25dd108d44d",
     "locked": true,
     "schema_version": 1,
     "solution": false
    }
   },
   "source": [
    "## Problem 6\n",
    "\n",
    "Write a function \n",
    "\n",
    "```ocaml\n",
    "remove_stutter : 'a list -> 'a list\n",
    "```\n",
    "\n",
    "that removes stuttering from the original list. For example, `remove_stutter [1;2;2;3;1;1;1;4;4;2;2]= [1;2;3;1;4;2]`. Option type may come in handy. "
   ]
  },
  {
   "cell_type": "code",
   "execution_count": null,
   "metadata": {
    "deletable": false,
    "nbgrader": {
     "checksum": "0213a287bceea0a70c25db05dd1baf89",
     "grade": false,
     "grade_id": "cell-8865e0dd05cbd32d",
     "locked": false,
     "schema_version": 1,
     "solution": true
    }
   },
   "outputs": [],
   "source": [
    "let remove_stutter l =\n",
    "  (* YOUR CODE HERE *)\n",
    "   raise (Failure \"Not implemented\")"
   ]
  },
  {
   "cell_type": "code",
   "execution_count": null,
   "metadata": {
    "deletable": false,
    "editable": false,
    "nbgrader": {
     "checksum": "7c21d4cdd9bcb5fa086dd2a72bcfc62f",
     "grade": true,
     "grade_id": "cell-aa3fb845581c6fce",
     "locked": true,
     "points": 15,
     "schema_version": 1,
     "solution": false
    }
   },
   "outputs": [],
   "source": [
    "assert (remove_stutter [1;2;2;3;1;1;1;4;4;2;2] = [1; 2; 3; 1; 4; 2]) "
   ]
  },
  {
   "cell_type": "markdown",
   "metadata": {
    "deletable": false,
    "editable": false,
    "nbgrader": {
     "checksum": "b512b905b80d45f758a19345a61afd0d",
     "grade": false,
     "grade_id": "cell-4b542995895ed4a3",
     "locked": true,
     "schema_version": 1,
     "solution": false
    }
   },
   "source": [
    "## Problem 7\n",
    "\n",
    "Write a function\n",
    "\n",
    "```ocaml\n",
    "flatten : 'a list list -> 'a list\n",
    "```\n",
    "\n",
    "that flattens a list. For example, `flatten [[1;2];[3;4]] = [1;2;3;4]`."
   ]
  },
  {
   "cell_type": "code",
   "execution_count": null,
   "metadata": {
    "deletable": false,
    "nbgrader": {
     "checksum": "d64b202f105836a5a56d3bb9ba63af94",
     "grade": false,
     "grade_id": "cell-1ba30bbe74fd3005",
     "locked": false,
     "schema_version": 1,
     "solution": true
    }
   },
   "outputs": [],
   "source": [
    "let rec flatten l =\n",
    "  (* YOUR CODE HERE *)\n",
    "   raise (Failure \"Not implemented\")"
   ]
  },
  {
   "cell_type": "code",
   "execution_count": null,
   "metadata": {
    "deletable": false,
    "editable": false,
    "nbgrader": {
     "checksum": "b706e525e68de62036f58a2fac9d6e7e",
     "grade": true,
     "grade_id": "cell-8e986c3f5dbf5e89",
     "locked": true,
     "points": 10,
     "schema_version": 1,
     "solution": false
    }
   },
   "outputs": [],
   "source": [
    "assert (flatten ([[1;2];[3;4]]) = [1;2;3;4])"
   ]
  },
  {
   "cell_type": "markdown",
   "metadata": {
    "deletable": false,
    "editable": false,
    "nbgrader": {
     "checksum": "9ad4e26b104bc0580c545e116320850e",
     "grade": false,
     "grade_id": "cell-530261255defad7b",
     "locked": true,
     "schema_version": 1,
     "solution": false
    }
   },
   "source": [
    "## Problem 8\n",
    "\n",
    "Write a function\n",
    "\n",
    "```ocaml\n",
    "\n",
    "type 'a tree = Leaf | Node of 'a tree * 'a * 'a tree\n",
    "\n",
    "fold_inorder : ('a -> 'b -> 'a) -> 'a -> 'b tree -> 'a\n",
    "```\n",
    "\n",
    "That does a inorder fold of the tree. For example,\n",
    "\n",
    "`fold_inorder (fun acc x -> acc @ [x]) [] (Node (Node (Leaf,1,Leaf), 2, Node (Leaf,3,Leaf))) = [1;2;3]`"
   ]
  },
  {
   "cell_type": "code",
   "execution_count": null,
   "metadata": {
    "deletable": false,
    "nbgrader": {
     "checksum": "8c30b909f4ac2b532be6f0dd9c3f314b",
     "grade": false,
     "grade_id": "cell-7170388040d2ef4b",
     "locked": false,
     "schema_version": 1,
     "solution": true
    }
   },
   "outputs": [],
   "source": [
    "type 'a tree = Leaf | Node of 'a tree * 'a * 'a tree\n",
    "\n",
    "let rec fold_inorder f acc t =\n",
    "  (* YOUR CODE HERE *)\n",
    "   raise (Failure \"Not implemented\")"
   ]
  },
  {
   "cell_type": "code",
   "execution_count": null,
   "metadata": {
    "deletable": false,
    "editable": false,
    "nbgrader": {
     "checksum": "4acf8e4e93c546c1ad3bcd3ba98dd4a3",
     "grade": true,
     "grade_id": "cell-8bd22519c4af64bb",
     "locked": true,
     "points": 15,
     "schema_version": 1,
     "solution": false
    }
   },
   "outputs": [],
   "source": [
    "assert (fold_inorder (fun acc x -> acc @ [x]) [] (Node (Node (Leaf,1,Leaf), 2, Node (Leaf,3,Leaf))) = [1;2;3]) "
   ]
  },
  {
   "cell_type": "markdown",
   "metadata": {
    "deletable": false,
    "editable": false,
    "nbgrader": {
     "checksum": "e4ed2eac6685fe380c2287973d442df1",
     "grade": false,
     "grade_id": "cell-2b105ceb8932244c",
     "locked": true,
     "schema_version": 1,
     "solution": false
    }
   },
   "source": [
    "## Problem 9\n",
    "\n",
    "The usual recursive formulation of fibonacci function \n",
    "\n",
    "```ocaml\n",
    "let rec fib n = \n",
    "  if n = 0 then 0\n",
    "  else if n = 1 then 1\n",
    "  else fib (n-1) + fib (n-2)\n",
    "```\n",
    "\n",
    "has exponential running time. It will take a long time to compute `fib 50`. You might have to interrupt the kernel if you did try to do `fib 50` in the notebook.\n",
    "\n",
    "But we know that fibonacci number can be computed in linear time by remembering just the current `cur` and the previous `prev` fibonacci number. In this case, the next fibonacci number is computed as the sum of the current and the previous numbers. Then the program continues by setting `prev` to be `cur` and `cur` to be `cur + prev`.\n",
    "\n",
    "Implement a tail recursive function `fib_tailrec` that uses this idea and computes the `nth` fibonacci number in linear time. \n",
    "\n",
    "```ocaml\n",
    "fib_tailrec : int -> int\n",
    "```"
   ]
  },
  {
   "cell_type": "code",
   "execution_count": null,
   "metadata": {
    "deletable": false,
    "nbgrader": {
     "checksum": "2f0bb60118a1c7bd95a123c634b39702",
     "grade": false,
     "grade_id": "cell-39286aaf6b703959",
     "locked": false,
     "schema_version": 1,
     "solution": true
    }
   },
   "outputs": [],
   "source": [
    "let fib_tailrec n =\n",
    "  (* YOUR CODE HERE *)\n",
    "   raise (Failure \"Not implemented\")"
   ]
  },
  {
   "cell_type": "code",
   "execution_count": null,
   "metadata": {
    "deletable": false,
    "editable": false,
    "nbgrader": {
     "checksum": "4f2692b1c1d58b9b0f285b066c0bb5ec",
     "grade": true,
     "grade_id": "cell-57d3e7608b2286f5",
     "locked": true,
     "points": 15,
     "schema_version": 1,
     "solution": false
    }
   },
   "outputs": [],
   "source": [
    "assert (fib_tailrec 50 = 12586269025)"
   ]
  }
 ],
 "metadata": {
  "kernelspec": {
   "display_name": "OCaml 4.07.1",
   "language": "OCaml",
   "name": "ocaml-jupyter"
  },
  "language_info": {
   "codemirror_mode": "text/x-ocaml",
   "file_extension": ".ml",
   "mimetype": "text/x-ocaml",
   "name": "OCaml",
   "nbconverter_exporter": null,
   "pygments_lexer": "OCaml",
   "version": "4.07.1"
  }
 },
 "nbformat": 4,
 "nbformat_minor": 2
}
