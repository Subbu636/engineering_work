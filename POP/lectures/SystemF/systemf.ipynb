{
 "cells": [
  {
   "cell_type": "markdown",
   "metadata": {
    "slideshow": {
     "slide_type": "slide"
    }
   },
   "source": [
    "<center>\n",
    "\n",
    "<h1 style=\"text-align:center\"> Polymorphic Lambda Calculus: System F </h1>\n",
    "<h2 style=\"text-align:center\"> CS3100 Fall 2019 </h2>\n",
    "</center>"
   ]
  },
  {
   "cell_type": "markdown",
   "metadata": {
    "slideshow": {
     "slide_type": "slide"
    }
   },
   "source": [
    "## Review\n",
    "\n",
    "### Previously\n",
    "\n",
    "* Simply Typed Lambda Calulus.\n",
    "  + Products, Sums, Type Soundness\n",
    "  + Curry Howard Correspondence\n",
    "  + Type Erasure\n",
    "\n",
    "### Today\n",
    "\n",
    "* System F: Polymorphic Lambda Calculus\n",
    "\n",
    "$\n",
    "\\newcommand{\\stlc}{\\lambda^{\\rightarrow}}\n",
    "\\require{color}\n",
    "\\newcommand{\\c}[2]{{\\color{#1}{\\text{#2}}}}\n",
    "$"
   ]
  },
  {
   "cell_type": "markdown",
   "metadata": {
    "slideshow": {
     "slide_type": "slide"
    }
   },
   "source": [
    "## Doubling functions\n",
    "\n",
    "In simply typed lambda calculus, the `twice f x = f (f x)` function must be specified at every type:\n",
    "\n",
    "$\n",
    "twice\\_unit = \\lambda f:1 \\rightarrow 1.\\lambda x:1. f~(f ~x) \\\\\n",
    "twice\\_sum = \\lambda f: A+B \\rightarrow A+B.\\lambda x:A+B. f~(f ~x) \\\\\n",
    "twice\\_a2a = \\lambda f: (A \\rightarrow A) \\rightarrow (A \\rightarrow A). \\lambda x:A \\rightarrow A. f ~(f ~x)\n",
    "$\n",
    "\n",
    "Clearly this copy-pasting of code and changing the type violates the basic dictum of software engineering:\n",
    "\n",
    "**Abstraction Principle:** Each significant piece of functionality in a program should be implemented in just one place in the source code."
   ]
  },
  {
   "cell_type": "markdown",
   "metadata": {
    "slideshow": {
     "slide_type": "slide"
    }
   },
   "source": [
    "## Universal Type\n",
    "\n",
    "* System F (polymorphic lambda calculus) is obtained by extending Curry Howard isomorphism to $\\forall$.\n",
    "* System F has dedicated syntax for type and term families such as `twice`:\n",
    "  + The System F term $\\Lambda \\alpha.\\lambda f: \\alpha \\rightarrow \\alpha.\\lambda x:\\alpha.f ~(f ~x))$ has type $\\forall \\alpha.(\\alpha \\rightarrow \\alpha) \\rightarrow \\alpha \\rightarrow \\alpha$.\n",
    "* $\\Lambda \\alpha.M$ is called a **type abstraction**.\n",
    "  + Correspondingly, we also have a **type application** of the form $M A$, where $M$ is a term and $A$ is a type.\n",
    "* System F offers polymorphism\n",
    "  + $\\c{red}{But which kind?}$"
   ]
  },
  {
   "cell_type": "markdown",
   "metadata": {
    "slideshow": {
     "slide_type": "slide"
    }
   },
   "source": [
    "## Polymorphism\n",
    "\n",
    "Polymorphism comes in various kinds\n",
    "\n",
    "1. Ad-hoc polymorphism: \n",
    "   * function overloading (C++,Java)\n",
    "   * operator overloading (C++,Java,Standard ML, C)\n",
    "   * typeclasses (Haskell)\n",
    "2. Subtyping:\n",
    "   * subclasses (C++, Java, OCaml)\n",
    "   * Row polymorphism (OCaml)\n",
    "3. Parametric Polymorphism:\n",
    "   * polymorphic data and functions in OCaml, Haskell, Standard ML.\n",
    "   * Generics in Java, C#"
   ]
  },
  {
   "cell_type": "markdown",
   "metadata": {
    "slideshow": {
     "slide_type": "slide"
    }
   },
   "source": [
    "## Polymorphism\n",
    "\n",
    "* Unqualified term \"polymorphism\" means different things depending on who you talk to\n",
    "  + OO person: subtype polymorphism; parametric polymorphism is generics\n",
    "  + FP person: parametric polymorphism."
   ]
  },
  {
   "cell_type": "markdown",
   "metadata": {
    "slideshow": {
     "slide_type": "slide"
    }
   },
   "source": [
    "## Types\n",
    "\n",
    "Types in System F are as follows:\n",
    "\n",
    "\\\\[\n",
    "\\begin{array}{rcll}\n",
    "\\text{Types: } A,B & ::=  & \\alpha & \\text{(type variable)} \\\\\n",
    "                   & \\mid & A \\rightarrow B & \\text{(function type)} \\\\\n",
    "                   & \\mid & \\forall \\alpha.A & \\text{(universal type)}\n",
    "\\end{array}\n",
    "\\\\]\n",
    "\n",
    "* We have dropped pairs, sums, 1 (unit), 0 types from $\\lambda^{\\rightarrow}$\n",
    "  + Can be encoded!\n",
    "  + Recall that $\\lambda^{\\rightarrow}$ without base types was degenerate.\n",
    "* Notice the symmetry to untyped lambda calculus terms."
   ]
  },
  {
   "cell_type": "markdown",
   "metadata": {
    "slideshow": {
     "slide_type": "slide"
    }
   },
   "source": [
    "## Free Type Variables\n",
    "\n",
    "We define free type variables on System F types similar to free variables on lambda terms.\n",
    "\n",
    "\\\\[\n",
    "\\begin{array}{rcl}\n",
    "FTV(\\alpha) & = & \\alpha \\\\\n",
    "FTV(A \\rightarrow B) & = & FTV(A) \\cup FTV(B) \\\\\n",
    "FTV(\\forall \\alpha.A) & = & FTV(A) \\setminus \\{\\alpha\\}\n",
    "\\end{array}\n",
    "\\\\]\n",
    "\n",
    "$\\newcommand{\\inferrulel}[3]{\\displaystyle{\\frac{#1}{#2}~~{\\small #3}}}$"
   ]
  },
  {
   "cell_type": "markdown",
   "metadata": {
    "slideshow": {
     "slide_type": "slide"
    }
   },
   "source": [
    "## Typing Rules\n",
    "\n",
    "\\\\[\n",
    "\\begin{array}{cc}\n",
    "\\inferrulel{}{\\Gamma,x:A \\vdash x:A}{(var)} \\\\ \\\\\n",
    "\\inferrulel{\\Gamma \\vdash M : A \\rightarrow B \\quad \\Gamma \\vdash N : A}{\\Gamma \\vdash M~N : B}{(\\rightarrow elim)} &\n",
    "\\inferrulel{\\Gamma,x:A \\vdash M : B}{\\Gamma \\vdash \\lambda x:A.M : A \\rightarrow B}{(\\rightarrow intro)} \\\\ \\\\\n",
    "\\inferrulel{\\Gamma \\vdash M : \\forall \\alpha.A}\n",
    "           {\\Gamma \\vdash M ~B : A[B/\\alpha]}{(\\forall elim)} &\n",
    "\\inferrulel{\\Gamma \\vdash M : A \\quad \\alpha \\notin FTV(\\Gamma)}\n",
    "           {\\Gamma \\vdash \\Lambda \\alpha.M : \\forall \\alpha.A}\n",
    "           {(\\forall intro)}\n",
    "\\end{array}\n",
    "\\\\]"
   ]
  },
  {
   "cell_type": "markdown",
   "metadata": {
    "slideshow": {
     "slide_type": "slide"
    }
   },
   "source": [
    "## Terms\n",
    "\n",
    "\\\\[\n",
    "\\begin{array}{rcll}\n",
    "\\text{Terms: } M,N & ::=  & x & \\text{(variable)} \\\\\n",
    "                   & \\mid & M~N & \\text{(application)} \\\\\n",
    "                   & \\mid & M~[A] & \\text{(type application)} \\\\\n",
    "                   & \\mid & \\lambda x:A.M & \\text{(abstraction)} \\\\\n",
    "                   & \\mid & \\Lambda \\alpha.M & \\text{(type abstraction)}\n",
    "\\end{array}\n",
    "\\\\]\n",
    "\n",
    "$\\newcommand{\\inferrule}[2]{\\displaystyle{\\frac{#1}{#2}}}$"
   ]
  },
  {
   "cell_type": "markdown",
   "metadata": {
    "slideshow": {
     "slide_type": "slide"
    }
   },
   "source": [
    "## Substitution\n",
    "\n",
    "### For terms\n",
    "\n",
    "If $M$ is a term, $N$ a term, and $x$ a variable, we write $M[N/x]$ for capture-free substitution of $N$ for $x$ in $M$.\n",
    "\n",
    "### For types\n",
    "\n",
    "If $M$ is a term, $B$ a type, and $\\alpha$ a type variable, we write $M[B/\\alpha]$ for capture-free substitution of $B$ for $\\alpha$ in $M$.\n"
   ]
  },
  {
   "cell_type": "markdown",
   "metadata": {
    "slideshow": {
     "slide_type": "slide"
    }
   },
   "source": [
    "## Reduction: Boring Rules\n",
    "\n",
    "\\\\[\n",
    "\\begin{array}{ccc}\n",
    "\\inferrule{M \\rightarrow M'}{M~N \\rightarrow M'~N} & \n",
    "\\inferrule{N \\rightarrow N'}{M~N \\rightarrow M~N'} &\n",
    "\\inferrule{M \\rightarrow M'}{\\lambda x.M \\rightarrow \\lambda x.M'}\n",
    "\\end{array}\n",
    "\\\\]\n",
    "\n",
    "\\\\[\n",
    "\\begin{array}{cc}\n",
    "\\inferrule{M \\rightarrow M'}{M~A \\rightarrow M'~A} &\n",
    "\\inferrule{M \\rightarrow M'}{\\Lambda \\alpha.M \\rightarrow \\Lambda \\alpha.M'}\n",
    "\\end{array}\n",
    "\\\\]"
   ]
  },
  {
   "cell_type": "markdown",
   "metadata": {
    "slideshow": {
     "slide_type": "slide"
    }
   },
   "source": [
    "## Reductions: Interesting Rules\n",
    "\n",
    "\\\\[\n",
    "\\begin{array}{rcl}\n",
    "(\\lambda x:A.M) ~N       & \\rightarrow & M[N/x] \\\\\n",
    "(\\Lambda \\alpha.M) ~A    & \\rightarrow & M[A/\\alpha] \\\\\n",
    "\\lambda x:A.M ~x         & \\rightarrow & \\lambda M \\quad \\text{, if } x \\notin FV(M) \\\\\n",
    "\\lambda \\alpha.M ~\\alpha & \\rightarrow & \\lambda M \\quad \\text{, if } \\alpha \\notin FTV(M)\n",
    "\\end{array}\n",
    "\\\\]"
   ]
  },
  {
   "cell_type": "markdown",
   "metadata": {
    "slideshow": {
     "slide_type": "slide"
    }
   },
   "source": [
    "## Encodings : Booleans\n",
    "\n",
    "In untyped lambda calculus, `tru` and `fls` values were:\n",
    "\n",
    "```ocaml\n",
    "tru = 𝜆t.𝜆f.t\n",
    "fls = 𝜆t.𝜆f.f\n",
    "```\n",
    "\n",
    "In simply typed lambda calculus, there was a `tru` and `fls` for each type:\n",
    "\n",
    "```ocaml\n",
    "tru_int = 𝜆t:int.𝜆f:int.t\n",
    "tru_bool = 𝜆t:float.𝜆f:float.t\n",
    "```"
   ]
  },
  {
   "cell_type": "markdown",
   "metadata": {
    "slideshow": {
     "slide_type": "slide"
    }
   },
   "source": [
    "## Encoding Booleans\n",
    "\n",
    "In System F, there is a single polymorphic `tru` and `fls` values of type `bool`. We define the type `bool` and the booleans as\n",
    "\n",
    "\\\\[\n",
    "\\begin{array}{rcl}\n",
    "bool & = & \\forall \\alpha. \\alpha \\rightarrow \\alpha \\rightarrow \\alpha \\\\\n",
    "tru : bool & = & \\Lambda \\alpha. \\lambda t:\\alpha. \\lambda f:\\alpha. t \\\\\n",
    "fls : bool & = & \\Lambda \\alpha. \\lambda t:\\alpha. \\lambda f:\\alpha. f \\\\\n",
    "\\end{array}\n",
    "\\\\]\n",
    "\n",
    "Easy to see that the judgements $\\vdash tru : bool$ and $\\vdash fls : bool$ hold."
   ]
  },
  {
   "cell_type": "markdown",
   "metadata": {},
   "source": [
    "## Encoding boolean operations\n",
    "\n",
    "`test` function is defined as:\n",
    "\n",
    "\\\\[\n",
    "\\begin{array}{rcl}\n",
    "test : \\forall \\alpha. bool \\rightarrow \\alpha \\rightarrow \\alpha \\rightarrow \\alpha \\\\\n",
    "test = \\Lambda \\alpha. \\lambda b : bool. b~\\alpha\n",
    "\\end{array}\n",
    "\\\\]\n",
    "\n",
    "Notice the **type application** of $b$ to $\\alpha$ above. $test$ at $bool$ type is:\n",
    "\n",
    "\\\\[\n",
    "test\\_bool : bool \\rightarrow bool \\rightarrow bool = test ~bool\n",
    "\\\\]\n",
    "\n",
    "We can define logical operators as follows:\n",
    "\n",
    "\\\\[\n",
    "\\begin{array}{rcl}\n",
    "and : bool \\rightarrow bool \\rightarrow bool & = & \\lambda x:bool.\\lambda y:bool.x ~bool ~y ~fls \\\\\n",
    "or  : bool \\rightarrow bool \\rightarrow bool& = & \\lambda x:bool.\\lambda y:bool.x ~bool ~tru ~y \\\\\n",
    "not : bool \\rightarrow bool & = & \\lambda x:bool.x ~bool ~fls ~tru \n",
    "\\end{array}\n",
    "\\\\]"
   ]
  },
  {
   "cell_type": "markdown",
   "metadata": {
    "slideshow": {
     "slide_type": "slide"
    }
   },
   "source": [
    "## Encoding natural numbers\n",
    "\n",
    "The type for `nat` is defined as\n",
    "\n",
    "\\\\[\n",
    "nat = \\forall \\alpha. (\\alpha \\rightarrow \\alpha) \\rightarrow \\alpha \\rightarrow \\alpha\n",
    "\\\\]\n",
    "\n",
    "Now we can define church numerals as\n",
    "\n",
    "\\\\[\n",
    "\\begin{array}{rcl}\n",
    "zero : nat & = & \\Lambda \\alpha. \\lambda s : \\alpha \\rightarrow \\alpha. \\lambda z : \\alpha. z \\\\\n",
    "one  : nat & = & \\Lambda \\alpha. \\lambda s : \\alpha \\rightarrow \\alpha. \\lambda z : \\alpha. s~z \\\\\n",
    "two  : nat & = & \\Lambda \\alpha. \\lambda s : \\alpha \\rightarrow \\alpha. \\lambda z : \\alpha. s~(s~z)\n",
    "\\end{array}\n",
    "\\\\]"
   ]
  },
  {
   "cell_type": "markdown",
   "metadata": {
    "slideshow": {
     "slide_type": "slide"
    }
   },
   "source": [
    "## Pairs\n",
    "\n",
    "* Unlike $\\lambda^{\\rightarrow}$, we did not include a pair type in our types.\n",
    "\n",
    "\\\\[\n",
    "\\begin{array}{rcll}\n",
    "\\text{Types: } A,B & ::=  & \\alpha & \\text{(type variable)} \\\\\n",
    "                   & \\mid & A \\rightarrow B & \\text{(function type)} \\\\\n",
    "                   & \\mid & \\forall \\alpha.A & \\text{(universal type)}\n",
    "\\end{array}\n",
    "\\\\]\n",
    "\n",
    "* We can encode the pair **type**!\n",
    "  + We encoded pair **terms** in untyped lambda calculus.\n",
    "  + System F allows encoding of **types** as well as **terms**."
   ]
  },
  {
   "cell_type": "markdown",
   "metadata": {
    "slideshow": {
     "slide_type": "slide"
    }
   },
   "source": [
    "## Pairs\n",
    "\n",
    "Pair type is \n",
    "\n",
    "\\\\[\n",
    "A \\times B = \\forall \\alpha.(A \\rightarrow B \\rightarrow \\alpha) \\rightarrow \\alpha\n",
    "\\\\]\n",
    "\n",
    "(Why is the pair type this?)\n",
    "\n",
    "Given $M : A$ and $N : B$, the pair is\n",
    "\n",
    "\\\\[\n",
    "\\langle M,N \\rangle : A \\times B = \\Lambda \\alpha.\\lambda f:(A \\rightarrow B \\rightarrow \\alpha). f ~M ~N\n",
    "\\\\]\n",
    "\n",
    "The projection functions are\n",
    "\n",
    "\\\\[\n",
    "\\begin{array}{c}\n",
    "fst = \\Lambda \\alpha. \\Lambda \\beta. \\lambda p : \\alpha \\times \\beta. p~\\alpha~(\\lambda x:\\alpha.\\lambda y:\\beta.x) \\\\\n",
    "snd = \\Lambda \\alpha. \\Lambda \\beta. \\lambda p : \\alpha \\times \\beta. p~\\beta~(\\lambda x:\\alpha.\\lambda y:\\beta.y)\n",
    "\\end{array}\n",
    "\\\\]"
   ]
  },
  {
   "cell_type": "markdown",
   "metadata": {
    "slideshow": {
     "slide_type": "slide"
    }
   },
   "source": [
    "## Curry Howard Correspondence\n",
    "\n",
    "\\\\[\n",
    "\\begin{array}{cc}\n",
    "\\inferrulel{}{\\Gamma,x:A \\vdash A}{(var)} \\\\ \\\\\n",
    "\\inferrulel{\\Gamma \\vdash A \\implies B \\quad \\Gamma \\vdash A}\n",
    "           {\\Gamma \\vdash B}{(\\implies elim)} &\n",
    "\\inferrulel{\\Gamma,x:A \\vdash B}\n",
    "           {\\Gamma \\vdash A \\implies B}\n",
    "           {(\\implies intro)} \\\\ \\\\\n",
    "\\inferrulel{\\Gamma \\vdash \\forall \\alpha.A}\n",
    "           {\\Gamma \\vdash A[B/\\alpha]}{(\\forall ~elim)} &\n",
    "\\inferrulel{\\Gamma \\vdash A \\quad \\alpha \\notin FTV(\\Gamma)}\n",
    "           {\\Gamma \\vdash \\Lambda \\alpha.M : \\forall \\alpha.A}\n",
    "           {(\\forall ~intro)}\n",
    "\\end{array}\n",
    "\\\\]"
   ]
  },
  {
   "cell_type": "markdown",
   "metadata": {
    "slideshow": {
     "slide_type": "slide"
    }
   },
   "source": [
    "## Curry Howard Correspondence\n",
    "\n",
    "\\\\[\n",
    "\\begin{array}{cc}\n",
    "\\inferrulel{\\Gamma \\vdash \\forall \\alpha.A}\n",
    "           {\\Gamma \\vdash A[B/\\alpha]}{(\\forall ~elim)} &\n",
    "\\inferrulel{\\Gamma \\vdash A \\quad \\alpha \\notin FTV(\\Gamma)}\n",
    "           {\\Gamma \\vdash \\Lambda \\alpha.M : \\forall \\alpha.A}\n",
    "           {(\\forall ~intro)}\n",
    "\\end{array}\n",
    "\\\\]\n",
    "\n",
    "* $\\forall~intro$ is universal generalization\n",
    "  + If a statement has been proved for arbitrary $\\alpha$ then it holds for every $\\alpha$.\n",
    "* $a \\wedge b \\implies a$\n",
    "  * $\\neg (a \\wedge b) \\vee a$\n",
    "  * $\\neg a \\vee \\neg b \\vee a$\n",
    "  * $\\top \\vee \\neg b$\n",
    "  * $\\top$\n",
    "  * Hence, $\\forall a,b.a \\wedge b \\implies a$\n",
    "* Capture arbitrary $\\alpha$ by saying that $\\alpha$ is not an assumption in $\\Gamma$ i.e) not a free type variable for $\\Gamma$."
   ]
  },
  {
   "cell_type": "markdown",
   "metadata": {
    "slideshow": {
     "slide_type": "slide"
    }
   },
   "source": [
    "## Curry Howard Correspondence\n",
    "\n",
    "\\\\[\n",
    "\\begin{array}{cc}\n",
    "\\inferrulel{\\Gamma \\vdash \\forall \\alpha.A}\n",
    "           {\\Gamma \\vdash A[B/\\alpha]}{(\\forall ~elim)} &\n",
    "\\inferrulel{\\Gamma \\vdash A \\quad \\alpha \\notin FTV(\\Gamma)}\n",
    "           {\\Gamma \\vdash \\Lambda \\alpha.M : \\forall \\alpha.A}\n",
    "           {(\\forall ~intro)}\n",
    "\\end{array}\n",
    "\\\\]\n",
    "\n",
    "* $\\forall~elim$ is universal specialisation\n",
    "  + If a statement is true for all propositions $\\alpha$ it also holds for some proposition $B$."
   ]
  },
  {
   "cell_type": "markdown",
   "metadata": {
    "slideshow": {
     "slide_type": "slide"
    }
   },
   "source": [
    "## Missing Logical Connectives\n",
    "\n",
    "It turns out that $\\forall$ and $\\implies$ is sufficient to encode other logical connectives.\n",
    "\n",
    "\\\\[\n",
    "\\begin{array}{rcl}\n",
    "A \\wedge B & \\Leftrightarrow & \\forall \\alpha. (A \\Rightarrow B \\Rightarrow \\alpha) \\Rightarrow \\alpha \\\\\n",
    "A \\vee B & \\Leftrightarrow & \\forall \\alpha. (A \\Rightarrow \\alpha) \\Rightarrow (B \\Rightarrow \\alpha) \\Rightarrow \\alpha \\\\\n",
    "\\neg A & \\Leftrightarrow & \\forall \\alpha.A \\Rightarrow \\alpha \\\\\n",
    "\\top & \\Leftrightarrow & \\forall \\alpha.\\alpha \\Rightarrow \\alpha \\\\\n",
    "\\bot & \\Leftrightarrow & \\forall \\alpha.\\alpha \\\\\n",
    "\\exists \\beta.A & \\Leftrightarrow & \\forall \\alpha.(\\forall \\beta.A \\Rightarrow \\alpha) \\Rightarrow \\alpha\n",
    "\\end{array}\n",
    "\\\\]\n",
    "\n",
    "**Exercise:** Using informal intuitionistic reasoning, prove above."
   ]
  },
  {
   "cell_type": "markdown",
   "metadata": {
    "slideshow": {
     "slide_type": "slide"
    }
   },
   "source": [
    "## Pair type again\n",
    "\n",
    "Pair type is \n",
    "\n",
    "\\\\[\n",
    "A \\times B = \\forall \\alpha.(A \\rightarrow B \\rightarrow \\alpha) \\rightarrow \\alpha\n",
    "\\\\]\n",
    "\n",
    "The conjunction operator is defined as\n",
    "\n",
    "\\\\[\n",
    "A \\wedge B \\Leftrightarrow \\forall \\alpha. (A \\Rightarrow B \\Rightarrow \\alpha) \\Rightarrow \\alpha \n",
    "\\\\]"
   ]
  },
  {
   "cell_type": "markdown",
   "metadata": {
    "slideshow": {
     "slide_type": "slide"
    }
   },
   "source": [
    "<center>\n",
    "\n",
    "<h1 style=\"text-align:center\"> Fin. </h1>\n",
    "</center>"
   ]
  }
 ],
 "metadata": {
  "celltoolbar": "Slideshow",
  "kernelspec": {
   "display_name": "OCaml 4.07.1",
   "language": "OCaml",
   "name": "ocaml-jupyter"
  },
  "language_info": {
   "codemirror_mode": "text/x-ocaml",
   "file_extension": ".ml",
   "mimetype": "text/x-ocaml",
   "name": "OCaml",
   "nbconverter_exporter": null,
   "pygments_lexer": "OCaml",
   "version": "4.07.1"
  }
 },
 "nbformat": 4,
 "nbformat_minor": 2
}
