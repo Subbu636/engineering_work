{
 "cells": [
  {
   "cell_type": "markdown",
   "metadata": {
    "slideshow": {
     "slide_type": "slide"
    }
   },
   "source": [
    "<center>\n",
    "\n",
    "<h1 style=\"text-align:center\"> Lambda Calculus : Encodings </h1>\n",
    "<h2 style=\"text-align:center\"> CS3100 Fall 2019 </h2>\n",
    "</center>"
   ]
  },
  {
   "cell_type": "markdown",
   "metadata": {
    "slideshow": {
     "slide_type": "slide"
    }
   },
   "source": [
    "## Review\n",
    "\n",
    "### Previously\n",
    "\n",
    "* Semantics of untyped lambda calculus\n",
    "  + β-reductions, reduction strategies, normal forms, extensionality\n",
    "  \n",
    "### Today\n",
    "\n",
    "* Encodings\n",
    "  + Booleans, Arithmetic, Pairs, Recursion"
   ]
  },
  {
   "cell_type": "markdown",
   "metadata": {
    "slideshow": {
     "slide_type": "slide"
    }
   },
   "source": [
    "## Power of Lambdas\n",
    "\n",
    "* Despite its simplicity, the lambda calculus is quite expressive: it is **Turing complete**!\n",
    "* Means we can encode any computation we want\n",
    "  + if we are sufficiently clever...\n",
    "* Examples\n",
    "  + Booleans & predicate logic.\n",
    "  + Pairs\n",
    "  + Lists\n",
    "  + Natural numbers & arithmetic.\n",
    "  \n",
    "$\\newcommand{\\br}{\\rightarrow_{\\beta}}$"
   ]
  },
  {
   "cell_type": "code",
   "execution_count": 129,
   "metadata": {
    "slideshow": {
     "slide_type": "slide"
    }
   },
   "outputs": [
    {
     "data": {
      "text/plain": [
       "val p : string -> Syntax.expr = <fun>\n"
      ]
     },
     "execution_count": 129,
     "metadata": {},
     "output_type": "execute_result"
    },
    {
     "data": {
      "text/plain": [
       "val var : string -> Syntax.expr = <fun>\n"
      ]
     },
     "execution_count": 129,
     "metadata": {},
     "output_type": "execute_result"
    },
    {
     "data": {
      "text/plain": [
       "val app : Syntax.expr list -> Syntax.expr = <fun>\n"
      ]
     },
     "execution_count": 129,
     "metadata": {},
     "output_type": "execute_result"
    },
    {
     "data": {
      "text/plain": [
       "val lam : string -> Syntax.expr -> Syntax.expr = <fun>\n"
      ]
     },
     "execution_count": 129,
     "metadata": {},
     "output_type": "execute_result"
    },
    {
     "data": {
      "text/plain": [
       "val eval : ?log:bool -> ?depth:int -> Syntax.expr -> string = <fun>\n"
      ]
     },
     "execution_count": 129,
     "metadata": {},
     "output_type": "execute_result"
    }
   ],
   "source": [
    "#use \"init.ml\"\n",
    "\n",
    "let p = Lambda_parse.parse_string                                                   \n",
    "let var x = Var x                                                                 \n",
    "let app l =\n",
    "  match l with \n",
    "  | [] -> failwith \"ill typed app\"\n",
    "  | [x] -> x\n",
    "  | x::y::xs -> List.fold_left (fun expr v -> App (expr, v)) (App(x,y)) xs\n",
    "let lam x e = Lam(x,e)                                                              \n",
    "                                                                                    \n",
    "let eval ?(log=true) ?(depth=1000) s = \n",
    "     s  \n",
    "  |> Eval.eval ~log ~depth Eval.reduce_normal \n",
    "  |> Syntax.string_of_expr"
   ]
  },
  {
   "cell_type": "code",
   "execution_count": 130,
   "metadata": {},
   "outputs": [
    {
     "data": {
      "text/plain": [
       "- : Syntax.expr = Lam (\"x\", Var \"x\")\n"
      ]
     },
     "execution_count": 130,
     "metadata": {},
     "output_type": "execute_result"
    },
    {
     "data": {
      "text/plain": [
       "- : Syntax.expr = Var \"x\"\n"
      ]
     },
     "execution_count": 130,
     "metadata": {},
     "output_type": "execute_result"
    },
    {
     "data": {
      "text/plain": [
       "- : Syntax.expr = App (App (Var \"x\", Var \"y\"), Var \"z\")\n"
      ]
     },
     "execution_count": 130,
     "metadata": {},
     "output_type": "execute_result"
    },
    {
     "data": {
      "text/plain": [
       "- : Syntax.expr = Lam (\"x\", Var \"y\")\n"
      ]
     },
     "execution_count": 130,
     "metadata": {},
     "output_type": "execute_result"
    }
   ],
   "source": [
    "p \"\\\\x.x\";;\n",
    "var \"x\";;\n",
    "app [var \"x\"; var \"y\"; var \"z\"];;\n",
    "lam \"x\" (var \"y\");;"
   ]
  },
  {
   "cell_type": "markdown",
   "metadata": {
    "slideshow": {
     "slide_type": "slide"
    }
   },
   "source": [
    "## Booleans"
   ]
  },
  {
   "cell_type": "code",
   "execution_count": 131,
   "metadata": {
    "slideshow": {
     "slide_type": "fragment"
    }
   },
   "outputs": [
    {
     "data": {
      "text/plain": [
       "val tru : Syntax.expr = Lam (\"t\", Lam (\"f\", Var \"t\"))\n"
      ]
     },
     "execution_count": 131,
     "metadata": {},
     "output_type": "execute_result"
    },
    {
     "data": {
      "text/plain": [
       "val fls : Syntax.expr = Lam (\"t\", Lam (\"f\", Var \"f\"))\n"
      ]
     },
     "execution_count": 131,
     "metadata": {},
     "output_type": "execute_result"
    }
   ],
   "source": [
    "let tru = p \"\\\\t.\\\\f.t\"\n",
    "let fls = p \"\\\\t.\\\\f.f\""
   ]
  },
  {
   "cell_type": "markdown",
   "metadata": {
    "slideshow": {
     "slide_type": "fragment"
    }
   },
   "source": [
    "* Now we can define a `test` function such that\n",
    "  + `test tru v w` $\\br$ `v`\n",
    "  + `test fls v w` $\\br$ `w`"
   ]
  },
  {
   "cell_type": "code",
   "execution_count": 132,
   "metadata": {
    "slideshow": {
     "slide_type": "fragment"
    }
   },
   "outputs": [
    {
     "data": {
      "text/plain": [
       "val test : Syntax.expr =\n",
       "  Lam (\"l\", Lam (\"m\", Lam (\"n\", App (App (Var \"l\", Var \"m\"), Var \"n\"))))\n"
      ]
     },
     "execution_count": 132,
     "metadata": {},
     "output_type": "execute_result"
    }
   ],
   "source": [
    "let test = p \"\\\\l.\\\\m.\\\\n.l m n\""
   ]
  },
  {
   "cell_type": "markdown",
   "metadata": {
    "slideshow": {
     "slide_type": "slide"
    }
   },
   "source": [
    "## Booleans\n",
    "\n",
    "Now \n",
    "\n",
    "```ocaml\n",
    "test tru v w\n",
    "```\n",
    "\n",
    "evaluates to"
   ]
  },
  {
   "cell_type": "code",
   "execution_count": 133,
   "metadata": {
    "slideshow": {
     "slide_type": "fragment"
    }
   },
   "outputs": [
    {
     "name": "stdout",
     "output_type": "stream",
     "text": [
      "= (λl.λm.λn.l m n) ((λx.x) (λt.λf.t)) v w\n",
      "= (λm.λn.(λx.x) (λt.λf.t) m n) v w\n",
      "= (λn.(λx.x) (λt.λf.t) v n) w\n",
      "= (λx.x) (λt.λf.t) v w\n",
      "= (λt.λf.t) v w\n",
      "= (λf.v) w\n",
      "= v\n"
     ]
    },
    {
     "data": {
      "text/plain": [
       "- : string = \"v\"\n"
      ]
     },
     "execution_count": 133,
     "metadata": {},
     "output_type": "execute_result"
    }
   ],
   "source": [
    "eval @@ app [test; app [lam \"x\" (var \"x\"); tru]; var \"v\"; var \"w\"]"
   ]
  },
  {
   "cell_type": "markdown",
   "metadata": {
    "slideshow": {
     "slide_type": "slide"
    }
   },
   "source": [
    "## Booleans\n",
    "\n",
    "Similarly,\n",
    "\n",
    "```ocaml\n",
    "test fls v w\n",
    "```\n",
    "\n",
    "evaluates to"
   ]
  },
  {
   "cell_type": "code",
   "execution_count": 134,
   "metadata": {},
   "outputs": [
    {
     "name": "stdout",
     "output_type": "stream",
     "text": [
      "= (λl.λm.λn.l m n) (λt.λf.f) v w\n",
      "= (λm.λn.(λt.λf.f) m n) v w\n",
      "= (λn.(λt.λf.f) v n) w\n",
      "= (λt.λf.f) v w\n",
      "= (λf.f) w\n",
      "= w\n"
     ]
    },
    {
     "data": {
      "text/plain": [
       "- : string = \"w\"\n"
      ]
     },
     "execution_count": 134,
     "metadata": {},
     "output_type": "execute_result"
    }
   ],
   "source": [
    "eval @@ app [test; fls; var \"v\"; var \"w\"]"
   ]
  },
  {
   "cell_type": "markdown",
   "metadata": {
    "slideshow": {
     "slide_type": "slide"
    }
   },
   "source": [
    "## Booleans"
   ]
  },
  {
   "cell_type": "markdown",
   "metadata": {
    "slideshow": {
     "slide_type": "-"
    }
   },
   "source": [
    "`fls` itself is a function. `test fls v w` is equivalent to `fls v w`."
   ]
  },
  {
   "cell_type": "code",
   "execution_count": 135,
   "metadata": {
    "slideshow": {
     "slide_type": "fragment"
    }
   },
   "outputs": [
    {
     "name": "stdout",
     "output_type": "stream",
     "text": [
      "= (λt.λf.f) v w\n",
      "= (λf.f) w\n",
      "= w\n"
     ]
    },
    {
     "data": {
      "text/plain": [
       "- : string = \"w\"\n"
      ]
     },
     "execution_count": 135,
     "metadata": {},
     "output_type": "execute_result"
    }
   ],
   "source": [
    "eval @@ app [fls; var \"v\"; var \"w\"]"
   ]
  },
  {
   "cell_type": "markdown",
   "metadata": {
    "slideshow": {
     "slide_type": "slide"
    }
   },
   "source": [
    "## Logical operators\n",
    "\n",
    "```ocaml\n",
    "and = λb.λc.b c fls\n",
    "or = λb.λc.b tru c\n",
    "not = λb.b fls tru\n",
    "```"
   ]
  },
  {
   "cell_type": "code",
   "execution_count": 136,
   "metadata": {
    "slideshow": {
     "slide_type": "fragment"
    }
   },
   "outputs": [
    {
     "data": {
      "text/plain": [
       "val and_ : Syntax.expr =\n",
       "  Lam (\"b\",\n",
       "   Lam (\"c\", App (App (Var \"b\", Var \"c\"), Lam (\"t\", Lam (\"f\", Var \"f\")))))\n"
      ]
     },
     "execution_count": 136,
     "metadata": {},
     "output_type": "execute_result"
    },
    {
     "data": {
      "text/plain": [
       "val or_ : Syntax.expr =\n",
       "  Lam (\"b\",\n",
       "   Lam (\"c\", App (App (Var \"b\", Lam (\"t\", Lam (\"f\", Var \"t\"))), Var \"c\")))\n"
      ]
     },
     "execution_count": 136,
     "metadata": {},
     "output_type": "execute_result"
    },
    {
     "data": {
      "text/plain": [
       "val not_ : Syntax.expr =\n",
       "  Lam (\"b\",\n",
       "   App (App (Var \"b\", Lam (\"t\", Lam (\"f\", Var \"f\"))),\n",
       "    Lam (\"t\", Lam (\"f\", Var \"t\"))))\n"
      ]
     },
     "execution_count": 136,
     "metadata": {},
     "output_type": "execute_result"
    }
   ],
   "source": [
    "let and_ = lam \"b\" (lam \"c\" (app [var \"b\"; var \"c\"; fls]))\n",
    "let or_ = lam \"b\" (lam \"c\" (app [var \"b\"; tru; var \"c\"]))\n",
    "let not_ = lam \"b\" (app [var \"b\"; fls; tru])"
   ]
  },
  {
   "cell_type": "markdown",
   "metadata": {
    "slideshow": {
     "slide_type": "slide"
    }
   },
   "source": [
    "## Logical Operators"
   ]
  },
  {
   "cell_type": "code",
   "execution_count": 137,
   "metadata": {
    "slideshow": {
     "slide_type": "-"
    }
   },
   "outputs": [
    {
     "name": "stdout",
     "output_type": "stream",
     "text": [
      "= (λb.λc.b c (λt.λf.f)) (λt.λf.t) (λt.λf.f)\n",
      "= (λc.(λt.λf.t) c (λt.λf.f)) (λt.λf.f)\n",
      "= (λt.λf.t) (λt.λf.f) (λt.λf.f)\n",
      "= (λf.λt.λf.f) (λt.λf.f)\n",
      "= λt.λf.f\n"
     ]
    },
    {
     "data": {
      "text/plain": [
       "- : string = \"λt.λf.f\"\n"
      ]
     },
     "execution_count": 137,
     "metadata": {},
     "output_type": "execute_result"
    }
   ],
   "source": [
    "eval @@ app [and_; tru; fls]"
   ]
  },
  {
   "cell_type": "markdown",
   "metadata": {
    "slideshow": {
     "slide_type": "fragment"
    }
   },
   "source": [
    "The above is a **proof** for `true /\\ false = false`"
   ]
  },
  {
   "cell_type": "markdown",
   "metadata": {
    "slideshow": {
     "slide_type": "slide"
    }
   },
   "source": [
    "## Logical operators\n",
    "\n",
    "Encode implies using standard formulation.\n",
    "\n",
    "\\\\[\n",
    "\\begin{array}{rl}\n",
    " & p \\implies q \\equiv \\neg p \\vee q \\\\\n",
    "\\mathbf{Theorem 1.}  & a \\wedge b \\implies a\n",
    "\\end{array}\n",
    "\\\\]"
   ]
  },
  {
   "cell_type": "code",
   "execution_count": 138,
   "metadata": {
    "slideshow": {
     "slide_type": "fragment"
    }
   },
   "outputs": [
    {
     "data": {
      "text/plain": [
       "val implies : Syntax.expr =\n",
       "  Lam (\"p\",\n",
       "   Lam (\"q\",\n",
       "    App\n",
       "     (App\n",
       "       (Lam (\"b\",\n",
       "         Lam (\"c\",\n",
       "          App (App (Var \"b\", Lam (\"t\", Lam (\"f\", Var \"t\"))), Var \"c\"))),\n",
       "       App\n",
       "        (Lam (\"b\",\n",
       "          App (App (Var \"b\", Lam (\"t\", Lam (\"f\", Var \"f\"))),\n",
       "           Lam (\"t\", Lam (\"f\", Var \"t\")))),\n",
       "        Var \"p\")),\n",
       "     Var \"q\")))\n"
      ]
     },
     "execution_count": 138,
     "metadata": {},
     "output_type": "execute_result"
    },
    {
     "data": {
      "text/plain": [
       "val thm1 : Syntax.expr =\n",
       "  Lam (\"a\",\n",
       "   Lam (\"b\",\n",
       "    App\n",
       "     (App\n",
       "       (Lam (\"p\",\n",
       "         Lam (\"q\",\n",
       "          App\n",
       "           (App\n",
       "             (Lam (\"b\",\n",
       "               Lam (\"c\",\n",
       "                App (App (Var \"b\", Lam (\"t\", Lam (\"f\", Var \"t\"))), Var \"c\"))),\n",
       "             App\n",
       "              (Lam (\"b\",\n",
       "                App (App (Var \"b\", Lam (\"t\", Lam (\"f\", Var \"f\"))),\n",
       "                 Lam (\"t\", Lam (\"f\", Var \"t\")))),\n",
       "              Var \"p\")),\n",
       "           Var \"q\"))),\n",
       "       App\n",
       "        (App\n",
       "          (Lam (\"b\",\n",
       "            Lam (\"c\",\n",
       "             App (App (Var \"b\", Var \"c\"), Lam (\"t\", Lam (\"f\", Var \"f\"))))),\n",
       "          Var \"a\"),\n",
       "        Var \"b\")),\n",
       "     Var \"a\")))\n"
      ]
     },
     "execution_count": 138,
     "metadata": {},
     "output_type": "execute_result"
    }
   ],
   "source": [
    "let implies = lam \"p\" (lam \"q\" (app [or_; app [not_; var \"p\"]; var \"q\"]))\n",
    "let thm1 = lam \"a\" (lam \"b\" (app [implies; app [and_; var \"a\"; var \"b\"]; var \"a\"]))"
   ]
  },
  {
   "cell_type": "markdown",
   "metadata": {
    "slideshow": {
     "slide_type": "slide"
    }
   },
   "source": [
    "## Logical operators"
   ]
  },
  {
   "cell_type": "code",
   "execution_count": 139,
   "metadata": {},
   "outputs": [
    {
     "data": {
      "text/plain": [
       "- : string = \"λt.λf.t\"\n"
      ]
     },
     "execution_count": 139,
     "metadata": {},
     "output_type": "execute_result"
    }
   ],
   "source": [
    "eval ~log:false (app [thm1; tru; fls])"
   ]
  },
  {
   "cell_type": "markdown",
   "metadata": {
    "slideshow": {
     "slide_type": "slide"
    }
   },
   "source": [
    "## Quiz\n",
    "\n",
    "What is the lambda calculus encoding for `xor x y`\n",
    "\n",
    "| x | y | xor x y |\n",
    "|---|---|:-------:|\n",
    "| T | T |    F    |\n",
    "| T | F |    T    |\n",
    "| F | T |    T    |\n",
    "| F | F |    F    |\n",
    "\n",
    "1. x x y\n",
    "2. x (y tru fls) y\n",
    "3. x (y fls tru) y\n",
    "4. y x y"
   ]
  },
  {
   "cell_type": "markdown",
   "metadata": {
    "slideshow": {
     "slide_type": "slide"
    }
   },
   "source": [
    "## Quiz\n",
    "\n",
    "What is the lambda calculus encoding for `xor x y`\n",
    "\n",
    "| x | y | xor x y |\n",
    "|---|---|:-------:|\n",
    "| T | T |    F    |\n",
    "| T | F |    T    |\n",
    "| F | T |    T    |\n",
    "| F | F |    F    |\n",
    "\n",
    "1. x x y\n",
    "2. x (y tru fls) y\n",
    "3. x (y fls tru) y ✅\n",
    "4. y x y"
   ]
  },
  {
   "cell_type": "markdown",
   "metadata": {
    "slideshow": {
     "slide_type": "slide"
    }
   },
   "source": [
    "## Pairs"
   ]
  },
  {
   "cell_type": "code",
   "execution_count": 140,
   "metadata": {},
   "outputs": [
    {
     "data": {
      "text/plain": [
       "val mk_pair : 'a -> 'b -> 'a * 'b = <fun>\n"
      ]
     },
     "execution_count": 140,
     "metadata": {},
     "output_type": "execute_result"
    },
    {
     "data": {
      "text/plain": [
       "val fst : 'a * 'b -> 'a = <fun>\n"
      ]
     },
     "execution_count": 140,
     "metadata": {},
     "output_type": "execute_result"
    },
    {
     "data": {
      "text/plain": [
       "val snd : 'a * 'b -> 'b = <fun>\n"
      ]
     },
     "execution_count": 140,
     "metadata": {},
     "output_type": "execute_result"
    }
   ],
   "source": [
    "let mk_pair x y = (x,y)\n",
    "let fst (x,y) = x\n",
    "let snd (x,y) = y"
   ]
  },
  {
   "cell_type": "markdown",
   "metadata": {
    "slideshow": {
     "slide_type": "slide"
    }
   },
   "source": [
    "## Pairs\n",
    "\n",
    "* Encoding of a pair `(a,b)`\n",
    "  + Pair Constructor : (a,b) = λf.λs.λb.b f s"
   ]
  },
  {
   "cell_type": "code",
   "execution_count": 141,
   "metadata": {},
   "outputs": [
    {
     "data": {
      "text/plain": [
       "val pair : Syntax.expr =\n",
       "  Lam (\"f\", Lam (\"s\", Lam (\"b\", App (App (Var \"b\", Var \"f\"), Var \"s\"))))\n"
      ]
     },
     "execution_count": 141,
     "metadata": {},
     "output_type": "execute_result"
    }
   ],
   "source": [
    "let pair = p \"λf.λs.λb.b f s\""
   ]
  },
  {
   "cell_type": "markdown",
   "metadata": {
    "slideshow": {
     "slide_type": "slide"
    }
   },
   "source": [
    "## Pairs"
   ]
  },
  {
   "cell_type": "code",
   "execution_count": 142,
   "metadata": {},
   "outputs": [
    {
     "name": "stdout",
     "output_type": "stream",
     "text": [
      "= (λf.λs.λb.b f s) v w\n",
      "= (λs.λb.b v s) w\n",
      "= λb.b v w\n"
     ]
    },
    {
     "data": {
      "text/plain": [
       "- : string = \"λb.b v w\"\n"
      ]
     },
     "execution_count": 142,
     "metadata": {},
     "output_type": "execute_result"
    }
   ],
   "source": [
    "eval @@ app [pair; var \"v\"; var \"w\"]"
   ]
  },
  {
   "cell_type": "markdown",
   "metadata": {},
   "source": [
    "* The pair **value** is a function that takes a **boolean** as an argument and applies the elements of the pair to it.\n",
    "* `b` is a boolean is a **convention** that we should follow.\n",
    "  + No type safety."
   ]
  },
  {
   "cell_type": "markdown",
   "metadata": {
    "slideshow": {
     "slide_type": "slide"
    }
   },
   "source": [
    "## Pair accessor functions\n",
    "\n",
    "* Recall that a pair value is a function `λb.b v w` \n",
    "  + where `v` and `w` are the first and second elements of the pair.\n",
    "* We can define accessors `fst` and `snd` as follows:\n",
    "  + fst = λp.p tru\n",
    "  + snd = λp.p fls"
   ]
  },
  {
   "cell_type": "code",
   "execution_count": 143,
   "metadata": {},
   "outputs": [
    {
     "data": {
      "text/plain": [
       "val fst : Syntax.expr =\n",
       "  Lam (\"p\", App (Var \"p\", Lam (\"t\", Lam (\"f\", Var \"t\"))))\n"
      ]
     },
     "execution_count": 143,
     "metadata": {},
     "output_type": "execute_result"
    },
    {
     "data": {
      "text/plain": [
       "val snd : Syntax.expr =\n",
       "  Lam (\"p\", App (Var \"p\", Lam (\"t\", Lam (\"f\", Var \"f\"))))\n"
      ]
     },
     "execution_count": 143,
     "metadata": {},
     "output_type": "execute_result"
    }
   ],
   "source": [
    "let fst = lam \"p\" (app [var \"p\"; tru])\n",
    "let snd = lam \"p\" (app [var \"p\"; fls])"
   ]
  },
  {
   "cell_type": "markdown",
   "metadata": {
    "slideshow": {
     "slide_type": "slide"
    }
   },
   "source": [
    "## Pair accessor functions"
   ]
  },
  {
   "cell_type": "code",
   "execution_count": 144,
   "metadata": {
    "scrolled": false
   },
   "outputs": [
    {
     "name": "stdout",
     "output_type": "stream",
     "text": [
      "= (λp.p (λt.λf.t)) ((λf.λs.λb.b f s) v w)\n",
      "= (λf.λs.λb.b f s) v w (λt.λf.t)\n",
      "= (λs.λb.b v s) w (λt.λf.t)\n",
      "= (λb.b v w) (λt.λf.t)\n",
      "= (λt.λf.t) v w\n",
      "= (λf.v) w\n",
      "= v\n"
     ]
    },
    {
     "data": {
      "text/plain": [
       "- : string = \"v\"\n"
      ]
     },
     "execution_count": 144,
     "metadata": {},
     "output_type": "execute_result"
    }
   ],
   "source": [
    "eval ~log:true @@ app [fst; app[pair; var \"v\"; var \"w\"]]"
   ]
  },
  {
   "cell_type": "code",
   "execution_count": 145,
   "metadata": {},
   "outputs": [
    {
     "data": {
      "text/plain": [
       "- : string = \"w\"\n"
      ]
     },
     "execution_count": 145,
     "metadata": {},
     "output_type": "execute_result"
    }
   ],
   "source": [
    "eval ~log:false @@ app [snd; app [pair; var \"v\"; var \"w\"]]"
   ]
  },
  {
   "cell_type": "markdown",
   "metadata": {
    "slideshow": {
     "slide_type": "slide"
    }
   },
   "source": [
    "## Pair swap function\n",
    "\n",
    "In OCaml,\n",
    "\n",
    "```ocaml\n",
    "let swap (x,y) = (y,x)\n",
    "```\n",
    "\n",
    "In lambda calculus,\n",
    "\n",
    "```ocaml\n",
    "swap = λp.λb.b (snd p) (fst p)\n",
    "```"
   ]
  },
  {
   "cell_type": "code",
   "execution_count": 146,
   "metadata": {},
   "outputs": [
    {
     "data": {
      "text/plain": [
       "val swap : Syntax.expr =\n",
       "  Lam (\"p\",\n",
       "   Lam (\"b\",\n",
       "    App\n",
       "     (App (Var \"b\",\n",
       "       App (Lam (\"p\", App (Var \"p\", Lam (\"t\", Lam (\"f\", Var \"f\")))), Var \"p\")),\n",
       "     App (Lam (\"p\", App (Var \"p\", Lam (\"t\", Lam (\"f\", Var \"t\")))), Var \"p\"))))\n"
      ]
     },
     "execution_count": 146,
     "metadata": {},
     "output_type": "execute_result"
    }
   ],
   "source": [
    "let swap = lam \"p\" (lam \"b\" (app [var \"b\"; app [snd;var \"p\"]; app [fst; var \"p\"]]))"
   ]
  },
  {
   "cell_type": "markdown",
   "metadata": {
    "slideshow": {
     "slide_type": "slide"
    }
   },
   "source": [
    "## Pair swap function\n",
    "\n",
    "Let's try\n",
    "\n",
    "```ocaml\n",
    "fst (swap (v,w))\n",
    "```"
   ]
  },
  {
   "cell_type": "code",
   "execution_count": 147,
   "metadata": {},
   "outputs": [
    {
     "data": {
      "text/plain": [
       "- : string = \"w\"\n"
      ]
     },
     "execution_count": 147,
     "metadata": {},
     "output_type": "execute_result"
    }
   ],
   "source": [
    "eval ~log:false @@ app [fst; app [swap; app[pair; var \"v\"; var \"w\"]]]"
   ]
  },
  {
   "cell_type": "markdown",
   "metadata": {
    "slideshow": {
     "slide_type": "slide"
    }
   },
   "source": [
    "## Natural numbers\n",
    "\n",
    "* 0 = λs.λz.z\n",
    "* 1 = λs.λz.s z\n",
    "* 2 = λs.λz.s (s z)\n",
    "* 3 = λs.λz.s (s (s z))\n",
    "\n",
    "i.e., n = λs.λz.(apply `s` n times to `z`)\n",
    "\n",
    "Also known as **Church numerals**."
   ]
  },
  {
   "cell_type": "markdown",
   "metadata": {
    "slideshow": {
     "slide_type": "slide"
    }
   },
   "source": [
    "## Natural numbers"
   ]
  },
  {
   "cell_type": "code",
   "execution_count": 148,
   "metadata": {
    "slideshow": {
     "slide_type": "-"
    }
   },
   "outputs": [
    {
     "data": {
      "text/plain": [
       "val zero : Syntax.expr = Lam (\"s\", Lam (\"z\", Var \"z\"))\n"
      ]
     },
     "execution_count": 148,
     "metadata": {},
     "output_type": "execute_result"
    },
    {
     "data": {
      "text/plain": [
       "val one : Syntax.expr = Lam (\"s\", Lam (\"z\", App (Var \"s\", Var \"z\")))\n"
      ]
     },
     "execution_count": 148,
     "metadata": {},
     "output_type": "execute_result"
    },
    {
     "data": {
      "text/plain": [
       "val two : Syntax.expr =\n",
       "  Lam (\"s\", Lam (\"z\", App (Var \"s\", App (Var \"s\", Var \"z\"))))\n"
      ]
     },
     "execution_count": 148,
     "metadata": {},
     "output_type": "execute_result"
    },
    {
     "data": {
      "text/plain": [
       "val three : Syntax.expr =\n",
       "  Lam (\"s\", Lam (\"z\", App (Var \"s\", App (Var \"s\", App (Var \"s\", Var \"z\")))))\n"
      ]
     },
     "execution_count": 148,
     "metadata": {},
     "output_type": "execute_result"
    }
   ],
   "source": [
    "let zero = p (\"λs.λz.z\")\n",
    "let one = p (\"λs.λz.s z\")\n",
    "let two = p (\"λs.λz.s (s z)\")\n",
    "let three = p (\"λs.λz.s (s (s z))\")"
   ]
  },
  {
   "cell_type": "markdown",
   "metadata": {
    "slideshow": {
     "slide_type": "slide"
    }
   },
   "source": [
    "## Quiz\n",
    "\n",
    "What will be the OCaml type of church encoded numeral?\n",
    "\n",
    "1. `('a -> 'b) -> 'a -> 'b`\n",
    "2. `('a -> 'a) -> 'a -> 'a` \n",
    "3. `('a -> 'a) -> 'b -> int`\n",
    "4. `(int -> int) -> int -> int`"
   ]
  },
  {
   "cell_type": "markdown",
   "metadata": {
    "slideshow": {
     "slide_type": "slide"
    }
   },
   "source": [
    "## Quiz\n",
    "\n",
    "What will be the OCaml type of church encoded numeral?\n",
    "\n",
    "1. `('a -> 'b) -> 'a -> 'b`\n",
    "2. `('a -> 'a) -> 'a -> 'a` ✅\n",
    "3. `('a -> 'a) -> 'b -> int`\n",
    "4. `(int -> int) -> int -> int`"
   ]
  },
  {
   "cell_type": "markdown",
   "metadata": {
    "slideshow": {
     "slide_type": "slide"
    }
   },
   "source": [
    "## Operations on numbers: Successor\n",
    "\n",
    "Successor function is:\n",
    "\n",
    "```ocaml\n",
    "scc = λn.λs.λz.s (n s z)\n",
    "```"
   ]
  },
  {
   "cell_type": "code",
   "execution_count": 149,
   "metadata": {
    "slideshow": {
     "slide_type": "fragment"
    }
   },
   "outputs": [
    {
     "data": {
      "text/plain": [
       "val scc : Syntax.expr =\n",
       "  Lam (\"n\",\n",
       "   Lam (\"s\", Lam (\"z\", App (Var \"s\", App (App (Var \"n\", Var \"s\"), Var \"z\")))))\n"
      ]
     },
     "execution_count": 149,
     "metadata": {},
     "output_type": "execute_result"
    }
   ],
   "source": [
    "let scc = p (\"λn.λs.λz.s (n s z)\")"
   ]
  },
  {
   "cell_type": "code",
   "execution_count": 150,
   "metadata": {
    "scrolled": true,
    "slideshow": {
     "slide_type": "-"
    }
   },
   "outputs": [
    {
     "name": "stdout",
     "output_type": "stream",
     "text": [
      "= (λn.λs.λz.s (n s z)) (λs.λz.z)\n",
      "= λs.λz.s ((λs.λz.z) s z)\n",
      "= λs.λz.s ((λz.z) z)\n",
      "= λs.λz.s z\n"
     ]
    },
    {
     "data": {
      "text/plain": [
       "- : string = \"λs.λz.s z\"\n"
      ]
     },
     "execution_count": 150,
     "metadata": {},
     "output_type": "execute_result"
    }
   ],
   "source": [
    "eval @@ app [scc; zero]"
   ]
  },
  {
   "cell_type": "markdown",
   "metadata": {
    "slideshow": {
     "slide_type": "slide"
    }
   },
   "source": [
    "## Operations on numbers : is_zero\n",
    "\n",
    "Check if the given number is zero:\n",
    "\n",
    "```ocaml\n",
    "is_zero = λn.n (λy.fls) tru\n",
    "```"
   ]
  },
  {
   "cell_type": "code",
   "execution_count": 151,
   "metadata": {
    "slideshow": {
     "slide_type": "fragment"
    }
   },
   "outputs": [
    {
     "data": {
      "text/plain": [
       "val is_zero : Syntax.expr =\n",
       "  Lam (\"n\",\n",
       "   App (App (Var \"n\", Lam (\"y\", Lam (\"t\", Lam (\"f\", Var \"f\")))),\n",
       "    Lam (\"t\", Lam (\"f\", Var \"t\"))))\n"
      ]
     },
     "execution_count": 151,
     "metadata": {},
     "output_type": "execute_result"
    }
   ],
   "source": [
    "let is_zero = lam \"n\" (app [var \"n\"; lam \"y\" fls; tru])"
   ]
  },
  {
   "cell_type": "markdown",
   "metadata": {
    "slideshow": {
     "slide_type": "slide"
    }
   },
   "source": [
    "## Operations on numbers : is_zero"
   ]
  },
  {
   "cell_type": "code",
   "execution_count": 152,
   "metadata": {},
   "outputs": [
    {
     "name": "stdout",
     "output_type": "stream",
     "text": [
      "= (λn.n (λy.λt.λf.f) (λt.λf.t)) (λs.λz.z)\n",
      "= (λs.λz.z) (λy.λt.λf.f) (λt.λf.t)\n",
      "= (λz.z) (λt.λf.t)\n",
      "= λt.λf.t\n"
     ]
    },
    {
     "data": {
      "text/plain": [
       "- : string = \"λt.λf.t\"\n"
      ]
     },
     "execution_count": 152,
     "metadata": {},
     "output_type": "execute_result"
    }
   ],
   "source": [
    "eval @@ app [is_zero; zero]"
   ]
  },
  {
   "cell_type": "code",
   "execution_count": 153,
   "metadata": {},
   "outputs": [
    {
     "name": "stdout",
     "output_type": "stream",
     "text": [
      "= (λn.n (λy.λt.λf.f) (λt.λf.t)) (λs.λz.s z)\n",
      "= (λs.λz.s z) (λy.λt.λf.f) (λt.λf.t)\n",
      "= (λz.(λy.λt.λf.f) z) (λt.λf.t)\n",
      "= (λy.λt.λf.f) (λt.λf.t)\n",
      "= λt.λf.f\n"
     ]
    },
    {
     "data": {
      "text/plain": [
       "- : string = \"λt.λf.f\"\n"
      ]
     },
     "execution_count": 153,
     "metadata": {},
     "output_type": "execute_result"
    }
   ],
   "source": [
    "eval @@ app [is_zero; one]"
   ]
  },
  {
   "cell_type": "markdown",
   "metadata": {
    "slideshow": {
     "slide_type": "slide"
    }
   },
   "source": [
    "## Arithmetic\n",
    "\n",
    "```ocaml\n",
    "plus = λm.λn.λs.λz.m s (n s z)\n",
    "mult = λm.λn.λs.m (n s)\n",
    "```"
   ]
  },
  {
   "cell_type": "code",
   "execution_count": 154,
   "metadata": {
    "slideshow": {
     "slide_type": "fragment"
    }
   },
   "outputs": [
    {
     "data": {
      "text/plain": [
       "val plus : Syntax.expr =\n",
       "  Lam (\"m\",\n",
       "   Lam (\"n\",\n",
       "    Lam (\"s\",\n",
       "     Lam (\"z\",\n",
       "      App (App (Var \"m\", Var \"s\"), App (App (Var \"n\", Var \"s\"), Var \"z\"))))))\n"
      ]
     },
     "execution_count": 154,
     "metadata": {},
     "output_type": "execute_result"
    },
    {
     "data": {
      "text/plain": [
       "val mult : Syntax.expr =\n",
       "  Lam (\"m\", Lam (\"n\", Lam (\"s\", App (Var \"m\", App (Var \"n\", Var \"s\")))))\n"
      ]
     },
     "execution_count": 154,
     "metadata": {},
     "output_type": "execute_result"
    }
   ],
   "source": [
    "let plus = p (\"λm.λn.λs.λz.m s (n s z)\")\n",
    "let mult = p (\"λm.λn.λs.m (n s)\")"
   ]
  },
  {
   "cell_type": "markdown",
   "metadata": {
    "slideshow": {
     "slide_type": "slide"
    }
   },
   "source": [
    "## Arithmetic: addition"
   ]
  },
  {
   "cell_type": "code",
   "execution_count": 155,
   "metadata": {
    "scrolled": false
   },
   "outputs": [
    {
     "name": "stdout",
     "output_type": "stream",
     "text": [
      "= (λm.λn.λs.λz.m s (n s z)) (λs.λz.s z) (λs.λz.s (s z))\n",
      "= (λn.λs.λz.(λs.λz.s z) s (n s z)) (λs.λz.s (s z))\n",
      "= λs.λz.(λs.λz.s z) s ((λs.λz.s (s z)) s z)\n",
      "= λs.λz.(λz.s z) ((λs.λz.s (s z)) s z)\n",
      "= λs.λz.s ((λs.λz.s (s z)) s z)\n",
      "= λs.λz.s ((λz.s (s z)) z)\n",
      "= λs.λz.s (s (s z))\n"
     ]
    },
    {
     "data": {
      "text/plain": [
       "- : string = \"λs.λz.s (s (s z))\"\n"
      ]
     },
     "execution_count": 155,
     "metadata": {},
     "output_type": "execute_result"
    }
   ],
   "source": [
    "eval @@ app [plus; one; two]"
   ]
  },
  {
   "cell_type": "markdown",
   "metadata": {
    "slideshow": {
     "slide_type": "fragment"
    }
   },
   "source": [
    "Proves 1 + 2 = 3. Can build a theory of arithmetic over lambda calculus."
   ]
  },
  {
   "cell_type": "markdown",
   "metadata": {
    "slideshow": {
     "slide_type": "slide"
    }
   },
   "source": [
    "## Arithmetic: multiplication"
   ]
  },
  {
   "cell_type": "code",
   "execution_count": 156,
   "metadata": {
    "scrolled": true
   },
   "outputs": [
    {
     "name": "stdout",
     "output_type": "stream",
     "text": [
      "= (λm.λn.λs.m (n s)) (λs.λz.s (s z)) (λs.λz.z)\n",
      "= (λn.λs.(λs.λz.s (s z)) (n s)) (λs.λz.z)\n",
      "= λs.(λs.λz.s (s z)) ((λs.λz.z) s)\n",
      "= λs.λz.(λs.λz.z) s ((λs.λz.z) s z)\n",
      "= λs.λz.(λz.z) ((λs.λz.z) s z)\n",
      "= λs.λz.(λs.λz.z) s z\n",
      "= λs.λz.(λz.z) z\n",
      "= λs.λz.z\n"
     ]
    },
    {
     "data": {
      "text/plain": [
       "- : string = \"λs.λz.z\"\n"
      ]
     },
     "execution_count": 156,
     "metadata": {},
     "output_type": "execute_result"
    }
   ],
   "source": [
    "eval @@ app [mult; two; zero]"
   ]
  },
  {
   "cell_type": "markdown",
   "metadata": {
    "slideshow": {
     "slide_type": "slide"
    }
   },
   "source": [
    "## Arithmetic: predecessor\n",
    "\n",
    "It turns out predecessor function is much more tricky compared to successor. \n",
    "\n",
    "```ocaml\n",
    "zz = pair zero zero\n",
    "ss = λp. pair (snd p) (plus one (snd p))\n",
    "```"
   ]
  },
  {
   "cell_type": "markdown",
   "metadata": {
    "slideshow": {
     "slide_type": "fragment"
    }
   },
   "source": [
    "```ocaml\n",
    "zz = (0,0)\n",
    "ss zz = (0,1)\n",
    "ss (ss zz) = (1,2)\n",
    "ss (ss (ss zz)) = (2,3)\n",
    "```\n",
    "etc."
   ]
  },
  {
   "cell_type": "markdown",
   "metadata": {
    "slideshow": {
     "slide_type": "slide"
    }
   },
   "source": [
    "## Arithmetic: predecessor\n",
    "\n",
    "It turns out predecessor function is much more tricky compared to successor. \n",
    "\n",
    "```ocaml\n",
    "zz = pair zero zero\n",
    "ss = λp. pair (snd p) (plus one (snd p))\n",
    "prd = λm. fst (m ss zz)\n",
    "```"
   ]
  },
  {
   "cell_type": "code",
   "execution_count": 157,
   "metadata": {
    "slideshow": {
     "slide_type": "fragment"
    }
   },
   "outputs": [
    {
     "data": {
      "text/plain": [
       "val zz : Syntax.expr =\n",
       "  App\n",
       "   (App\n",
       "     (Lam (\"f\", Lam (\"s\", Lam (\"b\", App (App (Var \"b\", Var \"f\"), Var \"s\")))),\n",
       "     Lam (\"s\", Lam (\"z\", Var \"z\"))),\n",
       "   Lam (\"s\", Lam (\"z\", Var \"z\")))\n"
      ]
     },
     "execution_count": 157,
     "metadata": {},
     "output_type": "execute_result"
    },
    {
     "data": {
      "text/plain": [
       "val ss : Syntax.expr =\n",
       "  Lam (\"p\",\n",
       "   App\n",
       "    (App\n",
       "      (Lam (\"f\", Lam (\"s\", Lam (\"b\", App (App (Var \"b\", Var \"f\"), Var \"s\")))),\n",
       "      App (Lam (\"p\", App (Var \"p\", Lam (\"t\", Lam (\"f\", Var \"f\")))), Var \"p\")),\n",
       "    App\n",
       "     (App\n",
       "       (Lam (\"m\",\n",
       "         Lam (\"n\",\n",
       "          Lam (\"s\",\n",
       "           Lam (\"z\",\n",
       "            App (App (Var \"m\", Var \"s\"),\n",
       "             App (App (Var \"n\", Var \"s\"), Var \"z\")))))),\n",
       "       Lam (\"s\", Lam (\"z\", App (Var \"s\", Var \"z\")))),\n",
       "     App (Lam (\"p\", App (Var \"p\", Lam (\"t\", Lam (\"f\", Var \"f\")))), Var \"p\"))))\n"
      ]
     },
     "execution_count": 157,
     "metadata": {},
     "output_type": "execute_result"
    },
    {
     "data": {
      "text/plain": [
       "val prd : Syntax.expr =\n",
       "  Lam (\"m\",\n",
       "   App (Lam (\"p\", App (Var \"p\", Lam (\"t\", Lam (\"f\", Var \"t\")))),\n",
       "    App\n",
       "     (App (Var \"m\",\n",
       "       Lam (\"p\",\n",
       "        App\n",
       "         (App\n",
       "           (Lam (\"f\",\n",
       "             Lam (\"s\", Lam (\"b\", App (App (Var \"b\", Var \"f\"), Var \"s\")))),\n",
       "           App (Lam (\"p\", App (Var \"p\", Lam (\"t\", Lam (\"f\", Var \"f\")))),\n",
       "            Var \"p\")),\n",
       "         App\n",
       "          (App\n",
       "            (Lam (\"m\",\n",
       "              Lam (\"n\",\n",
       "               Lam (\"s\",\n",
       "                Lam (\"z\",\n",
       "                 App (App (Var \"m\", Var \"s\"),\n",
       "                  App (App (Var \"n\", Var \"s\"), Var \"z\")))))),\n",
       "            Lam (\"s\", Lam (\"z\", App (Var \"s\", Var \"z\")))),\n",
       "          App (Lam (\"p\", App (Var \"p\", Lam (\"t\", Lam (\"f\", Var \"f\")))),\n",
       "           Var \"p\"))))),\n",
       "     App\n",
       "      (App\n",
       "        (Lam (\"f\",\n",
       "          Lam (\"s\", Lam (\"b\", App (App (Var \"b\", Var \"f\"), Var \"s\")))),\n",
       "        Lam (\"s\", Lam (\"z\", Var \"z\"))),\n",
       "      Lam (\"s\", Lam (\"z\", Var \"z\"))))))\n"
      ]
     },
     "execution_count": 157,
     "metadata": {},
     "output_type": "execute_result"
    }
   ],
   "source": [
    "let zz = app [pair; zero; zero]\n",
    "let ss = lam \"p\" (app [pair; app [snd; var \"p\"]; app [plus; one; app [snd; var \"p\"]]])\n",
    "let prd = lam \"m\" (app [fst; app [var \"m\"; ss; zz]])"
   ]
  },
  {
   "cell_type": "markdown",
   "metadata": {
    "slideshow": {
     "slide_type": "slide"
    }
   },
   "source": [
    "## Arithmetic: Predecessor"
   ]
  },
  {
   "cell_type": "code",
   "execution_count": 158,
   "metadata": {},
   "outputs": [
    {
     "data": {
      "text/plain": [
       "- : string = \"λs.λz.s (s z)\"\n"
      ]
     },
     "execution_count": 158,
     "metadata": {},
     "output_type": "execute_result"
    }
   ],
   "source": [
    "eval ~log:false @@ app [prd; three]"
   ]
  },
  {
   "cell_type": "code",
   "execution_count": 159,
   "metadata": {},
   "outputs": [
    {
     "data": {
      "text/plain": [
       "- : string = \"λs.λz.z\"\n"
      ]
     },
     "execution_count": 159,
     "metadata": {},
     "output_type": "execute_result"
    }
   ],
   "source": [
    "eval ~log:false @@ app [prd; zero]"
   ]
  },
  {
   "cell_type": "markdown",
   "metadata": {
    "slideshow": {
     "slide_type": "slide"
    }
   },
   "source": [
    "## Arithmetic: Subtraction\n",
    "\n",
    "`sub` computes `m-n`:\n",
    "\n",
    "```ocaml\n",
    "sub = λm.λn.n prd m\n",
    "```\n",
    "\n",
    "Intuition: apply predecessor `n` times on `m`."
   ]
  },
  {
   "cell_type": "code",
   "execution_count": 160,
   "metadata": {},
   "outputs": [
    {
     "data": {
      "text/plain": [
       "val sub : Syntax.expr =\n",
       "  Lam (\"m\",\n",
       "   Lam (\"n\",\n",
       "    App\n",
       "     (App (Var \"n\",\n",
       "       Lam (\"m\",\n",
       "        App (Lam (\"p\", App (Var \"p\", Lam (\"t\", Lam (\"f\", Var \"t\")))),\n",
       "         App\n",
       "          (App (Var \"m\",\n",
       "            Lam (\"p\",\n",
       "             App\n",
       "              (App\n",
       "                (Lam (\"f\",\n",
       "                  Lam (\"s\", Lam (\"b\", App (App (Var \"b\", Var \"f\"), Var \"s\")))),\n",
       "                App (Lam (\"p\", App (Var \"p\", Lam (\"t\", Lam (\"f\", Var \"f\")))),\n",
       "                 Var \"p\")),\n",
       "              App\n",
       "               (App\n",
       "                 (Lam (\"m\",\n",
       "                   Lam (\"n\",\n",
       "                    Lam (\"s\",\n",
       "                     Lam (\"z\",\n",
       "                      App (App (Var \"m\", Var \"s\"),\n",
       "                       App (App (Var \"n\", Var \"s\"), Var \"z\")))))),\n",
       "                 Lam (\"s\", Lam (\"z\", App (Var \"s\", Var \"z\")))),\n",
       "               App (Lam (\"p\", App (Var \"p\", Lam (\"t\", Lam (\"f\", Var \"f\")))),\n",
       "                Var \"p\"))))),\n",
       "          App\n",
       "           (App\n",
       "             (Lam (\"f\",\n",
       "               Lam (\"s\", Lam (\"b\", App (App (Var \"b\", Var \"f\"), Var \"s\")))),\n",
       "             Lam (\"s\", Lam (\"z\", Var \"z\"))),\n",
       "           Lam (\"s\", Lam (\"z\", Var \"z\"))))))),\n",
       "     Var \"m\")))\n"
      ]
     },
     "execution_count": 160,
     "metadata": {},
     "output_type": "execute_result"
    }
   ],
   "source": [
    "let sub = lam \"m\" (lam \"n\" (app [var \"n\"; prd; var \"m\"]))"
   ]
  },
  {
   "cell_type": "markdown",
   "metadata": {
    "slideshow": {
     "slide_type": "slide"
    }
   },
   "source": [
    "## Arithmetic: Subtraction"
   ]
  },
  {
   "cell_type": "code",
   "execution_count": 161,
   "metadata": {},
   "outputs": [
    {
     "data": {
      "text/plain": [
       "- : string = \"λs.λz.s z\"\n"
      ]
     },
     "execution_count": 161,
     "metadata": {},
     "output_type": "execute_result"
    }
   ],
   "source": [
    "eval ~log:false @@ app [sub; three; two]"
   ]
  },
  {
   "cell_type": "code",
   "execution_count": 162,
   "metadata": {},
   "outputs": [
    {
     "data": {
      "text/plain": [
       "- : string = \"λs.λz.z\"\n"
      ]
     },
     "execution_count": 162,
     "metadata": {},
     "output_type": "execute_result"
    }
   ],
   "source": [
    "eval ~log:false @@ app [sub; two; three]"
   ]
  },
  {
   "cell_type": "markdown",
   "metadata": {
    "slideshow": {
     "slide_type": "slide"
    }
   },
   "source": [
    "## Arithmetic: equal\n",
    "\n",
    "* `m - n = 0` $\\implies$ `m = n`.\n",
    "  + But we operate on natural numbers.\n",
    "  + `3 - 4 = 0` $\\implies$ `3 = 4`.\n",
    "* `m - n = 0 && n - m = 0` $\\implies$ `m = n`."
   ]
  },
  {
   "cell_type": "code",
   "execution_count": 163,
   "metadata": {},
   "outputs": [
    {
     "data": {
      "text/plain": [
       "val equal : Syntax.expr =\n",
       "  Lam (\"m\",\n",
       "   Lam (\"n\",\n",
       "    App\n",
       "     (App\n",
       "       (Lam (\"b\",\n",
       "         Lam (\"c\",\n",
       "          App (App (Var \"b\", Var \"c\"), Lam (\"t\", Lam (\"f\", Var \"f\"))))),\n",
       "       App\n",
       "        (Lam (\"n\",\n",
       "          App (App (Var \"n\", Lam (\"y\", Lam (\"t\", Lam (\"f\", Var \"f\")))),\n",
       "           Lam (\"t\", Lam (\"f\", Var \"t\")))),\n",
       "        App\n",
       "         (App\n",
       "           (Lam (\"m\",\n",
       "             Lam (\"n\",\n",
       "              App\n",
       "               (App (Var \"n\",\n",
       "                 Lam (\"m\",\n",
       "                  App\n",
       "                   (Lam (\"p\", App (Var \"p\", Lam (\"t\", Lam (\"f\", Var \"t\")))),\n",
       "                   App\n",
       "                    (App (Var \"m\",\n",
       "                      Lam (\"p\",\n",
       "                       App\n",
       "                        (App\n",
       "                          (Lam (\"f\",\n",
       "                            Lam (\"s\",\n",
       "                             Lam (\"b\", App (App (Var \"b\", Var \"f\"), Var \"s\")))),\n",
       "                          App\n",
       "                           (Lam (\"p\",\n",
       "                             App (Var \"p\", Lam (\"t\", Lam (\"f\", Var \"f\")))),\n",
       "                           Var \"p\")),\n",
       "                        App\n",
       "                         (App\n",
       "                           (Lam (\"m\",\n",
       "                             Lam (\"n\",\n",
       "                              Lam (\"s\",\n",
       "                               Lam (\"z\",\n",
       "                                App (App (Var \"m\", Var \"s\"),\n",
       "                                 App (App (Var \"n\", Var \"s\"), Var \"z\")))))),\n",
       "                           Lam (\"s\", Lam (\"z\", App (Var \"s\", Var \"z\")))),\n",
       "                         App\n",
       "                          (Lam (\"p\",\n",
       "                            App (Var \"p\", Lam (\"t\", Lam (\"f\", Var \"f\")))),\n",
       "                          Var \"p\"))))),\n",
       "                    App\n",
       "                     (App\n",
       "                       (Lam (\"f\",\n",
       "                         Lam (\"s\",\n",
       "                          Lam (\"b\", App (App (Var \"b\", Var \"f\"), Var \"s\")))),\n",
       "                       Lam (\"s\", Lam (\"z\", Var \"z\"))),\n",
       "                     Lam (\"s\", Lam (\"z\", Var \"z\"))))))),\n",
       "               Var \"m\"))),\n",
       "           Var \"m\"),\n",
       "         Var \"n\"))),\n",
       "     App\n",
       "      (Lam (\"n\",\n",
       "        App (App (Var \"n\", Lam (\"y\", Lam (\"t\", Lam (\"f\", Var \"f\")))),\n",
       "         Lam (\"t\", Lam (\"f\", Var \"t\")))),\n",
       "      App\n",
       "       (App\n",
       "         (Lam (\"m\",\n",
       "           Lam (\"n\",\n",
       "            App\n",
       "             (App (Var \"n\",\n",
       "               Lam (\"m\",\n",
       "                App (Lam (\"p\", App (Var \"p\", Lam (\"t\", Lam (\"f\", Var \"t\")))),\n",
       "                 App\n",
       "                  (App (Var \"m\",\n",
       "                    Lam (\"p\",\n",
       "                     App\n",
       "                      (App\n",
       "                        (Lam (\"f\",\n",
       "                          Lam (\"s\",\n",
       "                           Lam (\"b\", App (App (Var \"b\", Var \"f\"), Var \"s\")))),\n",
       "                        App\n",
       "                         (Lam (\"p\",\n",
       "                           App (Var \"p\", Lam (\"t\", Lam (\"f\", Var \"f\")))),\n",
       "                         Var \"p\")),\n",
       "                      App\n",
       "                       (App\n",
       "                         (Lam (\"m\",\n",
       "                           Lam (\"n\",\n",
       "                            Lam (\"s\",\n",
       "                             Lam (\"z\",\n",
       "                              App (App (Var \"m\", Var \"s\"),\n",
       "                               App (App (Var \"n\", Var \"s\"), Var \"z\")))))),\n",
       "                         Lam (\"s\", Lam (\"z\", App (Var \"s\", Var \"z\")))),\n",
       "                       App (Lam (...), ...))))),\n",
       "                  ...)))),\n",
       "             ...))),\n",
       "         ...),\n",
       "       ...)))))\n"
      ]
     },
     "execution_count": 163,
     "metadata": {},
     "output_type": "execute_result"
    }
   ],
   "source": [
    "let equal = \n",
    "  let mnz = app [is_zero; app [sub; var \"m\"; var \"n\"]] in\n",
    "  let nmz = app [is_zero; app [sub; var \"n\"; var \"m\"]] in\n",
    "  lam \"m\" (lam \"n\" (app [and_; mnz; nmz]))"
   ]
  },
  {
   "cell_type": "markdown",
   "metadata": {
    "slideshow": {
     "slide_type": "slide"
    }
   },
   "source": [
    "## Arithmetic: equal"
   ]
  },
  {
   "cell_type": "code",
   "execution_count": 164,
   "metadata": {},
   "outputs": [
    {
     "data": {
      "text/plain": [
       "- : string = \"λt.λf.t\"\n"
      ]
     },
     "execution_count": 164,
     "metadata": {},
     "output_type": "execute_result"
    }
   ],
   "source": [
    "eval ~log:false @@ app [equal; two; two]"
   ]
  },
  {
   "cell_type": "code",
   "execution_count": 165,
   "metadata": {},
   "outputs": [
    {
     "data": {
      "text/plain": [
       "- : string = \"λt.λf.f\"\n"
      ]
     },
     "execution_count": 165,
     "metadata": {},
     "output_type": "execute_result"
    }
   ],
   "source": [
    "eval ~log:false @@ app [equal; app[sub; three; two]; two]"
   ]
  },
  {
   "cell_type": "code",
   "execution_count": 166,
   "metadata": {},
   "outputs": [
    {
     "data": {
      "text/plain": [
       "- : string = \"λt.λf.t\"\n"
      ]
     },
     "execution_count": 166,
     "metadata": {},
     "output_type": "execute_result"
    }
   ],
   "source": [
    "eval ~log:false @@ app [equal; app[sub; two; three]; zero]"
   ]
  },
  {
   "cell_type": "markdown",
   "metadata": {
    "slideshow": {
     "slide_type": "slide"
    }
   },
   "source": [
    "## Fixed points\n",
    "\n",
    "* Given a function $f$, if $x = f(x)$ then $x$ is said to be a fixed point for $f$.\n",
    "  + $f(x) = x^2$ has two fixed points 0 and 1. \n",
    "  + $f(x) = x + 1$ has no fixed points.\n",
    "* For lambda calculus, $N$ is said to be a fixed point of $F$ if $F ~N =_{\\beta} N$\n",
    "  + In the untyped lambda calculus, every term F has a fixed point!"
   ]
  },
  {
   "cell_type": "markdown",
   "metadata": {
    "slideshow": {
     "slide_type": "slide"
    }
   },
   "source": [
    "## Fixed points\n",
    "\n",
    "* Let `D = λx.x x`, then\n",
    "  + `D D = (λx.x x) (λx.x x)` $\\rightarrow_{\\beta}$ `(λx.x x) (λx.x x) = D D`.\n",
    "* So `D D` is an infinite loop\n",
    "  + In general, self-application is how you get looping"
   ]
  },
  {
   "cell_type": "markdown",
   "metadata": {
    "slideshow": {
     "slide_type": "slide"
    }
   },
   "source": [
    "## Fixed points\n",
    "\n",
    "$\n",
    "\\require{color}\n",
    "\\newcommand{\\yb}[1]{\\colorbox{yellow}{$#1$}}\n",
    "$\n",
    "\n",
    "Let $Y = \\lambda f.(\\lambda x.f ~(x ~x)) ~(\\lambda x.f ~(x ~x))$, then\n",
    "\n",
    "\\\\[\n",
    "\\begin{array}{rl}\n",
    "& Y ~F = (\\lambda \\yb{f}.(\\lambda x.f ~(x ~x)) ~(\\lambda x.f ~(x ~x))) ~F \\\\\n",
    "\\rightarrow_{\\beta} & (\\lambda \\yb{x}.F ~(x ~x)) ~\\yb{(\\lambda x.F ~(x ~x))} \\\\\n",
    "\\rightarrow_{\\beta} & F \\yb{((λx.F (x x)) (λx.F (x x)))} \\\\\n",
    "\\rightarrow_{\\beta} & F ~(Y ~F)\n",
    "\\end{array}\n",
    "\\\\]\n",
    "\n",
    "* Therefore, `Y F = F(Y F)`. \n",
    "  + `Y F` is said to be the fixed point of `F`.\n",
    "  + `Y F = F(Y F) = F(F(Y F)) = ...`\n",
    "  + `Y` (`y`-combinator) can be used to achieve recursion."
   ]
  },
  {
   "cell_type": "markdown",
   "metadata": {
    "slideshow": {
     "slide_type": "slide"
    }
   },
   "source": [
    "## Fixed point: Factorial\n",
    "\n",
    "```ocaml\n",
    "fact = λf.λn.if n = 0 then 1 else n * f (n-1)\n",
    "```\n",
    "\n",
    "* Second argument `n` is the integer.\n",
    "* First argument `f` is the function to call for the recursive case.\n",
    "* We will use y-combinator to achieve recursion. "
   ]
  },
  {
   "cell_type": "markdown",
   "metadata": {
    "slideshow": {
     "slide_type": "slide"
    }
   },
   "source": [
    "## Fixed point: Factorial\n",
    "\n",
    "\\\\[\n",
    "\\begin{array}{rl}\n",
    "& (Y ~\\text{fact}) ~1 = ~\\text{fact} ~(Y ~\\text{fact}) 1 \\\\\n",
    "\\rightarrow_{beta} & \\text{if } 1 = 0 \\text{ then } 1 \\text{ else } 1 * ((Y \\text{ fact}) ~0) \\\\\n",
    "\\rightarrow_{beta} & 1 * ((Y \\text{ fact}) ~0) \\\\\n",
    "\\rightarrow_{beta} & 1 * (\\text{fact } (Y \\text{ fact}) ~0) \\\\\n",
    "\\rightarrow_{beta} & 1 * \\text{if } 0 = 0 \\text{ then } 1 \\text{ else } 1 * ((Y \\text{ fact}) ~0) \\\\\n",
    "\\rightarrow_{beta} & 1 * 1 \\\\\n",
    "\\rightarrow_{beta} & 1 \\\\\n",
    "\\end{array}\n",
    "\\\\]"
   ]
  },
  {
   "cell_type": "markdown",
   "metadata": {
    "slideshow": {
     "slide_type": "slide"
    }
   },
   "source": [
    "## Fixed point: Factorial\n"
   ]
  },
  {
   "cell_type": "code",
   "execution_count": 167,
   "metadata": {},
   "outputs": [
    {
     "data": {
      "text/plain": [
       "val y : Syntax.expr =\n",
       "  Lam (\"f\",\n",
       "   App (Lam (\"x\", App (Var \"f\", App (Var \"x\", Var \"x\"))),\n",
       "    Lam (\"x\", App (Var \"f\", App (Var \"x\", Var \"x\")))))\n"
      ]
     },
     "execution_count": 167,
     "metadata": {},
     "output_type": "execute_result"
    },
    {
     "data": {
      "text/plain": [
       "val fact : Syntax.expr =\n",
       "  Lam (\"f\",\n",
       "   Lam (\"n\",\n",
       "    App\n",
       "     (App\n",
       "       (App\n",
       "         (Lam (\"n\",\n",
       "           App (App (Var \"n\", Lam (\"y\", Lam (\"t\", Lam (\"f\", Var \"f\")))),\n",
       "            Lam (\"t\", Lam (\"f\", Var \"t\")))),\n",
       "         Var \"n\"),\n",
       "       Lam (\"s\", Lam (\"z\", App (Var \"s\", Var \"z\")))),\n",
       "     App\n",
       "      (App\n",
       "        (Lam (\"m\",\n",
       "          Lam (\"n\", Lam (\"s\", App (Var \"m\", App (Var \"n\", Var \"s\"))))),\n",
       "        Var \"n\"),\n",
       "      App (Var \"f\",\n",
       "       App\n",
       "        (Lam (\"m\",\n",
       "          App (Lam (\"p\", App (Var \"p\", Lam (\"t\", Lam (\"f\", Var \"t\")))),\n",
       "           App\n",
       "            (App (Var \"m\",\n",
       "              Lam (\"p\",\n",
       "               App\n",
       "                (App\n",
       "                  (Lam (\"f\",\n",
       "                    Lam (\"s\",\n",
       "                     Lam (\"b\", App (App (Var \"b\", Var \"f\"), Var \"s\")))),\n",
       "                  App\n",
       "                   (Lam (\"p\", App (Var \"p\", Lam (\"t\", Lam (\"f\", Var \"f\")))),\n",
       "                   Var \"p\")),\n",
       "                App\n",
       "                 (App\n",
       "                   (Lam (\"m\",\n",
       "                     Lam (\"n\",\n",
       "                      Lam (\"s\",\n",
       "                       Lam (\"z\",\n",
       "                        App (App (Var \"m\", Var \"s\"),\n",
       "                         App (App (Var \"n\", Var \"s\"), Var \"z\")))))),\n",
       "                   Lam (\"s\", Lam (\"z\", App (Var \"s\", Var \"z\")))),\n",
       "                 App\n",
       "                  (Lam (\"p\", App (Var \"p\", Lam (\"t\", Lam (\"f\", Var \"f\")))),\n",
       "                  Var \"p\"))))),\n",
       "            App\n",
       "             (App\n",
       "               (Lam (\"f\",\n",
       "                 Lam (\"s\", Lam (\"b\", App (App (Var \"b\", Var \"f\"), Var \"s\")))),\n",
       "               Lam (\"s\", Lam (\"z\", Var \"z\"))),\n",
       "             Lam (\"s\", Lam (\"z\", Var \"z\")))))),\n",
       "        Var \"n\"))))))\n"
      ]
     },
     "execution_count": 167,
     "metadata": {},
     "output_type": "execute_result"
    }
   ],
   "source": [
    "let y = p \"λf.(λx.f (x x)) (λx.f (x x))\"\n",
    "let fact = \n",
    "  let tst = app [is_zero; var \"n\"] in\n",
    "  let fb = app [mult; var \"n\"; app [var \"f\"; app [prd; var \"n\"]]] in\n",
    "  lam \"f\" (lam \"n\" (app [tst; one; fb]))"
   ]
  },
  {
   "cell_type": "code",
   "execution_count": 168,
   "metadata": {
    "slideshow": {
     "slide_type": "slide"
    }
   },
   "outputs": [
    {
     "data": {
      "text/plain": [
       "- : string = \"λs.λz.s (s z)\"\n"
      ]
     },
     "execution_count": 168,
     "metadata": {},
     "output_type": "execute_result"
    }
   ],
   "source": [
    "eval ~log:false @@ app [y; fact; two]"
   ]
  },
  {
   "cell_type": "markdown",
   "metadata": {
    "slideshow": {
     "slide_type": "slide"
    }
   },
   "source": [
    "## Quiz\n",
    "\n",
    "The y-combinator Y = λf.(λx.f (x x)) (λx.f (x x)) is a fixed pointer combinator under which reduction strategy?\n",
    "\n",
    "1. Call-by-value\n",
    "2. Call-by-name\n",
    "3. Both\n",
    "4. Neither"
   ]
  },
  {
   "cell_type": "markdown",
   "metadata": {
    "slideshow": {
     "slide_type": "slide"
    }
   },
   "source": [
    "## Quiz\n",
    "\n",
    "The y-combinator Y = λf.(λx.f (x x)) (λx.f (x x)) is a fixed pointer combinator under which reduction strategy?\n",
    "\n",
    "1. Call-by-value\n",
    "2. Call-by-name ✅\n",
    "3. Both\n",
    "4. Neither\n",
    "\n",
    "Under call-by-value, we will keep indefinitely expanding `Y F = F (Y F) = F (F (Y F)) = ...`."
   ]
  },
  {
   "cell_type": "markdown",
   "metadata": {
    "slideshow": {
     "slide_type": "slide"
    }
   },
   "source": [
    "## Fixed point: Z combinator\n",
    "\n",
    "There is indeed a fixed point combinator for call-by-value called the Z combinator\n",
    "\n",
    "```ocaml\n",
    "Z = λf. (λx. f (λy. x x y)) (λx. f (λy. x x y))\n",
    "```\n",
    "\n",
    "which is just an $\\eta$-expansion of the Y combinator\n",
    "\n",
    "```ocaml\n",
    "Y = λf. (λx. f (x x)) (λx. f (x x))\n",
    "```"
   ]
  },
  {
   "cell_type": "markdown",
   "metadata": {
    "slideshow": {
     "slide_type": "slide"
    }
   },
   "source": [
    "## Fixed point: Z combinator\n",
    "\n",
    "\\\\[\n",
    "\\begin{array}{rl}\n",
    " & Z ~F = (λ\\yb{f}.(λx.f ~(λy.x ~x ~y)) ~(λx.f ~(λy.x ~x ~y))) ~\\yb{F} \\\\\n",
    "\\rightarrow_{\\beta V} & (λ\\yb{x}.F ~(λy.x ~x ~y)) ~\\yb{(λx.F ~(λy.x ~x ~y))} \\\\\n",
    "\\rightarrow_{\\beta V} & F ~(λy.\\yb{(λx.F ~(λy.x ~x ~y)) ~(λx.F ~(λy.x ~x ~y))} ~y)  \\\\\n",
    "\\rightarrow_{\\beta V} & F ~(λy. (Z ~F) ~y)\n",
    "\\end{array}\n",
    "\\\\]\n",
    "\n",
    "The $\\eta$-expansion has prevented further reduction."
   ]
  },
  {
   "cell_type": "markdown",
   "metadata": {
    "slideshow": {
     "slide_type": "slide"
    }
   },
   "source": [
    "## Recursive data structures: Lists\n",
    "\n",
    "* We have earlier seen simple data strcuture `pair` encoded in lambda calculus. \n",
    "* Recursive data structures can also be encoded.\n",
    "  + List, Trees, etc.\n",
    "* Mogensen–Scott encoding\n",
    "  + Take constructors as arguments"
   ]
  },
  {
   "cell_type": "code",
   "execution_count": 169,
   "metadata": {
    "slideshow": {
     "slide_type": "fragment"
    }
   },
   "outputs": [
    {
     "data": {
      "text/plain": [
       "val nil : Syntax.expr = Lam (\"c\", Lam (\"n\", Var \"n\"))\n"
      ]
     },
     "execution_count": 169,
     "metadata": {},
     "output_type": "execute_result"
    },
    {
     "data": {
      "text/plain": [
       "val cons : Syntax.expr =\n",
       "  Lam (\"h\",\n",
       "   Lam (\"t\", Lam (\"c\", Lam (\"n\", App (App (Var \"c\", Var \"h\"), Var \"t\")))))\n"
      ]
     },
     "execution_count": 169,
     "metadata": {},
     "output_type": "execute_result"
    }
   ],
   "source": [
    "let nil = p \"\\\\c.\\\\n.n\"\n",
    "let cons = p \"\\\\h.\\\\t.\\\\c.\\\\n.c h t\""
   ]
  },
  {
   "cell_type": "code",
   "execution_count": 170,
   "metadata": {
    "slideshow": {
     "slide_type": "fragment"
    }
   },
   "outputs": [
    {
     "data": {
      "text/plain": [
       "val l2 : Syntax.expr =\n",
       "  App\n",
       "   (App\n",
       "     (Lam (\"h\",\n",
       "       Lam (\"t\", Lam (\"c\", Lam (\"n\", App (App (Var \"c\", Var \"h\"), Var \"t\"))))),\n",
       "     Lam (\"s\", Lam (\"z\", App (Var \"s\", App (Var \"s\", Var \"z\"))))),\n",
       "   App\n",
       "    (App\n",
       "      (Lam (\"h\",\n",
       "        Lam (\"t\",\n",
       "         Lam (\"c\", Lam (\"n\", App (App (Var \"c\", Var \"h\"), Var \"t\"))))),\n",
       "      Lam (\"s\", Lam (\"z\", App (Var \"s\", Var \"z\")))),\n",
       "    Lam (\"c\", Lam (\"n\", Var \"n\"))))\n"
      ]
     },
     "execution_count": 170,
     "metadata": {},
     "output_type": "execute_result"
    }
   ],
   "source": [
    "let l2 = app [cons; two; app [cons; one; nil]] (* [2;1] *)"
   ]
  },
  {
   "cell_type": "markdown",
   "metadata": {
    "slideshow": {
     "slide_type": "slide"
    }
   },
   "source": [
    "## Lists: Head and Tail\n",
    "\n",
    "Empty list (`nil`) is `λc.λn.n` and non-empty list is `λc.λn.c h t`."
   ]
  },
  {
   "cell_type": "code",
   "execution_count": 171,
   "metadata": {
    "slideshow": {
     "slide_type": "-"
    }
   },
   "outputs": [
    {
     "data": {
      "text/plain": [
       "val hd : Syntax.expr =\n",
       "  Lam (\"l\",\n",
       "   App (App (Var \"l\", Lam (\"t\", Lam (\"f\", Var \"t\"))),\n",
       "    Lam (\"c\", Lam (\"n\", Var \"n\"))))\n"
      ]
     },
     "execution_count": 171,
     "metadata": {},
     "output_type": "execute_result"
    },
    {
     "data": {
      "text/plain": [
       "val tl : Syntax.expr =\n",
       "  Lam (\"l\",\n",
       "   App (App (Var \"l\", Lam (\"t\", Lam (\"f\", Var \"f\"))),\n",
       "    Lam (\"c\", Lam (\"n\", Var \"n\"))))\n"
      ]
     },
     "execution_count": 171,
     "metadata": {},
     "output_type": "execute_result"
    }
   ],
   "source": [
    "let hd = lam \"l\" (app [var \"l\"; tru; nil])\n",
    "let tl = lam \"l\" (app [var \"l\"; fls; nil])"
   ]
  },
  {
   "cell_type": "code",
   "execution_count": 172,
   "metadata": {
    "slideshow": {
     "slide_type": "fragment"
    }
   },
   "outputs": [
    {
     "data": {
      "text/plain": [
       "- : string = \"λs.λz.s (s z)\"\n"
      ]
     },
     "execution_count": 172,
     "metadata": {},
     "output_type": "execute_result"
    },
    {
     "data": {
      "text/plain": [
       "- : string = \"λc.λn.c (λs.λz.s z) (λc.λn.n)\"\n"
      ]
     },
     "execution_count": 172,
     "metadata": {},
     "output_type": "execute_result"
    },
    {
     "data": {
      "text/plain": [
       "- : string = \"λc.λn.n\"\n"
      ]
     },
     "execution_count": 172,
     "metadata": {},
     "output_type": "execute_result"
    },
    {
     "data": {
      "text/plain": [
       "- : string = \"λc.λn.n\"\n"
      ]
     },
     "execution_count": 172,
     "metadata": {},
     "output_type": "execute_result"
    }
   ],
   "source": [
    "eval ~log:false @@ app [hd; l2];;\n",
    "eval ~log:false @@ app [tl; l2];;\n",
    "eval ~log:false @@ app [hd; nil];;\n",
    "eval ~log:false @@ app [tl; nil]"
   ]
  },
  {
   "cell_type": "markdown",
   "metadata": {
    "slideshow": {
     "slide_type": "slide"
    }
   },
   "source": [
    "## Lists: is_nil?\n",
    "\n",
    "Empty list (`nil`) is `λc.λn.n` and non-empty list is `λc.λn.c h t`.\n",
    "\n",
    "```ocaml\n",
    "is_nil = λl.l (λx.λy.fls) tru\n",
    "```\n",
    "\n",
    "Similar idea to `is_zero` function\n",
    "\n",
    "```ocaml\n",
    "is_zero = λn.n (λy.fls) tru\n",
    "```"
   ]
  },
  {
   "cell_type": "markdown",
   "metadata": {
    "slideshow": {
     "slide_type": "slide"
    }
   },
   "source": [
    "## Lists: is_nil?"
   ]
  },
  {
   "cell_type": "code",
   "execution_count": 118,
   "metadata": {},
   "outputs": [
    {
     "data": {
      "text/plain": [
       "val is_nil : Syntax.expr =\n",
       "  Lam (\"l\",\n",
       "   App (App (Var \"l\", Lam (\"x\", Lam (\"y\", Lam (\"t\", Lam (\"f\", Var \"f\"))))),\n",
       "    Lam (\"t\", Lam (\"f\", Var \"t\"))))\n"
      ]
     },
     "execution_count": 118,
     "metadata": {},
     "output_type": "execute_result"
    }
   ],
   "source": [
    "let is_nil = lam \"l\" (app [var \"l\"; lam \"x\" (lam \"y\" fls); tru])"
   ]
  },
  {
   "cell_type": "code",
   "execution_count": 119,
   "metadata": {
    "slideshow": {
     "slide_type": "fragment"
    }
   },
   "outputs": [
    {
     "data": {
      "text/plain": [
       "- : string = \"λt.λf.f\"\n"
      ]
     },
     "execution_count": 119,
     "metadata": {},
     "output_type": "execute_result"
    },
    {
     "data": {
      "text/plain": [
       "- : string = \"λt.λf.t\"\n"
      ]
     },
     "execution_count": 119,
     "metadata": {},
     "output_type": "execute_result"
    }
   ],
   "source": [
    "eval ~log:false @@ app [is_nil; l2];;\n",
    "eval ~log:false @@ app [is_nil; nil]"
   ]
  },
  {
   "cell_type": "markdown",
   "metadata": {
    "slideshow": {
     "slide_type": "slide"
    }
   },
   "source": [
    "## Lists: Length\n",
    "\n",
    "Empty list (`nil`) is `λc.λn.n` and non-empty list is `λc.λn.c h t`.\n",
    "\n",
    "```ocaml\n",
    "length = λf.λl.if is_nil l then zero else succ (f (tl l))\n",
    "```\n",
    "\n",
    "where `f` is the recursive function."
   ]
  },
  {
   "cell_type": "code",
   "execution_count": 120,
   "metadata": {
    "slideshow": {
     "slide_type": "fragment"
    }
   },
   "outputs": [
    {
     "data": {
      "text/plain": [
       "val len : Syntax.expr =\n",
       "  App\n",
       "   (Lam (\"f\",\n",
       "     App (Lam (\"x\", App (Var \"f\", App (Var \"x\", Var \"x\"))),\n",
       "      Lam (\"x\", App (Var \"f\", App (Var \"x\", Var \"x\"))))),\n",
       "   Lam (\"f\",\n",
       "    Lam (\"l\",\n",
       "     App\n",
       "      (App\n",
       "        (App\n",
       "          (Lam (\"l\",\n",
       "            App\n",
       "             (App (Var \"l\",\n",
       "               Lam (\"x\", Lam (\"y\", Lam (\"t\", Lam (\"f\", Var \"f\"))))),\n",
       "             Lam (\"t\", Lam (\"f\", Var \"t\")))),\n",
       "          Var \"l\"),\n",
       "        Lam (\"s\", Lam (\"z\", Var \"z\"))),\n",
       "      App\n",
       "       (Lam (\"n\",\n",
       "         Lam (\"s\",\n",
       "          Lam (\"z\", App (Var \"s\", App (App (Var \"n\", Var \"s\"), Var \"z\"))))),\n",
       "       App (Var \"f\",\n",
       "        App\n",
       "         (Lam (\"l\",\n",
       "           App (App (Var \"l\", Lam (\"t\", Lam (\"f\", Var \"f\"))),\n",
       "            Lam (\"c\", Lam (\"n\", Var \"n\")))),\n",
       "         Var \"l\")))))))\n"
      ]
     },
     "execution_count": 120,
     "metadata": {},
     "output_type": "execute_result"
    }
   ],
   "source": [
    "let len = \n",
    "  let cond = app[is_nil; var \"l\"] in\n",
    "  let flsc = app[scc; app[var \"f\"; app [tl; var \"l\"]]] in\n",
    "  app [y; lam \"f\" (lam \"l\" (app [cond; zero; flsc]))]"
   ]
  },
  {
   "cell_type": "code",
   "execution_count": 121,
   "metadata": {
    "scrolled": false,
    "slideshow": {
     "slide_type": "slide"
    }
   },
   "outputs": [
    {
     "data": {
      "text/plain": [
       "- : string = \"λs.λz.z\"\n"
      ]
     },
     "execution_count": 121,
     "metadata": {},
     "output_type": "execute_result"
    },
    {
     "data": {
      "text/plain": [
       "- : string = \"λs.λz.s (s z)\"\n"
      ]
     },
     "execution_count": 121,
     "metadata": {},
     "output_type": "execute_result"
    }
   ],
   "source": [
    "eval ~log:false @@ app [len; nil];;\n",
    "eval ~log:false @@ app [len; l2];;"
   ]
  },
  {
   "cell_type": "markdown",
   "metadata": {
    "slideshow": {
     "slide_type": "slide"
    }
   },
   "source": [
    "## Discussion\n",
    "\n",
    "* Lambda calculus is Turing-complete\n",
    "  + Most powerful language possible\n",
    "  + Can represent pretty much anything in a \"real\" language\n",
    "    * Using clever encodings\n",
    "* But programs would be\n",
    "  + Pretty slow (10000 + 1 → thousands of function calls)\n",
    "  + Pretty large (10000 + 1 → hundreds of lines of code)\n",
    "  + Pretty hard to understand (recognize 10000 vs. 9999)\n",
    "* In practice,\n",
    "  + We use richer, more expressive languages\n",
    "  + That include built-in primitives"
   ]
  },
  {
   "cell_type": "markdown",
   "metadata": {
    "slideshow": {
     "slide_type": "slide"
    }
   },
   "source": [
    "<center>\n",
    "\n",
    "<h1 style=\"text-align:center\"> Fin. </h1>\n",
    "</center>"
   ]
  }
 ],
 "metadata": {
  "celltoolbar": "Slideshow",
  "kernelspec": {
   "display_name": "OCaml 4.07.1",
   "language": "OCaml",
   "name": "ocaml-jupyter"
  },
  "language_info": {
   "codemirror_mode": "text/x-ocaml",
   "file_extension": ".ml",
   "mimetype": "text/x-ocaml",
   "name": "OCaml",
   "nbconverter_exporter": null,
   "pygments_lexer": "OCaml",
   "version": "4.07.1"
  }
 },
 "nbformat": 4,
 "nbformat_minor": 2
}
