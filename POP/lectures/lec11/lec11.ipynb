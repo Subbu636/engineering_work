{
 "cells": [
  {
   "cell_type": "markdown",
   "metadata": {
    "slideshow": {
     "slide_type": "slide"
    }
   },
   "source": [
    "<center> \n",
    "\n",
    "<h1 style=\"text-align:center\"> Simply Typed Lambda Calculus </h1>\n",
    "<h2 style=\"text-align:center\"> CS3100 Fall 2019 </h2>\n",
    "</center>"
   ]
  },
  {
   "cell_type": "markdown",
   "metadata": {
    "slideshow": {
     "slide_type": "slide"
    }
   },
   "source": [
    "## Review\n",
    "\n",
    "### Previously\n",
    "\n",
    "* Lambda calculus encodings\n",
    "  + Booleans, Arithmetic, Pairs, Recursion, Lists\n",
    "\n",
    "### Today\n",
    "\n",
    "* Simply Typed Lambda Calculus"
   ]
  },
  {
   "cell_type": "markdown",
   "metadata": {
    "slideshow": {
     "slide_type": "slide"
    }
   },
   "source": [
    "## Need for typing\n",
    "\n",
    "* Consider the untyped lambda calculus\n",
    "  + false = `λx.λy.y`\n",
    "  + 0 = `λx.λy.y`\n",
    "* Since everything is encoded as a function...\n",
    "  + We can easily misuse terms…\n",
    "    * false 0 → λy.y\n",
    "    * if 0 then ...\n",
    "  + …because everything evaluates to some function\n",
    "* The same thing happens in assembly language\n",
    "  + Everything is a machine word (a bunch of bits)\n",
    "  + All operations take machine words to machine words"
   ]
  },
  {
   "cell_type": "markdown",
   "metadata": {
    "slideshow": {
     "slide_type": "slide"
    }
   },
   "source": [
    "## How to fix these errors?\n",
    "\n",
    "<center>\n",
    "\n",
    "<h1 style=\"text-align:center\"> <i> Typed </i> Lambda Calculus </h1>\n",
    "</center>\n",
    "\n",
    "$\\newcommand{\\stlc}{\\lambda^{\\rightarrow}}$\n",
    "\n",
    "* Lambda Calculus + Types $\\rightarrow$ Simply Typed Lambda Calculus ($\\stlc$)"
   ]
  },
  {
   "cell_type": "markdown",
   "metadata": {
    "slideshow": {
     "slide_type": "slide"
    }
   },
   "source": [
    "## Simple Types\n",
    "\n",
    "\\\\[\n",
    "\\begin{array}{rcll}\n",
    "A,B & ≔ & \\mathcal{B} & \\text{(base type)} \\\\\n",
    "    & \\mid & A \\rightarrow B & \\text{(functions)} \\\\\n",
    "    & \\mid & A \\times B & \\text{(products)} \\\\\n",
    "    & \\mid & 1 & \\text{(unit)} \\\\\n",
    "\\end{array}\n",
    "\\\\]\n",
    "\n",
    "* $\\mathcal{B}$ is base types like int, bool, float, string, etc.\n",
    "* $\\times$ binds stronger than $\\rightarrow$\n",
    "  + $A \\times B \\rightarrow C~$ is $~(A \\times B) \\rightarrow C$\n",
    "* $\\rightarrow$ is right associative.\n",
    "  + $A \\rightarrow B \\rightarrow C~$ is $~A \\rightarrow (B \\rightarrow C)$\n",
    "  + Same as OCaml\n",
    "  \n",
    "* If we include neither base types nor $1$, the system is degenerate. Why?\n",
    "  + Degenerate = No inhabitant. "
   ]
  },
  {
   "cell_type": "markdown",
   "metadata": {
    "slideshow": {
     "slide_type": "slide"
    }
   },
   "source": [
    "## Raw Terms\n",
    "\n",
    "$\n",
    "\\require{color}\n",
    "\\newcommand{\\cr}[1]{{\\color{\\red}{#1}}}\n",
    "\\newcommand{\\pair}[2]{\\langle #1, #2 \\rangle}\n",
    "\\newcommand{\\fst}[1]{{\\sf fst} ~#1}\n",
    "\\newcommand{\\snd}[1]{{\\sf snd} ~#1}\n",
    "\\newcommand{\\inl}[2]{{\\sf inl} ~[#1] ~#2}\n",
    "\\newcommand{\\inr}[2]{{\\sf inr} ~[#1] ~#2}\n",
    "\\newcommand{\\case}[5]{{\\sf case} ~#1~ {\\sf of} ~{\\sf inl}~#2 \\Rightarrow #3 ~|~ {\\sf inr}~#4 \\Rightarrow #5}\n",
    "\\newcommand{\\unitv}{{\\tt (~)}}\n",
    "\\newcommand{\\inferrule}[3]{\\displaystyle{\\frac{#1}{#2}~~{\\small #3}}}\n",
    "\\newcommand{\\infrl}[3]{\\displaystyle{\\frac{#1}{#2}}}\n",
    "$\n",
    "\n",
    "\\\\[\n",
    "\\begin{array}{rcll}\n",
    "M,N & ≔ & x & \\text{(variable)} \\\\\n",
    "    & \\mid & M~N & \\text{(application)} \\\\\n",
    "    & \\mid & \\lambda x:A.M & \\text{(abstraction)}\\\\\n",
    "    & \\mid & \\pair{M}{N} & \\text{(pair)}\\\\\n",
    "    & \\mid & \\fst{M} & \\text{(project-1)}\\\\\n",
    "    & \\mid & \\snd{M} & \\text{(project-2)} \\\\\n",
    "    & \\mid & \\unitv & \\text{(unit)}\n",
    "\\end{array}\n",
    "\\\\]"
   ]
  },
  {
   "cell_type": "markdown",
   "metadata": {
    "slideshow": {
     "slide_type": "slide"
    }
   },
   "source": [
    "## Typing Judgements\n",
    "\n",
    "* $M : A$ means that the term $M$ has type $A$.\n",
    "* Typing rules are expressed in terms of **typing judgements**.\n",
    "  + An expression of form $x_1:A_1,x_2:A_2,\\ldots,x_n:A_n \\vdash M : A$\n",
    "  + Under the assumption $x_1:A_1,x_2:A_2,\\ldots,x_n:A_n$, $M$ has type $A$. \n",
    "  + Assumptions are usually types for free variables in $M$.\n",
    "* Use $\\Gamma$ for assumptions.\n",
    "  + $\\Gamma \\vdash M : A$\n",
    "* Assume no repetitions in assumptions.\n",
    "  + alpha-convert to remove duplicate names."
   ]
  },
  {
   "cell_type": "markdown",
   "metadata": {
    "slideshow": {
     "slide_type": "slide"
    }
   },
   "source": [
    "## Quiz \n",
    "\n",
    "Given $\\Gamma,x:A,y:B \\vdash M:C$, which of the following is true? \n",
    "\n",
    "1. $M:C$ holds\n",
    "2. $x \\in \\Gamma$\n",
    "3. $y \\notin \\Gamma$\n",
    "4. $A$ and $B$ may be the same type\n",
    "5. $x$ and $y$ may be the same variable "
   ]
  },
  {
   "cell_type": "markdown",
   "metadata": {
    "slideshow": {
     "slide_type": "slide"
    }
   },
   "source": [
    "## Quiz \n",
    "\n",
    "Given $\\Gamma,x:A,y:B \\vdash M:C$ Which of the following is true? \n",
    "\n",
    "1. $M:C$ holds ❌ ($M$ may not be a closed term) \n",
    "2. $x \\in \\Gamma$ ❌ ($\\Gamma$ has no duplicates)\n",
    "3. $y \\notin \\Gamma$ ✅ ($\\Gamma$ has no duplicates)\n",
    "4. $A$ and $B$ may be the same type ✅ ($A$ and $B$ are type variables)\n",
    "5. $x$ and $y$ may be the same variable ❌($\\Gamma$ has no duplicates)"
   ]
  },
  {
   "cell_type": "markdown",
   "metadata": {
    "slideshow": {
     "slide_type": "slide"
    }
   },
   "source": [
    "## Typing rules for $\\stlc$\n",
    "\n",
    "\\\\[\n",
    "\\begin{array}{cc}\n",
    "\\inferrule{}{\\Gamma,x:A \\vdash x:A}{(var)} &\n",
    "\\inferrule{}{\\Gamma \\vdash \\unitv : 1}{(unit)} \\\\ \\\\\n",
    "\\inferrule{\\Gamma \\vdash M : A \\rightarrow B \\quad \\Gamma \\vdash N : A}{\\Gamma \\vdash M~N : B}{(\\rightarrow elim)} &\n",
    "\\inferrule{\\Gamma,x:A \\vdash M : B}{\\Gamma \\vdash \\lambda x:A.M : A \\rightarrow B}{(\\rightarrow intro)} \\\\ \\\\\n",
    "\\inferrule{\\Gamma \\vdash M : A \\times B}{\\Gamma \\vdash \\fst{M} : A}{(\\times ~elim1)} &\n",
    "\\inferrule{\\Gamma \\vdash M : A \\times B}{\\Gamma \\vdash \\snd{M} : B}{(\\times ~elim2)} \\\\ \\\\\n",
    "\\end{array}\n",
    "\\\\]\n",
    "\n",
    "\\\\[\n",
    "\\inferrule{\\Gamma \\vdash M : A \\quad \\Gamma \\vdash N : B}{\\Gamma \\vdash \\pair{M}{N} : A \\times B}{(\\times ~intro)}\n",
    "\\\\]"
   ]
  },
  {
   "cell_type": "markdown",
   "metadata": {
    "slideshow": {
     "slide_type": "slide"
    }
   },
   "source": [
    "## Typing derivation\n",
    "\n",
    "<div style=\"font-size:16px\">\n",
    "\n",
    "\\\\[\n",
    "\\inferrule{\n",
    "  \\inferrule{\n",
    "    \\inferrule{\n",
    "      \\inferrule{}{x:A \\rightarrow A, y : A \\vdash x: A \\rightarrow A}{(var)}\n",
    "      \\quad\n",
    "      \\inferrule{\n",
    "        \\inferrule{}{x:A \\rightarrow A, y : A \\vdash x: A \\rightarrow A}{(var)}\n",
    "        \\quad\n",
    "        \\inferrule{}{x:A \\rightarrow A, y : A \\vdash y: A}{(var)}\n",
    "      }{x:A \\rightarrow A, y : A \\vdash (x~y) : A}{(\\rightarrow elim)}\n",
    "    }\n",
    "    {x:A \\rightarrow A, y : A \\vdash x~(x~y) : A}{(\\rightarrow elim)}\n",
    "  }\n",
    "  {x:A \\rightarrow A \\vdash (\\lambda y:A. x~(x~y)) : A \\rightarrow A}{(\\rightarrow intro)}\n",
    "}\n",
    "{\\vdash (\\lambda x: A \\rightarrow A. \\lambda y:A. x ~(x ~y)) : (A \\rightarrow A) \\rightarrow A \\rightarrow A}{(\\rightarrow intro)}\n",
    "\\\\]\n",
    "\n",
    "</div>"
   ]
  },
  {
   "cell_type": "markdown",
   "metadata": {
    "slideshow": {
     "slide_type": "slide"
    }
   },
   "source": [
    "## Typing derivation\n",
    "\n",
    "* For each lambda term, there is exactly one type rule that applies.\n",
    "  + Unique rule to lookup during typing derivation."
   ]
  },
  {
   "cell_type": "markdown",
   "metadata": {
    "slideshow": {
     "slide_type": "slide"
    }
   },
   "source": [
    "## Typability\n",
    "\n",
    "* Not all $\\stlc$ terms can be assigned a type. For example,\n",
    "\n",
    "1. $\\fst{(\\lambda x.M)}$\n",
    "2. $\\pair{M}{N}~P$\n",
    "\n",
    "* Surprisingly, we cannot assign a type for $\\lambda x.x~x$ in $\\stlc$ (or OCaml)\n",
    "  + $x$ is applied to itself. So its argument type should the type of $x$!"
   ]
  },
  {
   "cell_type": "markdown",
   "metadata": {
    "slideshow": {
     "slide_type": "slide"
    }
   },
   "source": [
    "## On fst and snd\n",
    "\n",
    "In OCaml, we can define `fst` and `snd` as:"
   ]
  },
  {
   "cell_type": "code",
   "execution_count": 1,
   "metadata": {},
   "outputs": [
    {
     "data": {
      "text/plain": [
       "val fst : 'a * 'b -> 'a = <fun>\n"
      ]
     },
     "execution_count": 1,
     "metadata": {},
     "output_type": "execute_result"
    },
    {
     "data": {
      "text/plain": [
       "val snd : 'a * 'b -> 'b = <fun>\n"
      ]
     },
     "execution_count": 1,
     "metadata": {},
     "output_type": "execute_result"
    }
   ],
   "source": [
    "let fst (a,b) = a\n",
    "let snd (a,b) = b"
   ]
  },
  {
   "cell_type": "markdown",
   "metadata": {
    "slideshow": {
     "slide_type": "fragment"
    }
   },
   "source": [
    "* Observe that the types are polymorphic. \n",
    "* But no polymorphism in $\\stlc$\n",
    "  + `fst` and `snd` are **keywords** in $\\stlc$\n",
    "* For a given type $A \\times B$, we can define \n",
    "  + $(\\lambda p:A \\times B.~\\fst{p}):A$\n",
    "  + $(\\lambda p:A \\times B.~\\snd{p}):B$"
   ]
  },
  {
   "cell_type": "markdown",
   "metadata": {
    "slideshow": {
     "slide_type": "slide"
    }
   },
   "source": [
    "## Reductions in $\\stlc$\n",
    "\n",
    "\\\\[\n",
    "\\begin{array}{rrcl}\n",
    "(\\beta_{\\rightarrow}) & (\\lambda x:A.M) ~N & \\rightarrow & M[N/x] \\\\\n",
    "(\\eta_{\\rightarrow}) & \\lambda x:A.M ~x & \\rightarrow & M & \\text{if } x \\notin FV(M) \\\\\n",
    "(\\beta_{\\times,1}) & \\fst{\\pair{M}{N}} & \\rightarrow & M \\\\\n",
    "(\\beta_{\\times,2}) & \\snd{\\pair{M}{N}} & \\rightarrow & N \\\\\n",
    "(\\eta_{\\times}) & \\pair{\\fst{M}}{\\snd{M}} & \\rightarrow & M\n",
    "\\end{array}\n",
    "\\\\]\n",
    "\n",
    "\\\\[\n",
    "\\begin{array}{cccc}\n",
    "(cong1) & \\displaystyle{\\frac{M \\rightarrow M'}{M~N \\rightarrow M'~N}} &\n",
    "(cong2) & \\displaystyle{\\frac{N \\rightarrow N'}{M~N \\rightarrow M~N'}}\n",
    "\\end{array}\n",
    "\\\\]\n",
    "\n",
    "\\\\[\n",
    "\\begin{array}{cc}\n",
    "(\\xi) & \\displaystyle{\\frac{M \\rightarrow M'}{\\lambda x:A.M \\rightarrow \\lambda x:A.M'}}\n",
    "\\end{array}\n",
    "\\\\]"
   ]
  },
  {
   "cell_type": "markdown",
   "metadata": {
    "slideshow": {
     "slide_type": "slide"
    }
   },
   "source": [
    "## Type Soundness\n",
    "\n",
    "* Well-typed programs do not get **stuck**.\n",
    "  + stuck = not a value & no reduction rule applies.\n",
    "  + $\\fst{(\\lambda x.x)}$ is stuck.\n",
    "  + $\\unitv ~\\unitv$ is stuck.\n",
    "* In practice, well-typed programs do not have runtime errors.\n",
    "\n",
    "**Theorem** (Type Soundness). If $\\vdash M : A$ and $M \\rightarrow M'$, then either $M'$ is a value or there exists an $M''$ such that $M' \\rightarrow M''$.\n",
    "\n",
    "Proved using two lemmas **progress** and **preservation**."
   ]
  },
  {
   "cell_type": "markdown",
   "metadata": {
    "slideshow": {
     "slide_type": "slide"
    }
   },
   "source": [
    "## Preservation\n",
    "\n",
    "If a term $M$ is well-typed, and $M$ can take a step to $M'$\n",
    "then $M$ is well-typed. \n",
    "\n",
    "**Lemma** (Preservation). If $\\vdash M : A$ and $M \\rightarrow M'$, then $\\vdash M' : A$.\n",
    "\n",
    "Proof is by induction on the reduction relation $M \\rightarrow M'$."
   ]
  },
  {
   "cell_type": "markdown",
   "metadata": {
    "slideshow": {
     "slide_type": "slide"
    }
   },
   "source": [
    "## Preservation : Case $\\beta_{\\rightarrow}$\n",
    "\n",
    "**Lemma** (Preservation). If $\\vdash M : A$ and $M \\rightarrow M'$, then $\\vdash M' : A$.\n",
    "\n",
    "Recall, $(\\beta_{\\rightarrow})$ rule is $(\\lambda x:A.M_1) ~N \\rightarrow M_1[N/x]$.\n",
    "\n",
    "----\n",
    "\n",
    "Assume $\\vdash M : A$. Here $M = (\\lambda x:B.M_1) ~N$ and $M' = M_1[N/x]$.\n",
    "\n",
    "We know $M$ is well-typed. And from the typing derivation know that $x:B \\vdash M_1 : A$ and $\\vdash N : B$. \n",
    "\n",
    "**Lemma** (substitution). If $x:B \\vdash M : A$ and $\\vdash N : B$, then $\\vdash M[N/x] : A$.\n",
    "\n",
    "By substitution lemma, $\\vdash M_1[N/x] : A$. Therefore, preservation holds."
   ]
  },
  {
   "cell_type": "markdown",
   "metadata": {
    "slideshow": {
     "slide_type": "slide"
    }
   },
   "source": [
    "## Progress\n",
    "\n",
    "Progress says that if a term $M$ is well-typed, then either $M$ is a value, or there is an $M'$ such that $M$ can take a step to $M'$.\n",
    "\n",
    "**Lemma** (Progress). If $ \\vdash M : A$ then either $M$ is a value or there exists an $M'$ such that $M \\rightarrow M'$.\n",
    "\n",
    "Proof is by induction on the derivation of $\\vdash M : A$.\n",
    "\n",
    "* Case $var$ does not apply\n",
    "* Cases $unit$, $\\times ~intro$ and $\\rightarrow intro$ are trivial; they are values.\n",
    "* Reduction is possible in other cases as $M$ is well-typed. "
   ]
  },
  {
   "cell_type": "markdown",
   "metadata": {
    "slideshow": {
     "slide_type": "slide"
    }
   },
   "source": [
    "<h1 style=\"text-align:center\"> Type Safety = Progress + Preservation </h1>"
   ]
  },
  {
   "cell_type": "markdown",
   "metadata": {
    "slideshow": {
     "slide_type": "slide"
    }
   },
   "source": [
    "## Expressive power of $\\stlc$\n",
    "\n",
    "* Clearly, not all untyped lambda terms are well-typed.\n",
    "  + Any term that gets stuck is ill-typed.\n",
    "* Are there terms that are ill-typed but do not get stuck?"
   ]
  },
  {
   "cell_type": "markdown",
   "metadata": {
    "slideshow": {
     "slide_type": "fragment"
    }
   },
   "source": [
    "* Unfortunately, the answer is yes!\n",
    "  + Consider $\\lambda x.x$. In $\\stlc$, we must assign type for $x$\n",
    "  + Pick a concrete type for $x$\n",
    "    * $\\lambda x:1.x$.\n",
    "  + $(\\lambda x:1.x) ~\\pair{\\unitv}{\\unitv}$ is ill-typed, but does not get stuck."
   ]
  },
  {
   "cell_type": "markdown",
   "metadata": {
    "slideshow": {
     "slide_type": "slide"
    }
   },
   "source": [
    "## Expressive power of $\\stlc$\n",
    "\n",
    "* As mentioned earlier, we can no longer write recursive function. \n",
    "  + $(\\lambda x. x ~x) ~(\\lambda x.x ~x)$\n",
    "* Every well-typed $\\stlc$ term terminates!\n",
    "  + $\\stlc$ is strongly normalising. "
   ]
  },
  {
   "cell_type": "markdown",
   "metadata": {
    "slideshow": {
     "slide_type": "slide"
    }
   },
   "source": [
    "## Connections to propositional logic\n",
    "\n",
    "Consider the following types\n",
    "\n",
    "\\\\[\n",
    "\\begin{array}{ll}\n",
    "(1) & (A \\times B) \\rightarrow A \\\\\n",
    "(2) & A \\rightarrow B \\rightarrow (A \\times B) \\\\\n",
    "(3) & (A \\rightarrow B) \\rightarrow (B \\rightarrow C) \\rightarrow (A \\rightarrow C) \\\\\n",
    "(4) & A \\rightarrow A \\rightarrow A \\\\\n",
    "(5) & ((A \\rightarrow A) \\rightarrow B) \\rightarrow B \\\\\n",
    "(6) & A \\rightarrow (A \\times B) \\\\\n",
    "(7) & (A \\rightarrow C) \\rightarrow C \n",
    "\\end{array}\n",
    "\\\\]\n",
    "\n",
    "Can you find closed terms of these types?"
   ]
  },
  {
   "cell_type": "markdown",
   "metadata": {
    "slideshow": {
     "slide_type": "slide"
    }
   },
   "source": [
    "## Connections to propositional logic\n",
    "\n",
    "\\\\[\n",
    "\\begin{array}{lll}\n",
    "(1) & (A \\times B) \\rightarrow A \n",
    "    & \\lambda x:A \\times B. \\fst{x}\\\\\n",
    "(2) & A \\rightarrow B \\rightarrow (A \\times B) \n",
    "    & \\lambda x:A.\\lambda y:B.\\pair{x}{y}\\\\\n",
    "(3) & (A \\rightarrow B) \\rightarrow (B \\rightarrow C) \\rightarrow (A \\rightarrow C) \n",
    "    & \\lambda x:A\\rightarrow B.\\lambda y:B \\rightarrow C.\\lambda z:A.y ~(x ~z) \\\\\n",
    "(4) & A \\rightarrow A \\rightarrow A\n",
    "    & \\lambda x:A.\\lambda y:A.x \\\\\n",
    "(5) & ((A \\rightarrow A) \\rightarrow B) \\rightarrow B \n",
    "    & \\lambda x:(A \\rightarrow A) \\rightarrow B.x ~(\\lambda y:A.y)\\\\\n",
    "(6) & A \\rightarrow (A \\times B) \n",
    "    & \\text{can't find a closed term} \\\\\n",
    "(7) & (A \\rightarrow C) \\rightarrow C \n",
    "    & \\text{can't find a closed term} \\\\\n",
    "\\end{array}\n",
    "\\\\]"
   ]
  },
  {
   "cell_type": "markdown",
   "metadata": {
    "slideshow": {
     "slide_type": "slide"
    }
   },
   "source": [
    "## A different question\n",
    "\n",
    "* Given a type, whether there exists a closed term for it?\n",
    "* Replace $\\rightarrow$ with $\\implies$ and $\\times$ with $\\wedge$.\n",
    "\n",
    "\\\\[\n",
    "\\begin{array}{ll}\n",
    "(1) & (A \\wedge B) \\implies A \\\\\n",
    "(2) & A \\implies B \\implies (A \\wedge B) \\\\\n",
    "(3) & (A \\implies B) \\implies (B \\implies C) \\implies (A \\implies C) \\\\\n",
    "(4) & A \\implies A \\implies A \\\\\n",
    "(5) & ((A \\implies A) \\implies B) \\implies B \\\\\n",
    "(6) & A \\implies (A \\wedge B) \\\\\n",
    "(7) & (A \\implies C) \\implies C \n",
    "\\end{array}\n",
    "\\\\]\n",
    "\n",
    "What can we say about the validity of these logical formulae?"
   ]
  },
  {
   "cell_type": "markdown",
   "metadata": {
    "slideshow": {
     "slide_type": "slide"
    }
   },
   "source": [
    "## A different question\n",
    "\n",
    "\\\\[\n",
    "\\begin{array}{ll}\n",
    "(1) & (A \\wedge B) \\implies A \\\\\n",
    "(2) & A \\implies B \\implies (A \\wedge B) \\\\\n",
    "(3) & (A \\implies B) \\implies (B \\implies C) \\implies (A \\implies C) \\\\\n",
    "(4) & A \\implies A \\implies A \\\\\n",
    "(5) & ((A \\implies A) \\implies B) \\implies B \\\\\n",
    "(6) & A \\implies (A \\wedge B) \\\\\n",
    "(7) & (A \\implies C) \\implies C \n",
    "\\end{array}\n",
    "\\\\]\n",
    "\n",
    "$(1) - (5)$ are valid, $(6)$ and $(7)$ are not!"
   ]
  },
  {
   "cell_type": "markdown",
   "metadata": {
    "slideshow": {
     "slide_type": "slide"
    }
   },
   "source": [
    "## Proving a propositional logic formula\n",
    "\n",
    "* How to prove $(A \\wedge B) \\implies A$?\n",
    "  + Assume $A \\wedge B$ holds. By the first conjunct, $A$ holds. Hence, the proof. \n",
    "* Consider the program $\\lambda x:A \\times B. \\fst{x}$. \n",
    "  + Observe the close correspondence of this **program** to the **proof**. \n",
    "* What is the type of this program? $(A \\times B) \\rightarrow A$.\n",
    "  + Observe the close correspondence of this **type** to the **proposition**.\n",
    "* Curry-Howard correspondence between $\\stlc$ and propositional logic."
   ]
  },
  {
   "cell_type": "markdown",
   "metadata": {
    "slideshow": {
     "slide_type": "slide"
    }
   },
   "source": [
    "## Curry-Howard Correspondence\n",
    "\n",
    "* Proposition:Proof :: Type:Program\n",
    "* Intuitionistic/constructive logic and not classical logic\n",
    "  + Law of excluded middle ($A \\vee \\neg A$) does not hold for an arbitrary $A$.\n",
    "    * Can't prove by contradiction\n",
    "  + In order to prove, *construct* the proof object!"
   ]
  },
  {
   "cell_type": "markdown",
   "metadata": {
    "slideshow": {
     "slide_type": "slide"
    }
   },
   "source": [
    "## Propositional Intuitionistic Logic\n",
    "\n",
    "\\\\[\n",
    "\\text{Formulas:} A,B ::= \\alpha \\mid A \\rightarrow B \\mid A \\wedge B\\mid \\top\n",
    "\\\\]\n",
    "\n",
    "where $\\alpha$ is atomic formulae.\n",
    "\n",
    "A derivation is\n",
    "\n",
    "\\\\[\n",
    "x_1:A_1,x_2:A_2,\\ldots,x_n:A_n \\vdash A\n",
    "\\\\]\n",
    "\n",
    "where $A_1,A_2,\\ldots$ are assumptions, $x_1,x_2,\\ldots$ are names for those assumptions and $A$ is the formula derived from those assumptions.\n"
   ]
  },
  {
   "cell_type": "markdown",
   "metadata": {
    "slideshow": {
     "slide_type": "slide"
    }
   },
   "source": [
    "## Derivations through natural deduction\n",
    "\n",
    "\n",
    "\\\\[\n",
    "\\begin{array}{cc}\n",
    "\\inferrule{}{\\Gamma,x:A \\vdash x:A}{(axiom)} &\n",
    "\\inferrule{}{\\Gamma \\vdash \\top}{(\\top ~intro)} \\\\ \\\\\n",
    "\\inferrule{\\Gamma \\vdash A \\implies B \\quad \\Gamma \\vdash A}{\\Gamma \\vdash B}{(\\implies elim)} &\n",
    "\\inferrule{\\Gamma, x:A \\vdash B}{\\Gamma \\vdash A \\implies B}{(\\implies intro)} \\\\ \\\\\n",
    "\\inferrule{\\Gamma \\vdash A \\wedge B}{\\Gamma \\vdash A}{(\\wedge ~elim1)} &\n",
    "\\inferrule{\\Gamma \\vdash A \\wedge B}{\\Gamma \\vdash B}{(\\wedge ~elim2)} \\\\ \\\\\n",
    "\\end{array}\n",
    "\\\\]\n",
    "\n",
    "\\\\[\n",
    "\\inferrule{\\Gamma \\vdash A \\quad \\Gamma \\vdash B}{\\Gamma \\vdash A \\wedge B}{(\\wedge ~intro)}\n",
    "\\\\]"
   ]
  },
  {
   "cell_type": "markdown",
   "metadata": {
    "slideshow": {
     "slide_type": "slide"
    }
   },
   "source": [
    "## Curry Howard Isomorphism\n",
    "\n",
    "* Allows one to switch between type-theoretic and proof-theoretic views of the world at will.\n",
    "  + used by theorem provers and proof assistants such as coq, HOL/Isabelle, etc.\n",
    "* Reductions of $\\stlc$ terms corresponds to proof simplification."
   ]
  },
  {
   "cell_type": "markdown",
   "metadata": {
    "slideshow": {
     "slide_type": "slide"
    }
   },
   "source": [
    "## Curry Howard Isomorphism\n",
    "\n",
    "\\\\[\n",
    "\\begin{array}{|c|c|}\n",
    "\\hline\n",
    "\\stlc & \\text{Propositional Intuitionistic Logic} \\\\\n",
    "\\hline\n",
    "\\text{Types} & \\text{Propositions} \\\\\n",
    "1 & \\top \\\\\n",
    "\\times & \\wedge \\\\\n",
    "\\rightarrow & \\implies \\\\\n",
    "\\text{Programs} & \\text{Proofs} \\\\\n",
    "\\text{Reduction} & \\text{Proof Simplification} \\\\\n",
    "\\hline\n",
    "\\end{array}\n",
    "\\\\]\n",
    "\n",
    "What about $\\vee$?"
   ]
  },
  {
   "cell_type": "markdown",
   "metadata": {
    "slideshow": {
     "slide_type": "slide"
    }
   },
   "source": [
    "## Disjunction\n",
    "\n",
    "Extend the logic with:\n",
    "\n",
    "\\\\[\n",
    "\\text{Formulas: } A,B ::= \\ldots \\mid A \\vee B \\mid \\bot\n",
    "\\\\]\n",
    "\n",
    "\\\\[\n",
    "\\begin{array}{cc}\n",
    "\\inferrule{\\Gamma \\vdash A}{\\Gamma \\vdash A \\vee B}{(\\vee ~intro1)} &\n",
    "\\inferrule{\\Gamma \\vdash B}{\\Gamma \\vdash A \\vee B}{(\\vee ~intro2)} \\\\ \\\\\n",
    "\\inferrule{\\Gamma \\vdash \\bot}{\\Gamma \\vdash C}{(\\bot ~elim)} &\n",
    "\\inferrule{\\Gamma \\vdash A \\vee B \\quad \\Gamma, x:A \\vdash C \\quad \\Gamma, y:B \\vdash C}{\\Gamma \\vdash C}{(\\vee ~elim)}\n",
    "\\end{array}\n",
    "\\\\]"
   ]
  },
  {
   "cell_type": "markdown",
   "metadata": {
    "slideshow": {
     "slide_type": "slide"
    }
   },
   "source": [
    "## Sum Types\n",
    "\n",
    "Extend $\\stlc$ with:\n",
    "\n",
    "\\\\[\n",
    "\\begin{array}{rrcl}\n",
    "\\text{Simple Types: } & A,B & ::= & \\ldots \\mid A + B \\mid 0 \\\\\n",
    "\\text{Raw Terms: } & M,N,P & ::=  & \\ldots \\mid \\case{M}{x:A}{N}{y:B}{P} \\\\\n",
    "                   &       & \\mid & \\inl{B}{M} \\mid \\inr{A}{M} \\mid \\square_{A} ~M\n",
    "\\end{array}\n",
    "\\\\]\n",
    "\n",
    "The OCaml equivalent of this sum type is:\n",
    "\n",
    "```ocaml\n",
    "type ('a,'b) either = Inl of 'a | Inr of 'b\n",
    "```\n",
    "\n",
    "* Similar to `fst` and `snd`, there is no polymorphism in $\\stlc$. \n",
    "  + Hence, `inl` and `inr` are keywords."
   ]
  },
  {
   "cell_type": "markdown",
   "metadata": {
    "slideshow": {
     "slide_type": "slide"
    }
   },
   "source": [
    "## Explicit Type Annotation for `inl` and `inr`\n",
    "\n",
    "\\\\[\n",
    "\\begin{array}{rrcl}\n",
    "\\text{Raw Terms: } & M,N,P & ::=  & \\ldots \\mid \\case{M}{x:A}{N}{y:B}{P} \\\\\n",
    "                   &       & \\mid & \\inl{B}{M} \\mid \\inr{A}{M} \\mid \\square_{A} ~M\n",
    "\\end{array}\n",
    "\\\\]\n",
    "\n",
    "* Observe that the term for ${\\sf inl}$ and ${\\sf inr}$ require explicit type annotation.\n",
    "* Given any $\\stlc$ term $M$, we should be able to *infer* a **unique** simple type $A$.\n",
    "* Without annotation, what is the type of $\\text{inl}~()$?\n",
    "  + $1 + 1, 1 + (1 \\rightarrow 1), 1 + \\text{int}, \\ldots$ are all equally valid.\n",
    "* Explicit type annotation, makes the inferred type unique."
   ]
  },
  {
   "cell_type": "markdown",
   "metadata": {
    "slideshow": {
     "slide_type": "slide"
    }
   },
   "source": [
    "## Sum Types : Contradiction\n",
    "\n",
    "Extend $\\stlc$ with:\n",
    "\n",
    "\\\\[\n",
    "\\begin{array}{rrcl}\n",
    "\\text{Simple Types: } & A,B & ::= & \\ldots \\mid A + B \\mid 0 \\\\\n",
    "\\text{Raw Terms: } & M,N,P & ::=  & \\ldots \\mid \\case{M}{x:A}{N}{y:B}{P} \\\\\n",
    "                   &       & \\mid & \\inl{B}{M} \\mid \\inr{A}{M} \\mid \\square_{A} ~M\n",
    "\\end{array}\n",
    "\\\\]\n",
    "\n",
    "* The type $0$ is an **uninhabited** type\n",
    "  + There are no values of this type.\n",
    "* The OCaml equivalent is an empty variant type:\n",
    "\n",
    "```ocaml\n",
    "type zero = |\n",
    "```"
   ]
  },
  {
   "cell_type": "markdown",
   "metadata": {
    "slideshow": {
     "slide_type": "slide"
    }
   },
   "source": [
    "## Sum Types : Static Semantics\n",
    "\n",
    "Extend $\\stlc$ with:\n",
    "\n",
    "\\\\[\n",
    "\\begin{array}{cc}\n",
    "\\inferrule{\\Gamma \\vdash M : A}{\\Gamma \\vdash \\inl{B}{M} : A + B}{(+ ~intro1)} &\n",
    "\\inferrule{\\Gamma \\vdash M : B}{\\Gamma \\vdash \\inr{A}{M} : A + B}{(+ ~intro2)} \\\\ \\\\\n",
    "\\end{array}\n",
    "\\\\]\n",
    "\n",
    "\\\\[\n",
    "\\inferrule{\\Gamma \\vdash M : A + B \\quad \\Gamma, x:A \\vdash N : C \\quad \\Gamma, y:B \\vdash P : C}\n",
    "          {\\Gamma \\vdash \\case{M}{x:A}{N}{y:B}{P} ~: C}{(+ ~elim)} \\\\\n",
    "\\\\]\n",
    "\n",
    "\\\\[\n",
    "\\inferrule{\\Gamma \\vdash M : 0}{\\Gamma \\vdash \\square_{A} M : A}{(\\square)}          \n",
    "\\\\]"
   ]
  },
  {
   "cell_type": "markdown",
   "metadata": {
    "slideshow": {
     "slide_type": "slide"
    }
   },
   "source": [
    "## Casting and type soundness\n",
    "\n",
    "* Recall, Type soundness => well-typed programs do not get stuck\n",
    "  + Preservation: $\\vdash M : A$ and $M \\rightarrow M'$, then $\\vdash M' : A$\n",
    "* But $\\square_{A}$ $\\cr{\\text{changes the type of the expression}}$\n",
    "  + Is type soundness lost?\n",
    "* Consider $\\lambda x:0.(\\square_{1 \\rightarrow 1} ~x) ~\\unitv$\n",
    "  + This term is well-typed.\n",
    "  + $x$ is not a function.\n",
    "  + If we are able to call this function, the program would get $\\cr{stuck}$."
   ]
  },
  {
   "cell_type": "markdown",
   "metadata": {
    "slideshow": {
     "slide_type": "fragment"
    }
   },
   "source": [
    "* There is no way to call this function since the type $0$ is uninhabited!\n",
    "  + Type Soundness is preserved."
   ]
  },
  {
   "cell_type": "markdown",
   "metadata": {
    "slideshow": {
     "slide_type": "slide"
    }
   },
   "source": [
    "## Sum Types : Dynamic Semantics\n",
    "\n",
    "Extend $\\rightarrow$ with:\n",
    "\n",
    "\\\\[\n",
    "\\begin{array}{c}\n",
    "\\displaystyle{\\frac{M \\rightarrow M'}\n",
    "             {\\case{M}{x_1:A}{N_1}{x_2:B}{N_2} \\rightarrow \\\\\n",
    "              \\case{M'}{x_1:A}{N_1}{x_2:B}{N_2}}}\\\\ \\\\\n",
    "\\displaystyle{\\frac{M = \\inl{B}{M'}}\n",
    "             {\\case{M}{x_1:A}{N_1}{x_2:B}{N_2} \\rightarrow N_1[M'/x_1]}} \\\\ \\\\\n",
    "             \\displaystyle{\\frac{M = \\inr{A}{M'}}\n",
    "             {\\case{M}{x_1:A}{N_1}{x_2:B}{N_2} \\rightarrow N_2[M'/x_2]}}\n",
    "\\end{array}\n",
    "\\\\]"
   ]
  },
  {
   "cell_type": "markdown",
   "metadata": {
    "slideshow": {
     "slide_type": "slide"
    }
   },
   "source": [
    "## Type Erasure\n",
    "\n",
    "* Although we carry around type annotations during reduction, we do not examine them.\n",
    "  + No runtime type checking to see if function is applied to appropriate arguments, etc.\n",
    "* Most compilers drop the types in the compiled form of the program (**erasure**).\n",
    "\n",
    "$\\newcommand{\\erase}[1]{{\\sf erase}(#1)}$\n",
    "\\\\[\n",
    "\\begin{array}{rcl}\n",
    "\\erase{x} & = & x \\\\\n",
    "\\erase{M~N} & = & \\erase{M}~\\erase{N} \\\\\n",
    "\\erase{\\lambda x:A.M} & = & \\lambda x.\\erase{M} \\\\\n",
    "\\erase{\\inr{A}{M}} & = & \\erase{{\\sf inr}~\\erase{M}}\n",
    "\\end{array}\n",
    "\\\\]\n",
    "\n",
    "etc."
   ]
  },
  {
   "cell_type": "markdown",
   "metadata": {
    "slideshow": {
     "slide_type": "slide"
    }
   },
   "source": [
    "## Type erasure\n",
    "\n",
    "**Theorem** (Type erasure).\n",
    "\n",
    "1. If $M \\rightarrow M'$ under the $\\stlc$ reduction relation, then $\\erase{M} \\rightarrow \\erase{M'}$ under untyped reduction relation.\n",
    "2. If $\\erase{M} \\rightarrow N'$ under the untyped reduction relation, then there exists a $\\stlc$ term $M'$ such that $M \\rightarrow M'$ under $\\stlc$ reduction relation and $\\erase{M'} = N'$."
   ]
  },
  {
   "cell_type": "markdown",
   "metadata": {
    "slideshow": {
     "slide_type": "slide"
    }
   },
   "source": [
    "## Static vs Dynamic Typing\n",
    "\n",
    "* OCaml, Haskell, Standard ML are **statically typed languages**.\n",
    "  + Only well-typed programs are allowed to run.\n",
    "  + Type soundness holds; well-typed programs do no get stuck.\n",
    "  + Types can be erased at compilation time.\n",
    "* What about Python, JavaScript, Clojure, Perl, Lisp, R, etc?\n",
    "  + **Dynamically typed languages**.\n",
    "  + No type checking at compile time; anything goes.\n",
    "    * `x = lambda a : a + 10; x(\"Hello\")` is a runtime error.\n",
    "  + Allows more programs to run, but types need to be checked at runtime.\n",
    "    * $\\color{purple}{\\text{Types cannot be erased!}}$"
   ]
  },
  {
   "cell_type": "markdown",
   "metadata": {
    "slideshow": {
     "slide_type": "slide"
    }
   },
   "source": [
    "<center> \n",
    "\n",
    "<h1 style=\"text-align:center\"> Fin </h1>\n",
    "</center>"
   ]
  }
 ],
 "metadata": {
  "celltoolbar": "Slideshow",
  "kernelspec": {
   "display_name": "OCaml 4.07.1",
   "language": "OCaml",
   "name": "ocaml-jupyter"
  },
  "language_info": {
   "codemirror_mode": "text/x-ocaml",
   "file_extension": ".ml",
   "mimetype": "text/x-ocaml",
   "name": "OCaml",
   "nbconverter_exporter": null,
   "pygments_lexer": "OCaml",
   "version": "4.07.1"
  }
 },
 "nbformat": 4,
 "nbformat_minor": 2
}
