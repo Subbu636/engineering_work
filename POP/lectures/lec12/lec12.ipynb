{
 "cells": [
  {
   "cell_type": "markdown",
   "metadata": {
    "slideshow": {
     "slide_type": "slide"
    }
   },
   "source": [
    "<center>\n",
    "\n",
    "<h1 style=\"text-align:center\"> (Side) Effects </h1>\n",
    "<h2 style=\"text-align:center\"> CS3100 Fall 2019 </h2>\n",
    "</center>"
   ]
  },
  {
   "cell_type": "markdown",
   "metadata": {
    "slideshow": {
     "slide_type": "slide"
    }
   },
   "source": [
    "## Why Side Effects\n",
    "\n",
    "* We have only used **purely functional** feature of OCaml\n",
    "* Our study of lambda calculus used only **purely functional** features"
   ]
  },
  {
   "cell_type": "markdown",
   "metadata": {
    "slideshow": {
     "slide_type": "fragment"
    }
   },
   "source": [
    "* The above statements are *lies*.\n",
    "  + We have used `print_endline`, `printf` and other features to display our results to screen.\n",
    "* It is sometimes useful to write programs that have **side effects**"
   ]
  },
  {
   "cell_type": "markdown",
   "metadata": {
    "slideshow": {
     "slide_type": "slide"
    }
   },
   "source": [
    "## Side effects\n",
    "\n",
    "Side effects include\n",
    "\n",
    "* Mutating (i.e., destructively updating) the values of program state. \n",
    "* Reading from standard input, printing to standard output.\n",
    "* Reading and writing to files, sockets, pipes etc.\n",
    "* ...\n",
    "* Composing, sending and receiving emails, editing documents, writing this slide, etc."
   ]
  },
  {
   "cell_type": "markdown",
   "metadata": {
    "slideshow": {
     "slide_type": "slide"
    }
   },
   "source": [
    "## Side effects in OCaml\n",
    "\n",
    "* OCaml programs can include side effects\n",
    "* Features\n",
    "  + Mutations: Reference cells, Arrays, Mutable record fields\n",
    "  + I/O of all sorts\n",
    "* In this lecture, **Mutations**\n",
    "\n",
    "$\n",
    "\\require{color}\n",
    "\\newcommand{\\cpurple}[1]{{\\color{\\purple}{\\text{#1}}}}\n",
    "\\newcommand{\\cred}[1]{{\\color{\\red}{\\text{#1}}}}\n",
    "$"
   ]
  },
  {
   "cell_type": "markdown",
   "metadata": {
    "slideshow": {
     "slide_type": "slide"
    }
   },
   "source": [
    "## Reference cells\n",
    "\n",
    "* Aka \"refs\" or \"ref cell\"\n",
    "* Pointer to a typed location in memory\n",
    "* The binding of a variable to a ref cell is $\\cpurple{immutable}$ \n",
    "  + but the contents of the ref cell may $\\cred{change}$."
   ]
  },
  {
   "cell_type": "raw",
   "metadata": {
    "hide_egal": false,
    "is_egal": true
   },
   "source": [
    "<svg height=\"200\" width=\"100%\"><desc>Created with Snap</desc><defs><filter id=\"Sjzz69v683\" filterUnits=\"userSpaceOnUse\"><feGaussianBlur in=\"SourceAlpha\" stdDeviation=\"3\"></feGaussianBlur><feOffset dx=\"0\" dy=\"2\" result=\"offsetblur\"></feOffset><feFlood flood-color=\"#000000\"></feFlood><feComposite in2=\"offsetblur\" operator=\"in\"></feComposite><feComponentTransfer><feFuncA type=\"linear\" slope=\"1\"></feFuncA></feComponentTransfer><feMerge><feMergeNode></feMergeNode><feMergeNode in=\"SourceGraphic\"></feMergeNode></feMerge></filter><marker viewBox=\"0 0 10 10\" markerWidth=\"10\" markerHeight=\"10\" orient=\"auto\" refX=\"9\" refY=\"3\" id=\"arrowEndMarker\"><polygon points=\"0,0,0,6,9,3,0,0\" fill=\"#323232\" id=\"arrow\" style=\"\"></polygon></marker><marker viewBox=\"0 0 10 10\" markerWidth=\"10\" markerHeight=\"10\" orient=\"auto\" refX=\"0\" refY=\"3\" id=\"arrowStartMarker\"><polygon points=\"0,3,9,0,9,6,0,3\" fill=\"#323232\" id=\"startArrow\" style=\"\"></polygon></marker></defs><g id=\"drup_elem_1\" first-frame=\"1\" last-frame=\"2\" class=\"drupElem\" style=\"\"><circle cx=\"261.2578125\" cy=\"104.65234375\" r=\"23\" vector-effect=\"non-scaling-stroke\" fill=\"#ffffff\" stroke=\"#000000\" style=\"stroke-width: 1;\" class=\"core alignable sub\" transform=\"matrix(1,0,0,1,86,-28)\"></circle><circle cx=\"261.2578125\" cy=\"81.65234375\" r=\"5\" stroke=\"#000000\" fill=\"#ffffff\" id=\"drup_elem_1_endpoint_0\" class=\"endPoint up sub\" style=\"stroke-width: 1; opacity: 0;\" transform=\"matrix(1,0,0,1,86,-28)\"></circle><circle cx=\"261.2578125\" cy=\"127.65234375\" r=\"5\" stroke=\"#000000\" fill=\"#ffffff\" id=\"drup_elem_1_endpoint_1\" class=\"endPoint down sub\" style=\"stroke-width: 1; opacity: 0;\" transform=\"matrix(1,0,0,1,86,-28)\"></circle><circle cx=\"238.2578125\" cy=\"104.65234375\" r=\"5\" stroke=\"#000000\" fill=\"#ffffff\" id=\"drup_elem_1_endpoint_2\" class=\"endPoint left sub\" style=\"stroke-width: 1; opacity: 0;\" transform=\"matrix(1,0,0,1,86,-28)\"></circle><circle cx=\"284.2578125\" cy=\"104.65234375\" r=\"5\" stroke=\"#000000\" fill=\"#ffffff\" id=\"drup_elem_1_endpoint_3\" class=\"endPoint right sub\" style=\"stroke-width: 1; opacity: 0;\" transform=\"matrix(1,0,0,1,86,-28)\"></circle><text x=\"261.2578125\" y=\"104.65234375\" style=\"font-size: 20px; text-anchor: middle; alignment-baseline: central; opacity: 1; visibility: visible;\" class=\"egal-label sub\" data-src=\"x\" transform=\"matrix(1,0,0,1,86,-28)\">x</text></g><g id=\"drup_elem_2\" first-frame=\"1\" last-frame=\"2\" class=\"drupElem\" style=\"\"><rect x=\"324.2578125\" y=\"70.65234375\" width=\"49\" height=\"44\" fill=\"#ffffff\" stroke=\"#000000\" vector-effect=\"non-scaling-stroke\" style=\"stroke-width: 1;\" class=\"core alignable sub\" transform=\"matrix(1,0,0,1,86,-16)\"></rect><circle cx=\"348.7578125\" cy=\"70.65234375\" r=\"5\" stroke=\"#000000\" fill=\"#ffffff\" id=\"drup_elem_2_endpoint_0\" class=\"endPoint up sub\" style=\"stroke-width: 1; opacity: 0;\" transform=\"matrix(1,0,0,1,86,-16)\"></circle><circle cx=\"348.7578125\" cy=\"114.65234375\" r=\"5\" stroke=\"#000000\" fill=\"#ffffff\" id=\"drup_elem_2_endpoint_1\" class=\"endPoint down sub\" style=\"stroke-width: 1; opacity: 0;\" transform=\"matrix(1,0,0,1,86,-16)\"></circle><circle cx=\"324.2578125\" cy=\"92.65234375\" r=\"5\" stroke=\"#000000\" fill=\"#ffffff\" id=\"drup_elem_2_endpoint_2\" class=\"endPoint left sub\" style=\"stroke-width: 1; opacity: 0;\" transform=\"matrix(1,0,0,1,86,-16)\"></circle><circle cx=\"373.2578125\" cy=\"92.65234375\" r=\"5\" stroke=\"#000000\" fill=\"#ffffff\" id=\"drup_elem_2_endpoint_3\" class=\"endPoint right sub\" style=\"stroke-width: 1; opacity: 0;\" transform=\"matrix(1,0,0,1,86,-16)\"></circle><circle cx=\"324.2578125\" cy=\"70.65234375\" r=\"5\" stroke=\"#000000\" fill=\"#ffffff\" id=\"drup_elem_2_endpoint_4\" class=\"endPoint left-up sub\" style=\"stroke-width: 1; opacity: 0;\" transform=\"matrix(1,0,0,1,86,-16)\"></circle><circle cx=\"324.2578125\" cy=\"114.65234375\" r=\"5\" stroke=\"#000000\" fill=\"#ffffff\" id=\"drup_elem_2_endpoint_5\" class=\"endPoint left-down sub\" style=\"stroke-width: 1; opacity: 0;\" transform=\"matrix(1,0,0,1,86,-16)\"></circle><circle cx=\"373.2578125\" cy=\"70.65234375\" r=\"5\" stroke=\"#000000\" fill=\"#ffffff\" id=\"drup_elem_2_endpoint_6\" class=\"endPoint right-up sub\" style=\"stroke-width: 1; opacity: 0;\" transform=\"matrix(1,0,0,1,86,-16)\"></circle><circle cx=\"373.2578125\" cy=\"114.65234375\" r=\"5\" stroke=\"#000000\" fill=\"#ffffff\" id=\"drup_elem_2_endpoint_7\" class=\"endPoint right-down sub\" style=\"stroke-width: 1; opacity: 0;\" transform=\"matrix(1,0,0,1,86,-16)\"></circle><text x=\"348.7578125\" y=\"92.65234375\" style=\"font-size: 20px; text-anchor: middle; alignment-baseline: central; opacity: 1; visibility: visible;\" class=\"egal-label sub\" transform=\"matrix(1,0,0,1,86,-16)\" data-src=\"r\">r</text></g><g id=\"drup_elem_9\" first-frame=\"1\" last-frame=\"2\" class=\"drupElem\" style=\"\"><rect x=\"324.2578125\" y=\"70.65234375\" width=\"49\" height=\"44\" fill=\"#ffffff\" stroke=\"#000000\" vector-effect=\"non-scaling-stroke\" style=\"stroke-width: 1;\" class=\"core alignable sub\" transform=\"matrix(1,0,0,1,185,-40)\"></rect><circle cx=\"348.7578125\" cy=\"70.65234375\" r=\"5\" stroke=\"#000000\" fill=\"#ffffff\" id=\"drup_elem_9_endpoint_0\" class=\"endPoint up sub\" style=\"stroke-width: 1; opacity: 0;\" transform=\"matrix(1,0,0,1,185,-40)\"></circle><circle cx=\"348.7578125\" cy=\"114.65234375\" r=\"5\" stroke=\"#000000\" fill=\"#ffffff\" id=\"drup_elem_9_endpoint_1\" class=\"endPoint down sub\" style=\"stroke-width: 1; opacity: 0;\" transform=\"matrix(1,0,0,1,185,-40)\"></circle><circle cx=\"324.2578125\" cy=\"92.65234375\" r=\"5\" stroke=\"#000000\" fill=\"#ffffff\" id=\"drup_elem_9_endpoint_2\" class=\"endPoint left sub\" style=\"stroke-width: 1; opacity: 0;\" transform=\"matrix(1,0,0,1,185,-40)\"></circle><circle cx=\"373.2578125\" cy=\"92.65234375\" r=\"5\" stroke=\"#000000\" fill=\"#ffffff\" id=\"drup_elem_9_endpoint_3\" class=\"endPoint right sub\" style=\"stroke-width: 1; opacity: 0;\" transform=\"matrix(1,0,0,1,185,-40)\"></circle><circle cx=\"324.2578125\" cy=\"70.65234375\" r=\"5\" stroke=\"#000000\" fill=\"#ffffff\" id=\"drup_elem_9_endpoint_4\" class=\"endPoint left-up sub\" style=\"stroke-width: 1; opacity: 0;\" transform=\"matrix(1,0,0,1,185,-40)\"></circle><circle cx=\"324.2578125\" cy=\"114.65234375\" r=\"5\" stroke=\"#000000\" fill=\"#ffffff\" id=\"drup_elem_9_endpoint_5\" class=\"endPoint left-down sub\" style=\"stroke-width: 1; opacity: 0;\" transform=\"matrix(1,0,0,1,185,-40)\"></circle><circle cx=\"373.2578125\" cy=\"70.65234375\" r=\"5\" stroke=\"#000000\" fill=\"#ffffff\" id=\"drup_elem_9_endpoint_6\" class=\"endPoint right-up sub\" style=\"stroke-width: 1; opacity: 0;\" transform=\"matrix(1,0,0,1,185,-40)\"></circle><circle cx=\"373.2578125\" cy=\"114.65234375\" r=\"5\" stroke=\"#000000\" fill=\"#ffffff\" id=\"drup_elem_9_endpoint_7\" class=\"endPoint right-down sub\" style=\"stroke-width: 1; opacity: 0;\" transform=\"matrix(1,0,0,1,185,-40)\"></circle><text x=\"348.7578125\" y=\"92.65234375\" style=\"font-size: 20px; text-anchor: middle; alignment-baseline: central; opacity: 1; visibility: visible;\" class=\"egal-label sub\" transform=\"matrix(1,0,0,1,185,-40)\" data-src=\"o1\">o1</text></g><g id=\"drup_elem_10\" first-frame=\"1\" last-frame=\"2\" class=\"drupElem\" style=\"\"><rect x=\"324.2578125\" y=\"70.65234375\" width=\"49\" height=\"44\" fill=\"#ffffff\" stroke=\"#000000\" vector-effect=\"non-scaling-stroke\" style=\"stroke-width: 1;\" class=\"core alignable sub\" transform=\"matrix(1,0,0,1,186,36)\"></rect><circle cx=\"348.7578125\" cy=\"70.65234375\" r=\"5\" stroke=\"#000000\" fill=\"#ffffff\" id=\"drup_elem_10_endpoint_0\" class=\"endPoint up sub\" style=\"stroke-width: 1; opacity: 0;\" transform=\"matrix(1,0,0,1,186,36)\"></circle><circle cx=\"348.7578125\" cy=\"114.65234375\" r=\"5\" stroke=\"#000000\" fill=\"#ffffff\" id=\"drup_elem_10_endpoint_1\" class=\"endPoint down sub\" style=\"stroke-width: 1; opacity: 0;\" transform=\"matrix(1,0,0,1,186,36)\"></circle><circle cx=\"324.2578125\" cy=\"92.65234375\" r=\"5\" stroke=\"#000000\" fill=\"#ffffff\" id=\"drup_elem_10_endpoint_2\" class=\"endPoint left sub\" style=\"stroke-width: 1; opacity: 0;\" transform=\"matrix(1,0,0,1,186,36)\"></circle><circle cx=\"373.2578125\" cy=\"92.65234375\" r=\"5\" stroke=\"#000000\" fill=\"#ffffff\" id=\"drup_elem_10_endpoint_3\" class=\"endPoint right sub\" style=\"stroke-width: 1; opacity: 0;\" transform=\"matrix(1,0,0,1,186,36)\"></circle><circle cx=\"324.2578125\" cy=\"70.65234375\" r=\"5\" stroke=\"#000000\" fill=\"#ffffff\" id=\"drup_elem_10_endpoint_4\" class=\"endPoint left-up sub\" style=\"stroke-width: 1; opacity: 0;\" transform=\"matrix(1,0,0,1,186,36)\"></circle><circle cx=\"324.2578125\" cy=\"114.65234375\" r=\"5\" stroke=\"#000000\" fill=\"#ffffff\" id=\"drup_elem_10_endpoint_5\" class=\"endPoint left-down sub\" style=\"stroke-width: 1; opacity: 0;\" transform=\"matrix(1,0,0,1,186,36)\"></circle><circle cx=\"373.2578125\" cy=\"70.65234375\" r=\"5\" stroke=\"#000000\" fill=\"#ffffff\" id=\"drup_elem_10_endpoint_6\" class=\"endPoint right-up sub\" style=\"stroke-width: 1; opacity: 0;\" transform=\"matrix(1,0,0,1,186,36)\"></circle><circle cx=\"373.2578125\" cy=\"114.65234375\" r=\"5\" stroke=\"#000000\" fill=\"#ffffff\" id=\"drup_elem_10_endpoint_7\" class=\"endPoint right-down sub\" style=\"stroke-width: 1; opacity: 0;\" transform=\"matrix(1,0,0,1,186,36)\"></circle><text x=\"348.7578125\" y=\"92.65234375\" style=\"font-size: 20px; text-anchor: middle; alignment-baseline: central; opacity: 1; visibility: visible;\" class=\"egal-label sub\" transform=\"matrix(1,0,0,1,186,36)\" data-src=\"o2\">o2</text></g><g id=\"drup_elem_3\" first-frame=\"1\" last-frame=\"1\" class=\"drupElem\" style=\"display: none;\"><line x1=\"370.2578125\" x2=\"410.2578125\" y1=\"76.65234375\" y2=\"76.65234375\" stroke=\"#000000\" data-n1=\"drup_elem_1_endpoint_3\" class=\"connector egal-line core\" style=\"marker-end: url(&quot;#arrowEndMarker&quot;);\" data-n2=\"drup_elem_2_endpoint_2\"></line><text x=\"304.2578125\" y=\"104.65234375\" style=\"font-size: 20px; text-anchor: middle; alignment-baseline: central; opacity: 0;\" class=\"egal-label sub\">|</text></g><g id=\"drup_elem_4\" first-frame=\"1\" last-frame=\"1\" class=\"drupElem\" style=\"display: none;\"><text x=\"261.2578125\" y=\"136.65234375\" class=\"core alignable sub egal-label\" style=\"text-anchor: middle; alignment-baseline: central;\"></text></g><g id=\"drup_elem_5\" first-frame=\"1\" last-frame=\"2\" class=\"drupElem\" style=\"\"><text x=\"261.2578125\" y=\"156.65234375\" class=\"core alignable sub egal-label\" style=\"text-anchor: middle; alignment-baseline: central; font-size: 20px;\" data-src=\"variable\" transform=\"matrix(1,0,0,1,86,-28)\">variable</text></g><g id=\"drup_elem_6\" first-frame=\"1\" last-frame=\"1\" class=\"drupElem\" style=\"display: none;\"><text x=\"350.2578125\" y=\"154.65234375\" class=\"core alignable sub egal-label\" style=\"text-anchor: middle; alignment-baseline: central;\"></text></g><g id=\"drup_elem_7\" first-frame=\"1\" last-frame=\"2\" class=\"drupElem\" style=\"\"><text x=\"350.2578125\" y=\"174.65234375\" class=\"core alignable sub egal-label\" style=\"text-anchor: middle; alignment-baseline: central; font-size: 20px;\" data-src=\"ref cell\" transform=\"matrix(1,0,0,1,82,-46)\">ref cell</text></g><g id=\"drup_elem_8\" first-frame=\"1\" last-frame=\"1\" class=\"drupElem\" style=\"display: none;\"><text x=\"375.2578125\" y=\"191.65234375\" class=\"core alignable sub egal-label\" style=\"text-anchor: middle; alignment-baseline: central; font-size: 20px;\"></text></g><g id=\"drup_elem_11\" first-frame=\"1\" last-frame=\"1\" class=\"drupElem\" style=\"display: none;\"><line x1=\"459.2578125\" x2=\"509.2578125\" y1=\"76.65234375\" y2=\"52.65234375\" stroke=\"#000000\" data-n1=\"drup_elem_2_endpoint_3\" class=\"connector egal-line core\" style=\"marker-end: url(&quot;#arrowEndMarker&quot;);\" data-n2=\"drup_elem_9_endpoint_2\"></line><text x=\"484.2578125\" y=\"64.65234375\" style=\"font-size: 20px; text-anchor: middle; alignment-baseline: central; opacity: 0;\" class=\"egal-label sub\">|</text></g><g id=\"drup_elem_12\" first-frame=\"2\" last-frame=\"2\" class=\"drupElem\" style=\"\"><line x1=\"370.2578125\" x2=\"410.2578125\" y1=\"76.65234375\" y2=\"76.65234375\" stroke=\"#000000\" data-n1=\"drup_elem_1_endpoint_3\" class=\"connector egal-line core\" style=\"marker-end: url(&quot;#arrowEndMarker&quot;);\" data-n2=\"drup_elem_2_endpoint_2\"></line><text x=\"390.2578125\" y=\"76.65234375\" style=\"font-size: 20px; text-anchor: middle; alignment-baseline: central; opacity: 0;\" class=\"egal-label sub\">|</text></g><g id=\"drup_elem_13\" first-frame=\"2\" last-frame=\"2\" class=\"drupElem\" style=\"\"><line x1=\"459.2578125\" x2=\"510.2578125\" y1=\"76.65234375\" y2=\"128.65234375\" stroke=\"#000000\" data-n1=\"drup_elem_2_endpoint_3\" class=\"connector egal-line core\" style=\"marker-end: url(&quot;#arrowEndMarker&quot;);\" data-n2=\"drup_elem_10_endpoint_2\"></line><text x=\"484.7578125\" y=\"102.65234375\" style=\"font-size: 20px; text-anchor: middle; alignment-baseline: central; opacity: 0;\" class=\"egal-label sub\">|</text></g></svg>"
   ]
  },
  {
   "cell_type": "markdown",
   "metadata": {
    "slideshow": {
     "slide_type": "slide"
    }
   },
   "source": [
    "## Reference cells"
   ]
  },
  {
   "cell_type": "code",
   "execution_count": 1,
   "metadata": {},
   "outputs": [
    {
     "data": {
      "text/plain": [
       "val r : int ref = {contents = 0}\n"
      ]
     },
     "execution_count": 1,
     "metadata": {},
     "output_type": "execute_result"
    }
   ],
   "source": [
    "let r = ref 0"
   ]
  },
  {
   "cell_type": "code",
   "execution_count": 2,
   "metadata": {},
   "outputs": [
    {
     "data": {
      "text/plain": [
       "- : int = 1\n"
      ]
     },
     "execution_count": 2,
     "metadata": {},
     "output_type": "execute_result"
    }
   ],
   "source": [
    "r := !r + 1;\n",
    "!r"
   ]
  },
  {
   "cell_type": "markdown",
   "metadata": {
    "slideshow": {
     "slide_type": "slide"
    }
   },
   "source": [
    "## Reference Cells: Types"
   ]
  },
  {
   "cell_type": "code",
   "execution_count": 3,
   "metadata": {},
   "outputs": [
    {
     "data": {
      "text/plain": [
       "- : 'a -> 'a ref = <fun>\n"
      ]
     },
     "execution_count": 3,
     "metadata": {},
     "output_type": "execute_result"
    }
   ],
   "source": [
    "ref"
   ]
  },
  {
   "cell_type": "code",
   "execution_count": 4,
   "metadata": {},
   "outputs": [
    {
     "data": {
      "text/plain": [
       "- : 'a ref -> 'a = <fun>\n"
      ]
     },
     "execution_count": 4,
     "metadata": {},
     "output_type": "execute_result"
    }
   ],
   "source": [
    "(!)"
   ]
  },
  {
   "cell_type": "code",
   "execution_count": 5,
   "metadata": {},
   "outputs": [
    {
     "data": {
      "text/plain": [
       "- : 'a ref -> 'a -> unit = <fun>\n"
      ]
     },
     "execution_count": 5,
     "metadata": {},
     "output_type": "execute_result"
    }
   ],
   "source": [
    "(:=)"
   ]
  },
  {
   "cell_type": "markdown",
   "metadata": {
    "slideshow": {
     "slide_type": "slide"
    }
   },
   "source": [
    "## Implementing a counter"
   ]
  },
  {
   "cell_type": "code",
   "execution_count": 6,
   "metadata": {},
   "outputs": [
    {
     "data": {
      "text/plain": [
       "val make_counter : int -> unit -> int = <fun>\n"
      ]
     },
     "execution_count": 6,
     "metadata": {},
     "output_type": "execute_result"
    }
   ],
   "source": [
    "let make_counter init =\n",
    "  let c = ref init in\n",
    "  fun () -> \n",
    "    (c := !c + 1; !c)"
   ]
  },
  {
   "cell_type": "code",
   "execution_count": 7,
   "metadata": {},
   "outputs": [
    {
     "data": {
      "text/plain": [
       "val next : unit -> int = <fun>\n"
      ]
     },
     "execution_count": 7,
     "metadata": {},
     "output_type": "execute_result"
    }
   ],
   "source": [
    "let next = make_counter 0"
   ]
  },
  {
   "cell_type": "code",
   "execution_count": 8,
   "metadata": {},
   "outputs": [
    {
     "data": {
      "text/plain": [
       "- : int = 1\n"
      ]
     },
     "execution_count": 8,
     "metadata": {},
     "output_type": "execute_result"
    }
   ],
   "source": [
    "next()"
   ]
  },
  {
   "cell_type": "markdown",
   "metadata": {
    "slideshow": {
     "slide_type": "slide"
    }
   },
   "source": [
    "## Side effects make reasoning hard\n",
    "\n",
    "* Recall that referential transparency allows replacing $e$ with $v$ if $e \\rightarrow_{\\beta} v$.\n",
    "* Side effects break referential transparency."
   ]
  },
  {
   "cell_type": "markdown",
   "metadata": {
    "slideshow": {
     "slide_type": "slide"
    }
   },
   "source": [
    "## Referential transparency\n",
    "\n",
    "Consider the function `foo`:"
   ]
  },
  {
   "cell_type": "code",
   "execution_count": 9,
   "metadata": {},
   "outputs": [
    {
     "data": {
      "text/plain": [
       "val foo : int -> int = <fun>\n"
      ]
     },
     "execution_count": 9,
     "metadata": {},
     "output_type": "execute_result"
    }
   ],
   "source": [
    "let foo x = x + 1"
   ]
  },
  {
   "cell_type": "code",
   "execution_count": 10,
   "metadata": {},
   "outputs": [
    {
     "data": {
      "text/plain": [
       "val baz : int = 11\n"
      ]
     },
     "execution_count": 10,
     "metadata": {},
     "output_type": "execute_result"
    }
   ],
   "source": [
    "let baz = foo 10"
   ]
  },
  {
   "cell_type": "markdown",
   "metadata": {
    "slideshow": {
     "slide_type": "fragment"
    }
   },
   "source": [
    "`baz` can now be optimised to"
   ]
  },
  {
   "cell_type": "code",
   "execution_count": 11,
   "metadata": {},
   "outputs": [
    {
     "data": {
      "text/plain": [
       "val baz : int = 11\n"
      ]
     },
     "execution_count": 11,
     "metadata": {},
     "output_type": "execute_result"
    }
   ],
   "source": [
    "let baz = 11"
   ]
  },
  {
   "cell_type": "markdown",
   "metadata": {
    "slideshow": {
     "slide_type": "slide"
    }
   },
   "source": [
    "## Referential transparency\n",
    "\n",
    "Consider the function `bar`:"
   ]
  },
  {
   "cell_type": "code",
   "execution_count": 12,
   "metadata": {},
   "outputs": [
    {
     "data": {
      "text/plain": [
       "val bar : int -> int = <fun>\n"
      ]
     },
     "execution_count": 12,
     "metadata": {},
     "output_type": "execute_result"
    }
   ],
   "source": [
    "let bar x = x + next()"
   ]
  },
  {
   "cell_type": "code",
   "execution_count": 13,
   "metadata": {},
   "outputs": [
    {
     "data": {
      "text/plain": [
       "val qux : int = 12\n"
      ]
     },
     "execution_count": 13,
     "metadata": {},
     "output_type": "execute_result"
    }
   ],
   "source": [
    "let qux = bar 10"
   ]
  },
  {
   "cell_type": "markdown",
   "metadata": {
    "slideshow": {
     "slide_type": "fragment"
    }
   },
   "source": [
    "Can we now optimise `qux` to:"
   ]
  },
  {
   "cell_type": "code",
   "execution_count": 14,
   "metadata": {},
   "outputs": [
    {
     "data": {
      "text/plain": [
       "val qux : int = 19\n"
      ]
     },
     "execution_count": 14,
     "metadata": {},
     "output_type": "execute_result"
    }
   ],
   "source": [
    "let qux = 19"
   ]
  },
  {
   "cell_type": "markdown",
   "metadata": {},
   "source": [
    "**NO**. Referential transparency breaks under side effects. "
   ]
  },
  {
   "cell_type": "markdown",
   "metadata": {
    "slideshow": {
     "slide_type": "slide"
    }
   },
   "source": [
    "## Aliases\n",
    "\n",
    "References may create aliases.\n",
    "\n",
    "What is the result of this program?"
   ]
  },
  {
   "cell_type": "code",
   "execution_count": 15,
   "metadata": {},
   "outputs": [
    {
     "data": {
      "text/plain": [
       "- : int = 21\n"
      ]
     },
     "execution_count": 15,
     "metadata": {},
     "output_type": "execute_result"
    }
   ],
   "source": [
    "let x = ref 10 in\n",
    "let y = ref 10 in\n",
    "let z = x in\n",
    "z := !x + 1;\n",
    "!x + !y"
   ]
  },
  {
   "cell_type": "markdown",
   "metadata": {},
   "source": [
    "* `z` and `x` are said to be **aliases**\n",
    "  + They refer to the same object in the program heap."
   ]
  },
  {
   "cell_type": "markdown",
   "metadata": {
    "slideshow": {
     "slide_type": "slide"
    }
   },
   "source": [
    "## Equality\n",
    "\n",
    "* The `=` that we have been using is known as **structural equality**\n",
    "  + Checks whether the values' structurally equal. \n",
    "  + `[1;2;3] = [1;2;3]` evaluates to `true`. \n",
    "* Because of references, one may also want to ask whether two expressions are **aliases**\n",
    "  + This equality is known as **physical equality**.\n",
    "  + OCaml uses `==` to check for physical equality."
   ]
  },
  {
   "cell_type": "markdown",
   "metadata": {
    "slideshow": {
     "slide_type": "slide"
    }
   },
   "source": [
    "## Equality"
   ]
  },
  {
   "cell_type": "code",
   "execution_count": 16,
   "metadata": {},
   "outputs": [
    {
     "data": {
      "text/plain": [
       "val l1 : int list = [1; 2; 3]\n"
      ]
     },
     "execution_count": 16,
     "metadata": {},
     "output_type": "execute_result"
    },
    {
     "data": {
      "text/plain": [
       "val l2 : int list = [1; 2; 3]\n"
      ]
     },
     "execution_count": 16,
     "metadata": {},
     "output_type": "execute_result"
    },
    {
     "data": {
      "text/plain": [
       "val l3 : int list = [1; 2; 3]\n"
      ]
     },
     "execution_count": 16,
     "metadata": {},
     "output_type": "execute_result"
    },
    {
     "data": {
      "text/plain": [
       "val r1 : int list ref = {contents = [1; 2; 3]}\n"
      ]
     },
     "execution_count": 16,
     "metadata": {},
     "output_type": "execute_result"
    },
    {
     "data": {
      "text/plain": [
       "val r2 : int list ref = {contents = [1; 2; 3]}\n"
      ]
     },
     "execution_count": 16,
     "metadata": {},
     "output_type": "execute_result"
    },
    {
     "data": {
      "text/plain": [
       "val r3 : int list ref = {contents = [1; 2; 3]}\n"
      ]
     },
     "execution_count": 16,
     "metadata": {},
     "output_type": "execute_result"
    }
   ],
   "source": [
    "let l1 = [1;2;3];;\n",
    "let l2 = l1;;\n",
    "let l3 = [1;2;3];;\n",
    "let r1 = ref l1;;\n",
    "let r2 = r1;;\n",
    "let r3 = ref l3;;"
   ]
  },
  {
   "cell_type": "code",
   "execution_count": 17,
   "metadata": {},
   "outputs": [
    {
     "data": {
      "text/plain": [
       "val l : int option = Some 10\n"
      ]
     },
     "execution_count": 17,
     "metadata": {},
     "output_type": "execute_result"
    },
    {
     "data": {
      "text/plain": [
       "val x : int option ref = {contents = Some 10}\n"
      ]
     },
     "execution_count": 17,
     "metadata": {},
     "output_type": "execute_result"
    },
    {
     "data": {
      "text/plain": [
       "val y : int option ref ref = {contents = {contents = Some 10}}\n"
      ]
     },
     "execution_count": 17,
     "metadata": {},
     "output_type": "execute_result"
    },
    {
     "data": {
      "text/plain": [
       "val z : int option ref = {contents = Some 10}\n"
      ]
     },
     "execution_count": 17,
     "metadata": {},
     "output_type": "execute_result"
    },
    {
     "data": {
      "text/plain": [
       "- : bool * bool * bool * bool = (false, true, true, true)\n"
      ]
     },
     "execution_count": 17,
     "metadata": {},
     "output_type": "execute_result"
    }
   ],
   "source": [
    "let l = Some 10\n",
    "let x = ref l\n",
    "let y = ref x\n",
    "let z = !y;;\n",
    "\n",
    "l == Some 10, x = ref (Some 10), y = ref x, z == x"
   ]
  },
  {
   "cell_type": "markdown",
   "metadata": {
    "slideshow": {
     "slide_type": "slide"
    }
   },
   "source": [
    "## Equality\n",
    "```ocaml\n",
    "let l1 = [1;2;3];; \n",
    "let l2 = l1;; \n",
    "let l3 = [1;2;3];;\n",
    "let r1 = ref l1;;\n",
    "let r2 = r1;;\n",
    "let r3 = ref l3;;\n",
    "```\n",
    "which of the following are true?\n",
    "\n",
    "(1)`l1 = l2` (2)`l1 = l3` (3)`r1 == r2` (4)`l1 == l2` \n",
    "\n",
    "(5) `r1 == r3` (6) `l1 == l3` (7) `r1 = r2` (8) `r1 = r3`"
   ]
  },
  {
   "cell_type": "markdown",
   "metadata": {
    "slideshow": {
     "slide_type": "slide"
    }
   },
   "source": [
    "## Equality\n",
    "\n",
    "<center>\n",
    "    \n",
    "<img src=\"heap.svg\" width=\"250\">\n",
    "</center>\n",
    "\n",
    "which of the following are true?\n",
    "\n",
    "(1)`l1 = l2` (2)`l1 = l3` (3)`r1 == r2` (4)`l1 == l2` \n",
    "\n",
    "(5) `r1 == r3` (6) `l1 == l3` (7) `r1 = r2` (8) `r1 = r3`\n",
    "\n",
    "References are structurally equal iff their contents are structurally equal."
   ]
  },
  {
   "cell_type": "code",
   "execution_count": 20,
   "metadata": {},
   "outputs": [
    {
     "data": {
      "text/plain": [
       "- : bool = false\n"
      ]
     },
     "execution_count": 20,
     "metadata": {},
     "output_type": "execute_result"
    }
   ],
   "source": [
    "r1 == r3"
   ]
  },
  {
   "cell_type": "markdown",
   "metadata": {
    "slideshow": {
     "slide_type": "slide"
    }
   },
   "source": [
    "## Value Restriction\n",
    "\n",
    "Consider the following program:"
   ]
  },
  {
   "cell_type": "code",
   "execution_count": null,
   "metadata": {},
   "outputs": [],
   "source": [
    "let r = [] in\n",
    "let r1 : int list = r in\n",
    "let r2 : string list = r in\n",
    "(r1,r2)"
   ]
  },
  {
   "cell_type": "markdown",
   "metadata": {},
   "source": [
    "`r` has type `'a list`. But otherwise, nothing surprising here."
   ]
  },
  {
   "cell_type": "markdown",
   "metadata": {
    "slideshow": {
     "slide_type": "slide"
    }
   },
   "source": [
    "## Value Restriction\n",
    "\n",
    "Consider a modified program:"
   ]
  },
  {
   "cell_type": "code",
   "execution_count": 22,
   "metadata": {},
   "outputs": [
    {
     "ename": "error",
     "evalue": "compile_error",
     "output_type": "error",
     "traceback": [
      "\u001b[32mFile \"[22]\", line 3, characters 27-28:\n\u001b[31mError: This expression has type int list ref\n       but an expression was expected of type string list ref\n       Type int is not compatible with type string \n\u001b[36m   2: \u001b[30mlet r1 : int list ref = r in\n\u001b[36m   3: \u001b[30mlet r2 : string list ref = \u001b[4mr\u001b[0m\u001b[30m in\n\u001b[36m   4: \u001b[30m(r1,r2)\u001b[0m\n"
     ]
    }
   ],
   "source": [
    "let r = ref [] in\n",
    "let r1 : int list ref = r in\n",
    "let r2 : string list ref = r in\n",
    "(r1,r2)"
   ]
  },
  {
   "cell_type": "markdown",
   "metadata": {
    "slideshow": {
     "slide_type": "slide"
    }
   },
   "source": [
    "## Value Restriction\n",
    "\n",
    "Let's look at the type of `ref []`"
   ]
  },
  {
   "cell_type": "code",
   "execution_count": 21,
   "metadata": {},
   "outputs": [
    {
     "data": {
      "text/plain": [
       "val r : '_weak1 list ref = {contents = []}\n"
      ]
     },
     "execution_count": 21,
     "metadata": {},
     "output_type": "execute_result"
    }
   ],
   "source": [
    "let r = ref []"
   ]
  },
  {
   "cell_type": "markdown",
   "metadata": {},
   "source": [
    "* The `'_weak1` says that `r` is only *weakly polymorphic*. \n",
    "  + `r` can be used with only one type.\n",
    "  + This is known as **value restriction**.\n",
    "* But why does value restriction exist?"
   ]
  },
  {
   "cell_type": "markdown",
   "metadata": {
    "slideshow": {
     "slide_type": "slide"
    }
   },
   "source": [
    "## Why does value restriction exist?\n",
    "\n",
    "If value restriction does not exist, the following program would be well-typed.\n",
    "\n",
    "\n",
    "```ocaml\n",
    "let r = ref [] in\n",
    "let r1 : int list ref = r in\n",
    "let r2 : string list ref = r in\n",
    "r1 := [1];\n",
    "print_endline (List.hd !r2)\n",
    "```\n",
    "\n",
    "* We are storing an int list in `r1` and reading it out as a string list through `r2`.\n",
    "* In OCaml, value restriction is implemented as a syntactic check of RHS + some typing checks.\n",
    "  + Details are beyond the scope of this course. "
   ]
  },
  {
   "cell_type": "markdown",
   "metadata": {
    "slideshow": {
     "slide_type": "slide"
    }
   },
   "source": [
    "## Partial Application and Value restriction \n",
    "\n",
    "Since value restriction is implemented as a syntactic check, it can sometimes be restrictive. \n",
    "\n",
    "For example, here is a function that swaps the elemenents of a pair in a list of pairs."
   ]
  },
  {
   "cell_type": "code",
   "execution_count": 23,
   "metadata": {},
   "outputs": [
    {
     "data": {
      "text/plain": [
       "val swap_list : ('_weak2 * '_weak3) list -> ('_weak3 * '_weak2) list = <fun>\n"
      ]
     },
     "execution_count": 23,
     "metadata": {},
     "output_type": "execute_result"
    }
   ],
   "source": [
    "let swap_list = List.map (fun (a,b) -> (b,a))"
   ]
  },
  {
   "cell_type": "markdown",
   "metadata": {},
   "source": [
    "The type inferred is a weakly polymorphic type."
   ]
  },
  {
   "cell_type": "code",
   "execution_count": 24,
   "metadata": {},
   "outputs": [
    {
     "ename": "error",
     "evalue": "compile_error",
     "output_type": "error",
     "traceback": [
      "\u001b[32mFile \"[24]\", line 2, characters 15-16:\n\u001b[31mError: This expression has type int but an expression was expected of type\n         string\n\u001b[36m   1: \u001b[30m(swap_list [(1,\"hello\")], \n\u001b[36m   2: \u001b[30m swap_list [(1,\u001b[4m1\u001b[0m\u001b[30m)])\u001b[0m\n"
     ]
    }
   ],
   "source": [
    "(swap_list [(1,\"hello\")], \n",
    " swap_list [(1,1)])"
   ]
  },
  {
   "cell_type": "markdown",
   "metadata": {
    "slideshow": {
     "slide_type": "slide"
    }
   },
   "source": [
    "## Partial Application and Value restriction \n",
    "\n",
    "In many cases, the unnecessary value restriction can be fixed by eta expansion. "
   ]
  },
  {
   "cell_type": "code",
   "execution_count": 25,
   "metadata": {},
   "outputs": [
    {
     "data": {
      "text/plain": [
       "val swap_list : ('a * 'b) list -> ('b * 'a) list = <fun>\n"
      ]
     },
     "execution_count": 25,
     "metadata": {},
     "output_type": "execute_result"
    }
   ],
   "source": [
    "let swap_list l = List.map (fun (a,b) -> (b,a)) l"
   ]
  },
  {
   "cell_type": "code",
   "execution_count": 26,
   "metadata": {},
   "outputs": [
    {
     "data": {
      "text/plain": [
       "- : (string * int) list * (int * int) list = ([(\"hello\", 1)], [(1, 1)])\n"
      ]
     },
     "execution_count": 26,
     "metadata": {},
     "output_type": "execute_result"
    }
   ],
   "source": [
    "(swap_list [(1,\"hello\")], \n",
    " swap_list [(1,1)])"
   ]
  },
  {
   "cell_type": "markdown",
   "metadata": {
    "slideshow": {
     "slide_type": "slide"
    }
   },
   "source": [
    "## Mutable Record Fields\n",
    "\n",
    "Ref cells are essentially syntactic sugar:\n",
    "\n",
    "```ocaml\n",
    "type 'a ref = { mutable contents: 'a }\n",
    "let ref x = { contents = x }\n",
    "let ( ! ) r = r.contents\n",
    "let ( := ) r newval = r.contents <- newval\n",
    "```\n",
    "\n",
    "* That type is declared in `Pervasives`\n",
    "* The functions are compiled down to something equivalent"
   ]
  },
  {
   "cell_type": "markdown",
   "metadata": {
    "slideshow": {
     "slide_type": "slide"
    }
   },
   "source": [
    "## Doubly-linked list"
   ]
  },
  {
   "cell_type": "code",
   "execution_count": 27,
   "metadata": {},
   "outputs": [
    {
     "data": {
      "text/plain": [
       "type 'a element = {\n",
       "  value : 'a;\n",
       "  mutable next : 'a element option;\n",
       "  mutable prev : 'a element option;\n",
       "}\n"
      ]
     },
     "execution_count": 27,
     "metadata": {},
     "output_type": "execute_result"
    },
    {
     "data": {
      "text/plain": [
       "type 'a dllist = 'a element option ref\n"
      ]
     },
     "execution_count": 27,
     "metadata": {},
     "output_type": "execute_result"
    }
   ],
   "source": [
    "(* The type of elements *)\n",
    "type 'a element = { \n",
    "  value : 'a;\n",
    "  mutable next : 'a element option;\n",
    "  mutable prev : 'a element option\n",
    "}\n",
    "\n",
    "(* The type of list *)\n",
    "type 'a dllist = 'a element option ref"
   ]
  },
  {
   "cell_type": "markdown",
   "metadata": {
    "slideshow": {
     "slide_type": "slide"
    }
   },
   "source": [
    "## Double-linked list"
   ]
  },
  {
   "cell_type": "code",
   "execution_count": 28,
   "metadata": {},
   "outputs": [
    {
     "data": {
      "text/plain": [
       "val create : unit -> 'a dllist = <fun>\n"
      ]
     },
     "execution_count": 28,
     "metadata": {},
     "output_type": "execute_result"
    },
    {
     "data": {
      "text/plain": [
       "val is_empty : 'a dllist -> bool = <fun>\n"
      ]
     },
     "execution_count": 28,
     "metadata": {},
     "output_type": "execute_result"
    },
    {
     "data": {
      "text/plain": [
       "val value : 'a element -> 'a = <fun>\n"
      ]
     },
     "execution_count": 28,
     "metadata": {},
     "output_type": "execute_result"
    },
    {
     "data": {
      "text/plain": [
       "val first : 'a dllist -> 'a element option = <fun>\n"
      ]
     },
     "execution_count": 28,
     "metadata": {},
     "output_type": "execute_result"
    },
    {
     "data": {
      "text/plain": [
       "val next : 'a element -> 'a element option = <fun>\n"
      ]
     },
     "execution_count": 28,
     "metadata": {},
     "output_type": "execute_result"
    },
    {
     "data": {
      "text/plain": [
       "val prev : 'a element -> 'a element option = <fun>\n"
      ]
     },
     "execution_count": 28,
     "metadata": {},
     "output_type": "execute_result"
    }
   ],
   "source": [
    "let create () : 'a dllist = ref None\n",
    "let is_empty (t : 'a dllist) = !t = None\n",
    "\n",
    "let value elt = elt.value\n",
    "\n",
    "let first (t : 'a dllist) = !t\n",
    "let next elt = elt.next\n",
    "let prev elt = elt.prev"
   ]
  },
  {
   "cell_type": "markdown",
   "metadata": {
    "slideshow": {
     "slide_type": "slide"
    }
   },
   "source": [
    "## Doubly-linked list"
   ]
  },
  {
   "cell_type": "code",
   "execution_count": 29,
   "metadata": {},
   "outputs": [
    {
     "data": {
      "text/plain": [
       "val insert_first : 'a dllist -> 'a -> 'a element = <fun>\n"
      ]
     },
     "execution_count": 29,
     "metadata": {},
     "output_type": "execute_result"
    }
   ],
   "source": [
    "let insert_first (t:'a dllist) value =\n",
    "  let new_elt = { prev = None; next = !t; value } in\n",
    "  begin match !t with\n",
    "  | Some old_first -> old_first.prev <- Some new_elt\n",
    "  | None -> ()\n",
    "  end;\n",
    "  t := Some new_elt;\n",
    "  new_elt"
   ]
  },
  {
   "cell_type": "markdown",
   "metadata": {
    "slideshow": {
     "slide_type": "slide"
    }
   },
   "source": [
    "## Doubly-linked list"
   ]
  },
  {
   "cell_type": "code",
   "execution_count": 30,
   "metadata": {},
   "outputs": [
    {
     "data": {
      "text/plain": [
       "val insert_after : 'a element -> 'a -> 'a element = <fun>\n"
      ]
     },
     "execution_count": 30,
     "metadata": {},
     "output_type": "execute_result"
    }
   ],
   "source": [
    "let insert_after elt value =\n",
    "  let new_elt = { value; prev = Some elt; next = elt.next } in\n",
    "  begin match elt.next with\n",
    "  | Some old_next -> old_next.prev <- Some new_elt\n",
    "  | None -> ()\n",
    "  end;\n",
    "  elt.next <- Some new_elt;\n",
    "  new_elt"
   ]
  },
  {
   "cell_type": "markdown",
   "metadata": {
    "slideshow": {
     "slide_type": "slide"
    }
   },
   "source": [
    "## Doubly-linked list"
   ]
  },
  {
   "cell_type": "code",
   "execution_count": 31,
   "metadata": {},
   "outputs": [
    {
     "data": {
      "text/plain": [
       "val remove : 'a dllist -> 'a element -> unit = <fun>\n"
      ]
     },
     "execution_count": 31,
     "metadata": {},
     "output_type": "execute_result"
    }
   ],
   "source": [
    "let remove (t:'a dllist) elt =\n",
    "  let { prev; next; _ } = elt in\n",
    "  begin match prev with\n",
    "  | Some prev -> prev.next <- next\n",
    "  | None -> t := next\n",
    "  end;\n",
    "  begin match next with\n",
    "  | Some next -> next.prev <- prev;\n",
    "  | None -> ()\n",
    "  end;\n",
    "  elt.prev <- None;\n",
    "  elt.next <- None"
   ]
  },
  {
   "cell_type": "markdown",
   "metadata": {
    "slideshow": {
     "slide_type": "slide"
    }
   },
   "source": [
    "## Doubly-linked list"
   ]
  },
  {
   "cell_type": "code",
   "execution_count": null,
   "metadata": {},
   "outputs": [],
   "source": [
    "let iter (t : 'a dllist) f =\n",
    "  let rec loop = function\n",
    "    | None -> ()\n",
    "    | Some el -> f (value el); loop (next el)\n",
    "  in\n",
    "  loop !t"
   ]
  },
  {
   "cell_type": "markdown",
   "metadata": {
    "slideshow": {
     "slide_type": "slide"
    }
   },
   "source": [
    "## Doubly-linked list"
   ]
  },
  {
   "cell_type": "code",
   "execution_count": null,
   "metadata": {},
   "outputs": [],
   "source": [
    "let l = create ();;\n",
    "let n0 = insert_first l 0;;\n",
    "let n1 = insert_after n0 1;;\n",
    "insert_after n1 2"
   ]
  },
  {
   "cell_type": "markdown",
   "metadata": {
    "slideshow": {
     "slide_type": "slide"
    }
   },
   "source": [
    "## Doubly-linked list"
   ]
  },
  {
   "cell_type": "code",
   "execution_count": null,
   "metadata": {
    "scrolled": false
   },
   "outputs": [],
   "source": [
    "iter l (Printf.printf \"%d\\n%!\")"
   ]
  },
  {
   "cell_type": "markdown",
   "metadata": {
    "slideshow": {
     "slide_type": "slide"
    }
   },
   "source": [
    "## Arrays\n",
    "\n",
    "Collection type with efficient random access."
   ]
  },
  {
   "cell_type": "code",
   "execution_count": 33,
   "metadata": {},
   "outputs": [
    {
     "data": {
      "text/plain": [
       "val a : int array = [|1; 2; 3|]\n"
      ]
     },
     "execution_count": 33,
     "metadata": {},
     "output_type": "execute_result"
    }
   ],
   "source": [
    "let a = [| 1;2;3 |]"
   ]
  },
  {
   "cell_type": "code",
   "execution_count": 34,
   "metadata": {},
   "outputs": [
    {
     "data": {
      "text/plain": [
       "- : int = 3\n"
      ]
     },
     "execution_count": 34,
     "metadata": {},
     "output_type": "execute_result"
    }
   ],
   "source": [
    "a.(2)"
   ]
  },
  {
   "cell_type": "markdown",
   "metadata": {
    "slideshow": {
     "slide_type": "slide"
    }
   },
   "source": [
    "## Arrays"
   ]
  },
  {
   "cell_type": "code",
   "execution_count": 83,
   "metadata": {},
   "outputs": [
    {
     "data": {
      "text/plain": [
       "- : int array = [|1; 0; 3|]\n"
      ]
     },
     "execution_count": 83,
     "metadata": {},
     "output_type": "execute_result"
    }
   ],
   "source": [
    "a.(1) <- 0; \n",
    "a"
   ]
  },
  {
   "cell_type": "code",
   "execution_count": 84,
   "metadata": {},
   "outputs": [
    {
     "ename": "error",
     "evalue": "runtime_error",
     "output_type": "error",
     "traceback": [
      "\u001b[31mException: Invalid_argument \"index out of bounds\".\nRaised by primitive operation at unknown location\nCalled from file \"toplevel/toploop.ml\", line 180, characters 17-56\n\u001b[0m"
     ]
    }
   ],
   "source": [
    "a.(4)"
   ]
  },
  {
   "cell_type": "markdown",
   "metadata": {},
   "source": [
    "* Arrays behave very similar to array's in C\n",
    " + See [Array module](https://caml.inria.fr/pub/docs/manual-ocaml/libref/Array.html) documentation in the OCaml standard library"
   ]
  },
  {
   "cell_type": "markdown",
   "metadata": {
    "slideshow": {
     "slide_type": "slide"
    }
   },
   "source": [
    "## Benefits of immutability\n",
    "\n",
    "* Programmer doesn’t have to think about aliasing; can concentrate on other aspects of code\n",
    "* Language implementation is free to share objects on the heap, which is cheap\n",
    "* Often easier to reason about whether code is correct\n",
    "* Perfect fit for concurrent programming\n",
    "\n",
    "But\n",
    "\n",
    "* Some data structures (hash tables, arrays, ...) are more efficient if imperative"
   ]
  },
  {
   "cell_type": "markdown",
   "metadata": {
    "slideshow": {
     "slide_type": "slide"
    }
   },
   "source": [
    "<center>\n",
    "\n",
    "<h1 style=\"text-align:center\"> Fin. </h1>\n",
    "</center>"
   ]
  }
 ],
 "metadata": {
  "celltoolbar": "Slideshow",
  "kernelspec": {
   "display_name": "OCaml 4.07.1",
   "language": "OCaml",
   "name": "ocaml-jupyter"
  },
  "language_info": {
   "codemirror_mode": "text/x-ocaml",
   "file_extension": ".ml",
   "mimetype": "text/x-ocaml",
   "name": "OCaml",
   "nbconverter_exporter": null,
   "pygments_lexer": "OCaml",
   "version": "4.07.1"
  }
 },
 "nbformat": 4,
 "nbformat_minor": 2
}
