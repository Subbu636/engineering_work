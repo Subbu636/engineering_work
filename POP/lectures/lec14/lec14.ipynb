{
 "cells": [
  {
   "cell_type": "markdown",
   "metadata": {
    "slideshow": {
     "slide_type": "slide"
    }
   },
   "source": [
    "<center>\n",
    "\n",
    "<h1 style=\"text-align:center\"> Streams, Laziness and Memoization </h1>\n",
    "<h2 style=\"text-align:center\"> CS3100 Fall 2019 </h2>\n",
    "</center>\n",
    "\n",
    "\n",
    "$\n",
    "\\require{color}\n",
    "\\newcommand{\\colorred}[1]{\\color{\\red}{\\text{#1}}}\n",
    "$\n"
   ]
  },
  {
   "cell_type": "markdown",
   "metadata": {
    "slideshow": {
     "slide_type": "slide"
    }
   },
   "source": [
    "## Review\n",
    "\n",
    "### Previously\n",
    "\n",
    "* Modular Programming\n",
    "  + Namespacing, Abstraction, Code Reuse\n",
    "  + Structures, Signatures, Functors\n",
    "  \n",
    "### This lecture\n",
    "\n",
    "* Streams: Programming with infinite data structures\n",
    "* Laziness: Call-by-need evaluation"
   ]
  },
  {
   "cell_type": "markdown",
   "metadata": {
    "slideshow": {
     "slide_type": "slide"
    }
   },
   "source": [
    "## Recursive values\n",
    "\n",
    "* In OCaml, we can define recursive functions.\n",
    "  + we can also define **recursive values**"
   ]
  },
  {
   "cell_type": "code",
   "execution_count": 38,
   "metadata": {},
   "outputs": [
    {
     "data": {
      "text/plain": [
       "val ones : int list = [1; <cycle>]\n"
      ]
     },
     "execution_count": 38,
     "metadata": {},
     "output_type": "execute_result"
    }
   ],
   "source": [
    "(* Infinite list of ones *)\n",
    "let rec ones = 1::ones"
   ]
  },
  {
   "cell_type": "code",
   "execution_count": 39,
   "metadata": {},
   "outputs": [
    {
     "data": {
      "text/plain": [
       "val zero_ones : int list = [0; 1; <cycle>]\n"
      ]
     },
     "execution_count": 39,
     "metadata": {},
     "output_type": "execute_result"
    }
   ],
   "source": [
    "(* Infinite list of alternating 0s and 1s *)\n",
    "let rec zero_ones = 0::1::zero_ones"
   ]
  },
  {
   "cell_type": "markdown",
   "metadata": {},
   "source": [
    "Even though the list is **infinite**, the data structure uses **finite** memory. "
   ]
  },
  {
   "cell_type": "markdown",
   "metadata": {
    "slideshow": {
     "slide_type": "slide"
    }
   },
   "source": [
    "## Infinite data structures\n",
    "\n",
    "Infinite data structures are not just an intellectual curiosity.\n",
    "\n",
    "* Infinite sequences such as primes and fibonacci numbers.\n",
    "* Streams of input read from file or socket.\n",
    "* Game trees which may be infinite\n",
    "  + Every possible move leads to branch in the tree. \n",
    "  + Imagine game trees where a piece could chase the other around forever. "
   ]
  },
  {
   "cell_type": "markdown",
   "metadata": {
    "slideshow": {
     "slide_type": "slide"
    }
   },
   "source": [
    "## Limitations of cyclic structures\n",
    "\n",
    "Suppose we want to convert the infinite list `zero_ones` to string, the obvious solutions don't work. "
   ]
  },
  {
   "cell_type": "code",
   "execution_count": 40,
   "metadata": {},
   "outputs": [
    {
     "ename": "error",
     "evalue": "runtime_error",
     "output_type": "error",
     "traceback": [
      "\u001b[31mStack overflow during evaluation (looping recursion?).\nRaised by primitive operation at file \"list.ml\", line 88, characters 20-23\nCalled from file \"list.ml\", line 88, characters 32-39\nCalled from file \"list.ml\", line 88, characters 32-39\nCalled from file \"list.ml\", line 88, characters 32-39\nCalled from file \"list.ml\", line 88, characters 32-39\nCalled from file \"list.ml\", line 88, characters 32-39\nCalled from file \"list.ml\", line 88, characters 32-39\nCalled from file \"list.ml\", line 88, characters 32-39\nCalled from file \"list.ml\", line 88, characters 32-39\nCalled from file \"list.ml\", line 88, characters 32-39\nCalled from file \"list.ml\", line 88, characters 32-39\nCalled from file \"list.ml\", line 88, characters 32-39\nCalled from file \"list.ml\", line 88, characters 32-39\nCalled from file \"list.ml\", line 88, characters 32-39\nCalled from file \"list.ml\", line 88, characters 32-39\nCalled from file \"list.ml\", line 88, characters 32-39\nCalled from file \"list.ml\", line 88, characters 32-39\nCalled from file \"list.ml\", line 88, characters 32-39\nCalled from file \"list.ml\", line 88, characters 32-39\nCalled from file \"list.ml\", line 88, characters 32-39\nCalled from file \"list.ml\", line 88, characters 32-39\nCalled from file \"list.ml\", line 88, characters 32-39\nCalled from file \"list.ml\", line 88, characters 32-39\nCalled from file \"list.ml\", line 88, characters 32-39\nCalled from file \"list.ml\", line 88, characters 32-39\nCalled from file \"list.ml\", line 88, characters 32-39\nCalled from file \"list.ml\", line 88, characters 32-39\nCalled from file \"list.ml\", line 88, characters 32-39\nCalled from file \"list.ml\", line 88, characters 32-39\nCalled from file \"list.ml\", line 88, characters 32-39\nCalled from file \"list.ml\", line 88, characters 32-39\nCalled from file \"list.ml\", line 88, characters 32-39\nCalled from file \"list.ml\", line 88, characters 32-39\nCalled from file \"list.ml\", line 88, characters 32-39\nCalled from file \"list.ml\", line 88, characters 32-39\nCalled from file \"list.ml\", line 88, characters 32-39\nCalled from file \"list.ml\", line 88, characters 32-39\nCalled from file \"list.ml\", line 88, characters 32-39\nCalled from file \"list.ml\", line 88, characters 32-39\nCalled from file \"list.ml\", line 88, characters 32-39\nCalled from file \"list.ml\", line 88, characters 32-39\nCalled from file \"list.ml\", line 88, characters 32-39\nCalled from file \"list.ml\", line 88, characters 32-39\nCalled from file \"list.ml\", line 88, characters 32-39\nCalled from file \"list.ml\", line 88, characters 32-39\nCalled from file \"list.ml\", line 88, characters 32-39\nCalled from file \"list.ml\", line 88, characters 32-39\nCalled from file \"list.ml\", line 88, characters 32-39\nCalled from file \"list.ml\", line 88, characters 32-39\nCalled from file \"list.ml\", line 88, characters 32-39\nCalled from file \"list.ml\", line 88, characters 32-39\nCalled from file \"list.ml\", line 88, characters 32-39\nCalled from file \"list.ml\", line 88, characters 32-39\nCalled from file \"list.ml\", line 88, characters 32-39\nCalled from file \"list.ml\", line 88, characters 32-39\nCalled from file \"list.ml\", line 88, characters 32-39\nCalled from file \"list.ml\", line 88, characters 32-39\nCalled from file \"list.ml\", line 88, characters 32-39\nCalled from file \"list.ml\", line 88, characters 32-39\nCalled from file \"list.ml\", line 88, characters 32-39\nCalled from file \"list.ml\", line 88, characters 32-39\nCalled from file \"list.ml\", line 88, characters 32-39\nCalled from file \"list.ml\", line 88, characters 32-39\nCalled from file \"list.ml\", line 88, characters 32-39\nCalled from file \"list.ml\", line 88, characters 32-39\nCalled from file \"list.ml\", line 88, characters 32-39\nCalled from file \"list.ml\", line 88, characters 32-39\nCalled from file \"list.ml\", line 88, characters 32-39\nCalled from file \"list.ml\", line 88, characters 32-39\nCalled from file \"list.ml\", line 88, characters 32-39\nCalled from file \"list.ml\", line 88, characters 32-39\nCalled from file \"list.ml\", line 88, characters 32-39\nCalled from file \"list.ml\", line 88, characters 32-39\nCalled from file \"list.ml\", line 88, characters 32-39\nCalled from file \"list.ml\", line 88, characters 32-39\nCalled from file \"list.ml\", line 88, characters 32-39\nCalled from file \"list.ml\", line 88, characters 32-39\nCalled from file \"list.ml\", line 88, characters 32-39\nCalled from file \"list.ml\", line 88, characters 32-39\nCalled from file \"list.ml\", line 88, characters 32-39\nCalled from file \"list.ml\", line 88, characters 32-39\nCalled from file \"list.ml\", line 88, characters 32-39\nCalled from file \"list.ml\", line 88, characters 32-39\nCalled from file \"list.ml\", line 88, characters 32-39\nCalled from file \"list.ml\", line 88, characters 32-39\nCalled from file \"list.ml\", line 88, characters 32-39\nCalled from file \"list.ml\", line 88, characters 32-39\nCalled from file \"list.ml\", line 88, characters 32-39\nCalled from file \"list.ml\", line 88, characters 32-39\nCalled from file \"list.ml\", line 88, characters 32-39\nCalled from file \"list.ml\", line 88, characters 32-39\nCalled from file \"list.ml\", line 88, characters 32-39\nCalled from file \"list.ml\", line 88, characters 32-39\nCalled from file \"list.ml\", line 88, characters 32-39\nCalled from file \"list.ml\", line 88, characters 32-39\nCalled from file \"list.ml\", line 88, characters 32-39\nCalled from file \"list.ml\", line 88, characters 32-39\nCalled from file \"list.ml\", line 88, characters 32-39\nCalled from file \"list.ml\", line 88, characters 32-39\nCalled from file \"list.ml\", line 88, characters 32-39\nCalled from file \"list.ml\", line 88, characters 32-39\nCalled from file \"list.ml\", line 88, characters 32-39\nCalled from file \"list.ml\", line 88, characters 32-39\nCalled from file \"list.ml\", line 88, characters 32-39\nCalled from file \"list.ml\", line 88, characters 32-39\nCalled from file \"list.ml\", line 88, characters 32-39\nCalled from file \"list.ml\", line 88, characters 32-39\nCalled from file \"list.ml\", line 88, characters 32-39\nCalled from file \"list.ml\", line 88, characters 32-39\nCalled from file \"list.ml\", line 88, characters 32-39\nCalled from file \"list.ml\", line 88, characters 32-39\nCalled from file \"list.ml\", line 88, characters 32-39\nCalled from file \"list.ml\", line 88, characters 32-39\nCalled from file \"list.ml\", line 88, characters 32-39\nCalled from file \"list.ml\", line 88, characters 32-39\nCalled from file \"list.ml\", line 88, characters 32-39\nCalled from file \"list.ml\", line 88, characters 32-39\nCalled from file \"list.ml\", line 88, characters 32-39\nCalled from file \"list.ml\", line 88, characters 32-39\nCalled from file \"list.ml\", line 88, characters 32-39\nCalled from file \"list.ml\", line 88, characters 32-39\nCalled from file \"list.ml\", line 88, characters 32-39\nCalled from file \"list.ml\", line 88, characters 32-39\nCalled from file \"list.ml\", line 88, characters 32-39\nCalled from file \"list.ml\", line 88, characters 32-39\nCalled from file \"list.ml\", line 88, characters 32-39\nCalled from file \"list.ml\", line 88, characters 32-39\nCalled from file \"list.ml\", line 88, characters 32-39\nCalled from file \"list.ml\", line 88, characters 32-39\nCalled from file \"list.ml\", line 88, characters 32-39\nCalled from file \"list.ml\", line 88, characters 32-39\nCalled from file \"list.ml\", line 88, characters 32-39\nCalled from file \"list.ml\", line 88, characters 32-39\nCalled from file \"list.ml\", line 88, characters 32-39\nCalled from file \"list.ml\", line 88, characters 32-39\nCalled from file \"list.ml\", line 88, characters 32-39\nCalled from file \"list.ml\", line 88, characters 32-39\nCalled from file \"list.ml\", line 88, characters 32-39\nCalled from file \"list.ml\", line 88, characters 32-39\nCalled from file \"list.ml\", line 88, characters 32-39\nCalled from file \"list.ml\", line 88, characters 32-39\nCalled from file \"list.ml\", line 88, characters 32-39\nCalled from file \"list.ml\", line 88, characters 32-39\nCalled from file \"list.ml\", line 88, characters 32-39\nCalled from file \"list.ml\", line 88, characters 32-39\nCalled from file \"list.ml\", line 88, characters 32-39\nCalled from file \"list.ml\", line 88, characters 32-39\nCalled from file \"list.ml\", line 88, characters 32-39\nCalled from file \"list.ml\", line 88, characters 32-39\nCalled from file \"list.ml\", line 88, characters 32-39\nCalled from file \"list.ml\", line 88, characters 32-39\nCalled from file \"list.ml\", line 88, characters 32-39\nCalled from file \"list.ml\", line 88, characters 32-39\nCalled from file \"list.ml\", line 88, characters 32-39\nCalled from file \"list.ml\", line 88, characters 32-39\nCalled from file \"list.ml\", line 88, characters 32-39\nCalled from file \"list.ml\", line 88, characters 32-39\nCalled from file \"list.ml\", line 88, characters 32-39\nCalled from file \"list.ml\", line 88, characters 32-39\nCalled from file \"list.ml\", line 88, characters 32-39\nCalled from file \"list.ml\", line 88, characters 32-39\nCalled from file \"list.ml\", line 88, characters 32-39\nCalled from file \"list.ml\", line 88, characters 32-39\nCalled from file \"list.ml\", line 88, characters 32-39\nCalled from file \"list.ml\", line 88, characters 32-39\nCalled from file \"list.ml\", line 88, characters 32-39\nCalled from file \"list.ml\", line 88, characters 32-39\nCalled from file \"list.ml\", line 88, characters 32-39\nCalled from file \"list.ml\", line 88, characters 32-39\nCalled from file \"list.ml\", line 88, characters 32-39\nCalled from file \"list.ml\", line 88, characters 32-39\nCalled from file \"list.ml\", line 88, characters 32-39\nCalled from file \"list.ml\", line 88, characters 32-39\nCalled from file \"list.ml\", line 88, characters 32-39\nCalled from file \"list.ml\", line 88, characters 32-39\nCalled from file \"list.ml\", line 88, characters 32-39\nCalled from file \"list.ml\", line 88, characters 32-39\nCalled from file \"list.ml\", line 88, characters 32-39\nCalled from file \"list.ml\", line 88, characters 32-39\nCalled from file \"list.ml\", line 88, characters 32-39\nCalled from file \"list.ml\", line 88, characters 32-39\nCalled from file \"list.ml\", line 88, characters 32-39\nCalled from file \"list.ml\", line 88, characters 32-39\nCalled from file \"list.ml\", line 88, characters 32-39\nCalled from file \"list.ml\", line 88, characters 32-39\nCalled from file \"list.ml\", line 88, characters 32-39\nCalled from file \"list.ml\", line 88, characters 32-39\nCalled from file \"list.ml\", line 88, characters 32-39\nCalled from file \"list.ml\", line 88, characters 32-39\nCalled from file \"list.ml\", line 88, characters 32-39\nCalled from file \"list.ml\", line 88, characters 32-39\nCalled from file \"list.ml\", line 88, characters 32-39\nCalled from file \"list.ml\", line 88, characters 32-39\nCalled from file \"list.ml\", line 88, characters 32-39\nCalled from file \"list.ml\", line 88, characters 32-39\nCalled from file \"list.ml\", line 88, characters 32-39\nCalled from file \"list.ml\", line 88, characters 32-39\nCalled from file \"list.ml\", line 88, characters 32-39\nCalled from file \"list.ml\", line 88, characters 32-39\nCalled from file \"list.ml\", line 88, characters 32-39\nCalled from file \"list.ml\", line 88, characters 32-39\nCalled from file \"list.ml\", line 88, characters 32-39\nCalled from file \"list.ml\", line 88, characters 32-39\nCalled from file \"list.ml\", line 88, characters 32-39\nCalled from file \"list.ml\", line 88, characters 32-39\nCalled from file \"list.ml\", line 88, characters 32-39\nCalled from file \"list.ml\", line 88, characters 32-39\nCalled from file \"list.ml\", line 88, characters 32-39\nCalled from file \"list.ml\", line 88, characters 32-39\nCalled from file \"list.ml\", line 88, characters 32-39\nCalled from file \"list.ml\", line 88, characters 32-39\nCalled from file \"list.ml\", line 88, characters 32-39\nCalled from file \"list.ml\", line 88, characters 32-39\nCalled from file \"list.ml\", line 88, characters 32-39\nCalled from file \"list.ml\", line 88, characters 32-39\nCalled from file \"list.ml\", line 88, characters 32-39\nCalled from file \"list.ml\", line 88, characters 32-39\nCalled from file \"list.ml\", line 88, characters 32-39\nCalled from file \"list.ml\", line 88, characters 32-39\nCalled from file \"list.ml\", line 88, characters 32-39\nCalled from file \"list.ml\", line 88, characters 32-39\nCalled from file \"list.ml\", line 88, characters 32-39\nCalled from file \"list.ml\", line 88, characters 32-39\nCalled from file \"list.ml\", line 88, characters 32-39\nCalled from file \"list.ml\", line 88, characters 32-39\nCalled from file \"list.ml\", line 88, characters 32-39\nCalled from file \"list.ml\", line 88, characters 32-39\nCalled from file \"list.ml\", line 88, characters 32-39\nCalled from file \"list.ml\", line 88, characters 32-39\nCalled from file \"list.ml\", line 88, characters 32-39\nCalled from file \"list.ml\", line 88, characters 32-39\nCalled from file \"list.ml\", line 88, characters 32-39\nCalled from file \"list.ml\", line 88, characters 32-39\nCalled from file \"list.ml\", line 88, characters 32-39\nCalled from file \"list.ml\", line 88, characters 32-39\nCalled from file \"list.ml\", line 88, characters 32-39\nCalled from file \"list.ml\", line 88, characters 32-39\nCalled from file \"list.ml\", line 88, characters 32-39\nCalled from file \"list.ml\", line 88, characters 32-39\nCalled from file \"list.ml\", line 88, characters 32-39\nCalled from file \"list.ml\", line 88, characters 32-39\nCalled from file \"list.ml\", line 88, characters 32-39\nCalled from file \"list.ml\", line 88, characters 32-39\nCalled from file \"list.ml\", line 88, characters 32-39\nCalled from file \"list.ml\", line 88, characters 32-39\nCalled from file \"list.ml\", line 88, characters 32-39\nCalled from file \"list.ml\", line 88, characters 32-39\nCalled from file \"list.ml\", line 88, characters 32-39\nCalled from file \"list.ml\", line 88, characters 32-39\nCalled from file \"list.ml\", line 88, characters 32-39\nCalled from file \"list.ml\", line 88, characters 32-39\nCalled from file \"list.ml\", line 88, characters 32-39\nCalled from file \"list.ml\", line 88, characters 32-39\nCalled from file \"list.ml\", line 88, characters 32-39\nCalled from file \"list.ml\", line 88, characters 32-39\nCalled from file \"list.ml\", line 88, characters 32-39\nCalled from file \"list.ml\", line 88, characters 32-39\nCalled from file \"list.ml\", line 88, characters 32-39\nCalled from file \"list.ml\", line 88, characters 32-39\nCalled from file \"list.ml\", line 88, characters 32-39\nCalled from file \"list.ml\", line 88, characters 32-39\nCalled from file \"list.ml\", line 88, characters 32-39\nCalled from file \"list.ml\", line 88, characters 32-39\nCalled from file \"list.ml\", line 88, characters 32-39\nCalled from file \"list.ml\", line 88, characters 32-39\nCalled from file \"list.ml\", line 88, characters 32-39\nCalled from file \"list.ml\", line 88, characters 32-39\nCalled from file \"list.ml\", line 88, characters 32-39\nCalled from file \"list.ml\", line 88, characters 32-39\nCalled from file \"list.ml\", line 88, characters 32-39\nCalled from file \"list.ml\", line 88, characters 32-39\nCalled from file \"list.ml\", line 88, characters 32-39\nCalled from file \"list.ml\", line 88, characters 32-39\nCalled from file \"list.ml\", line 88, characters 32-39\nCalled from file \"list.ml\", line 88, characters 32-39\nCalled from file \"list.ml\", line 88, characters 32-39\nCalled from file \"list.ml\", line 88, characters 32-39\nCalled from file \"list.ml\", line 88, characters 32-39\nCalled from file \"list.ml\", line 88, characters 32-39\nCalled from file \"list.ml\", line 88, characters 32-39\nCalled from file \"list.ml\", line 88, characters 32-39\nCalled from file \"list.ml\", line 88, characters 32-39\nCalled from file \"list.ml\", line 88, characters 32-39\nCalled from file \"list.ml\", line 88, characters 32-39\nCalled from file \"list.ml\", line 88, characters 32-39\nCalled from file \"list.ml\", line 88, characters 32-39\nCalled from file \"list.ml\", line 88, characters 32-39\nCalled from file \"list.ml\", line 88, characters 32-39\nCalled from file \"list.ml\", line 88, characters 32-39\nCalled from file \"list.ml\", line 88, characters 32-39\nCalled from file \"list.ml\", line 88, characters 32-39\nCalled from file \"list.ml\", line 88, characters 32-39\nCalled from file \"list.ml\", line 88, characters 32-39\nCalled from file \"list.ml\", line 88, characters 32-39\nCalled from file \"list.ml\", line 88, characters 32-39\nCalled from file \"list.ml\", line 88, characters 32-39\nCalled from file \"list.ml\", line 88, characters 32-39\nCalled from file \"list.ml\", line 88, characters 32-39\nCalled from file \"list.ml\", line 88, characters 32-39\nCalled from file \"list.ml\", line 88, characters 32-39\nCalled from file \"list.ml\", line 88, characters 32-39\nCalled from file \"list.ml\", line 88, characters 32-39\nCalled from file \"list.ml\", line 88, characters 32-39\nCalled from file \"list.ml\", line 88, characters 32-39\nCalled from file \"list.ml\", line 88, characters 32-39\nCalled from file \"list.ml\", line 88, characters 32-39\nCalled from file \"list.ml\", line 88, characters 32-39\nCalled from file \"list.ml\", line 88, characters 32-39\nCalled from file \"list.ml\", line 88, characters 32-39\nCalled from file \"list.ml\", line 88, characters 32-39\nCalled from file \"list.ml\", line 88, characters 32-39\nCalled from file \"list.ml\", line 88, characters 32-39\nCalled from file \"list.ml\", line 88, characters 32-39\nCalled from file \"list.ml\", line 88, characters 32-39\nCalled from file \"list.ml\", line 88, characters 32-39\nCalled from file \"list.ml\", line 88, characters 32-39\nCalled from file \"list.ml\", line 88, characters 32-39\nCalled from file \"list.ml\", line 88, characters 32-39\nCalled from file \"list.ml\", line 88, characters 32-39\nCalled from file \"list.ml\", line 88, characters 32-39\nCalled from file \"list.ml\", line 88, characters 32-39\nCalled from file \"list.ml\", line 88, characters 32-39\nCalled from file \"list.ml\", line 88, characters 32-39\nCalled from file \"list.ml\", line 88, characters 32-39\nCalled from file \"list.ml\", line 88, characters 32-39\nCalled from file \"list.ml\", line 88, characters 32-39\nCalled from file \"list.ml\", line 88, characters 32-39\nCalled from file \"list.ml\", line 88, characters 32-39\nCalled from file \"list.ml\", line 88, characters 32-39\nCalled from file \"list.ml\", line 88, characters 32-39\nCalled from file \"list.ml\", line 88, characters 32-39\nCalled from file \"list.ml\", line 88, characters 32-39\nCalled from file \"list.ml\", line 88, characters 32-39\nCalled from file \"list.ml\", line 88, characters 32-39\nCalled from file \"list.ml\", line 88, characters 32-39\nCalled from file \"list.ml\", line 88, characters 32-39\nCalled from file \"list.ml\", line 88, characters 32-39\nCalled from file \"list.ml\", line 88, characters 32-39\nCalled from file \"list.ml\", line 88, characters 32-39\nCalled from file \"list.ml\", line 88, characters 32-39\nCalled from file \"list.ml\", line 88, characters 32-39\nCalled from file \"list.ml\", line 88, characters 32-39\nCalled from file \"list.ml\", line 88, characters 32-39\nCalled from file \"list.ml\", line 88, characters 32-39\nCalled from file \"list.ml\", line 88, characters 32-39\nCalled from file \"list.ml\", line 88, characters 32-39\nCalled from file \"list.ml\", line 88, characters 32-39\nCalled from file \"list.ml\", line 88, characters 32-39\nCalled from file \"list.ml\", line 88, characters 32-39\nCalled from file \"list.ml\", line 88, characters 32-39\nCalled from file \"list.ml\", line 88, characters 32-39\nCalled from file \"list.ml\", line 88, characters 32-39\nCalled from file \"list.ml\", line 88, characters 32-39\nCalled from file \"list.ml\", line 88, characters 32-39\nCalled from file \"list.ml\", line 88, characters 32-39\nCalled from file \"list.ml\", line 88, characters 32-39\nCalled from file \"list.ml\", line 88, characters 32-39\nCalled from file \"list.ml\", line 88, characters 32-39\nCalled from file \"list.ml\", line 88, characters 32-39\nCalled from file \"list.ml\", line 88, characters 32-39\nCalled from file \"list.ml\", line 88, characters 32-39\nCalled from file \"list.ml\", line 88, characters 32-39\nCalled from file \"list.ml\", line 88, characters 32-39\nCalled from file \"list.ml\", line 88, characters 32-39\nCalled from file \"list.ml\", line 88, characters 32-39\nCalled from file \"list.ml\", line 88, characters 32-39\nCalled from file \"list.ml\", line 88, characters 32-39\nCalled from file \"list.ml\", line 88, characters 32-39\nCalled from file \"list.ml\", line 88, characters 32-39\nCalled from file \"list.ml\", line 88, characters 32-39\nCalled from file \"list.ml\", line 88, characters 32-39\nCalled from file \"list.ml\", line 88, characters 32-39\nCalled from file \"list.ml\", line 88, characters 32-39\nCalled from file \"list.ml\", line 88, characters 32-39\nCalled from file \"list.ml\", line 88, characters 32-39\nCalled from file \"list.ml\", line 88, characters 32-39\nCalled from file \"list.ml\", line 88, characters 32-39\nCalled from file \"list.ml\", line 88, characters 32-39\nCalled from file \"list.ml\", line 88, characters 32-39\nCalled from file \"list.ml\", line 88, characters 32-39\nCalled from file \"list.ml\", line 88, characters 32-39\nCalled from file \"list.ml\", line 88, characters 32-39\nCalled from file \"list.ml\", line 88, characters 32-39\nCalled from file \"list.ml\", line 88, characters 32-39\nCalled from file \"list.ml\", line 88, characters 32-39\nCalled from file \"list.ml\", line 88, characters 32-39\nCalled from file \"list.ml\", line 88, characters 32-39\nCalled from file \"list.ml\", line 88, characters 32-39\nCalled from file \"list.ml\", line 88, characters 32-39\nCalled from file \"list.ml\", line 88, characters 32-39\nCalled from file \"list.ml\", line 88, characters 32-39\nCalled from file \"list.ml\", line 88, characters 32-39\nCalled from file \"list.ml\", line 88, characters 32-39\nCalled from file \"list.ml\", line 88, characters 32-39\nCalled from file \"list.ml\", line 88, characters 32-39\nCalled from file \"list.ml\", line 88, characters 32-39\nCalled from file \"list.ml\", line 88, characters 32-39\nCalled from file \"list.ml\", line 88, characters 32-39\nCalled from file \"list.ml\", line 88, characters 32-39\nCalled from file \"list.ml\", line 88, characters 32-39\nCalled from file \"list.ml\", line 88, characters 32-39\nCalled from file \"list.ml\", line 88, characters 32-39\nCalled from file \"list.ml\", line 88, characters 32-39\nCalled from file \"list.ml\", line 88, characters 32-39\nCalled from file \"list.ml\", line 88, characters 32-39\nCalled from file \"list.ml\", line 88, characters 32-39\nCalled from file \"list.ml\", line 88, characters 32-39\nCalled from file \"list.ml\", line 88, characters 32-39\nCalled from file \"list.ml\", line 88, characters 32-39\nCalled from file \"list.ml\", line 88, characters 32-39\nCalled from file \"list.ml\", line 88, characters 32-39\nCalled from file \"list.ml\", line 88, characters 32-39\nCalled from file \"list.ml\", line 88, characters 32-39\nCalled from file \"list.ml\", line 88, characters 32-39\nCalled from file \"list.ml\", line 88, characters 32-39\nCalled from file \"list.ml\", line 88, characters 32-39\nCalled from file \"list.ml\", line 88, characters 32-39\nCalled from file \"list.ml\", line 88, characters 32-39\nCalled from file \"list.ml\", line 88, characters 32-39\nCalled from file \"list.ml\", line 88, characters 32-39\nCalled from file \"list.ml\", line 88, characters 32-39\nCalled from file \"list.ml\", line 88, characters 32-39\nCalled from file \"list.ml\", line 88, characters 32-39\nCalled from file \"list.ml\", line 88, characters 32-39\nCalled from file \"list.ml\", line 88, characters 32-39\nCalled from file \"list.ml\", line 88, characters 32-39\nCalled from file \"list.ml\", line 88, characters 32-39\nCalled from file \"list.ml\", line 88, characters 32-39\nCalled from file \"list.ml\", line 88, characters 32-39\nCalled from file \"list.ml\", line 88, characters 32-39\nCalled from file \"list.ml\", line 88, characters 32-39\nCalled from file \"list.ml\", line 88, characters 32-39\nCalled from file \"list.ml\", line 88, characters 32-39\nCalled from file \"list.ml\", line 88, characters 32-39\nCalled from file \"list.ml\", line 88, characters 32-39\nCalled from file \"list.ml\", line 88, characters 32-39\nCalled from file \"list.ml\", line 88, characters 32-39\nCalled from file \"list.ml\", line 88, characters 32-39\nCalled from file \"list.ml\", line 88, characters 32-39\nCalled from file \"list.ml\", line 88, characters 32-39\nCalled from file \"list.ml\", line 88, characters 32-39\nCalled from file \"list.ml\", line 88, characters 32-39\nCalled from file \"list.ml\", line 88, characters 32-39\nCalled from file \"list.ml\", line 88, characters 32-39\nCalled from file \"list.ml\", line 88, characters 32-39\nCalled from file \"list.ml\", line 88, characters 32-39\nCalled from file \"list.ml\", line 88, characters 32-39\nCalled from file \"list.ml\", line 88, characters 32-39\nCalled from file \"list.ml\", line 88, characters 32-39\nCalled from file \"list.ml\", line 88, characters 32-39\nCalled from file \"list.ml\", line 88, characters 32-39\nCalled from file \"list.ml\", line 88, characters 32-39\nCalled from file \"list.ml\", line 88, characters 32-39\nCalled from file \"list.ml\", line 88, characters 32-39\nCalled from file \"list.ml\", line 88, characters 32-39\nCalled from file \"list.ml\", line 88, characters 32-39\nCalled from file \"list.ml\", line 88, characters 32-39\nCalled from file \"list.ml\", line 88, characters 32-39\nCalled from file \"list.ml\", line 88, characters 32-39\nCalled from file \"list.ml\", line 88, characters 32-39\nCalled from file \"list.ml\", line 88, characters 32-39\nCalled from file \"list.ml\", line 88, characters 32-39\nCalled from file \"list.ml\", line 88, characters 32-39\nCalled from file \"list.ml\", line 88, characters 32-39\nCalled from file \"list.ml\", line 88, characters 32-39\nCalled from file \"list.ml\", line 88, characters 32-39\nCalled from file \"list.ml\", line 88, characters 32-39\nCalled from file \"list.ml\", line 88, characters 32-39\nCalled from file \"list.ml\", line 88, characters 32-39\nCalled from file \"list.ml\", line 88, characters 32-39\nCalled from file \"list.ml\", line 88, characters 32-39\nCalled from file \"list.ml\", line 88, characters 32-39\nCalled from file \"list.ml\", line 88, characters 32-39\nCalled from file \"list.ml\", line 88, characters 32-39\nCalled from file \"list.ml\", line 88, characters 32-39\nCalled from file \"list.ml\", line 88, characters 32-39\nCalled from file \"list.ml\", line 88, characters 32-39\nCalled from file \"list.ml\", line 88, characters 32-39\nCalled from file \"list.ml\", line 88, characters 32-39\nCalled from file \"list.ml\", line 88, characters 32-39\nCalled from file \"list.ml\", line 88, characters 32-39\nCalled from file \"list.ml\", line 88, characters 32-39\nCalled from file \"list.ml\", line 88, characters 32-39\nCalled from file \"list.ml\", line 88, characters 32-39\nCalled from file \"list.ml\", line 88, characters 32-39\nCalled from file \"list.ml\", line 88, characters 32-39\nCalled from file \"list.ml\", line 88, characters 32-39\nCalled from file \"list.ml\", line 88, characters 32-39\nCalled from file \"list.ml\", line 88, characters 32-39\nCalled from file \"list.ml\", line 88, characters 32-39\nCalled from file \"list.ml\", line 88, characters 32-39\nCalled from file \"list.ml\", line 88, characters 32-39\nCalled from file \"list.ml\", line 88, characters 32-39\nCalled from file \"list.ml\", line 88, characters 32-39\nCalled from file \"list.ml\", line 88, characters 32-39\nCalled from file \"list.ml\", line 88, characters 32-39\nCalled from file \"list.ml\", line 88, characters 32-39\nCalled from file \"list.ml\", line 88, characters 32-39\nCalled from file \"list.ml\", line 88, characters 32-39\nCalled from file \"list.ml\", line 88, characters 32-39\nCalled from file \"list.ml\", line 88, characters 32-39\nCalled from file \"list.ml\", line 88, characters 32-39\nCalled from file \"list.ml\", line 88, characters 32-39\nCalled from file \"list.ml\", line 88, characters 32-39\nCalled from file \"list.ml\", line 88, characters 32-39\nCalled from file \"list.ml\", line 88, characters 32-39\nCalled from file \"list.ml\", line 88, characters 32-39\nCalled from file \"list.ml\", line 88, characters 32-39\nCalled from file \"list.ml\", line 88, characters 32-39\nCalled from file \"list.ml\", line 88, characters 32-39\nCalled from file \"list.ml\", line 88, characters 32-39\nCalled from file \"list.ml\", line 88, characters 32-39\nCalled from file \"list.ml\", line 88, characters 32-39\nCalled from file \"list.ml\", line 88, characters 32-39\nCalled from file \"list.ml\", line 88, characters 32-39\nCalled from file \"list.ml\", line 88, characters 32-39\nCalled from file \"list.ml\", line 88, characters 32-39\nCalled from file \"list.ml\", line 88, characters 32-39\nCalled from file \"list.ml\", line 88, characters 32-39\nCalled from file \"list.ml\", line 88, characters 32-39\nCalled from file \"list.ml\", line 88, characters 32-39\nCalled from file \"list.ml\", line 88, characters 32-39\nCalled from file \"list.ml\", line 88, characters 32-39\nCalled from file \"list.ml\", line 88, characters 32-39\nCalled from file \"list.ml\", line 88, characters 32-39\nCalled from file \"list.ml\", line 88, characters 32-39\nCalled from file \"list.ml\", line 88, characters 32-39\nCalled from file \"list.ml\", line 88, characters 32-39\nCalled from file \"list.ml\", line 88, characters 32-39\nCalled from file \"list.ml\", line 88, characters 32-39\nCalled from file \"list.ml\", line 88, characters 32-39\nCalled from file \"list.ml\", line 88, characters 32-39\nCalled from file \"list.ml\", line 88, characters 32-39\nCalled from file \"list.ml\", line 88, characters 32-39\nCalled from file \"list.ml\", line 88, characters 32-39\nCalled from file \"list.ml\", line 88, characters 32-39\nCalled from file \"list.ml\", line 88, characters 32-39\nCalled from file \"list.ml\", line 88, characters 32-39\nCalled from file \"list.ml\", line 88, characters 32-39\nCalled from file \"list.ml\", line 88, characters 32-39\nCalled from file \"list.ml\", line 88, characters 32-39\nCalled from file \"list.ml\", line 88, characters 32-39\nCalled from file \"list.ml\", line 88, characters 32-39\nCalled from file \"list.ml\", line 88, characters 32-39\nCalled from file \"list.ml\", line 88, characters 32-39\nCalled from file \"list.ml\", line 88, characters 32-39\nCalled from file \"list.ml\", line 88, characters 32-39\nCalled from file \"list.ml\", line 88, characters 32-39\nCalled from file \"list.ml\", line 88, characters 32-39\nCalled from file \"list.ml\", line 88, characters 32-39\nCalled from file \"list.ml\", line 88, characters 32-39\nCalled from file \"list.ml\", line 88, characters 32-39\nCalled from file \"list.ml\", line 88, characters 32-39\nCalled from file \"list.ml\", line 88, characters 32-39\nCalled from file \"list.ml\", line 88, characters 32-39\nCalled from file \"list.ml\", line 88, characters 32-39\nCalled from file \"list.ml\", line 88, characters 32-39\nCalled from file \"list.ml\", line 88, characters 32-39\nCalled from file \"list.ml\", line 88, characters 32-39\nCalled from file \"list.ml\", line 88, characters 32-39\nCalled from file \"list.ml\", line 88, characters 32-39\nCalled from file \"list.ml\", line 88, characters 32-39\nCalled from file \"list.ml\", line 88, characters 32-39\nCalled from file \"list.ml\", line 88, characters 32-39\nCalled from file \"list.ml\", line 88, characters 32-39\nCalled from file \"list.ml\", line 88, characters 32-39\nCalled from file \"list.ml\", line 88, characters 32-39\nCalled from file \"list.ml\", line 88, characters 32-39\nCalled from file \"list.ml\", line 88, characters 32-39\nCalled from file \"list.ml\", line 88, characters 32-39\nCalled from file \"list.ml\", line 88, characters 32-39\nCalled from file \"list.ml\", line 88, characters 32-39\nCalled from file \"list.ml\", line 88, characters 32-39\nCalled from file \"list.ml\", line 88, characters 32-39\nCalled from file \"list.ml\", line 88, characters 32-39\nCalled from file \"list.ml\", line 88, characters 32-39\nCalled from file \"list.ml\", line 88, characters 32-39\nCalled from file \"list.ml\", line 88, characters 32-39\nCalled from file \"list.ml\", line 88, characters 32-39\nCalled from file \"list.ml\", line 88, characters 32-39\nCalled from file \"list.ml\", line 88, characters 32-39\nCalled from file \"list.ml\", line 88, characters 32-39\nCalled from file \"list.ml\", line 88, characters 32-39\nCalled from file \"list.ml\", line 88, characters 32-39\nCalled from file \"list.ml\", line 88, characters 32-39\nCalled from file \"list.ml\", line 88, characters 32-39\nCalled from file \"list.ml\", line 88, characters 32-39\nCalled from file \"list.ml\", line 88, characters 32-39\nCalled from file \"list.ml\", line 88, characters 32-39\nCalled from file \"list.ml\", line 88, characters 32-39\nCalled from file \"list.ml\", line 88, characters 32-39\nCalled from file \"list.ml\", line 88, characters 32-39\nCalled from file \"list.ml\", line 88, characters 32-39\nCalled from file \"list.ml\", line 88, characters 32-39\nCalled from file \"list.ml\", line 88, characters 32-39\nCalled from file \"list.ml\", line 88, characters 32-39\nCalled from file \"list.ml\", line 88, characters 32-39\nCalled from file \"list.ml\", line 88, characters 32-39\nCalled from file \"list.ml\", line 88, characters 32-39\nCalled from file \"list.ml\", line 88, characters 32-39\nCalled from file \"list.ml\", line 88, characters 32-39\nCalled from file \"list.ml\", line 88, characters 32-39\nCalled from file \"list.ml\", line 88, characters 32-39\nCalled from file \"list.ml\", line 88, characters 32-39\nCalled from file \"list.ml\", line 88, characters 32-39\nCalled from file \"list.ml\", line 88, characters 32-39\nCalled from file \"list.ml\", line 88, characters 32-39\nCalled from file \"list.ml\", line 88, characters 32-39\nCalled from file \"list.ml\", line 88, characters 32-39\nCalled from file \"list.ml\", line 88, characters 32-39\nCalled from file \"list.ml\", line 88, characters 32-39\nCalled from file \"list.ml\", line 88, characters 32-39\nCalled from file \"list.ml\", line 88, characters 32-39\nCalled from file \"list.ml\", line 88, characters 32-39\nCalled from file \"list.ml\", line 88, characters 32-39\nCalled from file \"list.ml\", line 88, characters 32-39\nCalled from file \"list.ml\", line 88, characters 32-39\nCalled from file \"list.ml\", line 88, characters 32-39\nCalled from file \"list.ml\", line 88, characters 32-39\nCalled from file \"list.ml\", line 88, characters 32-39\nCalled from file \"list.ml\", line 88, characters 32-39\nCalled from file \"list.ml\", line 88, characters 32-39\nCalled from file \"list.ml\", line 88, characters 32-39\nCalled from file \"list.ml\", line 88, characters 32-39\nCalled from file \"list.ml\", line 88, characters 32-39\nCalled from file \"list.ml\", line 88, characters 32-39\nCalled from file \"list.ml\", line 88, characters 32-39\nCalled from file \"list.ml\", line 88, characters 32-39\nCalled from file \"list.ml\", line 88, characters 32-39\nCalled from file \"list.ml\", line 88, characters 32-39\nCalled from file \"list.ml\", line 88, characters 32-39\nCalled from file \"list.ml\", line 88, characters 32-39\nCalled from file \"list.ml\", line 88, characters 32-39\nCalled from file \"list.ml\", line 88, characters 32-39\nCalled from file \"list.ml\", line 88, characters 32-39\nCalled from file \"list.ml\", line 88, characters 32-39\nCalled from file \"list.ml\", line 88, characters 32-39\nCalled from file \"list.ml\", line 88, characters 32-39\nCalled from file \"list.ml\", line 88, characters 32-39\nCalled from file \"list.ml\", line 88, characters 32-39\nCalled from file \"list.ml\", line 88, characters 32-39\nCalled from file \"list.ml\", line 88, characters 32-39\nCalled from file \"list.ml\", line 88, characters 32-39\nCalled from file \"list.ml\", line 88, characters 32-39\nCalled from file \"list.ml\", line 88, characters 32-39\nCalled from file \"list.ml\", line 88, characters 32-39\nCalled from file \"list.ml\", line 88, characters 32-39\nCalled from file \"list.ml\", line 88, characters 32-39\nCalled from file \"list.ml\", line 88, characters 32-39\nCalled from file \"list.ml\", line 88, characters 32-39\nCalled from file \"list.ml\", line 88, characters 32-39\nCalled from file \"list.ml\", line 88, characters 32-39\nCalled from file \"list.ml\", line 88, characters 32-39\nCalled from file \"list.ml\", line 88, characters 32-39\nCalled from file \"list.ml\", line 88, characters 32-39\nCalled from file \"list.ml\", line 88, characters 32-39\nCalled from file \"list.ml\", line 88, characters 32-39\nCalled from file \"list.ml\", line 88, characters 32-39\nCalled from file \"list.ml\", line 88, characters 32-39\nCalled from file \"list.ml\", line 88, characters 32-39\nCalled from file \"list.ml\", line 88, characters 32-39\nCalled from file \"list.ml\", line 88, characters 32-39\nCalled from file \"list.ml\", line 88, characters 32-39\nCalled from file \"list.ml\", line 88, characters 32-39\nCalled from file \"list.ml\", line 88, characters 32-39\nCalled from file \"list.ml\", line 88, characters 32-39\nCalled from file \"list.ml\", line 88, characters 32-39\nCalled from file \"list.ml\", line 88, characters 32-39\nCalled from file \"list.ml\", line 88, characters 32-39\nCalled from file \"list.ml\", line 88, characters 32-39\nCalled from file \"list.ml\", line 88, characters 32-39\nCalled from file \"list.ml\", line 88, characters 32-39\nCalled from file \"list.ml\", line 88, characters 32-39\nCalled from file \"list.ml\", line 88, characters 32-39\nCalled from file \"list.ml\", line 88, characters 32-39\nCalled from file \"list.ml\", line 88, characters 32-39\nCalled from file \"list.ml\", line 88, characters 32-39\nCalled from file \"list.ml\", line 88, characters 32-39\nCalled from file \"list.ml\", line 88, characters 32-39\nCalled from file \"list.ml\", line 88, characters 32-39\nCalled from file \"list.ml\", line 88, characters 32-39\nCalled from file \"list.ml\", line 88, characters 32-39\nCalled from file \"list.ml\", line 88, characters 32-39\nCalled from file \"list.ml\", line 88, characters 32-39\nCalled from file \"list.ml\", line 88, characters 32-39\nCalled from file \"list.ml\", line 88, characters 32-39\nCalled from file \"list.ml\", line 88, characters 32-39\nCalled from file \"list.ml\", line 88, characters 32-39\nCalled from file \"list.ml\", line 88, characters 32-39\nCalled from file \"list.ml\", line 88, characters 32-39\nCalled from file \"list.ml\", line 88, characters 32-39\nCalled from file \"list.ml\", line 88, characters 32-39\nCalled from file \"list.ml\", line 88, characters 32-39\nCalled from file \"list.ml\", line 88, characters 32-39\nCalled from file \"list.ml\", line 88, characters 32-39\nCalled from file \"list.ml\", line 88, characters 32-39\nCalled from file \"list.ml\", line 88, characters 32-39\nCalled from file \"list.ml\", line 88, characters 32-39\nCalled from file \"list.ml\", line 88, characters 32-39\nCalled from file \"list.ml\", line 88, characters 32-39\nCalled from file \"list.ml\", line 88, characters 32-39\nCalled from file \"list.ml\", line 88, characters 32-39\nCalled from file \"list.ml\", line 88, characters 32-39\nCalled from file \"list.ml\", line 88, characters 32-39\nCalled from file \"list.ml\", line 88, characters 32-39\nCalled from file \"list.ml\", line 88, characters 32-39\nCalled from file \"list.ml\", line 88, characters 32-39\nCalled from file \"list.ml\", line 88, characters 32-39\nCalled from file \"list.ml\", line 88, characters 32-39\nCalled from file \"list.ml\", line 88, characters 32-39\nCalled from file \"list.ml\", line 88, characters 32-39\nCalled from file \"list.ml\", line 88, characters 32-39\nCalled from file \"list.ml\", line 88, characters 32-39\nCalled from file \"list.ml\", line 88, characters 32-39\nCalled from file \"list.ml\", line 88, characters 32-39\nCalled from file \"list.ml\", line 88, characters 32-39\nCalled from file \"list.ml\", line 88, characters 32-39\nCalled from file \"list.ml\", line 88, characters 32-39\nCalled from file \"list.ml\", line 88, characters 32-39\nCalled from file \"list.ml\", line 88, characters 32-39\nCalled from file \"list.ml\", line 88, characters 32-39\nCalled from file \"list.ml\", line 88, characters 32-39\nCalled from file \"list.ml\", line 88, characters 32-39\nCalled from file \"list.ml\", line 88, characters 32-39\nCalled from file \"list.ml\", line 88, characters 32-39\nCalled from file \"list.ml\", line 88, characters 32-39\nCalled from file \"list.ml\", line 88, characters 32-39\nCalled from file \"list.ml\", line 88, characters 32-39\nCalled from file \"list.ml\", line 88, characters 32-39\nCalled from file \"list.ml\", line 88, characters 32-39\nCalled from file \"list.ml\", line 88, characters 32-39\nCalled from file \"list.ml\", line 88, characters 32-39\nCalled from file \"list.ml\", line 88, characters 32-39\nCalled from file \"list.ml\", line 88, characters 32-39\nCalled from file \"list.ml\", line 88, characters 32-39\nCalled from file \"list.ml\", line 88, characters 32-39\nCalled from file \"list.ml\", line 88, characters 32-39\nCalled from file \"list.ml\", line 88, characters 32-39\nCalled from file \"list.ml\", line 88, characters 32-39\nCalled from file \"list.ml\", line 88, characters 32-39\nCalled from file \"list.ml\", line 88, characters 32-39\nCalled from file \"list.ml\", line 88, characters 32-39\nCalled from file \"list.ml\", line 88, characters 32-39\nCalled from file \"list.ml\", line 88, characters 32-39\nCalled from file \"list.ml\", line 88, characters 32-39\nCalled from file \"list.ml\", line 88, characters 32-39\nCalled from file \"list.ml\", line 88, characters 32-39\nCalled from file \"list.ml\", line 88, characters 32-39\nCalled from file \"list.ml\", line 88, characters 32-39\nCalled from file \"list.ml\", line 88, characters 32-39\nCalled from file \"list.ml\", line 88, characters 32-39\nCalled from file \"list.ml\", line 88, characters 32-39\nCalled from file \"list.ml\", line 88, characters 32-39\nCalled from file \"list.ml\", line 88, characters 32-39\nCalled from file \"list.ml\", line 88, characters 32-39\nCalled from file \"list.ml\", line 88, characters 32-39\nCalled from file \"list.ml\", line 88, characters 32-39\nCalled from file \"list.ml\", line 88, characters 32-39\nCalled from file \"list.ml\", line 88, characters 32-39\nCalled from file \"list.ml\", line 88, characters 32-39\nCalled from file \"list.ml\", line 88, characters 32-39\nCalled from file \"list.ml\", line 88, characters 32-39\nCalled from file \"list.ml\", line 88, characters 32-39\nCalled from file \"list.ml\", line 88, characters 32-39\nCalled from file \"list.ml\", line 88, characters 32-39\nCalled from file \"list.ml\", line 88, characters 32-39\nCalled from file \"list.ml\", line 88, characters 32-39\nCalled from file \"list.ml\", line 88, characters 32-39\nCalled from file \"list.ml\", line 88, characters 32-39\nCalled from file \"list.ml\", line 88, characters 32-39\nCalled from file \"list.ml\", line 88, characters 32-39\nCalled from file \"list.ml\", line 88, characters 32-39\nCalled from file \"list.ml\", line 88, characters 32-39\nCalled from file \"list.ml\", line 88, characters 32-39\nCalled from file \"list.ml\", line 88, characters 32-39\nCalled from file \"list.ml\", line 88, characters 32-39\nCalled from file \"list.ml\", line 88, characters 32-39\nCalled from file \"list.ml\", line 88, characters 32-39\nCalled from file \"list.ml\", line 88, characters 32-39\nCalled from file \"list.ml\", line 88, characters 32-39\nCalled from file \"list.ml\", line 88, characters 32-39\nCalled from file \"list.ml\", line 88, characters 32-39\nCalled from file \"list.ml\", line 88, characters 32-39\nCalled from file \"list.ml\", line 88, characters 32-39\nCalled from file \"list.ml\", line 88, characters 32-39\nCalled from file \"list.ml\", line 88, characters 32-39\nCalled from file \"list.ml\", line 88, characters 32-39\nCalled from file \"list.ml\", line 88, characters 32-39\nCalled from file \"list.ml\", line 88, characters 32-39\nCalled from file \"list.ml\", line 88, characters 32-39\nCalled from file \"list.ml\", line 88, characters 32-39\nCalled from file \"list.ml\", line 88, characters 32-39\nCalled from file \"list.ml\", line 88, characters 32-39\nCalled from file \"list.ml\", line 88, characters 32-39\nCalled from file \"list.ml\", line 88, characters 32-39\nCalled from file \"list.ml\", line 88, characters 32-39\nCalled from file \"list.ml\", line 88, characters 32-39\nCalled from file \"list.ml\", line 88, characters 32-39\nCalled from file \"list.ml\", line 88, characters 32-39\nCalled from file \"list.ml\", line 88, characters 32-39\nCalled from file \"list.ml\", line 88, characters 32-39\nCalled from file \"list.ml\", line 88, characters 32-39\nCalled from file \"list.ml\", line 88, characters 32-39\nCalled from file \"list.ml\", line 88, characters 32-39\nCalled from file \"list.ml\", line 88, characters 32-39\nCalled from file \"list.ml\", line 88, characters 32-39\nCalled from file \"list.ml\", line 88, characters 32-39\nCalled from file \"list.ml\", line 88, characters 32-39\nCalled from file \"list.ml\", line 88, characters 32-39\nCalled from file \"list.ml\", line 88, characters 32-39\nCalled from file \"list.ml\", line 88, characters 32-39\nCalled from file \"list.ml\", line 88, characters 32-39\nCalled from file \"list.ml\", line 88, characters 32-39\nCalled from file \"list.ml\", line 88, characters 32-39\nCalled from file \"list.ml\", line 88, characters 32-39\nCalled from file \"list.ml\", line 88, characters 32-39\nCalled from file \"list.ml\", line 88, characters 32-39\nCalled from file \"list.ml\", line 88, characters 32-39\nCalled from file \"list.ml\", line 88, characters 32-39\nCalled from file \"list.ml\", line 88, characters 32-39\nCalled from file \"list.ml\", line 88, characters 32-39\nCalled from file \"list.ml\", line 88, characters 32-39\nCalled from file \"list.ml\", line 88, characters 32-39\nCalled from file \"list.ml\", line 88, characters 32-39\nCalled from file \"list.ml\", line 88, characters 32-39\nCalled from file \"list.ml\", line 88, characters 32-39\nCalled from file \"list.ml\", line 88, characters 32-39\nCalled from file \"list.ml\", line 88, characters 32-39\nCalled from file \"list.ml\", line 88, characters 32-39\nCalled from file \"list.ml\", line 88, characters 32-39\nCalled from file \"list.ml\", line 88, characters 32-39\nCalled from file \"list.ml\", line 88, characters 32-39\nCalled from file \"list.ml\", line 88, characters 32-39\nCalled from file \"list.ml\", line 88, characters 32-39\nCalled from file \"list.ml\", line 88, characters 32-39\nCalled from file \"list.ml\", line 88, characters 32-39\nCalled from file \"list.ml\", line 88, characters 32-39\nCalled from file \"list.ml\", line 88, characters 32-39\nCalled from file \"list.ml\", line 88, characters 32-39\nCalled from file \"list.ml\", line 88, characters 32-39\nCalled from file \"list.ml\", line 88, characters 32-39\nCalled from file \"list.ml\", line 88, characters 32-39\nCalled from file \"list.ml\", line 88, characters 32-39\nCalled from file \"list.ml\", line 88, characters 32-39\nCalled from file \"list.ml\", line 88, characters 32-39\nCalled from file \"list.ml\", line 88, characters 32-39\nCalled from file \"list.ml\", line 88, characters 32-39\nCalled from file \"list.ml\", line 88, characters 32-39\nCalled from file \"list.ml\", line 88, characters 32-39\nCalled from file \"list.ml\", line 88, characters 32-39\nCalled from file \"list.ml\", line 88, characters 32-39\nCalled from file \"list.ml\", line 88, characters 32-39\nCalled from file \"list.ml\", line 88, characters 32-39\nCalled from file \"list.ml\", line 88, characters 32-39\nCalled from file \"list.ml\", line 88, characters 32-39\nCalled from file \"list.ml\", line 88, characters 32-39\nCalled from file \"list.ml\", line 88, characters 32-39\nCalled from file \"list.ml\", line 88, characters 32-39\nCalled from file \"list.ml\", line 88, characters 32-39\nCalled from file \"list.ml\", line 88, characters 32-39\nCalled from file \"list.ml\", line 88, characters 32-39\nCalled from file \"list.ml\", line 88, characters 32-39\nCalled from file \"list.ml\", line 88, characters 32-39\nCalled from file \"list.ml\", line 88, characters 32-39\nCalled from file \"list.ml\", line 88, characters 32-39\nCalled from file \"list.ml\", line 88, characters 32-39\nCalled from file \"list.ml\", line 88, characters 32-39\nCalled from file \"list.ml\", line 88, characters 32-39\nCalled from file \"list.ml\", line 88, characters 32-39\nCalled from file \"list.ml\", line 88, characters 32-39\nCalled from file \"list.ml\", line 88, characters 32-39\nCalled from file \"list.ml\", line 88, characters 32-39\nCalled from file \"list.ml\", line 88, characters 32-39\nCalled from file \"list.ml\", line 88, characters 32-39\nCalled from file \"list.ml\", line 88, characters 32-39\nCalled from file \"list.ml\", line 88, characters 32-39\nCalled from file \"list.ml\", line 88, characters 32-39\nCalled from file \"list.ml\", line 88, characters 32-39\nCalled from file \"list.ml\", line 88, characters 32-39\nCalled from file \"list.ml\", line 88, characters 32-39\nCalled from file \"list.ml\", line 88, characters 32-39\nCalled from file \"list.ml\", line 88, characters 32-39\nCalled from file \"list.ml\", line 88, characters 32-39\nCalled from file \"list.ml\", line 88, characters 32-39\nCalled from file \"list.ml\", line 88, characters 32-39\nCalled from file \"list.ml\", line 88, characters 32-39\nCalled from file \"list.ml\", line 88, characters 32-39\nCalled from file \"list.ml\", line 88, characters 32-39\nCalled from file \"list.ml\", line 88, characters 32-39\nCalled from file \"list.ml\", line 88, characters 32-39\nCalled from file \"list.ml\", line 88, characters 32-39\nCalled from file \"list.ml\", line 88, characters 32-39\nCalled from file \"list.ml\", line 88, characters 32-39\nCalled from file \"list.ml\", line 88, characters 32-39\nCalled from file \"list.ml\", line 88, characters 32-39\nCalled from file \"list.ml\", line 88, characters 32-39\nCalled from file \"list.ml\", line 88, characters 32-39\nCalled from file \"list.ml\", line 88, characters 32-39\nCalled from file \"list.ml\", line 88, characters 32-39\nCalled from file \"list.ml\", line 88, characters 32-39\nCalled from file \"list.ml\", line 88, characters 32-39\nCalled from file \"list.ml\", line 88, characters 32-39\nCalled from file \"list.ml\", line 88, characters 32-39\nCalled from file \"list.ml\", line 88, characters 32-39\nCalled from file \"list.ml\", line 88, characters 32-39\nCalled from file \"list.ml\", line 88, characters 32-39\nCalled from file \"list.ml\", line 88, characters 32-39\nCalled from file \"list.ml\", line 88, characters 32-39\nCalled from file \"list.ml\", line 88, characters 32-39\nCalled from file \"list.ml\", line 88, characters 32-39\nCalled from file \"list.ml\", line 88, characters 32-39\nCalled from file \"list.ml\", line 88, characters 32-39\nCalled from file \"list.ml\", line 88, characters 32-39\nCalled from file \"list.ml\", line 88, characters 32-39\nCalled from file \"list.ml\", line 88, characters 32-39\nCalled from file \"list.ml\", line 88, characters 32-39\nCalled from file \"list.ml\", line 88, characters 32-39\nCalled from file \"list.ml\", line 88, characters 32-39\nCalled from file \"list.ml\", line 88, characters 32-39\nCalled from file \"list.ml\", line 88, characters 32-39\nCalled from file \"list.ml\", line 88, characters 32-39\nCalled from file \"list.ml\", line 88, characters 32-39\nCalled from file \"list.ml\", line 88, characters 32-39\nCalled from file \"list.ml\", line 88, characters 32-39\nCalled from file \"list.ml\", line 88, characters 32-39\nCalled from file \"list.ml\", line 88, characters 32-39\nCalled from file \"list.ml\", line 88, characters 32-39\nCalled from file \"list.ml\", line 88, characters 32-39\nCalled from file \"list.ml\", line 88, characters 32-39\nCalled from file \"list.ml\", line 88, characters 32-39\nCalled from file \"list.ml\", line 88, characters 32-39\nCalled from file \"list.ml\", line 88, characters 32-39\nCalled from file \"list.ml\", line 88, characters 32-39\nCalled from file \"list.ml\", line 88, characters 32-39\nCalled from file \"list.ml\", line 88, characters 32-39\nCalled from file \"list.ml\", line 88, characters 32-39\nCalled from file \"list.ml\", line 88, characters 32-39\nCalled from file \"list.ml\", line 88, characters 32-39\nCalled from file \"list.ml\", line 88, characters 32-39\nCalled from file \"list.ml\", line 88, characters 32-39\nCalled from file \"list.ml\", line 88, characters 32-39\nCalled from file \"list.ml\", line 88, characters 32-39\nCalled from file \"list.ml\", line 88, characters 32-39\nCalled from file \"list.ml\", line 88, characters 32-39\nCalled from file \"list.ml\", line 88, characters 32-39\nCalled from file \"list.ml\", line 88, characters 32-39\nCalled from file \"list.ml\", line 88, characters 32-39\nCalled from file \"list.ml\", line 88, characters 32-39\nCalled from file \"list.ml\", line 88, characters 32-39\nCalled from file \"list.ml\", line 88, characters 32-39\nCalled from file \"list.ml\", line 88, characters 32-39\nCalled from file \"list.ml\", line 88, characters 32-39\nCalled from file \"list.ml\", line 88, characters 32-39\nCalled from file \"list.ml\", line 88, characters 32-39\nCalled from file \"list.ml\", line 88, characters 32-39\nCalled from file \"list.ml\", line 88, characters 32-39\nCalled from file \"list.ml\", line 88, characters 32-39\nCalled from file \"list.ml\", line 88, characters 32-39\nCalled from file \"list.ml\", line 88, characters 32-39\nCalled from file \"list.ml\", line 88, characters 32-39\nCalled from file \"list.ml\", line 88, characters 32-39\nCalled from file \"list.ml\", line 88, characters 32-39\nCalled from file \"list.ml\", line 88, characters 32-39\nCalled from file \"list.ml\", line 88, characters 32-39\nCalled from file \"list.ml\", line 88, characters 32-39\nCalled from file \"list.ml\", line 88, characters 32-39\nCalled from file \"list.ml\", line 88, characters 32-39\nCalled from file \"list.ml\", line 88, characters 32-39\nCalled from file \"list.ml\", line 88, characters 32-39\nCalled from file \"list.ml\", line 88, characters 32-39\nCalled from file \"list.ml\", line 88, characters 32-39\nCalled from file \"list.ml\", line 88, characters 32-39\nCalled from file \"list.ml\", line 88, characters 32-39\nCalled from file \"list.ml\", line 88, characters 32-39\nCalled from file \"list.ml\", line 88, characters 32-39\nCalled from file \"list.ml\", line 88, characters 32-39\nCalled from file \"list.ml\", line 88, characters 32-39\nCalled from file \"list.ml\", line 88, characters 32-39\nCalled from file \"list.ml\", line 88, characters 32-39\nCalled from file \"list.ml\", line 88, characters 32-39\nCalled from file \"list.ml\", line 88, characters 32-39\nCalled from file \"list.ml\", line 88, characters 32-39\nCalled from file \"list.ml\", line 88, characters 32-39\nCalled from file \"list.ml\", line 88, characters 32-39\nCalled from file \"list.ml\", line 88, characters 32-39\nCalled from file \"list.ml\", line 88, characters 32-39\nCalled from file \"list.ml\", line 88, characters 32-39\nCalled from file \"list.ml\", line 88, characters 32-39\nCalled from file \"list.ml\", line 88, characters 32-39\nCalled from file \"list.ml\", line 88, characters 32-39\nCalled from file \"list.ml\", line 88, characters 32-39\nCalled from file \"list.ml\", line 88, characters 32-39\nCalled from file \"list.ml\", line 88, characters 32-39\nCalled from file \"list.ml\", line 88, characters 32-39\nCalled from file \"list.ml\", line 88, characters 32-39\nCalled from file \"list.ml\", line 88, characters 32-39\nCalled from file \"list.ml\", line 88, characters 32-39\nCalled from file \"list.ml\", line 88, characters 32-39\nCalled from file \"list.ml\", line 88, characters 32-39\nCalled from file \"list.ml\", line 88, characters 32-39\nCalled from file \"list.ml\", line 88, characters 32-39\nCalled from file \"list.ml\", line 88, characters 32-39\nCalled from file \"list.ml\", line 88, characters 32-39\nCalled from file \"list.ml\", line 88, characters 32-39\nCalled from file \"list.ml\", line 88, characters 32-39\nCalled from file \"list.ml\", line 88, characters 32-39\nCalled from file \"list.ml\", line 88, characters 32-39\nCalled from file \"list.ml\", line 88, characters 32-39\nCalled from file \"list.ml\", line 88, characters 32-39\nCalled from file \"list.ml\", line 88, characters 32-39\nCalled from file \"list.ml\", line 88, characters 32-39\nCalled from file \"list.ml\", line 88, characters 32-39\nCalled from file \"list.ml\", line 88, characters 32-39\nCalled from file \"list.ml\", line 88, characters 32-39\nCalled from file \"list.ml\", line 88, characters 32-39\nCalled from file \"list.ml\", line 88, characters 32-39\nCalled from file \"list.ml\", line 88, characters 32-39\nCalled from file \"list.ml\", line 88, characters 32-39\nCalled from file \"list.ml\", line 88, characters 32-39\nCalled from file \"list.ml\", line 88, characters 32-39\nCalled from file \"list.ml\", line 88, characters 32-39\nCalled from file \"list.ml\", line 88, characters 32-39\nCalled from file \"list.ml\", line 88, characters 32-39\nCalled from file \"list.ml\", line 88, characters 32-39\n\u001b[0m"
     ]
    }
   ],
   "source": [
    "let zero_ones_string = List.map string_of_int zero_ones"
   ]
  },
  {
   "cell_type": "markdown",
   "metadata": {
    "slideshow": {
     "slide_type": "slide"
    }
   },
   "source": [
    "## List to Streams\n",
    "\n",
    "We can start with the list type\n",
    "\n",
    "```ocaml\n",
    "type 'a list = Nil | Cons of 'a * 'a list\n",
    "```\n",
    "\n",
    "and make a **stream** type."
   ]
  },
  {
   "cell_type": "code",
   "execution_count": 41,
   "metadata": {},
   "outputs": [
    {
     "data": {
      "text/plain": [
       "type 'a stream = Cons of 'a * 'a stream\n"
      ]
     },
     "execution_count": 41,
     "metadata": {},
     "output_type": "execute_result"
    }
   ],
   "source": [
    "type 'a stream = Cons of 'a * 'a stream"
   ]
  },
  {
   "cell_type": "markdown",
   "metadata": {},
   "source": [
    "There is no `Nil` since the streams are infinite. "
   ]
  },
  {
   "cell_type": "markdown",
   "metadata": {
    "slideshow": {
     "slide_type": "slide"
    }
   },
   "source": [
    "## Doesn't quite work"
   ]
  },
  {
   "cell_type": "code",
   "execution_count": 42,
   "metadata": {},
   "outputs": [
    {
     "data": {
      "text/plain": [
       "val zero_ones : int stream = Cons (0, Cons (1, <cycle>))\n"
      ]
     },
     "execution_count": 42,
     "metadata": {},
     "output_type": "execute_result"
    }
   ],
   "source": [
    "let rec zero_ones = Cons (0, Cons (1, zero_ones))"
   ]
  },
  {
   "cell_type": "code",
   "execution_count": 43,
   "metadata": {},
   "outputs": [
    {
     "data": {
      "text/plain": [
       "val to_string : int stream -> string stream = <fun>\n"
      ]
     },
     "execution_count": 43,
     "metadata": {},
     "output_type": "execute_result"
    }
   ],
   "source": [
    "let rec to_string (Cons(x,xs)) = Cons(string_of_int x, to_string xs)"
   ]
  },
  {
   "cell_type": "code",
   "execution_count": 44,
   "metadata": {},
   "outputs": [
    {
     "ename": "error",
     "evalue": "runtime_error",
     "output_type": "error",
     "traceback": [
      "\u001b[31mStack overflow during evaluation (looping recursion?).\nRaised by primitive operation at file \"[43]\", line 1, characters 55-67\nCalled from file \"[43]\", line 1, characters 55-67\nCalled from file \"[43]\", line 1, characters 55-67\nCalled from file \"[43]\", line 1, characters 55-67\nCalled from file \"[43]\", line 1, characters 55-67\nCalled from file \"[43]\", line 1, characters 55-67\nCalled from file \"[43]\", line 1, characters 55-67\nCalled from file \"[43]\", line 1, characters 55-67\nCalled from file \"[43]\", line 1, characters 55-67\nCalled from file \"[43]\", line 1, characters 55-67\nCalled from file \"[43]\", line 1, characters 55-67\nCalled from file \"[43]\", line 1, characters 55-67\nCalled from file \"[43]\", line 1, characters 55-67\nCalled from file \"[43]\", line 1, characters 55-67\nCalled from file \"[43]\", line 1, characters 55-67\nCalled from file \"[43]\", line 1, characters 55-67\nCalled from file \"[43]\", line 1, characters 55-67\nCalled from file \"[43]\", line 1, characters 55-67\nCalled from file \"[43]\", line 1, characters 55-67\nCalled from file \"[43]\", line 1, characters 55-67\nCalled from file \"[43]\", line 1, characters 55-67\nCalled from file \"[43]\", line 1, characters 55-67\nCalled from file \"[43]\", line 1, characters 55-67\nCalled from file \"[43]\", line 1, characters 55-67\nCalled from file \"[43]\", line 1, characters 55-67\nCalled from file \"[43]\", line 1, characters 55-67\nCalled from file \"[43]\", line 1, characters 55-67\nCalled from file \"[43]\", line 1, characters 55-67\nCalled from file \"[43]\", line 1, characters 55-67\nCalled from file \"[43]\", line 1, characters 55-67\nCalled from file \"[43]\", line 1, characters 55-67\nCalled from file \"[43]\", line 1, characters 55-67\nCalled from file \"[43]\", line 1, characters 55-67\nCalled from file \"[43]\", line 1, characters 55-67\nCalled from file \"[43]\", line 1, characters 55-67\nCalled from file \"[43]\", line 1, characters 55-67\nCalled from file \"[43]\", line 1, characters 55-67\nCalled from file \"[43]\", line 1, characters 55-67\nCalled from file \"[43]\", line 1, characters 55-67\nCalled from file \"[43]\", line 1, characters 55-67\nCalled from file \"[43]\", line 1, characters 55-67\nCalled from file \"[43]\", line 1, characters 55-67\nCalled from file \"[43]\", line 1, characters 55-67\nCalled from file \"[43]\", line 1, characters 55-67\nCalled from file \"[43]\", line 1, characters 55-67\nCalled from file \"[43]\", line 1, characters 55-67\nCalled from file \"[43]\", line 1, characters 55-67\nCalled from file \"[43]\", line 1, characters 55-67\nCalled from file \"[43]\", line 1, characters 55-67\nCalled from file \"[43]\", line 1, characters 55-67\nCalled from file \"[43]\", line 1, characters 55-67\nCalled from file \"[43]\", line 1, characters 55-67\nCalled from file \"[43]\", line 1, characters 55-67\nCalled from file \"[43]\", line 1, characters 55-67\nCalled from file \"[43]\", line 1, characters 55-67\nCalled from file \"[43]\", line 1, characters 55-67\nCalled from file \"[43]\", line 1, characters 55-67\nCalled from file \"[43]\", line 1, characters 55-67\nCalled from file \"[43]\", line 1, characters 55-67\nCalled from file \"[43]\", line 1, characters 55-67\nCalled from file \"[43]\", line 1, characters 55-67\nCalled from file \"[43]\", line 1, characters 55-67\nCalled from file \"[43]\", line 1, characters 55-67\nCalled from file \"[43]\", line 1, characters 55-67\nCalled from file \"[43]\", line 1, characters 55-67\nCalled from file \"[43]\", line 1, characters 55-67\nCalled from file \"[43]\", line 1, characters 55-67\nCalled from file \"[43]\", line 1, characters 55-67\nCalled from file \"[43]\", line 1, characters 55-67\nCalled from file \"[43]\", line 1, characters 55-67\nCalled from file \"[43]\", line 1, characters 55-67\nCalled from file \"[43]\", line 1, characters 55-67\nCalled from file \"[43]\", line 1, characters 55-67\nCalled from file \"[43]\", line 1, characters 55-67\nCalled from file \"[43]\", line 1, characters 55-67\nCalled from file \"[43]\", line 1, characters 55-67\nCalled from file \"[43]\", line 1, characters 55-67\nCalled from file \"[43]\", line 1, characters 55-67\nCalled from file \"[43]\", line 1, characters 55-67\nCalled from file \"[43]\", line 1, characters 55-67\nCalled from file \"[43]\", line 1, characters 55-67\nCalled from file \"[43]\", line 1, characters 55-67\nCalled from file \"[43]\", line 1, characters 55-67\nCalled from file \"[43]\", line 1, characters 55-67\nCalled from file \"[43]\", line 1, characters 55-67\nCalled from file \"[43]\", line 1, characters 55-67\nCalled from file \"[43]\", line 1, characters 55-67\nCalled from file \"[43]\", line 1, characters 55-67\nCalled from file \"[43]\", line 1, characters 55-67\nCalled from file \"[43]\", line 1, characters 55-67\nCalled from file \"[43]\", line 1, characters 55-67\nCalled from file \"[43]\", line 1, characters 55-67\nCalled from file \"[43]\", line 1, characters 55-67\nCalled from file \"[43]\", line 1, characters 55-67\nCalled from file \"[43]\", line 1, characters 55-67\nCalled from file \"[43]\", line 1, characters 55-67\nCalled from file \"[43]\", line 1, characters 55-67\nCalled from file \"[43]\", line 1, characters 55-67\nCalled from file \"[43]\", line 1, characters 55-67\nCalled from file \"[43]\", line 1, characters 55-67\nCalled from file \"[43]\", line 1, characters 55-67\nCalled from file \"[43]\", line 1, characters 55-67\nCalled from file \"[43]\", line 1, characters 55-67\nCalled from file \"[43]\", line 1, characters 55-67\nCalled from file \"[43]\", line 1, characters 55-67\nCalled from file \"[43]\", line 1, characters 55-67\nCalled from file \"[43]\", line 1, characters 55-67\nCalled from file \"[43]\", line 1, characters 55-67\nCalled from file \"[43]\", line 1, characters 55-67\nCalled from file \"[43]\", line 1, characters 55-67\nCalled from file \"[43]\", line 1, characters 55-67\nCalled from file \"[43]\", line 1, characters 55-67\nCalled from file \"[43]\", line 1, characters 55-67\nCalled from file \"[43]\", line 1, characters 55-67\nCalled from file \"[43]\", line 1, characters 55-67\nCalled from file \"[43]\", line 1, characters 55-67\nCalled from file \"[43]\", line 1, characters 55-67\nCalled from file \"[43]\", line 1, characters 55-67\nCalled from file \"[43]\", line 1, characters 55-67\nCalled from file \"[43]\", line 1, characters 55-67\nCalled from file \"[43]\", line 1, characters 55-67\nCalled from file \"[43]\", line 1, characters 55-67\nCalled from file \"[43]\", line 1, characters 55-67\nCalled from file \"[43]\", line 1, characters 55-67\nCalled from file \"[43]\", line 1, characters 55-67\nCalled from file \"[43]\", line 1, characters 55-67\nCalled from file \"[43]\", line 1, characters 55-67\nCalled from file \"[43]\", line 1, characters 55-67\nCalled from file \"[43]\", line 1, characters 55-67\nCalled from file \"[43]\", line 1, characters 55-67\nCalled from file \"[43]\", line 1, characters 55-67\nCalled from file \"[43]\", line 1, characters 55-67\nCalled from file \"[43]\", line 1, characters 55-67\nCalled from file \"[43]\", line 1, characters 55-67\nCalled from file \"[43]\", line 1, characters 55-67\nCalled from file \"[43]\", line 1, characters 55-67\nCalled from file \"[43]\", line 1, characters 55-67\nCalled from file \"[43]\", line 1, characters 55-67\nCalled from file \"[43]\", line 1, characters 55-67\nCalled from file \"[43]\", line 1, characters 55-67\nCalled from file \"[43]\", line 1, characters 55-67\nCalled from file \"[43]\", line 1, characters 55-67\nCalled from file \"[43]\", line 1, characters 55-67\nCalled from file \"[43]\", line 1, characters 55-67\nCalled from file \"[43]\", line 1, characters 55-67\nCalled from file \"[43]\", line 1, characters 55-67\nCalled from file \"[43]\", line 1, characters 55-67\nCalled from file \"[43]\", line 1, characters 55-67\nCalled from file \"[43]\", line 1, characters 55-67\nCalled from file \"[43]\", line 1, characters 55-67\nCalled from file \"[43]\", line 1, characters 55-67\nCalled from file \"[43]\", line 1, characters 55-67\nCalled from file \"[43]\", line 1, characters 55-67\nCalled from file \"[43]\", line 1, characters 55-67\nCalled from file \"[43]\", line 1, characters 55-67\nCalled from file \"[43]\", line 1, characters 55-67\nCalled from file \"[43]\", line 1, characters 55-67\nCalled from file \"[43]\", line 1, characters 55-67\nCalled from file \"[43]\", line 1, characters 55-67\nCalled from file \"[43]\", line 1, characters 55-67\nCalled from file \"[43]\", line 1, characters 55-67\nCalled from file \"[43]\", line 1, characters 55-67\nCalled from file \"[43]\", line 1, characters 55-67\nCalled from file \"[43]\", line 1, characters 55-67\nCalled from file \"[43]\", line 1, characters 55-67\nCalled from file \"[43]\", line 1, characters 55-67\nCalled from file \"[43]\", line 1, characters 55-67\nCalled from file \"[43]\", line 1, characters 55-67\nCalled from file \"[43]\", line 1, characters 55-67\nCalled from file \"[43]\", line 1, characters 55-67\nCalled from file \"[43]\", line 1, characters 55-67\nCalled from file \"[43]\", line 1, characters 55-67\nCalled from file \"[43]\", line 1, characters 55-67\nCalled from file \"[43]\", line 1, characters 55-67\nCalled from file \"[43]\", line 1, characters 55-67\nCalled from file \"[43]\", line 1, characters 55-67\nCalled from file \"[43]\", line 1, characters 55-67\nCalled from file \"[43]\", line 1, characters 55-67\nCalled from file \"[43]\", line 1, characters 55-67\nCalled from file \"[43]\", line 1, characters 55-67\nCalled from file \"[43]\", line 1, characters 55-67\nCalled from file \"[43]\", line 1, characters 55-67\nCalled from file \"[43]\", line 1, characters 55-67\nCalled from file \"[43]\", line 1, characters 55-67\nCalled from file \"[43]\", line 1, characters 55-67\nCalled from file \"[43]\", line 1, characters 55-67\nCalled from file \"[43]\", line 1, characters 55-67\nCalled from file \"[43]\", line 1, characters 55-67\nCalled from file \"[43]\", line 1, characters 55-67\nCalled from file \"[43]\", line 1, characters 55-67\nCalled from file \"[43]\", line 1, characters 55-67\nCalled from file \"[43]\", line 1, characters 55-67\nCalled from file \"[43]\", line 1, characters 55-67\nCalled from file \"[43]\", line 1, characters 55-67\nCalled from file \"[43]\", line 1, characters 55-67\nCalled from file \"[43]\", line 1, characters 55-67\nCalled from file \"[43]\", line 1, characters 55-67\nCalled from file \"[43]\", line 1, characters 55-67\nCalled from file \"[43]\", line 1, characters 55-67\nCalled from file \"[43]\", line 1, characters 55-67\nCalled from file \"[43]\", line 1, characters 55-67\nCalled from file \"[43]\", line 1, characters 55-67\nCalled from file \"[43]\", line 1, characters 55-67\nCalled from file \"[43]\", line 1, characters 55-67\nCalled from file \"[43]\", line 1, characters 55-67\nCalled from file \"[43]\", line 1, characters 55-67\nCalled from file \"[43]\", line 1, characters 55-67\nCalled from file \"[43]\", line 1, characters 55-67\nCalled from file \"[43]\", line 1, characters 55-67\nCalled from file \"[43]\", line 1, characters 55-67\nCalled from file \"[43]\", line 1, characters 55-67\nCalled from file \"[43]\", line 1, characters 55-67\nCalled from file \"[43]\", line 1, characters 55-67\nCalled from file \"[43]\", line 1, characters 55-67\nCalled from file \"[43]\", line 1, characters 55-67\nCalled from file \"[43]\", line 1, characters 55-67\nCalled from file \"[43]\", line 1, characters 55-67\nCalled from file \"[43]\", line 1, characters 55-67\nCalled from file \"[43]\", line 1, characters 55-67\nCalled from file \"[43]\", line 1, characters 55-67\nCalled from file \"[43]\", line 1, characters 55-67\nCalled from file \"[43]\", line 1, characters 55-67\nCalled from file \"[43]\", line 1, characters 55-67\nCalled from file \"[43]\", line 1, characters 55-67\nCalled from file \"[43]\", line 1, characters 55-67\nCalled from file \"[43]\", line 1, characters 55-67\nCalled from file \"[43]\", line 1, characters 55-67\nCalled from file \"[43]\", line 1, characters 55-67\nCalled from file \"[43]\", line 1, characters 55-67\nCalled from file \"[43]\", line 1, characters 55-67\nCalled from file \"[43]\", line 1, characters 55-67\nCalled from file \"[43]\", line 1, characters 55-67\nCalled from file \"[43]\", line 1, characters 55-67\nCalled from file \"[43]\", line 1, characters 55-67\nCalled from file \"[43]\", line 1, characters 55-67\nCalled from file \"[43]\", line 1, characters 55-67\nCalled from file \"[43]\", line 1, characters 55-67\nCalled from file \"[43]\", line 1, characters 55-67\nCalled from file \"[43]\", line 1, characters 55-67\nCalled from file \"[43]\", line 1, characters 55-67\nCalled from file \"[43]\", line 1, characters 55-67\nCalled from file \"[43]\", line 1, characters 55-67\nCalled from file \"[43]\", line 1, characters 55-67\nCalled from file \"[43]\", line 1, characters 55-67\nCalled from file \"[43]\", line 1, characters 55-67\nCalled from file \"[43]\", line 1, characters 55-67\nCalled from file \"[43]\", line 1, characters 55-67\nCalled from file \"[43]\", line 1, characters 55-67\nCalled from file \"[43]\", line 1, characters 55-67\nCalled from file \"[43]\", line 1, characters 55-67\nCalled from file \"[43]\", line 1, characters 55-67\nCalled from file \"[43]\", line 1, characters 55-67\nCalled from file \"[43]\", line 1, characters 55-67\nCalled from file \"[43]\", line 1, characters 55-67\nCalled from file \"[43]\", line 1, characters 55-67\nCalled from file \"[43]\", line 1, characters 55-67\nCalled from file \"[43]\", line 1, characters 55-67\nCalled from file \"[43]\", line 1, characters 55-67\nCalled from file \"[43]\", line 1, characters 55-67\nCalled from file \"[43]\", line 1, characters 55-67\nCalled from file \"[43]\", line 1, characters 55-67\nCalled from file \"[43]\", line 1, characters 55-67\nCalled from file \"[43]\", line 1, characters 55-67\nCalled from file \"[43]\", line 1, characters 55-67\nCalled from file \"[43]\", line 1, characters 55-67\nCalled from file \"[43]\", line 1, characters 55-67\nCalled from file \"[43]\", line 1, characters 55-67\nCalled from file \"[43]\", line 1, characters 55-67\nCalled from file \"[43]\", line 1, characters 55-67\nCalled from file \"[43]\", line 1, characters 55-67\nCalled from file \"[43]\", line 1, characters 55-67\nCalled from file \"[43]\", line 1, characters 55-67\nCalled from file \"[43]\", line 1, characters 55-67\nCalled from file \"[43]\", line 1, characters 55-67\nCalled from file \"[43]\", line 1, characters 55-67\nCalled from file \"[43]\", line 1, characters 55-67\nCalled from file \"[43]\", line 1, characters 55-67\nCalled from file \"[43]\", line 1, characters 55-67\nCalled from file \"[43]\", line 1, characters 55-67\nCalled from file \"[43]\", line 1, characters 55-67\nCalled from file \"[43]\", line 1, characters 55-67\nCalled from file \"[43]\", line 1, characters 55-67\nCalled from file \"[43]\", line 1, characters 55-67\nCalled from file \"[43]\", line 1, characters 55-67\nCalled from file \"[43]\", line 1, characters 55-67\nCalled from file \"[43]\", line 1, characters 55-67\nCalled from file \"[43]\", line 1, characters 55-67\nCalled from file \"[43]\", line 1, characters 55-67\nCalled from file \"[43]\", line 1, characters 55-67\nCalled from file \"[43]\", line 1, characters 55-67\nCalled from file \"[43]\", line 1, characters 55-67\nCalled from file \"[43]\", line 1, characters 55-67\nCalled from file \"[43]\", line 1, characters 55-67\nCalled from file \"[43]\", line 1, characters 55-67\nCalled from file \"[43]\", line 1, characters 55-67\nCalled from file \"[43]\", line 1, characters 55-67\nCalled from file \"[43]\", line 1, characters 55-67\nCalled from file \"[43]\", line 1, characters 55-67\nCalled from file \"[43]\", line 1, characters 55-67\nCalled from file \"[43]\", line 1, characters 55-67\nCalled from file \"[43]\", line 1, characters 55-67\nCalled from file \"[43]\", line 1, characters 55-67\nCalled from file \"[43]\", line 1, characters 55-67\nCalled from file \"[43]\", line 1, characters 55-67\nCalled from file \"[43]\", line 1, characters 55-67\nCalled from file \"[43]\", line 1, characters 55-67\nCalled from file \"[43]\", line 1, characters 55-67\nCalled from file \"[43]\", line 1, characters 55-67\nCalled from file \"[43]\", line 1, characters 55-67\nCalled from file \"[43]\", line 1, characters 55-67\nCalled from file \"[43]\", line 1, characters 55-67\nCalled from file \"[43]\", line 1, characters 55-67\nCalled from file \"[43]\", line 1, characters 55-67\nCalled from file \"[43]\", line 1, characters 55-67\nCalled from file \"[43]\", line 1, characters 55-67\nCalled from file \"[43]\", line 1, characters 55-67\nCalled from file \"[43]\", line 1, characters 55-67\nCalled from file \"[43]\", line 1, characters 55-67\nCalled from file \"[43]\", line 1, characters 55-67\nCalled from file \"[43]\", line 1, characters 55-67\nCalled from file \"[43]\", line 1, characters 55-67\nCalled from file \"[43]\", line 1, characters 55-67\nCalled from file \"[43]\", line 1, characters 55-67\nCalled from file \"[43]\", line 1, characters 55-67\nCalled from file \"[43]\", line 1, characters 55-67\nCalled from file \"[43]\", line 1, characters 55-67\nCalled from file \"[43]\", line 1, characters 55-67\nCalled from file \"[43]\", line 1, characters 55-67\nCalled from file \"[43]\", line 1, characters 55-67\nCalled from file \"[43]\", line 1, characters 55-67\nCalled from file \"[43]\", line 1, characters 55-67\nCalled from file \"[43]\", line 1, characters 55-67\nCalled from file \"[43]\", line 1, characters 55-67\nCalled from file \"[43]\", line 1, characters 55-67\nCalled from file \"[43]\", line 1, characters 55-67\nCalled from file \"[43]\", line 1, characters 55-67\nCalled from file \"[43]\", line 1, characters 55-67\nCalled from file \"[43]\", line 1, characters 55-67\nCalled from file \"[43]\", line 1, characters 55-67\nCalled from file \"[43]\", line 1, characters 55-67\nCalled from file \"[43]\", line 1, characters 55-67\nCalled from file \"[43]\", line 1, characters 55-67\nCalled from file \"[43]\", line 1, characters 55-67\nCalled from file \"[43]\", line 1, characters 55-67\nCalled from file \"[43]\", line 1, characters 55-67\nCalled from file \"[43]\", line 1, characters 55-67\nCalled from file \"[43]\", line 1, characters 55-67\nCalled from file \"[43]\", line 1, characters 55-67\nCalled from file \"[43]\", line 1, characters 55-67\nCalled from file \"[43]\", line 1, characters 55-67\nCalled from file \"[43]\", line 1, characters 55-67\nCalled from file \"[43]\", line 1, characters 55-67\nCalled from file \"[43]\", line 1, characters 55-67\nCalled from file \"[43]\", line 1, characters 55-67\nCalled from file \"[43]\", line 1, characters 55-67\nCalled from file \"[43]\", line 1, characters 55-67\nCalled from file \"[43]\", line 1, characters 55-67\nCalled from file \"[43]\", line 1, characters 55-67\nCalled from file \"[43]\", line 1, characters 55-67\nCalled from file \"[43]\", line 1, characters 55-67\nCalled from file \"[43]\", line 1, characters 55-67\nCalled from file \"[43]\", line 1, characters 55-67\nCalled from file \"[43]\", line 1, characters 55-67\nCalled from file \"[43]\", line 1, characters 55-67\nCalled from file \"[43]\", line 1, characters 55-67\nCalled from file \"[43]\", line 1, characters 55-67\nCalled from file \"[43]\", line 1, characters 55-67\nCalled from file \"[43]\", line 1, characters 55-67\nCalled from file \"[43]\", line 1, characters 55-67\nCalled from file \"[43]\", line 1, characters 55-67\nCalled from file \"[43]\", line 1, characters 55-67\nCalled from file \"[43]\", line 1, characters 55-67\nCalled from file \"[43]\", line 1, characters 55-67\nCalled from file \"[43]\", line 1, characters 55-67\nCalled from file \"[43]\", line 1, characters 55-67\nCalled from file \"[43]\", line 1, characters 55-67\nCalled from file \"[43]\", line 1, characters 55-67\nCalled from file \"[43]\", line 1, characters 55-67\nCalled from file \"[43]\", line 1, characters 55-67\nCalled from file \"[43]\", line 1, characters 55-67\nCalled from file \"[43]\", line 1, characters 55-67\nCalled from file \"[43]\", line 1, characters 55-67\nCalled from file \"[43]\", line 1, characters 55-67\nCalled from file \"[43]\", line 1, characters 55-67\nCalled from file \"[43]\", line 1, characters 55-67\nCalled from file \"[43]\", line 1, characters 55-67\nCalled from file \"[43]\", line 1, characters 55-67\nCalled from file \"[43]\", line 1, characters 55-67\nCalled from file \"[43]\", line 1, characters 55-67\nCalled from file \"[43]\", line 1, characters 55-67\nCalled from file \"[43]\", line 1, characters 55-67\nCalled from file \"[43]\", line 1, characters 55-67\nCalled from file \"[43]\", line 1, characters 55-67\nCalled from file \"[43]\", line 1, characters 55-67\nCalled from file \"[43]\", line 1, characters 55-67\nCalled from file \"[43]\", line 1, characters 55-67\nCalled from file \"[43]\", line 1, characters 55-67\nCalled from file \"[43]\", line 1, characters 55-67\nCalled from file \"[43]\", line 1, characters 55-67\nCalled from file \"[43]\", line 1, characters 55-67\nCalled from file \"[43]\", line 1, characters 55-67\nCalled from file \"[43]\", line 1, characters 55-67\nCalled from file \"[43]\", line 1, characters 55-67\nCalled from file \"[43]\", line 1, characters 55-67\nCalled from file \"[43]\", line 1, characters 55-67\nCalled from file \"[43]\", line 1, characters 55-67\nCalled from file \"[43]\", line 1, characters 55-67\nCalled from file \"[43]\", line 1, characters 55-67\nCalled from file \"[43]\", line 1, characters 55-67\nCalled from file \"[43]\", line 1, characters 55-67\nCalled from file \"[43]\", line 1, characters 55-67\nCalled from file \"[43]\", line 1, characters 55-67\nCalled from file \"[43]\", line 1, characters 55-67\nCalled from file \"[43]\", line 1, characters 55-67\nCalled from file \"[43]\", line 1, characters 55-67\nCalled from file \"[43]\", line 1, characters 55-67\nCalled from file \"[43]\", line 1, characters 55-67\nCalled from file \"[43]\", line 1, characters 55-67\nCalled from file \"[43]\", line 1, characters 55-67\nCalled from file \"[43]\", line 1, characters 55-67\nCalled from file \"[43]\", line 1, characters 55-67\nCalled from file \"[43]\", line 1, characters 55-67\nCalled from file \"[43]\", line 1, characters 55-67\nCalled from file \"[43]\", line 1, characters 55-67\nCalled from file \"[43]\", line 1, characters 55-67\nCalled from file \"[43]\", line 1, characters 55-67\nCalled from file \"[43]\", line 1, characters 55-67\nCalled from file \"[43]\", line 1, characters 55-67\nCalled from file \"[43]\", line 1, characters 55-67\nCalled from file \"[43]\", line 1, characters 55-67\nCalled from file \"[43]\", line 1, characters 55-67\nCalled from file \"[43]\", line 1, characters 55-67\nCalled from file \"[43]\", line 1, characters 55-67\nCalled from file \"[43]\", line 1, characters 55-67\nCalled from file \"[43]\", line 1, characters 55-67\nCalled from file \"[43]\", line 1, characters 55-67\nCalled from file \"[43]\", line 1, characters 55-67\nCalled from file \"[43]\", line 1, characters 55-67\nCalled from file \"[43]\", line 1, characters 55-67\nCalled from file \"[43]\", line 1, characters 55-67\nCalled from file \"[43]\", line 1, characters 55-67\nCalled from file \"[43]\", line 1, characters 55-67\nCalled from file \"[43]\", line 1, characters 55-67\nCalled from file \"[43]\", line 1, characters 55-67\nCalled from file \"[43]\", line 1, characters 55-67\nCalled from file \"[43]\", line 1, characters 55-67\nCalled from file \"[43]\", line 1, characters 55-67\nCalled from file \"[43]\", line 1, characters 55-67\nCalled from file \"[43]\", line 1, characters 55-67\nCalled from file \"[43]\", line 1, characters 55-67\nCalled from file \"[43]\", line 1, characters 55-67\nCalled from file \"[43]\", line 1, characters 55-67\nCalled from file \"[43]\", line 1, characters 55-67\nCalled from file \"[43]\", line 1, characters 55-67\nCalled from file \"[43]\", line 1, characters 55-67\nCalled from file \"[43]\", line 1, characters 55-67\nCalled from file \"[43]\", line 1, characters 55-67\nCalled from file \"[43]\", line 1, characters 55-67\nCalled from file \"[43]\", line 1, characters 55-67\nCalled from file \"[43]\", line 1, characters 55-67\nCalled from file \"[43]\", line 1, characters 55-67\nCalled from file \"[43]\", line 1, characters 55-67\nCalled from file \"[43]\", line 1, characters 55-67\nCalled from file \"[43]\", line 1, characters 55-67\nCalled from file \"[43]\", line 1, characters 55-67\nCalled from file \"[43]\", line 1, characters 55-67\nCalled from file \"[43]\", line 1, characters 55-67\nCalled from file \"[43]\", line 1, characters 55-67\nCalled from file \"[43]\", line 1, characters 55-67\nCalled from file \"[43]\", line 1, characters 55-67\nCalled from file \"[43]\", line 1, characters 55-67\nCalled from file \"[43]\", line 1, characters 55-67\nCalled from file \"[43]\", line 1, characters 55-67\nCalled from file \"[43]\", line 1, characters 55-67\nCalled from file \"[43]\", line 1, characters 55-67\nCalled from file \"[43]\", line 1, characters 55-67\nCalled from file \"[43]\", line 1, characters 55-67\nCalled from file \"[43]\", line 1, characters 55-67\nCalled from file \"[43]\", line 1, characters 55-67\nCalled from file \"[43]\", line 1, characters 55-67\nCalled from file \"[43]\", line 1, characters 55-67\nCalled from file \"[43]\", line 1, characters 55-67\nCalled from file \"[43]\", line 1, characters 55-67\nCalled from file \"[43]\", line 1, characters 55-67\nCalled from file \"[43]\", line 1, characters 55-67\nCalled from file \"[43]\", line 1, characters 55-67\nCalled from file \"[43]\", line 1, characters 55-67\nCalled from file \"[43]\", line 1, characters 55-67\nCalled from file \"[43]\", line 1, characters 55-67\nCalled from file \"[43]\", line 1, characters 55-67\nCalled from file \"[43]\", line 1, characters 55-67\nCalled from file \"[43]\", line 1, characters 55-67\nCalled from file \"[43]\", line 1, characters 55-67\nCalled from file \"[43]\", line 1, characters 55-67\nCalled from file \"[43]\", line 1, characters 55-67\nCalled from file \"[43]\", line 1, characters 55-67\nCalled from file \"[43]\", line 1, characters 55-67\nCalled from file \"[43]\", line 1, characters 55-67\nCalled from file \"[43]\", line 1, characters 55-67\nCalled from file \"[43]\", line 1, characters 55-67\nCalled from file \"[43]\", line 1, characters 55-67\nCalled from file \"[43]\", line 1, characters 55-67\nCalled from file \"[43]\", line 1, characters 55-67\nCalled from file \"[43]\", line 1, characters 55-67\nCalled from file \"[43]\", line 1, characters 55-67\nCalled from file \"[43]\", line 1, characters 55-67\nCalled from file \"[43]\", line 1, characters 55-67\nCalled from file \"[43]\", line 1, characters 55-67\nCalled from file \"[43]\", line 1, characters 55-67\nCalled from file \"[43]\", line 1, characters 55-67\nCalled from file \"[43]\", line 1, characters 55-67\nCalled from file \"[43]\", line 1, characters 55-67\nCalled from file \"[43]\", line 1, characters 55-67\nCalled from file \"[43]\", line 1, characters 55-67\nCalled from file \"[43]\", line 1, characters 55-67\nCalled from file \"[43]\", line 1, characters 55-67\nCalled from file \"[43]\", line 1, characters 55-67\nCalled from file \"[43]\", line 1, characters 55-67\nCalled from file \"[43]\", line 1, characters 55-67\nCalled from file \"[43]\", line 1, characters 55-67\nCalled from file \"[43]\", line 1, characters 55-67\nCalled from file \"[43]\", line 1, characters 55-67\nCalled from file \"[43]\", line 1, characters 55-67\nCalled from file \"[43]\", line 1, characters 55-67\nCalled from file \"[43]\", line 1, characters 55-67\nCalled from file \"[43]\", line 1, characters 55-67\nCalled from file \"[43]\", line 1, characters 55-67\nCalled from file \"[43]\", line 1, characters 55-67\nCalled from file \"[43]\", line 1, characters 55-67\nCalled from file \"[43]\", line 1, characters 55-67\nCalled from file \"[43]\", line 1, characters 55-67\nCalled from file \"[43]\", line 1, characters 55-67\nCalled from file \"[43]\", line 1, characters 55-67\nCalled from file \"[43]\", line 1, characters 55-67\nCalled from file \"[43]\", line 1, characters 55-67\nCalled from file \"[43]\", line 1, characters 55-67\nCalled from file \"[43]\", line 1, characters 55-67\nCalled from file \"[43]\", line 1, characters 55-67\nCalled from file \"[43]\", line 1, characters 55-67\nCalled from file \"[43]\", line 1, characters 55-67\nCalled from file \"[43]\", line 1, characters 55-67\nCalled from file \"[43]\", line 1, characters 55-67\nCalled from file \"[43]\", line 1, characters 55-67\nCalled from file \"[43]\", line 1, characters 55-67\nCalled from file \"[43]\", line 1, characters 55-67\nCalled from file \"[43]\", line 1, characters 55-67\nCalled from file \"[43]\", line 1, characters 55-67\nCalled from file \"[43]\", line 1, characters 55-67\nCalled from file \"[43]\", line 1, characters 55-67\nCalled from file \"[43]\", line 1, characters 55-67\nCalled from file \"[43]\", line 1, characters 55-67\nCalled from file \"[43]\", line 1, characters 55-67\nCalled from file \"[43]\", line 1, characters 55-67\nCalled from file \"[43]\", line 1, characters 55-67\nCalled from file \"[43]\", line 1, characters 55-67\nCalled from file \"[43]\", line 1, characters 55-67\nCalled from file \"[43]\", line 1, characters 55-67\nCalled from file \"[43]\", line 1, characters 55-67\nCalled from file \"[43]\", line 1, characters 55-67\nCalled from file \"[43]\", line 1, characters 55-67\nCalled from file \"[43]\", line 1, characters 55-67\nCalled from file \"[43]\", line 1, characters 55-67\nCalled from file \"[43]\", line 1, characters 55-67\nCalled from file \"[43]\", line 1, characters 55-67\nCalled from file \"[43]\", line 1, characters 55-67\nCalled from file \"[43]\", line 1, characters 55-67\nCalled from file \"[43]\", line 1, characters 55-67\nCalled from file \"[43]\", line 1, characters 55-67\nCalled from file \"[43]\", line 1, characters 55-67\nCalled from file \"[43]\", line 1, characters 55-67\nCalled from file \"[43]\", line 1, characters 55-67\nCalled from file \"[43]\", line 1, characters 55-67\nCalled from file \"[43]\", line 1, characters 55-67\nCalled from file \"[43]\", line 1, characters 55-67\nCalled from file \"[43]\", line 1, characters 55-67\nCalled from file \"[43]\", line 1, characters 55-67\nCalled from file \"[43]\", line 1, characters 55-67\nCalled from file \"[43]\", line 1, characters 55-67\nCalled from file \"[43]\", line 1, characters 55-67\nCalled from file \"[43]\", line 1, characters 55-67\nCalled from file \"[43]\", line 1, characters 55-67\nCalled from file \"[43]\", line 1, characters 55-67\nCalled from file \"[43]\", line 1, characters 55-67\nCalled from file \"[43]\", line 1, characters 55-67\nCalled from file \"[43]\", line 1, characters 55-67\nCalled from file \"[43]\", line 1, characters 55-67\nCalled from file \"[43]\", line 1, characters 55-67\nCalled from file \"[43]\", line 1, characters 55-67\nCalled from file \"[43]\", line 1, characters 55-67\nCalled from file \"[43]\", line 1, characters 55-67\nCalled from file \"[43]\", line 1, characters 55-67\nCalled from file \"[43]\", line 1, characters 55-67\nCalled from file \"[43]\", line 1, characters 55-67\nCalled from file \"[43]\", line 1, characters 55-67\nCalled from file \"[43]\", line 1, characters 55-67\nCalled from file \"[43]\", line 1, characters 55-67\nCalled from file \"[43]\", line 1, characters 55-67\nCalled from file \"[43]\", line 1, characters 55-67\nCalled from file \"[43]\", line 1, characters 55-67\nCalled from file \"[43]\", line 1, characters 55-67\nCalled from file \"[43]\", line 1, characters 55-67\nCalled from file \"[43]\", line 1, characters 55-67\nCalled from file \"[43]\", line 1, characters 55-67\nCalled from file \"[43]\", line 1, characters 55-67\nCalled from file \"[43]\", line 1, characters 55-67\nCalled from file \"[43]\", line 1, characters 55-67\nCalled from file \"[43]\", line 1, characters 55-67\nCalled from file \"[43]\", line 1, characters 55-67\nCalled from file \"[43]\", line 1, characters 55-67\nCalled from file \"[43]\", line 1, characters 55-67\nCalled from file \"[43]\", line 1, characters 55-67\nCalled from file \"[43]\", line 1, characters 55-67\nCalled from file \"[43]\", line 1, characters 55-67\nCalled from file \"[43]\", line 1, characters 55-67\nCalled from file \"[43]\", line 1, characters 55-67\nCalled from file \"[43]\", line 1, characters 55-67\nCalled from file \"[43]\", line 1, characters 55-67\nCalled from file \"[43]\", line 1, characters 55-67\nCalled from file \"[43]\", line 1, characters 55-67\nCalled from file \"[43]\", line 1, characters 55-67\nCalled from file \"[43]\", line 1, characters 55-67\nCalled from file \"[43]\", line 1, characters 55-67\nCalled from file \"[43]\", line 1, characters 55-67\nCalled from file \"[43]\", line 1, characters 55-67\nCalled from file \"[43]\", line 1, characters 55-67\nCalled from file \"[43]\", line 1, characters 55-67\nCalled from file \"[43]\", line 1, characters 55-67\nCalled from file \"[43]\", line 1, characters 55-67\nCalled from file \"[43]\", line 1, characters 55-67\nCalled from file \"[43]\", line 1, characters 55-67\nCalled from file \"[43]\", line 1, characters 55-67\nCalled from file \"[43]\", line 1, characters 55-67\nCalled from file \"[43]\", line 1, characters 55-67\nCalled from file \"[43]\", line 1, characters 55-67\nCalled from file \"[43]\", line 1, characters 55-67\nCalled from file \"[43]\", line 1, characters 55-67\nCalled from file \"[43]\", line 1, characters 55-67\nCalled from file \"[43]\", line 1, characters 55-67\nCalled from file \"[43]\", line 1, characters 55-67\nCalled from file \"[43]\", line 1, characters 55-67\nCalled from file \"[43]\", line 1, characters 55-67\nCalled from file \"[43]\", line 1, characters 55-67\nCalled from file \"[43]\", line 1, characters 55-67\nCalled from file \"[43]\", line 1, characters 55-67\nCalled from file \"[43]\", line 1, characters 55-67\nCalled from file \"[43]\", line 1, characters 55-67\nCalled from file \"[43]\", line 1, characters 55-67\nCalled from file \"[43]\", line 1, characters 55-67\nCalled from file \"[43]\", line 1, characters 55-67\nCalled from file \"[43]\", line 1, characters 55-67\nCalled from file \"[43]\", line 1, characters 55-67\nCalled from file \"[43]\", line 1, characters 55-67\nCalled from file \"[43]\", line 1, characters 55-67\nCalled from file \"[43]\", line 1, characters 55-67\nCalled from file \"[43]\", line 1, characters 55-67\nCalled from file \"[43]\", line 1, characters 55-67\nCalled from file \"[43]\", line 1, characters 55-67\nCalled from file \"[43]\", line 1, characters 55-67\nCalled from file \"[43]\", line 1, characters 55-67\nCalled from file \"[43]\", line 1, characters 55-67\nCalled from file \"[43]\", line 1, characters 55-67\nCalled from file \"[43]\", line 1, characters 55-67\nCalled from file \"[43]\", line 1, characters 55-67\nCalled from file \"[43]\", line 1, characters 55-67\nCalled from file \"[43]\", line 1, characters 55-67\nCalled from file \"[43]\", line 1, characters 55-67\nCalled from file \"[43]\", line 1, characters 55-67\nCalled from file \"[43]\", line 1, characters 55-67\nCalled from file \"[43]\", line 1, characters 55-67\nCalled from file \"[43]\", line 1, characters 55-67\nCalled from file \"[43]\", line 1, characters 55-67\nCalled from file \"[43]\", line 1, characters 55-67\nCalled from file \"[43]\", line 1, characters 55-67\nCalled from file \"[43]\", line 1, characters 55-67\nCalled from file \"[43]\", line 1, characters 55-67\nCalled from file \"[43]\", line 1, characters 55-67\nCalled from file \"[43]\", line 1, characters 55-67\nCalled from file \"[43]\", line 1, characters 55-67\nCalled from file \"[43]\", line 1, characters 55-67\nCalled from file \"[43]\", line 1, characters 55-67\nCalled from file \"[43]\", line 1, characters 55-67\nCalled from file \"[43]\", line 1, characters 55-67\nCalled from file \"[43]\", line 1, characters 55-67\nCalled from file \"[43]\", line 1, characters 55-67\nCalled from file \"[43]\", line 1, characters 55-67\nCalled from file \"[43]\", line 1, characters 55-67\nCalled from file \"[43]\", line 1, characters 55-67\nCalled from file \"[43]\", line 1, characters 55-67\nCalled from file \"[43]\", line 1, characters 55-67\nCalled from file \"[43]\", line 1, characters 55-67\nCalled from file \"[43]\", line 1, characters 55-67\nCalled from file \"[43]\", line 1, characters 55-67\nCalled from file \"[43]\", line 1, characters 55-67\nCalled from file \"[43]\", line 1, characters 55-67\nCalled from file \"[43]\", line 1, characters 55-67\nCalled from file \"[43]\", line 1, characters 55-67\nCalled from file \"[43]\", line 1, characters 55-67\nCalled from file \"[43]\", line 1, characters 55-67\nCalled from file \"[43]\", line 1, characters 55-67\nCalled from file \"[43]\", line 1, characters 55-67\nCalled from file \"[43]\", line 1, characters 55-67\nCalled from file \"[43]\", line 1, characters 55-67\nCalled from file \"[43]\", line 1, characters 55-67\nCalled from file \"[43]\", line 1, characters 55-67\nCalled from file \"[43]\", line 1, characters 55-67\nCalled from file \"[43]\", line 1, characters 55-67\nCalled from file \"[43]\", line 1, characters 55-67\nCalled from file \"[43]\", line 1, characters 55-67\nCalled from file \"[43]\", line 1, characters 55-67\nCalled from file \"[43]\", line 1, characters 55-67\nCalled from file \"[43]\", line 1, characters 55-67\nCalled from file \"[43]\", line 1, characters 55-67\nCalled from file \"[43]\", line 1, characters 55-67\nCalled from file \"[43]\", line 1, characters 55-67\nCalled from file \"[43]\", line 1, characters 55-67\nCalled from file \"[43]\", line 1, characters 55-67\nCalled from file \"[43]\", line 1, characters 55-67\nCalled from file \"[43]\", line 1, characters 55-67\nCalled from file \"[43]\", line 1, characters 55-67\nCalled from file \"[43]\", line 1, characters 55-67\nCalled from file \"[43]\", line 1, characters 55-67\nCalled from file \"[43]\", line 1, characters 55-67\nCalled from file \"[43]\", line 1, characters 55-67\nCalled from file \"[43]\", line 1, characters 55-67\nCalled from file \"[43]\", line 1, characters 55-67\nCalled from file \"[43]\", line 1, characters 55-67\nCalled from file \"[43]\", line 1, characters 55-67\nCalled from file \"[43]\", line 1, characters 55-67\nCalled from file \"[43]\", line 1, characters 55-67\nCalled from file \"[43]\", line 1, characters 55-67\nCalled from file \"[43]\", line 1, characters 55-67\nCalled from file \"[43]\", line 1, characters 55-67\nCalled from file \"[43]\", line 1, characters 55-67\nCalled from file \"[43]\", line 1, characters 55-67\nCalled from file \"[43]\", line 1, characters 55-67\nCalled from file \"[43]\", line 1, characters 55-67\nCalled from file \"[43]\", line 1, characters 55-67\nCalled from file \"[43]\", line 1, characters 55-67\nCalled from file \"[43]\", line 1, characters 55-67\nCalled from file \"[43]\", line 1, characters 55-67\nCalled from file \"[43]\", line 1, characters 55-67\nCalled from file \"[43]\", line 1, characters 55-67\nCalled from file \"[43]\", line 1, characters 55-67\nCalled from file \"[43]\", line 1, characters 55-67\nCalled from file \"[43]\", line 1, characters 55-67\nCalled from file \"[43]\", line 1, characters 55-67\nCalled from file \"[43]\", line 1, characters 55-67\nCalled from file \"[43]\", line 1, characters 55-67\nCalled from file \"[43]\", line 1, characters 55-67\nCalled from file \"[43]\", line 1, characters 55-67\nCalled from file \"[43]\", line 1, characters 55-67\nCalled from file \"[43]\", line 1, characters 55-67\nCalled from file \"[43]\", line 1, characters 55-67\nCalled from file \"[43]\", line 1, characters 55-67\nCalled from file \"[43]\", line 1, characters 55-67\nCalled from file \"[43]\", line 1, characters 55-67\nCalled from file \"[43]\", line 1, characters 55-67\nCalled from file \"[43]\", line 1, characters 55-67\nCalled from file \"[43]\", line 1, characters 55-67\nCalled from file \"[43]\", line 1, characters 55-67\nCalled from file \"[43]\", line 1, characters 55-67\nCalled from file \"[43]\", line 1, characters 55-67\nCalled from file \"[43]\", line 1, characters 55-67\nCalled from file \"[43]\", line 1, characters 55-67\nCalled from file \"[43]\", line 1, characters 55-67\nCalled from file \"[43]\", line 1, characters 55-67\nCalled from file \"[43]\", line 1, characters 55-67\nCalled from file \"[43]\", line 1, characters 55-67\nCalled from file \"[43]\", line 1, characters 55-67\nCalled from file \"[43]\", line 1, characters 55-67\nCalled from file \"[43]\", line 1, characters 55-67\nCalled from file \"[43]\", line 1, characters 55-67\nCalled from file \"[43]\", line 1, characters 55-67\nCalled from file \"[43]\", line 1, characters 55-67\nCalled from file \"[43]\", line 1, characters 55-67\nCalled from file \"[43]\", line 1, characters 55-67\nCalled from file \"[43]\", line 1, characters 55-67\nCalled from file \"[43]\", line 1, characters 55-67\nCalled from file \"[43]\", line 1, characters 55-67\nCalled from file \"[43]\", line 1, characters 55-67\nCalled from file \"[43]\", line 1, characters 55-67\nCalled from file \"[43]\", line 1, characters 55-67\nCalled from file \"[43]\", line 1, characters 55-67\nCalled from file \"[43]\", line 1, characters 55-67\nCalled from file \"[43]\", line 1, characters 55-67\nCalled from file \"[43]\", line 1, characters 55-67\nCalled from file \"[43]\", line 1, characters 55-67\nCalled from file \"[43]\", line 1, characters 55-67\nCalled from file \"[43]\", line 1, characters 55-67\nCalled from file \"[43]\", line 1, characters 55-67\nCalled from file \"[43]\", line 1, characters 55-67\nCalled from file \"[43]\", line 1, characters 55-67\nCalled from file \"[43]\", line 1, characters 55-67\nCalled from file \"[43]\", line 1, characters 55-67\nCalled from file \"[43]\", line 1, characters 55-67\nCalled from file \"[43]\", line 1, characters 55-67\nCalled from file \"[43]\", line 1, characters 55-67\nCalled from file \"[43]\", line 1, characters 55-67\nCalled from file \"[43]\", line 1, characters 55-67\nCalled from file \"[43]\", line 1, characters 55-67\nCalled from file \"[43]\", line 1, characters 55-67\nCalled from file \"[43]\", line 1, characters 55-67\nCalled from file \"[43]\", line 1, characters 55-67\nCalled from file \"[43]\", line 1, characters 55-67\nCalled from file \"[43]\", line 1, characters 55-67\nCalled from file \"[43]\", line 1, characters 55-67\nCalled from file \"[43]\", line 1, characters 55-67\nCalled from file \"[43]\", line 1, characters 55-67\nCalled from file \"[43]\", line 1, characters 55-67\nCalled from file \"[43]\", line 1, characters 55-67\nCalled from file \"[43]\", line 1, characters 55-67\nCalled from file \"[43]\", line 1, characters 55-67\nCalled from file \"[43]\", line 1, characters 55-67\nCalled from file \"[43]\", line 1, characters 55-67\nCalled from file \"[43]\", line 1, characters 55-67\nCalled from file \"[43]\", line 1, characters 55-67\nCalled from file \"[43]\", line 1, characters 55-67\nCalled from file \"[43]\", line 1, characters 55-67\nCalled from file \"[43]\", line 1, characters 55-67\nCalled from file \"[43]\", line 1, characters 55-67\nCalled from file \"[43]\", line 1, characters 55-67\nCalled from file \"[43]\", line 1, characters 55-67\nCalled from file \"[43]\", line 1, characters 55-67\nCalled from file \"[43]\", line 1, characters 55-67\nCalled from file \"[43]\", line 1, characters 55-67\nCalled from file \"[43]\", line 1, characters 55-67\nCalled from file \"[43]\", line 1, characters 55-67\nCalled from file \"[43]\", line 1, characters 55-67\nCalled from file \"[43]\", line 1, characters 55-67\nCalled from file \"[43]\", line 1, characters 55-67\nCalled from file \"[43]\", line 1, characters 55-67\nCalled from file \"[43]\", line 1, characters 55-67\nCalled from file \"[43]\", line 1, characters 55-67\nCalled from file \"[43]\", line 1, characters 55-67\nCalled from file \"[43]\", line 1, characters 55-67\nCalled from file \"[43]\", line 1, characters 55-67\nCalled from file \"[43]\", line 1, characters 55-67\nCalled from file \"[43]\", line 1, characters 55-67\nCalled from file \"[43]\", line 1, characters 55-67\nCalled from file \"[43]\", line 1, characters 55-67\nCalled from file \"[43]\", line 1, characters 55-67\nCalled from file \"[43]\", line 1, characters 55-67\nCalled from file \"[43]\", line 1, characters 55-67\nCalled from file \"[43]\", line 1, characters 55-67\nCalled from file \"[43]\", line 1, characters 55-67\nCalled from file \"[43]\", line 1, characters 55-67\nCalled from file \"[43]\", line 1, characters 55-67\nCalled from file \"[43]\", line 1, characters 55-67\nCalled from file \"[43]\", line 1, characters 55-67\nCalled from file \"[43]\", line 1, characters 55-67\nCalled from file \"[43]\", line 1, characters 55-67\nCalled from file \"[43]\", line 1, characters 55-67\nCalled from file \"[43]\", line 1, characters 55-67\nCalled from file \"[43]\", line 1, characters 55-67\nCalled from file \"[43]\", line 1, characters 55-67\nCalled from file \"[43]\", line 1, characters 55-67\nCalled from file \"[43]\", line 1, characters 55-67\nCalled from file \"[43]\", line 1, characters 55-67\nCalled from file \"[43]\", line 1, characters 55-67\nCalled from file \"[43]\", line 1, characters 55-67\nCalled from file \"[43]\", line 1, characters 55-67\nCalled from file \"[43]\", line 1, characters 55-67\nCalled from file \"[43]\", line 1, characters 55-67\nCalled from file \"[43]\", line 1, characters 55-67\nCalled from file \"[43]\", line 1, characters 55-67\nCalled from file \"[43]\", line 1, characters 55-67\nCalled from file \"[43]\", line 1, characters 55-67\nCalled from file \"[43]\", line 1, characters 55-67\nCalled from file \"[43]\", line 1, characters 55-67\nCalled from file \"[43]\", line 1, characters 55-67\nCalled from file \"[43]\", line 1, characters 55-67\nCalled from file \"[43]\", line 1, characters 55-67\nCalled from file \"[43]\", line 1, characters 55-67\nCalled from file \"[43]\", line 1, characters 55-67\nCalled from file \"[43]\", line 1, characters 55-67\nCalled from file \"[43]\", line 1, characters 55-67\nCalled from file \"[43]\", line 1, characters 55-67\nCalled from file \"[43]\", line 1, characters 55-67\nCalled from file \"[43]\", line 1, characters 55-67\nCalled from file \"[43]\", line 1, characters 55-67\nCalled from file \"[43]\", line 1, characters 55-67\nCalled from file \"[43]\", line 1, characters 55-67\nCalled from file \"[43]\", line 1, characters 55-67\nCalled from file \"[43]\", line 1, characters 55-67\nCalled from file \"[43]\", line 1, characters 55-67\nCalled from file \"[43]\", line 1, characters 55-67\nCalled from file \"[43]\", line 1, characters 55-67\nCalled from file \"[43]\", line 1, characters 55-67\nCalled from file \"[43]\", line 1, characters 55-67\nCalled from file \"[43]\", line 1, characters 55-67\nCalled from file \"[43]\", line 1, characters 55-67\nCalled from file \"[43]\", line 1, characters 55-67\nCalled from file \"[43]\", line 1, characters 55-67\nCalled from file \"[43]\", line 1, characters 55-67\nCalled from file \"[43]\", line 1, characters 55-67\nCalled from file \"[43]\", line 1, characters 55-67\nCalled from file \"[43]\", line 1, characters 55-67\nCalled from file \"[43]\", line 1, characters 55-67\nCalled from file \"[43]\", line 1, characters 55-67\nCalled from file \"[43]\", line 1, characters 55-67\nCalled from file \"[43]\", line 1, characters 55-67\nCalled from file \"[43]\", line 1, characters 55-67\nCalled from file \"[43]\", line 1, characters 55-67\nCalled from file \"[43]\", line 1, characters 55-67\nCalled from file \"[43]\", line 1, characters 55-67\nCalled from file \"[43]\", line 1, characters 55-67\nCalled from file \"[43]\", line 1, characters 55-67\nCalled from file \"[43]\", line 1, characters 55-67\nCalled from file \"[43]\", line 1, characters 55-67\nCalled from file \"[43]\", line 1, characters 55-67\nCalled from file \"[43]\", line 1, characters 55-67\nCalled from file \"[43]\", line 1, characters 55-67\nCalled from file \"[43]\", line 1, characters 55-67\nCalled from file \"[43]\", line 1, characters 55-67\nCalled from file \"[43]\", line 1, characters 55-67\nCalled from file \"[43]\", line 1, characters 55-67\nCalled from file \"[43]\", line 1, characters 55-67\nCalled from file \"[43]\", line 1, characters 55-67\nCalled from file \"[43]\", line 1, characters 55-67\nCalled from file \"[43]\", line 1, characters 55-67\nCalled from file \"[43]\", line 1, characters 55-67\nCalled from file \"[43]\", line 1, characters 55-67\nCalled from file \"[43]\", line 1, characters 55-67\nCalled from file \"[43]\", line 1, characters 55-67\nCalled from file \"[43]\", line 1, characters 55-67\nCalled from file \"[43]\", line 1, characters 55-67\nCalled from file \"[43]\", line 1, characters 55-67\nCalled from file \"[43]\", line 1, characters 55-67\nCalled from file \"[43]\", line 1, characters 55-67\nCalled from file \"[43]\", line 1, characters 55-67\nCalled from file \"[43]\", line 1, characters 55-67\nCalled from file \"[43]\", line 1, characters 55-67\nCalled from file \"[43]\", line 1, characters 55-67\nCalled from file \"[43]\", line 1, characters 55-67\nCalled from file \"[43]\", line 1, characters 55-67\nCalled from file \"[43]\", line 1, characters 55-67\nCalled from file \"[43]\", line 1, characters 55-67\nCalled from file \"[43]\", line 1, characters 55-67\nCalled from file \"[43]\", line 1, characters 55-67\nCalled from file \"[43]\", line 1, characters 55-67\nCalled from file \"[43]\", line 1, characters 55-67\nCalled from file \"[43]\", line 1, characters 55-67\nCalled from file \"[43]\", line 1, characters 55-67\nCalled from file \"[43]\", line 1, characters 55-67\nCalled from file \"[43]\", line 1, characters 55-67\nCalled from file \"[43]\", line 1, characters 55-67\nCalled from file \"[43]\", line 1, characters 55-67\nCalled from file \"[43]\", line 1, characters 55-67\nCalled from file \"[43]\", line 1, characters 55-67\nCalled from file \"[43]\", line 1, characters 55-67\nCalled from file \"[43]\", line 1, characters 55-67\nCalled from file \"[43]\", line 1, characters 55-67\nCalled from file \"[43]\", line 1, characters 55-67\nCalled from file \"[43]\", line 1, characters 55-67\nCalled from file \"[43]\", line 1, characters 55-67\nCalled from file \"[43]\", line 1, characters 55-67\nCalled from file \"[43]\", line 1, characters 55-67\nCalled from file \"[43]\", line 1, characters 55-67\nCalled from file \"[43]\", line 1, characters 55-67\nCalled from file \"[43]\", line 1, characters 55-67\nCalled from file \"[43]\", line 1, characters 55-67\nCalled from file \"[43]\", line 1, characters 55-67\nCalled from file \"[43]\", line 1, characters 55-67\nCalled from file \"[43]\", line 1, characters 55-67\nCalled from file \"[43]\", line 1, characters 55-67\nCalled from file \"[43]\", line 1, characters 55-67\nCalled from file \"[43]\", line 1, characters 55-67\nCalled from file \"[43]\", line 1, characters 55-67\nCalled from file \"[43]\", line 1, characters 55-67\nCalled from file \"[43]\", line 1, characters 55-67\nCalled from file \"[43]\", line 1, characters 55-67\nCalled from file \"[43]\", line 1, characters 55-67\nCalled from file \"[43]\", line 1, characters 55-67\nCalled from file \"[43]\", line 1, characters 55-67\nCalled from file \"[43]\", line 1, characters 55-67\nCalled from file \"[43]\", line 1, characters 55-67\nCalled from file \"[43]\", line 1, characters 55-67\nCalled from file \"[43]\", line 1, characters 55-67\nCalled from file \"[43]\", line 1, characters 55-67\nCalled from file \"[43]\", line 1, characters 55-67\nCalled from file \"[43]\", line 1, characters 55-67\nCalled from file \"[43]\", line 1, characters 55-67\nCalled from file \"[43]\", line 1, characters 55-67\nCalled from file \"[43]\", line 1, characters 55-67\nCalled from file \"[43]\", line 1, characters 55-67\nCalled from file \"[43]\", line 1, characters 55-67\nCalled from file \"[43]\", line 1, characters 55-67\nCalled from file \"[43]\", line 1, characters 55-67\nCalled from file \"[43]\", line 1, characters 55-67\nCalled from file \"[43]\", line 1, characters 55-67\nCalled from file \"[43]\", line 1, characters 55-67\nCalled from file \"[43]\", line 1, characters 55-67\nCalled from file \"[43]\", line 1, characters 55-67\nCalled from file \"[43]\", line 1, characters 55-67\nCalled from file \"[43]\", line 1, characters 55-67\nCalled from file \"[43]\", line 1, characters 55-67\nCalled from file \"[43]\", line 1, characters 55-67\nCalled from file \"[43]\", line 1, characters 55-67\nCalled from file \"[43]\", line 1, characters 55-67\nCalled from file \"[43]\", line 1, characters 55-67\nCalled from file \"[43]\", line 1, characters 55-67\nCalled from file \"[43]\", line 1, characters 55-67\nCalled from file \"[43]\", line 1, characters 55-67\nCalled from file \"[43]\", line 1, characters 55-67\nCalled from file \"[43]\", line 1, characters 55-67\nCalled from file \"[43]\", line 1, characters 55-67\nCalled from file \"[43]\", line 1, characters 55-67\nCalled from file \"[43]\", line 1, characters 55-67\nCalled from file \"[43]\", line 1, characters 55-67\nCalled from file \"[43]\", line 1, characters 55-67\nCalled from file \"[43]\", line 1, characters 55-67\nCalled from file \"[43]\", line 1, characters 55-67\nCalled from file \"[43]\", line 1, characters 55-67\nCalled from file \"[43]\", line 1, characters 55-67\nCalled from file \"[43]\", line 1, characters 55-67\nCalled from file \"[43]\", line 1, characters 55-67\nCalled from file \"[43]\", line 1, characters 55-67\nCalled from file \"[43]\", line 1, characters 55-67\nCalled from file \"[43]\", line 1, characters 55-67\nCalled from file \"[43]\", line 1, characters 55-67\nCalled from file \"[43]\", line 1, characters 55-67\nCalled from file \"[43]\", line 1, characters 55-67\nCalled from file \"[43]\", line 1, characters 55-67\nCalled from file \"[43]\", line 1, characters 55-67\n\u001b[0m"
     ]
    }
   ],
   "source": [
    "to_string zero_ones"
   ]
  },
  {
   "cell_type": "markdown",
   "metadata": {
    "slideshow": {
     "slide_type": "slide"
    }
   },
   "source": [
    "## Pausing the execution\n",
    "\n",
    "* We need a way to pause the execution rather than recursively applying to the rest of the list. \n",
    "* Use **thunks**: `unit -> 'a` functions."
   ]
  },
  {
   "cell_type": "code",
   "execution_count": 45,
   "metadata": {},
   "outputs": [
    {
     "ename": "error",
     "evalue": "runtime_error",
     "output_type": "error",
     "traceback": [
      "\u001b[31mException: Failure \"error\".\nRaised at file \"stdlib.ml\", line 33, characters 22-33\nCalled from file \"[45]\", line 1, characters 8-24\nCalled from file \"toplevel/toploop.ml\", line 180, characters 17-56\n\u001b[0m"
     ]
    }
   ],
   "source": [
    "let v = failwith \"error\""
   ]
  },
  {
   "cell_type": "markdown",
   "metadata": {
    "slideshow": {
     "slide_type": "slide"
    }
   },
   "source": [
    "## Pausing the execution"
   ]
  },
  {
   "cell_type": "code",
   "execution_count": 46,
   "metadata": {},
   "outputs": [
    {
     "data": {
      "text/plain": [
       "val f : unit -> 'a = <fun>\n"
      ]
     },
     "execution_count": 46,
     "metadata": {},
     "output_type": "execute_result"
    }
   ],
   "source": [
    "let f = fun () -> failwith \"error\""
   ]
  },
  {
   "cell_type": "code",
   "execution_count": 47,
   "metadata": {},
   "outputs": [
    {
     "ename": "error",
     "evalue": "runtime_error",
     "output_type": "error",
     "traceback": [
      "\u001b[31mException: Failure \"error\".\nRaised at file \"stdlib.ml\", line 33, characters 22-33\nCalled from file \"toplevel/toploop.ml\", line 180, characters 17-56\n\u001b[0m"
     ]
    }
   ],
   "source": [
    "f ()"
   ]
  },
  {
   "cell_type": "markdown",
   "metadata": {
    "slideshow": {
     "slide_type": "slide"
    }
   },
   "source": [
    "## Streams again"
   ]
  },
  {
   "cell_type": "code",
   "execution_count": 48,
   "metadata": {},
   "outputs": [
    {
     "data": {
      "text/plain": [
       "type 'a stream = Cons of 'a * (unit -> 'a stream)\n"
      ]
     },
     "execution_count": 48,
     "metadata": {},
     "output_type": "execute_result"
    }
   ],
   "source": [
    "type 'a stream = Cons of 'a * (unit -> 'a stream)"
   ]
  },
  {
   "cell_type": "code",
   "execution_count": 49,
   "metadata": {},
   "outputs": [
    {
     "data": {
      "text/plain": [
       "val zero_ones : int stream = Cons (0, <fun>)\n"
      ]
     },
     "execution_count": 49,
     "metadata": {},
     "output_type": "execute_result"
    }
   ],
   "source": [
    "let rec zero_ones = Cons (0, fun () -> Cons (1, fun () -> zero_ones))"
   ]
  },
  {
   "cell_type": "code",
   "execution_count": 50,
   "metadata": {},
   "outputs": [
    {
     "data": {
      "text/plain": [
       "val hd : 'a stream -> 'a = <fun>\n"
      ]
     },
     "execution_count": 50,
     "metadata": {},
     "output_type": "execute_result"
    }
   ],
   "source": [
    "let hd (Cons (x, _)) = x"
   ]
  },
  {
   "cell_type": "code",
   "execution_count": 51,
   "metadata": {},
   "outputs": [
    {
     "data": {
      "text/plain": [
       "val tl : 'a stream -> 'a stream = <fun>\n"
      ]
     },
     "execution_count": 51,
     "metadata": {},
     "output_type": "execute_result"
    }
   ],
   "source": [
    "let tl (Cons (_, xs)) = xs ()"
   ]
  },
  {
   "cell_type": "markdown",
   "metadata": {
    "slideshow": {
     "slide_type": "slide"
    }
   },
   "source": [
    "## More Stream functions"
   ]
  },
  {
   "cell_type": "code",
   "execution_count": 52,
   "metadata": {},
   "outputs": [
    {
     "data": {
      "text/plain": [
       "val take : int -> 'a stream -> 'a list = <fun>\n"
      ]
     },
     "execution_count": 52,
     "metadata": {},
     "output_type": "execute_result"
    }
   ],
   "source": [
    "let rec take n s = \n",
    "  if n = 0 then []\n",
    "  else (hd s)::(take (n-1) (tl s))"
   ]
  },
  {
   "cell_type": "code",
   "execution_count": 53,
   "metadata": {},
   "outputs": [
    {
     "data": {
      "text/plain": [
       "- : int list = [0; 1; 0; 1; 0; 1; 0; 1; 0; 1]\n"
      ]
     },
     "execution_count": 53,
     "metadata": {},
     "output_type": "execute_result"
    }
   ],
   "source": [
    "take 10 zero_ones"
   ]
  },
  {
   "cell_type": "code",
   "execution_count": 54,
   "metadata": {},
   "outputs": [
    {
     "data": {
      "text/plain": [
       "val drop : int -> 'a stream -> 'a stream = <fun>\n"
      ]
     },
     "execution_count": 54,
     "metadata": {},
     "output_type": "execute_result"
    }
   ],
   "source": [
    "let rec drop n s =\n",
    "  if n = 0 then s\n",
    "  else drop (n-1) (tl s)"
   ]
  },
  {
   "cell_type": "code",
   "execution_count": 55,
   "metadata": {},
   "outputs": [
    {
     "data": {
      "text/plain": [
       "- : int stream = Cons (1, <fun>)\n"
      ]
     },
     "execution_count": 55,
     "metadata": {},
     "output_type": "execute_result"
    }
   ],
   "source": [
    "drop 1 zero_ones"
   ]
  },
  {
   "cell_type": "markdown",
   "metadata": {
    "slideshow": {
     "slide_type": "slide"
    }
   },
   "source": [
    "## Higher order functions on streams"
   ]
  },
  {
   "cell_type": "code",
   "execution_count": 56,
   "metadata": {},
   "outputs": [
    {
     "data": {
      "text/plain": [
       "val map : ('a -> 'b) -> 'a stream -> 'b stream = <fun>\n"
      ]
     },
     "execution_count": 56,
     "metadata": {},
     "output_type": "execute_result"
    }
   ],
   "source": [
    "let rec map f s = Cons (f (hd s), fun () -> map f (tl s))"
   ]
  },
  {
   "cell_type": "code",
   "execution_count": 57,
   "metadata": {},
   "outputs": [
    {
     "data": {
      "text/plain": [
       "val zero_ones_str : string stream = Cons (\"0\", <fun>)\n"
      ]
     },
     "execution_count": 57,
     "metadata": {},
     "output_type": "execute_result"
    }
   ],
   "source": [
    "let zero_ones_str = map string_of_int zero_ones"
   ]
  },
  {
   "cell_type": "code",
   "execution_count": 58,
   "metadata": {},
   "outputs": [
    {
     "data": {
      "text/plain": [
       "- : string list = [\"0\"; \"1\"; \"0\"; \"1\"; \"0\"; \"1\"; \"0\"; \"1\"; \"0\"; \"1\"]\n"
      ]
     },
     "execution_count": 58,
     "metadata": {},
     "output_type": "execute_result"
    }
   ],
   "source": [
    "take 10 zero_ones_str"
   ]
  },
  {
   "cell_type": "markdown",
   "metadata": {
    "slideshow": {
     "slide_type": "slide"
    }
   },
   "source": [
    "## Higher order functions on streams"
   ]
  },
  {
   "cell_type": "code",
   "execution_count": 59,
   "metadata": {},
   "outputs": [
    {
     "data": {
      "text/plain": [
       "val filter : ('a -> bool) -> 'a stream -> 'a stream = <fun>\n"
      ]
     },
     "execution_count": 59,
     "metadata": {},
     "output_type": "execute_result"
    }
   ],
   "source": [
    "(** [filter p s] returns a new stream where every element [x] in [s] \n",
    "    such that [p x = true] is removed *)\n",
    "let rec filter p s =\n",
    "  if p (hd s) then filter p (tl s)\n",
    "  else Cons (hd s, fun () -> filter p (tl s))"
   ]
  },
  {
   "cell_type": "code",
   "execution_count": 60,
   "metadata": {},
   "outputs": [
    {
     "data": {
      "text/plain": [
       "- : int list = [1; 1; 1; 1; 1; 1; 1; 1; 1; 1]\n"
      ]
     },
     "execution_count": 60,
     "metadata": {},
     "output_type": "execute_result"
    }
   ],
   "source": [
    "let s' = filter ((=) 0) zero_ones in\n",
    "take 10 s'"
   ]
  },
  {
   "cell_type": "markdown",
   "metadata": {
    "slideshow": {
     "slide_type": "slide"
    }
   },
   "source": [
    "## Higher order functions on streams"
   ]
  },
  {
   "cell_type": "code",
   "execution_count": 61,
   "metadata": {},
   "outputs": [
    {
     "data": {
      "text/plain": [
       "val zip : ('a -> 'b -> 'c) -> 'a stream -> 'b stream -> 'c stream = <fun>\n"
      ]
     },
     "execution_count": 61,
     "metadata": {},
     "output_type": "execute_result"
    }
   ],
   "source": [
    "let rec zip f s1 s2 = Cons (f (hd s1) (hd s2), fun () -> zip f (tl s1) (tl s2))"
   ]
  },
  {
   "cell_type": "code",
   "execution_count": 62,
   "metadata": {},
   "outputs": [
    {
     "data": {
      "text/plain": [
       "- : (int * string) stream = Cons ((0, \"0\"), <fun>)\n"
      ]
     },
     "execution_count": 62,
     "metadata": {},
     "output_type": "execute_result"
    }
   ],
   "source": [
    "zip (fun x y -> (x,y)) zero_ones zero_ones_str"
   ]
  },
  {
   "cell_type": "markdown",
   "metadata": {
    "slideshow": {
     "slide_type": "slide"
    }
   },
   "source": [
    "## Primes\n",
    "\n",
    "* **Sieve of Eratosthenes**: Neat way to compute primes.\n",
    "* Start with a stream `s` of `[2;3;4;.....]`.\n",
    "* At each step, \n",
    "  + `p = hd s` is a prime.\n",
    "  + return a new stream `s'` such that $\\forall x.x \\text{ mod } p \\notin s'$\n",
    "* In the first step,\n",
    "  + `prime = 2`\n",
    "  + `new stream = [3;5;7;9;11;13;15;17;....]`\n",
    "* In the second step,\n",
    "  + `prime = 3`\n",
    "  + `new stream = [5;7;11;13;17;19;23;....]`"
   ]
  },
  {
   "cell_type": "markdown",
   "metadata": {
    "slideshow": {
     "slide_type": "slide"
    }
   },
   "source": [
    "## Primes"
   ]
  },
  {
   "cell_type": "code",
   "execution_count": 63,
   "metadata": {},
   "outputs": [
    {
     "data": {
      "text/plain": [
       "val from : int -> int stream = <fun>\n"
      ]
     },
     "execution_count": 63,
     "metadata": {},
     "output_type": "execute_result"
    },
    {
     "data": {
      "text/plain": [
       "- : int stream = Cons (2, <fun>)\n"
      ]
     },
     "execution_count": 63,
     "metadata": {},
     "output_type": "execute_result"
    }
   ],
   "source": [
    "let rec from n = Cons (n, fun () -> from (n+1));;\n",
    "from 2"
   ]
  },
  {
   "cell_type": "code",
   "execution_count": 64,
   "metadata": {},
   "outputs": [
    {
     "data": {
      "text/plain": [
       "val primes_stream : int stream = Cons (2, <fun>)\n"
      ]
     },
     "execution_count": 64,
     "metadata": {},
     "output_type": "execute_result"
    }
   ],
   "source": [
    "let primes_stream =\n",
    "  let rec primes s = Cons (hd s, fun () -> \n",
    "    primes @@ filter (fun x -> x mod (hd s) = 0) (tl s))\n",
    "  in primes (from 2)"
   ]
  },
  {
   "cell_type": "code",
   "execution_count": 65,
   "metadata": {},
   "outputs": [
    {
     "data": {
      "text/plain": [
       "- : int list =\n",
       "[2; 3; 5; 7; 11; 13; 17; 19; 23; 29; 31; 37; 41; 43; 47; 53; 59; 61; 67; 71;\n",
       " 73; 79; 83; 89; 97; 101; 103; 107; 109; 113; 127; 131; 137; 139; 149; 151;\n",
       " 157; 163; 167; 173; 179; 181; 191; 193; 197; 199; 211; 223; 227; 229; 233;\n",
       " 239; 241; 251; 257; 263; 269; 271; 277; 281; 283; 293; 307; 311; 313; 317;\n",
       " 331; 337; 347; 349; 353; 359; 367; 373; 379; 383; 389; 397; 401; 409; 419;\n",
       " 421; 431; 433; 439; 443; 449; 457; 461; 463; 467; 479; 487; 491; 499; 503;\n",
       " 509; 521; 523; 541]\n"
      ]
     },
     "execution_count": 65,
     "metadata": {},
     "output_type": "execute_result"
    }
   ],
   "source": [
    "take 100 @@ primes_stream"
   ]
  },
  {
   "cell_type": "markdown",
   "metadata": {
    "slideshow": {
     "slide_type": "slide"
    }
   },
   "source": [
    "## Fibonacci sequence\n",
    "\n",
    "* Let's consider Fibonacci sequence\n",
    "  + `s1 = [1;1;2;3;5;8;13;...]`\n",
    "* Let's consider the tail of `s1`\n",
    "  + `s2 = [1;2;3;5;8;13;....]`\n",
    "* Let's zip `s1` and `s2` by adding together the elements:\n",
    "  + `s3 = [2;3;5;8;13;21;...]`\n",
    "  + `s3` is nothing but the tail of tail of fibonacci sequence. \n",
    "* If we were to prepend `[1;1]` to `s3` we will have the fibonacci sequence.\n",
    "\n"
   ]
  },
  {
   "cell_type": "markdown",
   "metadata": {
    "slideshow": {
     "slide_type": "slide"
    }
   },
   "source": [
    "## Fibonacci sequence"
   ]
  },
  {
   "cell_type": "code",
   "execution_count": 66,
   "metadata": {},
   "outputs": [
    {
     "data": {
      "text/plain": [
       "val fibs : int stream = Cons (1, <fun>)\n"
      ]
     },
     "execution_count": 66,
     "metadata": {},
     "output_type": "execute_result"
    }
   ],
   "source": [
    "let rec fibs = \n",
    "  Cons (1, fun () -> \n",
    "    Cons (1, fun () -> \n",
    "      zip (+) fibs (tl fibs)))"
   ]
  },
  {
   "cell_type": "code",
   "execution_count": 67,
   "metadata": {},
   "outputs": [
    {
     "data": {
      "text/plain": [
       "- : int list =\n",
       "[1; 1; 2; 3; 5; 8; 13; 21; 34; 55; 89; 144; 233; 377; 610; 987; 1597; 2584;\n",
       " 4181; 6765; 10946; 17711; 28657; 46368; 75025; 121393; 196418; 317811;\n",
       " 514229; 832040]\n"
      ]
     },
     "execution_count": 67,
     "metadata": {},
     "output_type": "execute_result"
    }
   ],
   "source": [
    "take 30 fibs"
   ]
  },
  {
   "cell_type": "markdown",
   "metadata": {
    "slideshow": {
     "slide_type": "slide"
    }
   },
   "source": [
    "## Fibonacci sequence\n",
    "\n",
    "* Each time we force the computation of the next element, we compute the fibonacci of previous element twice.\n",
    "  + Not immediately apparent, but this is equivalent to:\n",
    "\n",
    "```ocaml\n",
    "let rec fib n = if n < 2 then 1 else fib (n-1) + fib (n-2)\n",
    "```\n",
    "\n",
    "There is an exponential increase in the running time of `fib(n)` for each increase in `n`."
   ]
  },
  {
   "cell_type": "markdown",
   "metadata": {
    "slideshow": {
     "slide_type": "slide"
    }
   },
   "source": [
    "## Lazy Values\n",
    "\n",
    "* It would be nice to **save** the results of the execution for previously seen values and reuse them.\n",
    "  + This is the idea behind lazy values in OCaml.\n",
    "* Lazy values are the opt-in, explicit, **call-by-need** reduction strategy for OCaml\n",
    "  + Rest of the language is strict i.e, call-by-value\n",
    "* Lazy module in OCaml is:\n",
    "\n",
    "```ocaml\n",
    "module Lazy = struct\n",
    "  type 'a t = 'a lazy_t\n",
    "  val force : 'a t -> 'a\n",
    "end\n",
    "```\n",
    "\n",
    "OCaml has syntactic support for lazy values through the `lazy` keyword."
   ]
  },
  {
   "cell_type": "markdown",
   "metadata": {
    "slideshow": {
     "slide_type": "slide"
    }
   },
   "source": [
    "## Lazy values"
   ]
  },
  {
   "cell_type": "code",
   "execution_count": 68,
   "metadata": {},
   "outputs": [
    {
     "data": {
      "text/plain": [
       "val v : int lazy_t = <lazy>\n"
      ]
     },
     "execution_count": 68,
     "metadata": {},
     "output_type": "execute_result"
    }
   ],
   "source": [
    "let v = lazy (10 + (print_endline \"Hello\"; 20))"
   ]
  },
  {
   "cell_type": "code",
   "execution_count": 69,
   "metadata": {},
   "outputs": [
    {
     "name": "stdout",
     "output_type": "stream",
     "text": [
      "Hello\n"
     ]
    },
    {
     "data": {
      "text/plain": [
       "- : int = 30\n"
      ]
     },
     "execution_count": 69,
     "metadata": {},
     "output_type": "execute_result"
    }
   ],
   "source": [
    "Lazy.force v"
   ]
  },
  {
   "cell_type": "code",
   "execution_count": 70,
   "metadata": {},
   "outputs": [
    {
     "data": {
      "text/plain": [
       "- : int = 30\n"
      ]
     },
     "execution_count": 70,
     "metadata": {},
     "output_type": "execute_result"
    }
   ],
   "source": [
    "Lazy.force v"
   ]
  },
  {
   "cell_type": "markdown",
   "metadata": {
    "slideshow": {
     "slide_type": "slide"
    }
   },
   "source": [
    "## Lazy fib"
   ]
  },
  {
   "cell_type": "code",
   "execution_count": 71,
   "metadata": {},
   "outputs": [
    {
     "data": {
      "text/plain": [
       "val fib30lazy : int lazy_t = <lazy>\n"
      ]
     },
     "execution_count": 71,
     "metadata": {},
     "output_type": "execute_result"
    }
   ],
   "source": [
    "let fib30lazy = lazy (take 30 fibs |> List.rev |> List.hd)"
   ]
  },
  {
   "cell_type": "code",
   "execution_count": 72,
   "metadata": {},
   "outputs": [
    {
     "data": {
      "text/plain": [
       "- : int = 832040\n"
      ]
     },
     "execution_count": 72,
     "metadata": {},
     "output_type": "execute_result"
    }
   ],
   "source": [
    "Lazy.force fib30lazy"
   ]
  },
  {
   "cell_type": "code",
   "execution_count": 73,
   "metadata": {},
   "outputs": [
    {
     "data": {
      "text/plain": [
       "val fib31lazy : int = 1346269\n"
      ]
     },
     "execution_count": 73,
     "metadata": {},
     "output_type": "execute_result"
    }
   ],
   "source": [
    "let fib31lazy = take 31 fibs |> List.rev |> List.hd"
   ]
  },
  {
   "cell_type": "markdown",
   "metadata": {
    "slideshow": {
     "slide_type": "slide"
    }
   },
   "source": [
    "## Lazy stream\n",
    "\n",
    "Let's redefine the stream using lazy values. "
   ]
  },
  {
   "cell_type": "code",
   "execution_count": 74,
   "metadata": {},
   "outputs": [
    {
     "data": {
      "text/plain": [
       "type 'a stream = Cons of 'a * 'a stream Lazy.t\n"
      ]
     },
     "execution_count": 74,
     "metadata": {},
     "output_type": "execute_result"
    }
   ],
   "source": [
    "type 'a stream = Cons of 'a * 'a stream Lazy.t"
   ]
  },
  {
   "cell_type": "code",
   "execution_count": 75,
   "metadata": {},
   "outputs": [
    {
     "data": {
      "text/plain": [
       "val hd : 'a stream -> 'a = <fun>\n"
      ]
     },
     "execution_count": 75,
     "metadata": {},
     "output_type": "execute_result"
    },
    {
     "data": {
      "text/plain": [
       "val tl : 'a stream -> 'a stream = <fun>\n"
      ]
     },
     "execution_count": 75,
     "metadata": {},
     "output_type": "execute_result"
    },
    {
     "data": {
      "text/plain": [
       "val take : int -> 'a stream -> 'a list = <fun>\n"
      ]
     },
     "execution_count": 75,
     "metadata": {},
     "output_type": "execute_result"
    },
    {
     "data": {
      "text/plain": [
       "val zip : ('a -> 'b -> 'c) -> 'a stream -> 'b stream -> 'c stream = <fun>\n"
      ]
     },
     "execution_count": 75,
     "metadata": {},
     "output_type": "execute_result"
    }
   ],
   "source": [
    "let hd (Cons (x,l)) = x\n",
    "let tl (Cons (x,l)) = Lazy.force l\n",
    "let rec take n s = \n",
    "  if n = 0 then [] else (hd s)::(take (n-1) (tl s))\n",
    "let rec zip f s1 s2 = \n",
    "  Cons (f (hd s1) (hd s2), lazy (zip f (tl s1) (tl s2)))"
   ]
  },
  {
   "cell_type": "markdown",
   "metadata": {
    "slideshow": {
     "slide_type": "slide"
    }
   },
   "source": [
    "## Fibs Lazy Streams"
   ]
  },
  {
   "cell_type": "code",
   "execution_count": 76,
   "metadata": {},
   "outputs": [
    {
     "data": {
      "text/plain": [
       "val fibslazystream : int stream = Cons (1, <lazy>)\n"
      ]
     },
     "execution_count": 76,
     "metadata": {},
     "output_type": "execute_result"
    }
   ],
   "source": [
    "let rec fibslazystream = \n",
    "  Cons (1, lazy (\n",
    "    Cons (1, lazy (\n",
    "      zip (+) fibslazystream (tl fibslazystream)))))"
   ]
  },
  {
   "cell_type": "code",
   "execution_count": 77,
   "metadata": {},
   "outputs": [
    {
     "data": {
      "text/plain": [
       "- : int list =\n",
       "[1; 1; 2; 3; 5; 8; 13; 21; 34; 55; 89; 144; 233; 377; 610; 987; 1597; 2584;\n",
       " 4181; 6765; 10946; 17711; 28657; 46368; 75025; 121393; 196418; 317811;\n",
       " 514229; 832040]\n"
      ]
     },
     "execution_count": 77,
     "metadata": {},
     "output_type": "execute_result"
    }
   ],
   "source": [
    "take 30 fibslazystream"
   ]
  },
  {
   "cell_type": "markdown",
   "metadata": {
    "slideshow": {
     "slide_type": "-"
    }
   },
   "source": [
    "You can see that this is fast!"
   ]
  },
  {
   "cell_type": "markdown",
   "metadata": {
    "slideshow": {
     "slide_type": "slide"
    }
   },
   "source": [
    "## Memoization\n",
    "\n",
    "* Lazy values in OCaml are a specific efficient implementation of the general idea of caching called **Memoization**.\n",
    "  + Add caching to functions to retrieve results fast. "
   ]
  },
  {
   "cell_type": "code",
   "execution_count": 78,
   "metadata": {},
   "outputs": [
    {
     "data": {
      "text/plain": [
       "val memo : ('a -> 'b) -> 'a -> 'b = <fun>\n"
      ]
     },
     "execution_count": 78,
     "metadata": {},
     "output_type": "execute_result"
    }
   ],
   "source": [
    "let memo f = \n",
    "  let cache = Hashtbl.create 16 in\n",
    "  fun v -> \n",
    "    match Hashtbl.find_opt cache v with\n",
    "    | None -> \n",
    "        let res = f v in \n",
    "        Hashtbl.add cache v res;\n",
    "        res\n",
    "    | Some res -> res"
   ]
  },
  {
   "cell_type": "markdown",
   "metadata": {
    "slideshow": {
     "slide_type": "slide"
    }
   },
   "source": [
    "## Expensive identity"
   ]
  },
  {
   "cell_type": "code",
   "execution_count": 79,
   "metadata": {},
   "outputs": [
    {
     "data": {
      "text/plain": [
       "val spin : int -> unit = <fun>\n"
      ]
     },
     "execution_count": 79,
     "metadata": {},
     "output_type": "execute_result"
    }
   ],
   "source": [
    "let rec spin n = if n = 0 then () else spin (n-1)"
   ]
  },
  {
   "cell_type": "code",
   "execution_count": 80,
   "metadata": {},
   "outputs": [
    {
     "data": {
      "text/plain": [
       "val expensive_id : 'a -> 'a = <fun>\n"
      ]
     },
     "execution_count": 80,
     "metadata": {},
     "output_type": "execute_result"
    }
   ],
   "source": [
    "let expensive_id x = spin 200000000; x"
   ]
  },
  {
   "cell_type": "code",
   "execution_count": 81,
   "metadata": {},
   "outputs": [
    {
     "data": {
      "text/plain": [
       "- : int = 10\n"
      ]
     },
     "execution_count": 81,
     "metadata": {},
     "output_type": "execute_result"
    }
   ],
   "source": [
    "expensive_id 10"
   ]
  },
  {
   "cell_type": "markdown",
   "metadata": {
    "slideshow": {
     "slide_type": "slide"
    }
   },
   "source": [
    "## Memoizing expensive identity"
   ]
  },
  {
   "cell_type": "code",
   "execution_count": 82,
   "metadata": {},
   "outputs": [
    {
     "data": {
      "text/plain": [
       "val memoized_expensive_id : '_weak1 -> '_weak1 = <fun>\n"
      ]
     },
     "execution_count": 82,
     "metadata": {},
     "output_type": "execute_result"
    }
   ],
   "source": [
    "let memoized_expensive_id = memo expensive_id"
   ]
  },
  {
   "cell_type": "code",
   "execution_count": 83,
   "metadata": {},
   "outputs": [
    {
     "data": {
      "text/plain": [
       "- : int = 11\n"
      ]
     },
     "execution_count": 83,
     "metadata": {},
     "output_type": "execute_result"
    }
   ],
   "source": [
    "memoized_expensive_id 11"
   ]
  },
  {
   "cell_type": "markdown",
   "metadata": {
    "slideshow": {
     "slide_type": "slide"
    }
   },
   "source": [
    "## Memoizing recursive functions\n",
    "\n",
    "* Memoizing recursive functions is a bit more tricky.\n",
    "  + We need to tie the **recursive knot**"
   ]
  },
  {
   "cell_type": "code",
   "execution_count": 84,
   "metadata": {},
   "outputs": [
    {
     "data": {
      "text/plain": [
       "val fib : int -> int = <fun>\n"
      ]
     },
     "execution_count": 84,
     "metadata": {},
     "output_type": "execute_result"
    }
   ],
   "source": [
    "let rec fib n = \n",
    "  if n < 2 then 1 else fib(n-2) + fib(n-1)"
   ]
  },
  {
   "cell_type": "code",
   "execution_count": 85,
   "metadata": {},
   "outputs": [
    {
     "data": {
      "text/plain": [
       "- : int = 165580141\n"
      ]
     },
     "execution_count": 85,
     "metadata": {},
     "output_type": "execute_result"
    }
   ],
   "source": [
    "fib 40"
   ]
  },
  {
   "cell_type": "markdown",
   "metadata": {
    "slideshow": {
     "slide_type": "slide"
    }
   },
   "source": [
    "## Memoizing recursive functions"
   ]
  },
  {
   "cell_type": "markdown",
   "metadata": {},
   "source": [
    "Simply doing `let memo_fib = memo fib` will only memoize the outer calls and not the recursive calls."
   ]
  },
  {
   "cell_type": "code",
   "execution_count": 86,
   "metadata": {},
   "outputs": [
    {
     "data": {
      "text/plain": [
       "val memo_fib : int -> int = <fun>\n"
      ]
     },
     "execution_count": 86,
     "metadata": {},
     "output_type": "execute_result"
    }
   ],
   "source": [
    "let memo_fib = memo fib"
   ]
  },
  {
   "cell_type": "code",
   "execution_count": 101,
   "metadata": {},
   "outputs": [
    {
     "data": {
      "text/plain": [
       "- : int = 165580141\n"
      ]
     },
     "execution_count": 101,
     "metadata": {},
     "output_type": "execute_result"
    }
   ],
   "source": [
    "memo_fib 40"
   ]
  },
  {
   "cell_type": "markdown",
   "metadata": {
    "slideshow": {
     "slide_type": "slide"
    }
   },
   "source": [
    "## Tying the recursive knot\n",
    "\n",
    "This function should remind you of the definition we used for Y combinator."
   ]
  },
  {
   "cell_type": "code",
   "execution_count": 88,
   "metadata": {},
   "outputs": [
    {
     "data": {
      "text/plain": [
       "val fib_norec : (int -> int) -> int -> int = <fun>\n"
      ]
     },
     "execution_count": 88,
     "metadata": {},
     "output_type": "execute_result"
    }
   ],
   "source": [
    "let fib_norec f n = if n < 2 then 1 else f (n-1) + f(n-2)"
   ]
  },
  {
   "cell_type": "markdown",
   "metadata": {},
   "source": [
    "The idea is to provide an `f` which is the memoized version of \n",
    "\n",
    "```ocaml\n",
    "let rec f n = if n < 2 then 1 else f (n-1) + f(n-2)\n",
    "```\n",
    "\n",
    "We will use a **reference** to tie the knot."
   ]
  },
  {
   "cell_type": "markdown",
   "metadata": {
    "slideshow": {
     "slide_type": "slide"
    }
   },
   "source": [
    "## Tying the recursive knot\n",
    "\n",
    "`memo_rec` will memoize recursive function that take an explicit recursive function argument such as `fib_norec`."
   ]
  },
  {
   "cell_type": "code",
   "execution_count": 89,
   "metadata": {},
   "outputs": [
    {
     "data": {
      "text/plain": [
       "val memo_rec : (('a -> 'b) -> 'a -> 'b) -> 'a -> 'b = <fun>\n"
      ]
     },
     "execution_count": 89,
     "metadata": {},
     "output_type": "execute_result"
    }
   ],
   "source": [
    "let memo_rec f_norec =\n",
    "  (* define a reference [f] to a function which will never be invoked *)\n",
    "  let f : ('a -> 'b) ref = ref (fun _ -> assert false) in\n",
    "  (* memoize the \"eta-expanded\" [f_norec] function by dereferencing [f]. *)\n",
    "  let f_rec_memo = memo (fun (x : 'a) -> f_norec !f x) in\n",
    "                                      (* [f] is not dereferenced yet *)\n",
    "  f := f_rec_memo; (* update [f] to the recursive memoized function *)\n",
    "  f_rec_memo"
   ]
  },
  {
   "cell_type": "code",
   "execution_count": 90,
   "metadata": {},
   "outputs": [
    {
     "data": {
      "text/plain": [
       "val fib_memo : int -> int = <fun>\n"
      ]
     },
     "execution_count": 90,
     "metadata": {},
     "output_type": "execute_result"
    }
   ],
   "source": [
    "let fib_memo = memo_rec fib_norec"
   ]
  },
  {
   "cell_type": "code",
   "execution_count": 102,
   "metadata": {},
   "outputs": [
    {
     "data": {
      "text/plain": [
       "- : int = 165580141\n"
      ]
     },
     "execution_count": 102,
     "metadata": {},
     "output_type": "execute_result"
    }
   ],
   "source": [
    "fib_memo 40"
   ]
  },
  {
   "cell_type": "markdown",
   "metadata": {
    "slideshow": {
     "slide_type": "slide"
    }
   },
   "source": [
    "## Edit distance\n",
    "\n",
    "* Memoization is a general solution for **dynamic programming**.\n",
    "* Let's compute **edit distance** (aka **Levenshtein distance**) between two strings.\n",
    "* Example: \n",
    "   * edit_distance(\"kitten\",\"sitting\") = 3\n",
    "   * $\\colorred{k}$itten -> $\\colorred{s}$itten\n",
    "   * sitt$\\colorred{e}$n -> sitt$\\colorred{i}$n\n",
    "   * sittin -> sittin$\\colorred{g}$"
   ]
  },
  {
   "cell_type": "markdown",
   "metadata": {
    "slideshow": {
     "slide_type": "slide"
    }
   },
   "source": [
    "## Timing the execution"
   ]
  },
  {
   "cell_type": "code",
   "execution_count": 92,
   "metadata": {
    "slideshow": {
     "slide_type": "-"
    }
   },
   "outputs": [
    {
     "data": {
      "text/plain": [
       "val time_it : ('a -> 'b) -> 'a -> 'b * float = <fun>\n"
      ]
     },
     "execution_count": 92,
     "metadata": {},
     "output_type": "execute_result"
    }
   ],
   "source": [
    "(* Returns the execution time of [f v] in milliseconds *)\n",
    "let time_it f v =\n",
    "  let s = Unix.gettimeofday() in\n",
    "  let res = f v in\n",
    "  let e = Unix.gettimeofday () in\n",
    "  (res, (e -. s) *. 1000.)"
   ]
  },
  {
   "cell_type": "markdown",
   "metadata": {
    "slideshow": {
     "slide_type": "slide"
    }
   },
   "source": [
    "## Edit distance"
   ]
  },
  {
   "cell_type": "code",
   "execution_count": 93,
   "metadata": {
    "slideshow": {
     "slide_type": "-"
    }
   },
   "outputs": [
    {
     "data": {
      "text/plain": [
       "val edit_distance : ?log:bool -> string * string -> int = <fun>\n"
      ]
     },
     "execution_count": 93,
     "metadata": {},
     "output_type": "execute_result"
    }
   ],
   "source": [
    "let rec edit_distance ?log (s,t) = \n",
    "  let open String in\n",
    "  if log = Some true then print_endline (s ^ \" \" ^ t);\n",
    "  match String.length s, String.length t with\n",
    "  | 0,x | x,0 -> x\n",
    "  | len_s, len_t ->\n",
    "    let s' = sub s 0 (len_s - 1) in\n",
    "    let t' = sub t 0 (len_t - 1) in\n",
    "    List.fold_left (fun acc v -> min acc v) max_int [\n",
    "      edit_distance ?log (s',t) + 1; (* insert at end of s *)\n",
    "      edit_distance ?log (s,t') + 1; (* delete from end of s *)\n",
    "      edit_distance ?log (s',t') +   \n",
    "        if get s (len_s-1) = get t (len_t-1) then 0 else 1\n",
    "    ]"
   ]
  },
  {
   "cell_type": "markdown",
   "metadata": {
    "slideshow": {
     "slide_type": "slide"
    }
   },
   "source": [
    "## Edit distance"
   ]
  },
  {
   "cell_type": "code",
   "execution_count": 94,
   "metadata": {},
   "outputs": [
    {
     "name": "stdout",
     "output_type": "stream",
     "text": [
      "OCaml ocaml\n",
      "OCam ocam\n",
      "OCa oca\n",
      "OC oc\n",
      "O o\n",
      " \n",
      "O \n",
      " o\n",
      "OC o\n",
      "O \n",
      "OC \n",
      "O o\n",
      " \n",
      "O \n",
      " o\n",
      "O oc\n",
      " o\n",
      "O o\n",
      " \n",
      "O \n",
      " o\n",
      " oc\n",
      "OCa oc\n",
      "OC o\n",
      "O \n",
      "OC \n",
      "O o\n",
      " \n",
      "O \n",
      " o\n",
      "OCa o\n",
      "OC \n",
      "OCa \n",
      "OC o\n",
      "O \n",
      "OC \n",
      "O o\n",
      " \n",
      "O \n",
      " o\n",
      "OC oc\n",
      "O o\n",
      " \n",
      "O \n",
      " o\n",
      "OC o\n",
      "O \n",
      "OC \n",
      "O o\n",
      " \n",
      "O \n",
      " o\n",
      "O oc\n",
      " o\n",
      "O o\n",
      " \n",
      "O \n",
      " o\n",
      " oc\n",
      "OC oca\n",
      "O oc\n",
      " o\n",
      "O o\n",
      " \n",
      "O \n",
      " o\n",
      " oc\n",
      "OC oc\n",
      "O o\n",
      " \n",
      "O \n",
      " o\n",
      "OC o\n",
      "O \n",
      "OC \n",
      "O o\n",
      " \n",
      "O \n",
      " o\n",
      "O oc\n",
      " o\n",
      "O o\n",
      " \n",
      "O \n",
      " o\n",
      " oc\n",
      "O oca\n",
      " oc\n",
      "O oc\n",
      " o\n",
      "O o\n",
      " \n",
      "O \n",
      " o\n",
      " oc\n",
      " oca\n",
      "OCam oca\n",
      "OCa oc\n",
      "OC o\n",
      "O \n",
      "OC \n",
      "O o\n",
      " \n",
      "O \n",
      " o\n",
      "OCa o\n",
      "OC \n",
      "OCa \n",
      "OC o\n",
      "O \n",
      "OC \n",
      "O o\n",
      " \n",
      "O \n",
      " o\n",
      "OC oc\n",
      "O o\n",
      " \n",
      "O \n",
      " o\n",
      "OC o\n",
      "O \n",
      "OC \n",
      "O o\n",
      " \n",
      "O \n",
      " o\n",
      "O oc\n",
      " o\n",
      "O o\n",
      " \n",
      "O \n",
      " o\n",
      " oc\n",
      "OCam oc\n",
      "OCa o\n",
      "OC \n",
      "OCa \n",
      "OC o\n",
      "O \n",
      "OC \n",
      "O o\n",
      " \n",
      "O \n",
      " o\n",
      "OCam o\n",
      "OCa \n",
      "OCam \n",
      "OCa o\n",
      "OC \n",
      "OCa \n",
      "OC o\n",
      "O \n",
      "OC \n",
      "O o\n",
      " \n",
      "O \n",
      " o\n",
      "OCa oc\n",
      "OC o\n",
      "O \n",
      "OC \n",
      "O o\n",
      " \n",
      "O \n",
      " o\n",
      "OCa o\n",
      "OC \n",
      "OCa \n",
      "OC o\n",
      "O \n",
      "OC \n",
      "O o\n",
      " \n",
      "O \n",
      " o\n",
      "OC oc\n",
      "O o\n",
      " \n",
      "O \n",
      " o\n",
      "OC o\n",
      "O \n",
      "OC \n",
      "O o\n",
      " \n",
      "O \n",
      " o\n",
      "O oc\n",
      " o\n",
      "O o\n",
      " \n",
      "O \n",
      " o\n",
      " oc\n",
      "OCa oca\n",
      "OC oc\n",
      "O o\n",
      " \n",
      "O \n",
      " o\n",
      "OC o\n",
      "O \n",
      "OC \n",
      "O o\n",
      " \n",
      "O \n",
      " o\n",
      "O oc\n",
      " o\n",
      "O o\n",
      " \n",
      "O \n",
      " o\n",
      " oc\n",
      "OCa oc\n",
      "OC o\n",
      "O \n",
      "OC \n",
      "O o\n",
      " \n",
      "O \n",
      " o\n",
      "OCa o\n",
      "OC \n",
      "OCa \n",
      "OC o\n",
      "O \n",
      "OC \n",
      "O o\n",
      " \n",
      "O \n",
      " o\n",
      "OC oc\n",
      "O o\n",
      " \n",
      "O \n",
      " o\n",
      "OC o\n",
      "O \n",
      "OC \n",
      "O o\n",
      " \n",
      "O \n",
      " o\n",
      "O oc\n",
      " o\n",
      "O o\n",
      " \n",
      "O \n",
      " o\n",
      " oc\n",
      "OC oca\n",
      "O oc\n",
      " o\n",
      "O o\n",
      " \n",
      "O \n",
      " o\n",
      " oc\n",
      "OC oc\n",
      "O o\n",
      " \n",
      "O \n",
      " o\n",
      "OC o\n",
      "O \n",
      "OC \n",
      "O o\n",
      " \n",
      "O \n",
      " o\n",
      "O oc\n",
      " o\n",
      "O o\n",
      " \n",
      "O \n",
      " o\n",
      " oc\n",
      "O oca\n",
      " oc\n",
      "O oc\n",
      " o\n",
      "O o\n",
      " \n",
      "O \n",
      " o\n",
      " oc\n",
      " oca\n",
      "OCa ocam\n",
      "OC oca\n",
      "O oc\n",
      " o\n",
      "O o\n",
      " \n",
      "O \n",
      " o\n",
      " oc\n",
      "OC oc\n",
      "O o\n",
      " \n",
      "O \n",
      " o\n",
      "OC o\n",
      "O \n",
      "OC \n",
      "O o\n",
      " \n",
      "O \n",
      " o\n",
      "O oc\n",
      " o\n",
      "O o\n",
      " \n",
      "O \n",
      " o\n",
      " oc\n",
      "O oca\n",
      " oc\n",
      "O oc\n",
      " o\n",
      "O o\n",
      " \n",
      "O \n",
      " o\n",
      " oc\n",
      " oca\n",
      "OCa oca\n",
      "OC oc\n",
      "O o\n",
      " \n",
      "O \n",
      " o\n",
      "OC o\n",
      "O \n",
      "OC \n",
      "O o\n",
      " \n",
      "O \n",
      " o\n",
      "O oc\n",
      " o\n",
      "O o\n",
      " \n",
      "O \n",
      " o\n",
      " oc\n",
      "OCa oc\n",
      "OC o\n",
      "O \n",
      "OC \n",
      "O o\n",
      " \n",
      "O \n",
      " o\n",
      "OCa o\n",
      "OC \n",
      "OCa \n",
      "OC o\n",
      "O \n",
      "OC \n",
      "O o\n",
      " \n",
      "O \n",
      " o\n",
      "OC oc\n",
      "O o\n",
      " \n",
      "O \n",
      " o\n",
      "OC o\n",
      "O \n",
      "OC \n",
      "O o\n",
      " \n",
      "O \n",
      " o\n",
      "O oc\n",
      " o\n",
      "O o\n",
      " \n",
      "O \n",
      " o\n",
      " oc\n",
      "OC oca\n",
      "O oc\n",
      " o\n",
      "O o\n",
      " \n",
      "O \n",
      " o\n",
      " oc\n",
      "OC oc\n",
      "O o\n",
      " \n",
      "O \n",
      " o\n",
      "OC o\n",
      "O \n",
      "OC \n",
      "O o\n",
      " \n",
      "O \n",
      " o\n",
      "O oc\n",
      " o\n",
      "O o\n",
      " \n",
      "O \n",
      " o\n",
      " oc\n",
      "O oca\n",
      " oc\n",
      "O oc\n",
      " o\n",
      "O o\n",
      " \n",
      "O \n",
      " o\n",
      " oc\n",
      " oca\n",
      "OC ocam\n",
      "O oca\n",
      " oc\n",
      "O oc\n",
      " o\n",
      "O o\n",
      " \n",
      "O \n",
      " o\n",
      " oc\n",
      " oca\n",
      "OC oca\n",
      "O oc\n",
      " o\n",
      "O o\n",
      " \n",
      "O \n",
      " o\n",
      " oc\n",
      "OC oc\n",
      "O o\n",
      " \n",
      "O \n",
      " o\n",
      "OC o\n",
      "O \n",
      "OC \n",
      "O o\n",
      " \n",
      "O \n",
      " o\n",
      "O oc\n",
      " o\n",
      "O o\n",
      " \n",
      "O \n",
      " o\n",
      " oc\n",
      "O oca\n",
      " oc\n",
      "O oc\n",
      " o\n",
      "O o\n",
      " \n",
      "O \n",
      " o\n",
      " oc\n",
      " oca\n",
      "O ocam\n",
      " oca\n",
      "O oca\n",
      " oc\n",
      "O oc\n",
      " o\n",
      "O o\n",
      " \n",
      "O \n",
      " o\n",
      " oc\n",
      " oca\n",
      " ocam\n",
      "OCaml ocam\n",
      "OCam oca\n",
      "OCa oc\n",
      "OC o\n",
      "O \n",
      "OC \n",
      "O o\n",
      " \n",
      "O \n",
      " o\n",
      "OCa o\n",
      "OC \n",
      "OCa \n",
      "OC o\n",
      "O \n",
      "OC \n",
      "O o\n",
      " \n",
      "O \n",
      " o\n",
      "OC oc\n",
      "O o\n",
      " \n",
      "O \n",
      " o\n",
      "OC o\n",
      "O \n",
      "OC \n",
      "O o\n",
      " \n",
      "O \n",
      " o\n",
      "O oc\n",
      " o\n",
      "O o\n",
      " \n",
      "O \n",
      " o\n",
      " oc\n",
      "OCam oc\n",
      "OCa o\n",
      "OC \n",
      "OCa \n",
      "OC o\n",
      "O \n",
      "OC \n",
      "O o\n",
      " \n",
      "O \n",
      " o\n",
      "OCam o\n",
      "OCa \n",
      "OCam \n",
      "OCa o\n",
      "OC \n",
      "OCa \n",
      "OC o\n",
      "O \n",
      "OC \n",
      "O o\n",
      " \n",
      "O \n",
      " o\n",
      "OCa oc\n",
      "OC o\n",
      "O \n",
      "OC \n",
      "O o\n",
      " \n",
      "O \n",
      " o\n",
      "OCa o\n",
      "OC \n",
      "OCa \n",
      "OC o\n",
      "O \n",
      "OC \n",
      "O o\n",
      " \n",
      "O \n",
      " o\n",
      "OC oc\n",
      "O o\n",
      " \n",
      "O \n",
      " o\n",
      "OC o\n",
      "O \n",
      "OC \n",
      "O o\n",
      " \n",
      "O \n",
      " o\n",
      "O oc\n",
      " o\n",
      "O o\n",
      " \n",
      "O \n",
      " o\n",
      " oc\n",
      "OCa oca\n",
      "OC oc\n",
      "O o\n",
      " \n",
      "O \n",
      " o\n",
      "OC o\n",
      "O \n",
      "OC \n",
      "O o\n",
      " \n",
      "O \n",
      " o\n",
      "O oc\n",
      " o\n",
      "O o\n",
      " \n",
      "O \n",
      " o\n",
      " oc\n",
      "OCa oc\n",
      "OC o\n",
      "O \n",
      "OC \n",
      "O o\n",
      " \n",
      "O \n",
      " o\n",
      "OCa o\n",
      "OC \n",
      "OCa \n",
      "OC o\n",
      "O \n",
      "OC \n",
      "O o\n",
      " \n",
      "O \n",
      " o\n",
      "OC oc\n",
      "O o\n",
      " \n",
      "O \n",
      " o\n",
      "OC o\n",
      "O \n",
      "OC \n",
      "O o\n",
      " \n",
      "O \n",
      " o\n",
      "O oc\n",
      " o\n",
      "O o\n",
      " \n",
      "O \n",
      " o\n",
      " oc\n",
      "OC oca\n",
      "O oc\n",
      " o\n",
      "O o\n",
      " \n",
      "O \n",
      " o\n",
      " oc\n",
      "OC oc\n",
      "O o\n",
      " \n",
      "O \n",
      " o\n",
      "OC o\n",
      "O \n",
      "OC \n",
      "O o\n",
      " \n",
      "O \n",
      " o\n",
      "O oc\n",
      " o\n",
      "O o\n",
      " \n",
      "O \n",
      " o\n",
      " oc\n",
      "O oca\n",
      " oc\n",
      "O oc\n",
      " o\n",
      "O o\n",
      " \n",
      "O \n",
      " o\n",
      " oc\n",
      " oca\n",
      "OCaml oca\n",
      "OCam oc\n",
      "OCa o\n",
      "OC \n",
      "OCa \n",
      "OC o\n",
      "O \n",
      "OC \n",
      "O o\n",
      " \n",
      "O \n",
      " o\n",
      "OCam o\n",
      "OCa \n",
      "OCam \n",
      "OCa o\n",
      "OC \n",
      "OCa \n",
      "OC o\n",
      "O \n",
      "OC \n",
      "O o\n",
      " \n",
      "O \n",
      " o\n",
      "OCa oc\n",
      "OC o\n",
      "O \n",
      "OC \n",
      "O o\n",
      " \n",
      "O \n",
      " o\n",
      "OCa o\n",
      "OC \n",
      "OCa \n",
      "OC o\n",
      "O \n",
      "OC \n",
      "O o\n",
      " \n",
      "O \n",
      " o\n",
      "OC oc\n",
      "O o\n",
      " \n",
      "O \n",
      " o\n",
      "OC o\n",
      "O \n",
      "OC \n",
      "O o\n",
      " \n",
      "O \n",
      " o\n",
      "O oc\n",
      " o\n",
      "O o\n",
      " \n",
      "O \n",
      " o\n",
      " oc\n",
      "OCaml oc\n",
      "OCam o\n",
      "OCa \n",
      "OCam \n",
      "OCa o\n",
      "OC \n",
      "OCa \n",
      "OC o\n",
      "O \n",
      "OC \n",
      "O o\n",
      " \n",
      "O \n",
      " o\n",
      "OCaml o\n",
      "OCam \n",
      "OCaml \n",
      "OCam o\n",
      "OCa \n",
      "OCam \n",
      "OCa o\n",
      "OC \n",
      "OCa \n",
      "OC o\n",
      "O \n",
      "OC \n",
      "O o\n",
      " \n",
      "O \n",
      " o\n",
      "OCam oc\n",
      "OCa o\n",
      "OC \n",
      "OCa \n",
      "OC o\n",
      "O \n",
      "OC \n",
      "O o\n",
      " \n",
      "O \n",
      " o\n",
      "OCam o\n",
      "OCa \n",
      "OCam \n",
      "OCa o\n",
      "OC \n",
      "OCa \n",
      "OC o\n",
      "O \n",
      "OC \n",
      "O o\n",
      " \n",
      "O \n",
      " o\n",
      "OCa oc\n",
      "OC o\n",
      "O \n",
      "OC \n",
      "O o\n",
      " \n",
      "O \n",
      " o\n",
      "OCa o\n",
      "OC \n",
      "OCa \n",
      "OC o\n",
      "O \n",
      "OC \n",
      "O o\n",
      " \n",
      "O \n",
      " o\n",
      "OC oc\n",
      "O o\n",
      " \n",
      "O \n",
      " o\n",
      "OC o\n",
      "O \n",
      "OC \n",
      "O o\n",
      " \n",
      "O \n",
      " o\n",
      "O oc\n",
      " o\n",
      "O o\n",
      " \n",
      "O \n",
      " o\n",
      " oc\n",
      "OCam oca\n",
      "OCa oc\n",
      "OC o\n",
      "O \n",
      "OC \n",
      "O o\n",
      " \n",
      "O \n",
      " o\n",
      "OCa o\n",
      "OC \n",
      "OCa \n",
      "OC o\n",
      "O \n",
      "OC \n",
      "O o\n",
      " \n",
      "O \n",
      " o\n",
      "OC oc\n",
      "O o\n",
      " \n",
      "O \n",
      " o\n",
      "OC o\n",
      "O \n",
      "OC \n",
      "O o\n",
      " \n",
      "O \n",
      " o\n",
      "O oc\n",
      " o\n",
      "O o\n",
      " \n",
      "O \n",
      " o\n",
      " oc\n",
      "OCam oc\n",
      "OCa o\n",
      "OC \n",
      "OCa \n",
      "OC o\n",
      "O \n",
      "OC \n",
      "O o\n",
      " \n",
      "O \n",
      " o\n",
      "OCam o\n",
      "OCa \n",
      "OCam \n",
      "OCa o\n",
      "OC \n",
      "OCa \n",
      "OC o\n",
      "O \n",
      "OC \n",
      "O o\n",
      " \n",
      "O \n",
      " o\n",
      "OCa oc\n",
      "OC o\n",
      "O \n",
      "OC \n",
      "O o\n",
      " \n",
      "O \n",
      " o\n",
      "OCa o\n",
      "OC \n",
      "OCa \n",
      "OC o\n",
      "O \n",
      "OC \n",
      "O o\n",
      " \n",
      "O \n",
      " o\n",
      "OC oc\n",
      "O o\n",
      " \n",
      "O \n",
      " o\n",
      "OC o\n",
      "O \n",
      "OC \n",
      "O o\n",
      " \n",
      "O \n",
      " o\n",
      "O oc\n",
      " o\n",
      "O o\n",
      " \n",
      "O \n",
      " o\n",
      " oc\n",
      "OCa oca\n",
      "OC oc\n",
      "O o\n",
      " \n",
      "O \n",
      " o\n",
      "OC o\n",
      "O \n",
      "OC \n",
      "O o\n",
      " \n",
      "O \n",
      " o\n",
      "O oc\n",
      " o\n",
      "O o\n",
      " \n",
      "O \n",
      " o\n",
      " oc\n",
      "OCa oc\n",
      "OC o\n",
      "O \n",
      "OC \n",
      "O o\n",
      " \n",
      "O \n",
      " o\n",
      "OCa o\n",
      "OC \n",
      "OCa \n",
      "OC o\n",
      "O \n",
      "OC \n",
      "O o\n",
      " \n",
      "O \n",
      " o\n",
      "OC oc\n",
      "O o\n",
      " \n",
      "O \n",
      " o\n",
      "OC o\n",
      "O \n",
      "OC \n",
      "O o\n",
      " \n",
      "O \n",
      " o\n",
      "O oc\n",
      " o\n",
      "O o\n",
      " \n",
      "O \n",
      " o\n",
      " oc\n",
      "OC oca\n",
      "O oc\n",
      " o\n",
      "O o\n",
      " \n",
      "O \n",
      " o\n",
      " oc\n",
      "OC oc\n",
      "O o\n",
      " \n",
      "O \n",
      " o\n",
      "OC o\n",
      "O \n",
      "OC \n",
      "O o\n",
      " \n",
      "O \n",
      " o\n",
      "O oc\n",
      " o\n",
      "O o\n",
      " \n",
      "O \n",
      " o\n",
      " oc\n",
      "O oca\n",
      " oc\n",
      "O oc\n",
      " o\n",
      "O o\n",
      " \n",
      "O \n",
      " o\n",
      " oc\n",
      " oca\n",
      "OCam ocam\n",
      "OCa oca\n",
      "OC oc\n",
      "O o\n",
      " \n",
      "O \n",
      " o\n",
      "OC o\n",
      "O \n",
      "OC \n",
      "O o\n",
      " \n",
      "O \n",
      " o\n",
      "O oc\n",
      " o\n",
      "O o\n",
      " \n",
      "O \n",
      " o\n",
      " oc\n",
      "OCa oc\n",
      "OC o\n",
      "O \n",
      "OC \n",
      "O o\n",
      " \n",
      "O \n",
      " o\n",
      "OCa o\n",
      "OC \n",
      "OCa \n",
      "OC o\n",
      "O \n",
      "OC \n",
      "O o\n",
      " \n",
      "O \n",
      " o\n",
      "OC oc\n",
      "O o\n",
      " \n",
      "O \n",
      " o\n",
      "OC o\n",
      "O \n",
      "OC \n",
      "O o\n",
      " \n",
      "O \n",
      " o\n",
      "O oc\n",
      " o\n",
      "O o\n",
      " \n",
      "O \n",
      " o\n",
      " oc\n",
      "OC oca\n",
      "O oc\n",
      " o\n",
      "O o\n",
      " \n",
      "O \n",
      " o\n",
      " oc\n",
      "OC oc\n",
      "O o\n",
      " \n",
      "O \n",
      " o\n",
      "OC o\n",
      "O \n",
      "OC \n",
      "O o\n",
      " \n",
      "O \n",
      " o\n",
      "O oc\n",
      " o\n",
      "O o\n",
      " \n",
      "O \n",
      " o\n",
      " oc\n",
      "O oca\n",
      " oc\n",
      "O oc\n",
      " o\n",
      "O o\n",
      " \n",
      "O \n",
      " o\n",
      " oc\n",
      " oca\n",
      "OCam oca\n",
      "OCa oc\n",
      "OC o\n",
      "O \n",
      "OC \n",
      "O o\n",
      " \n",
      "O \n",
      " o\n",
      "OCa o\n",
      "OC \n",
      "OCa \n",
      "OC o\n",
      "O \n",
      "OC \n",
      "O o\n",
      " \n",
      "O \n",
      " o\n",
      "OC oc\n",
      "O o\n",
      " \n",
      "O \n",
      " o\n",
      "OC o\n",
      "O \n",
      "OC \n",
      "O o\n",
      " \n",
      "O \n",
      " o\n",
      "O oc\n",
      " o\n",
      "O o\n",
      " \n",
      "O \n",
      " o\n",
      " oc\n",
      "OCam oc\n",
      "OCa o\n",
      "OC \n",
      "OCa \n",
      "OC o\n",
      "O \n",
      "OC \n",
      "O o\n",
      " \n",
      "O \n",
      " o\n",
      "OCam o\n",
      "OCa \n",
      "OCam \n",
      "OCa o\n",
      "OC \n",
      "OCa \n",
      "OC o\n",
      "O \n",
      "OC \n",
      "O o\n",
      " \n",
      "O \n",
      " o\n",
      "OCa oc\n",
      "OC o\n",
      "O \n",
      "OC \n",
      "O o\n",
      " \n",
      "O \n",
      " o\n",
      "OCa o\n",
      "OC \n",
      "OCa \n",
      "OC o\n",
      "O \n",
      "OC \n",
      "O o\n",
      " \n",
      "O \n",
      " o\n",
      "OC oc\n",
      "O o\n",
      " \n",
      "O \n",
      " o\n",
      "OC o\n",
      "O \n",
      "OC \n",
      "O o\n",
      " \n",
      "O \n",
      " o\n",
      "O oc\n",
      " o\n",
      "O o\n",
      " \n",
      "O \n",
      " o\n",
      " oc\n",
      "OCa oca\n",
      "OC oc\n",
      "O o\n",
      " \n",
      "O \n",
      " o\n",
      "OC o\n",
      "O \n",
      "OC \n",
      "O o\n",
      " \n",
      "O \n",
      " o\n",
      "O oc\n",
      " o\n",
      "O o\n",
      " \n",
      "O \n",
      " o\n",
      " oc\n",
      "OCa oc\n",
      "OC o\n",
      "O \n",
      "OC \n",
      "O o\n",
      " \n",
      "O \n",
      " o\n",
      "OCa o\n",
      "OC \n",
      "OCa \n",
      "OC o\n",
      "O \n",
      "OC \n",
      "O o\n",
      " \n",
      "O \n",
      " o\n",
      "OC oc\n",
      "O o\n",
      " \n",
      "O \n",
      " o\n",
      "OC o\n",
      "O \n",
      "OC \n",
      "O o\n",
      " \n",
      "O \n",
      " o\n",
      "O oc\n",
      " o\n",
      "O o\n",
      " \n",
      "O \n",
      " o\n",
      " oc\n",
      "OC oca\n",
      "O oc\n",
      " o\n",
      "O o\n",
      " \n",
      "O \n",
      " o\n",
      " oc\n",
      "OC oc\n",
      "O o\n",
      " \n",
      "O \n",
      " o\n",
      "OC o\n",
      "O \n",
      "OC \n",
      "O o\n",
      " \n",
      "O \n",
      " o\n",
      "O oc\n",
      " o\n",
      "O o\n",
      " \n",
      "O \n",
      " o\n",
      " oc\n",
      "O oca\n",
      " oc\n",
      "O oc\n",
      " o\n",
      "O o\n",
      " \n",
      "O \n",
      " o\n",
      " oc\n",
      " oca\n",
      "OCa ocam\n",
      "OC oca\n",
      "O oc\n",
      " o\n",
      "O o\n",
      " \n",
      "O \n",
      " o\n",
      " oc\n",
      "OC oc\n",
      "O o\n",
      " \n",
      "O \n",
      " o\n",
      "OC o\n",
      "O \n",
      "OC \n",
      "O o\n",
      " \n",
      "O \n",
      " o\n",
      "O oc\n",
      " o\n",
      "O o\n",
      " \n",
      "O \n",
      " o\n",
      " oc\n",
      "O oca\n",
      " oc\n",
      "O oc\n",
      " o\n",
      "O o\n",
      " \n",
      "O \n",
      " o\n",
      " oc\n",
      " oca\n",
      "OCa oca\n",
      "OC oc\n",
      "O o\n",
      " \n",
      "O \n",
      " o\n",
      "OC o\n",
      "O \n",
      "OC \n",
      "O o\n",
      " \n",
      "O \n",
      " o\n",
      "O oc\n",
      " o\n",
      "O o\n",
      " \n",
      "O \n",
      " o\n",
      " oc\n",
      "OCa oc\n",
      "OC o\n",
      "O \n",
      "OC \n",
      "O o\n",
      " \n",
      "O \n",
      " o\n",
      "OCa o\n",
      "OC \n",
      "OCa \n",
      "OC o\n",
      "O \n",
      "OC \n",
      "O o\n",
      " \n",
      "O \n",
      " o\n",
      "OC oc\n",
      "O o\n",
      " \n",
      "O \n",
      " o\n",
      "OC o\n",
      "O \n",
      "OC \n",
      "O o\n",
      " \n",
      "O \n",
      " o\n",
      "O oc\n",
      " o\n",
      "O o\n",
      " \n",
      "O \n",
      " o\n",
      " oc\n",
      "OC oca\n",
      "O oc\n",
      " o\n",
      "O o\n",
      " \n",
      "O \n",
      " o\n",
      " oc\n",
      "OC oc\n",
      "O o\n",
      " \n",
      "O \n",
      " o\n",
      "OC o\n",
      "O \n",
      "OC \n",
      "O o\n",
      " \n",
      "O \n",
      " o\n",
      "O oc\n",
      " o\n",
      "O o\n",
      " \n",
      "O \n",
      " o\n",
      " oc\n",
      "O oca\n",
      " oc\n",
      "O oc\n",
      " o\n",
      "O o\n",
      " \n",
      "O \n",
      " o\n",
      " oc\n",
      " oca\n",
      "OC ocam\n",
      "O oca\n",
      " oc\n",
      "O oc\n",
      " o\n",
      "O o\n",
      " \n",
      "O \n",
      " o\n",
      " oc\n",
      " oca\n",
      "OC oca\n",
      "O oc\n",
      " o\n",
      "O o\n",
      " \n",
      "O \n",
      " o\n",
      " oc\n",
      "OC oc\n",
      "O o\n",
      " \n",
      "O \n",
      " o\n",
      "OC o\n",
      "O \n",
      "OC \n",
      "O o\n",
      " \n",
      "O \n",
      " o\n",
      "O oc\n",
      " o\n",
      "O o\n",
      " \n",
      "O \n",
      " o\n",
      " oc\n",
      "O oca\n",
      " oc\n",
      "O oc\n",
      " o\n",
      "O o\n",
      " \n",
      "O \n",
      " o\n",
      " oc\n",
      " oca\n",
      "O ocam\n",
      " oca\n",
      "O oca\n",
      " oc\n",
      "O oc\n",
      " o\n",
      "O o\n",
      " \n",
      "O \n",
      " o\n",
      " oc\n",
      " oca\n",
      " ocam\n",
      "OCam ocaml\n",
      "OCa ocam\n",
      "OC oca\n",
      "O oc\n",
      " o\n",
      "O o\n",
      " \n",
      "O \n",
      " o\n",
      " oc\n",
      "OC oc\n",
      "O o\n",
      " \n",
      "O \n",
      " o\n",
      "OC o\n",
      "O \n",
      "OC \n",
      "O o\n",
      " \n",
      "O \n",
      " o\n",
      "O oc\n",
      " o\n",
      "O o\n",
      " \n",
      "O \n",
      " o\n",
      " oc\n",
      "O oca\n",
      " oc\n",
      "O oc\n",
      " o\n",
      "O o\n",
      " \n",
      "O \n",
      " o\n",
      " oc\n",
      " oca\n",
      "OCa oca\n",
      "OC oc\n",
      "O o\n",
      " \n",
      "O \n",
      " o\n",
      "OC o\n",
      "O \n",
      "OC \n",
      "O o\n",
      " \n",
      "O \n",
      " o\n",
      "O oc\n",
      " o\n",
      "O o\n",
      " \n",
      "O \n",
      " o\n",
      " oc\n",
      "OCa oc\n",
      "OC o\n",
      "O \n",
      "OC \n",
      "O o\n",
      " \n",
      "O \n",
      " o\n",
      "OCa o\n",
      "OC \n",
      "OCa \n",
      "OC o\n",
      "O \n",
      "OC \n",
      "O o\n",
      " \n",
      "O \n",
      " o\n",
      "OC oc\n",
      "O o\n",
      " \n",
      "O \n",
      " o\n",
      "OC o\n",
      "O \n",
      "OC \n",
      "O o\n",
      " \n",
      "O \n",
      " o\n",
      "O oc\n",
      " o\n",
      "O o\n",
      " \n",
      "O \n",
      " o\n",
      " oc\n",
      "OC oca\n",
      "O oc\n",
      " o\n",
      "O o\n",
      " \n",
      "O \n",
      " o\n",
      " oc\n",
      "OC oc\n",
      "O o\n",
      " \n",
      "O \n",
      " o\n",
      "OC o\n",
      "O \n",
      "OC \n",
      "O o\n",
      " \n",
      "O \n",
      " o\n",
      "O oc\n",
      " o\n",
      "O o\n",
      " \n",
      "O \n",
      " o\n",
      " oc\n",
      "O oca\n",
      " oc\n",
      "O oc\n",
      " o\n",
      "O o\n",
      " \n",
      "O \n",
      " o\n",
      " oc\n",
      " oca\n",
      "OC ocam\n",
      "O oca\n",
      " oc\n",
      "O oc\n",
      " o\n",
      "O o\n",
      " \n",
      "O \n",
      " o\n",
      " oc\n",
      " oca\n",
      "OC oca\n",
      "O oc\n",
      " o\n",
      "O o\n",
      " \n",
      "O \n",
      " o\n",
      " oc\n",
      "OC oc\n",
      "O o\n",
      " \n",
      "O \n",
      " o\n",
      "OC o\n",
      "O \n",
      "OC \n",
      "O o\n",
      " \n",
      "O \n",
      " o\n",
      "O oc\n",
      " o\n",
      "O o\n",
      " \n",
      "O \n",
      " o\n",
      " oc\n",
      "O oca\n",
      " oc\n",
      "O oc\n",
      " o\n",
      "O o\n",
      " \n",
      "O \n",
      " o\n",
      " oc\n",
      " oca\n",
      "O ocam\n",
      " oca\n",
      "O oca\n",
      " oc\n",
      "O oc\n",
      " o\n",
      "O o\n",
      " \n",
      "O \n",
      " o\n",
      " oc\n",
      " oca\n",
      " ocam\n",
      "OCam ocam\n",
      "OCa oca\n",
      "OC oc\n",
      "O o\n",
      " \n",
      "O \n",
      " o\n",
      "OC o\n",
      "O \n",
      "OC \n",
      "O o\n",
      " \n",
      "O \n",
      " o\n",
      "O oc\n",
      " o\n",
      "O o\n",
      " \n",
      "O \n",
      " o\n",
      " oc\n",
      "OCa oc\n",
      "OC o\n",
      "O \n",
      "OC \n",
      "O o\n",
      " \n",
      "O \n",
      " o\n",
      "OCa o\n",
      "OC \n",
      "OCa \n",
      "OC o\n",
      "O \n",
      "OC \n",
      "O o\n",
      " \n",
      "O \n",
      " o\n",
      "OC oc\n",
      "O o\n",
      " \n",
      "O \n",
      " o\n",
      "OC o\n",
      "O \n",
      "OC \n",
      "O o\n",
      " \n",
      "O \n",
      " o\n",
      "O oc\n",
      " o\n",
      "O o\n",
      " \n",
      "O \n",
      " o\n",
      " oc\n",
      "OC oca\n",
      "O oc\n",
      " o\n",
      "O o\n",
      " \n",
      "O \n",
      " o\n",
      " oc\n",
      "OC oc\n",
      "O o\n",
      " \n",
      "O \n",
      " o\n",
      "OC o\n",
      "O \n",
      "OC \n",
      "O o\n",
      " \n",
      "O \n",
      " o\n",
      "O oc\n",
      " o\n",
      "O o\n",
      " \n",
      "O \n",
      " o\n",
      " oc\n",
      "O oca\n",
      " oc\n",
      "O oc\n",
      " o\n",
      "O o\n",
      " \n",
      "O \n",
      " o\n",
      " oc\n",
      " oca\n",
      "OCam oca\n",
      "OCa oc\n",
      "OC o\n",
      "O \n",
      "OC \n",
      "O o\n",
      " \n",
      "O \n",
      " o\n",
      "OCa o\n",
      "OC \n",
      "OCa \n",
      "OC o\n",
      "O \n",
      "OC \n",
      "O o\n",
      " \n",
      "O \n",
      " o\n",
      "OC oc\n",
      "O o\n",
      " \n",
      "O \n",
      " o\n",
      "OC o\n",
      "O \n",
      "OC \n",
      "O o\n",
      " \n",
      "O \n",
      " o\n",
      "O oc\n",
      " o\n",
      "O o\n",
      " \n",
      "O \n",
      " o\n",
      " oc\n",
      "OCam oc\n",
      "OCa o\n",
      "OC \n",
      "OCa \n",
      "OC o\n",
      "O \n",
      "OC \n",
      "O o\n",
      " \n",
      "O \n",
      " o\n",
      "OCam o\n",
      "OCa \n",
      "OCam \n",
      "OCa o\n",
      "OC \n",
      "OCa \n",
      "OC o\n",
      "O \n",
      "OC \n",
      "O o\n",
      " \n",
      "O \n",
      " o\n",
      "OCa oc\n",
      "OC o\n",
      "O \n",
      "OC \n",
      "O o\n",
      " \n",
      "O \n",
      " o\n",
      "OCa o\n",
      "OC \n",
      "OCa \n",
      "OC o\n",
      "O \n",
      "OC \n",
      "O o\n",
      " \n",
      "O \n",
      " o\n",
      "OC oc\n",
      "O o\n",
      " \n",
      "O \n",
      " o\n",
      "OC o\n",
      "O \n",
      "OC \n",
      "O o\n",
      " \n",
      "O \n",
      " o\n",
      "O oc\n",
      " o\n",
      "O o\n",
      " \n",
      "O \n",
      " o\n",
      " oc\n",
      "OCa oca\n",
      "OC oc\n",
      "O o\n",
      " \n",
      "O \n",
      " o\n",
      "OC o\n",
      "O \n",
      "OC \n",
      "O o\n",
      " \n",
      "O \n",
      " o\n",
      "O oc\n",
      " o\n",
      "O o\n",
      " \n",
      "O \n",
      " o\n",
      " oc\n",
      "OCa oc\n",
      "OC o\n",
      "O \n",
      "OC \n",
      "O o\n",
      " \n",
      "O \n",
      " o\n",
      "OCa o\n",
      "OC \n",
      "OCa \n",
      "OC o\n",
      "O \n",
      "OC \n",
      "O o\n",
      " \n",
      "O \n",
      " o\n",
      "OC oc\n",
      "O o\n",
      " \n",
      "O \n",
      " o\n",
      "OC o\n",
      "O \n",
      "OC \n",
      "O o\n",
      " \n",
      "O \n",
      " o\n",
      "O oc\n",
      " o\n",
      "O o\n",
      " \n",
      "O \n",
      " o\n",
      " oc\n",
      "OC oca\n",
      "O oc\n",
      " o\n",
      "O o\n",
      " \n",
      "O \n",
      " o\n",
      " oc\n",
      "OC oc\n",
      "O o\n",
      " \n",
      "O \n",
      " o\n",
      "OC o\n",
      "O \n",
      "OC \n",
      "O o\n",
      " \n",
      "O \n",
      " o\n",
      "O oc\n",
      " o\n",
      "O o\n",
      " \n",
      "O \n",
      " o\n",
      " oc\n",
      "O oca\n",
      " oc\n",
      "O oc\n",
      " o\n",
      "O o\n",
      " \n",
      "O \n",
      " o\n",
      " oc\n",
      " oca\n",
      "OCa ocam\n",
      "OC oca\n",
      "O oc\n",
      " o\n",
      "O o\n",
      " \n",
      "O \n",
      " o\n",
      " oc\n",
      "OC oc\n",
      "O o\n",
      " \n",
      "O \n",
      " o\n",
      "OC o\n",
      "O \n",
      "OC \n",
      "O o\n",
      " \n",
      "O \n",
      " o\n",
      "O oc\n",
      " o\n",
      "O o\n",
      " \n",
      "O \n",
      " o\n",
      " oc\n",
      "O oca\n",
      " oc\n",
      "O oc\n",
      " o\n",
      "O o\n",
      " \n",
      "O \n",
      " o\n",
      " oc\n",
      " oca\n",
      "OCa oca\n",
      "OC oc\n",
      "O o\n",
      " \n",
      "O \n",
      " o\n",
      "OC o\n",
      "O \n",
      "OC \n",
      "O o\n",
      " \n",
      "O \n",
      " o\n",
      "O oc\n",
      " o\n",
      "O o\n",
      " \n",
      "O \n",
      " o\n",
      " oc\n",
      "OCa oc\n",
      "OC o\n",
      "O \n",
      "OC \n",
      "O o\n",
      " \n",
      "O \n",
      " o\n",
      "OCa o\n",
      "OC \n",
      "OCa \n",
      "OC o\n",
      "O \n",
      "OC \n",
      "O o\n",
      " \n",
      "O \n",
      " o\n",
      "OC oc\n",
      "O o\n",
      " \n",
      "O \n",
      " o\n",
      "OC o\n",
      "O \n",
      "OC \n",
      "O o\n",
      " \n",
      "O \n",
      " o\n",
      "O oc\n",
      " o\n",
      "O o\n",
      " \n",
      "O \n",
      " o\n",
      " oc\n",
      "OC oca\n",
      "O oc\n",
      " o\n",
      "O o\n",
      " \n",
      "O \n",
      " o\n",
      " oc\n",
      "OC oc\n",
      "O o\n",
      " \n",
      "O \n",
      " o\n",
      "OC o\n",
      "O \n",
      "OC \n",
      "O o\n",
      " \n",
      "O \n",
      " o\n",
      "O oc\n",
      " o\n",
      "O o\n",
      " \n",
      "O \n",
      " o\n",
      " oc\n",
      "O oca\n",
      " oc\n",
      "O oc\n",
      " o\n",
      "O o\n",
      " \n",
      "O \n",
      " o\n",
      " oc\n",
      " oca\n",
      "OC ocam\n",
      "O oca\n",
      " oc\n",
      "O oc\n",
      " o\n",
      "O o\n",
      " \n",
      "O \n",
      " o\n",
      " oc\n",
      " oca\n",
      "OC oca\n",
      "O oc\n",
      " o\n",
      "O o\n",
      " \n",
      "O \n",
      " o\n",
      " oc\n",
      "OC oc\n",
      "O o\n",
      " \n",
      "O \n",
      " o\n",
      "OC o\n",
      "O \n",
      "OC \n",
      "O o\n",
      " \n",
      "O \n",
      " o\n"
     ]
    },
    {
     "name": "stdout",
     "output_type": "stream",
     "text": [
      "O oc\n",
      " o\n",
      "O o\n",
      " \n",
      "O \n",
      " o\n",
      " oc\n",
      "O oca\n",
      " oc\n",
      "O oc\n",
      " o\n",
      "O o\n",
      " \n",
      "O \n",
      " o\n",
      " oc\n",
      " oca\n",
      "O ocam\n",
      " oca\n",
      "O oca\n",
      " oc\n",
      "O oc\n",
      " o\n",
      "O o\n",
      " \n",
      "O \n",
      " o\n",
      " oc\n",
      " oca\n",
      " ocam\n",
      "OCa ocaml\n",
      "OC ocam\n",
      "O oca\n",
      " oc\n",
      "O oc\n",
      " o\n",
      "O o\n",
      " \n",
      "O \n",
      " o\n",
      " oc\n",
      " oca\n",
      "OC oca\n",
      "O oc\n",
      " o\n",
      "O o\n",
      " \n",
      "O \n",
      " o\n",
      " oc\n",
      "OC oc\n",
      "O o\n",
      " \n",
      "O \n",
      " o\n",
      "OC o\n",
      "O \n",
      "OC \n",
      "O o\n",
      " \n",
      "O \n",
      " o\n",
      "O oc\n",
      " o\n",
      "O o\n",
      " \n",
      "O \n",
      " o\n",
      " oc\n",
      "O oca\n",
      " oc\n",
      "O oc\n",
      " o\n",
      "O o\n",
      " \n",
      "O \n",
      " o\n",
      " oc\n",
      " oca\n",
      "O ocam\n",
      " oca\n",
      "O oca\n",
      " oc\n",
      "O oc\n",
      " o\n",
      "O o\n",
      " \n",
      "O \n",
      " o\n",
      " oc\n",
      " oca\n",
      " ocam\n",
      "OCa ocam\n",
      "OC oca\n",
      "O oc\n",
      " o\n",
      "O o\n",
      " \n",
      "O \n",
      " o\n",
      " oc\n",
      "OC oc\n",
      "O o\n",
      " \n",
      "O \n",
      " o\n",
      "OC o\n",
      "O \n",
      "OC \n",
      "O o\n",
      " \n",
      "O \n",
      " o\n",
      "O oc\n",
      " o\n",
      "O o\n",
      " \n",
      "O \n",
      " o\n",
      " oc\n",
      "O oca\n",
      " oc\n",
      "O oc\n",
      " o\n",
      "O o\n",
      " \n",
      "O \n",
      " o\n",
      " oc\n",
      " oca\n",
      "OCa oca\n",
      "OC oc\n",
      "O o\n",
      " \n",
      "O \n",
      " o\n",
      "OC o\n",
      "O \n",
      "OC \n",
      "O o\n",
      " \n",
      "O \n",
      " o\n",
      "O oc\n",
      " o\n",
      "O o\n",
      " \n",
      "O \n",
      " o\n",
      " oc\n",
      "OCa oc\n",
      "OC o\n",
      "O \n",
      "OC \n",
      "O o\n",
      " \n",
      "O \n",
      " o\n",
      "OCa o\n",
      "OC \n",
      "OCa \n",
      "OC o\n",
      "O \n",
      "OC \n",
      "O o\n",
      " \n",
      "O \n",
      " o\n",
      "OC oc\n",
      "O o\n",
      " \n",
      "O \n",
      " o\n",
      "OC o\n",
      "O \n",
      "OC \n",
      "O o\n",
      " \n",
      "O \n",
      " o\n",
      "O oc\n",
      " o\n",
      "O o\n",
      " \n",
      "O \n",
      " o\n",
      " oc\n",
      "OC oca\n",
      "O oc\n",
      " o\n",
      "O o\n",
      " \n",
      "O \n",
      " o\n",
      " oc\n",
      "OC oc\n",
      "O o\n",
      " \n",
      "O \n",
      " o\n",
      "OC o\n",
      "O \n",
      "OC \n",
      "O o\n",
      " \n",
      "O \n",
      " o\n",
      "O oc\n",
      " o\n",
      "O o\n",
      " \n",
      "O \n",
      " o\n",
      " oc\n",
      "O oca\n",
      " oc\n",
      "O oc\n",
      " o\n",
      "O o\n",
      " \n",
      "O \n",
      " o\n",
      " oc\n",
      " oca\n",
      "OC ocam\n",
      "O oca\n",
      " oc\n",
      "O oc\n",
      " o\n",
      "O o\n",
      " \n",
      "O \n",
      " o\n",
      " oc\n",
      " oca\n",
      "OC oca\n",
      "O oc\n",
      " o\n",
      "O o\n",
      " \n",
      "O \n",
      " o\n",
      " oc\n",
      "OC oc\n",
      "O o\n",
      " \n",
      "O \n",
      " o\n",
      "OC o\n",
      "O \n",
      "OC \n",
      "O o\n",
      " \n",
      "O \n",
      " o\n",
      "O oc\n",
      " o\n",
      "O o\n",
      " \n",
      "O \n",
      " o\n",
      " oc\n",
      "O oca\n",
      " oc\n",
      "O oc\n",
      " o\n",
      "O o\n",
      " \n",
      "O \n",
      " o\n",
      " oc\n",
      " oca\n",
      "O ocam\n",
      " oca\n",
      "O oca\n",
      " oc\n",
      "O oc\n",
      " o\n",
      "O o\n",
      " \n",
      "O \n",
      " o\n",
      " oc\n",
      " oca\n",
      " ocam\n",
      "OC ocaml\n",
      "O ocam\n",
      " oca\n",
      "O oca\n",
      " oc\n",
      "O oc\n",
      " o\n",
      "O o\n",
      " \n",
      "O \n",
      " o\n",
      " oc\n",
      " oca\n",
      " ocam\n",
      "OC ocam\n",
      "O oca\n",
      " oc\n",
      "O oc\n",
      " o\n",
      "O o\n",
      " \n",
      "O \n",
      " o\n",
      " oc\n",
      " oca\n",
      "OC oca\n",
      "O oc\n",
      " o\n",
      "O o\n",
      " \n",
      "O \n",
      " o\n",
      " oc\n",
      "OC oc\n",
      "O o\n",
      " \n",
      "O \n",
      " o\n",
      "OC o\n",
      "O \n",
      "OC \n",
      "O o\n",
      " \n",
      "O \n",
      " o\n",
      "O oc\n",
      " o\n",
      "O o\n",
      " \n",
      "O \n",
      " o\n",
      " oc\n",
      "O oca\n",
      " oc\n",
      "O oc\n",
      " o\n",
      "O o\n",
      " \n",
      "O \n",
      " o\n",
      " oc\n",
      " oca\n",
      "O ocam\n",
      " oca\n",
      "O oca\n",
      " oc\n",
      "O oc\n",
      " o\n",
      "O o\n",
      " \n",
      "O \n",
      " o\n",
      " oc\n",
      " oca\n",
      " ocam\n",
      "O ocaml\n",
      " ocam\n",
      "O ocam\n",
      " oca\n",
      "O oca\n",
      " oc\n",
      "O oc\n",
      " o\n",
      "O o\n",
      " \n",
      "O \n",
      " o\n",
      " oc\n",
      " oca\n",
      " ocam\n",
      " ocaml\n"
     ]
    },
    {
     "data": {
      "text/plain": [
       "- : int * float = (2, 10.4248523712158203)\n"
      ]
     },
     "execution_count": 94,
     "metadata": {},
     "output_type": "execute_result"
    }
   ],
   "source": [
    "time_it (edit_distance ~log:true) (\"OCaml\", \"ocaml\")"
   ]
  },
  {
   "cell_type": "markdown",
   "metadata": {
    "slideshow": {
     "slide_type": "slide"
    }
   },
   "source": [
    "## Edit distance"
   ]
  },
  {
   "cell_type": "code",
   "execution_count": 95,
   "metadata": {},
   "outputs": [
    {
     "data": {
      "text/plain": [
       "- : int * float = (2, 8690.44303894043)\n"
      ]
     },
     "execution_count": 95,
     "metadata": {},
     "output_type": "execute_result"
    }
   ],
   "source": [
    "time_it (edit_distance ~log:false) (\"OCaml 4.08\", \"ocaml 4.08\")"
   ]
  },
  {
   "cell_type": "markdown",
   "metadata": {
    "slideshow": {
     "slide_type": "slide"
    }
   },
   "source": [
    "## Memoize edit distance"
   ]
  },
  {
   "cell_type": "code",
   "execution_count": 96,
   "metadata": {},
   "outputs": [
    {
     "data": {
      "text/plain": [
       "val edit_distance_norec :\n",
       "  ?log:bool -> (string * string -> int) -> string * string -> int = <fun>\n"
      ]
     },
     "execution_count": 96,
     "metadata": {},
     "output_type": "execute_result"
    }
   ],
   "source": [
    "let rec edit_distance_norec ?log f (s,t) = \n",
    "  let open String in\n",
    "  if log = Some true then print_endline (s ^ \" \" ^ t);\n",
    "  match String.length s, String.length t with\n",
    "  | 0,x | x,0 -> x\n",
    "  | len_s, len_t ->\n",
    "    let s' = sub s 0 (len_s - 1) in\n",
    "    let t' = sub t 0 (len_t - 1) in\n",
    "    List.fold_left (fun acc v -> min acc v) max_int [\n",
    "      f (s',t) + 1; (* insert at end of s *)\n",
    "      f (s,t') + 1; (* delete from end of s *)\n",
    "      f (s',t') +   \n",
    "        if get s (len_s-1) = get t (len_t-1) then 0 else 1\n",
    "    ]"
   ]
  },
  {
   "cell_type": "markdown",
   "metadata": {
    "slideshow": {
     "slide_type": "slide"
    }
   },
   "source": [
    "## Memoize edit distance"
   ]
  },
  {
   "cell_type": "code",
   "execution_count": 97,
   "metadata": {},
   "outputs": [
    {
     "data": {
      "text/plain": [
       "val memo_edit_distance : string * string -> int = <fun>\n"
      ]
     },
     "execution_count": 97,
     "metadata": {},
     "output_type": "execute_result"
    }
   ],
   "source": [
    "let memo_edit_distance = memo_rec (edit_distance_norec ~log:true)"
   ]
  },
  {
   "cell_type": "code",
   "execution_count": 98,
   "metadata": {},
   "outputs": [
    {
     "name": "stdout",
     "output_type": "stream",
     "text": [
      "OCaml 4.08 ocaml 4.08\n",
      "OCaml 4.0 ocaml 4.0\n",
      "OCaml 4. ocaml 4.\n",
      "OCaml 4 ocaml 4\n",
      "OCaml  ocaml \n",
      "OCaml ocaml\n",
      "OCam ocam\n",
      "OCa oca\n",
      "OC oc\n",
      "O o\n",
      " \n",
      "O \n",
      " o\n",
      "OC o\n",
      "OC \n",
      "O oc\n",
      " oc\n",
      "OCa oc\n",
      "OCa o\n",
      "OCa \n",
      "OC oca\n",
      "O oca\n",
      " oca\n",
      "OCam oca\n",
      "OCam oc\n",
      "OCam o\n",
      "OCam \n",
      "OCa ocam\n",
      "OC ocam\n",
      "O ocam\n",
      " ocam\n",
      "OCaml ocam\n",
      "OCaml oca\n",
      "OCaml oc\n",
      "OCaml o\n",
      "OCaml \n",
      "OCam ocaml\n",
      "OCa ocaml\n",
      "OC ocaml\n",
      "O ocaml\n",
      " ocaml\n",
      "OCaml  ocaml\n",
      "OCaml  ocam\n",
      "OCaml  oca\n",
      "OCaml  oc\n",
      "OCaml  o\n",
      "OCaml  \n",
      "OCaml ocaml \n",
      "OCam ocaml \n",
      "OCa ocaml \n",
      "OC ocaml \n",
      "O ocaml \n",
      " ocaml \n",
      "OCaml 4 ocaml \n",
      "OCaml 4 ocaml\n",
      "OCaml 4 ocam\n",
      "OCaml 4 oca\n",
      "OCaml 4 oc\n",
      "OCaml 4 o\n",
      "OCaml 4 \n",
      "OCaml  ocaml 4\n",
      "OCaml ocaml 4\n",
      "OCam ocaml 4\n",
      "OCa ocaml 4\n",
      "OC ocaml 4\n",
      "O ocaml 4\n",
      " ocaml 4\n",
      "OCaml 4. ocaml 4\n",
      "OCaml 4. ocaml \n",
      "OCaml 4. ocaml\n",
      "OCaml 4. ocam\n",
      "OCaml 4. oca\n",
      "OCaml 4. oc\n",
      "OCaml 4. o\n",
      "OCaml 4. \n",
      "OCaml 4 ocaml 4.\n",
      "OCaml  ocaml 4.\n",
      "OCaml ocaml 4.\n",
      "OCam ocaml 4.\n",
      "OCa ocaml 4.\n",
      "OC ocaml 4.\n",
      "O ocaml 4.\n",
      " ocaml 4.\n",
      "OCaml 4.0 ocaml 4.\n",
      "OCaml 4.0 ocaml 4\n",
      "OCaml 4.0 ocaml \n",
      "OCaml 4.0 ocaml\n",
      "OCaml 4.0 ocam\n",
      "OCaml 4.0 oca\n",
      "OCaml 4.0 oc\n",
      "OCaml 4.0 o\n",
      "OCaml 4.0 \n",
      "OCaml 4. ocaml 4.0\n",
      "OCaml 4 ocaml 4.0\n",
      "OCaml  ocaml 4.0\n",
      "OCaml ocaml 4.0\n",
      "OCam ocaml 4.0\n",
      "OCa ocaml 4.0\n",
      "OC ocaml 4.0\n",
      "O ocaml 4.0\n",
      " ocaml 4.0\n",
      "OCaml 4.08 ocaml 4.0\n",
      "OCaml 4.08 ocaml 4.\n",
      "OCaml 4.08 ocaml 4\n",
      "OCaml 4.08 ocaml \n",
      "OCaml 4.08 ocaml\n",
      "OCaml 4.08 ocam\n",
      "OCaml 4.08 oca\n",
      "OCaml 4.08 oc\n",
      "OCaml 4.08 o\n",
      "OCaml 4.08 \n",
      "OCaml 4.0 ocaml 4.08\n",
      "OCaml 4. ocaml 4.08\n",
      "OCaml 4 ocaml 4.08\n",
      "OCaml  ocaml 4.08\n",
      "OCaml ocaml 4.08\n",
      "OCam ocaml 4.08\n",
      "OCa ocaml 4.08\n",
      "OC ocaml 4.08\n",
      "O ocaml 4.08\n",
      " ocaml 4.08\n"
     ]
    },
    {
     "data": {
      "text/plain": [
       "- : int * float = (2, 0.725984573364257812)\n"
      ]
     },
     "execution_count": 98,
     "metadata": {},
     "output_type": "execute_result"
    }
   ],
   "source": [
    "time_it memo_edit_distance (\"OCaml 4.08\", \"ocaml 4.08\")"
   ]
  },
  {
   "cell_type": "markdown",
   "metadata": {
    "slideshow": {
     "slide_type": "slide"
    }
   },
   "source": [
    "<center>\n",
    "\n",
    "<h1 style=\"text-align:center\"> Fin. </h1>\n",
    "</center>"
   ]
  }
 ],
 "metadata": {
  "celltoolbar": "Slideshow",
  "kernelspec": {
   "display_name": "OCaml 4.07.1",
   "language": "OCaml",
   "name": "ocaml-jupyter"
  },
  "language_info": {
   "codemirror_mode": "text/x-ocaml",
   "file_extension": ".ml",
   "mimetype": "text/x-ocaml",
   "name": "OCaml",
   "nbconverter_exporter": null,
   "pygments_lexer": "OCaml",
   "version": "4.07.1"
  }
 },
 "nbformat": 4,
 "nbformat_minor": 2
}
