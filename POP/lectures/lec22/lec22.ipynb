{
 "cells": [
  {
   "cell_type": "markdown",
   "metadata": {
    "slideshow": {
     "slide_type": "slide"
    }
   },
   "source": [
    "<center>\n",
    "\n",
    "<h1> Mutable(?) data structures </h1>\n",
    "<h2> CS3100 Fall 2019 </h2>\n",
    "</center>"
   ]
  },
  {
   "cell_type": "markdown",
   "metadata": {
    "slideshow": {
     "slide_type": "slide"
    }
   },
   "source": [
    "## Review\n",
    "\n",
    "### Previously\n",
    "\n",
    "* Control in Prolog\n",
    "\n",
    "### This lecture\n",
    "\n",
    "* Simulating mutable data structure in Prolog."
   ]
  },
  {
   "cell_type": "markdown",
   "metadata": {
    "slideshow": {
     "slide_type": "slide"
    }
   },
   "source": [
    "## Variables in terms\n",
    "\n",
    "* So far all of our uses of variables have been in queries or rules, but not in terms representing objects. \n",
    "* Here is a open list which has a prefix of `[a,b]`.\n",
    "\n",
    "```\n",
    "?- L = [1,2 | X]\n",
    "L = [1, 2|X].\n",
    "```\n",
    "\n",
    "* We can (pretend to) extend the list `L` by unifying `X` with something else.\n",
    "\n",
    "```\n",
    "?- L = [1,2 | X], X = [3 | Y]\n",
    "L = [1, 2, 3|Y],\n",
    "X = [3|Y].\n",
    "```\n",
    "\n",
    "Such lists are said to be **open lists**."
   ]
  },
  {
   "cell_type": "markdown",
   "metadata": {
    "slideshow": {
     "slide_type": "slide"
    }
   },
   "source": [
    "## Jupyter + Prolog fail!\n",
    "\n",
    "Jupyter + Prolog is a solution in development (read as does not work as intended)."
   ]
  },
  {
   "cell_type": "code",
   "execution_count": 1,
   "metadata": {
    "scrolled": true
   },
   "outputs": [
    {
     "name": "stdout",
     "output_type": "stream",
     "text": [
      "X = _1676, L = [ 1, 2 ] ."
     ]
    }
   ],
   "source": [
    "?- L = [1,2 | X]."
   ]
  },
  {
   "cell_type": "markdown",
   "metadata": {},
   "source": [
    "The result should have been `X = _G861, L = [ 1, 2 | X] .`.\n",
    "\n",
    "We will use the SWI-Prolog interpreter directly for this lecture."
   ]
  },
  {
   "cell_type": "markdown",
   "metadata": {
    "slideshow": {
     "slide_type": "slide"
    }
   },
   "source": [
    "## Queues\n",
    "\n",
    "We will use open lists to represent queues.\n",
    "\n",
    "* A queue is represented by `q(L,E)`, where \n",
    "  + `L` is be an open list\n",
    "  + `E` is some suffix of L.\n",
    "* The contents of the queue are the elements in `L` that are not in `E`."
   ]
  },
  {
   "cell_type": "markdown",
   "metadata": {
    "slideshow": {
     "slide_type": "slide"
    }
   },
   "source": [
    "## Enter and Leave\n",
    "\n",
    "We will use predicates `enter` and `leave` to capture elements entering and leaving the queue.\n",
    "\n",
    "* `enter(a,Q,R)`: when an element `a` enters the queue `Q`, we get the queue `R`.\n",
    "* `leave(a,Q,R)`: when an element `a` leaves the queue `Q`, we get the queue `R`."
   ]
  },
  {
   "cell_type": "markdown",
   "metadata": {
    "slideshow": {
     "slide_type": "slide"
    }
   },
   "source": [
    "## Implementing the queues\n",
    "\n",
    "```\n",
    "setup(q(X,X)).\n",
    "leave(A, q(X,Z), q(Y,Z)) :- X = [A | Y].\n",
    "enter(A, q(X,Y), q(X,Z)) :- Y = [A | Z].\n",
    "wrapup(q([],[])).\n",
    "```\n",
    "\n",
    "Let's try\n",
    "\n",
    "```prolog\n",
    "?- setup(Q), enter(0,Q,R).\n",
    "Q = q([0|_9530], [0|_9530]),\n",
    "R = q([0|_9530], _9530).\n",
    "```\n",
    "\n",
    "* Quite a strange behaviour: Remove `0` from the suffix of `Q`!\n",
    "  + But as a result, the queue `R` has one element `0` which is not in the suffix.\n",
    "  + Therefore, the queue `R` has one element `0`. "
   ]
  },
  {
   "cell_type": "markdown",
   "metadata": {
    "slideshow": {
     "slide_type": "slide"
    }
   },
   "source": [
    "## Implementing Queues\n",
    "\n",
    "```\n",
    "leave(A, q(X,Z), q(Y,Z)) :- X = [A | Y].\n",
    "```\n",
    "\n",
    "while leave removes an element from the prefix. \n",
    "\n",
    "```\n",
    "enter(A, q(X,Y), q(X,Z)) :- Y = [A | Z].\n",
    "```\n",
    "\n",
    "enter removes element from the suffix!"
   ]
  },
  {
   "cell_type": "markdown",
   "metadata": {
    "slideshow": {
     "slide_type": "slide"
    }
   },
   "source": [
    "## Working with the queues\n",
    "\n",
    "```\n",
    "?- setup(Q), enter(a,Q,R), enter(b,R,S), \n",
    "   leave(X,S,T), leave(Y,T,U), wrapup(U).\n",
    "Q = q([a, b], [a, b]),\n",
    "R = q([a, b], [b]),\n",
    "S = q([a, b], []),\n",
    "X = a,\n",
    "T = q([b], []),\n",
    "Y = b,\n",
    "U = q([], []).\n",
    "```"
   ]
  },
  {
   "cell_type": "markdown",
   "metadata": {
    "slideshow": {
     "slide_type": "slide"
    }
   },
   "source": [
    "## Quiz 1\n",
    "\n",
    "Given \n",
    "\n",
    "```\n",
    "?- setup(Q), enter(a,Q,R), enter(b,R,S), \n",
    "   leave(X,S,T), leave(Y,T,U), wrapup(U).\n",
    "Q = q([a, b], [a, b]),\n",
    "R = q([a, b], [b]),\n",
    "S = q([a, b], []),\n",
    "X = a,\n",
    "T = q([b], []),\n",
    "Y = b,\n",
    "U = q([], []).\n",
    "```\n",
    "\n",
    "What are the lengths of Q, R, S, T, U?"
   ]
  },
  {
   "cell_type": "markdown",
   "metadata": {
    "slideshow": {
     "slide_type": "slide"
    }
   },
   "source": [
    "## Quiz 1\n",
    "\n",
    "Given \n",
    "\n",
    "```\n",
    "?- setup(Q), enter(a,Q,R), enter(b,R,S), \n",
    "   leave(X,S,T), leave(Y,T,U), wrapup(U).\n",
    "Q = q([a, b], [a, b]),\n",
    "R = q([a, b], [b]),\n",
    "S = q([a, b], []),\n",
    "X = a,\n",
    "T = q([b], []),\n",
    "Y = b,\n",
    "U = q([], []).\n",
    "```\n",
    "\n",
    "What are the lengths of Q, R, S, T, U? **0, 1, 2, 1, 0**."
   ]
  },
  {
   "cell_type": "markdown",
   "metadata": {
    "slideshow": {
     "slide_type": "slide"
    }
   },
   "source": [
    "## Deficit queues\n",
    "\n",
    "Interestingly, the implementation also works where arbitrary elements are first popped and then unfied with elements pushed later.\n",
    "\n",
    "```\n",
    "?- setup(Q), leave(X,Q,R), leave(Y,R,S), \n",
    "   enter(a,S,T), enter(b,T,U), wrapup(U).\n",
    "Q = q([a, b], [a, b]),\n",
    "X = a,\n",
    "R = q([b], [a, b]),\n",
    "Y = b,\n",
    "S = q([], [a, b]),\n",
    "T = q([], [b]),\n",
    "U = q([], []).\n",
    "```"
   ]
  },
  {
   "cell_type": "markdown",
   "metadata": {
    "slideshow": {
     "slide_type": "slide"
    }
   },
   "source": [
    "## Quiz 2\n",
    "\n",
    "Given \n",
    "\n",
    "```\n",
    "?- setup(Q), leave(X,Q,R), leave(Y,R,S), enter(a,S,T), enter(b,T,U), wrapup(U).\n",
    "Q = q([a, b], [a, b]),\n",
    "X = a,\n",
    "R = q([b], [a, b]),\n",
    "Y = b,\n",
    "S = q([], [a, b]),\n",
    "T = q([], [b]),\n",
    "U = q([], []).\n",
    "```\n",
    "\n",
    "What is the length of Q, R, S, T, and U?"
   ]
  },
  {
   "cell_type": "markdown",
   "metadata": {
    "slideshow": {
     "slide_type": "slide"
    }
   },
   "source": [
    "## Quiz 2\n",
    "\n",
    "Given \n",
    "\n",
    "```\n",
    "?- setup(Q), leave(X,Q,R), leave(Y,R,S), enter(a,S,T), enter(b,T,U), wrapup(U).\n",
    "Q = q([a, b], [a, b]),\n",
    "X = a,\n",
    "R = q([b], [a, b]),\n",
    "Y = b,\n",
    "S = q([], [a, b]),\n",
    "T = q([], [b]),\n",
    "U = q([], []).\n",
    "```\n",
    "\n",
    "What is the length of Q, R, S, T, and U? **0, -1, -2, -1, 0**"
   ]
  },
  {
   "cell_type": "markdown",
   "metadata": {
    "slideshow": {
     "slide_type": "slide"
    }
   },
   "source": [
    "## Quiz 3\n",
    "\n",
    "What is the result of this query?\n",
    "\n",
    "```\n",
    "?- setup(Q), leave(a,Q,R), wrapup(R).\n",
    "```\n",
    "\n",
    "1. false.\n",
    "2. true with some assignments for variables."
   ]
  },
  {
   "cell_type": "markdown",
   "metadata": {
    "slideshow": {
     "slide_type": "slide"
    }
   },
   "source": [
    "## Quiz 3\n",
    "\n",
    "What is the result of this query?\n",
    "\n",
    "```\n",
    "?- setup(Q), leave(a,Q,R), wrapup(R).\n",
    "```\n",
    "\n",
    "1. false. **✓**\n",
    "2. true with some assignments for variables."
   ]
  },
  {
   "cell_type": "markdown",
   "metadata": {
    "slideshow": {
     "slide_type": "slide"
    }
   },
   "source": [
    "## Quiz 4\n",
    "\n",
    "Given\n",
    "\n",
    "```\n",
    "setup(s(X,X)).\n",
    "leave(A, s(X,Z), s(Y,Z)) :- X = [A | Y].\n",
    "wrapup(q([],[])).\n",
    "```\n",
    "\n",
    "what is the `enter` rule for LIFO stack?\n",
    "\n",
    "1. `enter(A, s(X,Y), s(X,Z)) :- Y = [A | Z]`\n",
    "2. `enter(A, s(X,Z), s(Y,Z)) :- Y = [A | X]`\n",
    "3. `enter(A, s(X,Y), s(Y,Z)) :- X = [A | Y]`\n",
    "4. `enter(A, s(X,Z), s(Z,Y)) :- Y = [A | X]`"
   ]
  },
  {
   "cell_type": "markdown",
   "metadata": {
    "slideshow": {
     "slide_type": "slide"
    }
   },
   "source": [
    "## Quiz 4\n",
    "\n",
    "Given\n",
    "\n",
    "```\n",
    "setup(s(X,X)).\n",
    "leave(A, s(X,Z), s(Y,Z)) :- X = [A | Y].\n",
    "wrapup(q([],[])).\n",
    "```\n",
    "\n",
    "what is the `enter` rule for LIFO stack?\n",
    "\n",
    "1. `enter(A, s(X,Y), s(X,Z)) :- Y = [A | Z]`\n",
    "2. `enter(A, s(X,Z), s(Y,Z)) :- Y = [A | X]` **✓**\n",
    "3. `enter(A, s(X,Y), s(Y,Z)) :- X = [A | Y]`\n",
    "4. `enter(A, s(X,Z), s(Z,Y)) :- Y = [A | X]`"
   ]
  },
  {
   "cell_type": "markdown",
   "metadata": {
    "slideshow": {
     "slide_type": "slide"
    }
   },
   "source": [
    "## Simplifying the queue implementation\n",
    "\n",
    "```\n",
    "enter(A, q(X,Y), q(X,Z)) :- Y = [A | Z].\n",
    "leave(A, q(X,Z), q(Y,Z)) :- X = [A | Y].\n",
    "```\n",
    "\n",
    "can be simplified to\n",
    "\n",
    "```\n",
    "enter(A, q(X,[A | Z]), q(X,Z)).\n",
    "leave(A, q([A | Y],Z), q(Y,Z)).\n",
    "```\n",
    "\n",
    "by pushing the unification into the head of the rule to make it a fact."
   ]
  },
  {
   "cell_type": "markdown",
   "metadata": {
    "slideshow": {
     "slide_type": "slide"
    }
   },
   "source": [
    "## Motivating Difference Lists\n",
    "\n",
    "Recall the definition of `append` on regular lists"
   ]
  },
  {
   "cell_type": "code",
   "execution_count": 2,
   "metadata": {
    "slideshow": {
     "slide_type": "-"
    }
   },
   "outputs": [
    {
     "name": "stdout",
     "output_type": "stream",
     "text": [
      "Added 2 clauses(s)."
     ]
    }
   ],
   "source": [
    "append([],Q,Q).\n",
    "append([H | P], Q, [H | R]) :- append(P,Q,R)."
   ]
  },
  {
   "cell_type": "markdown",
   "metadata": {},
   "source": [
    "It is easy to see that this `append` is `O(N)` operation, where `N` is the length of the first list. "
   ]
  },
  {
   "cell_type": "markdown",
   "metadata": {
    "slideshow": {
     "slide_type": "slide"
    }
   },
   "source": [
    "## Motivating Difference Lists\n",
    "\n",
    "Given two lists `[1,2,3]` and `[4,5,6]`, we can rewrite them as \n",
    "\n",
    "```\n",
    "append(L1,L2,X)\n",
    "where\n",
    "L1 = [1,2,3 | []]\n",
    "L2 = [4,5,6 | []]\n",
    "```\n",
    "\n",
    "Instead of having `[]` as the tail, what if we had a variable."
   ]
  },
  {
   "cell_type": "markdown",
   "metadata": {
    "slideshow": {
     "slide_type": "slide"
    }
   },
   "source": [
    "## Motivating Difference Lists\n",
    "\n",
    "```\n",
    "append(L1,L2,X)\n",
    "where\n",
    "L1 = [1,2,3 | A]\n",
    "L2 = [4,5,6 | B]\n",
    "```\n",
    "\n",
    "* Then, append is really unifying `A` and `L2` to derive the result list `X = [1,2,3,4,5,6 | B]`.\n",
    "* Now, `append` becomes an `O(1)` operation.\n",
    "* Such a list representation is known as a **difference list**."
   ]
  },
  {
   "cell_type": "markdown",
   "metadata": {
    "slideshow": {
     "slide_type": "slide"
    }
   },
   "source": [
    "## Reimplementing Append\n",
    "\n",
    "```\n",
    "append(L1,S1,L2,S2,L3,S3) :- ...\n",
    "```\n",
    "\n",
    "where `Li` is the reference to the list, and `Si` is the reference to the some suffix of the list. \n",
    "\n",
    "* Similar to queues, the content of each list is the list of all elements in `Li` not in `Si`\n",
    "  + Hence the name difference list."
   ]
  },
  {
   "cell_type": "markdown",
   "metadata": {
    "slideshow": {
     "slide_type": "slide"
    }
   },
   "source": [
    "## Reimplementing Append\n",
    "\n",
    "```\n",
    "append(L1,S1,L2,S2,L3,S3) :- S1 = L2, L1=L3, S2=S3.\n",
    "```\n",
    "\n",
    "Pushing the unification into the head of the rule, we get\n",
    "\n",
    "```\n",
    "append(L1,L2,L2,S2,L1,S2).\n",
    "```\n",
    "\n",
    "Renaming the variables, we get.\n",
    "\n",
    "```\n",
    "append(A,B,B,C,A,C).\n",
    "```"
   ]
  },
  {
   "cell_type": "markdown",
   "metadata": {
    "slideshow": {
     "slide_type": "slide"
    }
   },
   "source": [
    "## Convenient notation for difference lists\n",
    "\n",
    "* We can introduce an infix function symbol `-` to represent difference lists.\n",
    "  + `A-B` represents a difference list with list `A` with some suffix `B`.\n",
    "* Whenever you see `A-B`, you should imagine `[...|B]-B`.\n",
    "\n",
    "Rewriting the append rule\n",
    "\n",
    "```\n",
    "append(A-B,B-C,A-C).\n",
    "```"
   ]
  },
  {
   "cell_type": "markdown",
   "metadata": {
    "slideshow": {
     "slide_type": "slide"
    }
   },
   "source": [
    "## Quiz\n",
    "\n",
    "How should you represent an empty difference list?\n",
    "\n",
    "1. []\n",
    "2. []-[]\n",
    "3. A-A\n",
    "4. [A]"
   ]
  },
  {
   "cell_type": "markdown",
   "metadata": {
    "slideshow": {
     "slide_type": "slide"
    }
   },
   "source": [
    "## Quiz\n",
    "\n",
    "How should you represent an empty difference list?\n",
    "\n",
    "1. []\n",
    "2. []-[]\n",
    "3. A-A **✓**\n",
    "4. [A]"
   ]
  },
  {
   "cell_type": "markdown",
   "metadata": {
    "slideshow": {
     "slide_type": "slide"
    }
   },
   "source": [
    "## Empty difference list representation\n",
    "\n",
    "```\n",
    "append(A-B,B-C,A-C)\n",
    "```\n",
    "\n",
    "Consider appending onto an empty difference list. \n",
    "\n",
    "With the empty list represented using `A-A`, we get\n",
    "\n",
    "```\n",
    "append(A-A,[1,2,3|C]-C,A-C)\n",
    "```\n",
    "\n",
    "The unifications we get are `A = [1,2,3|C]`. Hence the result is just `[1,2,3|C]-C`, which is what we want. "
   ]
  },
  {
   "cell_type": "markdown",
   "metadata": {
    "slideshow": {
     "slide_type": "slide"
    }
   },
   "source": [
    "## Empty difference list representation\n",
    "\n",
    "```\n",
    "append(A-B,B-C,A-C)\n",
    "```\n",
    "\n",
    "OTOH, with the empty list represented using `[]-[]`, we get\n",
    "\n",
    "```\n",
    "append([]-[],[1,2,3|C]-C,A-C)\n",
    "```\n",
    "\n",
    "which fails to unify since `[]` does not unify with `[1,2,3|C]`.\n",
    "\n",
    "* It appears that the correct way to encode an empty difference list is `A-A`.\n",
    "  + But this can cause problems sometimes."
   ]
  },
  {
   "cell_type": "markdown",
   "metadata": {
    "slideshow": {
     "slide_type": "slide"
    }
   },
   "source": [
    "## Unification issues with empty difference list\n",
    "\n",
    "Consider\n",
    "\n",
    "```\n",
    "A-A = [1,2,3|B]-B\n",
    "```\n",
    "\n",
    "The second term on LHS, `A` unfies with `B` on RHS. So we get,\n",
    "\n",
    "```\n",
    "A-A = [1,2,3|A]-A\n",
    "```\n",
    "\n",
    "Now, unfifying `A` with `[1,2,3|A]`, makes `A` an infinite term `[1,2,3 | [1,2,3 | [1,2,3 [...]]]]`.\n",
    "\n",
    "This is the lack of **occurs check** before unfication in prolog. "
   ]
  },
  {
   "cell_type": "markdown",
   "metadata": {
    "slideshow": {
     "slide_type": "slide"
    }
   },
   "source": [
    "## length of difference list.\n",
    "\n",
    "Length of an ordinary list\n",
    "\n",
    "```\n",
    "len([],0).\n",
    "len([H|T],N) :- len(T,M), N is M+1.\n",
    "```\n",
    "\n",
    "We might try to write down the length of a difference list using the same structure:\n",
    "\n",
    "```\n",
    "len(A-A,0).\n",
    "len([_|T]-T1,N) :- len(T-T1,M), N is M+1.\n",
    "```"
   ]
  },
  {
   "cell_type": "markdown",
   "metadata": {
    "slideshow": {
     "slide_type": "slide"
    }
   },
   "source": [
    "## Quiz\n",
    "\n",
    "What is the length of `len([1,2,3|A]-A,B)`?\n",
    "\n",
    "1. A = _, B = 3\n",
    "2. Error: Arguments not sufficiently instantiated\n",
    "3. A = infinite term, B = 0\n",
    "4. false."
   ]
  },
  {
   "cell_type": "markdown",
   "metadata": {
    "slideshow": {
     "slide_type": "slide"
    }
   },
   "source": [
    "## Quiz\n",
    "\n",
    "What is the length of `len([1,2,3|A]-A,B)`?\n",
    "\n",
    "1. A = _, B = 3\n",
    "2. Error: Arguments not sufficiently instantiated\n",
    "3. A = infinite term, B = 0 **✓**\n",
    "4. false.\n",
    "\n",
    "`len([1,2,3 | A]-A, B)` unifies with `len(A-A,B)`."
   ]
  },
  {
   "cell_type": "markdown",
   "metadata": {
    "slideshow": {
     "slide_type": "slide"
    }
   },
   "source": [
    "## Quiz\n",
    "\n",
    "What is the length of `len([1,2,3|A]-A,B)`?\n",
    "\n",
    "1. A = _, B = 3 **✓**\n",
    "2. Error: Arguments not sufficiently instantiated\n",
    "3. A = infinite term, B = 0 **✓**\n",
    "4. false.\n",
    "\n",
    "Surprisingly, `A = _, B = 3` is also one of the results. \n",
    "\n",
    "**Exercise**: Trace by hand. "
   ]
  },
  {
   "cell_type": "markdown",
   "metadata": {
    "slideshow": {
     "slide_type": "slide"
    }
   },
   "source": [
    "## Solution 1: Grounding the empty difference list\n",
    "\n",
    "You can ground the empty difference list by forcing an empty difference list to unify with a pair of empty lists. \n",
    "\n",
    "```\n",
    "len2([]-[],0).\n",
    "len2([_|T]-T1,N) :- len2(T-T1,M), N is M+1.\n",
    "```\n",
    "\n",
    "* This gives the right answer for `len2([1,2,3|A]-A,B)`\n",
    "  + But unifies the tail of the list `A` with `[]` and destroys extensibility.\n",
    "  + Seemingly pure length function also mutates the list :-( "
   ]
  },
  {
   "cell_type": "markdown",
   "metadata": {
    "slideshow": {
     "slide_type": "slide"
    }
   },
   "source": [
    "## Solution 2: occurs check\n",
    "\n",
    "* Infinite list problem occurs due to `[1,2,3|A]` unifying with `A`. \n",
    "  + Let us enable occurs check to prevent these terms from unifying.\n",
    "  \n",
    "```\n",
    "len3(A-A1,0) :- unify_with_occurs_check(A,A1).\n",
    "len3([_|T]-T1,N) :- len3(T-T1,M), N is M+1.\n",
    "```\n",
    "\n",
    "You can also enable occurs_check by default by the query\n",
    "\n",
    "```\n",
    "?- set_prolog_flag(occurs_check,true).\n",
    "```"
   ]
  },
  {
   "cell_type": "markdown",
   "metadata": {
    "slideshow": {
     "slide_type": "slide"
    }
   },
   "source": [
    "## Difference list rotation\n",
    "\n",
    "```\n",
    "Define a procedure rotate(X,Y) where both X and Y are \n",
    "represented by difference lists, and Y is formed by \n",
    "rotating X to the left by one element.\n",
    "```"
   ]
  },
  {
   "cell_type": "markdown",
   "metadata": {
    "slideshow": {
     "slide_type": "slide"
    }
   },
   "source": [
    "## List rotation\n",
    "\n",
    "```\n",
    "rotate([H|T],L) :- append(T,[H],L).\n",
    "```"
   ]
  },
  {
   "cell_type": "markdown",
   "metadata": {
    "slideshow": {
     "slide_type": "slide"
    }
   },
   "source": [
    "## Rewrite with difference lists\n",
    "\n",
    "```\n",
    "rotate([H|T],R) :- append(T,[H],R).\n",
    "```\n",
    "\n",
    "becomes\n",
    "\n",
    "```\n",
    "rotate([H|T]-T1,R-S) :- append(T-T1,[H|A]-A,R-S).\n",
    "```"
   ]
  },
  {
   "cell_type": "markdown",
   "metadata": {
    "slideshow": {
     "slide_type": "slide"
    }
   },
   "source": [
    "## Rename the variables\n",
    "\n",
    "```\n",
    "rotate([H|T]-T1,R-S) :- append(T-T1,[H|A]-A,R-S).\n",
    "```\n",
    "\n",
    "* `append` will unify `T1 = [H|A]`, `T = R` and `A = S`.\n",
    "  + Apply this renaming.\n",
    "  \n",
    "```\n",
    "rotate([H|T]-[H|A],T-A) :- append(T-[H|A],[H|A]-A,T-A).\n",
    "```"
   ]
  },
  {
   "cell_type": "markdown",
   "metadata": {
    "slideshow": {
     "slide_type": "slide"
    }
   },
   "source": [
    "## Get rid of append\n",
    "\n",
    "```\n",
    "rotate([H|T]-[H|A],T-A) :- append(T-[H|A],[H|A]-A,T-A).\n",
    "```\n",
    "\n",
    "* Observe that the `append` is redundant\n",
    "  + When this append succeeds, no new unifications are obtained.\n",
    "  + Remove it to get\n",
    "  \n",
    "```\n",
    "rotate([H|T]-[H|A],T-A).\n",
    "```"
   ]
  },
  {
   "cell_type": "markdown",
   "metadata": {
    "slideshow": {
     "slide_type": "slide"
    }
   },
   "source": [
    "## Testing Rotate\n",
    "\n",
    "```prolog\n",
    "?- rotate([1,2,3|A]-A,R).\n",
    "A = [1|_12344],\n",
    "R = [2, 3, 1|_12344]-_12344.\n",
    "```"
   ]
  },
  {
   "cell_type": "markdown",
   "metadata": {
    "slideshow": {
     "slide_type": "slide"
    }
   },
   "source": [
    "<center>\n",
    "\n",
    "<h1> Fin. </h1>\n",
    "</center>"
   ]
  }
 ],
 "metadata": {
  "celltoolbar": "Slideshow",
  "kernelspec": {
   "display_name": "SWI-Prolog",
   "language": "",
   "name": "jswipl"
  },
  "language_info": {
   "mimetype": "text/plain",
   "name": "swipl"
  }
 },
 "nbformat": 4,
 "nbformat_minor": 2
}
