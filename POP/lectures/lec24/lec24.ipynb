{
 "cells": [
  {
   "cell_type": "markdown",
   "metadata": {
    "slideshow": {
     "slide_type": "slide"
    }
   },
   "source": [
    "<center>\n",
    "\n",
    "<h1> Cuts and Negation </h1>\n",
    "<h2> CS3100 Fall 2019 </h2>\n",
    "</center>"
   ]
  },
  {
   "cell_type": "markdown",
   "metadata": {
    "slideshow": {
     "slide_type": "slide"
    }
   },
   "source": [
    "## Review\n",
    "\n",
    "### Previously\n",
    "\n",
    "* Generate and Test: A design pattern for logic programming\n",
    "\n",
    "### This lecture\n",
    "\n",
    "* Cuts\n",
    "  + A mechanism for pruning Prolog search trees\n",
    "  + Red and Green cuts"
   ]
  },
  {
   "cell_type": "markdown",
   "metadata": {
    "slideshow": {
     "slide_type": "slide"
    }
   },
   "source": [
    "## Evaluator\n",
    "\n",
    "Consider a simple evaluator for arithmetic expressions."
   ]
  },
  {
   "cell_type": "code",
   "execution_count": 1,
   "metadata": {},
   "outputs": [
    {
     "name": "stdout",
     "output_type": "stream",
     "text": [
      "Added 3 rule(s)."
     ]
    }
   ],
   "source": [
    "eval(plus(A,B),C) :- eval(A,VA), eval(B,VB), C is VA + VB.\n",
    "eval(mult(A,B),C) :- eval(A,VA), eval(B,VB), C is VA * VB.\n",
    "eval(A,A)."
   ]
  },
  {
   "cell_type": "markdown",
   "metadata": {
    "slideshow": {
     "slide_type": "slide"
    }
   },
   "source": [
    "## Evaluator\n",
    "\n",
    "What is the result of evaluating `1 + (4 * 5)`?"
   ]
  },
  {
   "cell_type": "code",
   "execution_count": 4,
   "metadata": {},
   "outputs": [
    {
     "name": "stdout",
     "output_type": "stream",
     "text": [
      "X = 21 ."
     ]
    }
   ],
   "source": [
    "?- eval(plus(1,mult(4,5)),X) {1}."
   ]
  },
  {
   "cell_type": "code",
   "execution_count": 5,
   "metadata": {},
   "outputs": [
    {
     "name": "stdout",
     "output_type": "stream",
     "text": [
      "ERROR: Caused by: '  eval(plus(1,mult(4,5)),X) '. Returned: 'error(type_error(evaluable, /(mult, 2)), context(:(system, /(is, 2)), _G1079))'."
     ]
    }
   ],
   "source": [
    "?- eval(plus(1,mult(4,5)),X) {2}."
   ]
  },
  {
   "cell_type": "markdown",
   "metadata": {},
   "source": [
    "Trace `eval(plus(1,mult(4,5)),X)` by hand."
   ]
  },
  {
   "cell_type": "markdown",
   "metadata": {
    "slideshow": {
     "slide_type": "slide"
    }
   },
   "source": [
    "## Fixing the evaluator - with wrapper\n",
    "\n",
    "Wrap the values in a function `value`."
   ]
  },
  {
   "cell_type": "code",
   "execution_count": 6,
   "metadata": {},
   "outputs": [
    {
     "name": "stdout",
     "output_type": "stream",
     "text": [
      "Added 3 rule(s)."
     ]
    }
   ],
   "source": [
    "eval2(plus(A,B),C) :- eval2(A,VA), eval2(B,VB), C is VA + VB.\n",
    "eval2(mult(A,B),C) :- eval2(A,VA), eval2(B,VB), C is VA * VB.\n",
    "eval2(value(A),A)."
   ]
  },
  {
   "cell_type": "code",
   "execution_count": 7,
   "metadata": {
    "scrolled": true
   },
   "outputs": [
    {
     "name": "stdout",
     "output_type": "stream",
     "text": [
      "X = 21 ."
     ]
    }
   ],
   "source": [
    "?- eval2(plus(value(1),mult(value(4),value(5))),X)."
   ]
  },
  {
   "cell_type": "markdown",
   "metadata": {
    "slideshow": {
     "slide_type": "slide"
    }
   },
   "source": [
    "## Fixing the evaluator - with cut\n",
    "\n",
    "* The **cut** (!) is an extra-logical (outside pure logic) operator that prunes the search trees. \n",
    "* When the evaluation cross a cut, it prunes\n",
    "  + All the subsequent possible branches in the parent.\n",
    "  + All the subsequent possible branches in the preceeding sub-goals."
   ]
  },
  {
   "cell_type": "code",
   "execution_count": 9,
   "metadata": {},
   "outputs": [
    {
     "name": "stdout",
     "output_type": "stream",
     "text": [
      "Added 3 rule(s)."
     ]
    }
   ],
   "source": [
    "eval3(plus(A,B),C) :- !, eval3(A,VA), eval3(B,VB), C is VA + VB.\n",
    "eval3(mult(A,B),C) :- !, eval3(A,VA), eval3(B,VB), C is VA * VB.\n",
    "eval3(A,A)."
   ]
  },
  {
   "cell_type": "code",
   "execution_count": 10,
   "metadata": {},
   "outputs": [
    {
     "name": "stdout",
     "output_type": "stream",
     "text": [
      "X = 21 ."
     ]
    }
   ],
   "source": [
    "?- eval3(plus(1,mult(4,5)),X)."
   ]
  },
  {
   "cell_type": "markdown",
   "metadata": {
    "slideshow": {
     "slide_type": "slide"
    }
   },
   "source": [
    "## Cut behaviour"
   ]
  },
  {
   "cell_type": "code",
   "execution_count": 1,
   "metadata": {},
   "outputs": [
    {
     "name": "stdout",
     "output_type": "stream",
     "text": [
      "Added 5 rule(s)."
     ]
    }
   ],
   "source": [
    "p(a).\n",
    "p(b).\n",
    "r(c).\n",
    "q(X) :- !, p(X).\n",
    "q(X) :- r(X)."
   ]
  },
  {
   "cell_type": "code",
   "execution_count": 2,
   "metadata": {},
   "outputs": [
    {
     "name": "stdout",
     "output_type": "stream",
     "text": [
      "X = a ;\n",
      "X = b ."
     ]
    }
   ],
   "source": [
    "?- q(X)."
   ]
  },
  {
   "cell_type": "markdown",
   "metadata": {
    "slideshow": {
     "slide_type": "slide"
    }
   },
   "source": [
    "## Quiz\n",
    "\n",
    "What does `split/3` do?\n",
    "\n",
    "```prolog\n",
    "split([],[],[]).\n",
    "split([H|T],[H|L],R) :- H < 5, split(T,L,R).\n",
    "split([H|T],L,[H|R]) :- H >= 5, split(T,L,R).\n",
    "```"
   ]
  },
  {
   "cell_type": "markdown",
   "metadata": {
    "slideshow": {
     "slide_type": "fragment"
    }
   },
   "source": [
    "It splits the given list into elements less than 5 and greater than or equal to 5."
   ]
  },
  {
   "cell_type": "markdown",
   "metadata": {
    "slideshow": {
     "slide_type": "slide"
    }
   },
   "source": [
    "## Split"
   ]
  },
  {
   "cell_type": "code",
   "execution_count": 3,
   "metadata": {},
   "outputs": [
    {
     "name": "stdout",
     "output_type": "stream",
     "text": [
      "Added 3 rule(s)."
     ]
    }
   ],
   "source": [
    "split([],[],[]).\n",
    "split([H|T],[H|L],R) :- H < 5, split(T,L,R).\n",
    "split([H|T],L,[H|R]) :- H >= 5, split(T,L,R)."
   ]
  },
  {
   "cell_type": "code",
   "execution_count": 4,
   "metadata": {},
   "outputs": [
    {
     "name": "stdout",
     "output_type": "stream",
     "text": [
      "R = [ 5, 6, 7, 8, 9 ], L = [ 1, 2, 3, 4 ] ."
     ]
    }
   ],
   "source": [
    "?- split([1,2,3,4,5,6,7,8,9],L,R)."
   ]
  },
  {
   "cell_type": "markdown",
   "metadata": {},
   "source": [
    "* Observe that the last two cases are mutually exclusive. \n",
    "  + But Prolog still searches through the third rule, if second rule was successfully matched."
   ]
  },
  {
   "cell_type": "markdown",
   "metadata": {
    "slideshow": {
     "slide_type": "slide"
    }
   },
   "source": [
    "## Split with cut"
   ]
  },
  {
   "cell_type": "code",
   "execution_count": 3,
   "metadata": {},
   "outputs": [
    {
     "name": "stdout",
     "output_type": "stream",
     "text": [
      "Added 3 rule(s)."
     ]
    }
   ],
   "source": [
    "split([],[],[]).\n",
    "split([H|T],[H|L],R) :- H < 5, !, split(T,L,R).\n",
    "split([H|T],L,[H|R]) :- H >= 5, !, split(T,L,R)."
   ]
  },
  {
   "cell_type": "markdown",
   "metadata": {},
   "source": [
    "* The second `!` is unnecessary as there are no further choices.\n",
    "  + In fact, the predicate `H >= 5` is unnecessary since the only way to end up here is if the first rule failed.\n",
    "  + But better to leave it there for readability.\n",
    "* Recommendation:\n",
    "  + Use cut to optimise execution, but retain predicates which help readability. "
   ]
  },
  {
   "cell_type": "markdown",
   "metadata": {
    "slideshow": {
     "slide_type": "slide"
    }
   },
   "source": [
    "## Quiz\n",
    "\n",
    "What is the logical meaning of these clauses?\n",
    "\n",
    "```prolog\n",
    "p :- a,b.\n",
    "p :- c.\n",
    "```\n",
    "\n",
    "1. $p \\leftrightarrow (a \\wedge b) \\vee c$.\n",
    "2. $p \\leftrightarrow a \\wedge b \\wedge c$.\n",
    "3. $p \\leftrightarrow (a \\wedge b) \\vee (\\neg a \\wedge c)$.\n",
    "4. $p \\leftrightarrow a \\wedge (b \\vee c)$."
   ]
  },
  {
   "cell_type": "markdown",
   "metadata": {
    "slideshow": {
     "slide_type": "slide"
    }
   },
   "source": [
    "## Quiz\n",
    "\n",
    "What is the logical meaning of these clauses?\n",
    "\n",
    "```prolog\n",
    "p :- a,b.\n",
    "p :- c.\n",
    "```\n",
    "\n",
    "1. $p \\leftrightarrow (a \\wedge b) \\vee c$. **✓**\n",
    "2. $p \\leftrightarrow a \\wedge b \\wedge c$.\n",
    "3. $p \\leftrightarrow (a \\wedge b) \\vee (\\neg a \\wedge c)$.\n",
    "4. $p \\leftrightarrow a \\wedge (b \\vee c)$."
   ]
  },
  {
   "cell_type": "markdown",
   "metadata": {
    "slideshow": {
     "slide_type": "slide"
    }
   },
   "source": [
    "## Quiz\n",
    "\n",
    "What is the logical meaning of these clauses?\n",
    "\n",
    "```prolog\n",
    "p :- a,!,b.\n",
    "p :- c.\n",
    "```\n",
    "\n",
    "1. $p \\leftrightarrow (a \\wedge b) \\vee c$.\n",
    "2. $p \\leftrightarrow a \\wedge b \\wedge c$.\n",
    "3. $p \\leftrightarrow (a \\wedge b) \\vee (\\neg a \\wedge c)$.\n",
    "4. $p \\leftrightarrow a \\wedge (b \\vee c)$."
   ]
  },
  {
   "cell_type": "markdown",
   "metadata": {
    "slideshow": {
     "slide_type": "slide"
    }
   },
   "source": [
    "## Quiz\n",
    "\n",
    "What is the logical meaning of these clauses?\n",
    "\n",
    "```prolog\n",
    "p :- a,!,b.\n",
    "p :- c.\n",
    "```\n",
    "\n",
    "1. $p \\leftrightarrow (a \\wedge b) \\vee c$.\n",
    "2. $p \\leftrightarrow a \\wedge b \\wedge c$.\n",
    "3. $p \\leftrightarrow (a \\wedge b) \\vee (\\neg a \\wedge c)$.  **✓**\n",
    "4. $p \\leftrightarrow a \\wedge (b \\vee c)$."
   ]
  },
  {
   "cell_type": "markdown",
   "metadata": {
    "slideshow": {
     "slide_type": "slide"
    }
   },
   "source": [
    "## Red and Green cuts\n",
    "\n",
    "```prolog\n",
    "p :- a,!,b.\n",
    "p :- c.\n",
    "```\n",
    "\n",
    "Since the cut above changes the logical meaning of the program, it is known as **Red cut**.\n",
    "\n",
    "```prolog\n",
    "split([],[],[]).\n",
    "split([H|T],[H|L],R) :- H < 5, !, split(T,L,R).\n",
    "split([H|T],L,[H|R]) :- H >= 5, split(T,L,R).\n",
    "```\n",
    "\n",
    "The cut in split does not change the logical meaning of the program. Hence, it is called **Green cut**."
   ]
  },
  {
   "cell_type": "markdown",
   "metadata": {
    "slideshow": {
     "slide_type": "slide"
    }
   },
   "source": [
    "## Remove Stutter"
   ]
  },
  {
   "cell_type": "code",
   "execution_count": 1,
   "metadata": {},
   "outputs": [
    {
     "name": "stdout",
     "output_type": "stream",
     "text": [
      "Added 4 rule(s)."
     ]
    }
   ],
   "source": [
    "remove_stutter([],[]).\n",
    "remove_stutter([H],[H]).\n",
    "remove_stutter([H,H|T],L) :- !, remove_stutter([H|T],L).\n",
    "remove_stutter([X,Y|T],[X|L]) :- remove_stutter([Y|T],L)."
   ]
  },
  {
   "cell_type": "code",
   "execution_count": 2,
   "metadata": {},
   "outputs": [
    {
     "name": "stdout",
     "output_type": "stream",
     "text": [
      "X = [ 1, 2, 3, 4, 1 ] ."
     ]
    }
   ],
   "source": [
    "?- remove_stutter([1,1,2,2,2,3,4,1,1],X)."
   ]
  },
  {
   "cell_type": "markdown",
   "metadata": {
    "slideshow": {
     "slide_type": "slide"
    }
   },
   "source": [
    "## Remove Stutter\n",
    "\n",
    "Can be equivalently written as:"
   ]
  },
  {
   "cell_type": "code",
   "execution_count": 3,
   "metadata": {},
   "outputs": [
    {
     "name": "stdout",
     "output_type": "stream",
     "text": [
      "Added 4 rule(s)."
     ]
    }
   ],
   "source": [
    "remove_stutter2([],[]).\n",
    "remove_stutter2([H],[H]).\n",
    "remove_stutter2([H,H|T],L) :- remove_stutter2([H|T],L).\n",
    "remove_stutter2([X,Y|T],[X|L]) :- not(X=Y), remove_stutter2([Y|T],L)."
   ]
  },
  {
   "cell_type": "code",
   "execution_count": 4,
   "metadata": {},
   "outputs": [
    {
     "name": "stdout",
     "output_type": "stream",
     "text": [
      "X = [ 1, 2, 3, 4, 1 ] ."
     ]
    }
   ],
   "source": [
    "?- remove_stutter2([1,1,2,2,2,3,4,1,1],X)."
   ]
  },
  {
   "cell_type": "markdown",
   "metadata": {
    "slideshow": {
     "slide_type": "slide"
    }
   },
   "source": [
    "## Negation\n",
    "\n",
    "* What is the relationship between cut and negation?\n",
    "* With the use of negation, the clause is not longer a definite clause. What's going on here?"
   ]
  },
  {
   "cell_type": "markdown",
   "metadata": {
    "slideshow": {
     "slide_type": "slide"
    }
   },
   "source": [
    "## Quiz\n",
    "\n",
    "What does this do?\n",
    "\n",
    "```prolog\n",
    "a :- !, 1=2.\n",
    "?- a.\n",
    "```\n",
    "\n",
    "1. successfully unfies 1 with 2\n",
    "2. throws an exception\n",
    "3. loops indefinitely\n",
    "4. fails"
   ]
  },
  {
   "cell_type": "markdown",
   "metadata": {
    "slideshow": {
     "slide_type": "slide"
    }
   },
   "source": [
    "## Quiz\n",
    "\n",
    "What does this do?\n",
    "\n",
    "```prolog\n",
    "a :- !, 1=2.\n",
    "?- a.\n",
    "```\n",
    "\n",
    "1. successfully unfies 1 with 2\n",
    "2. throws an exception\n",
    "3. loops indefinitely\n",
    "4. fails **✓**\n",
    "\n",
    "\n",
    "* You can give a better name for `a/0`: `fail/0`.\n",
    "  + Prolog has an built-in predicate `fail/0`, which always fails. "
   ]
  },
  {
   "cell_type": "markdown",
   "metadata": {
    "slideshow": {
     "slide_type": "slide"
    }
   },
   "source": [
    "## Quiz\n",
    "\n",
    "What does this do?\n",
    "\n",
    "```prolog\n",
    "a(A,A) :- !,fail.\n",
    "a(_,_).\n",
    "```\n",
    "\n",
    "1. unifies the two arguments\n",
    "2. succeeds if the arguments unify\n",
    "3. succeeds if the arguments don't unify\n",
    "4. always fails"
   ]
  },
  {
   "cell_type": "markdown",
   "metadata": {
    "slideshow": {
     "slide_type": "slide"
    }
   },
   "source": [
    "## Quiz\n",
    "\n",
    "What does this do?\n",
    "\n",
    "```prolog\n",
    "a(A,A) :- !,fail.\n",
    "a(_,_).\n",
    "```\n",
    "\n",
    "1. unifies the two arguments\n",
    "2. succeeds if the arguments unify\n",
    "3. succeeds if the arguments don't unify **✓**\n",
    "4. always fails\n",
    "\n",
    "You can give a better name for `a/2`: `is_different/2`."
   ]
  },
  {
   "cell_type": "markdown",
   "metadata": {
    "slideshow": {
     "slide_type": "slide"
    }
   },
   "source": [
    "## Failure on unification"
   ]
  },
  {
   "cell_type": "code",
   "execution_count": 5,
   "metadata": {},
   "outputs": [
    {
     "name": "stdout",
     "output_type": "stream",
     "text": [
      "Added 2 rule(s)."
     ]
    }
   ],
   "source": [
    "is_different(A,A) :- !,fail.\n",
    "is_different(_,_)."
   ]
  },
  {
   "cell_type": "code",
   "execution_count": 6,
   "metadata": {},
   "outputs": [
    {
     "name": "stdout",
     "output_type": "stream",
     "text": [
      "true."
     ]
    }
   ],
   "source": [
    "?- is_different(m,n)."
   ]
  },
  {
   "cell_type": "markdown",
   "metadata": {
    "slideshow": {
     "slide_type": "slide"
    }
   },
   "source": [
    "## Behaviour of fail and is_different\n",
    "\n",
    "* Clauses such as 'fail' and 'isDifferent' can cause us to backtrack in unusual ways.\n",
    "* This will undo any variable unifications along the way."
   ]
  },
  {
   "cell_type": "markdown",
   "metadata": {
    "slideshow": {
     "slide_type": "slide"
    }
   },
   "source": [
    "## Negation by failure\n",
    "\n",
    "We can now implement `not` using negation-by-failure.\n",
    "\n",
    "```prolog\n",
    "not(A) :- A,!,fail.\n",
    "not(_).\n",
    "```"
   ]
  },
  {
   "cell_type": "code",
   "execution_count": 7,
   "metadata": {},
   "outputs": [
    {
     "name": "stdout",
     "output_type": "stream",
     "text": [
      "false."
     ]
    }
   ],
   "source": [
    "?- \\+ X=2."
   ]
  },
  {
   "cell_type": "markdown",
   "metadata": {},
   "source": [
    "* `not/1` is a built-in in Prolog.\n",
    "* You may also write `not(A)` as `\\+A`. "
   ]
  },
  {
   "cell_type": "markdown",
   "metadata": {
    "slideshow": {
     "slide_type": "slide"
    }
   },
   "source": [
    "## Quiz\n",
    "\n",
    "What sort of a cut is this?\n",
    "\n",
    "```prolog\n",
    "not(A) :- A,!,fail.\n",
    "not(_).\n",
    "```\n",
    "\n",
    "1. red.\n",
    "2. amber.\n",
    "3. green."
   ]
  },
  {
   "cell_type": "markdown",
   "metadata": {
    "slideshow": {
     "slide_type": "slide"
    }
   },
   "source": [
    "## Quiz\n",
    "\n",
    "What sort of a cut is this?\n",
    "\n",
    "```prolog\n",
    "not(A) :- A,!,fail.\n",
    "not(_).\n",
    "```\n",
    "\n",
    "1. red. **✓**\n",
    "2. amber.\n",
    "3. green.\n",
    "\n",
    "If the cut were not there, then the first rule would always fail, but the second rule will always succeed."
   ]
  },
  {
   "cell_type": "markdown",
   "metadata": {},
   "source": [
    "## Closed world assumption\n",
    "\n",
    "Everything that is true in the \"world\" is stated (or can be derived from) the clauses in the program. \n",
    "\n",
    "`not` is based on the closed world assumption.\n",
    "\n",
    "`not(A)` holds if it cannot be shown from the given clauses that `A` holds."
   ]
  },
  {
   "cell_type": "markdown",
   "metadata": {
    "slideshow": {
     "slide_type": "slide"
    }
   },
   "source": [
    "## Example: Buying a phone"
   ]
  },
  {
   "cell_type": "code",
   "execution_count": 8,
   "metadata": {},
   "outputs": [
    {
     "name": "stdout",
     "output_type": "stream",
     "text": [
      "Added 4 rule(s)."
     ]
    }
   ],
   "source": [
    "goodPhone(iphone11pro).\n",
    "goodPhone(oneplus7tpro).\n",
    "expensive(iphone11pro).\n",
    "\n",
    "bargain(X) :- goodPhone(X), not(expensive(X))."
   ]
  },
  {
   "cell_type": "code",
   "execution_count": 9,
   "metadata": {},
   "outputs": [
    {
     "name": "stdout",
     "output_type": "stream",
     "text": [
      "X = oneplus7tpro ."
     ]
    }
   ],
   "source": [
    "?- bargain(X)."
   ]
  },
  {
   "cell_type": "markdown",
   "metadata": {
    "slideshow": {
     "slide_type": "slide"
    }
   },
   "source": [
    "## Simple mistake with negation"
   ]
  },
  {
   "cell_type": "code",
   "execution_count": 15,
   "metadata": {},
   "outputs": [
    {
     "name": "stdout",
     "output_type": "stream",
     "text": [
      "Added 4 clauses(s)."
     ]
    }
   ],
   "source": [
    "goodPhone2(iphone11pro).\n",
    "goodPhone2(oneplus7tpro).\n",
    "expensive2(iphone11pro).\n",
    "\n",
    "bargain2(X) :- not(expensive2(X)), goodPhone2(X)."
   ]
  },
  {
   "cell_type": "code",
   "execution_count": 16,
   "metadata": {
    "scrolled": false
   },
   "outputs": [
    {
     "name": "stdout",
     "output_type": "stream",
     "text": [
      "false."
     ]
    }
   ],
   "source": [
    "?- bargain2(X)."
   ]
  },
  {
   "cell_type": "markdown",
   "metadata": {
    "slideshow": {
     "slide_type": "slide"
    }
   },
   "source": [
    "## What went wrong?\n",
    "\n",
    "Trace through:\n",
    "\n",
    "```prolog\n",
    "goodPhone2(iphone11pro).\n",
    "goodPhone2(oneplus7tpro).\n",
    "expensive2(iphone11pro).\n",
    "\n",
    "not(A) :- A,!,fail.\n",
    "not(_).\n",
    "\n",
    "bargain2(X) :- not(expensive2(X)), goodPhone2(X).\n",
    "\n",
    "?- bargain2(X).\n",
    "```"
   ]
  },
  {
   "cell_type": "markdown",
   "metadata": {
    "slideshow": {
     "slide_type": "slide"
    }
   },
   "source": [
    "## When using negation remember the quantifier\n",
    "\n",
    "Our negation is not a logical one.\n",
    "\n",
    "`expensive2(X)` is $\\exists x.expensive2(x)$.\n",
    "\n",
    "Our `not(expensive2(X)` is $\\neg (\\exists x.expensive2(x)) \\equiv \\forall x.\\neg expensive2(x))$\n",
    "\n",
    "Hence, the rule\n",
    "\n",
    "```prolog\n",
    "bargain2(X) :- not(expensive2(X)), goodPhone2(X).\n",
    "```\n",
    "\n",
    "will only succeed if there are no expensive phones, which is not our intention.\n",
    "\n",
    "* **Recommendation**: Use `not(T)` only when `T` is ground. \n",
    "  + This was the case in the first example."
   ]
  },
  {
   "cell_type": "markdown",
   "metadata": {
    "slideshow": {
     "slide_type": "slide"
    }
   },
   "source": [
    "<center>\n",
    "\n",
    "<h1> Fin. </h1>\n",
    "</center>"
   ]
  }
 ],
 "metadata": {
  "celltoolbar": "Slideshow",
  "kernelspec": {
   "display_name": "SWI-Prolog",
   "language": "",
   "name": "jswipl"
  },
  "language_info": {
   "mimetype": "text/plain",
   "name": "swipl"
  }
 },
 "nbformat": 4,
 "nbformat_minor": 2
}
