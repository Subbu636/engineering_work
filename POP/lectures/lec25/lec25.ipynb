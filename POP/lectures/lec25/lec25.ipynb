{
 "cells": [
  {
   "cell_type": "markdown",
   "metadata": {
    "slideshow": {
     "slide_type": "slide"
    }
   },
   "source": [
    "<center>\n",
    "\n",
    "<h1> Countdown Game, Type Inference and Program Synthesis </h1>\n",
    "<h2> CS3100 Fall 2019 </h2>\n",
    "</center>\n",
    "\n",
    "$\n",
    "\\require{color}\n",
    "\\newcommand{\\cr}[1]{{\\color{\\red}{#1}}}\n",
    "\\newcommand{\\pair}[2]{\\langle #1, #2 \\rangle}\n",
    "\\newcommand{\\fst}[1]{{\\sf fst} ~#1}\n",
    "\\newcommand{\\snd}[1]{{\\sf snd} ~#1}\n",
    "\\newcommand{\\inl}[2]{{\\sf inl} ~[#1] ~#2}\n",
    "\\newcommand{\\inr}[2]{{\\sf inr} ~[#1] ~#2}\n",
    "\\newcommand{\\case}[5]{{\\sf case} ~#1~ {\\sf of} ~{\\sf inl}~#2 \\Rightarrow #3 ~|~ {\\sf inr}~#4 \\Rightarrow #5}\n",
    "\\newcommand{\\unitv}{{\\tt (~)}}\n",
    "\\newcommand{\\inferrule}[3]{\\displaystyle{\\frac{#1}{#2}~~{\\small #3}}}\n",
    "\\newcommand{\\infrl}[3]{\\displaystyle{\\frac{#1}{#2}}}\n",
    "$"
   ]
  },
  {
   "cell_type": "markdown",
   "metadata": {
    "slideshow": {
     "slide_type": "slide"
    }
   },
   "source": [
    "## Review\n",
    "\n",
    "### Previously\n",
    "\n",
    "* Cuts and Negation\n",
    "\n",
    "### This lecture\n",
    "\n",
    "* Applications of Prolog\n",
    "  + Solving the countdown game.\n",
    "    * Concept of iterative deepening.\n",
    "  + Type Inference for STLC\n",
    "  + Program synthesis using iterative deepening."
   ]
  },
  {
   "cell_type": "markdown",
   "metadata": {
    "slideshow": {
     "slide_type": "slide"
    }
   },
   "source": [
    "## Countdown game\n",
    "\n",
    "* We have looked at a few generate and test puzzles before\n",
    "  + Dutch national flag, N-Queens\n",
    "  + Time for another one.\n",
    "* This one doesn't use `perm`.\n",
    "* Countdown is a TV show that was very popular in the 90s in the UK. "
   ]
  },
  {
   "cell_type": "markdown",
   "metadata": {
    "slideshow": {
     "slide_type": "slide"
    }
   },
   "source": [
    "## Rules\n",
    "\n",
    "* Select 6 of 24 number tiles\n",
    "  + large numbers: 25,50,75,100\n",
    "  + small numbers: 1,2,3...10 (two of each)\n",
    "* Contestant chooses how many large and small\n",
    "* Randomly chosen 3-digit target number\n",
    "* Get as close as possible using each of the 6 numbers at most once and the operations of addition, subtraction,  multiplication and division\n",
    "* No floats or fractions allowed\n",
    "\n",
    "If you want to watch how the pros do it, highly recommend watching [James Martin 952](https://www.youtube.com/watch?v=6mCgiaAFCu8) on youtube."
   ]
  },
  {
   "cell_type": "markdown",
   "metadata": {
    "slideshow": {
     "slide_type": "slide"
    }
   },
   "source": [
    "## Strategy – generate and test\n",
    "\n",
    "+ maintain a list of symbolic arithmetic terms\n",
    "+ initially this list consists of ground terms e.g.: `[25,50,75,100,6,3]`\n",
    "+  if the head of the list evaluates to the total then succeed\n",
    "+ otherwise pick two of the elements, combine them using one of the available arithmetic operations, put  the result on the head of the list, and repeat"
   ]
  },
  {
   "cell_type": "markdown",
   "metadata": {
    "slideshow": {
     "slide_type": "slide"
    }
   },
   "source": [
    "## Prerequisites\n",
    "\n",
    "* `eval(A,B)` – true if the symbolic expression A evaluates to B. \n",
    "* `choose(N,L,R,S)` – true if R is the result of choosing N items from L and S is the remaining items left in L. The order of items in R does not matter.\n",
    "* `arithop(A,B,C)` – true if C is a valid combination of A and B"
   ]
  },
  {
   "cell_type": "markdown",
   "metadata": {
    "slideshow": {
     "slide_type": "slide"
    }
   },
   "source": [
    "## Eval"
   ]
  },
  {
   "cell_type": "code",
   "execution_count": 1,
   "metadata": {},
   "outputs": [
    {
     "name": "stdout",
     "output_type": "stream",
     "text": [
      "Added 5 rule(s)."
     ]
    }
   ],
   "source": [
    "eval(plus(A,B),C) :- !, eval(A,VA), eval(B,VB), C is VA + VB.\n",
    "eval(mult(A,B),C) :- !, eval(A,VA), eval(B,VB), C is VA * VB.\n",
    "eval(minus(A,B),C) :- !, eval(A,VA), eval(B,VB), C is VA - VB.\n",
    "eval(div(A,B),C) :- !, eval(A,VA), eval(B,VB), C is VA div VB.\n",
    "eval(A,A)."
   ]
  },
  {
   "cell_type": "markdown",
   "metadata": {
    "slideshow": {
     "slide_type": "slide"
    }
   },
   "source": [
    "## Choose"
   ]
  },
  {
   "cell_type": "code",
   "execution_count": 2,
   "metadata": {},
   "outputs": [
    {
     "name": "stdout",
     "output_type": "stream",
     "text": [
      "Added 3 rule(s)."
     ]
    }
   ],
   "source": [
    "choose(0,L,[],L).\n",
    "choose(N,[H|T],[H|R],S) :- N > 0, M is N-1, choose(M,T,R,S).\n",
    "choose(N,[H|T],R,[H|S]) :- N > 0, choose(N,T,R,S)."
   ]
  },
  {
   "cell_type": "code",
   "execution_count": 3,
   "metadata": {},
   "outputs": [
    {
     "name": "stdout",
     "output_type": "stream",
     "text": [
      "Y = [ 2, 3, 4, 5 ], X = [ 1 ] ;\n",
      "Y = [ 1, 3, 4, 5 ], X = [ 2 ] ;\n",
      "Y = [ 1, 2, 4, 5 ], X = [ 3 ] ;\n",
      "Y = [ 1, 2, 3, 5 ], X = [ 4 ] ;\n",
      "Y = [ 1, 2, 3, 4 ], X = [ 5 ] ."
     ]
    }
   ],
   "source": [
    "?- choose(1,[1,2,3,4,5],X,Y)."
   ]
  },
  {
   "cell_type": "code",
   "execution_count": 4,
   "metadata": {
    "scrolled": true
   },
   "outputs": [
    {
     "name": "stdout",
     "output_type": "stream",
     "text": [
      "Y = [ 3, 4, 5 ], X = [ 1, 2 ] ;\n",
      "Y = [ 2, 4, 5 ], X = [ 1, 3 ] ;\n",
      "Y = [ 2, 3, 5 ], X = [ 1, 4 ] ;\n",
      "Y = [ 2, 3, 4 ], X = [ 1, 5 ] ;\n",
      "Y = [ 1, 4, 5 ], X = [ 2, 3 ] ;\n",
      "Y = [ 1, 3, 5 ], X = [ 2, 4 ] ;\n",
      "Y = [ 1, 3, 4 ], X = [ 2, 5 ] ;\n",
      "Y = [ 1, 2, 5 ], X = [ 3, 4 ] ;\n",
      "Y = [ 1, 2, 4 ], X = [ 3, 5 ] ;\n",
      "Y = [ 1, 2, 3 ], X = [ 4, 5 ] ."
     ]
    }
   ],
   "source": [
    "?- choose(2,[1,2,3,4,5],X,Y)."
   ]
  },
  {
   "cell_type": "markdown",
   "metadata": {
    "slideshow": {
     "slide_type": "slide"
    }
   },
   "source": [
    "## Helper predicates for ArithOp"
   ]
  },
  {
   "cell_type": "code",
   "execution_count": 5,
   "metadata": {},
   "outputs": [
    {
     "name": "stdout",
     "output_type": "stream",
     "text": [
      "Added 3 rule(s)."
     ]
    }
   ],
   "source": [
    "isGreater(A,B) :- eval(A,Av), eval(B,Bv), Av > Bv.\n",
    "notOne(A) :- eval(A,Av), Av =\\= 1.\n",
    "isFactor(A,B) :-  eval(A,Av), eval(B,Bv), 0 is Bv rem Av."
   ]
  },
  {
   "cell_type": "markdown",
   "metadata": {
    "slideshow": {
     "slide_type": "slide"
    }
   },
   "source": [
    "## ArithOp"
   ]
  },
  {
   "cell_type": "code",
   "execution_count": 6,
   "metadata": {},
   "outputs": [
    {
     "name": "stdout",
     "output_type": "stream",
     "text": [
      "Added 6 rule(s)."
     ]
    }
   ],
   "source": [
    "/* arithop(+A, +B, -C) */\n",
    "/* unify C with a valid binary operation of expressions A and B */\n",
    "arithop(A,B,plus(A,B)).\n",
    "/* no negative numbers allowed */\n",
    "arithop(A,B,minus(A,B)) :- isGreater(A,B).\n",
    "arithop(A,B,minus(B,A)) :- isGreater(B,A).\n",
    "/* don't allow mult by 1 */\n",
    "arithop(A,B,mult(A,B)) :- notOne(A), notOne(B).\n",
    "/* dont allow div by 1 and no fractions allowed */\n",
    "arithop(A,B,div(A,B)) :- notOne(B), isFactor(B,A).\n",
    "arithop(A,B,div(B,A)) :- notOne(A), isFactor(A,B)."
   ]
  },
  {
   "cell_type": "markdown",
   "metadata": {
    "slideshow": {
     "slide_type": "slide"
    }
   },
   "source": [
    "## ArithOp"
   ]
  },
  {
   "cell_type": "code",
   "execution_count": 7,
   "metadata": {},
   "outputs": [
    {
     "name": "stdout",
     "output_type": "stream",
     "text": [
      "X = plus(3, 6) ;\n",
      "X = minus(6, 3) ;\n",
      "X = mult(3, 6) ;\n",
      "X = div(6, 3) ."
     ]
    }
   ],
   "source": [
    "?- arithop(3,6,X)."
   ]
  },
  {
   "cell_type": "markdown",
   "metadata": {
    "slideshow": {
     "slide_type": "slide"
    }
   },
   "source": [
    "## Countdown"
   ]
  },
  {
   "cell_type": "code",
   "execution_count": 8,
   "metadata": {},
   "outputs": [
    {
     "name": "stdout",
     "output_type": "stream",
     "text": [
      "Added 2 rule(s)."
     ]
    }
   ],
   "source": [
    "countdown([Soln|_],Target,Soln) :- \n",
    "  eval(Soln,Target).\n",
    "countdown(L,Target,Soln) :- \n",
    "  choose(2,L,[A,B],R), \n",
    "  arithop(A,B,C),\n",
    "  countdown([C|R],Target,Soln)."
   ]
  },
  {
   "cell_type": "markdown",
   "metadata": {},
   "source": [
    "Here, the first clause is the **test** and the second clause is **generate**. "
   ]
  },
  {
   "cell_type": "markdown",
   "metadata": {
    "slideshow": {
     "slide_type": "slide"
    }
   },
   "source": [
    "## Countdown\n",
    "\n",
    "Let's try this out on the same number that James Martin was given in 1997."
   ]
  },
  {
   "cell_type": "code",
   "execution_count": 9,
   "metadata": {},
   "outputs": [
    {
     "name": "stdout",
     "output_type": "stream",
     "text": [
      "A = div(mult(plus(mult(6, 3), mult(25, 50)), 75), 100) ;\n",
      "A = plus(mult(minus(mult(50, 3), div(100, 25)), 6), 75) ;\n",
      "A = plus(mult(minus(mult(50, 3), div(100, 25)), 6), 75) ;\n",
      "A = div(mult(plus(mult(25, 50), mult(6, 3)), 75), 100) ."
     ]
    }
   ],
   "source": [
    "?- countdown([25,50,75,100,6,3],951,A) {20}."
   ]
  },
  {
   "cell_type": "markdown",
   "metadata": {
    "slideshow": {
     "slide_type": "slide"
    }
   },
   "source": [
    "## Closest solution\n",
    "\n",
    "If there are no solutions, we want to find the closest solution.\n",
    "\n",
    "Define a helper predicate `diff/2`. "
   ]
  },
  {
   "cell_type": "code",
   "execution_count": 10,
   "metadata": {},
   "outputs": [
    {
     "name": "stdout",
     "output_type": "stream",
     "text": [
      "Added 2 rule(s)."
     ]
    }
   ],
   "source": [
    "diff(X,Y,D) :- D is X - Y.\n",
    "diff(X,Y,D) :- D is Y - X."
   ]
  },
  {
   "cell_type": "code",
   "execution_count": 11,
   "metadata": {},
   "outputs": [
    {
     "name": "stdout",
     "output_type": "stream",
     "text": [
      "true."
     ]
    }
   ],
   "source": [
    "?- diff(3,5,2)."
   ]
  },
  {
   "cell_type": "code",
   "execution_count": 12,
   "metadata": {},
   "outputs": [
    {
     "name": "stdout",
     "output_type": "stream",
     "text": [
      "true."
     ]
    }
   ],
   "source": [
    "?- diff(5,3,2)."
   ]
  },
  {
   "cell_type": "markdown",
   "metadata": {
    "slideshow": {
     "slide_type": "slide"
    }
   },
   "source": [
    "## Closest Solution\n",
    "\n",
    "Define the function `gen/3` which generates values within the given bounds. "
   ]
  },
  {
   "cell_type": "code",
   "execution_count": 13,
   "metadata": {},
   "outputs": [
    {
     "name": "stdout",
     "output_type": "stream",
     "text": [
      "Added 2 rule(s)."
     ]
    }
   ],
   "source": [
    "gen(S,E,S).\n",
    "gen(S,E,P) :- S < E, S2 is S+1, gen(S2,E,P)."
   ]
  },
  {
   "cell_type": "code",
   "execution_count": 14,
   "metadata": {},
   "outputs": [
    {
     "name": "stdout",
     "output_type": "stream",
     "text": [
      "X = 0 ;\n",
      "X = 1 ;\n",
      "X = 2 ;\n",
      "X = 3 ;\n",
      "X = 4 ;\n",
      "X = 5 ."
     ]
    }
   ],
   "source": [
    "?- gen(0,5,X)."
   ]
  },
  {
   "cell_type": "markdown",
   "metadata": {
    "slideshow": {
     "slide_type": "slide"
    }
   },
   "source": [
    "## Closest Solution"
   ]
  },
  {
   "cell_type": "code",
   "execution_count": 15,
   "metadata": {},
   "outputs": [
    {
     "name": "stdout",
     "output_type": "stream",
     "text": [
      "Added 3 rule(s)."
     ]
    }
   ],
   "source": [
    "solve2([Soln|_],Target,Soln,D) :- \n",
    "  eval(Soln,R), diff(Target,R,D).\n",
    "solve2(L,Target,Soln,D) :- \n",
    "  choose(2,L,[A,B],R),\n",
    "  arithop(A,B,C),\n",
    "  solve2([C|R],Target,Soln,D).\n",
    "closest(L,Target,Soln,D) :- \n",
    "  gen(0,100,D), solve2(L,Target,Soln,D)."
   ]
  },
  {
   "cell_type": "markdown",
   "metadata": {
    "slideshow": {
     "slide_type": "-"
    }
   },
   "source": [
    "This technique of searching for solution with diff 0, then diff 1, and so on is called **Iterative Deepening** in AI."
   ]
  },
  {
   "cell_type": "code",
   "execution_count": 16,
   "metadata": {
    "scrolled": false
   },
   "outputs": [
    {
     "name": "stdout",
     "output_type": "stream",
     "text": [
      "A = div(plus(mult(mult(plus(50, 3), 75), 6), 100), 25), D = 1 ."
     ]
    }
   ],
   "source": [
    "?- closest([25,50,75,100,6,3],959,A,D) {1}."
   ]
  },
  {
   "cell_type": "markdown",
   "metadata": {
    "slideshow": {
     "slide_type": "slide"
    }
   },
   "source": [
    "## Type Inference for STLC\n",
    "\n",
    "Let us develop a type inference procedure for Simply Typed Lambda Calculus (STLC).\n",
    "\n",
    "Recall the tems in STLC:\n",
    "\n",
    "\\\\[\n",
    "\\begin{array}{rcll}\n",
    "M,N & ≔ & x & \\text{(variable)} \\\\\n",
    "    & \\mid & M~N & \\text{(application)} \\\\\n",
    "    & \\mid & \\lambda x:A.M & \\text{(abstraction)}\\\\\n",
    "    & \\mid & \\pair{M}{N} & \\text{(pair)}\\\\\n",
    "    & \\mid & \\fst{M} & \\text{(project-1)}\\\\\n",
    "    & \\mid & \\snd{M} & \\text{(project-2)} \\\\\n",
    "    & \\mid & \\unitv & \\text{(unit)}\n",
    "\\end{array}\n",
    "\\\\]"
   ]
  },
  {
   "cell_type": "markdown",
   "metadata": {
    "slideshow": {
     "slide_type": "slide"
    }
   },
   "source": [
    "## STLC Typing Rules\n",
    "\n",
    "\\\\[\n",
    "\\begin{array}{cc}\n",
    "\\inferrule{}{\\Gamma,x:A \\vdash x:A}{(var)} &\n",
    "\\inferrule{}{\\Gamma \\vdash \\unitv : 1}{(unit)} \\\\ \\\\\n",
    "\\inferrule{\\Gamma \\vdash M : A \\rightarrow B \\quad \\Gamma \\vdash N : A}{\\Gamma \\vdash M~N : B}{(\\rightarrow elim)} &\n",
    "\\inferrule{\\Gamma,x:A \\vdash M : B}{\\Gamma \\vdash \\lambda x:A.M : A \\rightarrow B}{(\\rightarrow intro)} \\\\ \\\\\n",
    "\\inferrule{\\Gamma \\vdash M : A \\times B}{\\Gamma \\vdash \\fst{M} : A}{(\\times ~elim1)} &\n",
    "\\inferrule{\\Gamma \\vdash M : A \\times B}{\\Gamma \\vdash \\snd{M} : B}{(\\times ~elim2)} \\\\ \\\\\n",
    "\\end{array}\n",
    "\\\\]\n",
    "\n",
    "\\\\[\n",
    "\\inferrule{\\Gamma \\vdash M : A \\quad \\Gamma \\vdash N : B}{\\Gamma \\vdash \\pair{M}{N} : A \\times B}{(\\times ~intro)}\n",
    "\\\\]"
   ]
  },
  {
   "cell_type": "markdown",
   "metadata": {
    "slideshow": {
     "slide_type": "slide"
    }
   },
   "source": [
    "## Type Checking to Type Inference\n",
    "\n",
    "* STLC rules are presented in a way that you can easily do type checking. \n",
    "* In the standard presentation of type inference algorithm for STLC, you will need\n",
    "  + Type schemes (types with variables in them)\n",
    "  + Unification of type schemes\n",
    "  + Substituion for variables in type schemes.\n",
    "* Luckily Prolog provides all of these\n",
    "  + Type schemes -> Prolog terms with variables, \n",
    "  + Unification -> Prolog unification\n",
    "  + Substitution -> Prolog substitution. "
   ]
  },
  {
   "cell_type": "markdown",
   "metadata": {
    "slideshow": {
     "slide_type": "slide"
    }
   },
   "source": [
    "## My Secret Plan\n",
    "\n",
    "was to teach Prolog was a way to teach you type inference."
   ]
  },
  {
   "cell_type": "markdown",
   "metadata": {
    "slideshow": {
     "slide_type": "fragment"
    }
   },
   "source": [
    "Well, not really :-). But it works out well."
   ]
  },
  {
   "cell_type": "markdown",
   "metadata": {
    "slideshow": {
     "slide_type": "slide"
    }
   },
   "source": [
    "## Remove simple types & add polymorphism\n",
    "\n",
    "* Since we have type schemes (variables in terms), we can infer **polymorphic types**!\n",
    "* Rather than writing $\\lambda x:A.M$, we just write $\\lambda x.M$.\n",
    "  + We will infer the most general type for $x$.\n",
    "* For fun, we will also integers, booleans, + and < on integers, if-then-else."
   ]
  },
  {
   "cell_type": "markdown",
   "metadata": {
    "slideshow": {
     "slide_type": "slide"
    }
   },
   "source": [
    "## Occurs check\n",
    "\n",
    "We will enable occurs check so that the term $\\lambda x.x~x$ will be ill-typed."
   ]
  },
  {
   "cell_type": "code",
   "execution_count": 17,
   "metadata": {},
   "outputs": [
    {
     "name": "stdout",
     "output_type": "stream",
     "text": [
      "true."
     ]
    }
   ],
   "source": [
    "?- set_prolog_flag(occurs_check,true)."
   ]
  },
  {
   "cell_type": "markdown",
   "metadata": {
    "slideshow": {
     "slide_type": "slide"
    }
   },
   "source": [
    "## Typing Judgement\n",
    "\n",
    "We model the typing environment $\\Gamma$ as a list of variable and type pairs. \n",
    "\n",
    "We implement the predicate `lookup/2` to lookup the type of a variable in the environment. "
   ]
  },
  {
   "cell_type": "code",
   "execution_count": 18,
   "metadata": {},
   "outputs": [
    {
     "name": "stdout",
     "output_type": "stream",
     "text": [
      "Added 2 rule(s)."
     ]
    }
   ],
   "source": [
    "lookup([(X,A)|T],X,A).\n",
    "lookup([(Y,_)|T],X,A) :- \\+ X = Y, lookup(T,X,A)."
   ]
  },
  {
   "cell_type": "markdown",
   "metadata": {},
   "source": [
    "Observe that we are using `\\+ X = Y` which holds when `X` does not unify with `Y`."
   ]
  },
  {
   "cell_type": "markdown",
   "metadata": {
    "slideshow": {
     "slide_type": "slide"
    }
   },
   "source": [
    "## Typing rules\n",
    "\n",
    "Next we encode the typing rules as they are specified in the STLC typing rules."
   ]
  },
  {
   "cell_type": "code",
   "execution_count": 19,
   "metadata": {},
   "outputs": [
    {
     "name": "stdout",
     "output_type": "stream",
     "text": [
      "Added 7 rule(s)."
     ]
    }
   ],
   "source": [
    "/* unit */     type(G,u,unit).                                          \n",
    "/* -> elim */  type(G,app(M,N),B)           :- type(G,M,A -> B),type(G,N,A). \n",
    "/* -> intro */ type(G,lam(var(X),M),A -> B) :- type([(X,A)|G],M,B).          \n",
    "/* X elim1 */  type(G,fst(M),A)             :- type(G,M,A * B).              \n",
    "/* X elim2 */  type(G,snd(M),B)             :- type(G,M,A * B).              \n",
    "/* X intro */  type(G,pair(M,N),A * B)      :- type(G,M,A), type(G,N,B).     \n",
    "/* var */      type(G,var(X),A)             :- lookup(G,X,A).                "
   ]
  },
  {
   "cell_type": "markdown",
   "metadata": {
    "slideshow": {
     "slide_type": "slide"
    }
   },
   "source": [
    "## Typing rules\n",
    "\n",
    "Add the new typing rules the additional terms and operators. "
   ]
  },
  {
   "cell_type": "code",
   "execution_count": 20,
   "metadata": {},
   "outputs": [
    {
     "name": "stdout",
     "output_type": "stream",
     "text": [
      "Added 7 rule(s)."
     ]
    }
   ],
   "source": [
    "type(G, X, int)        :- integer(X).\n",
    "type(G, true, bool).\n",
    "type(G, false, bool).\n",
    "type(G, A + B, int)    :- type(G,A,int), type(G,B,int).\n",
    "type(G, A - B, int)    :- type(G,A,int), type(G,B,int).\n",
    "type(G, A < B, bool)   :- type(G,A,int), type(G,B,int).\n",
    "type(G, ite(A,B,C), T) :- type(G,A,bool), type(G,B,T), type(G,C,T)."
   ]
  },
  {
   "cell_type": "code",
   "execution_count": 21,
   "metadata": {},
   "outputs": [
    {
     "name": "stdout",
     "output_type": "stream",
     "text": [
      "Added 1 rule(s)."
     ]
    }
   ],
   "source": [
    "type(Term,Type) :- type([],Term,Type)."
   ]
  },
  {
   "cell_type": "markdown",
   "metadata": {
    "slideshow": {
     "slide_type": "slide"
    }
   },
   "source": [
    "## Type inference\n",
    "\n",
    "Now we can infer the type of programs written in STLC.\n",
    "\n",
    "What is the type of $1+2$?"
   ]
  },
  {
   "cell_type": "code",
   "execution_count": 22,
   "metadata": {},
   "outputs": [
    {
     "name": "stdout",
     "output_type": "stream",
     "text": [
      "X = int ."
     ]
    }
   ],
   "source": [
    "?- type(1+2,X)."
   ]
  },
  {
   "cell_type": "markdown",
   "metadata": {},
   "source": [
    "what is the type of $\\lambda x.\\lambda y. \\text{if } x < y \\text{ then } x+y \\text{ else } x-y$?"
   ]
  },
  {
   "cell_type": "code",
   "execution_count": 23,
   "metadata": {},
   "outputs": [
    {
     "name": "stdout",
     "output_type": "stream",
     "text": [
      "Y = var(y), X = var(x), T = ->(int, ->(int, int)) ."
     ]
    }
   ],
   "source": [
    "?- X = var(x), Y = var(y), type(lam(X,lam(Y,ite(X < Y,X+Y,X-Y))),T)."
   ]
  },
  {
   "cell_type": "markdown",
   "metadata": {},
   "source": [
    "It is `int -> int -> int`."
   ]
  },
  {
   "cell_type": "markdown",
   "metadata": {
    "slideshow": {
     "slide_type": "slide"
    }
   },
   "source": [
    "## Type inference\n",
    "\n",
    "We can also infer polymorphic types.\n",
    "\n",
    "What is the type of $\\lambda x.fst(x)+1$?"
   ]
  },
  {
   "cell_type": "code",
   "execution_count": 24,
   "metadata": {},
   "outputs": [
    {
     "name": "stdout",
     "output_type": "stream",
     "text": [
      "X = var(x), T = ->(*(int, _G964), int) ."
     ]
    }
   ],
   "source": [
    "?- X = var(x), type(lam(X,fst(X)+1),T)."
   ]
  },
  {
   "cell_type": "markdown",
   "metadata": {},
   "source": [
    "It is `int * 'a -> int`."
   ]
  },
  {
   "cell_type": "markdown",
   "metadata": {
    "slideshow": {
     "slide_type": "slide"
    }
   },
   "source": [
    "## Type inference"
   ]
  },
  {
   "cell_type": "markdown",
   "metadata": {},
   "source": [
    "What is the type of $\\lambda f. \\lambda x.f~x$?"
   ]
  },
  {
   "cell_type": "code",
   "execution_count": 25,
   "metadata": {},
   "outputs": [
    {
     "name": "stdout",
     "output_type": "stream",
     "text": [
      "X = var(x), T = ->(->(_G1035, _G1036), ->(_G1035, _G1036)), F = var(f) ."
     ]
    }
   ],
   "source": [
    "?- F = var(f), X = var(x), type(lam(F,lam(X,app(F,X))),T)."
   ]
  },
  {
   "cell_type": "markdown",
   "metadata": {},
   "source": [
    "It is `('a -> 'b) -> ('a -> 'b)` or equivalently `('a -> 'b) -> 'a -> 'b`"
   ]
  },
  {
   "cell_type": "markdown",
   "metadata": {
    "slideshow": {
     "slide_type": "slide"
    }
   },
   "source": [
    "## Type Inference\n",
    "\n",
    "* We cannot infer types for every program.\n",
    "  + such programs do not have a valid STLC type.\n",
    "  \n",
    "What is the type of $\\lambda x.x~x$?"
   ]
  },
  {
   "cell_type": "code",
   "execution_count": 26,
   "metadata": {},
   "outputs": [
    {
     "name": "stdout",
     "output_type": "stream",
     "text": [
      "false."
     ]
    }
   ],
   "source": [
    "?- X = var(x), type(lam(X,app(X,X)),T)."
   ]
  },
  {
   "cell_type": "markdown",
   "metadata": {},
   "source": [
    "What is the type of `if true then 0 else false`?"
   ]
  },
  {
   "cell_type": "code",
   "execution_count": 27,
   "metadata": {},
   "outputs": [
    {
     "name": "stdout",
     "output_type": "stream",
     "text": [
      "false."
     ]
    }
   ],
   "source": [
    "?- type(ite(true,0,false),T)."
   ]
  },
  {
   "cell_type": "markdown",
   "metadata": {
    "slideshow": {
     "slide_type": "slide"
    }
   },
   "source": [
    "## Program synthesis\n",
    "\n",
    "* Program synthesis is generating programs according to a given specification. \n",
    "* Our specifications are types!\n",
    "* Let's generate lambda calculus programs that correspond to a particular type. \n",
    "  + We will use iterative deepening to guide our search. \n",
    "  + Otherwise, Prolog starts to explore down infinite paths\n",
    "    * programs have no bounded length and Prolog uses DFS.\n",
    "* Let's use the depth of the AST in order to iteratively search starting from depth of 0."
   ]
  },
  {
   "cell_type": "markdown",
   "metadata": {
    "slideshow": {
     "slide_type": "slide"
    }
   },
   "source": [
    "## Bounded predecessor\n",
    "\n",
    "Defines the predecessor for numbers >= 0."
   ]
  },
  {
   "cell_type": "code",
   "execution_count": 28,
   "metadata": {},
   "outputs": [
    {
     "name": "stdout",
     "output_type": "stream",
     "text": [
      "Added 1 rule(s)."
     ]
    }
   ],
   "source": [
    "pred(D,DD) :- D >= 0, DD is D - 1."
   ]
  },
  {
   "cell_type": "markdown",
   "metadata": {
    "slideshow": {
     "slide_type": "slide"
    }
   },
   "source": [
    "## Add depth to the type checking rules"
   ]
  },
  {
   "cell_type": "code",
   "execution_count": 29,
   "metadata": {
    "scrolled": true
   },
   "outputs": [
    {
     "name": "stdout",
     "output_type": "stream",
     "text": [
      "Added 7 rule(s)."
     ]
    }
   ],
   "source": [
    "type(_,u,unit,D) :- \n",
    "  pred(D,_).                                                      \n",
    "type(G,app(M,N),B,D) :- \n",
    "  pred(D,DD), type(G,M,A -> B,DD),type(G,N,A,DD).             \n",
    "type(G,lam(var(X),M),A -> B, D) :-                                                  \n",
    "  pred(D,DD), type([(X,A)|G],M,B, DD).                                              \n",
    "type(G,fst(M),A,D) :-                                                               \n",
    "  pred(D,DD), type(G,M,A * _,DD).                                                   \n",
    "type(G,snd(M),B,D) :-                                                               \n",
    "  pred(D,DD), type(G,M,_ * B,DD).                                                   \n",
    "type(G,pair(M,N),A * B,D) :-                                                        \n",
    "  pred(D,DD), type(G,M,A,DD), type(G,N,B,DD).                                       \n",
    "type(G,var(X),A,D) :-                                                               \n",
    "  pred(D,_), lookup(G,X,A).                                                         "
   ]
  },
  {
   "cell_type": "markdown",
   "metadata": {
    "slideshow": {
     "slide_type": "slide"
    }
   },
   "source": [
    "## Add depth to the type checking rules."
   ]
  },
  {
   "cell_type": "code",
   "execution_count": 30,
   "metadata": {},
   "outputs": [
    {
     "name": "stdout",
     "output_type": "stream",
     "text": [
      "Added 7 rule(s)."
     ]
    }
   ],
   "source": [
    "type(_,X,int,D) :-                                                                  \n",
    "  pred(D,_), integer(X).                                                            \n",
    "type(_,D,int,D) :-                                                                  \n",
    "  pred(D,_).                                                                        \n",
    "type(_,true,bool,D) :-                                                              \n",
    "  pred(D,_).                                                                        \n",
    "type(_,false,bool,D) :-                                                             \n",
    "  pred(D,_).                                                                        \n",
    "type(G,A + B,int,D) :-                                                              \n",
    "  pred(D,DD), type(G,A,int,DD), type(G,B,int,DD).                                   \n",
    "type(G,A < B,bool,D) :-                                                             \n",
    "  pred(D,DD), type(G,A,int,DD), type(G,B,int,DD).                                   \n",
    "type(G,ite(A,B,C),T,D) :-                                                           \n",
    "  pred(D,DD), type(G,A,bool,DD), type(G,B,T,DD), type(G,C,T,DD)."
   ]
  },
  {
   "cell_type": "markdown",
   "metadata": {
    "slideshow": {
     "slide_type": "slide"
    }
   },
   "source": [
    "## Iteratively search for candidate programs"
   ]
  },
  {
   "cell_type": "code",
   "execution_count": 37,
   "metadata": {},
   "outputs": [
    {
     "name": "stdout",
     "output_type": "stream",
     "text": [
      "Added 1 rule(s)."
     ]
    }
   ],
   "source": [
    "synthesize(P,T) :-                                                                  \n",
    "  gen(0,10,D), type([],P,T,D).     "
   ]
  },
  {
   "cell_type": "markdown",
   "metadata": {
    "slideshow": {
     "slide_type": "slide"
    }
   },
   "source": [
    "## Synthesis\n",
    "\n",
    "Get me those programs whose type is `int`."
   ]
  },
  {
   "cell_type": "code",
   "execution_count": 32,
   "metadata": {
    "scrolled": true
   },
   "outputs": [
    {
     "name": "stdout",
     "output_type": "stream",
     "text": [
      "P = 0 ;\n",
      "P = 1 ;\n",
      "P = +(0, 0) ;\n",
      "P = ite(true, 0, 0) ;\n",
      "P = ite(false, 0, 0) ;\n",
      "P = app(lam(var(_G890), var(_G890)), 1) ;\n",
      "P = app(lam(var(_G890), var(_G890)), +(0, 0)) ;\n",
      "P = app(lam(var(_G890), var(_G890)), ite(true, 0, 0)) ;\n",
      "P = app(lam(var(_G890), var(_G890)), ite(false, 0, 0)) ;\n",
      "P = app(lam(var(_G890), 0), u) ."
     ]
    }
   ],
   "source": [
    "?- synthesize(P,int)."
   ]
  },
  {
   "cell_type": "markdown",
   "metadata": {
    "slideshow": {
     "slide_type": "slide"
    }
   },
   "source": [
    "## Synthesis\n",
    "\n",
    "Let's ask for something more interesting. \n",
    "\n",
    "Get me the program whose type is `A * B -> A`."
   ]
  },
  {
   "cell_type": "code",
   "execution_count": 33,
   "metadata": {
    "scrolled": false
   },
   "outputs": [
    {
     "name": "stdout",
     "output_type": "stream",
     "text": [
      "A = unit, P = lam(var(_G914), u), B = _G885 ;\n",
      "A = int, P = lam(var(_G914), 0), B = _G885 ;\n",
      "A = bool, P = lam(var(_G914), true), B = _G885 ;\n",
      "A = bool, P = lam(var(_G914), false), B = _G885 ;\n",
      "A = unit, P = app(lam(var(_G923), var(_G923)), lam(var(_G942), u)), B = _G885 ;\n",
      "A = int, P = app(lam(var(_G923), var(_G923)), lam(var(_G942), 0)), B = _G885 ;\n",
      "A = bool, P = app(lam(var(_G923), var(_G923)), lam(var(_G942), true)), B = _G885 ;\n",
      "A = bool, P = app(lam(var(_G923), var(_G923)), lam(var(_G942), false)), B = _G885 ;\n",
      "A = unit, P = lam(var(_G914), u), B = _G885 ;\n",
      "A = ->(_G930, unit), P = lam(var(_G914), lam(var(_G928), u)), B = _G885 ."
     ]
    }
   ],
   "source": [
    "?- synthesize(P,(A*B)->A)."
   ]
  },
  {
   "cell_type": "markdown",
   "metadata": {},
   "source": [
    "Lots of valid programs, but not the program that we are looking for. i.e) the program that doesn't specialise `A` and `B`."
   ]
  },
  {
   "cell_type": "markdown",
   "metadata": {
    "slideshow": {
     "slide_type": "slide"
    }
   },
   "source": [
    "## Synthesize\n",
    "\n",
    "Get me the program whose type is `A * B -> A`, where `A` and `B` remain polymorphic, and `A` and `B` do not unify."
   ]
  },
  {
   "cell_type": "code",
   "execution_count": 36,
   "metadata": {},
   "outputs": [
    {
     "name": "stdout",
     "output_type": "stream",
     "text": [
      "A = Variable(252), P = lam(var(_G1011), fst(var(_G1011))), B = Variable(255) ."
     ]
    }
   ],
   "source": [
    "?- synthesize(P,(A*B)->A), var(A), var(B), dif(A,B) {1}."
   ]
  },
  {
   "cell_type": "markdown",
   "metadata": {},
   "source": [
    "That's the program we are looking for: $\\lambda p.\\fst{p}$."
   ]
  },
  {
   "cell_type": "markdown",
   "metadata": {
    "slideshow": {
     "slide_type": "slide"
    }
   },
   "source": [
    "<center>\n",
    "\n",
    "<h1> Fin. </h1>\n",
    "</center>"
   ]
  }
 ],
 "metadata": {
  "celltoolbar": "Slideshow",
  "kernelspec": {
   "display_name": "SWI-Prolog",
   "language": "",
   "name": "jswipl"
  },
  "language_info": {
   "mimetype": "text/plain",
   "name": "swipl"
  }
 },
 "nbformat": 4,
 "nbformat_minor": 2
}
