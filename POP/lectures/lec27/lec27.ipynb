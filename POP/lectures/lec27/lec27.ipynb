{
 "cells": [
  {
   "cell_type": "markdown",
   "metadata": {
    "slideshow": {
     "slide_type": "slide"
    }
   },
   "source": [
    "<center>\n",
    "\n",
    "<h1> Databases </h1>\n",
    "<h2> CS3100 Fall 2019 </h2>\n",
    "</center>"
   ]
  },
  {
   "cell_type": "markdown",
   "metadata": {
    "slideshow": {
     "slide_type": "slide"
    }
   },
   "source": [
    "## Review\n",
    "\n",
    "### Previously\n",
    "\n",
    "* Graph Search.\n",
    "\n",
    "### This lecture\n",
    "\n",
    "* Connections between SQL and Prolog"
   ]
  },
  {
   "cell_type": "markdown",
   "metadata": {
    "slideshow": {
     "slide_type": "slide"
    }
   },
   "source": [
    "## Relational Databases\n",
    "\n",
    "* A database is a store of facts.\n",
    "* A relation database is organized on the principles of relational model\n",
    "  + Consists of one or more tables with rows and named columns\n",
    "* A table schema captures \n",
    "  + the column names\n",
    "  + types over values \n",
    "  + any constraints on values in each column\n",
    "  + relationship between between columns across different tables\n",
    "* Structured Query Language (SQL) \n",
    "  + A standard language used to read and write to relational databases. "
   ]
  },
  {
   "cell_type": "markdown",
   "metadata": {
    "slideshow": {
     "slide_type": "slide"
    }
   },
   "source": [
    "## IMDB database\n",
    "\n",
    "* For this section, we will focus on a small slice of the IMDB database. \n",
    "* The database contains information about the movies directed by a few directors. \n",
    "* The database `imdb_small.db` can be explored using `sqlite` in terminal."
   ]
  },
  {
   "cell_type": "markdown",
   "metadata": {
    "slideshow": {
     "slide_type": "slide"
    }
   },
   "source": [
    "## IMDB tables\n",
    "\n",
    "```\n",
    "CREATE TABLE tPeople (\n",
    "  person_id varchar primary key, \n",
    "  name varchar, \n",
    "  born integer);\n",
    "\n",
    "CREATE TABLE tTitles (\n",
    "  title_id varchar primary key, \n",
    "  title varchar, \n",
    "  premiered integer, \n",
    "  runtime_minutes integer, \n",
    "  genres varchar);\n",
    ");\n",
    "```"
   ]
  },
  {
   "cell_type": "markdown",
   "metadata": {
    "slideshow": {
     "slide_type": "slide"
    }
   },
   "source": [
    "## IMDB tables\n",
    "\n",
    "```\n",
    "CREATE TABLE tDirectedBy (\n",
    "  title_id varchar, \n",
    "  person_id varchar, \n",
    "  primary key (title_id, person_id));\n",
    "  \n",
    "CREATE TABLE tRatings (\n",
    "  title_id VARCHAR PRIMARY KEY,\n",
    "  rating INTEGER,\n",
    "  votes INTEGER\n",
    ");\n",
    "```"
   ]
  },
  {
   "cell_type": "markdown",
   "metadata": {
    "slideshow": {
     "slide_type": "slide"
    }
   },
   "source": [
    "## Representing relational tables in Prolog\n",
    "\n",
    "```\n",
    "+--------------------------+\n",
    "|     SQL      |   Prolog  |\n",
    "+--------------------------+\n",
    "| tables       | predicate |\n",
    "| rows         | fact      |\n",
    "| column names | -         |\n",
    "| schema       | -         |\n",
    "+--------------------------+\n",
    "```"
   ]
  },
  {
   "cell_type": "markdown",
   "metadata": {
    "slideshow": {
     "slide_type": "slide"
    }
   },
   "source": [
    "## tPeople table in Prolog\n",
    "\n",
    "```prolog\n",
    "/* tPeople(person_id, name, born). */\n",
    "tPeople(nm0634240,\"Christopher Nolan\",1970).\n",
    "tPeople(nm0000217,\"Martin Scorsese\",1942).\n",
    "tPeople(nm0000233,\"Quentin Tarantino\",1963).\n",
    "tPeople(nm0000229,\"Steven Spielberg\",1946).\n",
    "```"
   ]
  },
  {
   "cell_type": "markdown",
   "metadata": {},
   "source": [
    "Let's load all the data into Prolog from the file `imdb_small.pl`. "
   ]
  },
  {
   "cell_type": "code",
   "execution_count": 1,
   "metadata": {},
   "outputs": [
    {
     "name": "stdout",
     "output_type": "stream",
     "text": [
      "true."
     ]
    }
   ],
   "source": [
    "?- [imdb_small]."
   ]
  },
  {
   "cell_type": "markdown",
   "metadata": {
    "slideshow": {
     "slide_type": "slide"
    }
   },
   "source": [
    "## Select rows in SQL\n",
    "\n",
    "Get me all the rows from the `tPeople` table.\n",
    "\n",
    "```sql\n",
    "sqlite> select * from tPeople;\n",
    "nm0634240|Christopher Nolan|1970\n",
    "nm0000217|Martin Scorsese|1942\n",
    "nm0000233|Quentin Tarantino|1963\n",
    "nm0000229|Steven Spielberg|1946\n",
    "```"
   ]
  },
  {
   "cell_type": "markdown",
   "metadata": {
    "slideshow": {
     "slide_type": "slide"
    }
   },
   "source": [
    "## Select rows in Prolog\n",
    "\n",
    "In prolog, the query is represented by the same predicate that defines the table."
   ]
  },
  {
   "cell_type": "code",
   "execution_count": 2,
   "metadata": {},
   "outputs": [
    {
     "name": "stdout",
     "output_type": "stream",
     "text": [
      "PersonId = nm0634240, Born = 1970, Name = Christopher Nolan ;\n",
      "PersonId = nm0000217, Born = 1942, Name = Martin Scorsese ;\n",
      "PersonId = nm0000233, Born = 1963, Name = Quentin Tarantino ;\n",
      "PersonId = nm0000229, Born = 1946, Name = Steven Spielberg ."
     ]
    }
   ],
   "source": [
    "?- tPeople(PersonId,Name,Born)."
   ]
  },
  {
   "cell_type": "markdown",
   "metadata": {
    "slideshow": {
     "slide_type": "slide"
    }
   },
   "source": [
    "## Select with filter\n",
    "\n",
    "Get me all the information about `Christopher Nolan` from tPeople table.\n",
    "\n",
    "```sql\n",
    "sqlite> select * from tPeople where name=\"Christopher Nolan\";\n",
    "nm0634240|Christopher Nolan|1970\n",
    "```"
   ]
  },
  {
   "cell_type": "code",
   "execution_count": 3,
   "metadata": {},
   "outputs": [
    {
     "name": "stdout",
     "output_type": "stream",
     "text": [
      "PersonId = nm0634240, Born = 1970, Name = Christopher Nolan ."
     ]
    }
   ],
   "source": [
    "?- tPeople(PersonId,Name,Born), Name=\"Christopher Nolan\"."
   ]
  },
  {
   "cell_type": "markdown",
   "metadata": {
    "slideshow": {
     "slide_type": "slide"
    }
   },
   "source": [
    "## Select with filter\n",
    "\n",
    "```sql\n",
    "sqlite> select * from tPeople where born > 1960;\n",
    "nm0634240|Christopher Nolan|1970\n",
    "nm0000233|Quentin Tarantino|1963\n",
    "```"
   ]
  },
  {
   "cell_type": "code",
   "execution_count": 4,
   "metadata": {},
   "outputs": [
    {
     "name": "stdout",
     "output_type": "stream",
     "text": [
      "PersonId = nm0634240, Born = 1970, Name = Christopher Nolan ;\n",
      "PersonId = nm0000233, Born = 1963, Name = Quentin Tarantino ."
     ]
    }
   ],
   "source": [
    "?- tPeople(PersonId,Name,Born), Born > 1960."
   ]
  },
  {
   "cell_type": "markdown",
   "metadata": {
    "slideshow": {
     "slide_type": "slide"
    }
   },
   "source": [
    "## Projection\n",
    "\n",
    "Projection is act of choosing a subset of columns from the table.\n",
    "\n",
    "```sql\n",
    "sqlite> select Name,Born from tPeople where born > 1960;\n",
    "Christopher Nolan|1970\n",
    "Quentin Tarantino|1963\n",
    "```"
   ]
  },
  {
   "cell_type": "code",
   "execution_count": 5,
   "metadata": {},
   "outputs": [
    {
     "name": "stdout",
     "output_type": "stream",
     "text": [
      "Born = 1970, Name = Christopher Nolan ;\n",
      "Born = 1963, Name = Quentin Tarantino ."
     ]
    }
   ],
   "source": [
    "?- tPeople(_,Name,Born), Born > 1960."
   ]
  },
  {
   "cell_type": "markdown",
   "metadata": {
    "slideshow": {
     "slide_type": "slide"
    }
   },
   "source": [
    "## DirectedBy\n",
    "\n",
    "`tDirectBy` table contains movies associates a director with the movie that they directed.\n",
    "\n",
    "```sql\n",
    "sqlite> select * from tDirectedBy limit 5;\n",
    "tt0053416|nm0000217\n",
    "tt0054670|nm0000229\n",
    "tt0054857|nm0000229\n",
    "tt0057680|nm0000217\n",
    "tt0058242|nm0000217\n",
    "```"
   ]
  },
  {
   "cell_type": "code",
   "execution_count": 6,
   "metadata": {},
   "outputs": [
    {
     "name": "stdout",
     "output_type": "stream",
     "text": [
      "PersonId = nm0000217, TitleId = tt0053416 ;\n",
      "PersonId = nm0000229, TitleId = tt0054670 ;\n",
      "PersonId = nm0000229, TitleId = tt0054857 ;\n",
      "PersonId = nm0000217, TitleId = tt0057680 ;\n",
      "PersonId = nm0000217, TitleId = tt0058242 ."
     ]
    }
   ],
   "source": [
    "?- tDirectedBy(TitleId,PersonId) {5}."
   ]
  },
  {
   "cell_type": "markdown",
   "metadata": {},
   "source": [
    "How do we get this information in human readable form?"
   ]
  },
  {
   "cell_type": "markdown",
   "metadata": {
    "slideshow": {
     "slide_type": "slide"
    }
   },
   "source": [
    "## Joins\n",
    "\n",
    "We do this through joins. Let's begin with a quick primer on joins.\n",
    "\n",
    "Given\n",
    "\n",
    "```\n",
    "A = {1,2,3,4,5}\n",
    "B = {3,4,5,6,7}\n",
    "```\n",
    "\n",
    "* An **inner join** is said to be $A \\cap B$ = `{3,4,5}`.\n",
    "* A **left outer join** is said to be $A \\cup (A \\cap B)$ = `{1,2,3,4,5}`.\n",
    "* A **right outer join** is said to be $(A \\cap B) \\cup B$ = `{3,4,5,6,7}`. \n",
    "* A **full outer join** is said to be $A \\cup B \\cup (A \\cap B)$ = `{1,2,3,3,4,5,6,7}`.\n",
    "\n",
    "The outer joins seems to serve no purpose as the term $A \\cap B$ is included in the other terms. \n",
    "\n",
    "This get more interesting with additional columns."
   ]
  },
  {
   "cell_type": "markdown",
   "metadata": {
    "slideshow": {
     "slide_type": "slide"
    }
   },
   "source": [
    "## Joins\n",
    "\n",
    "Similar to previous example, consider\n",
    "\n",
    "```\n",
    "Persons = {(1,\"Spielberg\"),(2,\"Nolan\")}\n",
    "Directed = {(2,\"The Dark Knight\"), (3,\"Taxi Driver\")}\n",
    "```\n",
    "\n",
    "An X join of Persons and Directed on the `person_id` field, selecting name and movie returns,\n",
    "\n",
    "* X = Inner, `{(\"Nolan\",\"The Dark Knight)}`\n",
    "* X = Left outer, `{(\"Spielberg\",null),(\"Nolan\",\"The Dark Knight)}`\n",
    "* X = Right outer, `{(\"Nolan\",\"The Dark Knight),(null,\"Taxi Driver\"}`\n",
    "* X = Full outer, `{(\"Spieldberg\",null),(\"Nolan\",\"The Dark Knight),(null,\"Taxi Driver\"}`\n",
    "\n",
    "In this lecture, we will only focus on inner joins."
   ]
  },
  {
   "cell_type": "markdown",
   "metadata": {
    "slideshow": {
     "slide_type": "slide"
    }
   },
   "source": [
    "## Joins\n",
    "\n",
    "In order to illustrate other kinds joins in Prolog, let's consider this simple database from the earlier example. "
   ]
  },
  {
   "cell_type": "code",
   "execution_count": 7,
   "metadata": {},
   "outputs": [
    {
     "name": "stdout",
     "output_type": "stream",
     "text": [
      "Added 4 rule(s)."
     ]
    }
   ],
   "source": [
    "sPerson(1,\"Spielberg\").\n",
    "sPerson(2,\"Nolan\").\n",
    "sDirected(2,\"The Dark Knight\").\n",
    "sDirected(3,\"Taxi Driver\")."
   ]
  },
  {
   "cell_type": "markdown",
   "metadata": {
    "slideshow": {
     "slide_type": "slide"
    }
   },
   "source": [
    "## Inner Join"
   ]
  },
  {
   "cell_type": "code",
   "execution_count": 8,
   "metadata": {},
   "outputs": [
    {
     "name": "stdout",
     "output_type": "stream",
     "text": [
      "Added 1 rule(s)."
     ]
    }
   ],
   "source": [
    "innerJoin(Title,Director) :- sPerson(PersonId,Director), sDirected(PersonId,Title)."
   ]
  },
  {
   "cell_type": "code",
   "execution_count": 9,
   "metadata": {},
   "outputs": [
    {
     "name": "stdout",
     "output_type": "stream",
     "text": [
      "Director = Nolan, Title = The Dark Knight ."
     ]
    }
   ],
   "source": [
    "?- innerJoin(Title,Director)."
   ]
  },
  {
   "cell_type": "markdown",
   "metadata": {
    "slideshow": {
     "slide_type": "slide"
    }
   },
   "source": [
    "## Left outer Join"
   ]
  },
  {
   "cell_type": "code",
   "execution_count": 10,
   "metadata": {
    "scrolled": true
   },
   "outputs": [
    {
     "name": "stdout",
     "output_type": "stream",
     "text": [
      "Added 2 rule(s)."
     ]
    }
   ],
   "source": [
    "leftOuterJoin(Title,Director) :- innerJoin(Title,Director).\n",
    "leftOuterJoin(null,Director) :- sPerson(PersonId,Director), not(sDirected(PersonId,Title))."
   ]
  },
  {
   "cell_type": "code",
   "execution_count": 11,
   "metadata": {
    "scrolled": true
   },
   "outputs": [
    {
     "name": "stdout",
     "output_type": "stream",
     "text": [
      "Director = Nolan, Title = The Dark Knight ;\n",
      "Director = Spielberg, Title = null ."
     ]
    }
   ],
   "source": [
    "?- leftOuterJoin(Title,Director)."
   ]
  },
  {
   "cell_type": "markdown",
   "metadata": {
    "slideshow": {
     "slide_type": "slide"
    }
   },
   "source": [
    "## Right outer join\n"
   ]
  },
  {
   "cell_type": "code",
   "execution_count": 12,
   "metadata": {},
   "outputs": [
    {
     "name": "stdout",
     "output_type": "stream",
     "text": [
      "Added 2 rule(s)."
     ]
    }
   ],
   "source": [
    "rightOuterJoin(Title,Director) :- innerJoin(Title,Director).\n",
    "rightOuterJoin(Title,null) :- sDirected(PersonId,Title), not(sPerson(PersonId,Director))."
   ]
  },
  {
   "cell_type": "code",
   "execution_count": 13,
   "metadata": {},
   "outputs": [
    {
     "name": "stdout",
     "output_type": "stream",
     "text": [
      "Director = Nolan, Title = The Dark Knight ;\n",
      "Director = null, Title = Taxi Driver ."
     ]
    }
   ],
   "source": [
    "?- rightOuterJoin(Title,Director)."
   ]
  },
  {
   "cell_type": "markdown",
   "metadata": {
    "slideshow": {
     "slide_type": "slide"
    }
   },
   "source": [
    "## Exercise\n",
    "\n",
    "Encode full outer join in Prolog and run it on this example."
   ]
  },
  {
   "cell_type": "markdown",
   "metadata": {
    "slideshow": {
     "slide_type": "slide"
    }
   },
   "source": [
    "## Joins \n",
    "\n",
    "Select the movie title and the corresponding ratings.\n",
    "\n",
    "```sql\n",
    "sqlite> select tTitles.title, rating from tRatings \n",
    "           inner join tTitles on tTitles.title_id = tRatings.title_id limit 10;\n",
    "Firelight|5.6\n",
    "Who's That Knocking at My Door|6.7\n",
    "Street Scenes|6.4\n",
    "Boxcar Bertha|6\n",
    "Mean Streets|7.3\n",
    "Alice Doesn't Live Here Anymore|7.3\n",
    "The Sugarland Express|6.8\n",
    "Jaws|8\n",
    "Taxi Driver|8.3\n",
    "Close Encounters of the Third Kind|7.6\n",
    "```"
   ]
  },
  {
   "cell_type": "markdown",
   "metadata": {
    "slideshow": {
     "slide_type": "slide"
    }
   },
   "source": [
    "## Joins\n",
    "\n",
    "Select the movie title and the corresponding ratings."
   ]
  },
  {
   "cell_type": "code",
   "execution_count": 14,
   "metadata": {
    "scrolled": true
   },
   "outputs": [
    {
     "name": "stdout",
     "output_type": "stream",
     "text": [
      "Added 1 rule(s)."
     ]
    }
   ],
   "source": [
    "ratings(Title,Rating) :- tTitles(TitleId,Title,_,_,_), tRatings(TitleId,Rating,_)."
   ]
  },
  {
   "cell_type": "code",
   "execution_count": 15,
   "metadata": {},
   "outputs": [
    {
     "name": "stdout",
     "output_type": "stream",
     "text": [
      "Rating = 5.6, Title = Firelight ;\n",
      "Rating = 6.7, Title = Who's That Knocking at My Door ;\n",
      "Rating = 6.4, Title = Street Scenes ;\n",
      "Rating = 6, Title = Boxcar Bertha ;\n",
      "Rating = 7.3, Title = Mean Streets ;\n",
      "Rating = 7.3, Title = Alice Doesn't Live Here Anymore ;\n",
      "Rating = 6.8, Title = The Sugarland Express ;\n",
      "Rating = 8, Title = Jaws ;\n",
      "Rating = 8.3, Title = Taxi Driver ;\n",
      "Rating = 7.6, Title = Close Encounters of the Third Kind ."
     ]
    }
   ],
   "source": [
    "?- ratings(Title,Rating)."
   ]
  },
  {
   "cell_type": "markdown",
   "metadata": {
    "slideshow": {
     "slide_type": "slide"
    }
   },
   "source": [
    "## Joins\n",
    "\n",
    "What is the rating for the movie \"Jaws\"?\n",
    "\n",
    "```sql\n",
    "sqlite> select rating from tRatings inner join tTitles on tTitles.title_id = tRatings.title_id where tTitles.title = \"Jaws\";\n",
    "8\n",
    "```"
   ]
  },
  {
   "cell_type": "code",
   "execution_count": 16,
   "metadata": {},
   "outputs": [
    {
     "name": "stdout",
     "output_type": "stream",
     "text": [
      "Rating = 8 ."
     ]
    }
   ],
   "source": [
    "?- ratings(\"Jaws\",Rating)."
   ]
  },
  {
   "cell_type": "markdown",
   "metadata": {
    "slideshow": {
     "slide_type": "slide"
    }
   },
   "source": [
    "## Join on 3 tables\n",
    "\n",
    "Get all the movies directed by Nolan.\n",
    "\n",
    "```sql\n",
    "sqlite> select tTitles.title, tPeople.name from \n",
    "           tTitles inner join tDirectedBy on tTitles.title_id = tDirectedBy.title_id \n",
    "           inner join tPeople on tPeople.person_id = tDirectedBy.person_id \n",
    "           where tPeople.name = \"Christopher Nolan\";\n",
    "Following|Christopher Nolan\n",
    "Memento|Christopher Nolan\n",
    "Insomnia|Christopher Nolan\n",
    "Batman Begins|Christopher Nolan\n",
    "The Dark Knight|Christopher Nolan\n",
    "The Prestige|Christopher Nolan\n",
    "Interstellar|Christopher Nolan\n",
    "The Dark Knight Rises|Christopher Nolan\n",
    "Inception|Christopher Nolan\n",
    "Dunkirk|Christopher Nolan\n",
    "Tenet|Christopher Nolan\n",
    "```"
   ]
  },
  {
   "cell_type": "markdown",
   "metadata": {
    "slideshow": {
     "slide_type": "slide"
    }
   },
   "source": [
    "## Join on 3-tables"
   ]
  },
  {
   "cell_type": "code",
   "execution_count": 17,
   "metadata": {},
   "outputs": [
    {
     "name": "stdout",
     "output_type": "stream",
     "text": [
      "Added 1 rule(s)."
     ]
    }
   ],
   "source": [
    "directed(Director,Title) :- tTitles(TitleId,Title,_,_,_), tPeople(PersonId,Director,_), tDirectedBy(TitleId,PersonId)."
   ]
  },
  {
   "cell_type": "code",
   "execution_count": 18,
   "metadata": {
    "scrolled": true
   },
   "outputs": [
    {
     "name": "stdout",
     "output_type": "stream",
     "text": [
      "Title = Firelight ;\n",
      "Title = The Sugarland Express ;\n",
      "Title = Jaws ;\n",
      "Title = Close Encounters of the Third Kind ;\n",
      "Title = 1941 ;\n",
      "Title = Raiders of the Lost Ark ;\n",
      "Title = E.T. the Extra-Terrestrial ;\n",
      "Title = Twilight Zone: The Movie ;\n",
      "Title = Indiana Jones and the Temple of Doom ;\n",
      "Title = The Color Purple ."
     ]
    }
   ],
   "source": [
    "?- directed(\"Steven Spielberg\",Title)."
   ]
  },
  {
   "cell_type": "markdown",
   "metadata": {
    "slideshow": {
     "slide_type": "slide"
    }
   },
   "source": [
    "## Count\n",
    "\n",
    "How many movies has Nolan directed?\n",
    "\n",
    "Use the `count` function. "
   ]
  },
  {
   "cell_type": "markdown",
   "metadata": {},
   "source": [
    "```sql\n",
    "sqlite> select count(*) from tTitles inner join tDirectedBy on tTitles.title_id = tDirectedBy.title_id inner join tPeople on tPeople.person_id = tDirectedBy.person_id where tPeople.name = \"Christopher Nolan\";\n",
    "11\n",
    "```"
   ]
  },
  {
   "cell_type": "markdown",
   "metadata": {
    "slideshow": {
     "slide_type": "slide"
    }
   },
   "source": [
    "## Count\n",
    "\n",
    "Use the built-in clause `findall/3`.\n",
    "\n",
    "The built-in predicate `findall(+Template, +Goal, -List)` is used to collect a list `List` of all the items `Template` that satisfy some goal `Goal`."
   ]
  },
  {
   "cell_type": "code",
   "execution_count": 1,
   "metadata": {},
   "outputs": [
    {
     "name": "stdout",
     "output_type": "stream",
     "text": [
      "Added 5 rule(s)."
     ]
    }
   ],
   "source": [
    "tucked(1,2).\n",
    "tucked(1,5).\n",
    "tucked(1,3).\n",
    "findall2(_,_,_,0).\n",
    "findall2(D,[T|L],Visted,N) :- tucked(D,T), \\+member(T,Visted), findall2(D,L,[T|Visted],N-1)."
   ]
  },
  {
   "cell_type": "code",
   "execution_count": 2,
   "metadata": {},
   "outputs": [
    {
     "name": "stdout",
     "output_type": "stream",
     "text": [
      "Added 1 rule(s)."
     ]
    }
   ],
   "source": [
    "directedList2(D,L) :- findall2(D,L,[],2)."
   ]
  },
  {
   "cell_type": "code",
   "execution_count": 3,
   "metadata": {},
   "outputs": [
    {
     "name": "stdout",
     "output_type": "stream",
     "text": [
      "ERROR: Caused by: 'assertz((( #trace directedlist2(D,L)))).'. Returned: 'error(syntax_error(operator_expected), string(assertz((( #trace directedlist2(D,L)))). , 11))'.\n",
      "false.\n",
      "Added 1 rule(s)."
     ]
    }
   ],
   "source": [
    "?- directedList2(1,L)."
   ]
  },
  {
   "cell_type": "code",
   "execution_count": 21,
   "metadata": {},
   "outputs": [
    {
     "name": "stdout",
     "output_type": "stream",
     "text": [
      "Added 1 rule(s)."
     ]
    }
   ],
   "source": [
    "directedList(D,L) :- findall(F,directed(D,F),L)."
   ]
  },
  {
   "cell_type": "code",
   "execution_count": 22,
   "metadata": {},
   "outputs": [
    {
     "name": "stdout",
     "output_type": "stream",
     "text": [
      "Added 1 rule(s)."
     ]
    }
   ],
   "source": [
    "numDirected(D,N) :- directedList(D,L), length(L,N)."
   ]
  },
  {
   "cell_type": "code",
   "execution_count": 23,
   "metadata": {
    "scrolled": true
   },
   "outputs": [
    {
     "name": "stdout",
     "output_type": "stream",
     "text": [
      "N = 11 ."
     ]
    }
   ],
   "source": [
    "?- numDirected(\"Christopher Nolan\",N)."
   ]
  },
  {
   "cell_type": "markdown",
   "metadata": {
    "slideshow": {
     "slide_type": "-"
    }
   },
   "source": [
    "**Exercise**: Try to build `findall/3` your self?"
   ]
  },
  {
   "cell_type": "markdown",
   "metadata": {
    "slideshow": {
     "slide_type": "slide"
    }
   },
   "source": [
    "## Avg\n",
    "\n",
    "What is the average rating for a Spielberg movie?\n",
    "\n",
    "```\n",
    "sqlite> select avg(rating) from tRatings \n",
    "          inner join tDirectedBy on tDirectedBy.title_id = tRatings.title_id \n",
    "          inner join tPeople on tPeople.person_id = tDirectedBy.person_id \n",
    "          where tPeople.name = \"Steven Spielberg\";\n",
    "7.31515151515151\n",
    "```"
   ]
  },
  {
   "cell_type": "markdown",
   "metadata": {
    "slideshow": {
     "slide_type": "slide"
    }
   },
   "source": [
    "## Avg\n",
    "\n",
    "What is the average rating for a Spielberg movie?"
   ]
  },
  {
   "cell_type": "code",
   "execution_count": 2,
   "metadata": {
    "scrolled": true
   },
   "outputs": [
    {
     "name": "stdout",
     "output_type": "stream",
     "text": [
      "Added 1 clauses(s)."
     ]
    }
   ],
   "source": [
    "ratingOf(Ratings,Name) :- tRatings(TitleId,Ratings,_), tDirectedBy(TitleId,PersonId), \n",
    "                          tPeople(PersonId,Name,_)."
   ]
  },
  {
   "cell_type": "code",
   "execution_count": 3,
   "metadata": {},
   "outputs": [
    {
     "name": "stdout",
     "output_type": "stream",
     "text": [
      "Added 3 clauses(s)."
     ]
    }
   ],
   "source": [
    "sum([H],H).\n",
    "sum([H|T],N) :- sum(T,M), N is M+H.\n",
    "average(L,A) :- sum(L,S), length(L,N), A is S / N."
   ]
  },
  {
   "cell_type": "code",
   "execution_count": 4,
   "metadata": {
    "scrolled": true
   },
   "outputs": [
    {
     "name": "stdout",
     "output_type": "stream",
     "text": [
      "Added 1 clauses(s)."
     ]
    }
   ],
   "source": [
    "averageRatingOf(Name,A) :- tPeople(_,Name,_),findall(Rating,ratingOf(Rating,Name),L), average(L,A)."
   ]
  },
  {
   "cell_type": "code",
   "execution_count": 5,
   "metadata": {},
   "outputs": [
    {
     "name": "stdout",
     "output_type": "stream",
     "text": [
      "A = 7.31515151515 ."
     ]
    }
   ],
   "source": [
    "?- averageRatingOf(\"Steven Spielberg\",A)."
   ]
  },
  {
   "cell_type": "markdown",
   "metadata": {
    "slideshow": {
     "slide_type": "slide"
    }
   },
   "source": [
    "## Avg\n",
    "\n",
    "What is the average rating for each of the directors?\n",
    "\n",
    "```sql\n",
    "sqlite> select avg(rating),tPeople.name from tRatings \n",
    "          inner join tDirectedBy on tDirectedBy.title_id = tRatings.title_id \n",
    "          inner join tPeople on tPeople.person_id = tDirectedBy.person_id \n",
    "          group by tPeople.name;\n",
    "8.25|Christopher Nolan\n",
    "7.48|Martin Scorsese\n",
    "7.95714285714286|Quentin Tarantino\n",
    "7.31515151515151|Steven Spielberg\n",
    "```"
   ]
  },
  {
   "cell_type": "code",
   "execution_count": 6,
   "metadata": {},
   "outputs": [
    {
     "name": "stdout",
     "output_type": "stream",
     "text": [
      "A = 8.25, X = Christopher Nolan ;\n",
      "A = 7.48, X = Martin Scorsese ;\n",
      "A = 7.95714285714, X = Quentin Tarantino ;\n",
      "A = 7.31515151515, X = Steven Spielberg ."
     ]
    }
   ],
   "source": [
    "?- averageRatingOf(X,A)."
   ]
  },
  {
   "cell_type": "markdown",
   "metadata": {
    "slideshow": {
     "slide_type": "slide"
    }
   },
   "source": [
    "## Upcoming movies\n",
    "\n",
    "* SQL uses `NULL` to represent missing values. \n",
    "* In the `tTitles` table, `NULL` is used for upcoming movies.\n",
    "\n",
    "```sql\n",
    "sqlite> select * from tTitles where premiered is NULL;\n",
    "tt1594575|Untitled George Gershwin Project|||Biography,Drama,Music\n",
    "tt3675680|The Kidnapping of Edgardo Mortara|||Drama,History\n",
    "tt5537002|Killers of the Flower Moon|||Crime,Drama,History\n",
    "tt7428530|Roosevelt|||Biography,Drama,History\n",
    "tt7713358|Untitled Star Trek Project|||Action,Adventure,Sci-Fi\n",
    "tt8295436|Blackhawk|||Action,Adventure,War\n",
    "tt8430788|Untitled Ulysses S. Grant Project|||Drama,War\n",
    "```"
   ]
  },
  {
   "cell_type": "markdown",
   "metadata": {
    "slideshow": {
     "slide_type": "slide"
    }
   },
   "source": [
    "## Upcoming movies\n",
    "\n",
    "In the Prolog version, we use the constant `null` to represent missing values."
   ]
  },
  {
   "cell_type": "code",
   "execution_count": 24,
   "metadata": {},
   "outputs": [
    {
     "name": "stdout",
     "output_type": "stream",
     "text": [
      "Genres = Biography,Drama,Music, Name = Untitled George Gershwin Project, TitleId = tt1594575 ;\n",
      "Genres = Drama,History, Name = The Kidnapping of Edgardo Mortara, TitleId = tt3675680 ;\n",
      "Genres = Crime,Drama,History, Name = Killers of the Flower Moon, TitleId = tt5537002 ;\n",
      "Genres = Biography,Drama,History, Name = Roosevelt, TitleId = tt7428530 ;\n",
      "Genres = Action,Adventure,Sci-Fi, Name = Untitled Star Trek Project, TitleId = tt7713358 ;\n",
      "Genres = Action,Adventure,War, Name = Blackhawk, TitleId = tt8295436 ;\n",
      "Genres = Drama,War, Name = Untitled Ulysses S. Grant Project, TitleId = tt8430788 ."
     ]
    }
   ],
   "source": [
    "?- tTitles(TitleId,Name,null,null,Genres)."
   ]
  },
  {
   "cell_type": "markdown",
   "metadata": {
    "slideshow": {
     "slide_type": "slide"
    }
   },
   "source": [
    "## Dealing with NULL\n",
    "\n",
    "We will have to deal with null values specially as their semantics is what we choose it to be.\n",
    "\n",
    "Get me all the movies that are released on likely to be released on or after 2019.\n",
    "\n",
    "```sql\n",
    "sqlite> select * from tTitles where premiered >= 2019;\n",
    "tt1302006|The Irishman|2019|209|Biography,Crime,Drama\n",
    "tt1462764|Untitled Indiana Jones Project|2021||Action,Adventure\n",
    "tt3581652|West Side Story|2020||Crime,Drama,Musical\n",
    "tt6723592|Tenet|2020||Action,Drama,Thriller\n",
    "tt7131622|Once Upon a Time... in Hollywood|2019|161|Comedy,Drama\n",
    "tt9577852|Rolling Thunder Revue: A Bob Dylan Story by Martin Scorsese|2019|142|Biography,Documentary,Music\n",
    "```\n",
    "\n",
    "* Does not return movies for which released date is not set.\n",
    "  + We also want potential upcoming movies."
   ]
  },
  {
   "cell_type": "markdown",
   "metadata": {
    "slideshow": {
     "slide_type": "slide"
    }
   },
   "source": [
    "## Dealing with NULL\n",
    "\n",
    "```sql\n",
    "sqlite> select * from tTitles where premiered >= 2019 or premiered is null;\n",
    "tt1302006|The Irishman|2019|209|Biography,Crime,Drama\n",
    "tt1462764|Untitled Indiana Jones Project|2021||Action,Adventure\n",
    "tt1594575|Untitled George Gershwin Project|||Biography,Drama,Music\n",
    "tt3581652|West Side Story|2020||Crime,Drama,Musical\n",
    "tt3675680|The Kidnapping of Edgardo Mortara|||Drama,History\n",
    "tt5537002|Killers of the Flower Moon|||Crime,Drama,History\n",
    "tt6723592|Tenet|2020||Action,Drama,Thriller\n",
    "tt7131622|Once Upon a Time... in Hollywood|2019|161|Comedy,Drama\n",
    "tt7428530|Roosevelt|||Biography,Drama,History\n",
    "tt7713358|Untitled Star Trek Project|||Action,Adventure,Sci-Fi\n",
    "tt8295436|Blackhawk|||Action,Adventure,War\n",
    "tt8430788|Untitled Ulysses S. Grant Project|||Drama,War\n",
    "tt9577852|Rolling Thunder Revue: A Bob Dylan Story by Martin Scorsese|2019|142|Biography,Documentary,Music\n",
    "```"
   ]
  },
  {
   "cell_type": "markdown",
   "metadata": {
    "slideshow": {
     "slide_type": "slide"
    }
   },
   "source": [
    "## Dealing with NULL"
   ]
  },
  {
   "cell_type": "code",
   "execution_count": null,
   "metadata": {},
   "outputs": [],
   "source": [
    "premieredAfter(Name,_) :- tTitles(_,Name,null,_,_).\n",
    "premieredAfter(Name,D) :- tTitles(_,Name,Premiered,_,_), not(Premiered=null), Premiered >= D."
   ]
  },
  {
   "cell_type": "code",
   "execution_count": 27,
   "metadata": {},
   "outputs": [
    {
     "name": "stdout",
     "output_type": "stream",
     "text": [
      "M = Untitled George Gershwin Project ;\n",
      "M = The Kidnapping of Edgardo Mortara ;\n",
      "M = Killers of the Flower Moon ;\n",
      "M = Roosevelt ;\n",
      "M = Untitled Star Trek Project ;\n",
      "M = Blackhawk ;\n",
      "M = Untitled Ulysses S. Grant Project ;\n",
      "M = The Irishman ;\n",
      "M = Untitled Indiana Jones Project ;\n",
      "M = West Side Story ;\n",
      "M = Tenet ;\n",
      "M = Once Upon a Time... in Hollywood ;\n",
      "M = Rolling Thunder Revue: A Bob Dylan Story by Martin Scorsese ."
     ]
    }
   ],
   "source": [
    "?- premieredAfter(M,2019) {20}."
   ]
  },
  {
   "cell_type": "markdown",
   "metadata": {
    "slideshow": {
     "slide_type": "slide"
    }
   },
   "source": [
    "## Recursive Queries\n",
    "\n",
    "SQL has no way to express recursive queries. In Prolog, this is quite natural.\n",
    "\n",
    "* Let's define a predicate `hop` between two titles either \n",
    "  + if they were released in the same year, or\n",
    "  + if they were directed by the same person."
   ]
  },
  {
   "cell_type": "code",
   "execution_count": 28,
   "metadata": {},
   "outputs": [
    {
     "name": "stdout",
     "output_type": "stream",
     "text": [
      "Added 2 rule(s)."
     ]
    }
   ],
   "source": [
    "hop(TitleId1,TitleId2) :-\n",
    "  tTitles(TitleId1,_,Premiered,_,_),\n",
    "  tTitles(TitleId2,_,Premiered,_,_).\n",
    "hop(TitleId1,TitleId2) :- \n",
    "  tDirectedBy(TitleId1,Person), \n",
    "  tDirectedBy(TitleId2,Person)."
   ]
  },
  {
   "cell_type": "markdown",
   "metadata": {
    "slideshow": {
     "slide_type": "slide"
    }
   },
   "source": [
    "## Recursive Queries"
   ]
  },
  {
   "cell_type": "markdown",
   "metadata": {
    "slideshow": {
     "slide_type": ""
    }
   },
   "source": [
    "Let's define `reachable` between two titles if one can be reached from the other by one or more hops."
   ]
  },
  {
   "cell_type": "code",
   "execution_count": 29,
   "metadata": {},
   "outputs": [
    {
     "name": "stdout",
     "output_type": "stream",
     "text": [
      "Added 2 rule(s)."
     ]
    }
   ],
   "source": [
    "reachable(TitleId1,TitleId2,_) :- hop(TitleId1,TitleId2).\n",
    "reachable(TitleId1,TitleId2,Visited) :- \n",
    "  hop(TitleId1,TitleId3), \\+member(TitleId3,Visited), reachable(TitleId3,TitleId2,[TitleId3|Visited])."
   ]
  },
  {
   "cell_type": "markdown",
   "metadata": {
    "slideshow": {
     "slide_type": "slide"
    }
   },
   "source": [
    "## Recursive Queries\n",
    "\n",
    "Finally, let's define `connected` on movie titles, if the title_ids are reachable."
   ]
  },
  {
   "cell_type": "code",
   "execution_count": 30,
   "metadata": {},
   "outputs": [
    {
     "name": "stdout",
     "output_type": "stream",
     "text": [
      "Added 1 rule(s)."
     ]
    }
   ],
   "source": [
    "connected(Title1,Title2) :- \n",
    "  tTitles(TitleId1,Title1,_,_,_), tTitles(TitleId2,Title2,_,_,_), \n",
    "  reachable(TitleId1,TitleId2,[TitleId1])."
   ]
  },
  {
   "cell_type": "code",
   "execution_count": 31,
   "metadata": {},
   "outputs": [
    {
     "name": "stdout",
     "output_type": "stream",
     "text": [
      "true."
     ]
    }
   ],
   "source": [
    "?- connected(\"Dunkirk\",\"Jaws\") {1}."
   ]
  },
  {
   "cell_type": "markdown",
   "metadata": {
    "slideshow": {
     "slide_type": "slide"
    }
   },
   "source": [
    "<center>\n",
    "\n",
    "<h1> Fin. </h1>\n",
    "</center>"
   ]
  }
 ],
 "metadata": {
  "celltoolbar": "Slideshow",
  "kernelspec": {
   "display_name": "SWI-Prolog",
   "language": "",
   "name": "jswipl"
  },
  "language_info": {
   "mimetype": "text/plain",
   "name": "swipl"
  }
 },
 "nbformat": 4,
 "nbformat_minor": 2
}
