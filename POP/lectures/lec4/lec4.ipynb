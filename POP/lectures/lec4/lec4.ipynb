{
 "cells": [
  {
   "cell_type": "markdown",
   "metadata": {
    "slideshow": {
     "slide_type": "slide"
    }
   },
   "source": [
    "<div style=\"text-align:center\">\n",
    "    <h1> Functions </h1>\n",
    "    <h2> CS3100 Fall 2019 </h2>\n",
    "</div>"
   ]
  },
  {
   "cell_type": "markdown",
   "metadata": {
    "slideshow": {
     "slide_type": "slide"
    }
   },
   "source": [
    "## Review\n",
    "\n",
    "Previously on CS3100\n",
    "\n",
    "* Syntax and Semantics\n",
    "* Expressions: if, let\n",
    "* Definitions: let\n",
    "\n",
    "Today\n",
    "\n",
    "* Functions"
   ]
  },
  {
   "cell_type": "markdown",
   "metadata": {
    "slideshow": {
     "slide_type": "slide"
    }
   },
   "source": [
    "## Anonymous Function\n",
    "\n",
    "OCaml has support for anonymous function expressions. The syntax is\n",
    "\n",
    "```ocaml\n",
    "fun x1 ... xn -> e\n",
    "```\n",
    "\n",
    "* A function is a value; no further computation to do.\n",
    "* In particular, `e` is not evaluated until the function is applied."
   ]
  },
  {
   "cell_type": "markdown",
   "metadata": {
    "slideshow": {
     "slide_type": "slide"
    }
   },
   "source": [
    "## Anonymous Functions"
   ]
  },
  {
   "cell_type": "code",
   "execution_count": 1,
   "metadata": {
    "slideshow": {
     "slide_type": "-"
    }
   },
   "outputs": [
    {
     "data": {
      "text/plain": [
       "- : int -> int = <fun>\n"
      ]
     },
     "execution_count": 1,
     "metadata": {},
     "output_type": "execute_result"
    }
   ],
   "source": [
    "fun x -> x + 1"
   ]
  },
  {
   "cell_type": "markdown",
   "metadata": {
    "slideshow": {
     "slide_type": "fragment"
    }
   },
   "source": [
    "The function type `int -> int` says that it takes one argument of type `int` and returns a value of type `int`."
   ]
  },
  {
   "cell_type": "markdown",
   "metadata": {
    "slideshow": {
     "slide_type": "slide"
    }
   },
   "source": [
    "## Thunk"
   ]
  },
  {
   "cell_type": "code",
   "execution_count": 2,
   "metadata": {},
   "outputs": [
    {
     "data": {
      "text/plain": [
       "- : unit -> int = <fun>\n"
      ]
     },
     "execution_count": 2,
     "metadata": {},
     "output_type": "execute_result"
    }
   ],
   "source": [
    "fun () -> 1"
   ]
  },
  {
   "cell_type": "markdown",
   "metadata": {
    "slideshow": {
     "slide_type": "fragment"
    }
   },
   "source": [
    "* A function of type `unit -> t` is called a `thunk`. \n",
    "* Delay the computation of the RHS expression until application."
   ]
  },
  {
   "cell_type": "markdown",
   "metadata": {
    "slideshow": {
     "slide_type": "slide"
    }
   },
   "source": [
    "## Anonymous Functions\n",
    "\n",
    "The function body can refer to any variables in scope. "
   ]
  },
  {
   "cell_type": "code",
   "execution_count": 3,
   "metadata": {
    "slideshow": {
     "slide_type": "-"
    }
   },
   "outputs": [
    {
     "data": {
      "text/plain": [
       "val foo : int -> int = <fun>\n"
      ]
     },
     "execution_count": 3,
     "metadata": {},
     "output_type": "execute_result"
    }
   ],
   "source": [
    "let foo = \n",
    "  let y = 10 in\n",
    "  let x = 5 in\n",
    "  fun z -> x + y + z"
   ]
  },
  {
   "cell_type": "markdown",
   "metadata": {
    "slideshow": {
     "slide_type": "slide"
    }
   },
   "source": [
    "## Functions are values\n",
    "\n",
    "Can use them *anywhere* we can use values:\n",
    "\n",
    "* Functions can **take** functions as arguments\n",
    "* Functions can **return** functions as arguments\n",
    "\n",
    "As you will see, this is an incredibly powerful language feature. "
   ]
  },
  {
   "cell_type": "markdown",
   "metadata": {
    "slideshow": {
     "slide_type": "slide"
    }
   },
   "source": [
    "## Function application\n",
    "\n",
    "The syntax is \n",
    "\n",
    "```ocaml\n",
    "e0 e1 ... en\n",
    "```\n",
    "* No parentheses necessary"
   ]
  },
  {
   "cell_type": "markdown",
   "metadata": {
    "slideshow": {
     "slide_type": "slide"
    }
   },
   "source": [
    "## Function Application Evaluation\n",
    "\n",
    "```ocaml\n",
    "e0 e1 ... en\n",
    "```\n",
    "\n",
    "* Evaluate `e0 ... en` to values `v0 ... vn`\n",
    "* Type checking will ensure that `v0` is a function `fun x1 ... xn -> e`\n",
    "* Substitute `vi` for `xi` in `e` yielding new expression `e'`\n",
    "* Evaluate `e'` to a value `v`, which is result"
   ]
  },
  {
   "cell_type": "markdown",
   "metadata": {
    "slideshow": {
     "slide_type": "slide"
    }
   },
   "source": [
    "## Function Application"
   ]
  },
  {
   "cell_type": "code",
   "execution_count": 4,
   "metadata": {
    "slideshow": {
     "slide_type": "-"
    }
   },
   "outputs": [
    {
     "data": {
      "text/plain": [
       "- : int = 2\n"
      ]
     },
     "execution_count": 4,
     "metadata": {},
     "output_type": "execute_result"
    }
   ],
   "source": [
    "(fun x -> x + 1) 1"
   ]
  },
  {
   "cell_type": "code",
   "execution_count": 5,
   "metadata": {},
   "outputs": [
    {
     "data": {
      "text/plain": [
       "- : int = 6\n"
      ]
     },
     "execution_count": 5,
     "metadata": {},
     "output_type": "execute_result"
    }
   ],
   "source": [
    "(fun x y z -> x + y + z) 1 2 3"
   ]
  },
  {
   "cell_type": "markdown",
   "metadata": {
    "slideshow": {
     "slide_type": "fragment"
    }
   },
   "source": [
    "The above function is syntactic sugar for"
   ]
  },
  {
   "cell_type": "code",
   "execution_count": 6,
   "metadata": {},
   "outputs": [
    {
     "data": {
      "text/plain": [
       "- : int = 6\n"
      ]
     },
     "execution_count": 6,
     "metadata": {},
     "output_type": "execute_result"
    }
   ],
   "source": [
    "(fun x -> fun y -> fun z -> x + y + z) 1 2 3"
   ]
  },
  {
   "cell_type": "markdown",
   "metadata": {
    "slideshow": {
     "slide_type": "fragment"
    }
   },
   "source": [
    "Multi-argument functions do not exist!"
   ]
  },
  {
   "cell_type": "markdown",
   "metadata": {
    "slideshow": {
     "slide_type": "slide"
    }
   },
   "source": [
    "## Function definition\n",
    "\n",
    "We can name functions using `let`.\n",
    "\n",
    "```ocaml\n",
    "let succ = fun x -> x + 1\n",
    "```\n",
    "\n",
    "which is semantically equivalent to\n",
    "\n",
    "```ocaml\n",
    "let succ x = x + 1\n",
    "```\n",
    "\n",
    "You'll see the latter form more often."
   ]
  },
  {
   "cell_type": "markdown",
   "metadata": {
    "slideshow": {
     "slide_type": "slide"
    }
   },
   "source": [
    "## Function definition"
   ]
  },
  {
   "cell_type": "code",
   "execution_count": 7,
   "metadata": {},
   "outputs": [
    {
     "data": {
      "text/plain": [
       "val succ : int -> int = <fun>\n"
      ]
     },
     "execution_count": 7,
     "metadata": {},
     "output_type": "execute_result"
    }
   ],
   "source": [
    "let succ x = x + 1"
   ]
  },
  {
   "cell_type": "code",
   "execution_count": 8,
   "metadata": {},
   "outputs": [
    {
     "data": {
      "text/plain": [
       "- : int = 11\n"
      ]
     },
     "execution_count": 8,
     "metadata": {},
     "output_type": "execute_result"
    }
   ],
   "source": [
    "succ 10"
   ]
  },
  {
   "cell_type": "markdown",
   "metadata": {
    "slideshow": {
     "slide_type": "slide"
    }
   },
   "source": [
    "## Function definition"
   ]
  },
  {
   "cell_type": "code",
   "execution_count": 9,
   "metadata": {
    "slideshow": {
     "slide_type": "-"
    }
   },
   "outputs": [
    {
     "data": {
      "text/plain": [
       "val add : int -> int -> int = <fun>\n"
      ]
     },
     "execution_count": 9,
     "metadata": {},
     "output_type": "execute_result"
    }
   ],
   "source": [
    "let add x y = x + y"
   ]
  },
  {
   "cell_type": "code",
   "execution_count": 10,
   "metadata": {},
   "outputs": [
    {
     "data": {
      "text/plain": [
       "val add : int -> int -> int = <fun>\n"
      ]
     },
     "execution_count": 10,
     "metadata": {},
     "output_type": "execute_result"
    }
   ],
   "source": [
    "let add = fun x -> fun y -> x + y"
   ]
  },
  {
   "cell_type": "code",
   "execution_count": 11,
   "metadata": {},
   "outputs": [
    {
     "data": {
      "text/plain": [
       "- : int = 15\n"
      ]
     },
     "execution_count": 11,
     "metadata": {},
     "output_type": "execute_result"
    }
   ],
   "source": [
    "add 5 10"
   ]
  },
  {
   "cell_type": "markdown",
   "metadata": {
    "slideshow": {
     "slide_type": "slide"
    }
   },
   "source": [
    "## Partial Application\n",
    "\n",
    "```ocaml\n",
    "(fun x y z -> x + y + z) 1\n",
    "```\n",
    "\n",
    "returns a function \n",
    "\n",
    "```ocaml\n",
    "(fun y z -> 1 + y + z)\n",
    "```"
   ]
  },
  {
   "cell_type": "code",
   "execution_count": 12,
   "metadata": {},
   "outputs": [
    {
     "data": {
      "text/plain": [
       "val foo : int -> int -> int = <fun>\n"
      ]
     },
     "execution_count": 12,
     "metadata": {},
     "output_type": "execute_result"
    }
   ],
   "source": [
    "let foo = (fun x y z -> x + y + z) 1"
   ]
  },
  {
   "cell_type": "code",
   "execution_count": 13,
   "metadata": {},
   "outputs": [
    {
     "data": {
      "text/plain": [
       "- : int = 6\n"
      ]
     },
     "execution_count": 13,
     "metadata": {},
     "output_type": "execute_result"
    }
   ],
   "source": [
    "foo 2 3"
   ]
  },
  {
   "cell_type": "markdown",
   "metadata": {
    "slideshow": {
     "slide_type": "slide"
    }
   },
   "source": [
    "## Partial Application\n",
    "\n",
    "A more useful partial application example is defining `succ` and `pred` functions from `add`."
   ]
  },
  {
   "cell_type": "code",
   "execution_count": 14,
   "metadata": {},
   "outputs": [
    {
     "data": {
      "text/plain": [
       "val succ : int -> int = <fun>\n"
      ]
     },
     "execution_count": 14,
     "metadata": {},
     "output_type": "execute_result"
    },
    {
     "data": {
      "text/plain": [
       "val pred : int -> int = <fun>\n"
      ]
     },
     "execution_count": 14,
     "metadata": {},
     "output_type": "execute_result"
    }
   ],
   "source": [
    "let succ = add 1\n",
    "let pred = add (-1)"
   ]
  },
  {
   "cell_type": "code",
   "execution_count": 15,
   "metadata": {},
   "outputs": [
    {
     "data": {
      "text/plain": [
       "- : int = 11\n"
      ]
     },
     "execution_count": 15,
     "metadata": {},
     "output_type": "execute_result"
    }
   ],
   "source": [
    "succ 10"
   ]
  },
  {
   "cell_type": "code",
   "execution_count": null,
   "metadata": {},
   "outputs": [],
   "source": [
    "pred 10"
   ]
  },
  {
   "cell_type": "markdown",
   "metadata": {
    "slideshow": {
     "slide_type": "slide"
    }
   },
   "source": [
    "## Recursive Functions\n",
    "\n",
    "Recursive functions can call themselves. The syntax for recursive function definition is:\n",
    "\n",
    "```ocaml\n",
    "let rec foo x = ...\n",
    "```\n",
    "\n",
    "Notice the `rec` key word."
   ]
  },
  {
   "cell_type": "markdown",
   "metadata": {
    "slideshow": {
     "slide_type": "slide"
    }
   },
   "source": [
    "## Recursive Functions"
   ]
  },
  {
   "cell_type": "code",
   "execution_count": 16,
   "metadata": {
    "slideshow": {
     "slide_type": "-"
    }
   },
   "outputs": [
    {
     "data": {
      "text/plain": [
       "val sum_of_first_n : int -> int = <fun>\n"
      ]
     },
     "execution_count": 16,
     "metadata": {},
     "output_type": "execute_result"
    }
   ],
   "source": [
    "let rec sum_of_first_n n = \n",
    "  if n <= 0 then 0\n",
    "  else n + sum_of_first_n (n-1)"
   ]
  },
  {
   "cell_type": "code",
   "execution_count": 17,
   "metadata": {},
   "outputs": [
    {
     "data": {
      "text/plain": [
       "- : int = 15\n"
      ]
     },
     "execution_count": 17,
     "metadata": {},
     "output_type": "execute_result"
    }
   ],
   "source": [
    "sum_of_first_n 5"
   ]
  },
  {
   "cell_type": "markdown",
   "metadata": {
    "slideshow": {
     "slide_type": "slide"
    }
   },
   "source": [
    "## Tracing functions in Jupyter\n",
    "\n",
    "Jupyter (really the ocaml top-level behind the scenes) provides support for tracing the execution of functions."
   ]
  },
  {
   "cell_type": "code",
   "execution_count": 18,
   "metadata": {
    "scrolled": false
   },
   "outputs": [
    {
     "name": "stdout",
     "output_type": "stream",
     "text": [
      "sum_of_first_n is now traced.\n",
      "sum_of_first_n <-- 3\n",
      "sum_of_first_n <-- 2\n",
      "sum_of_first_n <-- 1\n",
      "sum_of_first_n <-- 0\n",
      "sum_of_first_n --> 0\n",
      "sum_of_first_n --> 1\n",
      "sum_of_first_n --> 3\n",
      "sum_of_first_n --> 6\n"
     ]
    },
    {
     "data": {
      "text/plain": [
       "- : int = 6\n"
      ]
     },
     "execution_count": 18,
     "metadata": {},
     "output_type": "execute_result"
    }
   ],
   "source": [
    "#trace sum_of_first_n;;\n",
    "\n",
    "sum_of_first_n 3;;"
   ]
  },
  {
   "cell_type": "code",
   "execution_count": 19,
   "metadata": {
    "slideshow": {
     "slide_type": "slide"
    }
   },
   "outputs": [
    {
     "name": "stdout",
     "output_type": "stream",
     "text": [
      "sum_of_first_n is no longer traced.\n"
     ]
    }
   ],
   "source": [
    "#untrace sum_of_first_n"
   ]
  },
  {
   "cell_type": "markdown",
   "metadata": {
    "slideshow": {
     "slide_type": "slide"
    }
   },
   "source": [
    "## Assignment 0 and 1 out\n",
    "\n",
    "* [Assignment 0](https://courses.iitm.ac.in/mod/assign/view.php?id=29982) is for testing your setup.\n",
    "  + Not graded, but do submit. \n",
    "  + Due on Saturday, 09 August 2019, 11:59 PM\n",
    "* [Assignment 1](https://courses.iitm.ac.in/mod/assign/view.php?id=29984) is also out.\n",
    "  + Due on Monday, 19 August 2019, 11:59 PM"
   ]
  },
  {
   "cell_type": "markdown",
   "metadata": {
    "slideshow": {
     "slide_type": "slide"
    }
   },
   "source": [
    "## Exercise\n",
    "\n",
    "Implement a recursive function that computes the nth fibonacci number. The fibonacci sequence is `[0;1;1;2;3;5;8;...]`."
   ]
  },
  {
   "cell_type": "code",
   "execution_count": 1,
   "metadata": {},
   "outputs": [
    {
     "data": {
      "text/plain": [
       "val fib : int -> int = <fun>\n"
      ]
     },
     "execution_count": 1,
     "metadata": {},
     "output_type": "execute_result"
    }
   ],
   "source": [
    "let rec fib n = \n",
    "  if n = 0 then 0\n",
    "  else if n = 1 then 1\n",
    "  else fib n - 2 + fib n -1"
   ]
  },
  {
   "cell_type": "code",
   "execution_count": null,
   "metadata": {
    "scrolled": true
   },
   "outputs": [],
   "source": [
    "assert (fib 10 = 55)"
   ]
  },
  {
   "cell_type": "markdown",
   "metadata": {
    "slideshow": {
     "slide_type": "slide"
    }
   },
   "source": [
    "## Mutually recursive functions"
   ]
  },
  {
   "cell_type": "code",
   "execution_count": null,
   "metadata": {},
   "outputs": [],
   "source": [
    "let rec even n =\n",
    "  if n = 0 then true\n",
    "  else odd (n-1)\n",
    "  \n",
    "and odd n = \n",
    "  if n = 0 then false \n",
    "  else even (n-1)"
   ]
  },
  {
   "cell_type": "code",
   "execution_count": null,
   "metadata": {},
   "outputs": [],
   "source": [
    "odd 44"
   ]
  },
  {
   "cell_type": "markdown",
   "metadata": {
    "slideshow": {
     "slide_type": "slide"
    }
   },
   "source": [
    "## Recursing too deep\n",
    "\n",
    "Let's invoke `sum_of_first_n` with larger numbers. "
   ]
  },
  {
   "cell_type": "code",
   "execution_count": 20,
   "metadata": {},
   "outputs": [
    {
     "ename": "error",
     "evalue": "runtime_error",
     "output_type": "error",
     "traceback": [
      "\u001b[31mStack overflow during evaluation (looping recursion?).\nRaised by primitive operation at file \"[16]\", line 3, characters 11-31\nCalled from file \"[16]\", line 3, characters 11-31\nCalled from file \"[16]\", line 3, characters 11-31\nCalled from file \"[16]\", line 3, characters 11-31\nCalled from file \"[16]\", line 3, characters 11-31\nCalled from file \"[16]\", line 3, characters 11-31\nCalled from file \"[16]\", line 3, characters 11-31\nCalled from file \"[16]\", line 3, characters 11-31\nCalled from file \"[16]\", line 3, characters 11-31\nCalled from file \"[16]\", line 3, characters 11-31\nCalled from file \"[16]\", line 3, characters 11-31\nCalled from file \"[16]\", line 3, characters 11-31\nCalled from file \"[16]\", line 3, characters 11-31\nCalled from file \"[16]\", line 3, characters 11-31\nCalled from file \"[16]\", line 3, characters 11-31\nCalled from file \"[16]\", line 3, characters 11-31\nCalled from file \"[16]\", line 3, characters 11-31\nCalled from file \"[16]\", line 3, characters 11-31\nCalled from file \"[16]\", line 3, characters 11-31\nCalled from file \"[16]\", line 3, characters 11-31\nCalled from file \"[16]\", line 3, characters 11-31\nCalled from file \"[16]\", line 3, characters 11-31\nCalled from file \"[16]\", line 3, characters 11-31\nCalled from file \"[16]\", line 3, characters 11-31\nCalled from file \"[16]\", line 3, characters 11-31\nCalled from file \"[16]\", line 3, characters 11-31\nCalled from file \"[16]\", line 3, characters 11-31\nCalled from file \"[16]\", line 3, characters 11-31\nCalled from file \"[16]\", line 3, characters 11-31\nCalled from file \"[16]\", line 3, characters 11-31\nCalled from file \"[16]\", line 3, characters 11-31\nCalled from file \"[16]\", line 3, characters 11-31\nCalled from file \"[16]\", line 3, characters 11-31\nCalled from file \"[16]\", line 3, characters 11-31\nCalled from file \"[16]\", line 3, characters 11-31\nCalled from file \"[16]\", line 3, characters 11-31\nCalled from file \"[16]\", line 3, characters 11-31\nCalled from file \"[16]\", line 3, characters 11-31\nCalled from file \"[16]\", line 3, characters 11-31\nCalled from file \"[16]\", line 3, characters 11-31\nCalled from file \"[16]\", line 3, characters 11-31\nCalled from file \"[16]\", line 3, characters 11-31\nCalled from file \"[16]\", line 3, characters 11-31\nCalled from file \"[16]\", line 3, characters 11-31\nCalled from file \"[16]\", line 3, characters 11-31\nCalled from file \"[16]\", line 3, characters 11-31\nCalled from file \"[16]\", line 3, characters 11-31\nCalled from file \"[16]\", line 3, characters 11-31\nCalled from file \"[16]\", line 3, characters 11-31\nCalled from file \"[16]\", line 3, characters 11-31\nCalled from file \"[16]\", line 3, characters 11-31\nCalled from file \"[16]\", line 3, characters 11-31\nCalled from file \"[16]\", line 3, characters 11-31\nCalled from file \"[16]\", line 3, characters 11-31\nCalled from file \"[16]\", line 3, characters 11-31\nCalled from file \"[16]\", line 3, characters 11-31\nCalled from file \"[16]\", line 3, characters 11-31\nCalled from file \"[16]\", line 3, characters 11-31\nCalled from file \"[16]\", line 3, characters 11-31\nCalled from file \"[16]\", line 3, characters 11-31\nCalled from file \"[16]\", line 3, characters 11-31\nCalled from file \"[16]\", line 3, characters 11-31\nCalled from file \"[16]\", line 3, characters 11-31\nCalled from file \"[16]\", line 3, characters 11-31\nCalled from file \"[16]\", line 3, characters 11-31\nCalled from file \"[16]\", line 3, characters 11-31\nCalled from file \"[16]\", line 3, characters 11-31\nCalled from file \"[16]\", line 3, characters 11-31\nCalled from file \"[16]\", line 3, characters 11-31\nCalled from file \"[16]\", line 3, characters 11-31\nCalled from file \"[16]\", line 3, characters 11-31\nCalled from file \"[16]\", line 3, characters 11-31\nCalled from file \"[16]\", line 3, characters 11-31\nCalled from file \"[16]\", line 3, characters 11-31\nCalled from file \"[16]\", line 3, characters 11-31\nCalled from file \"[16]\", line 3, characters 11-31\nCalled from file \"[16]\", line 3, characters 11-31\nCalled from file \"[16]\", line 3, characters 11-31\nCalled from file \"[16]\", line 3, characters 11-31\nCalled from file \"[16]\", line 3, characters 11-31\nCalled from file \"[16]\", line 3, characters 11-31\nCalled from file \"[16]\", line 3, characters 11-31\nCalled from file \"[16]\", line 3, characters 11-31\nCalled from file \"[16]\", line 3, characters 11-31\nCalled from file \"[16]\", line 3, characters 11-31\nCalled from file \"[16]\", line 3, characters 11-31\nCalled from file \"[16]\", line 3, characters 11-31\nCalled from file \"[16]\", line 3, characters 11-31\nCalled from file \"[16]\", line 3, characters 11-31\nCalled from file \"[16]\", line 3, characters 11-31\nCalled from file \"[16]\", line 3, characters 11-31\nCalled from file \"[16]\", line 3, characters 11-31\nCalled from file \"[16]\", line 3, characters 11-31\nCalled from file \"[16]\", line 3, characters 11-31\nCalled from file \"[16]\", line 3, characters 11-31\nCalled from file \"[16]\", line 3, characters 11-31\nCalled from file \"[16]\", line 3, characters 11-31\nCalled from file \"[16]\", line 3, characters 11-31\nCalled from file \"[16]\", line 3, characters 11-31\nCalled from file \"[16]\", line 3, characters 11-31\nCalled from file \"[16]\", line 3, characters 11-31\nCalled from file \"[16]\", line 3, characters 11-31\nCalled from file \"[16]\", line 3, characters 11-31\nCalled from file \"[16]\", line 3, characters 11-31\nCalled from file \"[16]\", line 3, characters 11-31\nCalled from file \"[16]\", line 3, characters 11-31\nCalled from file \"[16]\", line 3, characters 11-31\nCalled from file \"[16]\", line 3, characters 11-31\nCalled from file \"[16]\", line 3, characters 11-31\nCalled from file \"[16]\", line 3, characters 11-31\nCalled from file \"[16]\", line 3, characters 11-31\nCalled from file \"[16]\", line 3, characters 11-31\nCalled from file \"[16]\", line 3, characters 11-31\nCalled from file \"[16]\", line 3, characters 11-31\nCalled from file \"[16]\", line 3, characters 11-31\nCalled from file \"[16]\", line 3, characters 11-31\nCalled from file \"[16]\", line 3, characters 11-31\nCalled from file \"[16]\", line 3, characters 11-31\nCalled from file \"[16]\", line 3, characters 11-31\nCalled from file \"[16]\", line 3, characters 11-31\nCalled from file \"[16]\", line 3, characters 11-31\nCalled from file \"[16]\", line 3, characters 11-31\nCalled from file \"[16]\", line 3, characters 11-31\nCalled from file \"[16]\", line 3, characters 11-31\nCalled from file \"[16]\", line 3, characters 11-31\nCalled from file \"[16]\", line 3, characters 11-31\nCalled from file \"[16]\", line 3, characters 11-31\nCalled from file \"[16]\", line 3, characters 11-31\nCalled from file \"[16]\", line 3, characters 11-31\nCalled from file \"[16]\", line 3, characters 11-31\nCalled from file \"[16]\", line 3, characters 11-31\nCalled from file \"[16]\", line 3, characters 11-31\nCalled from file \"[16]\", line 3, characters 11-31\nCalled from file \"[16]\", line 3, characters 11-31\nCalled from file \"[16]\", line 3, characters 11-31\nCalled from file \"[16]\", line 3, characters 11-31\nCalled from file \"[16]\", line 3, characters 11-31\nCalled from file \"[16]\", line 3, characters 11-31\nCalled from file \"[16]\", line 3, characters 11-31\nCalled from file \"[16]\", line 3, characters 11-31\nCalled from file \"[16]\", line 3, characters 11-31\nCalled from file \"[16]\", line 3, characters 11-31\nCalled from file \"[16]\", line 3, characters 11-31\nCalled from file \"[16]\", line 3, characters 11-31\nCalled from file \"[16]\", line 3, characters 11-31\nCalled from file \"[16]\", line 3, characters 11-31\nCalled from file \"[16]\", line 3, characters 11-31\nCalled from file \"[16]\", line 3, characters 11-31\nCalled from file \"[16]\", line 3, characters 11-31\nCalled from file \"[16]\", line 3, characters 11-31\nCalled from file \"[16]\", line 3, characters 11-31\nCalled from file \"[16]\", line 3, characters 11-31\nCalled from file \"[16]\", line 3, characters 11-31\nCalled from file \"[16]\", line 3, characters 11-31\nCalled from file \"[16]\", line 3, characters 11-31\nCalled from file \"[16]\", line 3, characters 11-31\nCalled from file \"[16]\", line 3, characters 11-31\nCalled from file \"[16]\", line 3, characters 11-31\nCalled from file \"[16]\", line 3, characters 11-31\nCalled from file \"[16]\", line 3, characters 11-31\nCalled from file \"[16]\", line 3, characters 11-31\nCalled from file \"[16]\", line 3, characters 11-31\nCalled from file \"[16]\", line 3, characters 11-31\nCalled from file \"[16]\", line 3, characters 11-31\nCalled from file \"[16]\", line 3, characters 11-31\nCalled from file \"[16]\", line 3, characters 11-31\nCalled from file \"[16]\", line 3, characters 11-31\nCalled from file \"[16]\", line 3, characters 11-31\nCalled from file \"[16]\", line 3, characters 11-31\nCalled from file \"[16]\", line 3, characters 11-31\nCalled from file \"[16]\", line 3, characters 11-31\nCalled from file \"[16]\", line 3, characters 11-31\nCalled from file \"[16]\", line 3, characters 11-31\nCalled from file \"[16]\", line 3, characters 11-31\nCalled from file \"[16]\", line 3, characters 11-31\nCalled from file \"[16]\", line 3, characters 11-31\nCalled from file \"[16]\", line 3, characters 11-31\nCalled from file \"[16]\", line 3, characters 11-31\nCalled from file \"[16]\", line 3, characters 11-31\nCalled from file \"[16]\", line 3, characters 11-31\nCalled from file \"[16]\", line 3, characters 11-31\nCalled from file \"[16]\", line 3, characters 11-31\nCalled from file \"[16]\", line 3, characters 11-31\nCalled from file \"[16]\", line 3, characters 11-31\nCalled from file \"[16]\", line 3, characters 11-31\nCalled from file \"[16]\", line 3, characters 11-31\nCalled from file \"[16]\", line 3, characters 11-31\nCalled from file \"[16]\", line 3, characters 11-31\nCalled from file \"[16]\", line 3, characters 11-31\nCalled from file \"[16]\", line 3, characters 11-31\nCalled from file \"[16]\", line 3, characters 11-31\nCalled from file \"[16]\", line 3, characters 11-31\nCalled from file \"[16]\", line 3, characters 11-31\nCalled from file \"[16]\", line 3, characters 11-31\nCalled from file \"[16]\", line 3, characters 11-31\nCalled from file \"[16]\", line 3, characters 11-31\nCalled from file \"[16]\", line 3, characters 11-31\nCalled from file \"[16]\", line 3, characters 11-31\nCalled from file \"[16]\", line 3, characters 11-31\nCalled from file \"[16]\", line 3, characters 11-31\nCalled from file \"[16]\", line 3, characters 11-31\nCalled from file \"[16]\", line 3, characters 11-31\nCalled from file \"[16]\", line 3, characters 11-31\nCalled from file \"[16]\", line 3, characters 11-31\nCalled from file \"[16]\", line 3, characters 11-31\nCalled from file \"[16]\", line 3, characters 11-31\nCalled from file \"[16]\", line 3, characters 11-31\nCalled from file \"[16]\", line 3, characters 11-31\nCalled from file \"[16]\", line 3, characters 11-31\nCalled from file \"[16]\", line 3, characters 11-31\nCalled from file \"[16]\", line 3, characters 11-31\nCalled from file \"[16]\", line 3, characters 11-31\nCalled from file \"[16]\", line 3, characters 11-31\nCalled from file \"[16]\", line 3, characters 11-31\nCalled from file \"[16]\", line 3, characters 11-31\nCalled from file \"[16]\", line 3, characters 11-31\nCalled from file \"[16]\", line 3, characters 11-31\nCalled from file \"[16]\", line 3, characters 11-31\nCalled from file \"[16]\", line 3, characters 11-31\nCalled from file \"[16]\", line 3, characters 11-31\nCalled from file \"[16]\", line 3, characters 11-31\nCalled from file \"[16]\", line 3, characters 11-31\nCalled from file \"[16]\", line 3, characters 11-31\nCalled from file \"[16]\", line 3, characters 11-31\nCalled from file \"[16]\", line 3, characters 11-31\nCalled from file \"[16]\", line 3, characters 11-31\nCalled from file \"[16]\", line 3, characters 11-31\nCalled from file \"[16]\", line 3, characters 11-31\nCalled from file \"[16]\", line 3, characters 11-31\nCalled from file \"[16]\", line 3, characters 11-31\nCalled from file \"[16]\", line 3, characters 11-31\nCalled from file \"[16]\", line 3, characters 11-31\nCalled from file \"[16]\", line 3, characters 11-31\nCalled from file \"[16]\", line 3, characters 11-31\nCalled from file \"[16]\", line 3, characters 11-31\nCalled from file \"[16]\", line 3, characters 11-31\nCalled from file \"[16]\", line 3, characters 11-31\nCalled from file \"[16]\", line 3, characters 11-31\nCalled from file \"[16]\", line 3, characters 11-31\nCalled from file \"[16]\", line 3, characters 11-31\nCalled from file \"[16]\", line 3, characters 11-31\nCalled from file \"[16]\", line 3, characters 11-31\nCalled from file \"[16]\", line 3, characters 11-31\nCalled from file \"[16]\", line 3, characters 11-31\nCalled from file \"[16]\", line 3, characters 11-31\nCalled from file \"[16]\", line 3, characters 11-31\nCalled from file \"[16]\", line 3, characters 11-31\nCalled from file \"[16]\", line 3, characters 11-31\nCalled from file \"[16]\", line 3, characters 11-31\nCalled from file \"[16]\", line 3, characters 11-31\nCalled from file \"[16]\", line 3, characters 11-31\nCalled from file \"[16]\", line 3, characters 11-31\nCalled from file \"[16]\", line 3, characters 11-31\nCalled from file \"[16]\", line 3, characters 11-31\nCalled from file \"[16]\", line 3, characters 11-31\nCalled from file \"[16]\", line 3, characters 11-31\nCalled from file \"[16]\", line 3, characters 11-31\nCalled from file \"[16]\", line 3, characters 11-31\nCalled from file \"[16]\", line 3, characters 11-31\nCalled from file \"[16]\", line 3, characters 11-31\nCalled from file \"[16]\", line 3, characters 11-31\nCalled from file \"[16]\", line 3, characters 11-31\nCalled from file \"[16]\", line 3, characters 11-31\nCalled from file \"[16]\", line 3, characters 11-31\nCalled from file \"[16]\", line 3, characters 11-31\nCalled from file \"[16]\", line 3, characters 11-31\nCalled from file \"[16]\", line 3, characters 11-31\nCalled from file \"[16]\", line 3, characters 11-31\nCalled from file \"[16]\", line 3, characters 11-31\nCalled from file \"[16]\", line 3, characters 11-31\nCalled from file \"[16]\", line 3, characters 11-31\nCalled from file \"[16]\", line 3, characters 11-31\nCalled from file \"[16]\", line 3, characters 11-31\nCalled from file \"[16]\", line 3, characters 11-31\nCalled from file \"[16]\", line 3, characters 11-31\nCalled from file \"[16]\", line 3, characters 11-31\nCalled from file \"[16]\", line 3, characters 11-31\nCalled from file \"[16]\", line 3, characters 11-31\nCalled from file \"[16]\", line 3, characters 11-31\nCalled from file \"[16]\", line 3, characters 11-31\nCalled from file \"[16]\", line 3, characters 11-31\nCalled from file \"[16]\", line 3, characters 11-31\nCalled from file \"[16]\", line 3, characters 11-31\nCalled from file \"[16]\", line 3, characters 11-31\nCalled from file \"[16]\", line 3, characters 11-31\nCalled from file \"[16]\", line 3, characters 11-31\nCalled from file \"[16]\", line 3, characters 11-31\nCalled from file \"[16]\", line 3, characters 11-31\nCalled from file \"[16]\", line 3, characters 11-31\nCalled from file \"[16]\", line 3, characters 11-31\nCalled from file \"[16]\", line 3, characters 11-31\nCalled from file \"[16]\", line 3, characters 11-31\nCalled from file \"[16]\", line 3, characters 11-31\nCalled from file \"[16]\", line 3, characters 11-31\nCalled from file \"[16]\", line 3, characters 11-31\nCalled from file \"[16]\", line 3, characters 11-31\nCalled from file \"[16]\", line 3, characters 11-31\nCalled from file \"[16]\", line 3, characters 11-31\nCalled from file \"[16]\", line 3, characters 11-31\nCalled from file \"[16]\", line 3, characters 11-31\nCalled from file \"[16]\", line 3, characters 11-31\nCalled from file \"[16]\", line 3, characters 11-31\nCalled from file \"[16]\", line 3, characters 11-31\nCalled from file \"[16]\", line 3, characters 11-31\nCalled from file \"[16]\", line 3, characters 11-31\nCalled from file \"[16]\", line 3, characters 11-31\nCalled from file \"[16]\", line 3, characters 11-31\nCalled from file \"[16]\", line 3, characters 11-31\nCalled from file \"[16]\", line 3, characters 11-31\nCalled from file \"[16]\", line 3, characters 11-31\nCalled from file \"[16]\", line 3, characters 11-31\nCalled from file \"[16]\", line 3, characters 11-31\nCalled from file \"[16]\", line 3, characters 11-31\nCalled from file \"[16]\", line 3, characters 11-31\nCalled from file \"[16]\", line 3, characters 11-31\nCalled from file \"[16]\", line 3, characters 11-31\nCalled from file \"[16]\", line 3, characters 11-31\nCalled from file \"[16]\", line 3, characters 11-31\nCalled from file \"[16]\", line 3, characters 11-31\nCalled from file \"[16]\", line 3, characters 11-31\nCalled from file \"[16]\", line 3, characters 11-31\nCalled from file \"[16]\", line 3, characters 11-31\nCalled from file \"[16]\", line 3, characters 11-31\nCalled from file \"[16]\", line 3, characters 11-31\nCalled from file \"[16]\", line 3, characters 11-31\nCalled from file \"[16]\", line 3, characters 11-31\nCalled from file \"[16]\", line 3, characters 11-31\nCalled from file \"[16]\", line 3, characters 11-31\nCalled from file \"[16]\", line 3, characters 11-31\nCalled from file \"[16]\", line 3, characters 11-31\nCalled from file \"[16]\", line 3, characters 11-31\nCalled from file \"[16]\", line 3, characters 11-31\nCalled from file \"[16]\", line 3, characters 11-31\nCalled from file \"[16]\", line 3, characters 11-31\nCalled from file \"[16]\", line 3, characters 11-31\nCalled from file \"[16]\", line 3, characters 11-31\nCalled from file \"[16]\", line 3, characters 11-31\nCalled from file \"[16]\", line 3, characters 11-31\nCalled from file \"[16]\", line 3, characters 11-31\nCalled from file \"[16]\", line 3, characters 11-31\nCalled from file \"[16]\", line 3, characters 11-31\nCalled from file \"[16]\", line 3, characters 11-31\nCalled from file \"[16]\", line 3, characters 11-31\nCalled from file \"[16]\", line 3, characters 11-31\nCalled from file \"[16]\", line 3, characters 11-31\nCalled from file \"[16]\", line 3, characters 11-31\nCalled from file \"[16]\", line 3, characters 11-31\nCalled from file \"[16]\", line 3, characters 11-31\nCalled from file \"[16]\", line 3, characters 11-31\nCalled from file \"[16]\", line 3, characters 11-31\nCalled from file \"[16]\", line 3, characters 11-31\nCalled from file \"[16]\", line 3, characters 11-31\nCalled from file \"[16]\", line 3, characters 11-31\nCalled from file \"[16]\", line 3, characters 11-31\nCalled from file \"[16]\", line 3, characters 11-31\nCalled from file \"[16]\", line 3, characters 11-31\nCalled from file \"[16]\", line 3, characters 11-31\nCalled from file \"[16]\", line 3, characters 11-31\nCalled from file \"[16]\", line 3, characters 11-31\nCalled from file \"[16]\", line 3, characters 11-31\nCalled from file \"[16]\", line 3, characters 11-31\nCalled from file \"[16]\", line 3, characters 11-31\nCalled from file \"[16]\", line 3, characters 11-31\nCalled from file \"[16]\", line 3, characters 11-31\nCalled from file \"[16]\", line 3, characters 11-31\nCalled from file \"[16]\", line 3, characters 11-31\nCalled from file \"[16]\", line 3, characters 11-31\nCalled from file \"[16]\", line 3, characters 11-31\nCalled from file \"[16]\", line 3, characters 11-31\nCalled from file \"[16]\", line 3, characters 11-31\nCalled from file \"[16]\", line 3, characters 11-31\nCalled from file \"[16]\", line 3, characters 11-31\nCalled from file \"[16]\", line 3, characters 11-31\nCalled from file \"[16]\", line 3, characters 11-31\nCalled from file \"[16]\", line 3, characters 11-31\nCalled from file \"[16]\", line 3, characters 11-31\nCalled from file \"[16]\", line 3, characters 11-31\nCalled from file \"[16]\", line 3, characters 11-31\nCalled from file \"[16]\", line 3, characters 11-31\nCalled from file \"[16]\", line 3, characters 11-31\nCalled from file \"[16]\", line 3, characters 11-31\nCalled from file \"[16]\", line 3, characters 11-31\nCalled from file \"[16]\", line 3, characters 11-31\nCalled from file \"[16]\", line 3, characters 11-31\nCalled from file \"[16]\", line 3, characters 11-31\nCalled from file \"[16]\", line 3, characters 11-31\nCalled from file \"[16]\", line 3, characters 11-31\nCalled from file \"[16]\", line 3, characters 11-31\nCalled from file \"[16]\", line 3, characters 11-31\nCalled from file \"[16]\", line 3, characters 11-31\nCalled from file \"[16]\", line 3, characters 11-31\nCalled from file \"[16]\", line 3, characters 11-31\nCalled from file \"[16]\", line 3, characters 11-31\nCalled from file \"[16]\", line 3, characters 11-31\nCalled from file \"[16]\", line 3, characters 11-31\nCalled from file \"[16]\", line 3, characters 11-31\nCalled from file \"[16]\", line 3, characters 11-31\nCalled from file \"[16]\", line 3, characters 11-31\nCalled from file \"[16]\", line 3, characters 11-31\nCalled from file \"[16]\", line 3, characters 11-31\nCalled from file \"[16]\", line 3, characters 11-31\nCalled from file \"[16]\", line 3, characters 11-31\nCalled from file \"[16]\", line 3, characters 11-31\nCalled from file \"[16]\", line 3, characters 11-31\nCalled from file \"[16]\", line 3, characters 11-31\nCalled from file \"[16]\", line 3, characters 11-31\nCalled from file \"[16]\", line 3, characters 11-31\nCalled from file \"[16]\", line 3, characters 11-31\nCalled from file \"[16]\", line 3, characters 11-31\nCalled from file \"[16]\", line 3, characters 11-31\nCalled from file \"[16]\", line 3, characters 11-31\nCalled from file \"[16]\", line 3, characters 11-31\nCalled from file \"[16]\", line 3, characters 11-31\nCalled from file \"[16]\", line 3, characters 11-31\nCalled from file \"[16]\", line 3, characters 11-31\nCalled from file \"[16]\", line 3, characters 11-31\nCalled from file \"[16]\", line 3, characters 11-31\nCalled from file \"[16]\", line 3, characters 11-31\nCalled from file \"[16]\", line 3, characters 11-31\nCalled from file \"[16]\", line 3, characters 11-31\nCalled from file \"[16]\", line 3, characters 11-31\nCalled from file \"[16]\", line 3, characters 11-31\nCalled from file \"[16]\", line 3, characters 11-31\nCalled from file \"[16]\", line 3, characters 11-31\nCalled from file \"[16]\", line 3, characters 11-31\nCalled from file \"[16]\", line 3, characters 11-31\nCalled from file \"[16]\", line 3, characters 11-31\nCalled from file \"[16]\", line 3, characters 11-31\nCalled from file \"[16]\", line 3, characters 11-31\nCalled from file \"[16]\", line 3, characters 11-31\nCalled from file \"[16]\", line 3, characters 11-31\nCalled from file \"[16]\", line 3, characters 11-31\nCalled from file \"[16]\", line 3, characters 11-31\nCalled from file \"[16]\", line 3, characters 11-31\nCalled from file \"[16]\", line 3, characters 11-31\nCalled from file \"[16]\", line 3, characters 11-31\nCalled from file \"[16]\", line 3, characters 11-31\nCalled from file \"[16]\", line 3, characters 11-31\nCalled from file \"[16]\", line 3, characters 11-31\nCalled from file \"[16]\", line 3, characters 11-31\nCalled from file \"[16]\", line 3, characters 11-31\nCalled from file \"[16]\", line 3, characters 11-31\nCalled from file \"[16]\", line 3, characters 11-31\nCalled from file \"[16]\", line 3, characters 11-31\nCalled from file \"[16]\", line 3, characters 11-31\nCalled from file \"[16]\", line 3, characters 11-31\nCalled from file \"[16]\", line 3, characters 11-31\nCalled from file \"[16]\", line 3, characters 11-31\nCalled from file \"[16]\", line 3, characters 11-31\nCalled from file \"[16]\", line 3, characters 11-31\nCalled from file \"[16]\", line 3, characters 11-31\nCalled from file \"[16]\", line 3, characters 11-31\nCalled from file \"[16]\", line 3, characters 11-31\nCalled from file \"[16]\", line 3, characters 11-31\nCalled from file \"[16]\", line 3, characters 11-31\nCalled from file \"[16]\", line 3, characters 11-31\nCalled from file \"[16]\", line 3, characters 11-31\nCalled from file \"[16]\", line 3, characters 11-31\nCalled from file \"[16]\", line 3, characters 11-31\nCalled from file \"[16]\", line 3, characters 11-31\nCalled from file \"[16]\", line 3, characters 11-31\nCalled from file \"[16]\", line 3, characters 11-31\nCalled from file \"[16]\", line 3, characters 11-31\nCalled from file \"[16]\", line 3, characters 11-31\nCalled from file \"[16]\", line 3, characters 11-31\nCalled from file \"[16]\", line 3, characters 11-31\nCalled from file \"[16]\", line 3, characters 11-31\nCalled from file \"[16]\", line 3, characters 11-31\nCalled from file \"[16]\", line 3, characters 11-31\nCalled from file \"[16]\", line 3, characters 11-31\nCalled from file \"[16]\", line 3, characters 11-31\nCalled from file \"[16]\", line 3, characters 11-31\nCalled from file \"[16]\", line 3, characters 11-31\nCalled from file \"[16]\", line 3, characters 11-31\nCalled from file \"[16]\", line 3, characters 11-31\nCalled from file \"[16]\", line 3, characters 11-31\nCalled from file \"[16]\", line 3, characters 11-31\nCalled from file \"[16]\", line 3, characters 11-31\nCalled from file \"[16]\", line 3, characters 11-31\nCalled from file \"[16]\", line 3, characters 11-31\nCalled from file \"[16]\", line 3, characters 11-31\nCalled from file \"[16]\", line 3, characters 11-31\nCalled from file \"[16]\", line 3, characters 11-31\nCalled from file \"[16]\", line 3, characters 11-31\nCalled from file \"[16]\", line 3, characters 11-31\nCalled from file \"[16]\", line 3, characters 11-31\nCalled from file \"[16]\", line 3, characters 11-31\nCalled from file \"[16]\", line 3, characters 11-31\nCalled from file \"[16]\", line 3, characters 11-31\nCalled from file \"[16]\", line 3, characters 11-31\nCalled from file \"[16]\", line 3, characters 11-31\nCalled from file \"[16]\", line 3, characters 11-31\nCalled from file \"[16]\", line 3, characters 11-31\nCalled from file \"[16]\", line 3, characters 11-31\nCalled from file \"[16]\", line 3, characters 11-31\nCalled from file \"[16]\", line 3, characters 11-31\nCalled from file \"[16]\", line 3, characters 11-31\nCalled from file \"[16]\", line 3, characters 11-31\nCalled from file \"[16]\", line 3, characters 11-31\nCalled from file \"[16]\", line 3, characters 11-31\nCalled from file \"[16]\", line 3, characters 11-31\nCalled from file \"[16]\", line 3, characters 11-31\nCalled from file \"[16]\", line 3, characters 11-31\nCalled from file \"[16]\", line 3, characters 11-31\nCalled from file \"[16]\", line 3, characters 11-31\nCalled from file \"[16]\", line 3, characters 11-31\nCalled from file \"[16]\", line 3, characters 11-31\nCalled from file \"[16]\", line 3, characters 11-31\nCalled from file \"[16]\", line 3, characters 11-31\nCalled from file \"[16]\", line 3, characters 11-31\nCalled from file \"[16]\", line 3, characters 11-31\nCalled from file \"[16]\", line 3, characters 11-31\nCalled from file \"[16]\", line 3, characters 11-31\nCalled from file \"[16]\", line 3, characters 11-31\nCalled from file \"[16]\", line 3, characters 11-31\nCalled from file \"[16]\", line 3, characters 11-31\nCalled from file \"[16]\", line 3, characters 11-31\nCalled from file \"[16]\", line 3, characters 11-31\nCalled from file \"[16]\", line 3, characters 11-31\nCalled from file \"[16]\", line 3, characters 11-31\nCalled from file \"[16]\", line 3, characters 11-31\nCalled from file \"[16]\", line 3, characters 11-31\nCalled from file \"[16]\", line 3, characters 11-31\nCalled from file \"[16]\", line 3, characters 11-31\nCalled from file \"[16]\", line 3, characters 11-31\nCalled from file \"[16]\", line 3, characters 11-31\nCalled from file \"[16]\", line 3, characters 11-31\nCalled from file \"[16]\", line 3, characters 11-31\nCalled from file \"[16]\", line 3, characters 11-31\nCalled from file \"[16]\", line 3, characters 11-31\nCalled from file \"[16]\", line 3, characters 11-31\nCalled from file \"[16]\", line 3, characters 11-31\nCalled from file \"[16]\", line 3, characters 11-31\nCalled from file \"[16]\", line 3, characters 11-31\nCalled from file \"[16]\", line 3, characters 11-31\nCalled from file \"[16]\", line 3, characters 11-31\nCalled from file \"[16]\", line 3, characters 11-31\nCalled from file \"[16]\", line 3, characters 11-31\nCalled from file \"[16]\", line 3, characters 11-31\nCalled from file \"[16]\", line 3, characters 11-31\nCalled from file \"[16]\", line 3, characters 11-31\nCalled from file \"[16]\", line 3, characters 11-31\nCalled from file \"[16]\", line 3, characters 11-31\nCalled from file \"[16]\", line 3, characters 11-31\nCalled from file \"[16]\", line 3, characters 11-31\nCalled from file \"[16]\", line 3, characters 11-31\nCalled from file \"[16]\", line 3, characters 11-31\nCalled from file \"[16]\", line 3, characters 11-31\nCalled from file \"[16]\", line 3, characters 11-31\nCalled from file \"[16]\", line 3, characters 11-31\nCalled from file \"[16]\", line 3, characters 11-31\nCalled from file \"[16]\", line 3, characters 11-31\nCalled from file \"[16]\", line 3, characters 11-31\nCalled from file \"[16]\", line 3, characters 11-31\nCalled from file \"[16]\", line 3, characters 11-31\nCalled from file \"[16]\", line 3, characters 11-31\nCalled from file \"[16]\", line 3, characters 11-31\nCalled from file \"[16]\", line 3, characters 11-31\nCalled from file \"[16]\", line 3, characters 11-31\nCalled from file \"[16]\", line 3, characters 11-31\nCalled from file \"[16]\", line 3, characters 11-31\nCalled from file \"[16]\", line 3, characters 11-31\nCalled from file \"[16]\", line 3, characters 11-31\nCalled from file \"[16]\", line 3, characters 11-31\nCalled from file \"[16]\", line 3, characters 11-31\nCalled from file \"[16]\", line 3, characters 11-31\nCalled from file \"[16]\", line 3, characters 11-31\nCalled from file \"[16]\", line 3, characters 11-31\nCalled from file \"[16]\", line 3, characters 11-31\nCalled from file \"[16]\", line 3, characters 11-31\nCalled from file \"[16]\", line 3, characters 11-31\nCalled from file \"[16]\", line 3, characters 11-31\nCalled from file \"[16]\", line 3, characters 11-31\nCalled from file \"[16]\", line 3, characters 11-31\nCalled from file \"[16]\", line 3, characters 11-31\nCalled from file \"[16]\", line 3, characters 11-31\nCalled from file \"[16]\", line 3, characters 11-31\nCalled from file \"[16]\", line 3, characters 11-31\nCalled from file \"[16]\", line 3, characters 11-31\nCalled from file \"[16]\", line 3, characters 11-31\nCalled from file \"[16]\", line 3, characters 11-31\nCalled from file \"[16]\", line 3, characters 11-31\nCalled from file \"[16]\", line 3, characters 11-31\nCalled from file \"[16]\", line 3, characters 11-31\nCalled from file \"[16]\", line 3, characters 11-31\nCalled from file \"[16]\", line 3, characters 11-31\nCalled from file \"[16]\", line 3, characters 11-31\nCalled from file \"[16]\", line 3, characters 11-31\nCalled from file \"[16]\", line 3, characters 11-31\nCalled from file \"[16]\", line 3, characters 11-31\nCalled from file \"[16]\", line 3, characters 11-31\nCalled from file \"[16]\", line 3, characters 11-31\nCalled from file \"[16]\", line 3, characters 11-31\nCalled from file \"[16]\", line 3, characters 11-31\nCalled from file \"[16]\", line 3, characters 11-31\nCalled from file \"[16]\", line 3, characters 11-31\nCalled from file \"[16]\", line 3, characters 11-31\nCalled from file \"[16]\", line 3, characters 11-31\nCalled from file \"[16]\", line 3, characters 11-31\nCalled from file \"[16]\", line 3, characters 11-31\nCalled from file \"[16]\", line 3, characters 11-31\nCalled from file \"[16]\", line 3, characters 11-31\nCalled from file \"[16]\", line 3, characters 11-31\nCalled from file \"[16]\", line 3, characters 11-31\nCalled from file \"[16]\", line 3, characters 11-31\nCalled from file \"[16]\", line 3, characters 11-31\nCalled from file \"[16]\", line 3, characters 11-31\nCalled from file \"[16]\", line 3, characters 11-31\nCalled from file \"[16]\", line 3, characters 11-31\nCalled from file \"[16]\", line 3, characters 11-31\nCalled from file \"[16]\", line 3, characters 11-31\nCalled from file \"[16]\", line 3, characters 11-31\nCalled from file \"[16]\", line 3, characters 11-31\nCalled from file \"[16]\", line 3, characters 11-31\nCalled from file \"[16]\", line 3, characters 11-31\nCalled from file \"[16]\", line 3, characters 11-31\nCalled from file \"[16]\", line 3, characters 11-31\nCalled from file \"[16]\", line 3, characters 11-31\nCalled from file \"[16]\", line 3, characters 11-31\nCalled from file \"[16]\", line 3, characters 11-31\nCalled from file \"[16]\", line 3, characters 11-31\nCalled from file \"[16]\", line 3, characters 11-31\nCalled from file \"[16]\", line 3, characters 11-31\nCalled from file \"[16]\", line 3, characters 11-31\nCalled from file \"[16]\", line 3, characters 11-31\nCalled from file \"[16]\", line 3, characters 11-31\nCalled from file \"[16]\", line 3, characters 11-31\nCalled from file \"[16]\", line 3, characters 11-31\nCalled from file \"[16]\", line 3, characters 11-31\nCalled from file \"[16]\", line 3, characters 11-31\nCalled from file \"[16]\", line 3, characters 11-31\nCalled from file \"[16]\", line 3, characters 11-31\nCalled from file \"[16]\", line 3, characters 11-31\nCalled from file \"[16]\", line 3, characters 11-31\nCalled from file \"[16]\", line 3, characters 11-31\nCalled from file \"[16]\", line 3, characters 11-31\nCalled from file \"[16]\", line 3, characters 11-31\nCalled from file \"[16]\", line 3, characters 11-31\nCalled from file \"[16]\", line 3, characters 11-31\nCalled from file \"[16]\", line 3, characters 11-31\nCalled from file \"[16]\", line 3, characters 11-31\nCalled from file \"[16]\", line 3, characters 11-31\nCalled from file \"[16]\", line 3, characters 11-31\nCalled from file \"[16]\", line 3, characters 11-31\nCalled from file \"[16]\", line 3, characters 11-31\nCalled from file \"[16]\", line 3, characters 11-31\nCalled from file \"[16]\", line 3, characters 11-31\nCalled from file \"[16]\", line 3, characters 11-31\nCalled from file \"[16]\", line 3, characters 11-31\nCalled from file \"[16]\", line 3, characters 11-31\nCalled from file \"[16]\", line 3, characters 11-31\nCalled from file \"[16]\", line 3, characters 11-31\nCalled from file \"[16]\", line 3, characters 11-31\nCalled from file \"[16]\", line 3, characters 11-31\nCalled from file \"[16]\", line 3, characters 11-31\nCalled from file \"[16]\", line 3, characters 11-31\nCalled from file \"[16]\", line 3, characters 11-31\nCalled from file \"[16]\", line 3, characters 11-31\nCalled from file \"[16]\", line 3, characters 11-31\nCalled from file \"[16]\", line 3, characters 11-31\nCalled from file \"[16]\", line 3, characters 11-31\nCalled from file \"[16]\", line 3, characters 11-31\nCalled from file \"[16]\", line 3, characters 11-31\nCalled from file \"[16]\", line 3, characters 11-31\nCalled from file \"[16]\", line 3, characters 11-31\nCalled from file \"[16]\", line 3, characters 11-31\nCalled from file \"[16]\", line 3, characters 11-31\nCalled from file \"[16]\", line 3, characters 11-31\nCalled from file \"[16]\", line 3, characters 11-31\nCalled from file \"[16]\", line 3, characters 11-31\nCalled from file \"[16]\", line 3, characters 11-31\nCalled from file \"[16]\", line 3, characters 11-31\nCalled from file \"[16]\", line 3, characters 11-31\nCalled from file \"[16]\", line 3, characters 11-31\nCalled from file \"[16]\", line 3, characters 11-31\nCalled from file \"[16]\", line 3, characters 11-31\nCalled from file \"[16]\", line 3, characters 11-31\nCalled from file \"[16]\", line 3, characters 11-31\nCalled from file \"[16]\", line 3, characters 11-31\nCalled from file \"[16]\", line 3, characters 11-31\nCalled from file \"[16]\", line 3, characters 11-31\nCalled from file \"[16]\", line 3, characters 11-31\nCalled from file \"[16]\", line 3, characters 11-31\nCalled from file \"[16]\", line 3, characters 11-31\nCalled from file \"[16]\", line 3, characters 11-31\nCalled from file \"[16]\", line 3, characters 11-31\nCalled from file \"[16]\", line 3, characters 11-31\nCalled from file \"[16]\", line 3, characters 11-31\nCalled from file \"[16]\", line 3, characters 11-31\nCalled from file \"[16]\", line 3, characters 11-31\nCalled from file \"[16]\", line 3, characters 11-31\nCalled from file \"[16]\", line 3, characters 11-31\nCalled from file \"[16]\", line 3, characters 11-31\nCalled from file \"[16]\", line 3, characters 11-31\nCalled from file \"[16]\", line 3, characters 11-31\nCalled from file \"[16]\", line 3, characters 11-31\nCalled from file \"[16]\", line 3, characters 11-31\nCalled from file \"[16]\", line 3, characters 11-31\nCalled from file \"[16]\", line 3, characters 11-31\nCalled from file \"[16]\", line 3, characters 11-31\nCalled from file \"[16]\", line 3, characters 11-31\nCalled from file \"[16]\", line 3, characters 11-31\nCalled from file \"[16]\", line 3, characters 11-31\nCalled from file \"[16]\", line 3, characters 11-31\nCalled from file \"[16]\", line 3, characters 11-31\nCalled from file \"[16]\", line 3, characters 11-31\nCalled from file \"[16]\", line 3, characters 11-31\nCalled from file \"[16]\", line 3, characters 11-31\nCalled from file \"[16]\", line 3, characters 11-31\nCalled from file \"[16]\", line 3, characters 11-31\nCalled from file \"[16]\", line 3, characters 11-31\nCalled from file \"[16]\", line 3, characters 11-31\nCalled from file \"[16]\", line 3, characters 11-31\nCalled from file \"[16]\", line 3, characters 11-31\nCalled from file \"[16]\", line 3, characters 11-31\nCalled from file \"[16]\", line 3, characters 11-31\nCalled from file \"[16]\", line 3, characters 11-31\nCalled from file \"[16]\", line 3, characters 11-31\nCalled from file \"[16]\", line 3, characters 11-31\nCalled from file \"[16]\", line 3, characters 11-31\nCalled from file \"[16]\", line 3, characters 11-31\nCalled from file \"[16]\", line 3, characters 11-31\nCalled from file \"[16]\", line 3, characters 11-31\nCalled from file \"[16]\", line 3, characters 11-31\nCalled from file \"[16]\", line 3, characters 11-31\nCalled from file \"[16]\", line 3, characters 11-31\nCalled from file \"[16]\", line 3, characters 11-31\nCalled from file \"[16]\", line 3, characters 11-31\nCalled from file \"[16]\", line 3, characters 11-31\nCalled from file \"[16]\", line 3, characters 11-31\nCalled from file \"[16]\", line 3, characters 11-31\nCalled from file \"[16]\", line 3, characters 11-31\nCalled from file \"[16]\", line 3, characters 11-31\nCalled from file \"[16]\", line 3, characters 11-31\nCalled from file \"[16]\", line 3, characters 11-31\nCalled from file \"[16]\", line 3, characters 11-31\nCalled from file \"[16]\", line 3, characters 11-31\nCalled from file \"[16]\", line 3, characters 11-31\nCalled from file \"[16]\", line 3, characters 11-31\nCalled from file \"[16]\", line 3, characters 11-31\nCalled from file \"[16]\", line 3, characters 11-31\nCalled from file \"[16]\", line 3, characters 11-31\nCalled from file \"[16]\", line 3, characters 11-31\nCalled from file \"[16]\", line 3, characters 11-31\nCalled from file \"[16]\", line 3, characters 11-31\nCalled from file \"[16]\", line 3, characters 11-31\nCalled from file \"[16]\", line 3, characters 11-31\nCalled from file \"[16]\", line 3, characters 11-31\nCalled from file \"[16]\", line 3, characters 11-31\nCalled from file \"[16]\", line 3, characters 11-31\nCalled from file \"[16]\", line 3, characters 11-31\nCalled from file \"[16]\", line 3, characters 11-31\nCalled from file \"[16]\", line 3, characters 11-31\nCalled from file \"[16]\", line 3, characters 11-31\nCalled from file \"[16]\", line 3, characters 11-31\nCalled from file \"[16]\", line 3, characters 11-31\nCalled from file \"[16]\", line 3, characters 11-31\nCalled from file \"[16]\", line 3, characters 11-31\nCalled from file \"[16]\", line 3, characters 11-31\nCalled from file \"[16]\", line 3, characters 11-31\nCalled from file \"[16]\", line 3, characters 11-31\nCalled from file \"[16]\", line 3, characters 11-31\nCalled from file \"[16]\", line 3, characters 11-31\nCalled from file \"[16]\", line 3, characters 11-31\nCalled from file \"[16]\", line 3, characters 11-31\nCalled from file \"[16]\", line 3, characters 11-31\nCalled from file \"[16]\", line 3, characters 11-31\nCalled from file \"[16]\", line 3, characters 11-31\nCalled from file \"[16]\", line 3, characters 11-31\nCalled from file \"[16]\", line 3, characters 11-31\nCalled from file \"[16]\", line 3, characters 11-31\nCalled from file \"[16]\", line 3, characters 11-31\nCalled from file \"[16]\", line 3, characters 11-31\nCalled from file \"[16]\", line 3, characters 11-31\nCalled from file \"[16]\", line 3, characters 11-31\nCalled from file \"[16]\", line 3, characters 11-31\nCalled from file \"[16]\", line 3, characters 11-31\nCalled from file \"[16]\", line 3, characters 11-31\nCalled from file \"[16]\", line 3, characters 11-31\nCalled from file \"[16]\", line 3, characters 11-31\nCalled from file \"[16]\", line 3, characters 11-31\nCalled from file \"[16]\", line 3, characters 11-31\nCalled from file \"[16]\", line 3, characters 11-31\nCalled from file \"[16]\", line 3, characters 11-31\nCalled from file \"[16]\", line 3, characters 11-31\nCalled from file \"[16]\", line 3, characters 11-31\nCalled from file \"[16]\", line 3, characters 11-31\nCalled from file \"[16]\", line 3, characters 11-31\nCalled from file \"[16]\", line 3, characters 11-31\nCalled from file \"[16]\", line 3, characters 11-31\nCalled from file \"[16]\", line 3, characters 11-31\nCalled from file \"[16]\", line 3, characters 11-31\nCalled from file \"[16]\", line 3, characters 11-31\nCalled from file \"[16]\", line 3, characters 11-31\nCalled from file \"[16]\", line 3, characters 11-31\nCalled from file \"[16]\", line 3, characters 11-31\nCalled from file \"[16]\", line 3, characters 11-31\nCalled from file \"[16]\", line 3, characters 11-31\nCalled from file \"[16]\", line 3, characters 11-31\nCalled from file \"[16]\", line 3, characters 11-31\nCalled from file \"[16]\", line 3, characters 11-31\nCalled from file \"[16]\", line 3, characters 11-31\nCalled from file \"[16]\", line 3, characters 11-31\nCalled from file \"[16]\", line 3, characters 11-31\nCalled from file \"[16]\", line 3, characters 11-31\nCalled from file \"[16]\", line 3, characters 11-31\nCalled from file \"[16]\", line 3, characters 11-31\nCalled from file \"[16]\", line 3, characters 11-31\nCalled from file \"[16]\", line 3, characters 11-31\nCalled from file \"[16]\", line 3, characters 11-31\nCalled from file \"[16]\", line 3, characters 11-31\nCalled from file \"[16]\", line 3, characters 11-31\nCalled from file \"[16]\", line 3, characters 11-31\nCalled from file \"[16]\", line 3, characters 11-31\nCalled from file \"[16]\", line 3, characters 11-31\nCalled from file \"[16]\", line 3, characters 11-31\nCalled from file \"[16]\", line 3, characters 11-31\nCalled from file \"[16]\", line 3, characters 11-31\nCalled from file \"[16]\", line 3, characters 11-31\nCalled from file \"[16]\", line 3, characters 11-31\nCalled from file \"[16]\", line 3, characters 11-31\nCalled from file \"[16]\", line 3, characters 11-31\nCalled from file \"[16]\", line 3, characters 11-31\nCalled from file \"[16]\", line 3, characters 11-31\nCalled from file \"[16]\", line 3, characters 11-31\nCalled from file \"[16]\", line 3, characters 11-31\nCalled from file \"[16]\", line 3, characters 11-31\nCalled from file \"[16]\", line 3, characters 11-31\nCalled from file \"[16]\", line 3, characters 11-31\nCalled from file \"[16]\", line 3, characters 11-31\nCalled from file \"[16]\", line 3, characters 11-31\nCalled from file \"[16]\", line 3, characters 11-31\nCalled from file \"[16]\", line 3, characters 11-31\nCalled from file \"[16]\", line 3, characters 11-31\nCalled from file \"[16]\", line 3, characters 11-31\nCalled from file \"[16]\", line 3, characters 11-31\nCalled from file \"[16]\", line 3, characters 11-31\nCalled from file \"[16]\", line 3, characters 11-31\nCalled from file \"[16]\", line 3, characters 11-31\nCalled from file \"[16]\", line 3, characters 11-31\nCalled from file \"[16]\", line 3, characters 11-31\nCalled from file \"[16]\", line 3, characters 11-31\nCalled from file \"[16]\", line 3, characters 11-31\nCalled from file \"[16]\", line 3, characters 11-31\nCalled from file \"[16]\", line 3, characters 11-31\nCalled from file \"[16]\", line 3, characters 11-31\nCalled from file \"[16]\", line 3, characters 11-31\nCalled from file \"[16]\", line 3, characters 11-31\nCalled from file \"[16]\", line 3, characters 11-31\nCalled from file \"[16]\", line 3, characters 11-31\nCalled from file \"[16]\", line 3, characters 11-31\nCalled from file \"[16]\", line 3, characters 11-31\nCalled from file \"[16]\", line 3, characters 11-31\nCalled from file \"[16]\", line 3, characters 11-31\nCalled from file \"[16]\", line 3, characters 11-31\nCalled from file \"[16]\", line 3, characters 11-31\nCalled from file \"[16]\", line 3, characters 11-31\nCalled from file \"[16]\", line 3, characters 11-31\nCalled from file \"[16]\", line 3, characters 11-31\nCalled from file \"[16]\", line 3, characters 11-31\nCalled from file \"[16]\", line 3, characters 11-31\nCalled from file \"[16]\", line 3, characters 11-31\nCalled from file \"[16]\", line 3, characters 11-31\nCalled from file \"[16]\", line 3, characters 11-31\nCalled from file \"[16]\", line 3, characters 11-31\nCalled from file \"[16]\", line 3, characters 11-31\nCalled from file \"[16]\", line 3, characters 11-31\nCalled from file \"[16]\", line 3, characters 11-31\nCalled from file \"[16]\", line 3, characters 11-31\nCalled from file \"[16]\", line 3, characters 11-31\nCalled from file \"[16]\", line 3, characters 11-31\nCalled from file \"[16]\", line 3, characters 11-31\nCalled from file \"[16]\", line 3, characters 11-31\nCalled from file \"[16]\", line 3, characters 11-31\nCalled from file \"[16]\", line 3, characters 11-31\nCalled from file \"[16]\", line 3, characters 11-31\nCalled from file \"[16]\", line 3, characters 11-31\nCalled from file \"[16]\", line 3, characters 11-31\nCalled from file \"[16]\", line 3, characters 11-31\nCalled from file \"[16]\", line 3, characters 11-31\nCalled from file \"[16]\", line 3, characters 11-31\nCalled from file \"[16]\", line 3, characters 11-31\nCalled from file \"[16]\", line 3, characters 11-31\nCalled from file \"[16]\", line 3, characters 11-31\nCalled from file \"[16]\", line 3, characters 11-31\nCalled from file \"[16]\", line 3, characters 11-31\nCalled from file \"[16]\", line 3, characters 11-31\nCalled from file \"[16]\", line 3, characters 11-31\nCalled from file \"[16]\", line 3, characters 11-31\nCalled from file \"[16]\", line 3, characters 11-31\nCalled from file \"[16]\", line 3, characters 11-31\nCalled from file \"[16]\", line 3, characters 11-31\nCalled from file \"[16]\", line 3, characters 11-31\nCalled from file \"[16]\", line 3, characters 11-31\nCalled from file \"[16]\", line 3, characters 11-31\nCalled from file \"[16]\", line 3, characters 11-31\nCalled from file \"[16]\", line 3, characters 11-31\nCalled from file \"[16]\", line 3, characters 11-31\nCalled from file \"[16]\", line 3, characters 11-31\nCalled from file \"[16]\", line 3, characters 11-31\nCalled from file \"[16]\", line 3, characters 11-31\nCalled from file \"[16]\", line 3, characters 11-31\nCalled from file \"[16]\", line 3, characters 11-31\nCalled from file \"[16]\", line 3, characters 11-31\nCalled from file \"[16]\", line 3, characters 11-31\nCalled from file \"[16]\", line 3, characters 11-31\nCalled from file \"[16]\", line 3, characters 11-31\nCalled from file \"[16]\", line 3, characters 11-31\nCalled from file \"[16]\", line 3, characters 11-31\nCalled from file \"[16]\", line 3, characters 11-31\nCalled from file \"[16]\", line 3, characters 11-31\nCalled from file \"[16]\", line 3, characters 11-31\nCalled from file \"[16]\", line 3, characters 11-31\nCalled from file \"[16]\", line 3, characters 11-31\nCalled from file \"[16]\", line 3, characters 11-31\nCalled from file \"[16]\", line 3, characters 11-31\nCalled from file \"[16]\", line 3, characters 11-31\nCalled from file \"[16]\", line 3, characters 11-31\nCalled from file \"[16]\", line 3, characters 11-31\nCalled from file \"[16]\", line 3, characters 11-31\nCalled from file \"[16]\", line 3, characters 11-31\nCalled from file \"[16]\", line 3, characters 11-31\nCalled from file \"[16]\", line 3, characters 11-31\nCalled from file \"[16]\", line 3, characters 11-31\nCalled from file \"[16]\", line 3, characters 11-31\nCalled from file \"[16]\", line 3, characters 11-31\nCalled from file \"[16]\", line 3, characters 11-31\nCalled from file \"[16]\", line 3, characters 11-31\nCalled from file \"[16]\", line 3, characters 11-31\nCalled from file \"[16]\", line 3, characters 11-31\nCalled from file \"[16]\", line 3, characters 11-31\nCalled from file \"[16]\", line 3, characters 11-31\nCalled from file \"[16]\", line 3, characters 11-31\nCalled from file \"[16]\", line 3, characters 11-31\nCalled from file \"[16]\", line 3, characters 11-31\nCalled from file \"[16]\", line 3, characters 11-31\nCalled from file \"[16]\", line 3, characters 11-31\nCalled from file \"[16]\", line 3, characters 11-31\nCalled from file \"[16]\", line 3, characters 11-31\nCalled from file \"[16]\", line 3, characters 11-31\nCalled from file \"[16]\", line 3, characters 11-31\nCalled from file \"[16]\", line 3, characters 11-31\nCalled from file \"[16]\", line 3, characters 11-31\nCalled from file \"[16]\", line 3, characters 11-31\nCalled from file \"[16]\", line 3, characters 11-31\nCalled from file \"[16]\", line 3, characters 11-31\nCalled from file \"[16]\", line 3, characters 11-31\nCalled from file \"[16]\", line 3, characters 11-31\nCalled from file \"[16]\", line 3, characters 11-31\nCalled from file \"[16]\", line 3, characters 11-31\nCalled from file \"[16]\", line 3, characters 11-31\nCalled from file \"[16]\", line 3, characters 11-31\nCalled from file \"[16]\", line 3, characters 11-31\nCalled from file \"[16]\", line 3, characters 11-31\nCalled from file \"[16]\", line 3, characters 11-31\nCalled from file \"[16]\", line 3, characters 11-31\nCalled from file \"[16]\", line 3, characters 11-31\nCalled from file \"[16]\", line 3, characters 11-31\nCalled from file \"[16]\", line 3, characters 11-31\nCalled from file \"[16]\", line 3, characters 11-31\nCalled from file \"[16]\", line 3, characters 11-31\nCalled from file \"[16]\", line 3, characters 11-31\nCalled from file \"[16]\", line 3, characters 11-31\nCalled from file \"[16]\", line 3, characters 11-31\nCalled from file \"[16]\", line 3, characters 11-31\nCalled from file \"[16]\", line 3, characters 11-31\nCalled from file \"[16]\", line 3, characters 11-31\nCalled from file \"[16]\", line 3, characters 11-31\nCalled from file \"[16]\", line 3, characters 11-31\nCalled from file \"[16]\", line 3, characters 11-31\nCalled from file \"[16]\", line 3, characters 11-31\nCalled from file \"[16]\", line 3, characters 11-31\nCalled from file \"[16]\", line 3, characters 11-31\nCalled from file \"[16]\", line 3, characters 11-31\nCalled from file \"[16]\", line 3, characters 11-31\nCalled from file \"[16]\", line 3, characters 11-31\nCalled from file \"[16]\", line 3, characters 11-31\nCalled from file \"[16]\", line 3, characters 11-31\nCalled from file \"[16]\", line 3, characters 11-31\nCalled from file \"[16]\", line 3, characters 11-31\nCalled from file \"[16]\", line 3, characters 11-31\nCalled from file \"[16]\", line 3, characters 11-31\nCalled from file \"[16]\", line 3, characters 11-31\nCalled from file \"[16]\", line 3, characters 11-31\nCalled from file \"[16]\", line 3, characters 11-31\nCalled from file \"[16]\", line 3, characters 11-31\nCalled from file \"[16]\", line 3, characters 11-31\nCalled from file \"[16]\", line 3, characters 11-31\nCalled from file \"[16]\", line 3, characters 11-31\nCalled from file \"[16]\", line 3, characters 11-31\nCalled from file \"[16]\", line 3, characters 11-31\nCalled from file \"[16]\", line 3, characters 11-31\nCalled from file \"[16]\", line 3, characters 11-31\nCalled from file \"[16]\", line 3, characters 11-31\nCalled from file \"[16]\", line 3, characters 11-31\nCalled from file \"[16]\", line 3, characters 11-31\nCalled from file \"[16]\", line 3, characters 11-31\nCalled from file \"[16]\", line 3, characters 11-31\nCalled from file \"[16]\", line 3, characters 11-31\nCalled from file \"[16]\", line 3, characters 11-31\nCalled from file \"[16]\", line 3, characters 11-31\nCalled from file \"[16]\", line 3, characters 11-31\nCalled from file \"[16]\", line 3, characters 11-31\nCalled from file \"[16]\", line 3, characters 11-31\nCalled from file \"[16]\", line 3, characters 11-31\nCalled from file \"[16]\", line 3, characters 11-31\nCalled from file \"[16]\", line 3, characters 11-31\nCalled from file \"[16]\", line 3, characters 11-31\nCalled from file \"[16]\", line 3, characters 11-31\nCalled from file \"[16]\", line 3, characters 11-31\nCalled from file \"[16]\", line 3, characters 11-31\nCalled from file \"[16]\", line 3, characters 11-31\nCalled from file \"[16]\", line 3, characters 11-31\nCalled from file \"[16]\", line 3, characters 11-31\nCalled from file \"[16]\", line 3, characters 11-31\nCalled from file \"[16]\", line 3, characters 11-31\nCalled from file \"[16]\", line 3, characters 11-31\nCalled from file \"[16]\", line 3, characters 11-31\nCalled from file \"[16]\", line 3, characters 11-31\nCalled from file \"[16]\", line 3, characters 11-31\nCalled from file \"[16]\", line 3, characters 11-31\nCalled from file \"[16]\", line 3, characters 11-31\nCalled from file \"[16]\", line 3, characters 11-31\nCalled from file \"[16]\", line 3, characters 11-31\n\u001b[0m"
     ]
    }
   ],
   "source": [
    "sum_of_first_n 1000000"
   ]
  },
  {
   "cell_type": "markdown",
   "metadata": {
    "slideshow": {
     "slide_type": "slide"
    }
   },
   "source": [
    "## Stack buildup\n",
    "\n",
    "```ocaml\n",
    "let rec sum_of_first_n n = \n",
    "  if n <= 0 then 0\n",
    "  else n + sum_of_first_n (n-1)\n",
    "```\n",
    "\n",
    "Some work `\"+ n\"` left to do after the recursive call returns. This builds up stack frames."
   ]
  },
  {
   "cell_type": "markdown",
   "metadata": {
    "slideshow": {
     "slide_type": "slide"
    }
   },
   "source": [
    "## Stack buildup\n",
    "\n",
    "For `sum_of_first_n 5`:\n",
    "\n",
    "<center>\n",
    "\n",
    "<img src=\"images/stack1.svg\" width=\"150\">\n",
    "</center>"
   ]
  },
  {
   "cell_type": "markdown",
   "metadata": {
    "slideshow": {
     "slide_type": "slide"
    }
   },
   "source": [
    "## Stack buildup\n",
    "\n",
    "For `sum_of_first_n 5`:\n",
    "\n",
    "<center>\n",
    "\n",
    "<img src=\"images/stack2.svg\" width=\"225\">\n",
    "</center>"
   ]
  },
  {
   "cell_type": "markdown",
   "metadata": {
    "slideshow": {
     "slide_type": "slide"
    }
   },
   "source": [
    "## Tail recursion\n",
    "\n",
    "Rewrite the function such that the recursive call is the last thing that the function does:"
   ]
  },
  {
   "cell_type": "code",
   "execution_count": 21,
   "metadata": {},
   "outputs": [
    {
     "data": {
      "text/plain": [
       "val sum_of_first_n_tailrec : int -> int -> int = <fun>\n"
      ]
     },
     "execution_count": 21,
     "metadata": {},
     "output_type": "execute_result"
    },
    {
     "data": {
      "text/plain": [
       "val sum_of_first_n_tailrec : int -> int = <fun>\n"
      ]
     },
     "execution_count": 21,
     "metadata": {},
     "output_type": "execute_result"
    }
   ],
   "source": [
    "let rec sum_of_first_n_tailrec acc n = \n",
    "  if n <= 0 then acc\n",
    "  else sum_of_first_n_tailrec (n + acc) (n-1)\n",
    "  \n",
    "let sum_of_first_n_tailrec n = sum_of_first_n_tailrec 0 n"
   ]
  },
  {
   "cell_type": "code",
   "execution_count": 22,
   "metadata": {},
   "outputs": [
    {
     "data": {
      "text/plain": [
       "- : int = 500000000500000000\n"
      ]
     },
     "execution_count": 22,
     "metadata": {},
     "output_type": "execute_result"
    }
   ],
   "source": [
    "sum_of_first_n_tailrec 1000000000"
   ]
  },
  {
   "cell_type": "markdown",
   "metadata": {
    "slideshow": {
     "slide_type": "slide"
    }
   },
   "source": [
    "## Tail recursion\n",
    "\n",
    "```ocaml\n",
    "let rec sum_of_first_n_tailrec n acc = \n",
    "  if n <= 0 then acc\n",
    "  else sum_of_first_n_tailrec (n-1) (n + acc)\n",
    "```\n",
    "\n",
    "* No work left to do when the recursive call returns except return result to caller.\n",
    "* OCaml compiler does **tail call optimisation** that pops current call frame before invoking recursive call. \n",
    "  + No stack buildup => equivalent to writing a tight loop. "
   ]
  },
  {
   "cell_type": "markdown",
   "metadata": {
    "slideshow": {
     "slide_type": "slide"
    }
   },
   "source": [
    "<div style=\"text-align:center\">\n",
    "    <h1> Fin. </h1>\n",
    "</div>"
   ]
  }
 ],
 "metadata": {
  "celltoolbar": "Slideshow",
  "kernelspec": {
   "display_name": "OCaml 4.07.1",
   "language": "OCaml",
   "name": "ocaml-jupyter"
  },
  "language_info": {
   "codemirror_mode": "text/x-ocaml",
   "file_extension": ".ml",
   "mimetype": "text/x-ocaml",
   "name": "OCaml",
   "nbconverter_exporter": null,
   "pygments_lexer": "OCaml",
   "version": "4.07.1"
  }
 },
 "nbformat": 4,
 "nbformat_minor": 2
}
