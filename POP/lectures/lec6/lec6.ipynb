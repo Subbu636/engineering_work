{
 "cells": [
  {
   "cell_type": "markdown",
   "metadata": {
    "slideshow": {
     "slide_type": "slide"
    }
   },
   "source": [
    "<center>\n",
    "\n",
    "<h1 style=\"text-align:center\"> Pattern Matching </h1>\n",
    "<h2 style=\"text-align:center\"> CS3100 Fall 2019 </h2>\n",
    "</center>"
   ]
  },
  {
   "cell_type": "markdown",
   "metadata": {
    "slideshow": {
     "slide_type": "slide"
    }
   },
   "source": [
    "## Review\n",
    "\n",
    "\n",
    "Previously:\n",
    "\n",
    "* Tuples, Records, Variants\n",
    "* Polymorphism\n",
    "* Lists, Option\n",
    "\n",
    "This lecture:\n",
    "\n",
    "* Pattern Matching"
   ]
  },
  {
   "cell_type": "markdown",
   "metadata": {
    "slideshow": {
     "slide_type": "slide"
    }
   },
   "source": [
    "## Pattern Matching\n",
    "\n",
    "* Pattern matching is data deconstruction\n",
    "  + Match on the *shape* of data\n",
    "  + Extract part(s) of data\n",
    "  \n",
    "### Syntax\n",
    "\n",
    "```ocaml\n",
    "match e with\n",
    "| p1 -> e1\n",
    "| p2 -> e2\n",
    "...\n",
    "| pn -> en\n",
    "```\n",
    "\n",
    "* p1 ... pn are patterns."
   ]
  },
  {
   "cell_type": "markdown",
   "metadata": {
    "slideshow": {
     "slide_type": "slide"
    }
   },
   "source": [
    "## Pattern Matching on Lists\n",
    "\n",
    "```\n",
    "type 'a list = [] | :: of 'a * 'a list\n",
    "```\n",
    "\n",
    "* For lists, the patterns allowed follow from the constructors\n",
    "  + The pattern `[]` matches the value `[]`.\n",
    "  + The patterh `h::t`\n",
    "    - matches `2::[]`, binding `h` to `2` and `t` to `[]`.\n",
    "    - matches `2::3::[]`, binding `h` to `2` and `t` to `3::[]`.\n",
    "  + The pattern `_` is a **wildcard pattern** and matches anything. "
   ]
  },
  {
   "cell_type": "code",
   "execution_count": 33,
   "metadata": {
    "slideshow": {
     "slide_type": "slide"
    }
   },
   "outputs": [
    {
     "data": {
      "text/plain": [
       "val list_status : int list -> unit = <fun>\n"
      ]
     },
     "execution_count": 33,
     "metadata": {},
     "output_type": "execute_result"
    }
   ],
   "source": [
    "let list_status l =\n",
    "  match l with\n",
    "  | [] -> print_endline \"The list is empty\"\n",
    "  | h::t -> Printf.printf \"The list is non-empty. Head = %d\\n%!\" h"
   ]
  },
  {
   "cell_type": "code",
   "execution_count": 34,
   "metadata": {
    "slideshow": {
     "slide_type": "fragment"
    }
   },
   "outputs": [
    {
     "name": "stdout",
     "output_type": "stream",
     "text": [
      "The list is empty\n"
     ]
    },
    {
     "data": {
      "text/plain": [
       "- : unit = ()\n"
      ]
     },
     "execution_count": 34,
     "metadata": {},
     "output_type": "execute_result"
    }
   ],
   "source": [
    "list_status []"
   ]
  },
  {
   "cell_type": "code",
   "execution_count": 35,
   "metadata": {
    "slideshow": {
     "slide_type": "fragment"
    }
   },
   "outputs": [
    {
     "name": "stdout",
     "output_type": "stream",
     "text": [
      "The list is non-empty. Head = 1\n"
     ]
    },
    {
     "data": {
      "text/plain": [
       "- : unit = ()\n"
      ]
     },
     "execution_count": 35,
     "metadata": {},
     "output_type": "execute_result"
    }
   ],
   "source": [
    "list_status [1;2;3]"
   ]
  },
  {
   "cell_type": "code",
   "execution_count": 36,
   "metadata": {
    "slideshow": {
     "slide_type": "fragment"
    }
   },
   "outputs": [
    {
     "name": "stdout",
     "output_type": "stream",
     "text": [
      "The list is non-empty. Head = 2\n"
     ]
    },
    {
     "data": {
      "text/plain": [
       "- : unit = ()\n"
      ]
     },
     "execution_count": 36,
     "metadata": {},
     "output_type": "execute_result"
    }
   ],
   "source": [
    "list_status (2::[3;4])"
   ]
  },
  {
   "cell_type": "markdown",
   "metadata": {
    "slideshow": {
     "slide_type": "slide"
    }
   },
   "source": [
    "## Why pattern matching is THE GREATEST\n",
    "\n",
    "1. You cannot forget to match a case (Exhaustivity warning)"
   ]
  },
  {
   "cell_type": "code",
   "execution_count": 37,
   "metadata": {
    "slideshow": {
     "slide_type": "fragment"
    }
   },
   "outputs": [
    {
     "name": "stderr",
     "output_type": "stream",
     "text": [
      "File \"[37]\", line 2, characters 2-139:\n",
      "Warning 8: this pattern-matching is not exhaustive.\n",
      "Here is an example of a case that is not matched:\n",
      "_::[]\n"
     ]
    },
    {
     "data": {
      "text/plain": [
       "val list_status : int list -> unit = <fun>\n"
      ]
     },
     "execution_count": 37,
     "metadata": {},
     "output_type": "execute_result"
    }
   ],
   "source": [
    "let list_status l = \n",
    "  match l with \n",
    "  | [] -> print_endline \"The list is empty\"\n",
    "  | h1::h2::t -> Printf.printf \"The list is non-empty. 2nd element = %d\\n%!\" h2"
   ]
  },
  {
   "cell_type": "markdown",
   "metadata": {
    "slideshow": {
     "slide_type": "slide"
    }
   },
   "source": [
    "## Why pattern matching is THE GREATEST\n",
    "\n",
    "1. You cannot forget to match a case (Exhaustivity warning)\n",
    "2. You cannot duplicate a case (Unused case warning)"
   ]
  },
  {
   "cell_type": "code",
   "execution_count": 1,
   "metadata": {
    "slideshow": {
     "slide_type": "fragment"
    }
   },
   "outputs": [
    {
     "name": "stderr",
     "output_type": "stream",
     "text": [
      "File \"[1]\", line 5, characters 4-13:\n",
      "Warning 11: this match case is unused.\n"
     ]
    },
    {
     "data": {
      "text/plain": [
       "val list_status : int list -> unit = <fun>\n"
      ]
     },
     "execution_count": 1,
     "metadata": {},
     "output_type": "execute_result"
    }
   ],
   "source": [
    "let list_status l = \n",
    "  match l with \n",
    "  | [] -> print_endline \"The list is empty\"\n",
    "  | h::t -> Printf.printf \"The list is non-empty. Head = %d\\n%!\" h\n",
    "  | h1::h2::t -> Printf.printf \"The list is non-empty. 2nd element = %d %d\\n%!\" h1 h2"
   ]
  },
  {
   "cell_type": "markdown",
   "metadata": {
    "slideshow": {
     "slide_type": "slide"
    }
   },
   "source": [
    "## Why pattern matching is THE GREATEST\n",
    "\n",
    "1. You cannot forget to match a case (Exhaustivity warning)\n",
    "2. You cannot duplicate a case (Unused case warning)\n",
    "\n",
    "<h2> Pattern matching leads to elegant, concise, beautiful code <h2>"
   ]
  },
  {
   "cell_type": "markdown",
   "metadata": {
    "slideshow": {
     "slide_type": "slide"
    }
   },
   "source": [
    "## Length of list"
   ]
  },
  {
   "cell_type": "code",
   "execution_count": 39,
   "metadata": {},
   "outputs": [
    {
     "data": {
      "text/plain": [
       "val length : 'a list -> int = <fun>\n"
      ]
     },
     "execution_count": 39,
     "metadata": {},
     "output_type": "execute_result"
    }
   ],
   "source": [
    "let rec length l =\n",
    "  match l with\n",
    "  | [] -> 0\n",
    "  | h::t -> 1 + length t"
   ]
  },
  {
   "cell_type": "markdown",
   "metadata": {
    "slideshow": {
     "slide_type": "fragment"
    }
   },
   "source": [
    "What is wrong with this code?"
   ]
  },
  {
   "cell_type": "markdown",
   "metadata": {
    "slideshow": {
     "slide_type": "slide"
    }
   },
   "source": [
    "## Length of list (tail recursive)"
   ]
  },
  {
   "cell_type": "code",
   "execution_count": 40,
   "metadata": {
    "slideshow": {
     "slide_type": "-"
    }
   },
   "outputs": [
    {
     "data": {
      "text/plain": [
       "val length' : 'a list -> int -> int = <fun>\n"
      ]
     },
     "execution_count": 40,
     "metadata": {},
     "output_type": "execute_result"
    },
    {
     "data": {
      "text/plain": [
       "val length : 'a list -> int = <fun>\n"
      ]
     },
     "execution_count": 40,
     "metadata": {},
     "output_type": "execute_result"
    }
   ],
   "source": [
    "let rec length' l acc =\n",
    "  match l with\n",
    "  | [] -> acc\n",
    "  | h::t -> length' t (1+acc)\n",
    "  \n",
    "let length l = length' l 0"
   ]
  },
  {
   "cell_type": "code",
   "execution_count": 41,
   "metadata": {},
   "outputs": [
    {
     "data": {
      "text/plain": [
       "- : int = 4\n"
      ]
     },
     "execution_count": 41,
     "metadata": {},
     "output_type": "execute_result"
    }
   ],
   "source": [
    "length [1;2;3;4]"
   ]
  },
  {
   "cell_type": "markdown",
   "metadata": {
    "slideshow": {
     "slide_type": "slide"
    }
   },
   "source": [
    "## Match ordering\n",
    "\n",
    "The patterns are matched in the order that they are written down."
   ]
  },
  {
   "cell_type": "code",
   "execution_count": 42,
   "metadata": {},
   "outputs": [
    {
     "name": "stderr",
     "output_type": "stream",
     "text": [
      "File \"[42]\", line 4, characters 4-6:\n",
      "Warning 11: this match case is unused.\n"
     ]
    },
    {
     "data": {
      "text/plain": [
       "val is_empty : 'a list -> bool = <fun>\n"
      ]
     },
     "execution_count": 42,
     "metadata": {},
     "output_type": "execute_result"
    }
   ],
   "source": [
    "let is_empty l =\n",
    "  match l with\n",
    "  | _ -> false\n",
    "  | [] -> true\n"
   ]
  },
  {
   "cell_type": "markdown",
   "metadata": {
    "slideshow": {
     "slide_type": "slide"
    }
   },
   "source": [
    "## nth \n",
    "\n",
    "Implement indexing into the list"
   ]
  },
  {
   "cell_type": "code",
   "execution_count": 43,
   "metadata": {},
   "outputs": [
    {
     "data": {
      "text/plain": [
       "val nth : 'a list -> int -> 'a option = <fun>\n"
      ]
     },
     "execution_count": 43,
     "metadata": {},
     "output_type": "execute_result"
    }
   ],
   "source": [
    "let rec nth l n = \n",
    "  match (l, n) with\n",
    "  | (hd::_, 0) -> Some hd\n",
    "  | (hd::tl, n) -> nth tl (n-1)\n",
    "  | _ -> None"
   ]
  },
  {
   "cell_type": "code",
   "execution_count": 44,
   "metadata": {},
   "outputs": [
    {
     "data": {
      "text/plain": [
       "- : int option = None\n"
      ]
     },
     "execution_count": 44,
     "metadata": {},
     "output_type": "execute_result"
    }
   ],
   "source": [
    "nth [1;2;3] 4"
   ]
  },
  {
   "cell_type": "markdown",
   "metadata": {
    "slideshow": {
     "slide_type": "slide"
    }
   },
   "source": [
    "## reverse\n",
    "\n",
    "Implement the reverse of a list."
   ]
  },
  {
   "cell_type": "code",
   "execution_count": 45,
   "metadata": {
    "scrolled": true
   },
   "outputs": [
    {
     "data": {
      "text/plain": [
       "val rev_list : 'a list -> 'a list -> 'a list = <fun>\n"
      ]
     },
     "execution_count": 45,
     "metadata": {},
     "output_type": "execute_result"
    },
    {
     "data": {
      "text/plain": [
       "val rev_list : 'a list -> 'a list = <fun>\n"
      ]
     },
     "execution_count": 45,
     "metadata": {},
     "output_type": "execute_result"
    }
   ],
   "source": [
    "let rec rev_list l acc = \n",
    "  match l with\n",
    "  | [] -> acc\n",
    "  | hd::tl -> rev_list tl (hd::acc)\n",
    "\n",
    "let rev_list l = rev_list l []"
   ]
  },
  {
   "cell_type": "code",
   "execution_count": 46,
   "metadata": {},
   "outputs": [
    {
     "data": {
      "text/plain": [
       "- : unit = ()\n"
      ]
     },
     "execution_count": 46,
     "metadata": {},
     "output_type": "execute_result"
    }
   ],
   "source": [
    "assert (rev_list [1;2;3] = [3;2;1])"
   ]
  },
  {
   "cell_type": "markdown",
   "metadata": {
    "slideshow": {
     "slide_type": "slide"
    }
   },
   "source": [
    "## append\n",
    "\n",
    "Implement the append of two lists."
   ]
  },
  {
   "cell_type": "code",
   "execution_count": 47,
   "metadata": {},
   "outputs": [
    {
     "data": {
      "text/plain": [
       "- : int list = [1; 2; 3; 4]\n"
      ]
     },
     "execution_count": 47,
     "metadata": {},
     "output_type": "execute_result"
    }
   ],
   "source": [
    "[1;2;3] @ [4]"
   ]
  },
  {
   "cell_type": "code",
   "execution_count": 48,
   "metadata": {},
   "outputs": [
    {
     "data": {
      "text/plain": [
       "val append : 'a list -> 'a list -> 'a list = <fun>\n"
      ]
     },
     "execution_count": 48,
     "metadata": {},
     "output_type": "execute_result"
    }
   ],
   "source": [
    "let rec append l1 l2 = \n",
    "  match l1 with\n",
    "  | [] -> l2\n",
    "  | hd::tl -> hd::(append tl l2)"
   ]
  },
  {
   "cell_type": "code",
   "execution_count": 49,
   "metadata": {},
   "outputs": [
    {
     "data": {
      "text/plain": [
       "- : unit = ()\n"
      ]
     },
     "execution_count": 49,
     "metadata": {},
     "output_type": "execute_result"
    }
   ],
   "source": [
    "assert (append [1;2;3] [4;5;6] = [1;2;3;4;5;6])"
   ]
  },
  {
   "cell_type": "markdown",
   "metadata": {
    "slideshow": {
     "slide_type": "slide"
    }
   },
   "source": [
    "## Nested Matching\n",
    "\n"
   ]
  },
  {
   "cell_type": "code",
   "execution_count": 50,
   "metadata": {},
   "outputs": [
    {
     "data": {
      "text/plain": [
       "type color = Red | Green | Blue\n"
      ]
     },
     "execution_count": 50,
     "metadata": {},
     "output_type": "execute_result"
    },
    {
     "data": {
      "text/plain": [
       "type point = { x : int; y : int; }\n"
      ]
     },
     "execution_count": 50,
     "metadata": {},
     "output_type": "execute_result"
    },
    {
     "data": {
      "text/plain": [
       "type shape =\n",
       "    Circle of point * float\n",
       "  | Rect of point * point\n",
       "  | ColorPoint of point * color\n"
      ]
     },
     "execution_count": 50,
     "metadata": {},
     "output_type": "execute_result"
    }
   ],
   "source": [
    "type color = Red | Green | Blue\n",
    "\n",
    "type point = {x : int; y : int}\n",
    "\n",
    "type shape = \n",
    "  | Circle of point * float (* center, radius *)\n",
    "  | Rect of point * point   (* lower-left, upper-right *)\n",
    "  | ColorPoint of point * color"
   ]
  },
  {
   "cell_type": "markdown",
   "metadata": {
    "slideshow": {
     "slide_type": "slide"
    }
   },
   "source": [
    "## Nested Matching\n",
    "\n",
    "Is the first shape in a list of shapes a red point?"
   ]
  },
  {
   "cell_type": "code",
   "execution_count": 51,
   "metadata": {},
   "outputs": [
    {
     "data": {
      "text/plain": [
       "val is_hd_red_circle : shape list -> bool = <fun>\n"
      ]
     },
     "execution_count": 51,
     "metadata": {},
     "output_type": "execute_result"
    }
   ],
   "source": [
    "let is_hd_red_circle l = \n",
    "  match l with\n",
    "  | ColorPoint(_,Red)::_ -> true\n",
    "  | _ -> false"
   ]
  },
  {
   "cell_type": "markdown",
   "metadata": {
    "slideshow": {
     "slide_type": "slide"
    }
   },
   "source": [
    "## Nested Matching\n",
    "\n",
    "Print the coordinates if the point is green."
   ]
  },
  {
   "cell_type": "code",
   "execution_count": 52,
   "metadata": {},
   "outputs": [
    {
     "data": {
      "text/plain": [
       "val print_green_point : shape list -> unit = <fun>\n"
      ]
     },
     "execution_count": 52,
     "metadata": {},
     "output_type": "execute_result"
    }
   ],
   "source": [
    "let rec print_green_point l =\n",
    "  match l with\n",
    "  | [] -> ()\n",
    "  | ColorPoint({x;y}, Green)::tl -> \n",
    "      Printf.printf \"x = %d y = %d\\n%!\" x y;\n",
    "      print_green_point tl\n",
    "  | _::tl -> print_green_point tl"
   ]
  },
  {
   "cell_type": "code",
   "execution_count": 53,
   "metadata": {},
   "outputs": [
    {
     "name": "stdout",
     "output_type": "stream",
     "text": [
      "x = 0 y = 0\n",
      "x = 4 y = 6\n"
     ]
    },
    {
     "data": {
      "text/plain": [
       "- : unit = ()\n"
      ]
     },
     "execution_count": 53,
     "metadata": {},
     "output_type": "execute_result"
    }
   ],
   "source": [
    "print_green_point [Rect ({x=1;y=1},{x=2;y=2});\n",
    "                   ColorPoint ({x=0;y=0}, Green);\n",
    "                   Circle ({x=1;y=3}, 5.4);\n",
    "                   ColorPoint ({x=4;y=6}, Green)]"
   ]
  },
  {
   "cell_type": "markdown",
   "metadata": {
    "slideshow": {
     "slide_type": "slide"
    }
   },
   "source": [
    "## When do you use \";\"\n",
    "\n",
    "When you evaluate an expression just the effect, you can sequence the expression with a semi-colon."
   ]
  },
  {
   "cell_type": "markdown",
   "metadata": {
    "slideshow": {
     "slide_type": "fragment"
    }
   },
   "source": [
    "```ocaml\n",
    "let () = print_endline \"Hello, world!\" in\n",
    "e\n",
    "```\n",
    "\n",
    "is equivalent to:\n",
    "\n",
    "```ocaml\n",
    "print_endline \"Hello, world!\";\n",
    "e\n",
    "```\n",
    "\n",
    "Latter is considered better style."
   ]
  },
  {
   "cell_type": "markdown",
   "metadata": {
    "slideshow": {
     "slide_type": "slide"
    }
   },
   "source": [
    "## Exceptions\n",
    "\n",
    "* OCaml has support for exceptions. \n",
    "  + Similar to the ones found in C++ & Java.\n",
    "* Exceptions are (mostly) just variants.\n",
    "\n",
    "```ocaml\n",
    "type exn\n",
    "exception MyException of string\n",
    "```\n",
    "\n",
    "* The type `exn` is an **extensible variant**.\n",
    "  + New constructors of this type can be added after its original declaration.\n",
    "* Exceptions are raised with `raise e` where `e` is of type `exn`.\n",
    "* Handling exceptions is similar to pattern matching."
   ]
  },
  {
   "cell_type": "markdown",
   "metadata": {
    "slideshow": {
     "slide_type": "slide"
    }
   },
   "source": [
    "## Find the green point\n",
    "\n",
    "Given a list of shapes return a point whose colour is green. Otherwise, raise `NoGreenPoint` exception."
   ]
  },
  {
   "cell_type": "code",
   "execution_count": 54,
   "metadata": {
    "slideshow": {
     "slide_type": "fragment"
    }
   },
   "outputs": [
    {
     "data": {
      "text/plain": [
       "exception NoGreenPoint\n"
      ]
     },
     "execution_count": 54,
     "metadata": {},
     "output_type": "execute_result"
    },
    {
     "data": {
      "text/plain": [
       "val find_green_point : shape list -> shape = <fun>\n"
      ]
     },
     "execution_count": 54,
     "metadata": {},
     "output_type": "execute_result"
    }
   ],
   "source": [
    "exception NoGreenPoint\n",
    "\n",
    "let rec find_green_point l = \n",
    "  match l with\n",
    "  | [] -> raise NoGreenPoint\n",
    "  | h::tl ->\n",
    "    match h with\n",
    "    | ColorPoint (_, Green) -> h\n",
    "    | _ -> find_green_point tl"
   ]
  },
  {
   "cell_type": "markdown",
   "metadata": {
    "slideshow": {
     "slide_type": "slide"
    }
   },
   "source": [
    "## Find the green point"
   ]
  },
  {
   "cell_type": "code",
   "execution_count": 55,
   "metadata": {},
   "outputs": [
    {
     "ename": "error",
     "evalue": "runtime_error",
     "output_type": "error",
     "traceback": [
      "\u001b[31mException: NoGreenPoint.\nRaised at file \"[54]\", line 5, characters 16-28\nCalled from file \"toplevel/toploop.ml\", line 180, characters 17-56\n\u001b[0m"
     ]
    }
   ],
   "source": [
    "find_green_point []"
   ]
  },
  {
   "cell_type": "code",
   "execution_count": 56,
   "metadata": {},
   "outputs": [
    {
     "data": {
      "text/plain": [
       "- : shape = ColorPoint ({x = 0; y = 0}, Green)\n"
      ]
     },
     "execution_count": 56,
     "metadata": {},
     "output_type": "execute_result"
    }
   ],
   "source": [
    "find_green_point [Rect ({x=1;y=1},{x=2;y=2}); ColorPoint ({x=0;y=0}, Green)]"
   ]
  },
  {
   "cell_type": "markdown",
   "metadata": {
    "slideshow": {
     "slide_type": "slide"
    }
   },
   "source": [
    "## Handling the exception\n",
    "\n",
    "Given a list of shapes return `Some p` where `p` is a green point. Otherwise, return `None`."
   ]
  },
  {
   "cell_type": "code",
   "execution_count": 57,
   "metadata": {
    "slideshow": {
     "slide_type": "fragment"
    }
   },
   "outputs": [
    {
     "data": {
      "text/plain": [
       "val find_green_point_opt : shape list -> shape option = <fun>\n"
      ]
     },
     "execution_count": 57,
     "metadata": {},
     "output_type": "execute_result"
    }
   ],
   "source": [
    "let find_green_point_opt l =\n",
    "  try Some (find_green_point l) with\n",
    "  | NoGreenPoint -> None"
   ]
  },
  {
   "cell_type": "code",
   "execution_count": 58,
   "metadata": {},
   "outputs": [
    {
     "data": {
      "text/plain": [
       "- : shape option = None\n"
      ]
     },
     "execution_count": 58,
     "metadata": {},
     "output_type": "execute_result"
    }
   ],
   "source": [
    "find_green_point_opt []"
   ]
  },
  {
   "cell_type": "code",
   "execution_count": 59,
   "metadata": {},
   "outputs": [
    {
     "data": {
      "text/plain": [
       "- : shape option = Some (ColorPoint ({x = 0; y = 0}, Green))\n"
      ]
     },
     "execution_count": 59,
     "metadata": {},
     "output_type": "execute_result"
    }
   ],
   "source": [
    "find_green_point_opt [Rect ({x=1;y=1},{x=2;y=2}); ColorPoint ({x=0;y=0}, Green)]"
   ]
  },
  {
   "cell_type": "markdown",
   "metadata": {
    "slideshow": {
     "slide_type": "slide"
    }
   },
   "source": [
    "## Exceptions: Recommendations\n",
    "\n",
    "* Avoid exceptions in your code.\n",
    "  + Unhandled exceptions are runtime errors; aim to avoid this.\n",
    "* No exhaustiveness check for exceptions (why?).\n",
    "* Whenever you might need to use exceptions, think whether you can replace that with\n",
    "\n",
    "```ocaml\n",
    "type 'a option = None | Some of 'a\n",
    "```\n",
    "\n",
    "or \n",
    "\n",
    "```ocaml\n",
    "type ('a,'b) result = Ok of 'a | Error of 'b\n",
    "```"
   ]
  },
  {
   "cell_type": "markdown",
   "metadata": {
    "slideshow": {
     "slide_type": "slide"
    }
   },
   "source": [
    "## Exercise \n",
    "\n",
    "`List.hd : 'a list -> 'a` and `List.tl: 'a list -> 'a list` are functions from the [list standard library](https://caml.inria.fr/pub/docs/manual-ocaml/libref/List.html). They raise exception when the given list is empty. Implement safe versions of the functions whose signatures are:"
   ]
  },
  {
   "cell_type": "code",
   "execution_count": 60,
   "metadata": {},
   "outputs": [
    {
     "data": {
      "text/plain": [
       "val safe_hd : 'a list -> 'a option = <fun>\n"
      ]
     },
     "execution_count": 60,
     "metadata": {},
     "output_type": "execute_result"
    },
    {
     "data": {
      "text/plain": [
       "val safe_tl : 'a list -> 'a list option = <fun>\n"
      ]
     },
     "execution_count": 60,
     "metadata": {},
     "output_type": "execute_result"
    }
   ],
   "source": [
    "let safe_hd (l : 'a list) : 'a option = failwith \"not implemented\"\n",
    "let safe_tl (l : 'a list) : 'a list option = failwith \"not implemented\""
   ]
  },
  {
   "cell_type": "markdown",
   "metadata": {
    "slideshow": {
     "slide_type": "slide"
    }
   },
   "source": [
    "<center>\n",
    "\n",
    "<h1 style=\"text-align:center\"> Fin. </h1>\n",
    "</center>"
   ]
  }
 ],
 "metadata": {
  "celltoolbar": "Slideshow",
  "kernelspec": {
   "display_name": "OCaml 4.07.1",
   "language": "OCaml",
   "name": "ocaml-jupyter"
  },
  "language_info": {
   "codemirror_mode": "text/x-ocaml",
   "file_extension": ".ml",
   "mimetype": "text/x-ocaml",
   "name": "OCaml",
   "nbconverter_exporter": null,
   "pygments_lexer": "OCaml",
   "version": "4.07.1"
  }
 },
 "nbformat": 4,
 "nbformat_minor": 2
}
