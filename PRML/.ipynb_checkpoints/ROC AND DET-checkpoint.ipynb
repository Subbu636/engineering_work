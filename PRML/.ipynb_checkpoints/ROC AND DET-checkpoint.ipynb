{
 "cells": [
  {
   "cell_type": "code",
   "execution_count": 7,
   "metadata": {},
   "outputs": [],
   "source": [
    "import pandas as pd\n",
    "import matplotlib.pyplot as plt\n",
    "from matplotlib import pyplot as plt\n",
    "from scipy.stats import multivariate_normal\n",
    "from math import sqrt\n",
    "import math\n",
    "import numpy as np\n",
    "import numpy.linalg as linalg\n",
    "from random import sample\n",
    "import csv\n",
    "import copy\n",
    "import os\n",
    "import glob"
   ]
  },
  {
   "cell_type": "code",
   "execution_count": 8,
   "metadata": {},
   "outputs": [],
   "source": [
    "def ROC (P,T):\n",
    "    inc = 0.01\n",
    "    n = np.size(P,0)\n",
    "    m = np.size(P,1)\n",
    "    TPR = np.zeros(100) # change accordingly with inc\n",
    "    FPR = np.zeros(100)\n",
    "    i = 0\n",
    "    print(n)\n",
    "    for tet in np.arange(0.0, 1.0, inc):\n",
    "        tet = 1.0 - tet\n",
    "        TP = 0\n",
    "        FP = 0\n",
    "        TN = 0\n",
    "        FN = 0\n",
    "        for cls in range(m):\n",
    "            #print(cls)\n",
    "            for data in range(n):\n",
    "                if ((T[data] == cls) and (P[data][cls] >= tet)):\n",
    "                    TP = TP + 1\n",
    "                if ((T[data] == cls) and (P[data][cls] <= tet)):\n",
    "                    FN = FN + 1\n",
    "                if ((T[data] != cls) and (P[data][cls] >= tet)):\n",
    "                    FP = FP + 1\n",
    "                if ((T[data] != cls) and (P[data][cls] <= tet)):\n",
    "                    TN = TN + 1\n",
    "        TPR[i] = TP/(TP + FN)\n",
    "        FPR[i] = FP/(FP + TN)     \n",
    "        i = i + 1\n",
    "    plt.plot(FPR,TPR)\n",
    "    plt.xlabel('FPR')\n",
    "    plt.ylabel('TPR')\n",
    "    plt.show()"
   ]
  },
  {
   "cell_type": "code",
   "execution_count": 9,
   "metadata": {},
   "outputs": [
    {
     "name": "stdout",
     "output_type": "stream",
     "text": [
      "4\n"
     ]
    },
    {
     "data": {
      "image/png": "[encoded data removed]",
      "text/plain": [
       "<Figure size 432x288 with 1 Axes>"
      ]
     },
     "metadata": {
      "needs_background": "light"
     },
     "output_type": "display_data"
    }
   ],
   "source": [
    "P = [[0.6,0.4],[0.2,0.8],[0.3,0.7],[0.9,0.1]]\n",
    "#print(np.size(P,1))\n",
    "T = [0,1,1,0]\n",
    "ROC(P,T)"
   ]
  },
  {
   "cell_type": "code",
   "execution_count": 17,
   "metadata": {},
   "outputs": [],
   "source": [
    "def detection_error_tradeoff(fps,fns):\n",
    "    \"\"\"\n",
    "    Given false positive and false negative rates, produce a DET Curve.\n",
    "    The false positive rate is assumed to be increasing while the false\n",
    "    negative rate is assumed to be decreasing.\n",
    "    \"\"\"\n",
    "    axis_min = min(fps[0],fns[-1])\n",
    "    fig,ax = plt.subplots()\n",
    "    plt.plot(fps,fns)\n",
    "    plt.yscale('log')\n",
    "    plt.xscale('log')\n",
    "    ticks_to_use = [0.001,0.002,0.005,0.01,0.02,0.05,0.1,0.2,0.5,1,2,5,10,20,50]\n",
    "    ax.get_xaxis().set_major_formatter(plt.matplotlib.ticker.ScalarFormatter())\n",
    "    ax.get_yaxis().set_major_formatter(plt.matplotlib.ticker.ScalarFormatter())\n",
    "    ax.set_xticks(ticks_to_use)\n",
    "    ax.set_yticks(ticks_to_use)\n",
    "    plt.axis([0.001,50,0.001,50])"
   ]
  },
  {
   "cell_type": "code",
   "execution_count": 11,
   "metadata": {},
   "outputs": [],
   "source": [
    "def DET (P,T):\n",
    "    inc = 0.01\n",
    "    n = np.size(P,0)\n",
    "    m = np.size(P,1)\n",
    "    FNR = np.zeros(100) # change accordingly with inc\n",
    "    FPR = np.zeros(100)\n",
    "    i = 0\n",
    "    print(n)\n",
    "    for tet in np.arange(0.0, 1.0, inc):\n",
    "        tet = 1.0 - tet\n",
    "        TP = 0\n",
    "        FP = 0\n",
    "        TN = 0\n",
    "        FN = 0\n",
    "        for cls in range(m):\n",
    "            for data in range(n):\n",
    "                if ((T[data] == cls) and (P[data][cls] >= tet)):\n",
    "                    TP = TP + 1\n",
    "                if ((T[data] == cls) and (P[data][cls] <= tet)):\n",
    "                    FN = FN + 1\n",
    "                if ((T[data] != cls) and (P[data][cls] >= tet)):\n",
    "                    FP = FP + 1\n",
    "                if ((T[data] != cls) and (P[data][cls] <= tet)):\n",
    "                    TN = TN + 1\n",
    "        FNR[i] = FN/(TP + FN)\n",
    "        FPR[i] = FP/(FP + TN)     \n",
    "        i = i + 1\n",
    "    detection_error_tradeoff(FPR,FNR)"
   ]
  },
  {
   "cell_type": "code",
   "execution_count": 21,
   "metadata": {},
   "outputs": [
    {
     "name": "stdout",
     "output_type": "stream",
     "text": [
      "4\n"
     ]
    },
    {
     "data": {
      "image/png": "[encoded data removed]",
      "text/plain": [
       "<Figure size 432x288 with 1 Axes>"
      ]
     },
     "metadata": {
      "needs_background": "light"
     },
     "output_type": "display_data"
    }
   ],
   "source": [
    "P = [[0.6,0.4],[0.2,0.8],[0.3,0.7],[0.9,0.1]]\n",
    "#print(np.size(P,1))\n",
    "T = [1,1,1,0]\n",
    "DET(P,T)"
   ]
  },
  {
   "cell_type": "code",
   "execution_count": null,
   "metadata": {},
   "outputs": [],
   "source": []
  }
 ],
 "metadata": {
  "kernelspec": {
   "display_name": "Python 3",
   "language": "python",
   "name": "python3"
  },
  "language_info": {
   "codemirror_mode": {
    "name": "ipython",
    "version": 3
   },
   "file_extension": ".py",
   "mimetype": "text/x-python",
   "name": "python",
   "nbconvert_exporter": "python",
   "pygments_lexer": "ipython3",
   "version": "3.7.3"
  }
 },
 "nbformat": 4,
 "nbformat_minor": 2
}
