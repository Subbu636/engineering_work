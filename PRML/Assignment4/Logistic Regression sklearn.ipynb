{
 "cells": [
  {
   "cell_type": "code",
   "execution_count": 1,
   "metadata": {},
   "outputs": [],
   "source": [
    "import numpy as np\n",
    "import pandas as pd\n",
    "import matplotlib.pyplot as plt\n",
    "from sklearn.linear_model import LogisticRegression\n",
    "from scipy.stats import norm"
   ]
  },
  {
   "cell_type": "code",
   "execution_count": 2,
   "metadata": {},
   "outputs": [],
   "source": [
    "def ROCmodf (P,T,num):\n",
    "    mini = np.amin(P)\n",
    "    maxi = np.amax(P)\n",
    "    inc = (maxi-mini)/num\n",
    "    n = np.size(P,0)\n",
    "    m = np.size(P,1)\n",
    "    TPR = np.zeros(num+2) # change accordingly with inc\n",
    "    FPR = np.zeros(num+2)\n",
    "    i = 0\n",
    "    #print(n)\n",
    "    for tet in np.arange(mini,maxi+inc,inc):\n",
    "        TP = 0\n",
    "        FP = 0\n",
    "        TN = 0\n",
    "        FN = 0\n",
    "        for cls in range(m):\n",
    "            #print(cls)\n",
    "            for data in range(n):\n",
    "                if ((T[data] == cls) and (P[data][cls] >= tet)):\n",
    "                    TP = TP + 1\n",
    "                if ((T[data] == cls) and (P[data][cls] <= tet)):\n",
    "                    FN = FN + 1\n",
    "                if ((T[data] != cls) and (P[data][cls] >= tet)):\n",
    "                    FP = FP + 1\n",
    "                if ((T[data] != cls) and (P[data][cls] <= tet)):\n",
    "                    TN = TN + 1\n",
    "        TPR[i] = TP/(TP + FN)\n",
    "        FPR[i] = FP/(FP + TN)   \n",
    "        i = i + 1\n",
    "    plt.plot(FPR,TPR)\n",
    "    plt.xlabel('FPR')\n",
    "    plt.ylabel('TPR')\n",
    "    plt.show()\n",
    "    \n",
    "def DETmodf (P,T,num):\n",
    "    dnorm = lambda t:(norm.ppf(t))\n",
    "    mini = np.amin(P)\n",
    "    maxi = np.amax(P)\n",
    "    inc = (maxi-mini)/num\n",
    "    n = np.size(P,0)\n",
    "    m = np.size(P,1)\n",
    "    FPR = np.zeros(num+2) # change accordingly with inc\n",
    "    FNR = np.zeros(num+2)\n",
    "    i = 0\n",
    "    #print(inc)\n",
    "    for tet in np.arange(mini,maxi+inc,inc):\n",
    "        TP = 0\n",
    "        FP = 0\n",
    "        TN = 0\n",
    "        FN = 0\n",
    "        for cls in range(m):\n",
    "            for data in range(n):\n",
    "                if ((T[data] == cls) and (P[data][cls] >= tet)):\n",
    "                    TP = TP + 1\n",
    "                if ((T[data] == cls) and (P[data][cls] <= tet)):\n",
    "                    FN = FN + 1\n",
    "                if ((T[data] != cls) and (P[data][cls] >= tet)):\n",
    "                    FP = FP + 1\n",
    "                if ((T[data] != cls) and (P[data][cls] <= tet)):\n",
    "                    TN = TN + 1\n",
    "        FNR[i] = FN/(TP + FN)\n",
    "        FPR[i] = FP/(FP + TN)     \n",
    "        i = i + 1\n",
    "    FPR1 = (np.array([dnorm(xi) for xi in FPR]))\n",
    "    FNR1 = (np.array([dnorm(xi) for xi in FNR]))\n",
    "    #print(FPR1)\n",
    "    #print(FNR1)\n",
    "#     detection_error_tradeoff(FPR1,FNR1)\n",
    "    plt.plot(FPR1,FNR1)\n",
    "    plt.show()\n",
    "    \n",
    "def func2(y_true, y_pred, classes,\n",
    "                          normalize=False,\n",
    "                          title=None,\n",
    "                          cmap=\"cool\"):\n",
    "    \"\"\"\n",
    "    This function prints and plots the confusion matrix.\n",
    "    Normalization can be applied by setting `normalize=True`.\n",
    "    \"\"\"\n",
    "    if not title:\n",
    "        if normalize:\n",
    "            title = 'Normalized confusion matrix'\n",
    "        else:\n",
    "            title = 'Confusion matrix, without normalization'\n",
    "\n",
    "    # Compute confusion matrix\n",
    "    cm = confusion_matrix(y_true, y_pred)\n",
    "    # Only use the labels that appear in the data\n",
    "    classes =[\"1\",\"2\",\"3\",\"4\",\"5\"] \n",
    "    # classes[unique_labels(y_true, y_pred)]\n",
    "    if normalize:\n",
    "        cm = cm.astype('float') / cm.sum(axis=1)[:, np.newaxis]\n",
    "    fig, ax = plt.subplots()\n",
    "    im = ax.imshow(cm, interpolation='nearest', cmap=cmap)\n",
    "    ax.figure.colorbar(im, ax=ax)\n",
    "    # We want to show all ticks...\n",
    "    ax.set(# ... and label them with the respective list entries\n",
    "           xticklabels=classes, yticklabels=classes,\n",
    "           title=title,\n",
    "           ylabel='True label',\n",
    "           xlabel='Predicted label')\n",
    "\n",
    "    # Rotate the tick labels and set their alignment.\n",
    "    plt.setp(ax.get_xticklabels(), rotation=45, ha=\"right\",\n",
    "             rotation_mode=\"anchor\")\n",
    "\n",
    "    # Loop over data dimensions and create text annotations.\n",
    "    fmt = '.2f' if normalize else 'd'\n",
    "    thresh = cm.max() / 1.\n",
    "    for i in range(cm.shape[0]):\n",
    "        for j in range(cm.shape[1]):\n",
    "            ax.text(j, i, format(cm[i, j], fmt), fontsize=18 ,\n",
    "                    ha=\"center\", va=\"center\",\n",
    "                    color=\"white\" if cm[i, j] > thresh else \"black\")\n",
    "    fig.tight_layout()\n",
    "    return ax"
   ]
  },
  {
   "cell_type": "code",
   "execution_count": 3,
   "metadata": {},
   "outputs": [],
   "source": [
    "data = np.loadtxt(\"train.txt\",delimiter=\",\")\n",
    "# data = pd.DataFrame(data)\n",
    "X_train = data[:,[0,1]]\n",
    "Y_train = data[:,2]"
   ]
  },
  {
   "cell_type": "code",
   "execution_count": 4,
   "metadata": {},
   "outputs": [],
   "source": [
    "data2 = np.loadtxt(\"dev.txt\",delimiter=\",\")\n",
    "X_test = data2[:,[0,1]]\n",
    "Y_test = data2[:,2]"
   ]
  },
  {
   "cell_type": "code",
   "execution_count": 5,
   "metadata": {},
   "outputs": [
    {
     "name": "stderr",
     "output_type": "stream",
     "text": [
      "C:\\Users\\Sai Bharadwaj Avvari\\Anaconda3\\lib\\site-packages\\sklearn\\linear_model\\logistic.py:432: FutureWarning: Default solver will be changed to 'lbfgs' in 0.22. Specify a solver to silence this warning.\n",
      "  FutureWarning)\n"
     ]
    },
    {
     "data": {
      "text/plain": [
       "LogisticRegression(C=1.0, class_weight=None, dual=False, fit_intercept=True,\n",
       "                   intercept_scaling=1, l1_ratio=None, max_iter=100,\n",
       "                   multi_class='warn', n_jobs=None, penalty='l2',\n",
       "                   random_state=None, solver='warn', tol=0.0001, verbose=0,\n",
       "                   warm_start=False)"
      ]
     },
     "execution_count": 5,
     "metadata": {},
     "output_type": "execute_result"
    }
   ],
   "source": [
    "LR = LogisticRegression()\n",
    "LR.fit(X_train, Y_train)"
   ]
  },
  {
   "cell_type": "code",
   "execution_count": 6,
   "metadata": {},
   "outputs": [],
   "source": [
    "Y_pred = LR.predict(X_test)"
   ]
  },
  {
   "cell_type": "code",
   "execution_count": 7,
   "metadata": {},
   "outputs": [
    {
     "name": "stdout",
     "output_type": "stream",
     "text": [
      "[[309 191]\n",
      " [187 313]]\n",
      "              precision    recall  f1-score   support\n",
      "\n",
      "         1.0       0.62      0.62      0.62       500\n",
      "         2.0       0.62      0.63      0.62       500\n",
      "\n",
      "    accuracy                           0.62      1000\n",
      "   macro avg       0.62      0.62      0.62      1000\n",
      "weighted avg       0.62      0.62      0.62      1000\n",
      "\n"
     ]
    }
   ],
   "source": [
    "from sklearn.metrics import classification_report, confusion_matrix\n",
    "print(confusion_matrix(Y_test,Y_pred))\n",
    "print(classification_report(Y_test,Y_pred))"
   ]
  },
  {
   "cell_type": "code",
   "execution_count": 8,
   "metadata": {},
   "outputs": [
    {
     "data": {
      "image/png": "[encoded data removed]",
      "text/plain": [
       "<Figure size 432x288 with 1 Axes>"
      ]
     },
     "metadata": {
      "needs_background": "light"
     },
     "output_type": "display_data"
    },
    {
     "data": {
      "image/png": "[encoded data removed]",
      "text/plain": [
       "<Figure size 432x288 with 1 Axes>"
      ]
     },
     "metadata": {
      "needs_background": "light"
     },
     "output_type": "display_data"
    },
    {
     "data": {
      "text/plain": [
       "<matplotlib.axes._subplots.AxesSubplot at 0x1bf4e5e8e48>"
      ]
     },
     "execution_count": 8,
     "metadata": {},
     "output_type": "execute_result"
    },
    {
     "data": {
      "image/png": "[encoded data removed]",
      "text/plain": [
       "<Figure size 432x288 with 2 Axes>"
      ]
     },
     "metadata": {
      "needs_background": "light"
     },
     "output_type": "display_data"
    }
   ],
   "source": [
    "Predicted = LR.predict(X_test)\n",
    "\n",
    "prob = LR.predict_proba(X_test)\n",
    "\n",
    "T=np.full(500,0,dtype='int')\n",
    "T = np.concatenate((T,np.full(500,1,dtype='int')))\\\n",
    "\n",
    "# print(T)\n",
    "\n",
    "#func2(T,Predicted,classes=[\"1\",\"2\",\"3\"],title='Confusion matrix, without x y ')\n",
    "\n",
    "ROCmodf(prob,T,100)\n",
    "\n",
    "DETmodf(prob,T,100)\n",
    "\n",
    "func2(Y_test,Y_pred,classes=[\"1\",\"2\",\"3\"],title=\"Confusion Matrix\")"
   ]
  },
  {
   "cell_type": "code",
   "execution_count": 9,
   "metadata": {},
   "outputs": [],
   "source": [
    "import glob\n",
    "trainfiles = glob.glob('./hand_written/*/train/*.txt',recursive=True)\n",
    "devfiles = glob.glob('./hand_written/*/dev/*.txt',recursive=True)\n",
    "distance = lambda x,y: np.linalg.norm(x-y)"
   ]
  },
  {
   "cell_type": "code",
   "execution_count": 10,
   "metadata": {},
   "outputs": [],
   "source": [
    "def redundancy(files,res_dim):\n",
    "    train = []\n",
    "    traincounts = []\n",
    "    for e in files:\n",
    "        a = np.loadtxt(e)\n",
    "        a1 = np.reshape(a[1:],(-1,2))\n",
    "        a1[:,0] = (a1[:,0]-a1[:,0].min())/(a1[:,0].max()-(a1[:,0].min()))\n",
    "        a1[:,1] = (a1[:,1]-a1[:,1].min())/(a1[:,1].max()-(a1[:,1].min()))\n",
    "        curr = int(a[0])\n",
    "        x,y =[],[]\n",
    "        for i in range(int(curr)):\n",
    "            x +=[a1[:,0][i]]*(res_dim//curr + int(res_dim%curr>i))\n",
    "            y +=[a1[:,1][i]]*(res_dim//curr + int(res_dim%curr>i))\n",
    "        train+=[np.reshape([[i,j] for i,j in zip(x,y)],(1,-1))[0]]\n",
    "        traincounts+=[a[0]]\n",
    "    return train,traincounts"
   ]
  },
  {
   "cell_type": "code",
   "execution_count": 11,
   "metadata": {},
   "outputs": [],
   "source": [
    "X,_ = redundancy(trainfiles,178)\n",
    "devX,_ = redundancy(devfiles,178)\n",
    "X = np.array(X)\n",
    "devX= np.array(devX)"
   ]
  },
  {
   "cell_type": "code",
   "execution_count": 12,
   "metadata": {},
   "outputs": [],
   "source": [
    "mapping = {}\n",
    "mapping['chA'] = 2\n",
    "mapping['a'] = 0\n",
    "mapping['bA'] = 1\n",
    "mapping['lA'] = 3\n",
    "mapping['tA'] = 4\n",
    "labels=[]\n",
    "for i in trainfiles:\n",
    "#     print((i.split('\\\\')[1]))\n",
    "    labels.append(mapping[i.split('\\\\')[1]])\n",
    "# labels = [mapping[(i.split('\\\\')[2])] for i in trainfiles]\n",
    "# labels"
   ]
  },
  {
   "cell_type": "code",
   "execution_count": 13,
   "metadata": {},
   "outputs": [],
   "source": [
    "# dev_y = [mapping[(i.split('\\\\')[2])] for i in devfiles]\n",
    "dev_y = []\n",
    "for i in devfiles:\n",
    "#     print((i.split('\\\\')[1]))\n",
    "    dev_y.append(mapping[i.split('\\\\')[1]])"
   ]
  },
  {
   "cell_type": "code",
   "execution_count": 14,
   "metadata": {},
   "outputs": [
    {
     "name": "stderr",
     "output_type": "stream",
     "text": [
      "C:\\Users\\Sai Bharadwaj Avvari\\Anaconda3\\lib\\site-packages\\sklearn\\linear_model\\logistic.py:432: FutureWarning: Default solver will be changed to 'lbfgs' in 0.22. Specify a solver to silence this warning.\n",
      "  FutureWarning)\n",
      "C:\\Users\\Sai Bharadwaj Avvari\\Anaconda3\\lib\\site-packages\\sklearn\\linear_model\\logistic.py:469: FutureWarning: Default multi_class will be changed to 'auto' in 0.22. Specify the multi_class option to silence this warning.\n",
      "  \"this warning.\", FutureWarning)\n"
     ]
    }
   ],
   "source": [
    "LR2 = LogisticRegression()\n",
    "LR2.fit(X, labels)\n",
    "Y_pred2 = LR2.predict(devX)"
   ]
  },
  {
   "cell_type": "code",
   "execution_count": 15,
   "metadata": {},
   "outputs": [
    {
     "name": "stdout",
     "output_type": "stream",
     "text": [
      "[[20  0  0  0  0]\n",
      " [ 0 19  1  0  0]\n",
      " [ 0  1 19  0  0]\n",
      " [ 0  0  0 20  0]\n",
      " [ 0  0  0  0 20]]\n",
      "              precision    recall  f1-score   support\n",
      "\n",
      "           0       1.00      1.00      1.00        20\n",
      "           1       0.95      0.95      0.95        20\n",
      "           2       0.95      0.95      0.95        20\n",
      "           3       1.00      1.00      1.00        20\n",
      "           4       1.00      1.00      1.00        20\n",
      "\n",
      "    accuracy                           0.98       100\n",
      "   macro avg       0.98      0.98      0.98       100\n",
      "weighted avg       0.98      0.98      0.98       100\n",
      "\n"
     ]
    }
   ],
   "source": [
    "from sklearn.metrics import classification_report, confusion_matrix\n",
    "print(confusion_matrix(dev_y,Y_pred2))\n",
    "print(classification_report(dev_y,Y_pred2))"
   ]
  },
  {
   "cell_type": "code",
   "execution_count": 16,
   "metadata": {},
   "outputs": [
    {
     "data": {
      "image/png": "[encoded data removed]",
      "text/plain": [
       "<Figure size 432x288 with 1 Axes>"
      ]
     },
     "metadata": {
      "needs_background": "light"
     },
     "output_type": "display_data"
    },
    {
     "data": {
      "image/png": "[encoded data removed]",
      "text/plain": [
       "<Figure size 432x288 with 1 Axes>"
      ]
     },
     "metadata": {
      "needs_background": "light"
     },
     "output_type": "display_data"
    },
    {
     "data": {
      "text/plain": [
       "<matplotlib.axes._subplots.AxesSubplot at 0x1bf4e6aefd0>"
      ]
     },
     "execution_count": 16,
     "metadata": {},
     "output_type": "execute_result"
    },
    {
     "data": {
      "image/png": "[encoded data removed]",
      "text/plain": [
       "<Figure size 432x288 with 2 Axes>"
      ]
     },
     "metadata": {
      "needs_background": "light"
     },
     "output_type": "display_data"
    }
   ],
   "source": [
    "# Predicted = svclassifier.predict(X_test)\n",
    "\n",
    "prob = LR2.predict_proba(devX)\n",
    "# print(prob)\n",
    "T = np.full(20,0,dtype='int')\n",
    "T = np.concatenate((T,np.full(20,1,dtype='int')))\n",
    "T = np.concatenate((T,np.full(20,2,dtype='int')))\n",
    "T = np.concatenate((T,np.full(20,3,dtype='int')))\n",
    "T = np.concatenate((T,np.full(20,4,dtype='int')))\n",
    "\n",
    "# print(T)\n",
    "\n",
    "#func2(T,Predicted,classes=[\"1\",\"2\",\"3\"],title='Confusion matrix, without x y ')\n",
    "# print(prob)\n",
    "ROCmodf(prob,T,100)\n",
    "\n",
    "DETmodf(prob,T,100)\n",
    "\n",
    "func2(dev_y,Y_pred2,classes=[\"1\",\"2\",\"3\"],title=\"Confusion Matrix\")"
   ]
  },
  {
   "cell_type": "code",
   "execution_count": 17,
   "metadata": {},
   "outputs": [],
   "source": [
    "import glob\n",
    "trainfiles = glob.glob('./speech/*/train/*.mfcc',recursive=True)\n",
    "devfiles = glob.glob('./speech/*/dev/*.mfcc',recursive=True)\n",
    "distance = lambda x,y: np.linalg.norm(x-y)"
   ]
  },
  {
   "cell_type": "code",
   "execution_count": 18,
   "metadata": {},
   "outputs": [],
   "source": [
    "def redundancy_voice(files,res_dim):\n",
    "    train = []\n",
    "    traincounts = []\n",
    "    for e in files:\n",
    "        a = np.loadtxt(e,skiprows=1)\n",
    "        curr = int(a.shape[0])\n",
    "        res = []\n",
    "        for i in range(int(curr)):\n",
    "            res += list(np.tile(a[i],(res_dim//curr + int(res_dim%curr>i))))\n",
    "        train+=[np.array(res)]\n",
    "        traincounts+=[curr]\n",
    "    return train,traincounts"
   ]
  },
  {
   "cell_type": "code",
   "execution_count": 19,
   "metadata": {},
   "outputs": [],
   "source": [
    "X,_ = redundancy_voice(trainfiles,194)\n",
    "devX,_ = redundancy_voice(devfiles,194)\n",
    "X = np.array(X)\n",
    "devX = np.array(devX)"
   ]
  },
  {
   "cell_type": "code",
   "execution_count": 20,
   "metadata": {},
   "outputs": [],
   "source": [
    "mapping = {}\n",
    "mapping['1'] = 0\n",
    "mapping['2'] = 1\n",
    "mapping['5'] = 2\n",
    "mapping['9'] = 3\n",
    "mapping['z'] = 4\n",
    "labels = []\n",
    "for i in trainfiles:\n",
    "    labels.append(mapping[(i.split('\\\\')[1])])"
   ]
  },
  {
   "cell_type": "code",
   "execution_count": 21,
   "metadata": {},
   "outputs": [],
   "source": [
    "dev_y = [mapping[(i.split('\\\\')[1])] for i in devfiles]"
   ]
  },
  {
   "cell_type": "code",
   "execution_count": 22,
   "metadata": {},
   "outputs": [
    {
     "name": "stderr",
     "output_type": "stream",
     "text": [
      "C:\\Users\\Sai Bharadwaj Avvari\\Anaconda3\\lib\\site-packages\\sklearn\\linear_model\\logistic.py:432: FutureWarning: Default solver will be changed to 'lbfgs' in 0.22. Specify a solver to silence this warning.\n",
      "  FutureWarning)\n",
      "C:\\Users\\Sai Bharadwaj Avvari\\Anaconda3\\lib\\site-packages\\sklearn\\linear_model\\logistic.py:469: FutureWarning: Default multi_class will be changed to 'auto' in 0.22. Specify the multi_class option to silence this warning.\n",
      "  \"this warning.\", FutureWarning)\n"
     ]
    }
   ],
   "source": [
    "LR3 = LogisticRegression()\n",
    "LR3.fit(X, labels)\n",
    "Y_pred3 = LR3.predict(devX)"
   ]
  },
  {
   "cell_type": "code",
   "execution_count": 23,
   "metadata": {},
   "outputs": [
    {
     "name": "stdout",
     "output_type": "stream",
     "text": [
      "[[12  0  0  0  0]\n",
      " [ 0 12  0  0  0]\n",
      " [ 1  0 10  0  1]\n",
      " [ 2  1  1  8  0]\n",
      " [ 0  2  0  0 10]]\n",
      "              precision    recall  f1-score   support\n",
      "\n",
      "           0       0.80      1.00      0.89        12\n",
      "           1       0.80      1.00      0.89        12\n",
      "           2       0.91      0.83      0.87        12\n",
      "           3       1.00      0.67      0.80        12\n",
      "           4       0.91      0.83      0.87        12\n",
      "\n",
      "    accuracy                           0.87        60\n",
      "   macro avg       0.88      0.87      0.86        60\n",
      "weighted avg       0.88      0.87      0.86        60\n",
      "\n"
     ]
    }
   ],
   "source": [
    "from sklearn.metrics import classification_report, confusion_matrix\n",
    "print(confusion_matrix(dev_y,Y_pred3))\n",
    "print(classification_report(dev_y,Y_pred3))"
   ]
  },
  {
   "cell_type": "code",
   "execution_count": 24,
   "metadata": {},
   "outputs": [
    {
     "data": {
      "image/png": "[encoded data removed]",
      "text/plain": [
       "<Figure size 432x288 with 1 Axes>"
      ]
     },
     "metadata": {
      "needs_background": "light"
     },
     "output_type": "display_data"
    },
    {
     "data": {
      "image/png": "[encoded data removed]",
      "text/plain": [
       "<Figure size 432x288 with 1 Axes>"
      ]
     },
     "metadata": {
      "needs_background": "light"
     },
     "output_type": "display_data"
    },
    {
     "data": {
      "text/plain": [
       "<matplotlib.axes._subplots.AxesSubplot at 0x1bf4e2050f0>"
      ]
     },
     "execution_count": 24,
     "metadata": {},
     "output_type": "execute_result"
    },
    {
     "data": {
      "image/png": "[encoded data removed]",
      "text/plain": [
       "<Figure size 432x288 with 2 Axes>"
      ]
     },
     "metadata": {
      "needs_background": "light"
     },
     "output_type": "display_data"
    }
   ],
   "source": [
    "# Predicted = svclassifier.predict(X_test)\n",
    "\n",
    "prob = LR3.predict_proba(devX)\n",
    "# print(prob)\n",
    "T = np.full(12,0,dtype='int')\n",
    "T = np.concatenate((T,np.full(12,1,dtype='int')))\n",
    "T = np.concatenate((T,np.full(12,2,dtype='int')))\n",
    "T = np.concatenate((T,np.full(12,3,dtype='int')))\n",
    "T = np.concatenate((T,np.full(12,4,dtype='int')))\n",
    "\n",
    "# print(T)\n",
    "\n",
    "#func2(T,Predicted,classes=[\"1\",\"2\",\"3\"],title='Confusion matrix, without x y ')\n",
    "# print(prob)\n",
    "ROCmodf(prob,T,100)\n",
    "\n",
    "DETmodf(prob,T,100)\n",
    "\n",
    "func2(dev_y,Y_pred3,classes=[\"1\",\"2\",\"3\"],title=\"Confusion Matrix\")"
   ]
  },
  {
   "cell_type": "code",
   "execution_count": 25,
   "metadata": {},
   "outputs": [],
   "source": [
    "import glob\n",
    "trainfiles = glob.glob('./image/*/train/*.jpg_color_edh_entropy',recursive=True)\n",
    "devfiles = glob.glob('./image/*/dev/*.jpg_color_edh_entropy',recursive=True)"
   ]
  },
  {
   "cell_type": "code",
   "execution_count": 26,
   "metadata": {},
   "outputs": [],
   "source": [
    "def load_data(files):\n",
    "    data =[]\n",
    "    for i in files:\n",
    "        data+=[np.reshape(np.loadtxt(i),(-1))]\n",
    "    return np.array(data)"
   ]
  },
  {
   "cell_type": "code",
   "execution_count": 27,
   "metadata": {},
   "outputs": [],
   "source": [
    "X = load_data(trainfiles)\n",
    "devX = load_data(devfiles)"
   ]
  },
  {
   "cell_type": "code",
   "execution_count": 28,
   "metadata": {},
   "outputs": [],
   "source": [
    "mapping = {}\n",
    "mapping['mountain'] = 2\n",
    "mapping['forest'] = 0\n",
    "mapping['opencountry'] = 3\n",
    "mapping['insidecity'] = 1\n",
    "mapping['street'] = 4\n",
    "labels = [mapping[(i.split('\\\\')[1])] for i in trainfiles]\n",
    "label_one_hot = np.eye(5)[labels]\n",
    "dev_y = [mapping[(i.split('\\\\')[1])] for i in devfiles]"
   ]
  },
  {
   "cell_type": "code",
   "execution_count": 29,
   "metadata": {},
   "outputs": [
    {
     "name": "stderr",
     "output_type": "stream",
     "text": [
      "C:\\Users\\Sai Bharadwaj Avvari\\Anaconda3\\lib\\site-packages\\sklearn\\linear_model\\logistic.py:432: FutureWarning: Default solver will be changed to 'lbfgs' in 0.22. Specify a solver to silence this warning.\n",
      "  FutureWarning)\n",
      "C:\\Users\\Sai Bharadwaj Avvari\\Anaconda3\\lib\\site-packages\\sklearn\\linear_model\\logistic.py:469: FutureWarning: Default multi_class will be changed to 'auto' in 0.22. Specify the multi_class option to silence this warning.\n",
      "  \"this warning.\", FutureWarning)\n"
     ]
    }
   ],
   "source": [
    "LR4 = LogisticRegression()\n",
    "LR4.fit(X, labels)\n",
    "Y_pred4 = LR4.predict(devX)"
   ]
  },
  {
   "cell_type": "code",
   "execution_count": 30,
   "metadata": {},
   "outputs": [
    {
     "name": "stdout",
     "output_type": "stream",
     "text": [
      "[[49  5  5  4  3]\n",
      " [ 5 34  8  5 10]\n",
      " [ 7  4 41 18  5]\n",
      " [ 7  7 22 43  3]\n",
      " [ 8  7  5  1 37]]\n",
      "              precision    recall  f1-score   support\n",
      "\n",
      "           0       0.64      0.74      0.69        66\n",
      "           1       0.60      0.55      0.57        62\n",
      "           2       0.51      0.55      0.53        75\n",
      "           3       0.61      0.52      0.56        82\n",
      "           4       0.64      0.64      0.64        58\n",
      "\n",
      "    accuracy                           0.59       343\n",
      "   macro avg       0.60      0.60      0.60       343\n",
      "weighted avg       0.60      0.59      0.59       343\n",
      "\n"
     ]
    }
   ],
   "source": [
    "from sklearn.metrics import classification_report, confusion_matrix\n",
    "print(confusion_matrix(dev_y,Y_pred4))\n",
    "print(classification_report(dev_y,Y_pred4))"
   ]
  },
  {
   "cell_type": "code",
   "execution_count": 31,
   "metadata": {},
   "outputs": [
    {
     "data": {
      "image/png": "[encoded data removed]",
      "text/plain": [
       "<Figure size 432x288 with 1 Axes>"
      ]
     },
     "metadata": {
      "needs_background": "light"
     },
     "output_type": "display_data"
    },
    {
     "data": {
      "image/png": "[encoded data removed]",
      "text/plain": [
       "<Figure size 432x288 with 1 Axes>"
      ]
     },
     "metadata": {
      "needs_background": "light"
     },
     "output_type": "display_data"
    },
    {
     "data": {
      "text/plain": [
       "<matplotlib.axes._subplots.AxesSubplot at 0x1bf5034f2e8>"
      ]
     },
     "execution_count": 31,
     "metadata": {},
     "output_type": "execute_result"
    },
    {
     "data": {
      "image/png": "[encoded data removed]",
      "text/plain": [
       "<Figure size 432x288 with 2 Axes>"
      ]
     },
     "metadata": {
      "needs_background": "light"
     },
     "output_type": "display_data"
    }
   ],
   "source": [
    "# Predicted = svclassifier.predict(X_test)\n",
    "\n",
    "prob = LR4.predict_proba(devX)\n",
    "# print(prob)\n",
    "T = np.full(66,0,dtype='int')\n",
    "T = np.concatenate((T,np.full(62,1,dtype='int')))\n",
    "T = np.concatenate((T,np.full(75,2,dtype='int')))\n",
    "T = np.concatenate((T,np.full(82,3,dtype='int')))\n",
    "T = np.concatenate((T,np.full(58,4,dtype='int')))\n",
    "\n",
    "# print(T)\n",
    "\n",
    "#func2(T,Predicted,classes=[\"1\",\"2\",\"3\"],title='Confusion matrix, without x y ')\n",
    "# print(prob)\n",
    "ROCmodf(prob,T,100)\n",
    "\n",
    "DETmodf(prob,T,100)\n",
    "\n",
    "func2(dev_y,Y_pred4,classes=[\"1\",\"2\",\"3\"],title=\"Confusion Matrix\")"
   ]
  }
 ],
 "metadata": {
  "kernelspec": {
   "display_name": "Python 3",
   "language": "python",
   "name": "python3"
  },
  "language_info": {
   "codemirror_mode": {
    "name": "ipython",
    "version": 3
   },
   "file_extension": ".py",
   "mimetype": "text/x-python",
   "name": "python",
   "nbconvert_exporter": "python",
   "pygments_lexer": "ipython3",
   "version": "3.7.3"
  }
 },
 "nbformat": 4,
 "nbformat_minor": 2
}
