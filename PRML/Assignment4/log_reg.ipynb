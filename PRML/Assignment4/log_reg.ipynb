{
 "cells": [
  {
   "cell_type": "markdown",
   "metadata": {},
   "source": [
    "### Logistic Regression from scratch- For Binary Classification"
   ]
  },
  {
   "cell_type": "code",
   "execution_count": 2,
   "metadata": {},
   "outputs": [],
   "source": [
    "import numpy as np\n",
    "import matplotlib.pyplot as plt\n",
    "import numpy.matlib\n",
    "from sklearn.metrics import accuracy_score\n",
    "numpy.random.seed(42)"
   ]
  },
  {
   "cell_type": "markdown",
   "metadata": {},
   "source": [
    "### Training data and training label"
   ]
  },
  {
   "cell_type": "markdown",
   "metadata": {},
   "source": [
    "#### Creating dataset- "
   ]
  },
  {
   "cell_type": "code",
   "execution_count": 3,
   "metadata": {},
   "outputs": [],
   "source": [
    "c1 = [2,3]# Cluster center for class 1 data\n",
    "c2 = [10,11]# Cluster center for class 2 data\n",
    "no = 50 # No of samples in a class\n",
    "class1 = np.matlib.repmat(c1,no,1) + np.random.randn(no,len(c1))\n",
    "class2 = np.matlib.repmat(c2, no,1)+ np.random.randn(no,len(c2))\n",
    "D = np.append(class1,class2,axis =0)\n",
    "Data = np.concatenate((D, np.ones((2*no,1))),axis = 1)\n",
    "c1_label = np.ones((no,1))\n",
    "c2_label = -1*np.ones((no,1))\n",
    "label = np.concatenate((c1_label,c2_label),axis = 0)\n",
    "Data = Data.T\n",
    "y = label.T# True label"
   ]
  },
  {
   "cell_type": "markdown",
   "metadata": {},
   "source": [
    "#### Plotting data"
   ]
  },
  {
   "cell_type": "code",
   "execution_count": 4,
   "metadata": {},
   "outputs": [
    {
     "data": {
      "image/png": "[encoded data removed]",
      "text/plain": [
       "<Figure size 432x288 with 1 Axes>"
      ]
     },
     "metadata": {
      "needs_background": "light"
     },
     "output_type": "display_data"
    }
   ],
   "source": [
    "import matplotlib.pyplot as plt\n",
    "plt.plot(class1[:,0],class1[:,1],'ro',class2[:,0],class2[:,1],'bo')\n",
    "plt.show()"
   ]
  },
  {
   "cell_type": "markdown",
   "metadata": {},
   "source": [
    "### Validation data"
   ]
  },
  {
   "cell_type": "code",
   "execution_count": 5,
   "metadata": {},
   "outputs": [],
   "source": [
    "v1 = [5,4]# Cluster center for class1 data of validation data set\n",
    "v2 = [7,12]# Cluster center for class 2 data of validation data set\n",
    "v_no = 30# No of samples in a class\n",
    "v_class1 = np.matlib.repmat(v1,v_no,1) + np.random.randn(v_no,len(v1))\n",
    "v_class2 = np.matlib.repmat(v2, v_no,1)+ np.random.randn(v_no,len(v2))\n",
    "v_D = np.append(v_class1,v_class2,axis =0)\n",
    "v_Data = np.concatenate((v_D, np.ones((2*v_no,1))),axis = 1)\n",
    "v_c1_label = np.ones((v_no,1))\n",
    "v_c2_label = -1*np.ones((v_no,1))\n",
    "v_label = np.concatenate((v_c1_label,v_c2_label),axis = 0)\n",
    "v_Data = v_Data.T\n",
    "v_y = v_label.T# Test label"
   ]
  },
  {
   "cell_type": "code",
   "execution_count": 6,
   "metadata": {},
   "outputs": [
    {
     "data": {
      "image/png": "[encoded data removed]",
      "text/plain": [
       "<Figure size 432x288 with 1 Axes>"
      ]
     },
     "metadata": {
      "needs_background": "light"
     },
     "output_type": "display_data"
    }
   ],
   "source": [
    "import matplotlib.pyplot as plt\n",
    "plt.plot(v_class1[:,0],v_class1[:,1],'ro',class2[:,0],class2[:,1],'bo')\n",
    "plt.show()"
   ]
  },
  {
   "cell_type": "markdown",
   "metadata": {},
   "source": [
    "#### The activation function used is sigmoid"
   ]
  },
  {
   "cell_type": "code",
   "execution_count": 7,
   "metadata": {},
   "outputs": [],
   "source": [
    "def sigmoid(x):\n",
    "    a  = 1/(1+np.exp(-x))\n",
    "    return a"
   ]
  },
  {
   "cell_type": "code",
   "execution_count": 8,
   "metadata": {},
   "outputs": [],
   "source": [
    "def prediction(w, Data):\n",
    "    pred = []\n",
    "    z = np.dot(w,Data)\n",
    "    a = sigmoid(z)\n",
    "    for i in range(0,len(a[0])):\n",
    "        if (a[0][i] > 0.5): \n",
    "            pred.append(1)\n",
    "        elif (a[0][i] <= 0.5):\n",
    "            pred.append(-1)\n",
    "    return pred"
   ]
  },
  {
   "cell_type": "markdown",
   "metadata": {},
   "source": [
    "<img src=\"images\\lr.jpg\">"
   ]
  },
  {
   "cell_type": "markdown",
   "metadata": {},
   "source": [
    "### Training part- In this step the loss is calculated and minimized with respect to weights. "
   ]
  },
  {
   "cell_type": "code",
   "execution_count": 9,
   "metadata": {},
   "outputs": [
    {
     "name": "stdout",
     "output_type": "stream",
     "text": [
      "[[ 2.49671415  2.64768854  1.76584663  3.57921282  1.53052561  1.53658231\n",
      "   2.24196227  0.27508217  0.98716888  1.09197592  3.46564877  2.0675282\n",
      "   1.45561728  0.84900642  1.39936131  1.39829339  1.98650278  2.82254491\n",
      "   2.2088636   0.67181395  2.73846658  1.88435172  0.52147801  1.53936123\n",
      "   2.34361829  2.32408397  1.323078    3.03099952  1.16078248  2.33126343\n",
      "   1.52082576  0.89366503  2.81252582  1.92798988  2.36163603  2.36139561\n",
      "   1.96417396 -0.6197451   2.08704707  2.09176078  1.78032811  3.47789404\n",
      "   1.1915064   2.91540212  1.4702398   2.09707755  1.29794691  1.60789185\n",
      "   2.29612028  2.00511346  8.58462926  9.65728548  9.83871429 11.8861859\n",
      "  10.25755039  8.08122878 10.06023021  9.80763904  9.96528823 11.14282281\n",
      "  10.79103195 11.40279431 10.58685709  9.00946367 10.09965137  8.44933657\n",
      "   8.93769629  9.08057577  9.21674671 10.81351722 10.22745993  8.39251677\n",
      "  10.25988279  8.76304929 10.52194157 10.25049285  9.31997528 10.29307247\n",
      "  11.86577451  8.8086965   9.02531833 11.15859558 10.96337613 10.82206016\n",
      "   9.75461188  9.11048557  9.92289829 10.2766908  10.01300189  9.73534317\n",
      "  10.62566735  8.9291075   9.77653721 10.47323762  9.15320628  9.55348505\n",
      "  10.21409374 10.17318093  9.11614256 10.05820872]\n",
      " [ 2.8617357   4.52302986  2.76586304  3.76743473  3.54256004  2.53427025\n",
      "   1.08671976  2.43771247  3.31424733  1.5876963   2.7742237   1.57525181\n",
      "   3.11092259  3.37569802  2.70830625  4.85227818  1.94228907  1.77915635\n",
      "   1.04032988  3.19686124  3.17136828  2.6988963   2.28015579  4.05712223\n",
      "   1.23695984  2.61491772  3.61167629  3.93128012  2.69078762  3.97554513\n",
      "   2.81434102  1.80379338  4.35624003  4.0035329   2.35488025  4.53803657\n",
      "   4.56464366  3.8219025   2.70099265  1.01243109  3.35711257  2.48172978\n",
      "   2.49824296  3.32875111  3.51326743  3.96864499  2.67233785  1.53648505\n",
      "   3.26105527  2.76541287 10.57935468 10.19772273 11.40405086 11.17457781\n",
      "  10.92555408 10.97348612 13.46324211 11.30154734  9.83132196 11.75193303\n",
      "  10.09061255  9.59814894 13.19045563 10.43370227 10.49652435 11.06856297\n",
      "  11.47359243 12.54993441 10.67793848  9.76913568 12.30714275 11.18463386\n",
      "  11.78182287  9.67954339 11.29698467 11.34644821 11.2322537  10.28564858\n",
      "  11.47383292 11.65655361 11.7870846  10.17931768 11.41278093 12.89679298\n",
      "  10.24626384 10.18418972 11.34115197 11.82718325 12.45353408 13.72016917\n",
      "  10.14284244 11.48247242 11.71400049 10.92717109  9.48515278 11.85639879\n",
      "   9.75426122 11.38531738 11.15372511  9.8570297 ]\n",
      " [ 1.          1.          1.          1.          1.          1.\n",
      "   1.          1.          1.          1.          1.          1.\n",
      "   1.          1.          1.          1.          1.          1.\n",
      "   1.          1.          1.          1.          1.          1.\n",
      "   1.          1.          1.          1.          1.          1.\n",
      "   1.          1.          1.          1.          1.          1.\n",
      "   1.          1.          1.          1.          1.          1.\n",
      "   1.          1.          1.          1.          1.          1.\n",
      "   1.          1.          1.          1.          1.          1.\n",
      "   1.          1.          1.          1.          1.          1.\n",
      "   1.          1.          1.          1.          1.          1.\n",
      "   1.          1.          1.          1.          1.          1.\n",
      "   1.          1.          1.          1.          1.          1.\n",
      "   1.          1.          1.          1.          1.          1.\n",
      "   1.          1.          1.          1.          1.          1.\n",
      "   1.          1.          1.          1.          1.          1.\n",
      "   1.          1.          1.          1.        ]]\n"
     ]
    }
   ],
   "source": [
    "learning_rate = 0.01\n",
    "w = np.random.randn(1,3)\n",
    "print(Data)\n",
    "for i in range(1,1500):\n",
    "    \n",
    "    z = np.dot(w,Data)\n",
    "    y_pred = prediction(w, Data)\n",
    "    val = -np.multiply(y,z)\n",
    "    J = np.sum(np.log(1+np.exp(val)))\n",
    "    num = -np.multiply(y,np.exp(val))\n",
    "    den = 1+np.exp(val)\n",
    "    f = num/den\n",
    "    gradJ = np.dot(Data,f.T)\n",
    "    w = w - learning_rate*gradJ.T\n",
    "\n",
    "    #print(\"Epoch\",i,\"Loss\",J,\"Training Accuracy\",accuracy_score(y[0], y_pred)*100)\n"
   ]
  },
  {
   "cell_type": "markdown",
   "metadata": {},
   "source": [
    "## Prediction for test data"
   ]
  },
  {
   "cell_type": "code",
   "execution_count": 10,
   "metadata": {},
   "outputs": [
    {
     "name": "stdout",
     "output_type": "stream",
     "text": [
      "Test Accuracy 88.33333333333333\n"
     ]
    }
   ],
   "source": [
    "Test_predict = prediction(w, v_Data)\n",
    "print(\"Test Accuracy\",accuracy_score(v_y[0], Test_predict)*100)"
   ]
  },
  {
   "cell_type": "markdown",
   "metadata": {},
   "source": [
    "## Classifier"
   ]
  },
  {
   "cell_type": "code",
   "execution_count": 11,
   "metadata": {},
   "outputs": [
    {
     "data": {
      "image/png": "[encoded data removed]",
      "text/plain": [
       "<Figure size 432x288 with 1 Axes>"
      ]
     },
     "metadata": {
      "needs_background": "light"
     },
     "output_type": "display_data"
    }
   ],
   "source": [
    "domain =  np.linspace(0,13,100)\n",
    "h_x = -(w[0,0]/w[0,1])*domain - (w[0,2]/w[0,1])\n",
    "\n",
    "plt.plot(v_class1[:,0],v_class1[:,1],'ro',v_class2[:,0],v_class2[:,1],'bo')\n",
    "plt.plot(domain,h_x)\n",
    "plt.show()"
   ]
  },
  {
   "cell_type": "code",
   "execution_count": null,
   "metadata": {},
   "outputs": [],
   "source": []
  }
 ],
 "metadata": {
  "kernelspec": {
   "display_name": "Python 3",
   "language": "python",
   "name": "python3"
  },
  "language_info": {
   "codemirror_mode": {
    "name": "ipython",
    "version": 3
   },
   "file_extension": ".py",
   "mimetype": "text/x-python",
   "name": "python",
   "nbconvert_exporter": "python",
   "pygments_lexer": "ipython3",
   "version": "3.7.3"
  }
 },
 "nbformat": 4,
 "nbformat_minor": 2
}
