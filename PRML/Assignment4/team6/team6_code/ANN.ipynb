{
 "cells": [
  {
   "cell_type": "code",
   "execution_count": 7,
   "metadata": {},
   "outputs": [],
   "source": [
    "import pandas as pd\n",
    "import matplotlib.pyplot as plt\n",
    "from scipy.stats import multivariate_normal\n",
    "from math import sqrt\n",
    "import math\n",
    "from scipy.stats import norm as detnorm\n",
    "\n",
    "from matplotlib.mlab import PCA\n",
    "import numpy as np\n",
    "import numpy.linalg as linalg\n",
    "from random import sample\n",
    "import csv\n",
    "import copy\n",
    "import os\n",
    "from sklearn.metrics import confusion_matrix \n",
    "\n",
    "import glob\n",
    "import tensorflow.compat.v1 as tf\n",
    "tf.disable_v2_behavior()\n",
    "np.random.seed(1337)"
   ]
  },
  {
   "cell_type": "code",
   "execution_count": 40,
   "metadata": {},
   "outputs": [],
   "source": [
    "def func2(y_true, y_pred, classes,\n",
    "                          normalize=False,\n",
    "                          title=None,\n",
    "                          cmap=plt.cm.Blues):\n",
    "    \"\"\"\n",
    "    This function prints and plots the confusion matrix.\n",
    "    Normalization can be applied by setting `normalize=True`.\n",
    "    \"\"\"\n",
    "    if not title:\n",
    "        if normalize:\n",
    "            title = 'Normalized confusion matrix'\n",
    "        else:\n",
    "            title = 'Confusion matrix, without normalization'\n",
    "\n",
    "    # Compute confusion matrix\n",
    "    cm = confusion_matrix(y_true, y_pred)\n",
    "    # Only use the labels that appear in the data\n",
    "    classes =[\"o\",\"1\",\"4\",\"6\",\"z\"] \n",
    "    #classes=[\"highway\",\"mountain\",\"forst\",\"str\",\"insc\"]\n",
    "    #classes =[\"a\",\"ai\",\"cha\",\"la\",\"da\"] \n",
    "    #classes =[\",\"cha\",\"la\",\"da\"] \n",
    "    #classes =[\"0\",\"1\"] \n",
    "    # classes[unique_labels(y_true, y_pred)]\n",
    "    if normalize:\n",
    "        cm = cm.astype('float') / cm.sum(axis=1)[:, np.newaxis]\n",
    "    fig, ax = plt.subplots()\n",
    "    im = ax.imshow(cm, interpolation='nearest', cmap=cmap)\n",
    "    ax.figure.colorbar(im, ax=ax)\n",
    "    # We want to show all ticks...\n",
    "    ax.set(xticks=np.arange(cm.shape[1]),\n",
    "           yticks=np.arange(cm.shape[0]),\n",
    "           # ... and label them with the respective list entries\n",
    "           xticklabels=classes, yticklabels=classes,\n",
    "           title=title,\n",
    "           ylabel='True label',\n",
    "           xlabel='Predicted label')\n",
    "\n",
    "    # Rotate the tick labels and set their alignment.\n",
    "    plt.setp(ax.get_xticklabels(), rotation=45, ha=\"right\",\n",
    "             rotation_mode=\"anchor\")\n",
    "\n",
    "    # Loop over data dimensions and create text annotations.\n",
    "    fmt = '.2f' if normalize else 'd'\n",
    "    thresh = cm.max() / 2.\n",
    "    for i in range(cm.shape[0]):\n",
    "        for j in range(cm.shape[1]):\n",
    "            ax.text(j, i, format(cm[i, j], fmt),\n",
    "                    ha=\"center\", va=\"center\",\n",
    "                    color=\"white\" if cm[i, j] > thresh else \"black\")\n",
    "    fig.tight_layout()\n",
    "    return ax"
   ]
  },
  {
   "cell_type": "code",
   "execution_count": 41,
   "metadata": {},
   "outputs": [],
   "source": [
    "def ROC (P,T):\n",
    "    inc = 0.001\n",
    "    n = np.size(P,0)\n",
    "    m = np.size(P,1)\n",
    "    TPR = np.zeros(1000) # change accordingly with inc\n",
    "    FPR = np.zeros(1000)\n",
    "    i = 0\n",
    "    #print(n)\n",
    "    for tet in np.arange(0.0, 1.0, inc):\n",
    "        TP = 0\n",
    "        FP = 0\n",
    "        TN = 0\n",
    "        FN = 0\n",
    "        for cls in range(m):\n",
    "            #print(cls)\n",
    "            for data in range(n):\n",
    "                if ((T[data] == cls) and (P[data][cls] >= tet)):\n",
    "                    TP = TP + 1\n",
    "                if ((T[data] == cls) and (P[data][cls] <= tet)):\n",
    "                    FN = FN + 1\n",
    "                if ((T[data] != cls) and (P[data][cls] >= tet)):\n",
    "                    FP = FP + 1\n",
    "                if ((T[data] != cls) and (P[data][cls] <= tet)):\n",
    "                    TN = TN + 1\n",
    "        TPR[i] = TP/(TP + FN)\n",
    "        FPR[i] = FP/(FP + TN)     \n",
    "        i = i + 1\n",
    "    plt.plot(FPR,TPR)\n",
    "    plt.xlabel('FPR')\n",
    "    plt.ylabel('TPR')\n",
    "    plt.show()\n",
    "    \n",
    "def ROCmodf (P,T,num):\n",
    "    mini = np.amin(P)\n",
    "    maxi = np.amax(P)\n",
    "    inc = (maxi-mini)/num\n",
    "    n = np.size(P,0)\n",
    "    m = np.size(P,1)\n",
    "    TPR = np.zeros(num+2) # change accordingly with inc\n",
    "    FPR = np.zeros(num+2)\n",
    "    i = 0\n",
    "    #print(n)\n",
    "    for tet in np.arange(mini,maxi+inc,inc):\n",
    "        TP = 0\n",
    "        FP = 0\n",
    "        TN = 0\n",
    "        FN = 0\n",
    "        for cls in range(m):\n",
    "            #print(cls)\n",
    "            for data in range(n):\n",
    "                if ((T[data] == cls) and (P[data][cls] >= tet)):\n",
    "                    TP = TP + 1\n",
    "                if ((T[data] == cls) and (P[data][cls] <= tet)):\n",
    "                    FN = FN + 1\n",
    "                if ((T[data] != cls) and (P[data][cls] >= tet)):\n",
    "                    FP = FP + 1\n",
    "                if ((T[data] != cls) and (P[data][cls] <= tet)):\n",
    "                    TN = TN + 1\n",
    "        TPR[i] = TP/(TP + FN)\n",
    "        FPR[i] = FP/(FP + TN)   \n",
    "        i = i + 1\n",
    "    plt.plot(FPR,TPR)\n",
    "    plt.xlabel('FPR')\n",
    "    plt.ylabel('TPR')\n",
    "    plt.show()\n",
    "    \n",
    "def DETmodf (P,T,num):\n",
    "    dnorm = lambda t:(detnorm.ppf(t))\n",
    "    mini = np.amin(P)\n",
    "    maxi = np.amax(P)\n",
    "    inc = (maxi-mini)/num\n",
    "    n = np.size(P,0)\n",
    "    m = np.size(P,1)\n",
    "    FPR = np.zeros(num+2) # change accordingly with inc\n",
    "    FNR = np.zeros(num+2)\n",
    "    i = 0\n",
    "    #print(inc)\n",
    "    for tet in np.arange(mini,maxi+inc,inc):\n",
    "        TP = 0\n",
    "        FP = 0\n",
    "        TN = 0\n",
    "        FN = 0\n",
    "        for cls in range(m):\n",
    "            for data in range(n):\n",
    "                if ((T[data] == cls) and (P[data][cls] >= tet)):\n",
    "                    TP = TP + 1\n",
    "                if ((T[data] == cls) and (P[data][cls] <= tet)):\n",
    "                    FN = FN + 1\n",
    "                if ((T[data] != cls) and (P[data][cls] >= tet)):\n",
    "                    FP = FP + 1\n",
    "                if ((T[data] != cls) and (P[data][cls] <= tet)):\n",
    "                    TN = TN + 1\n",
    "        FNR[i] = FN/(TP + FN)\n",
    "        FPR[i] = FP/(FP + TN)     \n",
    "        i = i + 1\n",
    "    FPR1 = (np.array([dnorm(xi) for xi in FPR]))\n",
    "    FNR1 = (np.array([dnorm(xi) for xi in FNR]))\n",
    "    #print(FPR1)\n",
    "    #print(FNR1)\n",
    "    #detection_error_tradeoff(FPR1,FNR1)\n",
    "    plt.plot(FPR1,FNR1)\n",
    "    plt.show()"
   ]
  },
  {
   "cell_type": "code",
   "execution_count": 10,
   "metadata": {},
   "outputs": [],
   "source": [
    "sypath = r'/home/moiz/Documents/PRMLlab4/6'\n",
    "trdata = np.loadtxt(sypath+\"/train.txt\",delimiter=\",\")\n",
    "y_trdata = np.reshape(trdata[:,2],(-1,1))\n",
    "X_trdata = trdata[:,0:2]\n",
    "# data1=data[np.nonzero(labels[:,0]==1)]\n",
    "# sydata1=pd.DataFrame(data1,index=None)\n",
    "# sydata1=sydata1.loc[:,0:1]\n",
    "\n",
    "# data2=data[np.nonzero(labels[:,0]==2)]\n",
    "# sydata2=pd.DataFrame(data2,index=None)\n",
    "# sydata2=sydata2.loc[:,0:1]\n",
    "\n",
    "# sydata1.reset_index()\n",
    "# sydata2.reset_index()\n",
    "\n",
    "tedata = np.loadtxt(sypath+\"/dev.txt\",delimiter=\",\")\n",
    "y_tedata = np.reshape(tedata[:,2],(-1,1))\n",
    "X_tedata = tedata[:,0:2]\n",
    "\n",
    "# data1=data[np.nonzero(labels[:,0]==1)]\n",
    "# syddata1=pd.DataFrame(data1,index=None)\n",
    "# syddata1=syddata1.loc[:,0:1]\n",
    "# data2=data[np.nonzero(labels[:,0]==2)]\n",
    "# syddata2=pd.DataFrame(data2,index=None)\n",
    "# syddata2=syddata2.loc[:,0:1]\n",
    "# syddata1.reset_index()\n",
    "# syddata2.reset_index()"
   ]
  },
  {
   "cell_type": "code",
   "execution_count": 11,
   "metadata": {},
   "outputs": [],
   "source": [
    "# print(y_trdata)"
   ]
  },
  {
   "cell_type": "code",
   "execution_count": null,
   "metadata": {},
   "outputs": [],
   "source": []
  },
  {
   "cell_type": "code",
   "execution_count": 12,
   "metadata": {},
   "outputs": [],
   "source": [
    "## resclae\n",
    "from sklearn.preprocessing import MinMaxScaler\n",
    "scaler = MinMaxScaler()\n",
    "# Train\n",
    "X_train_scaled = scaler.fit_transform(X_trdata.astype(np.float64))\n",
    "# test\n",
    "X_test_scaled = scaler.fit_transform(X_tedata.astype(np.float64))"
   ]
  },
  {
   "cell_type": "code",
   "execution_count": 13,
   "metadata": {},
   "outputs": [
    {
     "name": "stdout",
     "output_type": "stream",
     "text": [
      "(2500, 2)\n"
     ]
    }
   ],
   "source": [
    "print(np.shape(X_train_scaled))"
   ]
  },
  {
   "cell_type": "code",
   "execution_count": 14,
   "metadata": {},
   "outputs": [],
   "source": [
    "from sklearn.neural_network import MLPClassifier"
   ]
  },
  {
   "cell_type": "code",
   "execution_count": 15,
   "metadata": {},
   "outputs": [
    {
     "name": "stderr",
     "output_type": "stream",
     "text": [
      "/usr/local/lib/python3.7/dist-packages/sklearn/neural_network/multilayer_perceptron.py:921: DataConversionWarning: A column-vector y was passed when a 1d array was expected. Please change the shape of y to (n_samples, ), for example using ravel().\n",
      "  y = column_or_1d(y, warn=True)\n",
      "/usr/local/lib/python3.7/dist-packages/sklearn/neural_network/multilayer_perceptron.py:566: ConvergenceWarning: Stochastic Optimizer: Maximum iterations (200) reached and the optimization hasn't converged yet.\n",
      "  % self.max_iter, ConvergenceWarning)\n"
     ]
    },
    {
     "data": {
      "text/plain": [
       "MLPClassifier(activation='relu', alpha=0.0001, batch_size='auto', beta_1=0.9,\n",
       "              beta_2=0.999, early_stopping=False, epsilon=1e-08,\n",
       "              hidden_layer_sizes=(50, 10), learning_rate='constant',\n",
       "              learning_rate_init=0.001, max_iter=200, momentum=0.9,\n",
       "              n_iter_no_change=10, nesterovs_momentum=True, power_t=0.5,\n",
       "              random_state=None, shuffle=True, solver='adam', tol=0.0001,\n",
       "              validation_fraction=0.1, verbose=False, warm_start=False)"
      ]
     },
     "execution_count": 15,
     "metadata": {},
     "output_type": "execute_result"
    }
   ],
   "source": [
    "clf = MLPClassifier(hidden_layer_sizes=(50,10),activation='relu')\n",
    "clf.fit(X_trdata,y_trdata)"
   ]
  },
  {
   "cell_type": "code",
   "execution_count": 16,
   "metadata": {},
   "outputs": [
    {
     "data": {
      "text/plain": [
       "0.998"
      ]
     },
     "execution_count": 16,
     "metadata": {},
     "output_type": "execute_result"
    }
   ],
   "source": [
    "clf.score(X_tedata,y_tedata)"
   ]
  },
  {
   "cell_type": "code",
   "execution_count": 17,
   "metadata": {},
   "outputs": [
    {
     "name": "stdout",
     "output_type": "stream",
     "text": [
      "WARNING:tensorflow:From /home/moiz/.local/lib/python3.7/site-packages/tensorflow_core/python/ops/resource_variable_ops.py:1630: calling BaseResourceVariable.__init__ (from tensorflow.python.ops.resource_variable_ops) with constraint is deprecated and will be removed in a future version.\n",
      "Instructions for updating:\n",
      "If using Keras pass *_constraint arguments to layers.\n",
      "Model: \"sequential\"\n",
      "_________________________________________________________________\n",
      "Layer (type)                 Output Shape              Param #   \n",
      "=================================================================\n",
      "dense (Dense)                (None, 100)               300       \n",
      "_________________________________________________________________\n",
      "dense_1 (Dense)              (None, 20)                2020      \n",
      "_________________________________________________________________\n",
      "dropout (Dropout)            (None, 20)                0         \n",
      "_________________________________________________________________\n",
      "dense_2 (Dense)              (None, 2)                 42        \n",
      "=================================================================\n",
      "Total params: 2,362\n",
      "Trainable params: 2,362\n",
      "Non-trainable params: 0\n",
      "_________________________________________________________________\n"
     ]
    }
   ],
   "source": [
    "import tensorflow as tf\n",
    "model_syn = tf.keras.models.Sequential([\n",
    "    tf.keras.layers.Dense(100, activation='relu', input_shape=(2,)),\n",
    "    tf.keras.layers.Dense(20, activation='relu'),\n",
    "    tf.keras.layers.Dropout(0.3),\n",
    "    tf.keras.layers.Dense(2, activation='sigmoid')\n",
    "])\n",
    "model_syn.compile(loss='categorical_crossentropy', optimizer='adam',metrics = ['accuracy'])\n",
    "model_syn.summary()\n"
   ]
  },
  {
   "cell_type": "code",
   "execution_count": 18,
   "metadata": {},
   "outputs": [
    {
     "name": "stderr",
     "output_type": "stream",
     "text": [
      "/usr/local/lib/python3.7/dist-packages/sklearn/preprocessing/_encoders.py:415: FutureWarning: The handling of integer data will change in version 0.22. Currently, the categories are determined based on the range [0, max(values)], while in the future they will be determined based on the unique values.\n",
      "If you want the future behaviour and silence this warning, you can specify \"categories='auto'\".\n",
      "In case you used a LabelEncoder before this OneHotEncoder to convert the categories to integers, then you can now use the OneHotEncoder directly.\n",
      "  warnings.warn(msg, FutureWarning)\n"
     ]
    }
   ],
   "source": [
    "from sklearn.preprocessing import OneHotEncoder \n",
    "  \n",
    "# creating one hot encoder object by default \n",
    "# entire data passed is one hot encoded \n",
    "onehotencoder = OneHotEncoder() \n",
    "  \n",
    "label_one_hot= onehotencoder.fit_transform(y_trdata).toarray() "
   ]
  },
  {
   "cell_type": "code",
   "execution_count": 19,
   "metadata": {},
   "outputs": [
    {
     "name": "stdout",
     "output_type": "stream",
     "text": [
      "[[1.]\n",
      " [1.]\n",
      " [1.]\n",
      " ...\n",
      " [2.]\n",
      " [2.]\n",
      " [2.]]\n"
     ]
    }
   ],
   "source": [
    "print(y_trdata)"
   ]
  },
  {
   "cell_type": "code",
   "execution_count": 20,
   "metadata": {},
   "outputs": [
    {
     "name": "stdout",
     "output_type": "stream",
     "text": [
      "Train on 2500 samples\n",
      "Epoch 1/50\n",
      "2500/2500 [==============================] - 1s 324us/sample - loss: 0.6549 - acc: 0.5972\n",
      "Epoch 2/50\n",
      "2500/2500 [==============================] - 0s 56us/sample - loss: 0.5854 - acc: 0.6176\n",
      "Epoch 3/50\n",
      "2500/2500 [==============================] - 0s 56us/sample - loss: 0.5549 - acc: 0.6252\n",
      "Epoch 4/50\n",
      "2500/2500 [==============================] - 0s 68us/sample - loss: 0.5262 - acc: 0.6548\n",
      "Epoch 5/50\n",
      "2500/2500 [==============================] - 0s 68us/sample - loss: 0.4905 - acc: 0.6884\n",
      "Epoch 6/50\n",
      "2500/2500 [==============================] - 0s 55us/sample - loss: 0.4351 - acc: 0.7312\n",
      "Epoch 7/50\n",
      "2500/2500 [==============================] - 0s 57us/sample - loss: 0.3663 - acc: 0.7588\n",
      "Epoch 8/50\n",
      "2500/2500 [==============================] - 0s 55us/sample - loss: 0.3120 - acc: 0.8668\n",
      "Epoch 9/50\n",
      "2500/2500 [==============================] - 0s 53us/sample - loss: 0.2353 - acc: 0.9048\n",
      "Epoch 10/50\n",
      "2500/2500 [==============================] - 0s 53us/sample - loss: 0.2102 - acc: 0.9116\n",
      "Epoch 11/50\n",
      "2500/2500 [==============================] - 0s 67us/sample - loss: 0.1982 - acc: 0.9236\n",
      "Epoch 12/50\n",
      "2500/2500 [==============================] - 0s 61us/sample - loss: 0.1876 - acc: 0.9296\n",
      "Epoch 13/50\n",
      "2500/2500 [==============================] - 0s 61us/sample - loss: 0.1661 - acc: 0.9440\n",
      "Epoch 14/50\n",
      "2500/2500 [==============================] - 0s 55us/sample - loss: 0.1530 - acc: 0.9428\n",
      "Epoch 15/50\n",
      "2500/2500 [==============================] - 0s 57us/sample - loss: 0.1509 - acc: 0.9464\n",
      "Epoch 16/50\n",
      "2500/2500 [==============================] - 0s 56us/sample - loss: 0.1399 - acc: 0.9600\n",
      "Epoch 17/50\n",
      "2500/2500 [==============================] - 0s 54us/sample - loss: 0.1352 - acc: 0.9592\n",
      "Epoch 18/50\n",
      "2500/2500 [==============================] - 0s 56us/sample - loss: 0.1261 - acc: 0.9668\n",
      "Epoch 19/50\n",
      "2500/2500 [==============================] - 0s 57us/sample - loss: 0.1147 - acc: 0.9664\n",
      "Epoch 20/50\n",
      "2500/2500 [==============================] - 0s 60us/sample - loss: 0.1085 - acc: 0.9740\n",
      "Epoch 21/50\n",
      "2500/2500 [==============================] - 0s 71us/sample - loss: 0.1033 - acc: 0.9684\n",
      "Epoch 22/50\n",
      "2500/2500 [==============================] - 0s 56us/sample - loss: 0.0912 - acc: 0.9768\n",
      "Epoch 23/50\n",
      "2500/2500 [==============================] - 0s 60us/sample - loss: 0.0898 - acc: 0.9772\n",
      "Epoch 24/50\n",
      "2500/2500 [==============================] - 0s 69us/sample - loss: 0.0810 - acc: 0.9792\n",
      "Epoch 25/50\n",
      "2500/2500 [==============================] - 0s 68us/sample - loss: 0.0820 - acc: 0.9776\n",
      "Epoch 26/50\n",
      "2500/2500 [==============================] - 0s 60us/sample - loss: 0.0737 - acc: 0.9840\n",
      "Epoch 27/50\n",
      "2500/2500 [==============================] - 0s 55us/sample - loss: 0.0723 - acc: 0.9840\n",
      "Epoch 28/50\n",
      "2500/2500 [==============================] - 0s 54us/sample - loss: 0.0760 - acc: 0.9796\n",
      "Epoch 29/50\n",
      "2500/2500 [==============================] - 0s 54us/sample - loss: 0.0688 - acc: 0.9832\n",
      "Epoch 30/50\n",
      "2500/2500 [==============================] - 0s 59us/sample - loss: 0.0687 - acc: 0.9856\n",
      "Epoch 31/50\n",
      "2500/2500 [==============================] - 0s 68us/sample - loss: 0.0630 - acc: 0.9872\n",
      "Epoch 32/50\n",
      "2500/2500 [==============================] - 0s 65us/sample - loss: 0.0577 - acc: 0.9868\n",
      "Epoch 33/50\n",
      "2500/2500 [==============================] - 0s 56us/sample - loss: 0.0600 - acc: 0.9876\n",
      "Epoch 34/50\n",
      "2500/2500 [==============================] - 0s 52us/sample - loss: 0.0522 - acc: 0.9900\n",
      "Epoch 35/50\n",
      "2500/2500 [==============================] - 0s 60us/sample - loss: 0.0471 - acc: 0.9916\n",
      "Epoch 36/50\n",
      "2500/2500 [==============================] - 0s 61us/sample - loss: 0.0523 - acc: 0.9892\n",
      "Epoch 37/50\n",
      "2500/2500 [==============================] - 0s 58us/sample - loss: 0.0566 - acc: 0.9900\n",
      "Epoch 38/50\n",
      "2500/2500 [==============================] - 0s 53us/sample - loss: 0.0430 - acc: 0.9908\n",
      "Epoch 39/50\n",
      "2500/2500 [==============================] - 0s 59us/sample - loss: 0.0490 - acc: 0.9888\n",
      "Epoch 40/50\n",
      "2500/2500 [==============================] - 0s 64us/sample - loss: 0.0428 - acc: 0.9928\n",
      "Epoch 41/50\n",
      "2500/2500 [==============================] - 0s 60us/sample - loss: 0.0457 - acc: 0.9896\n",
      "Epoch 42/50\n",
      "2500/2500 [==============================] - 0s 59us/sample - loss: 0.0465 - acc: 0.9904\n",
      "Epoch 43/50\n",
      "2500/2500 [==============================] - 0s 58us/sample - loss: 0.0391 - acc: 0.9932\n",
      "Epoch 44/50\n",
      "2500/2500 [==============================] - 0s 58us/sample - loss: 0.0427 - acc: 0.9904\n",
      "Epoch 45/50\n",
      "2500/2500 [==============================] - 0s 57us/sample - loss: 0.0317 - acc: 0.9932\n",
      "Epoch 46/50\n",
      "2500/2500 [==============================] - 0s 58us/sample - loss: 0.0290 - acc: 0.9940\n",
      "Epoch 47/50\n",
      "2500/2500 [==============================] - 0s 55us/sample - loss: 0.0231 - acc: 0.9944\n",
      "Epoch 48/50\n",
      "2500/2500 [==============================] - 0s 54us/sample - loss: 0.0290 - acc: 0.9928\n",
      "Epoch 49/50\n",
      "2500/2500 [==============================] - 0s 55us/sample - loss: 0.0309 - acc: 0.9916\n",
      "Epoch 50/50\n",
      "2500/2500 [==============================] - 0s 58us/sample - loss: 0.0252 - acc: 0.9940\n"
     ]
    },
    {
     "data": {
      "text/plain": [
       "<tensorflow.python.keras.callbacks.History at 0x7fcb0dc19eb8>"
      ]
     },
     "execution_count": 20,
     "metadata": {},
     "output_type": "execute_result"
    }
   ],
   "source": [
    "#from keras.utils import to_categorical\n",
    "#label_one_hot = to_categorical(y_trdata)\n",
    "model_syn.fit(X_trdata,label_one_hot,epochs=50)"
   ]
  },
  {
   "cell_type": "code",
   "execution_count": 362,
   "metadata": {},
   "outputs": [
    {
     "data": {
      "text/plain": [
       "Text(0.5, 1.0, 'Decision boundary and Surface of ANN synthetic dataset')"
      ]
     },
     "execution_count": 362,
     "metadata": {},
     "output_type": "execute_result"
    },
    {
     "data": {
      "image/png": "[encoded data removed]",
      "text/plain": [
       "<Figure size 432x288 with 1 Axes>"
      ]
     },
     "metadata": {
      "needs_background": "light"
     },
     "output_type": "display_data"
    }
   ],
   "source": [
    "nx,ny = 100,100\n",
    "\n",
    "y = np.linspace(-10,14,ny)\n",
    "x = np.linspace(-20,4,nx)\n",
    "A,B = np.meshgrid(x,y)\n",
    "z = np.zeros((nx,ny))\n",
    "for i in range(nx):\n",
    "    #print(i)\n",
    "    for j in range(ny):\n",
    "        z[i,j] = np.argmax(model_syn.predict(np.array([[A[i,j],B[i,j]]])),axis=1)\n",
    "\n",
    "        \n",
    "plt.xlabel(\"x\")\n",
    "plt.ylabel(\"y\")\n",
    "#plt.xlim(x_l,x_r)\n",
    "\n",
    "plt.contourf(A,B,z,alpha=0.3)\n",
    "plt.scatter(tedata[:,0],tedata[:,1],c =tedata[:,2] )\n",
    "plt.title(\"Decision boundary and Surface of ANN synthetic dataset\")\n",
    "#plt.savefig('NN-synthetic-decision-998-2hidden.jpg')"
   ]
  },
  {
   "cell_type": "code",
   "execution_count": 186,
   "metadata": {},
   "outputs": [],
   "source": [
    "# X_train_orig, Y_train_orig, X_test_orig, Y_test_orig, classes = load_dataset()"
   ]
  },
  {
   "cell_type": "code",
   "execution_count": 21,
   "metadata": {},
   "outputs": [
    {
     "name": "stdout",
     "output_type": "stream",
     "text": [
      "[0 0 0 0 0 0 0 0 0 0 0 0 0 0 0 0 0 0 0 0 0 0 0 0 0 0 0 0 0 0 0 0 0 0 0 0 0\n",
      " 0 0 0 0 0 0 0 0 0 0 0 0 0 0 0 0 0 0 0 0 0 0 0 0 0 0 0 0 0 0 0 0 0 0 0 0 0\n",
      " 0 0 0 0 0 0 0 0 0 0 0 0 0 0 0 0 0 0 0 0 0 0 0 0 0 0 0 0 0 0 0 0 0 0 0 0 0\n",
      " 0 0 0 0 0 0 0 0 0 0 0 0 0 0 0 0 0 0 0 0 0 0 0 0 0 0 0 0 0 0 0 0 0 0 0 0 0\n",
      " 0 0 0 0 0 0 0 0 0 0 0 0 0 0 0 0 0 0 0 0 0 0 0 0 0 0 0 0 0 0 0 0 0 0 0 0 0\n",
      " 0 0 0 0 0 0 0 0 0 0 0 0 0 0 0 0 0 0 0 0 0 0 0 0 0 0 0 0 0 0 0 0 0 0 0 0 0\n",
      " 0 0 0 0 0 0 0 0 0 0 0 0 0 0 0 0 0 0 0 0 0 0 0 0 0 0 0 0 0 0 0 0 0 0 0 0 0\n",
      " 0 0 0 0 0 0 0 0 0 0 0 0 0 0 0 0 0 0 0 0 0 0 0 0 0 0 0 0 0 0 0 0 0 0 0 0 0\n",
      " 0 0 0 0 0 0 0 0 0 0 0 0 0 0 0 0 0 0 0 0 0 0 0 0 0 0 0 0 0 0 0 0 0 0 0 0 0\n",
      " 0 0 0 0 0 0 0 0 0 0 0 0 0 0 0 0 0 0 0 0 0 0 0 0 0 0 0 0 0 0 0 0 0 0 0 0 0\n",
      " 0 0 0 0 0 0 0 0 0 0 0 0 0 0 0 0 0 0 0 0 0 0 0 0 0 0 0 0 0 0 0 0 0 0 0 0 0\n",
      " 0 0 0 0 0 0 0 0 0 0 0 0 0 0 0 0 0 0 0 0 0 0 0 0 0 0 0 0 0 0 0 0 0 0 0 0 0\n",
      " 0 0 0 0 0 0 0 0 0 0 0 0 0 0 0 0 0 0 0 0 0 0 0 0 0 0 0 0 0 0 0 0 0 0 0 0 0\n",
      " 0 0 0 0 0 0 0 0 0 0 0 0 0 0 0 0 0 0 0 1 1 1 1 1 1 1 1 1 1 1 1 1 1 1 1 1 1\n",
      " 1 1 1 1 1 1 1 1 1 1 1 1 1 1 1 1 1 1 1 1 1 1 1 1 1 1 1 1 1 1 1 1 1 1 1 1 1\n",
      " 1 1 1 1 1 1 1 1 1 1 1 1 1 1 1 1 1 1 1 1 1 1 1 1 1 1 1 1 1 1 1 1 1 1 1 1 1\n",
      " 1 1 1 1 1 1 1 1 1 1 1 1 1 1 1 1 1 1 1 1 1 1 1 1 1 1 1 1 1 1 1 1 1 1 1 1 1\n",
      " 1 1 1 1 1 1 1 1 1 1 1 1 1 1 1 1 1 1 1 1 1 1 1 1 1 1 1 1 1 1 1 1 1 1 1 1 1\n",
      " 1 1 1 1 1 1 1 1 1 1 1 1 1 1 1 1 1 1 1 1 1 1 1 1 1 1 1 1 1 1 1 1 1 1 1 1 1\n",
      " 1 1 1 1 1 1 1 1 1 1 1 1 1 1 1 1 1 1 1 1 1 1 1 1 1 1 1 1 1 1 1 1 1 1 1 1 1\n",
      " 1 1 1 1 1 1 1 1 1 1 1 1 1 1 1 1 1 1 1 1 1 1 1 1 1 1 1 1 1 1 1 1 1 1 1 1 1\n",
      " 1 1 1 1 1 1 1 1 1 1 1 1 1 1 1 1 1 1 1 1 1 1 1 1 1 1 1 1 1 1 1 1 1 1 1 1 1\n",
      " 1 1 1 1 1 1 1 1 1 1 1 1 1 1 1 1 1 1 1 1 1 1 1 1 1 1 1 1 1 1 1 1 1 1 1 1 1\n",
      " 1 1 1 1 1 1 1 1 1 1 1 1 1 1 1 1 1 1 1 1 1 1 1 1 1 1 1 1 1 1 1 1 1 1 1 1 1\n",
      " 1 1 1 1 1 1 1 1 1 1 1 1 1 1 1 1 1 1 1 1 1 1 1 1 1 1 1 1 1 1 1 1 1 1 1 1 1\n",
      " 1 1 1 1 1 1 1 1 1 1 1 1 1 1 1 1 1 1 1 1 1 1 1 1 1 1 1 1 1 1 1 1 1 1 1 1 1\n",
      " 1 1 1 1 1 1 1 1 1 1 1 1 1 1 1 1 1 1 1 1 1 1 1 1 1 1 1 1 1 1 1 1 1 1 1 1 1\n",
      " 1]\n"
     ]
    },
    {
     "data": {
      "text/plain": [
       "<matplotlib.axes._subplots.AxesSubplot at 0x7fcb0f19add8>"
      ]
     },
     "execution_count": 21,
     "metadata": {},
     "output_type": "execute_result"
    },
    {
     "data": {
      "image/png": "[encoded data removed]",
      "text/plain": [
       "<Figure size 432x288 with 2 Axes>"
      ]
     },
     "metadata": {
      "needs_background": "light"
     },
     "output_type": "display_data"
    }
   ],
   "source": [
    "Predicted = model_syn.predict_classes(X_tedata)\n",
    "\n",
    "prob =model_syn.predict(X_tedata)\n",
    "\n",
    "T=np.full(500,0,dtype='int')\n",
    "T = np.concatenate((T,np.full(500,1,dtype='int')))\n",
    "\n",
    "\n",
    "print(T)\n",
    "\n",
    "func2(T,Predicted,classes=[\"1\",\"2\",\"3\"],title='Confusion matrix ANN Synthetic')\n",
    "\n"
   ]
  },
  {
   "cell_type": "code",
   "execution_count": 368,
   "metadata": {},
   "outputs": [
    {
     "data": {
      "image/png": "[encoded data removed]",
      "text/plain": [
       "<Figure size 432x288 with 1 Axes>"
      ]
     },
     "metadata": {
      "needs_background": "light"
     },
     "output_type": "display_data"
    }
   ],
   "source": [
    "plt.title(\"ROC of ANN for Synthetic\")\n",
    "ROCmodf(prob,T,100)"
   ]
  },
  {
   "cell_type": "code",
   "execution_count": 369,
   "metadata": {},
   "outputs": [
    {
     "data": {
      "image/png": "[encoded data removed]",
      "text/plain": [
       "<Figure size 432x288 with 1 Axes>"
      ]
     },
     "metadata": {
      "needs_background": "light"
     },
     "output_type": "display_data"
    }
   ],
   "source": [
    "plt.title(\"DET of ANN for Synthetic\")\n",
    "DETmodf(prob,T,100)"
   ]
  },
  {
   "cell_type": "code",
   "execution_count": null,
   "metadata": {},
   "outputs": [],
   "source": []
  },
  {
   "cell_type": "code",
   "execution_count": 6,
   "metadata": {},
   "outputs": [],
   "source": [
    "def redundancy(files,res_dim):\n",
    "    train = []\n",
    "    traincounts = []\n",
    "    for e in files:\n",
    "        a = np.loadtxt(e)\n",
    "        a1 = np.reshape(a[1:],(-1,2))\n",
    "        a1[:,0] = (a1[:,0]-a1[:,0].min())/(a1[:,0].max()-(a1[:,0].min()))\n",
    "        a1[:,1] = (a1[:,1]-a1[:,1].min())/(a1[:,1].max()-(a1[:,1].min()))\n",
    "        curr = int(a[0])\n",
    "        x,y =[],[]\n",
    "        for i in range(int(curr)):\n",
    "            x +=[a1[:,0][i]]*(res_dim//curr + int(res_dim%curr>i))\n",
    "            y +=[a1[:,1][i]]*(res_dim//curr + int(res_dim%curr>i))\n",
    "        train+=[np.reshape([[i,j] for i,j in zip(x,y)],(1,-1))[0]]\n",
    "        traincounts+=[a[0]]\n",
    "    return train,traincounts\n",
    "\n",
    "trainfiles = glob.glob('/home/moiz/Documents/PRML3/*/train/*.txt',recursive=True)\n",
    "testfiles = glob.glob('/home/moiz/Documents/PRML3/*/dev/*.txt',recursive=True)\n",
    "\n",
    "\n",
    "\n",
    "X_htrdata,_ = redundancy(trainfiles,178)\n",
    "X_htedata,_ = redundancy(testfiles,178)\n",
    "X_htrdata = np.array(X_htrdata)\n",
    "X_htedata = np.array(X_htedata)\n",
    "mapping = {}\n",
    "mapping['a'] = 3.\n",
    "mapping['ai'] = 2.\n",
    "mapping['chA'] = 5.\n",
    "mapping['dA'] = 4.\n",
    "mapping['lA'] = 1.\n",
    "y_htrdata=[]\n",
    "for i in trainfiles:\n",
    "    x = np.zeros(1)\n",
    "    x[0]=mapping[(i.split('/')[5])]\n",
    "    y_htrdata.append(x)\n",
    "y_htrdata=np.array(y_htrdata)\n",
    "\n",
    "y_htedata=[]\n",
    "for i in testfiles:\n",
    "    x = np.zeros(1)\n",
    "    x[0]=mapping[(i.split('/')[5])]\n",
    "    y_htedata.append(x)\n",
    "y_htedata=np.array(y_htedata)"
   ]
  },
  {
   "cell_type": "code",
   "execution_count": 371,
   "metadata": {},
   "outputs": [
    {
     "name": "stdout",
     "output_type": "stream",
     "text": [
      "Model: \"sequential_20\"\n",
      "_________________________________________________________________\n",
      "Layer (type)                 Output Shape              Param #   \n",
      "=================================================================\n",
      "dense_60 (Dense)             (None, 100)               35700     \n",
      "_________________________________________________________________\n",
      "dense_61 (Dense)             (None, 40)                4040      \n",
      "_________________________________________________________________\n",
      "dropout_20 (Dropout)         (None, 40)                0         \n",
      "_________________________________________________________________\n",
      "dense_62 (Dense)             (None, 5)                 205       \n",
      "=================================================================\n",
      "Total params: 39,945\n",
      "Trainable params: 39,945\n",
      "Non-trainable params: 0\n",
      "_________________________________________________________________\n"
     ]
    }
   ],
   "source": [
    "import tensorflow as tf\n",
    "model_h = tf.keras.models.Sequential([\n",
    "    tf.keras.layers.Dense(100, activation='sigmoid', input_shape=(X_htrdata.shape[1],)),\n",
    "    tf.keras.layers.Dense(40, activation='relu'),\n",
    "    tf.keras.layers.Dropout(0.5),\n",
    "    tf.keras.layers.Dense(5, activation='sigmoid')\n",
    "])\n",
    "model_h.compile(loss='categorical_crossentropy', optimizer='adam',metrics = ['accuracy'])\n",
    "model_h.summary()\n"
   ]
  },
  {
   "cell_type": "code",
   "execution_count": 372,
   "metadata": {},
   "outputs": [
    {
     "name": "stdout",
     "output_type": "stream",
     "text": [
      "(346, 5)\n"
     ]
    },
    {
     "name": "stderr",
     "output_type": "stream",
     "text": [
      "/usr/local/lib/python3.7/dist-packages/sklearn/preprocessing/_encoders.py:415: FutureWarning: The handling of integer data will change in version 0.22. Currently, the categories are determined based on the range [0, max(values)], while in the future they will be determined based on the unique values.\n",
      "If you want the future behaviour and silence this warning, you can specify \"categories='auto'\".\n",
      "In case you used a LabelEncoder before this OneHotEncoder to convert the categories to integers, then you can now use the OneHotEncoder directly.\n",
      "  warnings.warn(msg, FutureWarning)\n"
     ]
    }
   ],
   "source": [
    "from sklearn.preprocessing import OneHotEncoder \n",
    "  \n",
    "# creating one hot encoder object by default \n",
    "# entire data passed is one hot encoded \n",
    "onehotencoder = OneHotEncoder() \n",
    "  \n",
    "label_one_hot= onehotencoder.fit_transform(y_htrdata).toarray() \n",
    "\n",
    "print(np.shape(label_one_hot))"
   ]
  },
  {
   "cell_type": "code",
   "execution_count": 373,
   "metadata": {},
   "outputs": [
    {
     "name": "stdout",
     "output_type": "stream",
     "text": [
      "Train on 346 samples\n",
      "Epoch 1/40\n",
      "346/346 [==============================] - 0s 726us/sample - loss: 1.6033 - acc: 0.3324\n",
      "Epoch 2/40\n",
      "346/346 [==============================] - 0s 116us/sample - loss: 1.4779 - acc: 0.4133\n",
      "Epoch 3/40\n",
      "346/346 [==============================] - 0s 105us/sample - loss: 1.3674 - acc: 0.4884\n",
      "Epoch 4/40\n",
      "346/346 [==============================] - 0s 122us/sample - loss: 1.2696 - acc: 0.5491\n",
      "Epoch 5/40\n",
      "346/346 [==============================] - 0s 106us/sample - loss: 1.1871 - acc: 0.5549\n",
      "Epoch 6/40\n",
      "346/346 [==============================] - 0s 119us/sample - loss: 1.1114 - acc: 0.6012\n",
      "Epoch 7/40\n",
      "346/346 [==============================] - 0s 102us/sample - loss: 1.0536 - acc: 0.6301\n",
      "Epoch 8/40\n",
      "346/346 [==============================] - 0s 99us/sample - loss: 0.9775 - acc: 0.6618\n",
      "Epoch 9/40\n",
      "346/346 [==============================] - 0s 123us/sample - loss: 0.9574 - acc: 0.6618\n",
      "Epoch 10/40\n",
      "346/346 [==============================] - 0s 116us/sample - loss: 0.8697 - acc: 0.6821\n",
      "Epoch 11/40\n",
      "346/346 [==============================] - 0s 92us/sample - loss: 0.8373 - acc: 0.7081\n",
      "Epoch 12/40\n",
      "346/346 [==============================] - 0s 120us/sample - loss: 0.7185 - acc: 0.7572\n",
      "Epoch 13/40\n",
      "346/346 [==============================] - 0s 138us/sample - loss: 0.6404 - acc: 0.8006\n",
      "Epoch 14/40\n",
      "346/346 [==============================] - 0s 139us/sample - loss: 0.5960 - acc: 0.8295\n",
      "Epoch 15/40\n",
      "346/346 [==============================] - 0s 140us/sample - loss: 0.5680 - acc: 0.8410\n",
      "Epoch 16/40\n",
      "346/346 [==============================] - 0s 142us/sample - loss: 0.5604 - acc: 0.8526\n",
      "Epoch 17/40\n",
      "346/346 [==============================] - 0s 148us/sample - loss: 0.4914 - acc: 0.8699\n",
      "Epoch 18/40\n",
      "346/346 [==============================] - 0s 135us/sample - loss: 0.4480 - acc: 0.8844\n",
      "Epoch 19/40\n",
      "346/346 [==============================] - 0s 118us/sample - loss: 0.4599 - acc: 0.8613\n",
      "Epoch 20/40\n",
      "346/346 [==============================] - 0s 121us/sample - loss: 0.4164 - acc: 0.8815\n",
      "Epoch 21/40\n",
      "346/346 [==============================] - 0s 134us/sample - loss: 0.3996 - acc: 0.9046\n",
      "Epoch 22/40\n",
      "346/346 [==============================] - 0s 124us/sample - loss: 0.3212 - acc: 0.9104\n",
      "Epoch 23/40\n",
      "346/346 [==============================] - 0s 114us/sample - loss: 0.3224 - acc: 0.9017\n",
      "Epoch 24/40\n",
      "346/346 [==============================] - 0s 96us/sample - loss: 0.3238 - acc: 0.9046\n",
      "Epoch 25/40\n",
      "346/346 [==============================] - 0s 111us/sample - loss: 0.3303 - acc: 0.9277\n",
      "Epoch 26/40\n",
      "346/346 [==============================] - 0s 132us/sample - loss: 0.2892 - acc: 0.9220\n",
      "Epoch 27/40\n",
      "346/346 [==============================] - 0s 116us/sample - loss: 0.3105 - acc: 0.9133\n",
      "Epoch 28/40\n",
      "346/346 [==============================] - 0s 106us/sample - loss: 0.2623 - acc: 0.9393\n",
      "Epoch 29/40\n",
      "346/346 [==============================] - 0s 110us/sample - loss: 0.2634 - acc: 0.9364\n",
      "Epoch 30/40\n",
      "346/346 [==============================] - 0s 111us/sample - loss: 0.2552 - acc: 0.9364\n",
      "Epoch 31/40\n",
      "346/346 [==============================] - 0s 153us/sample - loss: 0.2163 - acc: 0.9422\n",
      "Epoch 32/40\n",
      "346/346 [==============================] - 0s 121us/sample - loss: 0.2309 - acc: 0.9393\n",
      "Epoch 33/40\n",
      "346/346 [==============================] - 0s 122us/sample - loss: 0.2418 - acc: 0.9393\n",
      "Epoch 34/40\n",
      "346/346 [==============================] - 0s 131us/sample - loss: 0.2110 - acc: 0.9480\n",
      "Epoch 35/40\n",
      "346/346 [==============================] - 0s 132us/sample - loss: 0.2121 - acc: 0.9422\n",
      "Epoch 36/40\n",
      "346/346 [==============================] - 0s 142us/sample - loss: 0.2071 - acc: 0.9306\n",
      "Epoch 37/40\n",
      "346/346 [==============================] - 0s 126us/sample - loss: 0.1982 - acc: 0.9509\n",
      "Epoch 38/40\n",
      "346/346 [==============================] - 0s 143us/sample - loss: 0.2173 - acc: 0.9393\n",
      "Epoch 39/40\n",
      "346/346 [==============================] - 0s 119us/sample - loss: 0.1707 - acc: 0.9451\n",
      "Epoch 40/40\n",
      "346/346 [==============================] - 0s 157us/sample - loss: 0.2012 - acc: 0.9480\n"
     ]
    },
    {
     "data": {
      "text/plain": [
       "<tensorflow.python.keras.callbacks.History at 0x7f7c7819e0f0>"
      ]
     },
     "execution_count": 373,
     "metadata": {},
     "output_type": "execute_result"
    }
   ],
   "source": [
    "model_h.fit(X_htrdata,label_one_hot,epochs=40)"
   ]
  },
  {
   "cell_type": "code",
   "execution_count": 374,
   "metadata": {},
   "outputs": [],
   "source": [
    "Predicted = model_h.predict_classes(X_htedata)"
   ]
  },
  {
   "cell_type": "code",
   "execution_count": 375,
   "metadata": {},
   "outputs": [
    {
     "name": "stdout",
     "output_type": "stream",
     "text": [
      "[0 0 0 0 0 0 0 0 0 0 0 0 0 0 0 0 0 0 0 0 1 1 1 1 1 1 1 1 1 1 1 1 1 1 1 1 1\n",
      " 1 1 1 2 2 2 2 2 2 2 2 2 2 2 2 2 2 2 2 2 2 2 2 3 3 3 3 3 3 3 3 3 3 3 3 3 3\n",
      " 3 3 3 3 3 3 4 4 4 4 4 4 4 4 4 4 4 4 4 4 4 4 4 4 4 4]\n"
     ]
    }
   ],
   "source": [
    "print(Predicted)"
   ]
  },
  {
   "cell_type": "code",
   "execution_count": 376,
   "metadata": {},
   "outputs": [],
   "source": [
    "prob=model_h.predict(X_htedata)"
   ]
  },
  {
   "cell_type": "code",
   "execution_count": 377,
   "metadata": {},
   "outputs": [],
   "source": [
    "T=np.full(20,0,dtype='int')\n",
    "T = np.concatenate((T,np.full(20,1,dtype='int')))\n",
    "T = np.concatenate((T,np.full(20,2,dtype='int')))\n",
    "T = np.concatenate((T,np.full(20,3,dtype='int')))\n",
    "T = np.concatenate((T,np.full(20,4,dtype='int')))\n",
    "#print(T)\n"
   ]
  },
  {
   "cell_type": "code",
   "execution_count": 378,
   "metadata": {},
   "outputs": [
    {
     "data": {
      "text/plain": [
       "<matplotlib.axes._subplots.AxesSubplot at 0x7f7c78003358>"
      ]
     },
     "execution_count": 378,
     "metadata": {},
     "output_type": "execute_result"
    },
    {
     "data": {
      "image/png": "[encoded data removed]",
      "text/plain": [
       "<Figure size 432x288 with 2 Axes>"
      ]
     },
     "metadata": {
      "needs_background": "light"
     },
     "output_type": "display_data"
    }
   ],
   "source": [
    "func2(T,Predicted,classes=[\"1\",\"2\",\"3\"],title='Confusion matrix of ANN for handwritten')"
   ]
  },
  {
   "cell_type": "code",
   "execution_count": 379,
   "metadata": {},
   "outputs": [
    {
     "data": {
      "image/png": "[encoded data removed]",
      "text/plain": [
       "<Figure size 432x288 with 1 Axes>"
      ]
     },
     "metadata": {
      "needs_background": "light"
     },
     "output_type": "display_data"
    }
   ],
   "source": [
    "plt.title(\"ROC of ANN for handwritten\")\n",
    "ROCmodf(prob,T,100)"
   ]
  },
  {
   "cell_type": "code",
   "execution_count": 381,
   "metadata": {},
   "outputs": [
    {
     "data": {
      "image/png": "[encoded data removed]",
      "text/plain": [
       "<Figure size 432x288 with 1 Axes>"
      ]
     },
     "metadata": {
      "needs_background": "light"
     },
     "output_type": "display_data"
    }
   ],
   "source": [
    "plt.title(\"DET of ANN for handwritten\")\n",
    "DETmodf(prob,T,100)"
   ]
  },
  {
   "cell_type": "code",
   "execution_count": null,
   "metadata": {},
   "outputs": [],
   "source": []
  },
  {
   "cell_type": "code",
   "execution_count": 24,
   "metadata": {},
   "outputs": [],
   "source": [
    "trainfiles = glob.glob('/home/moiz/Documents/PRMLlab4/*/train/*.jpg_color_edh_entropy',recursive=True)\n",
    "testfiles = glob.glob('/home/moiz/Documents/PRMLlab4/*/dev/*.jpg_color_edh_entropy',recursive=True)\n",
    "def load_data(files):\n",
    "    data =[]\n",
    "    for i in files:\n",
    "        data+=[np.reshape(np.loadtxt(i),(-1))]\n",
    "    return np.array(data)\n",
    "X_itrdata = load_data(trainfiles)\n",
    "X_itedata = load_data(testfiles)"
   ]
  },
  {
   "cell_type": "code",
   "execution_count": 25,
   "metadata": {},
   "outputs": [],
   "source": [
    "# trainfiles"
   ]
  },
  {
   "cell_type": "code",
   "execution_count": 26,
   "metadata": {},
   "outputs": [],
   "source": [
    "mapping = {}\n",
    "mapping['highway'] = 0\n",
    "mapping['mountain'] = 1\n",
    "mapping['forest'] = 2\n",
    "mapping['street'] = 3\n",
    "mapping['insidecity'] = 4\n",
    "y_itrdata=[]\n",
    "for i in trainfiles:\n",
    "    x = np.zeros(1)\n",
    "    x[0]=mapping[(i.split('/')[5])]\n",
    "    y_itrdata.append(x)\n",
    "y_itrdata=np.array(y_itrdata)\n",
    "\n",
    "y_itedata=[]\n",
    "for i in testfiles:\n",
    "    x = np.zeros(1)\n",
    "    x[0]=mapping[(i.split('/')[5])]\n",
    "    y_itedata.append(x)\n",
    "y_itedata=np.array(y_itedata)"
   ]
  },
  {
   "cell_type": "code",
   "execution_count": 27,
   "metadata": {},
   "outputs": [
    {
     "name": "stdout",
     "output_type": "stream",
     "text": [
      "Model: \"sequential_1\"\n",
      "_________________________________________________________________\n",
      "Layer (type)                 Output Shape              Param #   \n",
      "=================================================================\n",
      "dense_3 (Dense)              (None, 100)               82900     \n",
      "_________________________________________________________________\n",
      "dense_4 (Dense)              (None, 40)                4040      \n",
      "_________________________________________________________________\n",
      "dropout_1 (Dropout)          (None, 40)                0         \n",
      "_________________________________________________________________\n",
      "dense_5 (Dense)              (None, 5)                 205       \n",
      "=================================================================\n",
      "Total params: 87,145\n",
      "Trainable params: 87,145\n",
      "Non-trainable params: 0\n",
      "_________________________________________________________________\n"
     ]
    }
   ],
   "source": [
    "import tensorflow as tf\n",
    "model_i = tf.keras.models.Sequential([\n",
    "    tf.keras.layers.Dense(100, activation='sigmoid', input_shape=(X_itrdata.shape[1],)),\n",
    "    tf.keras.layers.Dense(40, activation='relu'),\n",
    "    tf.keras.layers.Dropout(0.5),\n",
    "    tf.keras.layers.Dense(5, activation='sigmoid')\n",
    "])\n",
    "model_i.compile(loss='categorical_crossentropy', optimizer='adam',metrics = ['accuracy'])\n",
    "model_i.summary()\n"
   ]
  },
  {
   "cell_type": "code",
   "execution_count": 28,
   "metadata": {},
   "outputs": [
    {
     "name": "stdout",
     "output_type": "stream",
     "text": [
      "(1091, 5)\n"
     ]
    },
    {
     "name": "stderr",
     "output_type": "stream",
     "text": [
      "/usr/local/lib/python3.7/dist-packages/sklearn/preprocessing/_encoders.py:415: FutureWarning: The handling of integer data will change in version 0.22. Currently, the categories are determined based on the range [0, max(values)], while in the future they will be determined based on the unique values.\n",
      "If you want the future behaviour and silence this warning, you can specify \"categories='auto'\".\n",
      "In case you used a LabelEncoder before this OneHotEncoder to convert the categories to integers, then you can now use the OneHotEncoder directly.\n",
      "  warnings.warn(msg, FutureWarning)\n"
     ]
    }
   ],
   "source": [
    "from sklearn.preprocessing import OneHotEncoder \n",
    "  \n",
    "# creating one hot encoder object by default \n",
    "# entire data passed is one hot encoded \n",
    "onehotencoder = OneHotEncoder() \n",
    "  \n",
    "label_one_hot= onehotencoder.fit_transform(y_itrdata).toarray() \n",
    "\n",
    "print(np.shape(label_one_hot))"
   ]
  },
  {
   "cell_type": "code",
   "execution_count": 29,
   "metadata": {},
   "outputs": [
    {
     "name": "stdout",
     "output_type": "stream",
     "text": [
      "Train on 1091 samples\n",
      "Epoch 1/40\n",
      "1091/1091 [==============================] - 0s 222us/sample - loss: 1.6093 - acc: 0.2328\n",
      "Epoch 2/40\n",
      "1091/1091 [==============================] - 0s 113us/sample - loss: 1.5552 - acc: 0.2713\n",
      "Epoch 3/40\n",
      "1091/1091 [==============================] - 0s 122us/sample - loss: 1.5088 - acc: 0.3327\n",
      "Epoch 4/40\n",
      "1091/1091 [==============================] - 0s 111us/sample - loss: 1.4372 - acc: 0.3877\n",
      "Epoch 5/40\n",
      "1091/1091 [==============================] - 0s 101us/sample - loss: 1.3805 - acc: 0.4290\n",
      "Epoch 6/40\n",
      "1091/1091 [==============================] - 0s 129us/sample - loss: 1.3190 - acc: 0.4766\n",
      "Epoch 7/40\n",
      "1091/1091 [==============================] - 0s 108us/sample - loss: 1.2360 - acc: 0.5005\n",
      "Epoch 8/40\n",
      "1091/1091 [==============================] - 0s 104us/sample - loss: 1.2155 - acc: 0.5408\n",
      "Epoch 9/40\n",
      "1091/1091 [==============================] - 0s 110us/sample - loss: 1.1531 - acc: 0.5610\n",
      "Epoch 10/40\n",
      "1091/1091 [==============================] - 0s 110us/sample - loss: 1.0955 - acc: 0.6013\n",
      "Epoch 11/40\n",
      "1091/1091 [==============================] - 0s 122us/sample - loss: 1.0251 - acc: 0.6343\n",
      "Epoch 12/40\n",
      "1091/1091 [==============================] - 0s 120us/sample - loss: 0.9686 - acc: 0.6599\n",
      "Epoch 13/40\n",
      "1091/1091 [==============================] - 0s 103us/sample - loss: 0.9728 - acc: 0.6462\n",
      "Epoch 14/40\n",
      "1091/1091 [==============================] - 0s 115us/sample - loss: 0.9212 - acc: 0.6563\n",
      "Epoch 15/40\n",
      "1091/1091 [==============================] - 0s 115us/sample - loss: 0.8713 - acc: 0.6975\n",
      "Epoch 16/40\n",
      "1091/1091 [==============================] - 0s 127us/sample - loss: 0.8395 - acc: 0.6819\n",
      "Epoch 17/40\n",
      "1091/1091 [==============================] - 0s 116us/sample - loss: 0.8495 - acc: 0.6984\n",
      "Epoch 18/40\n",
      "1091/1091 [==============================] - 0s 112us/sample - loss: 0.8159 - acc: 0.7049\n",
      "Epoch 19/40\n",
      "1091/1091 [==============================] - 0s 109us/sample - loss: 0.8031 - acc: 0.7186\n",
      "Epoch 20/40\n",
      "1091/1091 [==============================] - 0s 109us/sample - loss: 0.7429 - acc: 0.7369\n",
      "Epoch 21/40\n",
      "1091/1091 [==============================] - 0s 104us/sample - loss: 0.7197 - acc: 0.7443\n",
      "Epoch 22/40\n",
      "1091/1091 [==============================] - 0s 109us/sample - loss: 0.7356 - acc: 0.7406\n",
      "Epoch 23/40\n",
      "1091/1091 [==============================] - 0s 120us/sample - loss: 0.7102 - acc: 0.7489\n",
      "Epoch 24/40\n",
      "1091/1091 [==============================] - 0s 113us/sample - loss: 0.6880 - acc: 0.7461\n",
      "Epoch 25/40\n",
      "1091/1091 [==============================] - 0s 152us/sample - loss: 0.6869 - acc: 0.7589\n",
      "Epoch 26/40\n",
      "1091/1091 [==============================] - 0s 129us/sample - loss: 0.6319 - acc: 0.7846\n",
      "Epoch 27/40\n",
      "1091/1091 [==============================] - 0s 112us/sample - loss: 0.6229 - acc: 0.7626\n",
      "Epoch 28/40\n",
      "1091/1091 [==============================] - 0s 112us/sample - loss: 0.6182 - acc: 0.7892\n",
      "Epoch 29/40\n",
      "1091/1091 [==============================] - 0s 109us/sample - loss: 0.6119 - acc: 0.7965\n",
      "Epoch 30/40\n",
      "1091/1091 [==============================] - 0s 106us/sample - loss: 0.5606 - acc: 0.8112\n",
      "Epoch 31/40\n",
      "1091/1091 [==============================] - 0s 113us/sample - loss: 0.5723 - acc: 0.8011\n",
      "Epoch 32/40\n",
      "1091/1091 [==============================] - 0s 108us/sample - loss: 0.5562 - acc: 0.8185\n",
      "Epoch 33/40\n",
      "1091/1091 [==============================] - 0s 106us/sample - loss: 0.5614 - acc: 0.8130\n",
      "Epoch 34/40\n",
      "1091/1091 [==============================] - 0s 111us/sample - loss: 0.5106 - acc: 0.8222\n",
      "Epoch 35/40\n",
      "1091/1091 [==============================] - 0s 116us/sample - loss: 0.5378 - acc: 0.8222\n",
      "Epoch 36/40\n",
      "1091/1091 [==============================] - 0s 124us/sample - loss: 0.5132 - acc: 0.8176\n",
      "Epoch 37/40\n",
      "1091/1091 [==============================] - 0s 134us/sample - loss: 0.5009 - acc: 0.8185\n",
      "Epoch 38/40\n",
      "1091/1091 [==============================] - 0s 116us/sample - loss: 0.4729 - acc: 0.8414\n",
      "Epoch 39/40\n",
      "1091/1091 [==============================] - 0s 107us/sample - loss: 0.4858 - acc: 0.8378\n",
      "Epoch 40/40\n",
      "1091/1091 [==============================] - 0s 102us/sample - loss: 0.4715 - acc: 0.8451\n"
     ]
    },
    {
     "data": {
      "text/plain": [
       "<tensorflow.python.keras.callbacks.History at 0x7fcb0c1ab198>"
      ]
     },
     "execution_count": 29,
     "metadata": {},
     "output_type": "execute_result"
    }
   ],
   "source": [
    "model_i.fit(X_itrdata,label_one_hot,epochs=40)"
   ]
  },
  {
   "cell_type": "code",
   "execution_count": 30,
   "metadata": {},
   "outputs": [],
   "source": [
    "Predicted = model_i.predict_classes(X_itedata)"
   ]
  },
  {
   "cell_type": "code",
   "execution_count": 31,
   "metadata": {},
   "outputs": [],
   "source": [
    "prob=model_i.predict(X_itedata)"
   ]
  },
  {
   "cell_type": "code",
   "execution_count": 32,
   "metadata": {},
   "outputs": [
    {
     "data": {
      "text/plain": [
       "(313, 1)"
      ]
     },
     "execution_count": 32,
     "metadata": {},
     "output_type": "execute_result"
    }
   ],
   "source": [
    "y_itedata.shape"
   ]
  },
  {
   "cell_type": "code",
   "execution_count": 33,
   "metadata": {},
   "outputs": [],
   "source": [
    "Tv = np.zeros(5)\n",
    "for i in range(np.shape(y_itedata)[0]):\n",
    "    if(y_itedata[i][0]==0):\n",
    "        Tv[0]=Tv[0]+1\n",
    "    if(y_itedata[i][0]==1):\n",
    "        Tv[1]=Tv[1]+1\n",
    "    if(y_itedata[i][0]==2):\n",
    "        Tv[2]=Tv[2]+1\n",
    "    if(y_itedata[i][0]==3):\n",
    "        Tv[3]=Tv[3]+1\n",
    "    if(y_itedata[i][0]==4):\n",
    "        Tv[4]=Tv[4]+1\n",
    "    \n",
    "\n",
    "\n",
    "\n",
    "T=np.full(int(Tv[0]),0,dtype='int')\n",
    "T = np.concatenate((T,np.full(int(Tv[1]),1,dtype='int')))\n",
    "T = np.concatenate((T,np.full(int(Tv[2]),2,dtype='int')))\n",
    "T = np.concatenate((T,np.full(int(Tv[3]),3,dtype='int')))\n",
    "T = np.concatenate((T,np.full(int(Tv[4]),4,dtype='int')))"
   ]
  },
  {
   "cell_type": "code",
   "execution_count": 34,
   "metadata": {},
   "outputs": [
    {
     "data": {
      "text/plain": [
       "<matplotlib.axes._subplots.AxesSubplot at 0x7fcae45e0208>"
      ]
     },
     "execution_count": 34,
     "metadata": {},
     "output_type": "execute_result"
    },
    {
     "data": {
      "image/png": "[encoded data removed]",
      "text/plain": [
       "<Figure size 432x288 with 2 Axes>"
      ]
     },
     "metadata": {
      "needs_background": "light"
     },
     "output_type": "display_data"
    }
   ],
   "source": [
    "func2(T,Predicted,classes=[\"1\",\"2\",\"3\"],title='Confusion matrix of ANN for Imagedata')"
   ]
  },
  {
   "cell_type": "code",
   "execution_count": 35,
   "metadata": {},
   "outputs": [
    {
     "data": {
      "image/png": "[encoded data removed]",
      "text/plain": [
       "<Figure size 432x288 with 1 Axes>"
      ]
     },
     "metadata": {
      "needs_background": "light"
     },
     "output_type": "display_data"
    }
   ],
   "source": [
    "plt.title(\"ROC of ANN for Image\")\n",
    "ROCmodf(prob,T,100)"
   ]
  },
  {
   "cell_type": "code",
   "execution_count": 36,
   "metadata": {},
   "outputs": [
    {
     "data": {
      "image/png": "[encoded data removed]",
      "text/plain": [
       "<Figure size 432x288 with 1 Axes>"
      ]
     },
     "metadata": {
      "needs_background": "light"
     },
     "output_type": "display_data"
    }
   ],
   "source": [
    "plt.title(\"DET of ANN for Image\")\n",
    "DETmodf(prob,T,100)"
   ]
  },
  {
   "cell_type": "code",
   "execution_count": null,
   "metadata": {},
   "outputs": [],
   "source": []
  },
  {
   "cell_type": "code",
   "execution_count": 54,
   "metadata": {},
   "outputs": [],
   "source": [
    "trainfiles = glob.glob('/home/moiz/Documents/PRML3/*/train/*.mfcc',recursive=True)\n",
    "testfiles = glob.glob('/home/moiz/Documents/PRML3/*/dev/*.mfcc',recursive=True)\n",
    "def redundancy_v(files,res_dim):\n",
    "    train = []\n",
    "    traincounts = []\n",
    "    for e in files:\n",
    "        a = np.loadtxt(e,skiprows=1)\n",
    "        curr = int(a.shape[0])\n",
    "        res = []\n",
    "        for i in range(int(curr)):\n",
    "            res += list(np.tile(a[i],(res_dim//curr + int(res_dim%curr>i))))\n",
    "        train+=[np.array(res)]\n",
    "        traincounts+=[curr]\n",
    "    return train,traincounts"
   ]
  },
  {
   "cell_type": "code",
   "execution_count": 55,
   "metadata": {},
   "outputs": [],
   "source": [
    "X_vtrdata,_ = redundancy_v(trainfiles,194)\n",
    "X_vtedata,_ = redundancy_v(testfiles,194)\n",
    "X_vtrdata = np.array(X_vtrdata)\n",
    "X_vtedata = np.array(X_vtedata)"
   ]
  },
  {
   "cell_type": "code",
   "execution_count": null,
   "metadata": {},
   "outputs": [],
   "source": []
  },
  {
   "cell_type": "code",
   "execution_count": 56,
   "metadata": {},
   "outputs": [],
   "source": [
    "# #not useful\n",
    "# from sklearn.decomposition import PCA\n",
    "# # pca = PCA(6)\n",
    "# X = pca.fit_transform(X)\n",
    "# devX = pca.transform(devX)\n",
    "\n",
    "mapping = {}\n",
    "mapping['o'] = 1.\n",
    "mapping['1'] = 2.\n",
    "mapping['4'] = 3.\n",
    "mapping['z'] = 4.\n",
    "mapping['6'] = 5.\n",
    "y_vtrdata=[]\n",
    "for i in trainfiles:\n",
    "    x = np.zeros(1)\n",
    "    x[0]=mapping[(i.split('/')[5])]\n",
    "    y_vtrdata.append(x)\n",
    "y_vtrdata=np.array(y_vtrdata)\n",
    "\n",
    "y_vtedata=[]\n",
    "for i in testfiles:\n",
    "    x = np.zeros(1)\n",
    "    x[0]=mapping[(i.split('/')[5])]\n",
    "    y_vtedata.append(x)\n",
    "y_vtedata=np.array(y_vtedata)"
   ]
  },
  {
   "cell_type": "code",
   "execution_count": 57,
   "metadata": {},
   "outputs": [
    {
     "name": "stdout",
     "output_type": "stream",
     "text": [
      "Model: \"sequential_3\"\n",
      "_________________________________________________________________\n",
      "Layer (type)                 Output Shape              Param #   \n",
      "=================================================================\n",
      "dense_9 (Dense)              (None, 300)               2211900   \n",
      "_________________________________________________________________\n",
      "dense_10 (Dense)             (None, 30)                9030      \n",
      "_________________________________________________________________\n",
      "dropout_3 (Dropout)          (None, 30)                0         \n",
      "_________________________________________________________________\n",
      "dense_11 (Dense)             (None, 5)                 155       \n",
      "=================================================================\n",
      "Total params: 2,221,085\n",
      "Trainable params: 2,221,085\n",
      "Non-trainable params: 0\n",
      "_________________________________________________________________\n"
     ]
    }
   ],
   "source": [
    "import tensorflow as tf\n",
    "model_v = tf.keras.models.Sequential([\n",
    "    tf.keras.layers.Dense(300, activation='relu', input_shape=(X_vtrdata.shape[1],)),\n",
    "    tf.keras.layers.Dense(30, activation='relu'),\n",
    "    tf.keras.layers.Dropout(0.5),\n",
    "    tf.keras.layers.Dense(5, activation='sigmoid')\n",
    "])\n",
    "model_v.compile(loss='categorical_crossentropy', optimizer='adam',metrics = ['accuracy'])\n",
    "model_v.summary()\n"
   ]
  },
  {
   "cell_type": "code",
   "execution_count": 58,
   "metadata": {},
   "outputs": [
    {
     "name": "stdout",
     "output_type": "stream",
     "text": [
      "(195, 5)\n"
     ]
    },
    {
     "name": "stderr",
     "output_type": "stream",
     "text": [
      "/usr/local/lib/python3.7/dist-packages/sklearn/preprocessing/_encoders.py:415: FutureWarning: The handling of integer data will change in version 0.22. Currently, the categories are determined based on the range [0, max(values)], while in the future they will be determined based on the unique values.\n",
      "If you want the future behaviour and silence this warning, you can specify \"categories='auto'\".\n",
      "In case you used a LabelEncoder before this OneHotEncoder to convert the categories to integers, then you can now use the OneHotEncoder directly.\n",
      "  warnings.warn(msg, FutureWarning)\n"
     ]
    }
   ],
   "source": [
    "from sklearn.preprocessing import OneHotEncoder \n",
    "  \n",
    "# creating one hot encoder object by default \n",
    "# entire data passed is one hot encoded \n",
    "onehotencoder = OneHotEncoder() \n",
    "  \n",
    "label_one_hot= onehotencoder.fit_transform(y_vtrdata).toarray() \n",
    "\n",
    "print(np.shape(label_one_hot))"
   ]
  },
  {
   "cell_type": "code",
   "execution_count": 59,
   "metadata": {},
   "outputs": [
    {
     "name": "stdout",
     "output_type": "stream",
     "text": [
      "Train on 195 samples\n",
      "Epoch 1/50\n",
      "195/195 [==============================] - 0s 1ms/sample - loss: 2.0910 - acc: 0.2821\n",
      "Epoch 2/50\n",
      "195/195 [==============================] - 0s 649us/sample - loss: 1.5582 - acc: 0.3744\n",
      "Epoch 3/50\n",
      "195/195 [==============================] - 0s 669us/sample - loss: 1.3858 - acc: 0.4308\n",
      "Epoch 4/50\n",
      "195/195 [==============================] - 0s 796us/sample - loss: 1.3528 - acc: 0.4513\n",
      "Epoch 5/50\n",
      "195/195 [==============================] - 0s 687us/sample - loss: 1.3176 - acc: 0.4769\n",
      "Epoch 6/50\n",
      "195/195 [==============================] - 0s 687us/sample - loss: 1.1870 - acc: 0.5744\n",
      "Epoch 7/50\n",
      "195/195 [==============================] - 0s 653us/sample - loss: 1.0705 - acc: 0.5692\n",
      "Epoch 8/50\n",
      "195/195 [==============================] - 0s 712us/sample - loss: 1.0347 - acc: 0.6359\n",
      "Epoch 9/50\n",
      "195/195 [==============================] - 0s 706us/sample - loss: 0.8956 - acc: 0.5590\n",
      "Epoch 10/50\n",
      "195/195 [==============================] - 0s 689us/sample - loss: 0.9285 - acc: 0.6103\n",
      "Epoch 11/50\n",
      "195/195 [==============================] - 0s 694us/sample - loss: 0.8637 - acc: 0.6462\n",
      "Epoch 12/50\n",
      "195/195 [==============================] - 0s 655us/sample - loss: 0.8435 - acc: 0.6205\n",
      "Epoch 13/50\n",
      "195/195 [==============================] - 0s 705us/sample - loss: 0.8633 - acc: 0.6667\n",
      "Epoch 14/50\n",
      "195/195 [==============================] - 0s 703us/sample - loss: 0.7529 - acc: 0.6872\n",
      "Epoch 15/50\n",
      "195/195 [==============================] - 0s 815us/sample - loss: 0.8134 - acc: 0.6718\n",
      "Epoch 16/50\n",
      "195/195 [==============================] - 0s 821us/sample - loss: 0.7337 - acc: 0.6821\n",
      "Epoch 17/50\n",
      "195/195 [==============================] - 0s 824us/sample - loss: 0.7441 - acc: 0.7179\n",
      "Epoch 18/50\n",
      "195/195 [==============================] - 0s 631us/sample - loss: 0.5941 - acc: 0.7333\n",
      "Epoch 19/50\n",
      "195/195 [==============================] - 0s 624us/sample - loss: 0.5935 - acc: 0.7487\n",
      "Epoch 20/50\n",
      "195/195 [==============================] - 0s 753us/sample - loss: 0.5877 - acc: 0.7333\n",
      "Epoch 21/50\n",
      "195/195 [==============================] - 0s 769us/sample - loss: 0.6013 - acc: 0.7692\n",
      "Epoch 22/50\n",
      "195/195 [==============================] - 0s 883us/sample - loss: 0.6604 - acc: 0.7846\n",
      "Epoch 23/50\n",
      "195/195 [==============================] - 0s 816us/sample - loss: 0.6241 - acc: 0.8154\n",
      "Epoch 24/50\n",
      "195/195 [==============================] - 0s 680us/sample - loss: 0.5917 - acc: 0.7487\n",
      "Epoch 25/50\n",
      "195/195 [==============================] - 0s 673us/sample - loss: 0.5264 - acc: 0.7949\n",
      "Epoch 26/50\n",
      "195/195 [==============================] - 0s 765us/sample - loss: 0.5159 - acc: 0.8256\n",
      "Epoch 27/50\n",
      "195/195 [==============================] - 0s 902us/sample - loss: 0.4818 - acc: 0.7744\n",
      "Epoch 28/50\n",
      "195/195 [==============================] - 0s 856us/sample - loss: 0.5193 - acc: 0.7897\n",
      "Epoch 29/50\n",
      "195/195 [==============================] - 0s 707us/sample - loss: 0.4803 - acc: 0.8000\n",
      "Epoch 30/50\n",
      "195/195 [==============================] - 0s 674us/sample - loss: 0.4417 - acc: 0.8359\n",
      "Epoch 31/50\n",
      "195/195 [==============================] - 0s 663us/sample - loss: 0.3854 - acc: 0.8205\n",
      "Epoch 32/50\n",
      "195/195 [==============================] - 0s 746us/sample - loss: 0.3529 - acc: 0.8615\n",
      "Epoch 33/50\n",
      "195/195 [==============================] - 0s 716us/sample - loss: 0.4660 - acc: 0.8667\n",
      "Epoch 34/50\n",
      "195/195 [==============================] - 0s 840us/sample - loss: 0.4386 - acc: 0.8564\n",
      "Epoch 35/50\n",
      "195/195 [==============================] - 0s 923us/sample - loss: 0.3686 - acc: 0.8410\n",
      "Epoch 36/50\n",
      "195/195 [==============================] - 0s 720us/sample - loss: 0.3731 - acc: 0.8564\n",
      "Epoch 37/50\n",
      "195/195 [==============================] - 0s 726us/sample - loss: 0.3493 - acc: 0.8872\n",
      "Epoch 38/50\n",
      "195/195 [==============================] - 0s 652us/sample - loss: 0.3200 - acc: 0.8718\n",
      "Epoch 39/50\n",
      "195/195 [==============================] - 0s 687us/sample - loss: 0.2988 - acc: 0.8564\n",
      "Epoch 40/50\n",
      "195/195 [==============================] - 0s 700us/sample - loss: 0.3309 - acc: 0.8308\n",
      "Epoch 41/50\n",
      "195/195 [==============================] - 0s 684us/sample - loss: 0.2812 - acc: 0.8872\n",
      "Epoch 42/50\n",
      "195/195 [==============================] - 0s 688us/sample - loss: 0.2778 - acc: 0.8974\n",
      "Epoch 43/50\n",
      "195/195 [==============================] - 0s 750us/sample - loss: 0.3047 - acc: 0.8615\n",
      "Epoch 44/50\n",
      "195/195 [==============================] - 0s 659us/sample - loss: 0.2991 - acc: 0.8872\n",
      "Epoch 45/50\n",
      "195/195 [==============================] - 0s 682us/sample - loss: 0.2556 - acc: 0.8564\n",
      "Epoch 46/50\n",
      "195/195 [==============================] - 0s 719us/sample - loss: 0.2954 - acc: 0.8974\n",
      "Epoch 47/50\n",
      "195/195 [==============================] - 0s 755us/sample - loss: 0.2465 - acc: 0.8872\n",
      "Epoch 48/50\n",
      "195/195 [==============================] - 0s 665us/sample - loss: 0.2729 - acc: 0.9077\n",
      "Epoch 49/50\n",
      "195/195 [==============================] - 0s 756us/sample - loss: 0.3250 - acc: 0.8564\n",
      "Epoch 50/50\n",
      "195/195 [==============================] - 0s 671us/sample - loss: 0.2547 - acc: 0.9077\n"
     ]
    },
    {
     "data": {
      "text/plain": [
       "<tensorflow.python.keras.callbacks.History at 0x7fcab941fb70>"
      ]
     },
     "execution_count": 59,
     "metadata": {},
     "output_type": "execute_result"
    }
   ],
   "source": [
    "model_v.fit(X_vtrdata,label_one_hot,epochs=50)"
   ]
  },
  {
   "cell_type": "code",
   "execution_count": 60,
   "metadata": {},
   "outputs": [
    {
     "name": "stdout",
     "output_type": "stream",
     "text": [
      "(60, 5)\n"
     ]
    },
    {
     "name": "stderr",
     "output_type": "stream",
     "text": [
      "/usr/local/lib/python3.7/dist-packages/sklearn/preprocessing/_encoders.py:415: FutureWarning: The handling of integer data will change in version 0.22. Currently, the categories are determined based on the range [0, max(values)], while in the future they will be determined based on the unique values.\n",
      "If you want the future behaviour and silence this warning, you can specify \"categories='auto'\".\n",
      "In case you used a LabelEncoder before this OneHotEncoder to convert the categories to integers, then you can now use the OneHotEncoder directly.\n",
      "  warnings.warn(msg, FutureWarning)\n"
     ]
    }
   ],
   "source": [
    "from sklearn.preprocessing import OneHotEncoder \n",
    "  \n",
    "# creating one hot encoder object by default \n",
    "# entire data passed is one hot encoded \n",
    "onehotencoder = OneHotEncoder() \n",
    "  \n",
    "label_one_hot= onehotencoder.fit_transform(y_vtedata).toarray() \n",
    "\n",
    "print(np.shape(label_one_hot))"
   ]
  },
  {
   "cell_type": "code",
   "execution_count": 61,
   "metadata": {},
   "outputs": [
    {
     "data": {
      "text/plain": [
       "(60, 7372)"
      ]
     },
     "execution_count": 61,
     "metadata": {},
     "output_type": "execute_result"
    }
   ],
   "source": [
    "X_vtedata.shape"
   ]
  },
  {
   "cell_type": "code",
   "execution_count": 62,
   "metadata": {},
   "outputs": [],
   "source": [
    "#model_v.evaluate(X_vtedata,label_one_hot)"
   ]
  },
  {
   "cell_type": "code",
   "execution_count": 63,
   "metadata": {},
   "outputs": [],
   "source": [
    "Predicted = model_v.predict_classes(X_vtedata)\n",
    "prob=model_v.predict(X_vtedata)\n",
    "Tv = np.zeros(5)\n",
    "for i in range(np.shape(y_vtedata)[0]):\n",
    "    if(y_vtedata[i][0]==1):\n",
    "        Tv[0]=Tv[0]+1\n",
    "    if(y_vtedata[i][0]==2):\n",
    "        Tv[1]=Tv[1]+1\n",
    "    if(y_vtedata[i][0]==3):\n",
    "        Tv[2]=Tv[2]+1\n",
    "    if(y_vtedata[i][0]==4):\n",
    "        Tv[3]=Tv[3]+1\n",
    "    if(y_vtedata[i][0]==5):\n",
    "        Tv[4]=Tv[4]+1\n",
    "T=np.full(int(Tv[0]),0,dtype='int')\n",
    "T = np.concatenate((T,np.full(int(Tv[1]),1,dtype='int')))\n",
    "T = np.concatenate((T,np.full(int(Tv[2]),2,dtype='int')))\n",
    "T = np.concatenate((T,np.full(int(Tv[3]),3,dtype='int')))\n",
    "T = np.concatenate((T,np.full(int(Tv[4]),4,dtype='int')))"
   ]
  },
  {
   "cell_type": "code",
   "execution_count": 64,
   "metadata": {},
   "outputs": [
    {
     "data": {
      "text/plain": [
       "array([0, 0, 0, 0, 0, 2, 0, 0, 0, 0, 0, 0, 1, 1, 1, 1, 1, 1, 1, 1, 1, 1,\n",
       "       1, 1, 2, 2, 2, 2, 2, 1, 2, 2, 2, 2, 1, 0, 3, 3, 3, 3, 3, 3, 3, 3,\n",
       "       3, 3, 3, 3, 4, 4, 4, 4, 4, 4, 4, 4, 4, 4, 4, 4])"
      ]
     },
     "execution_count": 64,
     "metadata": {},
     "output_type": "execute_result"
    }
   ],
   "source": [
    "Predicted"
   ]
  },
  {
   "cell_type": "code",
   "execution_count": 65,
   "metadata": {},
   "outputs": [
    {
     "data": {
      "text/plain": [
       "<matplotlib.axes._subplots.AxesSubplot at 0x7fcab93f6da0>"
      ]
     },
     "execution_count": 65,
     "metadata": {},
     "output_type": "execute_result"
    },
    {
     "data": {
      "image/png": "[encoded data removed]",
      "text/plain": [
       "<Figure size 432x288 with 2 Axes>"
      ]
     },
     "metadata": {
      "needs_background": "light"
     },
     "output_type": "display_data"
    }
   ],
   "source": [
    "func2(T,Predicted,classes=[\"1\",\"2\",\"3\"],title='Confusion matrix of ANN for voice')"
   ]
  },
  {
   "cell_type": "code",
   "execution_count": 66,
   "metadata": {},
   "outputs": [
    {
     "data": {
      "image/png": "[encoded data removed]",
      "text/plain": [
       "<Figure size 432x288 with 1 Axes>"
      ]
     },
     "metadata": {
      "needs_background": "light"
     },
     "output_type": "display_data"
    }
   ],
   "source": [
    "plt.title(\"ROC of ANN for Speech\")\n",
    "ROCmodf(prob,T,100)"
   ]
  },
  {
   "cell_type": "code",
   "execution_count": 67,
   "metadata": {},
   "outputs": [
    {
     "data": {
      "image/png": "[encoded data removed]",
      "text/plain": [
       "<Figure size 432x288 with 1 Axes>"
      ]
     },
     "metadata": {
      "needs_background": "light"
     },
     "output_type": "display_data"
    }
   ],
   "source": [
    "plt.title(\"DET of ANN for Speech\")\n",
    "DETmodf(prob,T,500)"
   ]
  },
  {
   "cell_type": "code",
   "execution_count": null,
   "metadata": {},
   "outputs": [],
   "source": []
  }
 ],
 "metadata": {
  "kernelspec": {
   "display_name": "Python 3",
   "language": "python",
   "name": "python3"
  },
  "language_info": {
   "codemirror_mode": {
    "name": "ipython",
    "version": 3
   },
   "file_extension": ".py",
   "mimetype": "text/x-python",
   "name": "python",
   "nbconvert_exporter": "python",
   "pygments_lexer": "ipython3",
   "version": "3.7.3"
  }
 },
 "nbformat": 4,
 "nbformat_minor": 2
}
