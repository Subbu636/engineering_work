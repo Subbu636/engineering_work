{
 "cells": [
  {
   "cell_type": "code",
   "execution_count": 1,
   "metadata": {},
   "outputs": [
    {
     "ename": "ImportError",
     "evalue": "cannot import name 'PCA' from 'matplotlib.mlab' (/home/subbu/anaconda3/lib/python3.7/site-packages/matplotlib/mlab.py)",
     "output_type": "error",
     "traceback": [
      "\u001b[0;31m---------------------------------------------------------------------------\u001b[0m",
      "\u001b[0;31mImportError\u001b[0m                               Traceback (most recent call last)",
      "\u001b[0;32m<ipython-input-1-f291eab33439>\u001b[0m in \u001b[0;36m<module>\u001b[0;34m\u001b[0m\n\u001b[1;32m      4\u001b[0m \u001b[0;32mfrom\u001b[0m \u001b[0mmath\u001b[0m \u001b[0;32mimport\u001b[0m \u001b[0msqrt\u001b[0m\u001b[0;34m\u001b[0m\u001b[0;34m\u001b[0m\u001b[0m\n\u001b[1;32m      5\u001b[0m \u001b[0;32mimport\u001b[0m \u001b[0mmath\u001b[0m\u001b[0;34m\u001b[0m\u001b[0;34m\u001b[0m\u001b[0m\n\u001b[0;32m----> 6\u001b[0;31m \u001b[0;32mfrom\u001b[0m \u001b[0mmatplotlib\u001b[0m\u001b[0;34m.\u001b[0m\u001b[0mmlab\u001b[0m \u001b[0;32mimport\u001b[0m \u001b[0mPCA\u001b[0m\u001b[0;34m\u001b[0m\u001b[0;34m\u001b[0m\u001b[0m\n\u001b[0m\u001b[1;32m      7\u001b[0m \u001b[0;32mimport\u001b[0m \u001b[0mnumpy\u001b[0m \u001b[0;32mas\u001b[0m \u001b[0mnp\u001b[0m\u001b[0;34m\u001b[0m\u001b[0;34m\u001b[0m\u001b[0m\n\u001b[1;32m      8\u001b[0m \u001b[0;32mimport\u001b[0m \u001b[0mnumpy\u001b[0m\u001b[0;34m.\u001b[0m\u001b[0mlinalg\u001b[0m \u001b[0;32mas\u001b[0m \u001b[0mlinalg\u001b[0m\u001b[0;34m\u001b[0m\u001b[0;34m\u001b[0m\u001b[0m\n",
      "\u001b[0;31mImportError\u001b[0m: cannot import name 'PCA' from 'matplotlib.mlab' (/home/subbu/anaconda3/lib/python3.7/site-packages/matplotlib/mlab.py)"
     ]
    }
   ],
   "source": [
    "import pandas as pd\n",
    "import matplotlib.pyplot as plt\n",
    "from scipy.stats import multivariate_normal\n",
    "from math import sqrt\n",
    "import math\n",
    "from matplotlib.mlab import PCA\n",
    "import numpy as np\n",
    "import numpy.linalg as linalg\n",
    "from random import sample\n",
    "import csv\n",
    "import copy\n",
    "import os\n",
    "import glob\n",
    "fpath = r'/home/moiz/Documents/PRMLlab4/forest/train'\n",
    "fdpath = r'/home/moiz/Documents/PRMLlab4/forest/dev'\n",
    "\n",
    "hpath = r'/home/moiz/Documents/PRMLlab4/highway/train'\n",
    "hdpath = r'/home/moiz/Documents/PRMLlab4/highway/dev'\n",
    "ipath = r'/home/moiz/Documents/PRMLlab4/insidecity/train'\n",
    "mpath = r'/home/moiz/Documents/PRMLlab4/mountain/train'\n",
    "spath = r'/home/moiz/Documents/PRMLlab4/street/train'\n",
    "sypath = r'/home/moiz/Documents/PRMLlab4/14'\n",
    "datal = []\n",
    "ffilenames=glob.glob(fpath+\"/*.jpg_color_edh_entropy\")\n",
    "for file in ffilenames:\n",
    "    data = pd.read_csv(file,index_col=None,header=0,delimiter=' ')\n",
    "    datal.append(data.values)\n",
    "comb_np = np.vstack(datal)\n",
    "fframe = pd.DataFrame(comb_np)\n",
    "\n",
    "datal = []\n",
    "ffilenames=glob.glob(fdpath+\"/*.jpg_color_edh_entropy\")\n",
    "for file in ffilenames:\n",
    "    data = pd.read_csv(file,index_col=None,header=0,delimiter=' ')\n",
    "    datal.append(data.values)\n",
    "comb_np = np.vstack(datal)\n",
    "fdframe = pd.DataFrame(comb_np)\n",
    "\n",
    "datal = []\n",
    "hfilenames=glob.glob(hpath+\"/*.jpg_color_edh_entropy\")\n",
    "for file in hfilenames:\n",
    "    data = pd.read_csv(file,index_col=None,header=0,delimiter=' ')\n",
    "    datal.append(data.values)\n",
    "comb_np = np.vstack(datal)\n",
    "hframe = pd.DataFrame(comb_np)\n",
    "#print(hframe.loc[:,1])\n",
    "\n",
    "datal = []\n",
    "hfilenames=glob.glob(hdpath+\"/*.jpg_color_edh_entropy\")\n",
    "for file in hfilenames:\n",
    "    data = pd.read_csv(file,index_col=None,header=0,delimiter=' ')\n",
    "    datal.append(data.values)\n",
    "comb_np = np.vstack(datal)\n",
    "hdframe = pd.DataFrame(comb_np)\n",
    "\n",
    "datal = []\n",
    "ifilenames=glob.glob(ipath+\"/*.jpg_color_edh_entropy\")\n",
    "for file in ifilenames:\n",
    "    data = pd.read_csv(file,index_col=None,header=0,delimiter=' ')\n",
    "    datal.append(data.values)\n",
    "comb_np = np.vstack(datal)\n",
    "iframe = pd.DataFrame(comb_np)\n",
    "#print(iframe.loc[:,1])\n",
    "datal = []\n",
    "mfilenames=glob.glob(mpath+\"/*.jpg_color_edh_entropy\")\n",
    "for file in mfilenames:\n",
    "    data = pd.read_csv(file,index_col=None,header=0,delimiter=' ')\n",
    "    datal.append(data.values)\n",
    "comb_np = np.vstack(datal)\n",
    "mframe = pd.DataFrame(comb_np)\n",
    "\n",
    "datal = []\n",
    "sfilenames=glob.glob(spath+\"/*.jpg_color_edh_entropy\")\n",
    "for file in sfilenames:\n",
    "    data = pd.read_csv(file,index_col=None,header=0,delimiter=' ')\n",
    "    datal.append(data.values)\n",
    "comb_np = np.vstack(datal)\n",
    "sframe = pd.DataFrame(comb_np)\n",
    "\n",
    "\n",
    "data = np.loadtxt(sypath+\"/train.txt\",delimiter=\",\")\n",
    "labels = np.reshape(data[:,2],(-1,1))\n",
    "\n",
    "data1=data[np.nonzero(labels[:,0]==1)]\n",
    "sydata1=pd.DataFrame(data1,index=None)\n",
    "sydata1=sydata1.loc[:,0:1]\n",
    "\n",
    "data2=data[np.nonzero(labels[:,0]==2)]\n",
    "sydata2=pd.DataFrame(data2,index=None)\n",
    "sydata2=sydata2.loc[:,0:1]\n",
    "\n",
    "sydata1.reset_index()\n",
    "sydata2.reset_index()\n",
    "\n",
    "data = np.loadtxt(sypath+\"/dev.txt\",delimiter=\",\")\n",
    "labels = np.reshape(data[:,2],(-1,1))\n",
    "data1=data[np.nonzero(labels[:,0]==1)]\n",
    "syddata1=pd.DataFrame(data1,index=None)\n",
    "syddata1=syddata1.loc[:,0:1]\n",
    "data2=data[np.nonzero(labels[:,0]==2)]\n",
    "syddata2=pd.DataFrame(data2,index=None)\n",
    "syddata2=syddata2.loc[:,0:1]\n",
    "syddata1.reset_index()\n",
    "syddata2.reset_index()\n",
    "print(fframe.loc[0,:])\n",
    "#print(fframe.loc[1,:])\n",
    "print(syddata1.loc[0,:])"
   ]
  },
  {
   "cell_type": "code",
   "execution_count": null,
   "metadata": {},
   "outputs": [],
   "source": [
    "def PCA_numpy(data, n_components=2):\n",
    "    \n",
    "    #1nd step is to find covarience matrix\n",
    "    data_vector = []\n",
    "    for i in range(data.shape[1]):\n",
    "        data_vector.append(data.loc[:, i])\n",
    "    \n",
    "    cov_matrix = np.cov(data_vector)\n",
    "    \n",
    "    #2rd step is to compute eigen vectors and eigne values\n",
    "    eig_values, eig_vectors = np.linalg.eig(cov_matrix)\n",
    "    eig_values = np.reshape(eig_values, (len(cov_matrix), 1))\n",
    "    \n",
    "    #Make pairs\n",
    "    eig_pairs = []\n",
    "    for i in range(len(eig_values)):\n",
    "         eig_pairs.append([np.abs(eig_values[i]), eig_vectors[:,i]])\n",
    "    \n",
    "    eig_pairs.sort()\n",
    "    eig_pairs.reverse()\n",
    "    \n",
    "    #This PCA is only for 2 components\n",
    "    reduced_data = np.hstack((eig_pairs[0][1].reshape(len(eig_pairs[0][1]),1), eig_pairs[1][1].reshape(len(eig_pairs[0][1]),1)))\n",
    "                      \n",
    "    return data.dot(reduced_data)\n"
   ]
  },
  {
   "cell_type": "code",
   "execution_count": 3,
   "metadata": {},
   "outputs": [
    {
     "data": {
      "image/png": "[encoded data removed]",
      "text/plain": [
       "<Figure size 432x288 with 1 Axes>"
      ]
     },
     "metadata": {
      "needs_background": "light"
     },
     "output_type": "display_data"
    }
   ],
   "source": [
    "fresult=PCA_numpy(fframe)\n",
    "hresult=PCA_numpy(hframe)\n",
    "iresult=PCA_numpy(iframe)\n",
    "mresult=PCA_numpy(mframe)\n",
    "sresult=PCA_numpy(sframe)\n",
    "\n",
    "plt.scatter(fresult.loc[:,0],fresult.loc[:,1])\n",
    "plt.scatter(hresult.loc[:,0],hresult.loc[:,1])\n",
    "plt.scatter(iresult.loc[:,0],iresult.loc[:,1])\n",
    "plt.scatter(mresult.loc[:,0],mresult.loc[:,1])\n",
    "plt.scatter(sresult.loc[:,0],sresult.loc[:,1])\n",
    "\n",
    "plt.show()"
   ]
  },
  {
   "cell_type": "code",
   "execution_count": 4,
   "metadata": {},
   "outputs": [],
   "source": [
    "def initializecentroids(data,k):\n",
    "    rand_ids = sample(range(data.shape[0]),k)\n",
    "    centroids = []\n",
    "    for i in rand_ids:\n",
    "        d = data.loc[i,:]\n",
    "        centroids.append(d)\n",
    "    #print(centroids)\n",
    "    return centroids\n",
    "\n"
   ]
  },
  {
   "cell_type": "code",
   "execution_count": 5,
   "metadata": {},
   "outputs": [],
   "source": [
    "def euclid_dist(x,y):\n",
    "    n=len(x)\n",
    "    s=0\n",
    "    for i in range(n):\n",
    "        sq = (x[i]-y[i])**2\n",
    "        s +=sq\n",
    "    return sqrt(s)\n"
   ]
  },
  {
   "cell_type": "code",
   "execution_count": 6,
   "metadata": {},
   "outputs": [],
   "source": [
    "def assigncluster(data,k,centroids):\n",
    "    acluster=[]\n",
    "    for i in range(data.shape[0]):\n",
    "        minind=0\n",
    "        m=1000000\n",
    "        for j in range(len(centroids)):\n",
    "            a = euclid_dist(data.loc[i,:],centroids[j])\n",
    "            if a <= m:\n",
    "                m=a\n",
    "                minind=j\n",
    "        acluster.append(minind)\n",
    "    return acluster           \n"
   ]
  },
  {
   "cell_type": "code",
   "execution_count": 7,
   "metadata": {},
   "outputs": [],
   "source": [
    "def meaneuclid(datalist):\n",
    "    d=[]\n",
    "    for i in range(len(datalist[0])):\n",
    "        m=0\n",
    "        for j in range(len(datalist)):\n",
    "            m += datalist[j][i]\n",
    "        d.append(m/(len(datalist)))\n",
    "        \n",
    "    return d\n"
   ]
  },
  {
   "cell_type": "code",
   "execution_count": 8,
   "metadata": {},
   "outputs": [],
   "source": [
    "def estimcentroid(data,k,assclusters):\n",
    "    centroids = []\n",
    "    dp=[]\n",
    "    for i in range(k):\n",
    "        dp=[]\n",
    "        for j in range(len(assclusters)):\n",
    "            if assclusters[j]==i:\n",
    "                dp.append(data.loc[j,:])\n",
    "        #print(dp)\n",
    "        #print(centroids)\n",
    "        centroids.append(meaneuclid(dp))\n",
    "    return centroids"
   ]
  },
  {
   "cell_type": "code",
   "execution_count": 9,
   "metadata": {},
   "outputs": [],
   "source": [
    "def kmeans(data,k):\n",
    "    centroids = initializecentroids(data,k)\n",
    "    iter_num=1\n",
    "    MAX=30\n",
    "    while iter_num <= MAX:\n",
    "        assignedclusters = assigncluster(data,k,centroids)\n",
    "        #print(assignedclusters)\n",
    "        oldcentroids = copy.deepcopy(centroids)\n",
    "        centroids = estimcentroid(data,k,assignedclusters)\n",
    "        iter_num+=1\n",
    "   # print (assignedclusters)\n",
    "    return assignedclusters,centroids      "
   ]
  },
  {
   "cell_type": "code",
   "execution_count": 10,
   "metadata": {},
   "outputs": [],
   "source": [
    "#meaneuclid([[2,3,4],[3,4,5]])\n",
    "#kmeans(fframe,2)\n",
    "# ac,c=kmeans(sydata2,2)\n",
    "# x1=[]\n",
    "# x2=[]\n",
    "# y2=[]\n",
    "# y1=[]\n",
    "# for i in range(sydata2.shape[0]):\n",
    "#     if ac[i]==1:\n",
    "#         x1.append(sydata2.loc[i,0])\n",
    "#         y1.append(sydata2.loc[i,1])\n",
    "#     else:\n",
    "#         x2.append(sydata2.loc[i,0])\n",
    "#         y2.append(sydata2.loc[i,1])\n",
    "# plt.scatter(x1,y1)\n",
    "# plt.scatter(x2,y2)\n",
    "# plt.show()\n",
    "        "
   ]
  },
  {
   "cell_type": "code",
   "execution_count": 39,
   "metadata": {},
   "outputs": [],
   "source": [
    "def initializeGMM(data,k,d):\n",
    "    aclusters,centroids= kmeans(data,k)\n",
    "    Covmat=[]\n",
    "    N = data.shape[0]\n",
    "    Pi=[]\n",
    "    for i in range(k):\n",
    "        dp=[]\n",
    "        n=0\n",
    "        for j in range(len(aclusters)):\n",
    "            if aclusters[j]==i:\n",
    "                n+=1\n",
    "                dp.append(data.loc[j,:])\n",
    "        Pi.append(n/N)\n",
    "        Sig=np.cov(dp,rowvar=False)\n",
    "        #print(Sig.shape[1])\n",
    "        if d:\n",
    "            for l in range(Sig.shape[0]):\n",
    "                for m in range(Sig.shape[1]):\n",
    "                    if l!=m:\n",
    "                        Sig[l][m]=0\n",
    "        Covmat.append(Sig)\n",
    "    return centroids,Covmat,Pi\n",
    "    \n",
    "       "
   ]
  },
  {
   "cell_type": "code",
   "execution_count": 38,
   "metadata": {},
   "outputs": [],
   "source": [
    "def gaussianf(x,m,cov):\n",
    "    d = (-0.5)*x*inv(cov)*np.transpose(x)\n",
    "    modulo = det(cov)\n",
    "    K = (1/(2*pi*sqrt(modulo)))*exp(d)\n",
    "    return K"
   ]
  },
  {
   "cell_type": "code",
   "execution_count": 37,
   "metadata": {},
   "outputs": [],
   "source": [
    "def norm_pdf_multivariate(x, mu, sigma):\n",
    "    size = len(x)\n",
    "    if size == len(mu) and (size, size) == sigma.shape:\n",
    "        det = linalg.det(sigma)\n",
    "        if det == 0:\n",
    "            raise NameError(\"The covariance matrix can't be singular\")\n",
    "        pi=3.14\n",
    "        norm_const = 1.0/ ( math.pow((2*pi),float(size)/2) * math.pow(det,1.0/2) )\n",
    "        x_mu = np.matrix(x - mu)\n",
    "        inverse=linalg.inv(sigma)     \n",
    "        result = math.pow(math.e, -0.5 * (x_mu * inverse * x_mu.T))\n",
    "        #print(det)\n",
    "        return norm_const * result"
   ]
  },
  {
   "cell_type": "code",
   "execution_count": 36,
   "metadata": {},
   "outputs": [],
   "source": [
    "def likelihood(data,Covmat,means,Pi,k):\n",
    "    p = 0\n",
    "    for i in range(data.shape[0]):\n",
    "        sc=0\n",
    "        for j in range(k):\n",
    "            #mn=multivariate_normal(mean=means[j],cov=Covmat[j])\n",
    "            #print(mn.pdf(data.loc[i,:]))\n",
    "            #a=Normal(data.loc[i,:],means[j],Covmat[j],data.loc[i,:].shape[0])\n",
    "            #print(Covmat[j])\n",
    "            b=norm_pdf_multivariate(data.loc[i,:],means[j],Covmat[j])\n",
    "            sc = sc+Pi[j]*b\n",
    "        p +=np.log(sc)\n",
    "    return p"
   ]
  },
  {
   "cell_type": "code",
   "execution_count": 35,
   "metadata": {},
   "outputs": [],
   "source": [
    "def E(data,means,cov,k,Pi):\n",
    "    n = data.shape[0]\n",
    "    Gam =np.zeros([n,k])\n",
    "    s = np.zeros(n)\n",
    "    for i in range(n):\n",
    "        temp = np.zeros(k)\n",
    "        #print(data.loc[i,:])\n",
    "        for j in range(k):\n",
    "            temp[j]=Pi[j] * float(norm_pdf_multivariate(data.loc[i,:],means[j],cov[j]))\n",
    "            s[i]=s[i]+temp[j]\n",
    "        for l in range(k):\n",
    "            Gam[i][l]=temp[l]/s[i]\n",
    "    return Gam"
   ]
  },
  {
   "cell_type": "code",
   "execution_count": 16,
   "metadata": {},
   "outputs": [
    {
     "ename": "NameError",
     "evalue": "name 'mean' is not defined",
     "output_type": "error",
     "traceback": [
      "\u001b[0;31m---------------------------------------------------------------------------\u001b[0m",
      "\u001b[0;31mNameError\u001b[0m                                 Traceback (most recent call last)",
      "\u001b[0;32m<ipython-input-16-b90546868601>\u001b[0m in \u001b[0;36m<module>\u001b[0;34m\u001b[0m\n\u001b[1;32m      3\u001b[0m \u001b[0;31m#print(Cov)\u001b[0m\u001b[0;34m\u001b[0m\u001b[0;34m\u001b[0m\u001b[0;34m\u001b[0m\u001b[0m\n\u001b[1;32m      4\u001b[0m \u001b[0;31m#print(sydata1)\u001b[0m\u001b[0;34m\u001b[0m\u001b[0;34m\u001b[0m\u001b[0;34m\u001b[0m\u001b[0m\n\u001b[0;32m----> 5\u001b[0;31m \u001b[0mG\u001b[0m\u001b[0;34m=\u001b[0m\u001b[0mE\u001b[0m\u001b[0;34m(\u001b[0m\u001b[0msydata1\u001b[0m\u001b[0;34m,\u001b[0m\u001b[0mmean\u001b[0m\u001b[0;34m,\u001b[0m\u001b[0mCov\u001b[0m\u001b[0;34m,\u001b[0m\u001b[0;36m3\u001b[0m\u001b[0;34m,\u001b[0m\u001b[0mPi\u001b[0m\u001b[0;34m)\u001b[0m\u001b[0;34m\u001b[0m\u001b[0;34m\u001b[0m\u001b[0m\n\u001b[0m",
      "\u001b[0;31mNameError\u001b[0m: name 'mean' is not defined"
     ]
    }
   ],
   "source": [
    "#mean,Cov,Pi=initializeGMM(sydata1,3)\n",
    "\n",
    "#print(Cov)\n",
    "#print(sydata1)\n",
    "#G=E(sydata1,mean,Cov,3,Pi)\n"
   ]
  },
  {
   "cell_type": "code",
   "execution_count": 34,
   "metadata": {},
   "outputs": [],
   "source": [
    "def M(data,Gamma,k,d):\n",
    "    meannew=[]\n",
    "    Signew=[]\n",
    "    Pinew=[]\n",
    "    n = data.shape[0]\n",
    "    for i in range(k):\n",
    "        s =0\n",
    "        nk=0\n",
    "        for j in range(n):\n",
    "            s = s + Gamma[j][i]*data.loc[j,:]\n",
    "            nk+=Gamma[j][i]\n",
    "        meannew.append(s/nk)\n",
    "    d = meannew[0].shape[0];\n",
    "    for i in range(k):\n",
    "        s =0\n",
    "        nk=0\n",
    "        for j in range(n):\n",
    "                    dtemp = (data.loc[j,:].values).reshape(d, 1)\n",
    "                    mtemp = (meannew[i].values).reshape(d, 1)\n",
    "                    diff_temp = dtemp - mtemp\n",
    "                    s += Gamma[j][i] * np.dot(diff_temp, diff_temp.T)\n",
    "                    nk+=Gamma[j][i]\n",
    "        if d:\n",
    "            for l in range(s.shape[0]):\n",
    "                for m in range(s.shape[1]):\n",
    "                    if l!=m:\n",
    "                        s[l][m]=0\n",
    "        Signew.append(s/nk)\n",
    "    for i in range(k):\n",
    "        s =0\n",
    "        for j in range(n):\n",
    "            s = s + Gamma[j][i]\n",
    "        Pinew.append(s/n)\n",
    "    return meannew,Signew,Pinew\n",
    "            "
   ]
  },
  {
   "cell_type": "code",
   "execution_count": 40,
   "metadata": {},
   "outputs": [
    {
     "name": "stdout",
     "output_type": "stream",
     "text": [
      "[0    -4.935487\n",
      "1    11.492139\n",
      "dtype: float64, 0   -8.937502\n",
      "1    8.347832\n",
      "dtype: float64]\n",
      "[array([[2.90580587, 0.        ],\n",
      "       [0.        , 3.98450651]]), array([[1.19306927, 0.        ],\n",
      "       [0.        , 3.84727507]])]\n",
      "[0.575094284859421, 0.42490571514057873]\n"
     ]
    }
   ],
   "source": [
    "mean,Cov,Pi=initializeGMM(sydata1,2,True)\n",
    "\n",
    "#print(Cov[0].shape)\n",
    "#print(sydata1)\n",
    "G=E(sydata1,mean,Cov,2,Pi)\n",
    "\n",
    "mean,Cov,Pi=M(sydata1,G,2,True)\n",
    "print(mean)\n",
    "print(Cov)\n",
    "print(Pi)\n",
    "#G=E(sydata1,mean,Cov,2,Pi)"
   ]
  },
  {
   "cell_type": "code",
   "execution_count": 41,
   "metadata": {},
   "outputs": [],
   "source": [
    "def GMM(data,k,d):\n",
    "    iter_g=1\n",
    "    mean,Cov,Pi=initializeGMM(data,k,d)\n",
    "    newl=0\n",
    "    while (iter_g <= 5):\n",
    "        print(iter_g)\n",
    "        oldl=newl\n",
    "        #print(Cov)\n",
    "        newl=likelihood(data,Cov,mean,Pi,k)\n",
    "        if( int(oldl) == int(newl)):\n",
    "            break\n",
    "        G= E(data,mean,Cov,k,Pi)\n",
    "        mean,Cov,Pi=M(data,G,k,d)\n",
    "        #print(Cov)\n",
    "        iter_g=iter_g+1\n",
    "    return mean,Cov,Pi  \n",
    "            "
   ]
  },
  {
   "cell_type": "code",
   "execution_count": 19,
   "metadata": {},
   "outputs": [],
   "source": [
    "def plotchinese(ddata,data,k):\n",
    "    m,c,p=GMM(data,k)\n",
    "    plt.scatter(ddata.loc[:,0],ddata.loc[:,1])\n",
    "    for i in range(k):\n",
    "        xo=m[i][0]\n",
    "        yo=m[i][1]\n",
    "        x = np.linspace(xo-2,xo+2,100)\n",
    "        y = np.linspace(yo-2,yo+2,100)\n",
    "        z = np.zeros([100,100])\n",
    "        for j in range(100):\n",
    "            for k in range(100):\n",
    "                z[j][k]=norm_pdf_multivariate([x[j],y[k]],m[i],c[i])\n",
    "        plt.contour(x,y,z)\n",
    "    return"
   ]
  },
  {
   "cell_type": "code",
   "execution_count": 20,
   "metadata": {},
   "outputs": [],
   "source": [
    "def classifyvalue(m,c,p,x):\n",
    "    v=0\n",
    "    for i in range(len(m)):\n",
    "        v = v + p[i]*norm_pdf_multivariate(x,m[i],c[i])\n",
    "    return v"
   ]
  },
  {
   "cell_type": "code",
   "execution_count": 21,
   "metadata": {},
   "outputs": [],
   "source": [
    "def plotclasschinese(x,y,k,m,c,p):\n",
    "    plt.scatter(x,y)\n",
    "    for i in range(k):\n",
    "        xo=m[i][0]\n",
    "        yo=m[i][1]\n",
    "        x = np.linspace(xo-3,xo+3,100)\n",
    "        y = np.linspace(yo-3,yo+3,100)\n",
    "        z = np.zeros([100,100])\n",
    "        for j in range(100):\n",
    "            for k in range(100):\n",
    "                z[j][k]=norm_pdf_multivariate([x[j],y[k]],m[i],c[i])\n",
    "        plt.contour(x,y,z)\n",
    "    return"
   ]
  },
  {
   "cell_type": "code",
   "execution_count": 42,
   "metadata": {},
   "outputs": [],
   "source": [
    "def plotclassified(ddata,data,k,n,d):\n",
    "    mc = []\n",
    "    cc = []\n",
    "    pc = []\n",
    "    cdata = []\n",
    "    for i in range(n):\n",
    "        cdata.append([])\n",
    "    for i in range(n):\n",
    "        m,c,p = GMM(data[i],k,d)\n",
    "        mc.append(m)\n",
    "        cc.append(c)\n",
    "        pc.append(p)\n",
    "    ascvals = []\n",
    "    nc =0\n",
    "    for i in range(n):\n",
    "        for j in range(ddata[i].shape[0]):\n",
    "            ma=0\n",
    "            maxind=-1\n",
    "            for l in range(n):\n",
    "                a = classifyvalue(mc[l],cc[l],pc[l],ddata[i].loc[j,:])\n",
    "                #print(a)\n",
    "                if a >= ma:\n",
    "                    ma=a\n",
    "                    maxind=l\n",
    "            if i==maxind:\n",
    "                nc=nc+1\n",
    "            cdata[maxind].append(ddata[i].loc[j,:])            \n",
    "    return mc,cc,pc,cdata,nc"
   ]
  },
  {
   "cell_type": "code",
   "execution_count": 43,
   "metadata": {},
   "outputs": [
    {
     "name": "stdout",
     "output_type": "stream",
     "text": [
      "1\n",
      "2\n",
      "3\n",
      "4\n",
      "5\n",
      "1\n",
      "2\n",
      "3\n",
      "4\n",
      "5\n",
      "1\n",
      "2\n",
      "3\n",
      "4\n",
      "5\n",
      "1\n",
      "2\n",
      "3\n",
      "4\n",
      "5\n"
     ]
    }
   ],
   "source": [
    "mc,cc,pc,cdata,c=plotclassified([syddata1,syddata2],[sydata1,sydata2],2,2,False)\n",
    "mcd,ccd,pcd,cddata,cd=plotclassified([syddata1,syddata2],[sydata1,sydata2],2,2,True)\n",
    "\n",
    "#print(c)\n",
    "#print((cdata[0]))\n",
    "#print((cdata[1]))\n",
    "\n",
    "# for i in range(2):\n",
    "#plotclasschinese(cdata[0],2,mc[0],cc[0],pc[0])\n",
    "# plt.show()"
   ]
  },
  {
   "cell_type": "code",
   "execution_count": 49,
   "metadata": {},
   "outputs": [
    {
     "name": "stdout",
     "output_type": "stream",
     "text": [
      "948\n",
      "928\n",
      "[array([[0.68572369, 0.        ],\n",
      "       [0.        , 3.24845774]]), array([[2.99265617, 0.        ],\n",
      "       [0.        , 4.32240352]])]\n"
     ]
    }
   ],
   "source": [
    "print(c)\n",
    "print(cd)\n",
    "#print(ccd[1])"
   ]
  },
  {
   "cell_type": "code",
   "execution_count": 45,
   "metadata": {},
   "outputs": [
    {
     "data": {
      "image/png": "[encoded data removed]",
      "text/plain": [
       "<Figure size 432x288 with 1 Axes>"
      ]
     },
     "metadata": {
      "needs_background": "light"
     },
     "output_type": "display_data"
    }
   ],
   "source": [
    "x1=[]\n",
    "y1=[]\n",
    "x = np.linspace(-15,5,100)\n",
    "y = np.linspace(0,16,100)\n",
    "z = np.zeros([100,100])\n",
    "for j in range(100):\n",
    "    for k in range(100):\n",
    "        c1 = classifyvalue(mcd[0],ccd[0],pcd[0],[x[j],y[k]])\n",
    "        c2 = classifyvalue(mcd[1],ccd[1],pcd[1],[x[j],y[k]])\n",
    "        if c1<=c2:\n",
    "            z[j][k]=0\n",
    "        else:\n",
    "            z[j][k]=1\n",
    "plt.contourf(x,y,z,cmap='YlGn')   \n",
    "for i in range(len(cdata[0])):\n",
    "    x1.append(cdata[0][i][0])\n",
    "    y1.append(cdata[0][i][1])\n",
    "plotclasschinese(x1,y1,2,mcd[0],ccd[0],pcd[0])\n",
    "x2=[]\n",
    "y2=[]\n",
    "for i in range(len(cdata[1])):\n",
    "    x2.append(cdata[1][i][0])\n",
    "    y2.append(cdata[1][i][1])\n",
    "plotclasschinese(x2,y2,2,mcd[1],ccd[1],pcd[1])\n",
    " \n",
    "#plt.fill(x1,y1)\n",
    "    \n",
    "plt.show()"
   ]
  },
  {
   "cell_type": "code",
   "execution_count": null,
   "metadata": {},
   "outputs": [],
   "source": [
    "def plotroc(ddata,data,mc,cc,pc):\n",
    "    tpr=[]\n",
    "    fpr=[]\n",
    "    for t in range(10):\n",
    "        print(t)\n",
    "        thres = t/10\n",
    "        tp=0\n",
    "        fp=0\n",
    "        tn=0\n",
    "        fn=0\n",
    "        n1=0\n",
    "        n2=0\n",
    "        for i in range(2):\n",
    "            for j in range(ddata[i].shape[0]):\n",
    "                c1 = classifyvalue(mc[0],cc[0],pc[0],ddata[i].loc[j,:])\n",
    "                c2 = classifyvalue(mc[1],cc[1],pc[1],ddata[i].loc[j,:])\n",
    "                if (c1/(c1+c2))>=thres:\n",
    "                        n1=n1+1\n",
    "                if (c2/(c1+c2))>=thres:\n",
    "                        n2=n2+1\n",
    "                if i==0:\n",
    "                    if (c1/(c1+c2))>=thres:\n",
    "                        tp=tp+1\n",
    "                    else:\n",
    "                        fn=fn+1\n",
    "        fp = n1 - tp\n",
    "        tn = ddata[1].shape[0]-fp\n",
    "        tpr.append((tp/(tp+fn)))\n",
    "        fpr.append((fp/(fp+tn)))\n",
    "    plt.plot(fpr,tpr)\n",
    "    return \n",
    "    "
   ]
  },
  {
   "cell_type": "code",
   "execution_count": null,
   "metadata": {},
   "outputs": [],
   "source": [
    "plotroc([syddata1,syddata2],[sydata1,sydata2],mcd,ccd,pcd)\n",
    "plotroc([syddata1,syddata2],[sydata1,sydata2],mc,cc,pc)\n",
    "plt.show()"
   ]
  },
  {
   "cell_type": "code",
   "execution_count": null,
   "metadata": {},
   "outputs": [],
   "source": []
  }
 ],
 "metadata": {
  "kernelspec": {
   "display_name": "Python 3",
   "language": "python",
   "name": "python3"
  },
  "language_info": {
   "codemirror_mode": {
    "name": "ipython",
    "version": 3
   },
   "file_extension": ".py",
   "mimetype": "text/x-python",
   "name": "python",
   "nbconvert_exporter": "python",
   "pygments_lexer": "ipython3",
   "version": "3.7.3"
  }
 },
 "nbformat": 4,
 "nbformat_minor": 2
}
