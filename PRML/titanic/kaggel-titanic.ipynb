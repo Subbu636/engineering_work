{
 "cells": [
  {
   "cell_type": "code",
   "execution_count": 1,
   "metadata": {},
   "outputs": [
    {
     "data": {
      "text/plain": [
       "'\\ngender - male 0, female 1\\nclass - \\nage - take mean for null\\nfare - \\nsurvived - 1, dead - 0\\n'"
      ]
     },
     "execution_count": 1,
     "metadata": {},
     "output_type": "execute_result"
    }
   ],
   "source": [
    "\"\"\"\n",
    "gender - male 0, female 1\n",
    "class - \n",
    "age - take mean for null\n",
    "fare - \n",
    "survived - 1, dead - 0\n",
    "\"\"\""
   ]
  },
  {
   "cell_type": "code",
   "execution_count": 2,
   "metadata": {},
   "outputs": [],
   "source": [
    "import numpy as np\n",
    "import pandas as pd\n",
    "from sklearn.mixture import GaussianMixture as GMM\n",
    "from sklearn import preprocessing\n",
    "from sklearn.model_selection import train_test_split\n",
    "from sklearn.ensemble import RandomForestClassifier\n",
    "from sklearn.metrics import accuracy_score\n",
    "from sklearn import preprocessing"
   ]
  },
  {
   "cell_type": "code",
   "execution_count": 3,
   "metadata": {},
   "outputs": [],
   "source": [
    "pass_data = np.genfromtxt('train.csv', delimiter=',',skip_header=1) # cannot extract all datatypes from csv"
   ]
  },
  {
   "cell_type": "code",
   "execution_count": 4,
   "metadata": {},
   "outputs": [
    {
     "name": "stdout",
     "output_type": "stream",
     "text": [
      "(891, 13)\n"
     ]
    }
   ],
   "source": [
    "print(np.shape(pass_data))"
   ]
  },
  {
   "cell_type": "code",
   "execution_count": 5,
   "metadata": {},
   "outputs": [],
   "source": [
    "train = pd.read_csv('train.csv')"
   ]
  },
  {
   "cell_type": "code",
   "execution_count": 6,
   "metadata": {},
   "outputs": [],
   "source": [
    "# train['Age'].fillna((int(train['Age'].mean())), inplace=True)\n",
    "train['Cabin'].fillna(('M0'),inplace=True)"
   ]
  },
  {
   "cell_type": "code",
   "execution_count": 7,
   "metadata": {},
   "outputs": [],
   "source": [
    "train['fams'] = train['SibSp']+train['Parch']"
   ]
  },
  {
   "cell_type": "code",
   "execution_count": 8,
   "metadata": {},
   "outputs": [
    {
     "name": "stdout",
     "output_type": "stream",
     "text": [
      "B57 B59 B63 B66\n"
     ]
    }
   ],
   "source": [
    "print(train['Cabin'][311]) # add cabin factor here\n",
    "ref = {'M':0,'A':1000,'B':2000,'C':3000,'D':4000,'E':5000,'F':6000,'G':7000,'T':8000}"
   ]
  },
  {
   "cell_type": "code",
   "execution_count": 9,
   "metadata": {},
   "outputs": [
    {
     "name": "stdout",
     "output_type": "stream",
     "text": [
      "0        M0\n",
      "1       C85\n",
      "2        M0\n",
      "3      C123\n",
      "4        M0\n",
      "       ... \n",
      "886      M0\n",
      "887     B42\n",
      "888      M0\n",
      "889    C148\n",
      "890      M0\n",
      "Name: Cabin, Length: 891, dtype: object\n"
     ]
    }
   ],
   "source": [
    "print(train['Cabin'])"
   ]
  },
  {
   "cell_type": "code",
   "execution_count": 10,
   "metadata": {
    "scrolled": true
   },
   "outputs": [
    {
     "name": "stderr",
     "output_type": "stream",
     "text": [
      "/home/subbu/anaconda3/lib/python3.7/site-packages/ipykernel_launcher.py:6: SettingWithCopyWarning: \n",
      "A value is trying to be set on a copy of a slice from a DataFrame\n",
      "\n",
      "See the caveats in the documentation: http://pandas.pydata.org/pandas-docs/stable/user_guide/indexing.html#returning-a-view-versus-a-copy\n",
      "  \n",
      "/home/subbu/anaconda3/lib/python3.7/site-packages/ipykernel_launcher.py:22: SettingWithCopyWarning: \n",
      "A value is trying to be set on a copy of a slice from a DataFrame\n",
      "\n",
      "See the caveats in the documentation: http://pandas.pydata.org/pandas-docs/stable/user_guide/indexing.html#returning-a-view-versus-a-copy\n"
     ]
    }
   ],
   "source": [
    "train['place'] = 0\n",
    "i = 0\n",
    "for cab in train['Cabin']:\n",
    "    # print(cab)\n",
    "    if(cab == 'M0'):\n",
    "        train['place'][i] = None\n",
    "        i += 1\n",
    "        continue\n",
    "    if(cab.find(' ') != -1):\n",
    "        s = cab[1:cab.find(' ')]\n",
    "        if(s == ''):\n",
    "            x = 0\n",
    "        else:\n",
    "            x = int(s)\n",
    "    else:\n",
    "        s = cab[1:]\n",
    "        if(s == ''):\n",
    "            x = 0\n",
    "        else:\n",
    "            x = int(s)\n",
    "    # print(x)\n",
    "    train['place'][i] = ref[cab[0]] + x\n",
    "    # print(train['place'][i])\n",
    "    i += 1"
   ]
  },
  {
   "cell_type": "code",
   "execution_count": 11,
   "metadata": {},
   "outputs": [
    {
     "name": "stdout",
     "output_type": "stream",
     "text": [
      "     PassengerId  Survived  Pclass  \\\n",
      "0              1         0       3   \n",
      "1              2         1       1   \n",
      "2              3         1       3   \n",
      "3              4         1       1   \n",
      "4              5         0       3   \n",
      "..           ...       ...     ...   \n",
      "886          887         0       2   \n",
      "887          888         1       1   \n",
      "888          889         0       3   \n",
      "889          890         1       1   \n",
      "890          891         0       3   \n",
      "\n",
      "                                                  Name     Sex   Age  SibSp  \\\n",
      "0                              Braund, Mr. Owen Harris    male  22.0      1   \n",
      "1    Cumings, Mrs. John Bradley (Florence Briggs Th...  female  38.0      1   \n",
      "2                               Heikkinen, Miss. Laina  female  26.0      0   \n",
      "3         Futrelle, Mrs. Jacques Heath (Lily May Peel)  female  35.0      1   \n",
      "4                             Allen, Mr. William Henry    male  35.0      0   \n",
      "..                                                 ...     ...   ...    ...   \n",
      "886                              Montvila, Rev. Juozas    male  27.0      0   \n",
      "887                       Graham, Miss. Margaret Edith  female  19.0      0   \n",
      "888           Johnston, Miss. Catherine Helen \"Carrie\"  female   NaN      1   \n",
      "889                              Behr, Mr. Karl Howell    male  26.0      0   \n",
      "890                                Dooley, Mr. Patrick    male  32.0      0   \n",
      "\n",
      "     Parch            Ticket     Fare Cabin Embarked  fams   place  \n",
      "0        0         A/5 21171   7.2500    M0        S     1     NaN  \n",
      "1        0          PC 17599  71.2833   C85        C     1  3085.0  \n",
      "2        0  STON/O2. 3101282   7.9250    M0        S     0     NaN  \n",
      "3        0            113803  53.1000  C123        S     1  3123.0  \n",
      "4        0            373450   8.0500    M0        S     0     NaN  \n",
      "..     ...               ...      ...   ...      ...   ...     ...  \n",
      "886      0            211536  13.0000    M0        S     0     NaN  \n",
      "887      0            112053  30.0000   B42        S     0  2042.0  \n",
      "888      2        W./C. 6607  23.4500    M0        S     3     NaN  \n",
      "889      0            111369  30.0000  C148        C     0  3148.0  \n",
      "890      0            370376   7.7500    M0        Q     0     NaN  \n",
      "\n",
      "[891 rows x 14 columns]\n"
     ]
    }
   ],
   "source": [
    "print(train)"
   ]
  },
  {
   "cell_type": "code",
   "execution_count": 12,
   "metadata": {},
   "outputs": [
    {
     "name": "stdout",
     "output_type": "stream",
     "text": [
      "[[ 1.      3.     34.5     7.8292  0.         nan]\n",
      " [ 0.      3.     47.      7.      1.         nan]\n",
      " [ 1.      2.     62.      9.6875  0.         nan]\n",
      " ...\n",
      " [ 1.      3.     38.5     7.25    0.         nan]\n",
      " [ 1.      3.         nan  8.05    0.         nan]\n",
      " [ 1.      3.         nan 22.3583  2.         nan]]\n"
     ]
    },
    {
     "name": "stderr",
     "output_type": "stream",
     "text": [
      "/home/subbu/anaconda3/lib/python3.7/site-packages/ipykernel_launcher.py:12: SettingWithCopyWarning: \n",
      "A value is trying to be set on a copy of a slice from a DataFrame\n",
      "\n",
      "See the caveats in the documentation: http://pandas.pydata.org/pandas-docs/stable/user_guide/indexing.html#returning-a-view-versus-a-copy\n",
      "  if sys.path[0] == '':\n",
      "/home/subbu/anaconda3/lib/python3.7/site-packages/ipykernel_launcher.py:28: SettingWithCopyWarning: \n",
      "A value is trying to be set on a copy of a slice from a DataFrame\n",
      "\n",
      "See the caveats in the documentation: http://pandas.pydata.org/pandas-docs/stable/user_guide/indexing.html#returning-a-view-versus-a-copy\n"
     ]
    }
   ],
   "source": [
    "tst = pd.read_csv('test.csv')\n",
    "# tst['Age'].fillna((int(train['Age'].mean())), inplace=True)\n",
    "# tst['Fare'].fillna((train['Fare'].mean()), inplace=True)\n",
    "tst['Cabin'].fillna('M0', inplace=True)\n",
    "fin_tst = np.zeros((418,6))\n",
    "\n",
    "tst['place'] = 0\n",
    "i = 0\n",
    "for cab in tst['Cabin']:\n",
    "    # print(cab)\n",
    "    if(cab == 'M0'):\n",
    "        tst['place'][i] = None\n",
    "        i += 1\n",
    "        continue\n",
    "    if(cab.find(' ') != -1):\n",
    "        s = cab[1:cab.find(' ')]\n",
    "        if(s == ''):\n",
    "            x = 0\n",
    "        else:\n",
    "            x = int(s)\n",
    "    else:\n",
    "        s = cab[1:]\n",
    "        if(s == ''):\n",
    "            x = 0\n",
    "        else:\n",
    "            x = int(s)\n",
    "    # print(x)\n",
    "    tst['place'][i] = ref[cab[0]] + x\n",
    "    # print(tst['place'][i])\n",
    "    i += 1\n",
    "\n",
    "fin_tst[:,1] = tst['Pclass']\n",
    "fin_tst[:,2] = tst['Age']\n",
    "fin_tst[:,3] = tst['Fare']\n",
    "fin_tst[:,4] = tst['Parch'] + tst['SibSp']\n",
    "fin_tst[:,5] = tst['place']\n",
    "\n",
    "\n",
    "for i in range(418):\n",
    "    if(tst['Sex'][i] == 'male'):\n",
    "        fin_tst[i,0] = 1\n",
    "    else:\n",
    "        fin_tst[i,0] = 0\n",
    "        \n",
    "print(fin_tst)\n",
    "\n"
   ]
  },
  {
   "cell_type": "code",
   "execution_count": 13,
   "metadata": {},
   "outputs": [],
   "source": [
    "fin_train = np.zeros((891,6))"
   ]
  },
  {
   "cell_type": "code",
   "execution_count": 14,
   "metadata": {},
   "outputs": [
    {
     "name": "stdout",
     "output_type": "stream",
     "text": [
      "(891, 6)\n",
      "[[ 1.      3.     22.      7.25    1.    ]\n",
      " [ 0.      1.     38.     71.2833  1.    ]\n",
      " [ 0.      3.     26.      7.925   0.    ]\n",
      " ...\n",
      " [ 0.      3.         nan 23.45    3.    ]\n",
      " [ 1.      1.     26.     30.      0.    ]\n",
      " [ 1.      3.     32.      7.75    0.    ]]\n"
     ]
    }
   ],
   "source": [
    "fin_train[:,1] = train['Pclass']\n",
    "fin_train[:,2] = train['Age']\n",
    "fin_train[:,3] = train['Fare']\n",
    "fin_train[:,4] = train['fams']\n",
    "fin_train[:,5] = train['place']\n",
    "for i in range(891):\n",
    "    if(train['Sex'][i] == 'male'):\n",
    "        fin_train[i,0] = 1\n",
    "    else:\n",
    "        fin_train[i,0] = 0\n",
    "sur = np.zeros(891)        \n",
    "sur[:] = train['Survived']\n",
    "\n",
    "# fin_train = preprocessing.scale(fin_train)\n",
    "\n",
    "\n",
    "        \n",
    "# X_train, X_test, y_train, y_test = train_test_split( fin_train, sur, test_size=0.25, random_state=42)\n",
    "        \n",
    "# sur_train = X_train[(y_train[:] == 1)]\n",
    "# ded_train = X_train[(y_train[:] == 0)]\n",
    "\n",
    "# print(ded_train)\n",
    "# print(np.shape(sur_train))\n",
    "# print(np.shape(ded_train))\n",
    "print(np.shape(fin_train))\n",
    "# print(fin_train)\n",
    "print(fin_train[:,:5])"
   ]
  },
  {
   "cell_type": "code",
   "execution_count": 25,
   "metadata": {},
   "outputs": [
    {
     "name": "stdout",
     "output_type": "stream",
     "text": [
      "(1309, 6)\n",
      "[[1.00000000e+00 3.00000000e+00 2.20000000e+01 7.25000000e+00\n",
      "  1.00000000e+00 3.40981356e+03]\n",
      " [0.00000000e+00 1.00000000e+00 3.80000000e+01 7.12833000e+01\n",
      "  1.00000000e+00 3.08500000e+03]\n",
      " [0.00000000e+00 3.00000000e+00 2.60000000e+01 7.92500000e+00\n",
      "  0.00000000e+00 3.40981356e+03]\n",
      " ...\n",
      " [1.00000000e+00 3.00000000e+00 3.85000000e+01 7.25000000e+00\n",
      "  0.00000000e+00 3.40981356e+03]\n",
      " [1.00000000e+00 3.00000000e+00 2.98811377e+01 8.05000000e+00\n",
      "  0.00000000e+00 3.40981356e+03]\n",
      " [1.00000000e+00 3.00000000e+00 2.98811377e+01 2.23583000e+01\n",
      "  2.00000000e+00 3.40981356e+03]]\n",
      "[[ 7.43496915e-01  8.41916418e-01 -6.11971707e-01 -5.03594861e-01\n",
      "   7.33522906e-02]\n",
      " [-1.34499549e+00 -1.54609786e+00  6.30431068e-01  7.34502564e-01\n",
      "   7.33522906e-02]\n",
      " [-1.34499549e+00  8.41916418e-01 -3.01371013e-01 -4.90543593e-01\n",
      "  -5.58346054e-01]\n",
      " ...\n",
      " [ 7.43496915e-01  8.41916418e-01  6.69256155e-01 -5.03594861e-01\n",
      "  -5.58346054e-01]\n",
      " [ 7.43496915e-01  8.41916418e-01  2.20695067e-15 -4.88126692e-01\n",
      "  -5.58346054e-01]\n",
      " [ 7.43496915e-01  8.41916418e-01  2.20695067e-15 -2.11472679e-01\n",
      "   7.05050636e-01]]\n"
     ]
    }
   ],
   "source": [
    "near_one = np.concatenate((fin_train,fin_tst))\n",
    "print(np.shape(near_one))\n",
    "col_mean = np.nanmean(near_one, axis=0)\n",
    "inds = np.where(np.isnan(near_one))\n",
    "near_one[inds] = np.take(col_mean, inds[1])\n",
    "print(near_one)\n",
    "near_onex = preprocessing.scale(near_one[:,:5])\n",
    "print(near_onex)"
   ]
  },
  {
   "cell_type": "code",
   "execution_count": null,
   "metadata": {},
   "outputs": [],
   "source": [
    "fin_train[0:5,1]"
   ]
  },
  {
   "cell_type": "code",
   "execution_count": null,
   "metadata": {},
   "outputs": [],
   "source": [
    "cmp = 15\n",
    "ite = 200"
   ]
  },
  {
   "cell_type": "code",
   "execution_count": null,
   "metadata": {},
   "outputs": [],
   "source": [
    "gmm1 = GMM(n_components = cmp, max_iter = ite, covariance_type='full',n_init = 3)\n",
    "gmm1.fit(sur_train)"
   ]
  },
  {
   "cell_type": "code",
   "execution_count": null,
   "metadata": {},
   "outputs": [],
   "source": [
    "gmm2 = GMM(n_components = cmp, max_iter = ite, covariance_type='full',n_init = 3)\n",
    "gmm2.fit(ded_train)"
   ]
  },
  {
   "cell_type": "code",
   "execution_count": null,
   "metadata": {},
   "outputs": [],
   "source": [
    "ll_sur = gmm1.score_samples(X_test)\n",
    "ll_ded = gmm2.score_samples(X_test)"
   ]
  },
  {
   "cell_type": "code",
   "execution_count": null,
   "metadata": {},
   "outputs": [],
   "source": [
    "output = np.zeros(np.shape(y_test))\n",
    "print(np.shape(output))\n",
    "for i in range(np.shape(output)[0]):\n",
    "    if (ll_sur[i] > ll_ded[i]):\n",
    "        output[i] = 1"
   ]
  },
  {
   "cell_type": "code",
   "execution_count": null,
   "metadata": {},
   "outputs": [],
   "source": [
    "# print(output,y_test)\n",
    "pd.crosstab(y_test, output, rownames=['Actual'], colnames=['Predicted'])"
   ]
  },
  {
   "cell_type": "code",
   "execution_count": null,
   "metadata": {},
   "outputs": [],
   "source": [
    "accuracy_score(y_test,output)"
   ]
  },
  {
   "cell_type": "code",
   "execution_count": 26,
   "metadata": {},
   "outputs": [],
   "source": [
    "clf = RandomForestClassifier(max_depth=10, random_state=2,n_estimators=200)"
   ]
  },
  {
   "cell_type": "code",
   "execution_count": 27,
   "metadata": {},
   "outputs": [
    {
     "data": {
      "text/plain": [
       "RandomForestClassifier(bootstrap=True, class_weight=None, criterion='gini',\n",
       "                       max_depth=10, max_features='auto', max_leaf_nodes=None,\n",
       "                       min_impurity_decrease=0.0, min_impurity_split=None,\n",
       "                       min_samples_leaf=1, min_samples_split=2,\n",
       "                       min_weight_fraction_leaf=0.0, n_estimators=200,\n",
       "                       n_jobs=None, oob_score=False, random_state=2, verbose=0,\n",
       "                       warm_start=False)"
      ]
     },
     "execution_count": 27,
     "metadata": {},
     "output_type": "execute_result"
    }
   ],
   "source": [
    "clf.fit(near_onex[:891,:],sur)"
   ]
  },
  {
   "cell_type": "code",
   "execution_count": null,
   "metadata": {},
   "outputs": [],
   "source": [
    "preds = clf.predict(X_test[:,:5])\n",
    "print(preds)\n",
    "print(y_test)\n",
    "pd.crosstab(y_test, preds, rownames=['Actual'], colnames=['Predicted'])"
   ]
  },
  {
   "cell_type": "code",
   "execution_count": null,
   "metadata": {},
   "outputs": [],
   "source": [
    "accuracy_score(y_test.flatten(),preds)"
   ]
  },
  {
   "cell_type": "code",
   "execution_count": null,
   "metadata": {},
   "outputs": [],
   "source": [
    "tst = pd.read_csv('test.csv')\n",
    "tst['Age'].fillna((int(train['Age'].mean())), inplace=True)\n",
    "tst['Fare'].fillna((train['Fare'].mean()), inplace=True)\n",
    "tst['Cabin'].fillna('M0', inplace=True)\n",
    "fin_tst = np.zeros((418,6))"
   ]
  },
  {
   "cell_type": "code",
   "execution_count": null,
   "metadata": {
    "scrolled": true
   },
   "outputs": [],
   "source": [
    "tst['place'] = 0\n",
    "i = 0\n",
    "for cab in tst['Cabin']:\n",
    "    print(cab)\n",
    "    if(cab.find(' ') != -1):\n",
    "        s = cab[1:cab.find(' ')]\n",
    "        if(s == ''):\n",
    "            x = 0\n",
    "        else:\n",
    "            x = int(s)\n",
    "    else:\n",
    "        s = cab[1:]\n",
    "        if(s == ''):\n",
    "            x = 0\n",
    "        else:\n",
    "            x = int(s)\n",
    "    # print(x)\n",
    "    tst['place'][i] = ref[cab[0]] + x\n",
    "    print(tst['place'][i])\n",
    "    i += 1\n",
    "    \n",
    "tst['place'].replace(0,int(tst['place'].mean()),inplace=True)"
   ]
  },
  {
   "cell_type": "code",
   "execution_count": null,
   "metadata": {},
   "outputs": [],
   "source": [
    "print(tst['place'])"
   ]
  },
  {
   "cell_type": "code",
   "execution_count": null,
   "metadata": {},
   "outputs": [],
   "source": [
    "fin_tst[:,1] = tst['Pclass']\n",
    "fin_tst[:,2] = tst['Age']\n",
    "fin_tst[:,3] = tst['Fare']\n",
    "fin_tst[:,4] = tst['Parch'] + tst['SibSp']\n",
    "fin_tst[:,5] = 0 # tst['place']/100\n",
    "\n",
    "\n",
    "for i in range(418):\n",
    "    if(tst['Sex'][i] == 'male'):\n",
    "        fin_tst[i,0] = 1\n",
    "    else:\n",
    "        fin_tst[i,0] = 0\n",
    "        \n",
    "print(fin_tst)"
   ]
  },
  {
   "cell_type": "code",
   "execution_count": null,
   "metadata": {},
   "outputs": [],
   "source": [
    "\n",
    "\n",
    "# testing for null\n",
    "print(np.isnan(fin_tst).any())\n"
   ]
  },
  {
   "cell_type": "code",
   "execution_count": 35,
   "metadata": {},
   "outputs": [
    {
     "name": "stdout",
     "output_type": "stream",
     "text": [
      "[0 0 0 0 1 0 0 0 1 0 0 0 1 0 1 1 0 0 0 0 0 0 1 0 1 0 1 0 1 0 0 0 1 0 1 0 0\n",
      " 0 0 1 0 1 0 1 1 0 0 0 1 1 1 0 1 1 0 0 0 0 0 1 0 0 0 1 0 1 1 0 0 1 1 0 1 1\n",
      " 1 0 0 1 0 1 1 0 0 0 0 0 1 0 1 1 0 0 1 0 0 0 1 0 1 0 1 0 0 0 1 0 0 0 0 0 0\n",
      " 1 1 1 1 0 0 1 0 1 1 0 1 0 0 0 0 1 0 0 0 0 0 0 0 0 0 0 0 0 0 1 0 0 1 0 0 0\n",
      " 1 0 1 0 0 0 0 0 1 1 1 0 1 1 1 0 0 1 0 0 1 0 0 0 0 0 0 1 1 0 1 1 0 0 1 0 1\n",
      " 0 1 0 0 0 0 0 1 0 1 0 1 0 0 0 1 1 0 1 0 0 0 0 1 0 0 0 0 1 0 0 1 0 1 0 1 0\n",
      " 1 0 1 0 0 1 0 0 0 1 0 0 0 0 0 0 1 1 1 1 0 0 0 0 1 0 1 0 1 0 0 0 0 0 0 0 1\n",
      " 0 0 0 1 1 0 0 0 0 0 0 0 0 1 1 0 1 0 0 0 0 0 1 1 0 1 0 0 0 0 0 0 0 0 0 0 0\n",
      " 1 0 0 0 0 0 0 0 1 1 1 1 0 0 0 0 0 0 1 1 0 0 0 0 0 0 0 1 1 0 1 0 0 0 1 0 0\n",
      " 0 0 0 0 0 0 0 0 0 0 1 0 1 0 0 0 1 1 0 0 0 1 0 1 0 0 1 0 1 1 0 1 0 0 0 1 0\n",
      " 0 1 0 0 1 1 0 0 0 0 0 0 0 0 0 1 0 0 0 0 0 1 0 0 0 1 0 1 0 0 1 0 1 0 0 0 0\n",
      " 0 1 1 1 1 1 0 1 0 0 0]\n"
     ]
    }
   ],
   "source": [
    "ale = clf.predict(near_onex[891:,:])\n",
    "ans_int = ale.astype(dtype='int')\n",
    "print(ans_int)"
   ]
  },
  {
   "cell_type": "code",
   "execution_count": 36,
   "metadata": {},
   "outputs": [],
   "source": [
    "df = pd.DataFrame({'PassengerId': tst['PassengerId'],'Survived': ans_int})"
   ]
  },
  {
   "cell_type": "code",
   "execution_count": 37,
   "metadata": {},
   "outputs": [
    {
     "name": "stdout",
     "output_type": "stream",
     "text": [
      "PassengerId,Survived\n",
      "892,0\n",
      "893,0\n",
      "894,0\n",
      "895,0\n",
      "896,1\n",
      "897,0\n",
      "898,0\n",
      "899,0\n",
      "900,1\n",
      "901,0\n",
      "902,0\n",
      "903,0\n",
      "904,1\n",
      "905,0\n",
      "906,1\n",
      "907,1\n",
      "908,0\n",
      "909,0\n",
      "910,0\n",
      "911,0\n",
      "912,0\n",
      "913,0\n",
      "914,1\n",
      "915,0\n",
      "916,1\n",
      "917,0\n",
      "918,1\n",
      "919,0\n",
      "920,1\n",
      "921,0\n",
      "922,0\n",
      "923,0\n",
      "924,1\n",
      "925,0\n",
      "926,1\n",
      "927,0\n",
      "928,0\n",
      "929,0\n",
      "930,0\n",
      "931,1\n",
      "932,0\n",
      "933,1\n",
      "934,0\n",
      "935,1\n",
      "936,1\n",
      "937,0\n",
      "938,0\n",
      "939,0\n",
      "940,1\n",
      "941,1\n",
      "942,1\n",
      "943,0\n",
      "944,1\n",
      "945,1\n",
      "946,0\n",
      "947,0\n",
      "948,0\n",
      "949,0\n",
      "950,0\n",
      "951,1\n",
      "952,0\n",
      "953,0\n",
      "954,0\n",
      "955,1\n",
      "956,0\n",
      "957,1\n",
      "958,1\n",
      "959,0\n",
      "960,0\n",
      "961,1\n",
      "962,1\n",
      "963,0\n",
      "964,1\n",
      "965,1\n",
      "966,1\n",
      "967,0\n",
      "968,0\n",
      "969,1\n",
      "970,0\n",
      "971,1\n",
      "972,1\n",
      "973,0\n",
      "974,0\n",
      "975,0\n",
      "976,0\n",
      "977,0\n",
      "978,1\n",
      "979,0\n",
      "980,1\n",
      "981,1\n",
      "982,0\n",
      "983,0\n",
      "984,1\n",
      "985,0\n",
      "986,0\n",
      "987,0\n",
      "988,1\n",
      "989,0\n",
      "990,1\n",
      "991,0\n",
      "992,1\n",
      "993,0\n",
      "994,0\n",
      "995,0\n",
      "996,1\n",
      "997,0\n",
      "998,0\n",
      "999,0\n",
      "1000,0\n",
      "1001,0\n",
      "1002,0\n",
      "1003,1\n",
      "1004,1\n",
      "1005,1\n",
      "1006,1\n",
      "1007,0\n",
      "1008,0\n",
      "1009,1\n",
      "1010,0\n",
      "1011,1\n",
      "1012,1\n",
      "1013,0\n",
      "1014,1\n",
      "1015,0\n",
      "1016,0\n",
      "1017,0\n",
      "1018,0\n",
      "1019,1\n",
      "1020,0\n",
      "1021,0\n",
      "1022,0\n",
      "1023,0\n",
      "1024,0\n",
      "1025,0\n",
      "1026,0\n",
      "1027,0\n",
      "1028,0\n",
      "1029,0\n",
      "1030,0\n",
      "1031,0\n",
      "1032,0\n",
      "1033,1\n",
      "1034,0\n",
      "1035,0\n",
      "1036,1\n",
      "1037,0\n",
      "1038,0\n",
      "1039,0\n",
      "1040,1\n",
      "1041,0\n",
      "1042,1\n",
      "1043,0\n",
      "1044,0\n",
      "1045,0\n",
      "1046,0\n",
      "1047,0\n",
      "1048,1\n",
      "1049,1\n",
      "1050,1\n",
      "1051,0\n",
      "1052,1\n",
      "1053,1\n",
      "1054,1\n",
      "1055,0\n",
      "1056,0\n",
      "1057,1\n",
      "1058,0\n",
      "1059,0\n",
      "1060,1\n",
      "1061,0\n",
      "1062,0\n",
      "1063,0\n",
      "1064,0\n",
      "1065,0\n",
      "1066,0\n",
      "1067,1\n",
      "1068,1\n",
      "1069,0\n",
      "1070,1\n",
      "1071,1\n",
      "1072,0\n",
      "1073,0\n",
      "1074,1\n",
      "1075,0\n",
      "1076,1\n",
      "1077,0\n",
      "1078,1\n",
      "1079,0\n",
      "1080,0\n",
      "1081,0\n",
      "1082,0\n",
      "1083,0\n",
      "1084,1\n",
      "1085,0\n",
      "1086,1\n",
      "1087,0\n",
      "1088,1\n",
      "1089,0\n",
      "1090,0\n",
      "1091,0\n",
      "1092,1\n",
      "1093,1\n",
      "1094,0\n",
      "1095,1\n",
      "1096,0\n",
      "1097,0\n",
      "1098,0\n",
      "1099,0\n",
      "1100,1\n",
      "1101,0\n",
      "1102,0\n",
      "1103,0\n",
      "1104,0\n",
      "1105,1\n",
      "1106,0\n",
      "1107,0\n",
      "1108,1\n",
      "1109,0\n",
      "1110,1\n",
      "1111,0\n",
      "1112,1\n",
      "1113,0\n",
      "1114,1\n",
      "1115,0\n",
      "1116,1\n",
      "1117,0\n",
      "1118,0\n",
      "1119,1\n",
      "1120,0\n",
      "1121,0\n",
      "1122,0\n",
      "1123,1\n",
      "1124,0\n",
      "1125,0\n",
      "1126,0\n",
      "1127,0\n",
      "1128,0\n",
      "1129,0\n",
      "1130,1\n",
      "1131,1\n",
      "1132,1\n",
      "1133,1\n",
      "1134,0\n",
      "1135,0\n",
      "1136,0\n",
      "1137,0\n",
      "1138,1\n",
      "1139,0\n",
      "1140,1\n",
      "1141,0\n",
      "1142,1\n",
      "1143,0\n",
      "1144,0\n",
      "1145,0\n",
      "1146,0\n",
      "1147,0\n",
      "1148,0\n",
      "1149,0\n",
      "1150,1\n",
      "1151,0\n",
      "1152,0\n",
      "1153,0\n",
      "1154,1\n",
      "1155,1\n",
      "1156,0\n",
      "1157,0\n",
      "1158,0\n",
      "1159,0\n",
      "1160,0\n",
      "1161,0\n",
      "1162,0\n",
      "1163,0\n",
      "1164,1\n",
      "1165,1\n",
      "1166,0\n",
      "1167,1\n",
      "1168,0\n",
      "1169,0\n",
      "1170,0\n",
      "1171,0\n",
      "1172,0\n",
      "1173,1\n",
      "1174,1\n",
      "1175,0\n",
      "1176,1\n",
      "1177,0\n",
      "1178,0\n",
      "1179,0\n",
      "1180,0\n",
      "1181,0\n",
      "1182,0\n",
      "1183,0\n",
      "1184,0\n",
      "1185,0\n",
      "1186,0\n",
      "1187,0\n",
      "1188,1\n",
      "1189,0\n",
      "1190,0\n",
      "1191,0\n",
      "1192,0\n",
      "1193,0\n",
      "1194,0\n",
      "1195,0\n",
      "1196,1\n",
      "1197,1\n",
      "1198,1\n",
      "1199,1\n",
      "1200,0\n",
      "1201,0\n",
      "1202,0\n",
      "1203,0\n",
      "1204,0\n",
      "1205,0\n",
      "1206,1\n",
      "1207,1\n",
      "1208,0\n",
      "1209,0\n",
      "1210,0\n",
      "1211,0\n",
      "1212,0\n",
      "1213,0\n",
      "1214,0\n",
      "1215,1\n",
      "1216,1\n",
      "1217,0\n",
      "1218,1\n",
      "1219,0\n",
      "1220,0\n",
      "1221,0\n",
      "1222,1\n",
      "1223,0\n",
      "1224,0\n",
      "1225,0\n",
      "1226,0\n",
      "1227,0\n",
      "1228,0\n",
      "1229,0\n",
      "1230,0\n",
      "1231,0\n",
      "1232,0\n",
      "1233,0\n",
      "1234,0\n",
      "1235,1\n",
      "1236,0\n",
      "1237,1\n",
      "1238,0\n",
      "1239,0\n",
      "1240,0\n",
      "1241,1\n",
      "1242,1\n",
      "1243,0\n",
      "1244,0\n",
      "1245,0\n",
      "1246,1\n",
      "1247,0\n",
      "1248,1\n",
      "1249,0\n",
      "1250,0\n",
      "1251,1\n",
      "1252,0\n",
      "1253,1\n",
      "1254,1\n",
      "1255,0\n",
      "1256,1\n",
      "1257,0\n",
      "1258,0\n",
      "1259,0\n",
      "1260,1\n",
      "1261,0\n",
      "1262,0\n",
      "1263,1\n",
      "1264,0\n",
      "1265,0\n",
      "1266,1\n",
      "1267,1\n",
      "1268,0\n",
      "1269,0\n",
      "1270,0\n",
      "1271,0\n",
      "1272,0\n",
      "1273,0\n",
      "1274,0\n",
      "1275,0\n",
      "1276,0\n",
      "1277,1\n",
      "1278,0\n",
      "1279,0\n",
      "1280,0\n",
      "1281,0\n",
      "1282,0\n",
      "1283,1\n",
      "1284,0\n",
      "1285,0\n",
      "1286,0\n",
      "1287,1\n",
      "1288,0\n",
      "1289,1\n",
      "1290,0\n",
      "1291,0\n",
      "1292,1\n",
      "1293,0\n",
      "1294,1\n",
      "1295,0\n",
      "1296,0\n",
      "1297,0\n",
      "1298,0\n",
      "1299,0\n",
      "1300,1\n",
      "1301,1\n",
      "1302,1\n",
      "1303,1\n",
      "1304,1\n",
      "1305,0\n",
      "1306,1\n",
      "1307,0\n",
      "1308,0\n",
      "1309,0\n",
      "\n"
     ]
    }
   ],
   "source": [
    "ans_csv = df.to_csv(index=False)\n",
    "print(ans_csv)"
   ]
  },
  {
   "cell_type": "code",
   "execution_count": 38,
   "metadata": {},
   "outputs": [],
   "source": [
    "f= open(\"submission.csv\",\"w+\")"
   ]
  },
  {
   "cell_type": "code",
   "execution_count": 39,
   "metadata": {},
   "outputs": [
    {
     "data": {
      "text/plain": [
       "2839"
      ]
     },
     "execution_count": 39,
     "metadata": {},
     "output_type": "execute_result"
    }
   ],
   "source": [
    "f.write(ans_csv)"
   ]
  },
  {
   "cell_type": "code",
   "execution_count": null,
   "metadata": {},
   "outputs": [],
   "source": []
  },
  {
   "cell_type": "code",
   "execution_count": null,
   "metadata": {},
   "outputs": [],
   "source": []
  }
 ],
 "metadata": {
  "kernelspec": {
   "display_name": "Python 3",
   "language": "python",
   "name": "python3"
  },
  "language_info": {
   "codemirror_mode": {
    "name": "ipython",
    "version": 3
   },
   "file_extension": ".py",
   "mimetype": "text/x-python",
   "name": "python",
   "nbconvert_exporter": "python",
   "pygments_lexer": "ipython3",
   "version": "3.8.2"
  }
 },
 "nbformat": 4,
 "nbformat_minor": 2
}
