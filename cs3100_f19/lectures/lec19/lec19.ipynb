{
 "cells": [
  {
   "cell_type": "markdown",
   "metadata": {
    "slideshow": {
     "slide_type": "slide"
    }
   },
   "source": [
    "<center>\n",
    "\n",
    "<h1> Solving a Logic Puzzle </h1>\n",
    "<h2> CS3100 Fall 2019 </h2>\n",
    "</center>"
   ]
  },
  {
   "cell_type": "markdown",
   "metadata": {
    "slideshow": {
     "slide_type": "slide"
    }
   },
   "source": [
    "## Review\n",
    "\n",
    "### Previously\n",
    "\n",
    "* Logical Foundations\n",
    "  + First-order logic\n",
    "  + Definite clauses & Programs\n",
    "  + SLD resolution\n",
    "\n",
    "### This lecture\n",
    "\n",
    "* Solving the Zerbra puzzle"
   ]
  },
  {
   "cell_type": "markdown",
   "metadata": {
    "slideshow": {
     "slide_type": "slide"
    }
   },
   "source": [
    "## Zebra Puzzle\n",
    "\n",
    "1. There are five houses.\n",
    "2. The Englishman lives in the red house.\n",
    "3. The Spaniard owns the dog.\n",
    "4. Coffee is drunk in the green house.\n",
    "5. The Ukrainian drinks tea.\n",
    "6. The green house is immediately to the right of the ivory house.\n",
    "7. The Old Gold smoker owns snails.\n",
    "8. Kools are smoked in the yellow house.\n",
    "9. Milk is drunk in the middle house.\n",
    "10. The Norwegian lives in the first house.\n",
    "11. The man who smokes Chesterfields lives in the house next to the man with the fox.\n",
    "12. Kools are smoked in the house next to the house where the horse is kept.\n",
    "13. The Lucky Strike smoker drinks orange juice.\n",
    "14. The Japanese smokes Parliaments.\n",
    "15. The Norwegian lives next to the blue house.\n",
    "\n",
    "Now, who drinks water? Who owns the zebra?"
   ]
  },
  {
   "cell_type": "markdown",
   "metadata": {
    "slideshow": {
     "slide_type": "slide"
    }
   },
   "source": [
    "## Zebra Puzzle\n",
    "\n",
    "1. There are **five** houses.\n",
    "2. The **Englishman** lives in the **red** house.\n",
    "3. The Spaniard owns the **dog**.\n",
    "4. **Coffee** is drunk in the green house.\n",
    "5. The Ukrainian drinks tea.\n",
    "6. The green house is immediately to the **right of** the ivory house.\n",
    "7. The **Old Gold** smoker owns snails.\n",
    "8. Kools are smoked in the yellow house.\n",
    "9. Milk is drunk in the **middle** house.\n",
    "10. The Norwegian lives in the **first** house.\n",
    "11. The man who smokes Chesterfields lives in the house next to the man with the fox.\n",
    "12. Kools are smoked in the house **next to** the house where the horse is kept.\n",
    "13. The Lucky Strike smoker drinks orange juice.\n",
    "14. The Japanese smokes Parliaments.\n",
    "15. The Norwegian lives **next to** the blue house.\n",
    "\n",
    "Now, who drinks water? Who owns the zebra?"
   ]
  },
  {
   "cell_type": "markdown",
   "metadata": {
    "slideshow": {
     "slide_type": "slide"
    }
   },
   "source": [
    "## Representing a house\n",
    "\n",
    "A house has 5 characteristics:\n",
    "\n",
    "1. Nationality\n",
    "2. Pet\n",
    "3. Smoke\n",
    "4. Drink\n",
    "5. Colour\n",
    "\n",
    "We can define a function `house(Nationality,Pet,Smoke,Drink,Colour)` to represent this. \n",
    "\n",
    "We represent the row of houses as a 5-tuple `(H1,H2,H3,H4,H5)`."
   ]
  },
  {
   "cell_type": "markdown",
   "metadata": {
    "slideshow": {
     "slide_type": "slide"
    }
   },
   "source": [
    "## Quiz\n",
    "\n",
    "What sort of a term is `house(Nationality,Pet,Smoke,Drink,Colour)`?\n",
    "\n",
    "1. Number\n",
    "2. Compound Term\n",
    "3. Variable\n",
    "4. Constant"
   ]
  },
  {
   "cell_type": "markdown",
   "metadata": {
    "slideshow": {
     "slide_type": "slide"
    }
   },
   "source": [
    "## Quiz\n",
    "\n",
    "What sort of a term is `house(Nationality,Pet,Smoke,Drink,Colour)`?\n",
    "\n",
    "1. Number\n",
    "2. Compound Term **✓**\n",
    "3. Variable\n",
    "4. Constant"
   ]
  },
  {
   "cell_type": "markdown",
   "metadata": {
    "slideshow": {
     "slide_type": "slide"
    }
   },
   "source": [
    "## Quiz\n",
    "\n",
    "What sort of a term is `(Nationality,Pet,Smoke,Drink,Colour)`?\n",
    "\n",
    "1. Number\n",
    "2. Compound Term\n",
    "3. Variable\n",
    "4. Constant"
   ]
  },
  {
   "cell_type": "markdown",
   "metadata": {
    "slideshow": {
     "slide_type": "slide"
    }
   },
   "source": [
    "## Quiz\n",
    "\n",
    "What sort of a term is `(Nationality,Pet,Smoke,Drink,Colour)`?\n",
    "\n",
    "1. Number\n",
    "2. Compound Term **✓**\n",
    "3. Variable\n",
    "4. Constant\n",
    "\n",
    "A tuple is a compond term with no explicit function symbol. "
   ]
  },
  {
   "cell_type": "markdown",
   "metadata": {
    "slideshow": {
     "slide_type": "slide"
    }
   },
   "source": [
    "## Define the house-existence facts\n",
    "\n",
    "* We want to convey this sort of house exists in this position. \n",
    "  + So define a predicate `exists` that captures this fact."
   ]
  },
  {
   "cell_type": "code",
   "execution_count": 1,
   "metadata": {
    "slideshow": {
     "slide_type": "-"
    }
   },
   "outputs": [
    {
     "name": "stdout",
     "output_type": "stream",
     "text": [
      "Added 5 rule(s)."
     ]
    }
   ],
   "source": [
    "exists(A,(A,_,_,_,_)).\n",
    "exists(A,(_,A,_,_,_)).\n",
    "exists(A,(_,_,A,_,_)).\n",
    "exists(A,(_,_,_,A,_)).\n",
    "exists(A,(_,_,_,_,A))."
   ]
  },
  {
   "cell_type": "code",
   "execution_count": 2,
   "metadata": {},
   "outputs": [
    {
     "name": "stdout",
     "output_type": "stream",
     "text": [
      "true."
     ]
    }
   ],
   "source": [
    "?- exists(h1,(h1,h2,h3,h4,h5))."
   ]
  },
  {
   "cell_type": "code",
   "execution_count": 3,
   "metadata": {},
   "outputs": [
    {
     "name": "stdout",
     "output_type": "stream",
     "text": [
      "true."
     ]
    }
   ],
   "source": [
    "?- exists(h2,(h1,h2,h3,h4,h5))."
   ]
  },
  {
   "cell_type": "code",
   "execution_count": 4,
   "metadata": {},
   "outputs": [
    {
     "name": "stdout",
     "output_type": "stream",
     "text": [
      "false."
     ]
    }
   ],
   "source": [
    "?- exists(h6,(h1,h2,h3,h4,h5))."
   ]
  },
  {
   "cell_type": "markdown",
   "metadata": {
    "slideshow": {
     "slide_type": "slide"
    }
   },
   "source": [
    "## Quiz\n",
    "\n",
    "Which of these queries returns true?\n",
    "\n",
    "1. exists(dog,(fly,spider,bird,cat,dog)).\n",
    "2. exists(dog,(fly,spider,bird,cat)).\n",
    "3. exists(dog).\n",
    "4. exists(house(english,red), (house(spanish,green), house(french,orange), house(dutch,yellow), house(german,blue), house(english,_))."
   ]
  },
  {
   "cell_type": "markdown",
   "metadata": {
    "slideshow": {
     "slide_type": "slide"
    }
   },
   "source": [
    "## Quiz\n",
    "\n",
    "Which of these queries returns true?\n",
    "\n",
    "1. exists(dog,(fly,spider,bird,cat,dog)). **yes**\n",
    "2. exists(dog,(fly,spider,bird,cat)). **no**\n",
    "3. exists(dog). **no**\n",
    "4. exists(house(english,red), (house(spanish,green), house(french,orange), house(dutch,yellow), house(german,blue), house(english,_)). **yes**"
   ]
  },
  {
   "cell_type": "markdown",
   "metadata": {
    "slideshow": {
     "slide_type": "slide"
    }
   },
   "source": [
    "## rightOf\n",
    "\n",
    "    6. The green house is immediately to the right of the ivory house."
   ]
  },
  {
   "cell_type": "code",
   "execution_count": 5,
   "metadata": {},
   "outputs": [
    {
     "name": "stdout",
     "output_type": "stream",
     "text": [
      "Added 4 rule(s)."
     ]
    }
   ],
   "source": [
    "rightOf(A,B,(B,A,_,_,_)).\n",
    "rightOf(A,B,(_,B,A,_,_)).\n",
    "rightOf(A,B,(_,_,B,A,_)).\n",
    "rightOf(A,B,(_,_,_,B,A))."
   ]
  },
  {
   "cell_type": "markdown",
   "metadata": {
    "slideshow": {
     "slide_type": "slide"
    }
   },
   "source": [
    "## middle and first house\n",
    "\n",
    "    9. Milk is drunk in the middle house."
   ]
  },
  {
   "cell_type": "code",
   "execution_count": 6,
   "metadata": {},
   "outputs": [
    {
     "name": "stdout",
     "output_type": "stream",
     "text": [
      "Added 1 rule(s)."
     ]
    }
   ],
   "source": [
    "middleHouse(A,(_,_,A,_,_))."
   ]
  },
  {
   "cell_type": "markdown",
   "metadata": {
    "slideshow": {
     "slide_type": "-"
    }
   },
   "source": [
    "    10. The Norwegian lives in the first house."
   ]
  },
  {
   "cell_type": "code",
   "execution_count": 7,
   "metadata": {},
   "outputs": [
    {
     "name": "stdout",
     "output_type": "stream",
     "text": [
      "Added 1 rule(s)."
     ]
    }
   ],
   "source": [
    "firstHouse(A,(A,_,_,_,_))."
   ]
  },
  {
   "cell_type": "markdown",
   "metadata": {
    "slideshow": {
     "slide_type": "slide"
    }
   },
   "source": [
    "## nextTo \n",
    "\n",
    "    12. Kools are smoked in the house next to the house where the horse is kept.\n",
    "    15. The Norwegian lives next to the blue house."
   ]
  },
  {
   "cell_type": "code",
   "execution_count": 8,
   "metadata": {},
   "outputs": [
    {
     "name": "stdout",
     "output_type": "stream",
     "text": [
      "Added 5 rule(s)."
     ]
    }
   ],
   "source": [
    "nextTo(A,B,H) :- rightOf(A,B,H).\n",
    "nextTo(A,B,(A,B,_,_,_)).\n",
    "nextTo(A,B,(_,A,B,_,_)).\n",
    "nextTo(A,B,(_,_,A,B,_)).\n",
    "nextTo(A,B,(_,_,_,A,B))."
   ]
  },
  {
   "cell_type": "markdown",
   "metadata": {
    "slideshow": {
     "slide_type": "slide"
    }
   },
   "source": [
    "## Express the puzzle as a Query"
   ]
  },
  {
   "cell_type": "code",
   "execution_count": 9,
   "metadata": {
    "scrolled": true
   },
   "outputs": [
    {
     "name": "stdout",
     "output_type": "stream",
     "text": [
      "Houses = ,(house(norwegian, fox, kools, water, yellow), ,(house(ukranian, horse, chesterfields, tea, blue), ,(house(british, snail, oldgold, milk, red), ,(house(spanish, dog, luckystrike, orangejuice, ivory), house(japanese, zebra, parliaments, coffee, green))))), WaterDrinker = norwegian, ZebraOwner = japanese ."
     ]
    }
   ],
   "source": [
    "?- exists(house(british,_,_,_,red),Houses),\n",
    "exists(house(spanish,dog,_,_,_),Houses),\n",
    "exists(house(_,_,_,coffee,green),Houses),\n",
    "exists(house(ukranian,_,_,tea,_),Houses),\n",
    "rightOf(house(_,_,_,_,green),house(_,_,_,_,ivory),Houses),\n",
    "exists(house(_,snail,oldgold,_,_),Houses),\n",
    "exists(house(_,_,kools,_,yellow),Houses),\n",
    "middleHouse(house(_,_,_,milk,_),Houses),\n",
    "firstHouse(house(norwegian,_,_,_,_),Houses),\n",
    "nextTo(house(_,_,chesterfields,_,_),house(_,fox,_,_,_),Houses),\n",
    "nextTo(house(_,_,kools,_,_),house(_,horse,_,_,_),Houses),\n",
    "exists(house(_,_,luckystrike,orangejuice,_),Houses),\n",
    "exists(house(japanese,_,parliaments,_,_),Houses),\n",
    "nextTo(house(norwegian,_,_,_,_),house(_,_,_,_,blue),Houses),\n",
    "exists(house(WaterDrinker,_,_,water,_),Houses),\n",
    "exists(house(ZebraOwner,zebra,_,_,_),Houses)."
   ]
  },
  {
   "cell_type": "code",
   "execution_count": 1,
   "metadata": {},
   "outputs": [
    {
     "name": "stdout",
     "output_type": "stream",
     "text": [
      "ERROR: Caused by: '  exists(house(british,_,_,_,red),Houses), exists(house(spanish,dog,_,_,_),Houses) '. Returned: 'error(existence_error(procedure, /(exists, 2)), context(:(system, /(<meta-call>, 1)), _G1117))'."
     ]
    }
   ],
   "source": [
    "?- exists(house(british,_,_,_,red),Houses),\n",
    "exists(house(spanish,dog,_,_,_),Houses) {40}."
   ]
  },
  {
   "cell_type": "markdown",
   "metadata": {
    "slideshow": {
     "slide_type": "slide"
    }
   },
   "source": [
    "## Express the puzzle as a rule"
   ]
  },
  {
   "cell_type": "code",
   "execution_count": 11,
   "metadata": {},
   "outputs": [
    {
     "name": "stdout",
     "output_type": "stream",
     "text": [
      "Added 1 rule(s)."
     ]
    }
   ],
   "source": [
    "puzzle(Houses) :- exists(house(british,_,_,_,red),Houses),\n",
    "                  exists(house(spanish,dog,_,_,_),Houses),\n",
    "                  exists(house(_,_,_,coffee,green),Houses),\n",
    "                  exists(house(ukranian,_,_,tea,_),Houses),\n",
    "                  rightOf(house(_,_,_,_,green),house(_,_,_,_,ivory),Houses),\n",
    "                  exists(house(_,snail,oldgold,_,_),Houses),\n",
    "                  exists(house(_,_,kools,_,yellow),Houses),\n",
    "                  middleHouse(house(_,_,_,milk,_),Houses),\n",
    "                  firstHouse(house(norwegian,_,_,_,_),Houses),\n",
    "                  nextTo(house(_,_,chesterfields,_,_),house(_,fox,_,_,_),Houses),\n",
    "                  nextTo(house(_,_,kools,_,_),house(_,horse,_,_,_),Houses),\n",
    "                  exists(house(_,_,luckystrike,orangejuice,_),Houses),\n",
    "                  exists(house(japanese,_,parliaments,_,_),Houses),\n",
    "                  nextTo(house(norwegian,_,_,_,_),house(_,_,_,_,blue),Houses)."
   ]
  },
  {
   "cell_type": "markdown",
   "metadata": {
    "slideshow": {
     "slide_type": "slide"
    }
   },
   "source": [
    "## Express the puzzle as a rule\n",
    "\n",
    "Who is the zebra owner?"
   ]
  },
  {
   "cell_type": "code",
   "execution_count": 12,
   "metadata": {},
   "outputs": [
    {
     "name": "stdout",
     "output_type": "stream",
     "text": [
      "Houses = ,(house(norwegian, fox, kools, _G1081, yellow), ,(house(ukranian, horse, chesterfields, tea, blue), ,(house(british, snail, oldgold, milk, red), ,(house(spanish, dog, luckystrike, orangejuice, ivory), house(japanese, zebra, parliaments, coffee, green))))), ZebraOwner = japanese ."
     ]
    }
   ],
   "source": [
    "?- puzzle(Houses), exists(house(ZebraOwner,zebra,_,_,_),Houses)."
   ]
  },
  {
   "cell_type": "markdown",
   "metadata": {},
   "source": [
    "Who is the water drinker?"
   ]
  },
  {
   "cell_type": "code",
   "execution_count": 13,
   "metadata": {},
   "outputs": [
    {
     "name": "stdout",
     "output_type": "stream",
     "text": [
      "Houses = ,(house(norwegian, fox, kools, water, yellow), ,(house(ukranian, horse, chesterfields, tea, blue), ,(house(british, snail, oldgold, milk, red), ,(house(spanish, dog, luckystrike, orangejuice, ivory), house(japanese, _G1055, parliaments, coffee, green))))), WaterDrinker = norwegian ."
     ]
    }
   ],
   "source": [
    "?- puzzle(Houses), exists(house(WaterDrinker,_,_,water,_),Houses)."
   ]
  },
  {
   "cell_type": "markdown",
   "metadata": {
    "slideshow": {
     "slide_type": "slide"
    }
   },
   "source": [
    "<center>\n",
    "\n",
    "<h1> Fin. </h1>\n",
    "</center>"
   ]
  }
 ],
 "metadata": {
  "celltoolbar": "Slideshow",
  "kernelspec": {
   "display_name": "SWI-Prolog",
   "language": "",
   "name": "jswipl"
  },
  "language_info": {
   "mimetype": "text/plain",
   "name": "swipl"
  }
 },
 "nbformat": 4,
 "nbformat_minor": 2
}
